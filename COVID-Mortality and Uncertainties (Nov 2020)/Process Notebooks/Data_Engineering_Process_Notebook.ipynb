{
  "nbformat": 4,
  "nbformat_minor": 0,
  "metadata": {
    "colab": {
      "name": "Data Engineering Process Notebook",
      "provenance": [],
      "collapsed_sections": []
    },
    "kernelspec": {
      "name": "python3",
      "display_name": "Python 3"
    }
  },
  "cells": [
    {
      "cell_type": "markdown",
      "metadata": {
        "id": "-X3TRvniwzQ3"
      },
      "source": [
        "# **Data Engineering Process Notebook**\n",
        "\n",
        "## Author: Sherry Wang\n",
        "## Date: 2nd of Nov (edited on 4th & 6th of Nov)\n",
        "---"
      ]
    },
    {
      "cell_type": "markdown",
      "metadata": {
        "id": "SqPH0qAbqCZ9"
      },
      "source": [
        "The purpose of this section is to load in the datasets required in addressing the driving question and conduct data engineering to prepare the datasets ready for the analysis.\n",
        "\n",
        "In total, there are 6 different datasets that will be imported for the data analysis. The main dataset used in this notebook is sourced from [Our World in Data](https://ourworldindata.org/coronavirus). And supplementary data is from [John Hopkins University](https://coronavirus.jhu.edu/map.html) specifically to obtain the numbers of recovered cases for each country. Both data sources are updated daily retrieved directlt from the Github link and both datasets includes COVID data for Australia, Brazil, India, Russia, South Africa and United States, which is suitable for this notebook's purpose. Note that since these raw data is sourced directly from the Github link that is managed by the two organisations, hence both raw data have been **preserved immutability**.\n",
        "\n",
        "Since we would like to estimate the number of true infection cases in order to determine how deadly or what's the risk of Covid. The 5 other datasets are sourced from ['Our World in Data'](https://ourworldindata.org/covid-models) which is data of the epidemiological models for COVID-19 that allows us to choose the most appropriate model to estimate the infected cases in each country. It is also important to note that these model files have not been preserved thier immutability as we would like them to, since they require downloads and re-upload on our group Github.\n",
        "\n",
        "\n"
      ]
    },
    {
      "cell_type": "markdown",
      "metadata": {
        "id": "0VIJT50QrVT2"
      },
      "source": [
        "## Import Libraries\n",
        "- *These sections below are written on the 4th of Nov*\n",
        "\n",
        "The code below imports essential packages in order to conduct analysis. Main libraries used in this notebook are Pandas, Matplotlib, Plotly, Numpy, Seaborn snd Datetime. \n"
      ]
    },
    {
      "cell_type": "code",
      "metadata": {
        "id": "2GwTNmvqwFuW"
      },
      "source": [
        "import pandas as pd\n",
        "%matplotlib inline\n",
        "import matplotlib.pyplot as plt\n",
        "import numpy as np\n",
        "import seaborn as sns\n",
        "import plotly.express as px\n",
        "import plotly.graph_objects as go\n",
        "import datetime\n",
        "from math import log10, floor\n",
        "import sympy as sp \n",
        "from plotly.subplots import make_subplots\n",
        "from google.colab import files"
      ],
      "execution_count": 1,
      "outputs": []
    },
    {
      "cell_type": "markdown",
      "metadata": {
        "id": "tRQzmQdSsFi5"
      },
      "source": [
        "The libraries have been imported in the code above.\n",
        "\n",
        "Now we need to install Orca package, it converts the interactive plotly graphs into static images, so that the plotly charts are able to display when downloaded either in pdf or ipynb files when uploaded into Github. This package installation is retreived from: https://plotly.com/python/orca-management/"
      ]
    },
    {
      "cell_type": "code",
      "metadata": {
        "id": "YXPhknXJsG0e",
        "outputId": "0fff43e2-c63f-4e8a-e2e8-748edb04a0a2",
        "colab": {
          "base_uri": "https://localhost:8080/",
          "height": 52
        }
      },
      "source": [
        "'''!pip install plotly>=4.7.1\n",
        "!wget https://github.com/plotly/orca/releases/download/v1.2.1/orca-1.2.1-x86_64.AppImage -O /usr/local/bin/orca\n",
        "!chmod +x /usr/local/bin/orca\n",
        "!apt-get install xvfb libgtk2.0-0 libgconf-2-4\n",
        "'''"
      ],
      "execution_count": 2,
      "outputs": [
        {
          "output_type": "execute_result",
          "data": {
            "application/vnd.google.colaboratory.intrinsic+json": {
              "type": "string"
            },
            "text/plain": [
              "'!pip install plotly>=4.7.1\\n!wget https://github.com/plotly/orca/releases/download/v1.2.1/orca-1.2.1-x86_64.AppImage -O /usr/local/bin/orca\\n!chmod +x /usr/local/bin/orca\\n!apt-get install xvfb libgtk2.0-0 libgconf-2-4\\n'"
            ]
          },
          "metadata": {
            "tags": []
          },
          "execution_count": 2
        }
      ]
    },
    {
      "cell_type": "markdown",
      "metadata": {
        "id": "7H5w5BNRsh2k"
      },
      "source": [
        "All required libraies and packages are installed in the section above. Now we can continue with reading in all the raw data that will be used in the following analysis."
      ]
    },
    {
      "cell_type": "markdown",
      "metadata": {
        "id": "FooEKNJ-rame"
      },
      "source": [
        "## Load in Datasets\n",
        "\n",
        "\n",
        "We need to load in our data to begin the analysis. The code below reads in the global COVID-19 data from the \"Our World in Data\" source straight from the GitHub repository to ensure the most updated version is being used in this analysis as updates are made daily. "
      ]
    },
    {
      "cell_type": "code",
      "metadata": {
        "id": "j5vCQFWOw8Tn"
      },
      "source": [
        "df=pd.read_csv(\"https://raw.githubusercontent.com/owid/covid-19-data/master/public/data/owid-covid-data.csv\")"
      ],
      "execution_count": 3,
      "outputs": []
    },
    {
      "cell_type": "markdown",
      "metadata": {
        "id": "VvxuvivVtRNh"
      },
      "source": [
        "The file sourced from \"Our World in Data\" is read into this notebook as *'df'* as it is the main dataset that our analysis is based on. \n",
        "\n",
        "Same step is done to load in the \"John Hopkins\" dataset , as the \"Our World in Data\" does not have the recovered data for each country that we would like explore."
      ]
    },
    {
      "cell_type": "code",
      "metadata": {
        "id": "ZGL5gf2jw8Q6"
      },
      "source": [
        "jh_recovered=pd.read_csv('https://raw.githubusercontent.com/CSSEGISandData/COVID-19/master/csse_covid_19_data/csse_covid_19_time_series/time_series_covid19_recovered_global.csv')"
      ],
      "execution_count": 4,
      "outputs": []
    },
    {
      "cell_type": "markdown",
      "metadata": {
        "id": "Xxqu060Xq5L-"
      },
      "source": [
        "Note that the data has been loaded above.  John Hopkins data for recovered cases named as *'jh_recovered'*.\n",
        "\n",
        "Next we will load in the datasets for the estimations of the infection cases by 4 different models, this is for the purpose of exploring the different models."
      ]
    },
    {
      "cell_type": "code",
      "metadata": {
        "id": "IiZLNm4PrR-5"
      },
      "source": [
        "estimate=pd.read_csv('https://raw.github.sydney.edu.au/swan9801/R13B-Group4-COVID/master/Checkpoint%202/Model%20Datasets/daily-new-estimated-infections-of-covid-19.csv?token=AAABCWMB432J6ZRQE7SCXDC7VUFZO')"
      ],
      "execution_count": 5,
      "outputs": []
    },
    {
      "cell_type": "markdown",
      "metadata": {
        "id": "UnkTHV2i47dj"
      },
      "source": [
        "The dataset for all 4 models's estimation is loaded in as above  and assigned to *'estimate'*.\n",
        "\n",
        "The following line will load in 4 models (data consisting the model's upper and lower bound for estimations) that we used for calculating the Infection Fatality Rates."
      ]
    },
    {
      "cell_type": "code",
      "metadata": {
        "id": "uccp_kAp6ky1"
      },
      "source": [
        "icl=pd.read_csv('https://raw.github.sydney.edu.au/swan9801/R13B-Group4-COVID/master/Checkpoint%202/Model%20Datasets/daily-new-estimated-covid-19-infections-icl-model.csv?token=AAABCWN3WZDCRRBJZWTXG227VUF5Y')\n",
        "ihme=pd.read_csv('https://raw.github.sydney.edu.au/swan9801/R13B-Group4-COVID/master/Checkpoint%202/Model%20Datasets/daily-new-estimated-covid-19-infections-ihme-model.csv?token=AAABCWKQ7LENULGBAYZAQMK7VUF4A')\n",
        "yyg=pd.read_csv('https://raw.github.sydney.edu.au/swan9801/R13B-Group4-COVID/master/Checkpoint%202/Model%20Datasets/daily-new-estimated-covid-19-infections-yyg-model.csv?token=AAABCWMEORQEATLQ3EEU7YC7VUFXK')\n",
        "ishtm=pd.read_csv('https://raw.github.sydney.edu.au/swan9801/R13B-Group4-COVID/master/Checkpoint%202/Model%20Datasets/daily-new-estimated-covid-19-infections-lshtm-mode.csv?token=AAABCWK62GZMUFVRWFNUPFS7VUFV2')"
      ],
      "execution_count": 6,
      "outputs": []
    },
    {
      "cell_type": "markdown",
      "metadata": {
        "id": "Y0VfOHR780o3"
      },
      "source": [
        "All 4 model datasets are loaded in separately and each named after their model name,including *ICL,IHME* and *YYG* Infection cases estimation model."
      ]
    },
    {
      "cell_type": "markdown",
      "metadata": {
        "id": "mdvYdPcWxNxY"
      },
      "source": [
        "## Data Engineering\n",
        "\n",
        "### Data Munging\n",
        "First we will go through the process of data munging to transform into another data format to make it appropriate for data analysis. Ideally, we would like to work with only one dataset as this makes data wrangling and exploration easier than working on two separate datasets, hence *jh_recovered* is transformed so that it can merge with *df*.\n",
        "\n",
        "We print out the first five rows for *jh_recovered* dataset."
      ]
    },
    {
      "cell_type": "code",
      "metadata": {
        "id": "puEvSvycIcxi",
        "outputId": "77e3183b-f894-4a5e-9aa6-0d4339a2737e",
        "colab": {
          "base_uri": "https://localhost:8080/",
          "height": 253
        }
      },
      "source": [
        "jh_recovered.head()"
      ],
      "execution_count": 7,
      "outputs": [
        {
          "output_type": "execute_result",
          "data": {
            "text/html": [
              "<div>\n",
              "<style scoped>\n",
              "    .dataframe tbody tr th:only-of-type {\n",
              "        vertical-align: middle;\n",
              "    }\n",
              "\n",
              "    .dataframe tbody tr th {\n",
              "        vertical-align: top;\n",
              "    }\n",
              "\n",
              "    .dataframe thead th {\n",
              "        text-align: right;\n",
              "    }\n",
              "</style>\n",
              "<table border=\"1\" class=\"dataframe\">\n",
              "  <thead>\n",
              "    <tr style=\"text-align: right;\">\n",
              "      <th></th>\n",
              "      <th>Province/State</th>\n",
              "      <th>Country/Region</th>\n",
              "      <th>Lat</th>\n",
              "      <th>Long</th>\n",
              "      <th>1/22/20</th>\n",
              "      <th>1/23/20</th>\n",
              "      <th>1/24/20</th>\n",
              "      <th>1/25/20</th>\n",
              "      <th>1/26/20</th>\n",
              "      <th>1/27/20</th>\n",
              "      <th>1/28/20</th>\n",
              "      <th>1/29/20</th>\n",
              "      <th>1/30/20</th>\n",
              "      <th>1/31/20</th>\n",
              "      <th>2/1/20</th>\n",
              "      <th>2/2/20</th>\n",
              "      <th>2/3/20</th>\n",
              "      <th>2/4/20</th>\n",
              "      <th>2/5/20</th>\n",
              "      <th>2/6/20</th>\n",
              "      <th>2/7/20</th>\n",
              "      <th>2/8/20</th>\n",
              "      <th>2/9/20</th>\n",
              "      <th>2/10/20</th>\n",
              "      <th>2/11/20</th>\n",
              "      <th>2/12/20</th>\n",
              "      <th>2/13/20</th>\n",
              "      <th>2/14/20</th>\n",
              "      <th>2/15/20</th>\n",
              "      <th>2/16/20</th>\n",
              "      <th>2/17/20</th>\n",
              "      <th>2/18/20</th>\n",
              "      <th>2/19/20</th>\n",
              "      <th>2/20/20</th>\n",
              "      <th>2/21/20</th>\n",
              "      <th>2/22/20</th>\n",
              "      <th>2/23/20</th>\n",
              "      <th>2/24/20</th>\n",
              "      <th>2/25/20</th>\n",
              "      <th>2/26/20</th>\n",
              "      <th>...</th>\n",
              "      <th>9/29/20</th>\n",
              "      <th>9/30/20</th>\n",
              "      <th>10/1/20</th>\n",
              "      <th>10/2/20</th>\n",
              "      <th>10/3/20</th>\n",
              "      <th>10/4/20</th>\n",
              "      <th>10/5/20</th>\n",
              "      <th>10/6/20</th>\n",
              "      <th>10/7/20</th>\n",
              "      <th>10/8/20</th>\n",
              "      <th>10/9/20</th>\n",
              "      <th>10/10/20</th>\n",
              "      <th>10/11/20</th>\n",
              "      <th>10/12/20</th>\n",
              "      <th>10/13/20</th>\n",
              "      <th>10/14/20</th>\n",
              "      <th>10/15/20</th>\n",
              "      <th>10/16/20</th>\n",
              "      <th>10/17/20</th>\n",
              "      <th>10/18/20</th>\n",
              "      <th>10/19/20</th>\n",
              "      <th>10/20/20</th>\n",
              "      <th>10/21/20</th>\n",
              "      <th>10/22/20</th>\n",
              "      <th>10/23/20</th>\n",
              "      <th>10/24/20</th>\n",
              "      <th>10/25/20</th>\n",
              "      <th>10/26/20</th>\n",
              "      <th>10/27/20</th>\n",
              "      <th>10/28/20</th>\n",
              "      <th>10/29/20</th>\n",
              "      <th>10/30/20</th>\n",
              "      <th>10/31/20</th>\n",
              "      <th>11/1/20</th>\n",
              "      <th>11/2/20</th>\n",
              "      <th>11/3/20</th>\n",
              "      <th>11/4/20</th>\n",
              "      <th>11/5/20</th>\n",
              "      <th>11/6/20</th>\n",
              "      <th>11/7/20</th>\n",
              "    </tr>\n",
              "  </thead>\n",
              "  <tbody>\n",
              "    <tr>\n",
              "      <th>0</th>\n",
              "      <td>NaN</td>\n",
              "      <td>Afghanistan</td>\n",
              "      <td>33.93911</td>\n",
              "      <td>67.709953</td>\n",
              "      <td>0</td>\n",
              "      <td>0</td>\n",
              "      <td>0</td>\n",
              "      <td>0</td>\n",
              "      <td>0</td>\n",
              "      <td>0</td>\n",
              "      <td>0</td>\n",
              "      <td>0</td>\n",
              "      <td>0</td>\n",
              "      <td>0</td>\n",
              "      <td>0</td>\n",
              "      <td>0</td>\n",
              "      <td>0</td>\n",
              "      <td>0</td>\n",
              "      <td>0</td>\n",
              "      <td>0</td>\n",
              "      <td>0</td>\n",
              "      <td>0</td>\n",
              "      <td>0</td>\n",
              "      <td>0</td>\n",
              "      <td>0</td>\n",
              "      <td>0</td>\n",
              "      <td>0</td>\n",
              "      <td>0</td>\n",
              "      <td>0</td>\n",
              "      <td>0</td>\n",
              "      <td>0</td>\n",
              "      <td>0</td>\n",
              "      <td>0</td>\n",
              "      <td>0</td>\n",
              "      <td>0</td>\n",
              "      <td>0</td>\n",
              "      <td>0</td>\n",
              "      <td>0</td>\n",
              "      <td>0</td>\n",
              "      <td>0</td>\n",
              "      <td>...</td>\n",
              "      <td>32746</td>\n",
              "      <td>32789</td>\n",
              "      <td>32842</td>\n",
              "      <td>32842</td>\n",
              "      <td>32842</td>\n",
              "      <td>32852</td>\n",
              "      <td>32879</td>\n",
              "      <td>32977</td>\n",
              "      <td>33045</td>\n",
              "      <td>33058</td>\n",
              "      <td>33058</td>\n",
              "      <td>33064</td>\n",
              "      <td>33114</td>\n",
              "      <td>33118</td>\n",
              "      <td>33308</td>\n",
              "      <td>33354</td>\n",
              "      <td>33447</td>\n",
              "      <td>33516</td>\n",
              "      <td>33561</td>\n",
              "      <td>33614</td>\n",
              "      <td>33760</td>\n",
              "      <td>33790</td>\n",
              "      <td>33824</td>\n",
              "      <td>33831</td>\n",
              "      <td>34010</td>\n",
              "      <td>34023</td>\n",
              "      <td>34129</td>\n",
              "      <td>34150</td>\n",
              "      <td>34217</td>\n",
              "      <td>34237</td>\n",
              "      <td>34239</td>\n",
              "      <td>34258</td>\n",
              "      <td>34321</td>\n",
              "      <td>34326</td>\n",
              "      <td>34342</td>\n",
              "      <td>34355</td>\n",
              "      <td>34362</td>\n",
              "      <td>34440</td>\n",
              "      <td>34440</td>\n",
              "      <td>34446</td>\n",
              "    </tr>\n",
              "    <tr>\n",
              "      <th>1</th>\n",
              "      <td>NaN</td>\n",
              "      <td>Albania</td>\n",
              "      <td>41.15330</td>\n",
              "      <td>20.168300</td>\n",
              "      <td>0</td>\n",
              "      <td>0</td>\n",
              "      <td>0</td>\n",
              "      <td>0</td>\n",
              "      <td>0</td>\n",
              "      <td>0</td>\n",
              "      <td>0</td>\n",
              "      <td>0</td>\n",
              "      <td>0</td>\n",
              "      <td>0</td>\n",
              "      <td>0</td>\n",
              "      <td>0</td>\n",
              "      <td>0</td>\n",
              "      <td>0</td>\n",
              "      <td>0</td>\n",
              "      <td>0</td>\n",
              "      <td>0</td>\n",
              "      <td>0</td>\n",
              "      <td>0</td>\n",
              "      <td>0</td>\n",
              "      <td>0</td>\n",
              "      <td>0</td>\n",
              "      <td>0</td>\n",
              "      <td>0</td>\n",
              "      <td>0</td>\n",
              "      <td>0</td>\n",
              "      <td>0</td>\n",
              "      <td>0</td>\n",
              "      <td>0</td>\n",
              "      <td>0</td>\n",
              "      <td>0</td>\n",
              "      <td>0</td>\n",
              "      <td>0</td>\n",
              "      <td>0</td>\n",
              "      <td>0</td>\n",
              "      <td>0</td>\n",
              "      <td>...</td>\n",
              "      <td>7732</td>\n",
              "      <td>7847</td>\n",
              "      <td>8077</td>\n",
              "      <td>8342</td>\n",
              "      <td>8536</td>\n",
              "      <td>8675</td>\n",
              "      <td>8825</td>\n",
              "      <td>8965</td>\n",
              "      <td>9115</td>\n",
              "      <td>9215</td>\n",
              "      <td>9304</td>\n",
              "      <td>9406</td>\n",
              "      <td>9500</td>\n",
              "      <td>9585</td>\n",
              "      <td>9675</td>\n",
              "      <td>9762</td>\n",
              "      <td>9864</td>\n",
              "      <td>9957</td>\n",
              "      <td>10001</td>\n",
              "      <td>10071</td>\n",
              "      <td>10167</td>\n",
              "      <td>10225</td>\n",
              "      <td>10341</td>\n",
              "      <td>10395</td>\n",
              "      <td>10466</td>\n",
              "      <td>10548</td>\n",
              "      <td>10654</td>\n",
              "      <td>10705</td>\n",
              "      <td>10808</td>\n",
              "      <td>10893</td>\n",
              "      <td>11007</td>\n",
              "      <td>11097</td>\n",
              "      <td>11189</td>\n",
              "      <td>11246</td>\n",
              "      <td>11367</td>\n",
              "      <td>11473</td>\n",
              "      <td>11578</td>\n",
              "      <td>11696</td>\n",
              "      <td>11861</td>\n",
              "      <td>12002</td>\n",
              "    </tr>\n",
              "    <tr>\n",
              "      <th>2</th>\n",
              "      <td>NaN</td>\n",
              "      <td>Algeria</td>\n",
              "      <td>28.03390</td>\n",
              "      <td>1.659600</td>\n",
              "      <td>0</td>\n",
              "      <td>0</td>\n",
              "      <td>0</td>\n",
              "      <td>0</td>\n",
              "      <td>0</td>\n",
              "      <td>0</td>\n",
              "      <td>0</td>\n",
              "      <td>0</td>\n",
              "      <td>0</td>\n",
              "      <td>0</td>\n",
              "      <td>0</td>\n",
              "      <td>0</td>\n",
              "      <td>0</td>\n",
              "      <td>0</td>\n",
              "      <td>0</td>\n",
              "      <td>0</td>\n",
              "      <td>0</td>\n",
              "      <td>0</td>\n",
              "      <td>0</td>\n",
              "      <td>0</td>\n",
              "      <td>0</td>\n",
              "      <td>0</td>\n",
              "      <td>0</td>\n",
              "      <td>0</td>\n",
              "      <td>0</td>\n",
              "      <td>0</td>\n",
              "      <td>0</td>\n",
              "      <td>0</td>\n",
              "      <td>0</td>\n",
              "      <td>0</td>\n",
              "      <td>0</td>\n",
              "      <td>0</td>\n",
              "      <td>0</td>\n",
              "      <td>0</td>\n",
              "      <td>0</td>\n",
              "      <td>0</td>\n",
              "      <td>...</td>\n",
              "      <td>36063</td>\n",
              "      <td>36174</td>\n",
              "      <td>36282</td>\n",
              "      <td>36385</td>\n",
              "      <td>36482</td>\n",
              "      <td>36578</td>\n",
              "      <td>36672</td>\n",
              "      <td>36763</td>\n",
              "      <td>36857</td>\n",
              "      <td>36958</td>\n",
              "      <td>37067</td>\n",
              "      <td>37170</td>\n",
              "      <td>37170</td>\n",
              "      <td>37382</td>\n",
              "      <td>37492</td>\n",
              "      <td>37603</td>\n",
              "      <td>37603</td>\n",
              "      <td>37856</td>\n",
              "      <td>37971</td>\n",
              "      <td>38088</td>\n",
              "      <td>38215</td>\n",
              "      <td>38346</td>\n",
              "      <td>38482</td>\n",
              "      <td>38618</td>\n",
              "      <td>38788</td>\n",
              "      <td>38932</td>\n",
              "      <td>39095</td>\n",
              "      <td>39273</td>\n",
              "      <td>39444</td>\n",
              "      <td>39635</td>\n",
              "      <td>39635</td>\n",
              "      <td>40014</td>\n",
              "      <td>40201</td>\n",
              "      <td>40395</td>\n",
              "      <td>40577</td>\n",
              "      <td>40577</td>\n",
              "      <td>41001</td>\n",
              "      <td>41244</td>\n",
              "      <td>41510</td>\n",
              "      <td>41783</td>\n",
              "    </tr>\n",
              "    <tr>\n",
              "      <th>3</th>\n",
              "      <td>NaN</td>\n",
              "      <td>Andorra</td>\n",
              "      <td>42.50630</td>\n",
              "      <td>1.521800</td>\n",
              "      <td>0</td>\n",
              "      <td>0</td>\n",
              "      <td>0</td>\n",
              "      <td>0</td>\n",
              "      <td>0</td>\n",
              "      <td>0</td>\n",
              "      <td>0</td>\n",
              "      <td>0</td>\n",
              "      <td>0</td>\n",
              "      <td>0</td>\n",
              "      <td>0</td>\n",
              "      <td>0</td>\n",
              "      <td>0</td>\n",
              "      <td>0</td>\n",
              "      <td>0</td>\n",
              "      <td>0</td>\n",
              "      <td>0</td>\n",
              "      <td>0</td>\n",
              "      <td>0</td>\n",
              "      <td>0</td>\n",
              "      <td>0</td>\n",
              "      <td>0</td>\n",
              "      <td>0</td>\n",
              "      <td>0</td>\n",
              "      <td>0</td>\n",
              "      <td>0</td>\n",
              "      <td>0</td>\n",
              "      <td>0</td>\n",
              "      <td>0</td>\n",
              "      <td>0</td>\n",
              "      <td>0</td>\n",
              "      <td>0</td>\n",
              "      <td>0</td>\n",
              "      <td>0</td>\n",
              "      <td>0</td>\n",
              "      <td>0</td>\n",
              "      <td>...</td>\n",
              "      <td>1265</td>\n",
              "      <td>1432</td>\n",
              "      <td>1432</td>\n",
              "      <td>1540</td>\n",
              "      <td>1540</td>\n",
              "      <td>1540</td>\n",
              "      <td>1615</td>\n",
              "      <td>1615</td>\n",
              "      <td>1715</td>\n",
              "      <td>1715</td>\n",
              "      <td>1814</td>\n",
              "      <td>1814</td>\n",
              "      <td>1814</td>\n",
              "      <td>1928</td>\n",
              "      <td>1928</td>\n",
              "      <td>2011</td>\n",
              "      <td>2011</td>\n",
              "      <td>2057</td>\n",
              "      <td>2057</td>\n",
              "      <td>2057</td>\n",
              "      <td>2273</td>\n",
              "      <td>2273</td>\n",
              "      <td>2470</td>\n",
              "      <td>2470</td>\n",
              "      <td>2729</td>\n",
              "      <td>2729</td>\n",
              "      <td>2729</td>\n",
              "      <td>2957</td>\n",
              "      <td>3029</td>\n",
              "      <td>3144</td>\n",
              "      <td>3260</td>\n",
              "      <td>3377</td>\n",
              "      <td>3475</td>\n",
              "      <td>3475</td>\n",
              "      <td>3548</td>\n",
              "      <td>3627</td>\n",
              "      <td>3734</td>\n",
              "      <td>3858</td>\n",
              "      <td>3858</td>\n",
              "      <td>4043</td>\n",
              "    </tr>\n",
              "    <tr>\n",
              "      <th>4</th>\n",
              "      <td>NaN</td>\n",
              "      <td>Angola</td>\n",
              "      <td>-11.20270</td>\n",
              "      <td>17.873900</td>\n",
              "      <td>0</td>\n",
              "      <td>0</td>\n",
              "      <td>0</td>\n",
              "      <td>0</td>\n",
              "      <td>0</td>\n",
              "      <td>0</td>\n",
              "      <td>0</td>\n",
              "      <td>0</td>\n",
              "      <td>0</td>\n",
              "      <td>0</td>\n",
              "      <td>0</td>\n",
              "      <td>0</td>\n",
              "      <td>0</td>\n",
              "      <td>0</td>\n",
              "      <td>0</td>\n",
              "      <td>0</td>\n",
              "      <td>0</td>\n",
              "      <td>0</td>\n",
              "      <td>0</td>\n",
              "      <td>0</td>\n",
              "      <td>0</td>\n",
              "      <td>0</td>\n",
              "      <td>0</td>\n",
              "      <td>0</td>\n",
              "      <td>0</td>\n",
              "      <td>0</td>\n",
              "      <td>0</td>\n",
              "      <td>0</td>\n",
              "      <td>0</td>\n",
              "      <td>0</td>\n",
              "      <td>0</td>\n",
              "      <td>0</td>\n",
              "      <td>0</td>\n",
              "      <td>0</td>\n",
              "      <td>0</td>\n",
              "      <td>0</td>\n",
              "      <td>...</td>\n",
              "      <td>1833</td>\n",
              "      <td>1941</td>\n",
              "      <td>2082</td>\n",
              "      <td>2215</td>\n",
              "      <td>2436</td>\n",
              "      <td>2577</td>\n",
              "      <td>2591</td>\n",
              "      <td>2598</td>\n",
              "      <td>2598</td>\n",
              "      <td>2635</td>\n",
              "      <td>2685</td>\n",
              "      <td>2716</td>\n",
              "      <td>2743</td>\n",
              "      <td>2744</td>\n",
              "      <td>2761</td>\n",
              "      <td>2801</td>\n",
              "      <td>2928</td>\n",
              "      <td>3012</td>\n",
              "      <td>3022</td>\n",
              "      <td>3030</td>\n",
              "      <td>3031</td>\n",
              "      <td>3037</td>\n",
              "      <td>3040</td>\n",
              "      <td>3305</td>\n",
              "      <td>3384</td>\n",
              "      <td>3461</td>\n",
              "      <td>3508</td>\n",
              "      <td>3530</td>\n",
              "      <td>3647</td>\n",
              "      <td>3693</td>\n",
              "      <td>3736</td>\n",
              "      <td>4107</td>\n",
              "      <td>4523</td>\n",
              "      <td>4920</td>\n",
              "      <td>5172</td>\n",
              "      <td>5230</td>\n",
              "      <td>5266</td>\n",
              "      <td>5350</td>\n",
              "      <td>5626</td>\n",
              "      <td>5647</td>\n",
              "    </tr>\n",
              "  </tbody>\n",
              "</table>\n",
              "<p>5 rows × 295 columns</p>\n",
              "</div>"
            ],
            "text/plain": [
              "  Province/State Country/Region       Lat  ...  11/5/20  11/6/20  11/7/20\n",
              "0            NaN    Afghanistan  33.93911  ...    34440    34440    34446\n",
              "1            NaN        Albania  41.15330  ...    11696    11861    12002\n",
              "2            NaN        Algeria  28.03390  ...    41244    41510    41783\n",
              "3            NaN        Andorra  42.50630  ...     3858     3858     4043\n",
              "4            NaN         Angola -11.20270  ...     5350     5626     5647\n",
              "\n",
              "[5 rows x 295 columns]"
            ]
          },
          "metadata": {
            "tags": []
          },
          "execution_count": 7
        }
      ]
    },
    {
      "cell_type": "markdown",
      "metadata": {
        "id": "B7x96HslxQdh"
      },
      "source": [
        "From the output above we can observe that the John Hopkin's dataset has split the dates into separte column, hence we need to transform the dataframe from wide to long format using the melt function so that the dataframe is consistent with the *Our World in data*, suitable for later analysis."
      ]
    },
    {
      "cell_type": "code",
      "metadata": {
        "id": "YuPVooSAw8FR",
        "outputId": "ee79b123-c5fc-4385-ae68-036ef9eeeac3",
        "colab": {
          "base_uri": "https://localhost:8080/",
          "height": 204
        }
      },
      "source": [
        "jh_recovered2=jh_recovered.melt(id_vars=['Province/State','Country/Region','Lat','Long'],var_name = 'date', value_name = 'total_recovered')\n",
        "jh_recovered2.head()"
      ],
      "execution_count": 8,
      "outputs": [
        {
          "output_type": "execute_result",
          "data": {
            "text/html": [
              "<div>\n",
              "<style scoped>\n",
              "    .dataframe tbody tr th:only-of-type {\n",
              "        vertical-align: middle;\n",
              "    }\n",
              "\n",
              "    .dataframe tbody tr th {\n",
              "        vertical-align: top;\n",
              "    }\n",
              "\n",
              "    .dataframe thead th {\n",
              "        text-align: right;\n",
              "    }\n",
              "</style>\n",
              "<table border=\"1\" class=\"dataframe\">\n",
              "  <thead>\n",
              "    <tr style=\"text-align: right;\">\n",
              "      <th></th>\n",
              "      <th>Province/State</th>\n",
              "      <th>Country/Region</th>\n",
              "      <th>Lat</th>\n",
              "      <th>Long</th>\n",
              "      <th>date</th>\n",
              "      <th>total_recovered</th>\n",
              "    </tr>\n",
              "  </thead>\n",
              "  <tbody>\n",
              "    <tr>\n",
              "      <th>0</th>\n",
              "      <td>NaN</td>\n",
              "      <td>Afghanistan</td>\n",
              "      <td>33.93911</td>\n",
              "      <td>67.709953</td>\n",
              "      <td>1/22/20</td>\n",
              "      <td>0</td>\n",
              "    </tr>\n",
              "    <tr>\n",
              "      <th>1</th>\n",
              "      <td>NaN</td>\n",
              "      <td>Albania</td>\n",
              "      <td>41.15330</td>\n",
              "      <td>20.168300</td>\n",
              "      <td>1/22/20</td>\n",
              "      <td>0</td>\n",
              "    </tr>\n",
              "    <tr>\n",
              "      <th>2</th>\n",
              "      <td>NaN</td>\n",
              "      <td>Algeria</td>\n",
              "      <td>28.03390</td>\n",
              "      <td>1.659600</td>\n",
              "      <td>1/22/20</td>\n",
              "      <td>0</td>\n",
              "    </tr>\n",
              "    <tr>\n",
              "      <th>3</th>\n",
              "      <td>NaN</td>\n",
              "      <td>Andorra</td>\n",
              "      <td>42.50630</td>\n",
              "      <td>1.521800</td>\n",
              "      <td>1/22/20</td>\n",
              "      <td>0</td>\n",
              "    </tr>\n",
              "    <tr>\n",
              "      <th>4</th>\n",
              "      <td>NaN</td>\n",
              "      <td>Angola</td>\n",
              "      <td>-11.20270</td>\n",
              "      <td>17.873900</td>\n",
              "      <td>1/22/20</td>\n",
              "      <td>0</td>\n",
              "    </tr>\n",
              "  </tbody>\n",
              "</table>\n",
              "</div>"
            ],
            "text/plain": [
              "  Province/State Country/Region       Lat       Long     date  total_recovered\n",
              "0            NaN    Afghanistan  33.93911  67.709953  1/22/20                0\n",
              "1            NaN        Albania  41.15330  20.168300  1/22/20                0\n",
              "2            NaN        Algeria  28.03390   1.659600  1/22/20                0\n",
              "3            NaN        Andorra  42.50630   1.521800  1/22/20                0\n",
              "4            NaN         Angola -11.20270  17.873900  1/22/20                0"
            ]
          },
          "metadata": {
            "tags": []
          },
          "execution_count": 8
        }
      ]
    },
    {
      "cell_type": "markdown",
      "metadata": {
        "id": "tIJZktYoLczN"
      },
      "source": [
        "In the above code we reformatted the John Hopkin's file by melting the data under muiltiple columns into a new column *recovered* that records the recovered cases for each day and is grouped by the *date*. The new dataframe is named as jh_recovered2 as shown in the output above.\n",
        "\n",
        "\n",
        "Next we will need to change the date column for *jh_recovered2* and *df* into dateformat in preparation for the merging process, repeat same for both datasets."
      ]
    },
    {
      "cell_type": "code",
      "metadata": {
        "id": "bCZHEnzDw7-V"
      },
      "source": [
        "jh_recovered2['date']=pd.to_datetime(jh_recovered2['date'], errors='ignore')\n",
        "df['date']=pd.to_datetime(df['date'], errors='ignore')"
      ],
      "execution_count": 9,
      "outputs": []
    },
    {
      "cell_type": "markdown",
      "metadata": {
        "id": "uTWMDbW7xXVC"
      },
      "source": [
        "The date format has been rectified with the above code. \n",
        "\n",
        "\n",
        "We noticed the country names are inconsistent between the 2 files for United States hence we will need to replace the names in the *John Hopkins* file to match the *Our World in Data*. The other country names are consistent.\n"
      ]
    },
    {
      "cell_type": "code",
      "metadata": {
        "id": "EdJ2j6PXh9k7"
      },
      "source": [
        "jh_recovered2['Country/Region'] = jh_recovered2['Country/Region'].replace(['US'],'United States')"
      ],
      "execution_count": 10,
      "outputs": []
    },
    {
      "cell_type": "markdown",
      "metadata": {
        "id": "2J4EGmszZYu7"
      },
      "source": [
        "Before we can start merging, as the first dataset as the *jh_recovered* data has it's recovered cases split up based on the \"Province/State\" as opposed to the *df* data. Therefore, our first step is to ungroup the *jh_recovered* \"Province/State\" to result in a sum of recovered cases for each country."
      ]
    },
    {
      "cell_type": "code",
      "metadata": {
        "id": "P3nAy9Uqxaqd"
      },
      "source": [
        "jh_recovered2_grouped=jh_recovered2.groupby([\"Country/Region\",\"date\"]).sum()"
      ],
      "execution_count": 11,
      "outputs": []
    },
    {
      "cell_type": "markdown",
      "metadata": {
        "id": "vteQ7o2PiC5e"
      },
      "source": [
        "Now the data has one daily value grouped by each country which is suitable for the merging process.\n",
        "\n"
      ]
    },
    {
      "cell_type": "markdown",
      "metadata": {
        "id": "VT-moinjxiKR"
      },
      "source": [
        "In order to join the datasets together, we need to find common variables to join them, ensuring the data matches up accordingly. The code below changes the format of the Johns Hopkins recovery dataset from wide to long by changing the dates that are currently as column names to their own column.\n",
        "Merge the two data sets based on the 'location' & 'date' variables in the 'Our World data' and 'Country/Region' & 'date' variables in the John Hopkins data."
      ]
    },
    {
      "cell_type": "code",
      "metadata": {
        "id": "sRUiqlU-xboL"
      },
      "source": [
        "merge1=df.merge(jh_recovered2_grouped, how='inner', left_on=[\"location\", \"date\"], right_on=[\"Country/Region\",\"date\"])"
      ],
      "execution_count": 12,
      "outputs": []
    },
    {
      "cell_type": "code",
      "metadata": {
        "id": "FWN3aTspxbw5",
        "outputId": "826bbc25-f20d-4695-b4da-ec09abd564fb",
        "colab": {
          "base_uri": "https://localhost:8080/",
          "height": 309
        }
      },
      "source": [
        "merge1.head()"
      ],
      "execution_count": 13,
      "outputs": [
        {
          "output_type": "execute_result",
          "data": {
            "text/html": [
              "<div>\n",
              "<style scoped>\n",
              "    .dataframe tbody tr th:only-of-type {\n",
              "        vertical-align: middle;\n",
              "    }\n",
              "\n",
              "    .dataframe tbody tr th {\n",
              "        vertical-align: top;\n",
              "    }\n",
              "\n",
              "    .dataframe thead th {\n",
              "        text-align: right;\n",
              "    }\n",
              "</style>\n",
              "<table border=\"1\" class=\"dataframe\">\n",
              "  <thead>\n",
              "    <tr style=\"text-align: right;\">\n",
              "      <th></th>\n",
              "      <th>iso_code</th>\n",
              "      <th>continent</th>\n",
              "      <th>location</th>\n",
              "      <th>date</th>\n",
              "      <th>total_cases</th>\n",
              "      <th>new_cases</th>\n",
              "      <th>new_cases_smoothed</th>\n",
              "      <th>total_deaths</th>\n",
              "      <th>new_deaths</th>\n",
              "      <th>new_deaths_smoothed</th>\n",
              "      <th>total_cases_per_million</th>\n",
              "      <th>new_cases_per_million</th>\n",
              "      <th>new_cases_smoothed_per_million</th>\n",
              "      <th>total_deaths_per_million</th>\n",
              "      <th>new_deaths_per_million</th>\n",
              "      <th>new_deaths_smoothed_per_million</th>\n",
              "      <th>icu_patients</th>\n",
              "      <th>icu_patients_per_million</th>\n",
              "      <th>hosp_patients</th>\n",
              "      <th>hosp_patients_per_million</th>\n",
              "      <th>weekly_icu_admissions</th>\n",
              "      <th>weekly_icu_admissions_per_million</th>\n",
              "      <th>weekly_hosp_admissions</th>\n",
              "      <th>weekly_hosp_admissions_per_million</th>\n",
              "      <th>total_tests</th>\n",
              "      <th>new_tests</th>\n",
              "      <th>total_tests_per_thousand</th>\n",
              "      <th>new_tests_per_thousand</th>\n",
              "      <th>new_tests_smoothed</th>\n",
              "      <th>new_tests_smoothed_per_thousand</th>\n",
              "      <th>tests_per_case</th>\n",
              "      <th>positive_rate</th>\n",
              "      <th>tests_units</th>\n",
              "      <th>stringency_index</th>\n",
              "      <th>population</th>\n",
              "      <th>population_density</th>\n",
              "      <th>median_age</th>\n",
              "      <th>aged_65_older</th>\n",
              "      <th>aged_70_older</th>\n",
              "      <th>gdp_per_capita</th>\n",
              "      <th>extreme_poverty</th>\n",
              "      <th>cardiovasc_death_rate</th>\n",
              "      <th>diabetes_prevalence</th>\n",
              "      <th>female_smokers</th>\n",
              "      <th>male_smokers</th>\n",
              "      <th>handwashing_facilities</th>\n",
              "      <th>hospital_beds_per_thousand</th>\n",
              "      <th>life_expectancy</th>\n",
              "      <th>human_development_index</th>\n",
              "      <th>Lat</th>\n",
              "      <th>Long</th>\n",
              "      <th>total_recovered</th>\n",
              "    </tr>\n",
              "  </thead>\n",
              "  <tbody>\n",
              "    <tr>\n",
              "      <th>0</th>\n",
              "      <td>AFG</td>\n",
              "      <td>Asia</td>\n",
              "      <td>Afghanistan</td>\n",
              "      <td>2020-01-22</td>\n",
              "      <td>NaN</td>\n",
              "      <td>0.0</td>\n",
              "      <td>0.0</td>\n",
              "      <td>NaN</td>\n",
              "      <td>0.0</td>\n",
              "      <td>0.0</td>\n",
              "      <td>NaN</td>\n",
              "      <td>0.0</td>\n",
              "      <td>0.0</td>\n",
              "      <td>NaN</td>\n",
              "      <td>0.0</td>\n",
              "      <td>0.0</td>\n",
              "      <td>NaN</td>\n",
              "      <td>NaN</td>\n",
              "      <td>NaN</td>\n",
              "      <td>NaN</td>\n",
              "      <td>NaN</td>\n",
              "      <td>NaN</td>\n",
              "      <td>NaN</td>\n",
              "      <td>NaN</td>\n",
              "      <td>NaN</td>\n",
              "      <td>NaN</td>\n",
              "      <td>NaN</td>\n",
              "      <td>NaN</td>\n",
              "      <td>NaN</td>\n",
              "      <td>NaN</td>\n",
              "      <td>NaN</td>\n",
              "      <td>NaN</td>\n",
              "      <td>NaN</td>\n",
              "      <td>0.0</td>\n",
              "      <td>38928341.0</td>\n",
              "      <td>54.422</td>\n",
              "      <td>18.6</td>\n",
              "      <td>2.581</td>\n",
              "      <td>1.337</td>\n",
              "      <td>1803.987</td>\n",
              "      <td>NaN</td>\n",
              "      <td>597.029</td>\n",
              "      <td>9.59</td>\n",
              "      <td>NaN</td>\n",
              "      <td>NaN</td>\n",
              "      <td>37.746</td>\n",
              "      <td>0.5</td>\n",
              "      <td>64.83</td>\n",
              "      <td>0.498</td>\n",
              "      <td>33.93911</td>\n",
              "      <td>67.709953</td>\n",
              "      <td>0</td>\n",
              "    </tr>\n",
              "    <tr>\n",
              "      <th>1</th>\n",
              "      <td>AFG</td>\n",
              "      <td>Asia</td>\n",
              "      <td>Afghanistan</td>\n",
              "      <td>2020-01-23</td>\n",
              "      <td>NaN</td>\n",
              "      <td>0.0</td>\n",
              "      <td>0.0</td>\n",
              "      <td>NaN</td>\n",
              "      <td>0.0</td>\n",
              "      <td>0.0</td>\n",
              "      <td>NaN</td>\n",
              "      <td>0.0</td>\n",
              "      <td>0.0</td>\n",
              "      <td>NaN</td>\n",
              "      <td>0.0</td>\n",
              "      <td>0.0</td>\n",
              "      <td>NaN</td>\n",
              "      <td>NaN</td>\n",
              "      <td>NaN</td>\n",
              "      <td>NaN</td>\n",
              "      <td>NaN</td>\n",
              "      <td>NaN</td>\n",
              "      <td>NaN</td>\n",
              "      <td>NaN</td>\n",
              "      <td>NaN</td>\n",
              "      <td>NaN</td>\n",
              "      <td>NaN</td>\n",
              "      <td>NaN</td>\n",
              "      <td>NaN</td>\n",
              "      <td>NaN</td>\n",
              "      <td>NaN</td>\n",
              "      <td>NaN</td>\n",
              "      <td>NaN</td>\n",
              "      <td>0.0</td>\n",
              "      <td>38928341.0</td>\n",
              "      <td>54.422</td>\n",
              "      <td>18.6</td>\n",
              "      <td>2.581</td>\n",
              "      <td>1.337</td>\n",
              "      <td>1803.987</td>\n",
              "      <td>NaN</td>\n",
              "      <td>597.029</td>\n",
              "      <td>9.59</td>\n",
              "      <td>NaN</td>\n",
              "      <td>NaN</td>\n",
              "      <td>37.746</td>\n",
              "      <td>0.5</td>\n",
              "      <td>64.83</td>\n",
              "      <td>0.498</td>\n",
              "      <td>33.93911</td>\n",
              "      <td>67.709953</td>\n",
              "      <td>0</td>\n",
              "    </tr>\n",
              "    <tr>\n",
              "      <th>2</th>\n",
              "      <td>AFG</td>\n",
              "      <td>Asia</td>\n",
              "      <td>Afghanistan</td>\n",
              "      <td>2020-01-24</td>\n",
              "      <td>NaN</td>\n",
              "      <td>0.0</td>\n",
              "      <td>0.0</td>\n",
              "      <td>NaN</td>\n",
              "      <td>0.0</td>\n",
              "      <td>0.0</td>\n",
              "      <td>NaN</td>\n",
              "      <td>0.0</td>\n",
              "      <td>0.0</td>\n",
              "      <td>NaN</td>\n",
              "      <td>0.0</td>\n",
              "      <td>0.0</td>\n",
              "      <td>NaN</td>\n",
              "      <td>NaN</td>\n",
              "      <td>NaN</td>\n",
              "      <td>NaN</td>\n",
              "      <td>NaN</td>\n",
              "      <td>NaN</td>\n",
              "      <td>NaN</td>\n",
              "      <td>NaN</td>\n",
              "      <td>NaN</td>\n",
              "      <td>NaN</td>\n",
              "      <td>NaN</td>\n",
              "      <td>NaN</td>\n",
              "      <td>NaN</td>\n",
              "      <td>NaN</td>\n",
              "      <td>NaN</td>\n",
              "      <td>NaN</td>\n",
              "      <td>NaN</td>\n",
              "      <td>0.0</td>\n",
              "      <td>38928341.0</td>\n",
              "      <td>54.422</td>\n",
              "      <td>18.6</td>\n",
              "      <td>2.581</td>\n",
              "      <td>1.337</td>\n",
              "      <td>1803.987</td>\n",
              "      <td>NaN</td>\n",
              "      <td>597.029</td>\n",
              "      <td>9.59</td>\n",
              "      <td>NaN</td>\n",
              "      <td>NaN</td>\n",
              "      <td>37.746</td>\n",
              "      <td>0.5</td>\n",
              "      <td>64.83</td>\n",
              "      <td>0.498</td>\n",
              "      <td>33.93911</td>\n",
              "      <td>67.709953</td>\n",
              "      <td>0</td>\n",
              "    </tr>\n",
              "    <tr>\n",
              "      <th>3</th>\n",
              "      <td>AFG</td>\n",
              "      <td>Asia</td>\n",
              "      <td>Afghanistan</td>\n",
              "      <td>2020-01-25</td>\n",
              "      <td>NaN</td>\n",
              "      <td>0.0</td>\n",
              "      <td>0.0</td>\n",
              "      <td>NaN</td>\n",
              "      <td>0.0</td>\n",
              "      <td>0.0</td>\n",
              "      <td>NaN</td>\n",
              "      <td>0.0</td>\n",
              "      <td>0.0</td>\n",
              "      <td>NaN</td>\n",
              "      <td>0.0</td>\n",
              "      <td>0.0</td>\n",
              "      <td>NaN</td>\n",
              "      <td>NaN</td>\n",
              "      <td>NaN</td>\n",
              "      <td>NaN</td>\n",
              "      <td>NaN</td>\n",
              "      <td>NaN</td>\n",
              "      <td>NaN</td>\n",
              "      <td>NaN</td>\n",
              "      <td>NaN</td>\n",
              "      <td>NaN</td>\n",
              "      <td>NaN</td>\n",
              "      <td>NaN</td>\n",
              "      <td>NaN</td>\n",
              "      <td>NaN</td>\n",
              "      <td>NaN</td>\n",
              "      <td>NaN</td>\n",
              "      <td>NaN</td>\n",
              "      <td>0.0</td>\n",
              "      <td>38928341.0</td>\n",
              "      <td>54.422</td>\n",
              "      <td>18.6</td>\n",
              "      <td>2.581</td>\n",
              "      <td>1.337</td>\n",
              "      <td>1803.987</td>\n",
              "      <td>NaN</td>\n",
              "      <td>597.029</td>\n",
              "      <td>9.59</td>\n",
              "      <td>NaN</td>\n",
              "      <td>NaN</td>\n",
              "      <td>37.746</td>\n",
              "      <td>0.5</td>\n",
              "      <td>64.83</td>\n",
              "      <td>0.498</td>\n",
              "      <td>33.93911</td>\n",
              "      <td>67.709953</td>\n",
              "      <td>0</td>\n",
              "    </tr>\n",
              "    <tr>\n",
              "      <th>4</th>\n",
              "      <td>AFG</td>\n",
              "      <td>Asia</td>\n",
              "      <td>Afghanistan</td>\n",
              "      <td>2020-01-26</td>\n",
              "      <td>NaN</td>\n",
              "      <td>0.0</td>\n",
              "      <td>0.0</td>\n",
              "      <td>NaN</td>\n",
              "      <td>0.0</td>\n",
              "      <td>0.0</td>\n",
              "      <td>NaN</td>\n",
              "      <td>0.0</td>\n",
              "      <td>0.0</td>\n",
              "      <td>NaN</td>\n",
              "      <td>0.0</td>\n",
              "      <td>0.0</td>\n",
              "      <td>NaN</td>\n",
              "      <td>NaN</td>\n",
              "      <td>NaN</td>\n",
              "      <td>NaN</td>\n",
              "      <td>NaN</td>\n",
              "      <td>NaN</td>\n",
              "      <td>NaN</td>\n",
              "      <td>NaN</td>\n",
              "      <td>NaN</td>\n",
              "      <td>NaN</td>\n",
              "      <td>NaN</td>\n",
              "      <td>NaN</td>\n",
              "      <td>NaN</td>\n",
              "      <td>NaN</td>\n",
              "      <td>NaN</td>\n",
              "      <td>NaN</td>\n",
              "      <td>NaN</td>\n",
              "      <td>0.0</td>\n",
              "      <td>38928341.0</td>\n",
              "      <td>54.422</td>\n",
              "      <td>18.6</td>\n",
              "      <td>2.581</td>\n",
              "      <td>1.337</td>\n",
              "      <td>1803.987</td>\n",
              "      <td>NaN</td>\n",
              "      <td>597.029</td>\n",
              "      <td>9.59</td>\n",
              "      <td>NaN</td>\n",
              "      <td>NaN</td>\n",
              "      <td>37.746</td>\n",
              "      <td>0.5</td>\n",
              "      <td>64.83</td>\n",
              "      <td>0.498</td>\n",
              "      <td>33.93911</td>\n",
              "      <td>67.709953</td>\n",
              "      <td>0</td>\n",
              "    </tr>\n",
              "  </tbody>\n",
              "</table>\n",
              "</div>"
            ],
            "text/plain": [
              "  iso_code continent     location  ...       Lat       Long  total_recovered\n",
              "0      AFG      Asia  Afghanistan  ...  33.93911  67.709953                0\n",
              "1      AFG      Asia  Afghanistan  ...  33.93911  67.709953                0\n",
              "2      AFG      Asia  Afghanistan  ...  33.93911  67.709953                0\n",
              "3      AFG      Asia  Afghanistan  ...  33.93911  67.709953                0\n",
              "4      AFG      Asia  Afghanistan  ...  33.93911  67.709953                0\n",
              "\n",
              "[5 rows x 52 columns]"
            ]
          },
          "metadata": {
            "tags": []
          },
          "execution_count": 13
        }
      ]
    },
    {
      "cell_type": "markdown",
      "metadata": {
        "id": "cXOH12hWiJ32"
      },
      "source": [
        "From the above output, we can see the merge was successful, a new column for recovered cases is added at the end of the dataframe.\n",
        "\n",
        "The *recovered* column is a cumulative value of the cases recovered. Now we need to add a new column called 'new_recover' that calculates the daily cases using the 'recovered' variable, so that each value in 'new_recover' corresponds to a daily value."
      ]
    },
    {
      "cell_type": "code",
      "metadata": {
        "id": "dKYZNerWxbkn",
        "outputId": "d966f72d-ed32-4581-f643-815e5705799a",
        "colab": {
          "base_uri": "https://localhost:8080/",
          "height": 309
        }
      },
      "source": [
        "new_recover=[0]\n",
        "rec=list(merge1[\"total_recovered\"])\n",
        "loc=list(merge1[\"location\"])\n",
        "for j in range(len(merge1)-1):\n",
        "  if loc[j+1] == loc[j]:\n",
        "    new_recover.append(rec[j+1]-rec[j])\n",
        "  else:\n",
        "    new_recover.append(0)\n",
        "\n",
        "merge1[\"new_recover\"]=new_recover\n",
        "merge1.head()"
      ],
      "execution_count": 14,
      "outputs": [
        {
          "output_type": "execute_result",
          "data": {
            "text/html": [
              "<div>\n",
              "<style scoped>\n",
              "    .dataframe tbody tr th:only-of-type {\n",
              "        vertical-align: middle;\n",
              "    }\n",
              "\n",
              "    .dataframe tbody tr th {\n",
              "        vertical-align: top;\n",
              "    }\n",
              "\n",
              "    .dataframe thead th {\n",
              "        text-align: right;\n",
              "    }\n",
              "</style>\n",
              "<table border=\"1\" class=\"dataframe\">\n",
              "  <thead>\n",
              "    <tr style=\"text-align: right;\">\n",
              "      <th></th>\n",
              "      <th>iso_code</th>\n",
              "      <th>continent</th>\n",
              "      <th>location</th>\n",
              "      <th>date</th>\n",
              "      <th>total_cases</th>\n",
              "      <th>new_cases</th>\n",
              "      <th>new_cases_smoothed</th>\n",
              "      <th>total_deaths</th>\n",
              "      <th>new_deaths</th>\n",
              "      <th>new_deaths_smoothed</th>\n",
              "      <th>total_cases_per_million</th>\n",
              "      <th>new_cases_per_million</th>\n",
              "      <th>new_cases_smoothed_per_million</th>\n",
              "      <th>total_deaths_per_million</th>\n",
              "      <th>new_deaths_per_million</th>\n",
              "      <th>new_deaths_smoothed_per_million</th>\n",
              "      <th>icu_patients</th>\n",
              "      <th>icu_patients_per_million</th>\n",
              "      <th>hosp_patients</th>\n",
              "      <th>hosp_patients_per_million</th>\n",
              "      <th>weekly_icu_admissions</th>\n",
              "      <th>weekly_icu_admissions_per_million</th>\n",
              "      <th>weekly_hosp_admissions</th>\n",
              "      <th>weekly_hosp_admissions_per_million</th>\n",
              "      <th>total_tests</th>\n",
              "      <th>new_tests</th>\n",
              "      <th>total_tests_per_thousand</th>\n",
              "      <th>new_tests_per_thousand</th>\n",
              "      <th>new_tests_smoothed</th>\n",
              "      <th>new_tests_smoothed_per_thousand</th>\n",
              "      <th>tests_per_case</th>\n",
              "      <th>positive_rate</th>\n",
              "      <th>tests_units</th>\n",
              "      <th>stringency_index</th>\n",
              "      <th>population</th>\n",
              "      <th>population_density</th>\n",
              "      <th>median_age</th>\n",
              "      <th>aged_65_older</th>\n",
              "      <th>aged_70_older</th>\n",
              "      <th>gdp_per_capita</th>\n",
              "      <th>extreme_poverty</th>\n",
              "      <th>cardiovasc_death_rate</th>\n",
              "      <th>diabetes_prevalence</th>\n",
              "      <th>female_smokers</th>\n",
              "      <th>male_smokers</th>\n",
              "      <th>handwashing_facilities</th>\n",
              "      <th>hospital_beds_per_thousand</th>\n",
              "      <th>life_expectancy</th>\n",
              "      <th>human_development_index</th>\n",
              "      <th>Lat</th>\n",
              "      <th>Long</th>\n",
              "      <th>total_recovered</th>\n",
              "      <th>new_recover</th>\n",
              "    </tr>\n",
              "  </thead>\n",
              "  <tbody>\n",
              "    <tr>\n",
              "      <th>0</th>\n",
              "      <td>AFG</td>\n",
              "      <td>Asia</td>\n",
              "      <td>Afghanistan</td>\n",
              "      <td>2020-01-22</td>\n",
              "      <td>NaN</td>\n",
              "      <td>0.0</td>\n",
              "      <td>0.0</td>\n",
              "      <td>NaN</td>\n",
              "      <td>0.0</td>\n",
              "      <td>0.0</td>\n",
              "      <td>NaN</td>\n",
              "      <td>0.0</td>\n",
              "      <td>0.0</td>\n",
              "      <td>NaN</td>\n",
              "      <td>0.0</td>\n",
              "      <td>0.0</td>\n",
              "      <td>NaN</td>\n",
              "      <td>NaN</td>\n",
              "      <td>NaN</td>\n",
              "      <td>NaN</td>\n",
              "      <td>NaN</td>\n",
              "      <td>NaN</td>\n",
              "      <td>NaN</td>\n",
              "      <td>NaN</td>\n",
              "      <td>NaN</td>\n",
              "      <td>NaN</td>\n",
              "      <td>NaN</td>\n",
              "      <td>NaN</td>\n",
              "      <td>NaN</td>\n",
              "      <td>NaN</td>\n",
              "      <td>NaN</td>\n",
              "      <td>NaN</td>\n",
              "      <td>NaN</td>\n",
              "      <td>0.0</td>\n",
              "      <td>38928341.0</td>\n",
              "      <td>54.422</td>\n",
              "      <td>18.6</td>\n",
              "      <td>2.581</td>\n",
              "      <td>1.337</td>\n",
              "      <td>1803.987</td>\n",
              "      <td>NaN</td>\n",
              "      <td>597.029</td>\n",
              "      <td>9.59</td>\n",
              "      <td>NaN</td>\n",
              "      <td>NaN</td>\n",
              "      <td>37.746</td>\n",
              "      <td>0.5</td>\n",
              "      <td>64.83</td>\n",
              "      <td>0.498</td>\n",
              "      <td>33.93911</td>\n",
              "      <td>67.709953</td>\n",
              "      <td>0</td>\n",
              "      <td>0</td>\n",
              "    </tr>\n",
              "    <tr>\n",
              "      <th>1</th>\n",
              "      <td>AFG</td>\n",
              "      <td>Asia</td>\n",
              "      <td>Afghanistan</td>\n",
              "      <td>2020-01-23</td>\n",
              "      <td>NaN</td>\n",
              "      <td>0.0</td>\n",
              "      <td>0.0</td>\n",
              "      <td>NaN</td>\n",
              "      <td>0.0</td>\n",
              "      <td>0.0</td>\n",
              "      <td>NaN</td>\n",
              "      <td>0.0</td>\n",
              "      <td>0.0</td>\n",
              "      <td>NaN</td>\n",
              "      <td>0.0</td>\n",
              "      <td>0.0</td>\n",
              "      <td>NaN</td>\n",
              "      <td>NaN</td>\n",
              "      <td>NaN</td>\n",
              "      <td>NaN</td>\n",
              "      <td>NaN</td>\n",
              "      <td>NaN</td>\n",
              "      <td>NaN</td>\n",
              "      <td>NaN</td>\n",
              "      <td>NaN</td>\n",
              "      <td>NaN</td>\n",
              "      <td>NaN</td>\n",
              "      <td>NaN</td>\n",
              "      <td>NaN</td>\n",
              "      <td>NaN</td>\n",
              "      <td>NaN</td>\n",
              "      <td>NaN</td>\n",
              "      <td>NaN</td>\n",
              "      <td>0.0</td>\n",
              "      <td>38928341.0</td>\n",
              "      <td>54.422</td>\n",
              "      <td>18.6</td>\n",
              "      <td>2.581</td>\n",
              "      <td>1.337</td>\n",
              "      <td>1803.987</td>\n",
              "      <td>NaN</td>\n",
              "      <td>597.029</td>\n",
              "      <td>9.59</td>\n",
              "      <td>NaN</td>\n",
              "      <td>NaN</td>\n",
              "      <td>37.746</td>\n",
              "      <td>0.5</td>\n",
              "      <td>64.83</td>\n",
              "      <td>0.498</td>\n",
              "      <td>33.93911</td>\n",
              "      <td>67.709953</td>\n",
              "      <td>0</td>\n",
              "      <td>0</td>\n",
              "    </tr>\n",
              "    <tr>\n",
              "      <th>2</th>\n",
              "      <td>AFG</td>\n",
              "      <td>Asia</td>\n",
              "      <td>Afghanistan</td>\n",
              "      <td>2020-01-24</td>\n",
              "      <td>NaN</td>\n",
              "      <td>0.0</td>\n",
              "      <td>0.0</td>\n",
              "      <td>NaN</td>\n",
              "      <td>0.0</td>\n",
              "      <td>0.0</td>\n",
              "      <td>NaN</td>\n",
              "      <td>0.0</td>\n",
              "      <td>0.0</td>\n",
              "      <td>NaN</td>\n",
              "      <td>0.0</td>\n",
              "      <td>0.0</td>\n",
              "      <td>NaN</td>\n",
              "      <td>NaN</td>\n",
              "      <td>NaN</td>\n",
              "      <td>NaN</td>\n",
              "      <td>NaN</td>\n",
              "      <td>NaN</td>\n",
              "      <td>NaN</td>\n",
              "      <td>NaN</td>\n",
              "      <td>NaN</td>\n",
              "      <td>NaN</td>\n",
              "      <td>NaN</td>\n",
              "      <td>NaN</td>\n",
              "      <td>NaN</td>\n",
              "      <td>NaN</td>\n",
              "      <td>NaN</td>\n",
              "      <td>NaN</td>\n",
              "      <td>NaN</td>\n",
              "      <td>0.0</td>\n",
              "      <td>38928341.0</td>\n",
              "      <td>54.422</td>\n",
              "      <td>18.6</td>\n",
              "      <td>2.581</td>\n",
              "      <td>1.337</td>\n",
              "      <td>1803.987</td>\n",
              "      <td>NaN</td>\n",
              "      <td>597.029</td>\n",
              "      <td>9.59</td>\n",
              "      <td>NaN</td>\n",
              "      <td>NaN</td>\n",
              "      <td>37.746</td>\n",
              "      <td>0.5</td>\n",
              "      <td>64.83</td>\n",
              "      <td>0.498</td>\n",
              "      <td>33.93911</td>\n",
              "      <td>67.709953</td>\n",
              "      <td>0</td>\n",
              "      <td>0</td>\n",
              "    </tr>\n",
              "    <tr>\n",
              "      <th>3</th>\n",
              "      <td>AFG</td>\n",
              "      <td>Asia</td>\n",
              "      <td>Afghanistan</td>\n",
              "      <td>2020-01-25</td>\n",
              "      <td>NaN</td>\n",
              "      <td>0.0</td>\n",
              "      <td>0.0</td>\n",
              "      <td>NaN</td>\n",
              "      <td>0.0</td>\n",
              "      <td>0.0</td>\n",
              "      <td>NaN</td>\n",
              "      <td>0.0</td>\n",
              "      <td>0.0</td>\n",
              "      <td>NaN</td>\n",
              "      <td>0.0</td>\n",
              "      <td>0.0</td>\n",
              "      <td>NaN</td>\n",
              "      <td>NaN</td>\n",
              "      <td>NaN</td>\n",
              "      <td>NaN</td>\n",
              "      <td>NaN</td>\n",
              "      <td>NaN</td>\n",
              "      <td>NaN</td>\n",
              "      <td>NaN</td>\n",
              "      <td>NaN</td>\n",
              "      <td>NaN</td>\n",
              "      <td>NaN</td>\n",
              "      <td>NaN</td>\n",
              "      <td>NaN</td>\n",
              "      <td>NaN</td>\n",
              "      <td>NaN</td>\n",
              "      <td>NaN</td>\n",
              "      <td>NaN</td>\n",
              "      <td>0.0</td>\n",
              "      <td>38928341.0</td>\n",
              "      <td>54.422</td>\n",
              "      <td>18.6</td>\n",
              "      <td>2.581</td>\n",
              "      <td>1.337</td>\n",
              "      <td>1803.987</td>\n",
              "      <td>NaN</td>\n",
              "      <td>597.029</td>\n",
              "      <td>9.59</td>\n",
              "      <td>NaN</td>\n",
              "      <td>NaN</td>\n",
              "      <td>37.746</td>\n",
              "      <td>0.5</td>\n",
              "      <td>64.83</td>\n",
              "      <td>0.498</td>\n",
              "      <td>33.93911</td>\n",
              "      <td>67.709953</td>\n",
              "      <td>0</td>\n",
              "      <td>0</td>\n",
              "    </tr>\n",
              "    <tr>\n",
              "      <th>4</th>\n",
              "      <td>AFG</td>\n",
              "      <td>Asia</td>\n",
              "      <td>Afghanistan</td>\n",
              "      <td>2020-01-26</td>\n",
              "      <td>NaN</td>\n",
              "      <td>0.0</td>\n",
              "      <td>0.0</td>\n",
              "      <td>NaN</td>\n",
              "      <td>0.0</td>\n",
              "      <td>0.0</td>\n",
              "      <td>NaN</td>\n",
              "      <td>0.0</td>\n",
              "      <td>0.0</td>\n",
              "      <td>NaN</td>\n",
              "      <td>0.0</td>\n",
              "      <td>0.0</td>\n",
              "      <td>NaN</td>\n",
              "      <td>NaN</td>\n",
              "      <td>NaN</td>\n",
              "      <td>NaN</td>\n",
              "      <td>NaN</td>\n",
              "      <td>NaN</td>\n",
              "      <td>NaN</td>\n",
              "      <td>NaN</td>\n",
              "      <td>NaN</td>\n",
              "      <td>NaN</td>\n",
              "      <td>NaN</td>\n",
              "      <td>NaN</td>\n",
              "      <td>NaN</td>\n",
              "      <td>NaN</td>\n",
              "      <td>NaN</td>\n",
              "      <td>NaN</td>\n",
              "      <td>NaN</td>\n",
              "      <td>0.0</td>\n",
              "      <td>38928341.0</td>\n",
              "      <td>54.422</td>\n",
              "      <td>18.6</td>\n",
              "      <td>2.581</td>\n",
              "      <td>1.337</td>\n",
              "      <td>1803.987</td>\n",
              "      <td>NaN</td>\n",
              "      <td>597.029</td>\n",
              "      <td>9.59</td>\n",
              "      <td>NaN</td>\n",
              "      <td>NaN</td>\n",
              "      <td>37.746</td>\n",
              "      <td>0.5</td>\n",
              "      <td>64.83</td>\n",
              "      <td>0.498</td>\n",
              "      <td>33.93911</td>\n",
              "      <td>67.709953</td>\n",
              "      <td>0</td>\n",
              "      <td>0</td>\n",
              "    </tr>\n",
              "  </tbody>\n",
              "</table>\n",
              "</div>"
            ],
            "text/plain": [
              "  iso_code continent     location  ...       Long  total_recovered  new_recover\n",
              "0      AFG      Asia  Afghanistan  ...  67.709953                0            0\n",
              "1      AFG      Asia  Afghanistan  ...  67.709953                0            0\n",
              "2      AFG      Asia  Afghanistan  ...  67.709953                0            0\n",
              "3      AFG      Asia  Afghanistan  ...  67.709953                0            0\n",
              "4      AFG      Asia  Afghanistan  ...  67.709953                0            0\n",
              "\n",
              "[5 rows x 53 columns]"
            ]
          },
          "metadata": {
            "tags": []
          },
          "execution_count": 14
        }
      ]
    },
    {
      "cell_type": "markdown",
      "metadata": {
        "id": "p600Ns5CLuIZ"
      },
      "source": [
        "New column *new_recover* has been appended shown in the output above. A list is created and for each country we calculates the daily recovered cases starting with 0 for each country. Data munging has been completed.\n"
      ]
    },
    {
      "cell_type": "code",
      "metadata": {
        "id": "R_42qgpqvBBB",
        "outputId": "4ad328a8-323e-48cb-ac43-a64bab2c4c4c",
        "colab": {
          "base_uri": "https://localhost:8080/"
        }
      },
      "source": [
        "merge1['new_recover'].min()"
      ],
      "execution_count": 15,
      "outputs": [
        {
          "output_type": "execute_result",
          "data": {
            "text/plain": [
              "-16298"
            ]
          },
          "metadata": {
            "tags": []
          },
          "execution_count": 15
        }
      ]
    },
    {
      "cell_type": "markdown",
      "metadata": {
        "id": "SUx7I9qdQXrm"
      },
      "source": [
        "As per the output above we can see that there exist some negative values this is due to negative corrections and adjustments made by the data source.\n",
        "\n",
        "Now we will subset the data so that it only includes the 6 countries that our data analysis is focused on - Australia, Brazil, India, Russia, South Africa and United States.\n",
        "To do this first we will create a list containing the 6 countries this help improve the readability and assist in further analysis."
      ]
    },
    {
      "cell_type": "code",
      "metadata": {
        "id": "sY6kOdVKalU4"
      },
      "source": [
        "countries=sorted(['United States','India','Russia','Brazil','South Africa', 'Australia'])"
      ],
      "execution_count": 16,
      "outputs": []
    },
    {
      "cell_type": "code",
      "metadata": {
        "id": "mwu0fzefV-sy",
        "outputId": "2a57d3a0-7a0a-40d2-87e0-97e9ad476879",
        "colab": {
          "base_uri": "https://localhost:8080/"
        }
      },
      "source": [
        "covid=merge1[merge1['location'].isin(countries)]\n",
        "covid.shape"
      ],
      "execution_count": 17,
      "outputs": [
        {
          "output_type": "execute_result",
          "data": {
            "text/plain": [
              "(1730, 53)"
            ]
          },
          "metadata": {
            "tags": []
          },
          "execution_count": 17
        }
      ]
    },
    {
      "cell_type": "markdown",
      "metadata": {
        "id": "pv7qezPCYg8q"
      },
      "source": [
        "The data is subsetted as the output above and renamed to *covid*. We can see that the subset consists of 1712 rows and 53 columns now.\n",
        "\n",
        "The other 5 datasets will also needed to be subsetted so that we only include the 6 countries we are conducting analysis on. This will present a simpler view when the group conducts analysis.\n",
        "\n",
        "\n"
      ]
    },
    {
      "cell_type": "code",
      "metadata": {
        "id": "9SaNWH05-BtX"
      },
      "source": [
        "estimate=estimate[estimate['Entity'].isin(countries)]\n",
        "icl=icl[icl['Entity'].isin(countries)]\n",
        "ihme=ihme[ihme['Entity'].isin(countries)]\n",
        "lshtm=ishtm[ishtm['Entity'].isin(countries)]\n",
        "yyg=yyg[yyg['Entity'].isin(countries)]"
      ],
      "execution_count": 18,
      "outputs": []
    },
    {
      "cell_type": "markdown",
      "metadata": {
        "id": "kZtvXPIb-BOf"
      },
      "source": [
        "The above code has only kept the rows that belongs to the countries we are interested in.\n",
        "\n",
        "Now we can continue to the data cleaning stage."
      ]
    },
    {
      "cell_type": "markdown",
      "metadata": {
        "id": "_iZq14Zopc66"
      },
      "source": [
        "### Data Cleaning\n",
        "\n",
        "First, let's check if the the data types for each variables are appropriate."
      ]
    },
    {
      "cell_type": "code",
      "metadata": {
        "id": "O66yK1ZiSCUF",
        "outputId": "920432bf-a670-450c-cc67-86b8591e70fa",
        "colab": {
          "base_uri": "https://localhost:8080/"
        }
      },
      "source": [
        "covid.dtypes"
      ],
      "execution_count": 19,
      "outputs": [
        {
          "output_type": "execute_result",
          "data": {
            "text/plain": [
              "iso_code                                      object\n",
              "continent                                     object\n",
              "location                                      object\n",
              "date                                  datetime64[ns]\n",
              "total_cases                                  float64\n",
              "new_cases                                    float64\n",
              "new_cases_smoothed                           float64\n",
              "total_deaths                                 float64\n",
              "new_deaths                                   float64\n",
              "new_deaths_smoothed                          float64\n",
              "total_cases_per_million                      float64\n",
              "new_cases_per_million                        float64\n",
              "new_cases_smoothed_per_million               float64\n",
              "total_deaths_per_million                     float64\n",
              "new_deaths_per_million                       float64\n",
              "new_deaths_smoothed_per_million              float64\n",
              "icu_patients                                 float64\n",
              "icu_patients_per_million                     float64\n",
              "hosp_patients                                float64\n",
              "hosp_patients_per_million                    float64\n",
              "weekly_icu_admissions                        float64\n",
              "weekly_icu_admissions_per_million            float64\n",
              "weekly_hosp_admissions                       float64\n",
              "weekly_hosp_admissions_per_million           float64\n",
              "total_tests                                  float64\n",
              "new_tests                                    float64\n",
              "total_tests_per_thousand                     float64\n",
              "new_tests_per_thousand                       float64\n",
              "new_tests_smoothed                           float64\n",
              "new_tests_smoothed_per_thousand              float64\n",
              "tests_per_case                               float64\n",
              "positive_rate                                float64\n",
              "tests_units                                   object\n",
              "stringency_index                             float64\n",
              "population                                   float64\n",
              "population_density                           float64\n",
              "median_age                                   float64\n",
              "aged_65_older                                float64\n",
              "aged_70_older                                float64\n",
              "gdp_per_capita                               float64\n",
              "extreme_poverty                              float64\n",
              "cardiovasc_death_rate                        float64\n",
              "diabetes_prevalence                          float64\n",
              "female_smokers                               float64\n",
              "male_smokers                                 float64\n",
              "handwashing_facilities                       float64\n",
              "hospital_beds_per_thousand                   float64\n",
              "life_expectancy                              float64\n",
              "human_development_index                      float64\n",
              "Lat                                          float64\n",
              "Long                                         float64\n",
              "total_recovered                                int64\n",
              "new_recover                                    int64\n",
              "dtype: object"
            ]
          },
          "metadata": {
            "tags": []
          },
          "execution_count": 19
        }
      ]
    },
    {
      "cell_type": "markdown",
      "metadata": {
        "id": "k8whHTnEVQNQ"
      },
      "source": [
        "No change in data types are required, since the data types are correct with numerical values in float64 type, date in datetime format and country codes and country names being objects."
      ]
    },
    {
      "cell_type": "markdown",
      "metadata": {
        "id": "b5fYL-ctSO1_"
      },
      "source": [
        "Now we need to consider dealing with missing values by looking at the counts of the number of NA values in the dataset."
      ]
    },
    {
      "cell_type": "code",
      "metadata": {
        "id": "AG9wPx6ppeBX",
        "outputId": "38d4b788-b511-42ba-c6b7-e7c9801089d0",
        "colab": {
          "base_uri": "https://localhost:8080/"
        }
      },
      "source": [
        "covid.isna().sum(axis = 0)"
      ],
      "execution_count": 20,
      "outputs": [
        {
          "output_type": "execute_result",
          "data": {
            "text/plain": [
              "iso_code                                 0\n",
              "continent                                0\n",
              "location                                 0\n",
              "date                                     0\n",
              "total_cases                             87\n",
              "new_cases                               31\n",
              "new_cases_smoothed                      34\n",
              "total_deaths                           299\n",
              "new_deaths                              31\n",
              "new_deaths_smoothed                     34\n",
              "total_cases_per_million                 87\n",
              "new_cases_per_million                   31\n",
              "new_cases_smoothed_per_million          34\n",
              "total_deaths_per_million               299\n",
              "new_deaths_per_million                  31\n",
              "new_deaths_smoothed_per_million         34\n",
              "icu_patients                          1730\n",
              "icu_patients_per_million              1730\n",
              "hosp_patients                         1730\n",
              "hosp_patients_per_million             1730\n",
              "weekly_icu_admissions                 1730\n",
              "weekly_icu_admissions_per_million     1730\n",
              "weekly_hosp_admissions                1730\n",
              "weekly_hosp_admissions_per_million    1730\n",
              "total_tests                            558\n",
              "new_tests                              614\n",
              "total_tests_per_thousand               558\n",
              "new_tests_per_thousand                 614\n",
              "new_tests_smoothed                     448\n",
              "new_tests_smoothed_per_thousand        448\n",
              "tests_per_case                         558\n",
              "positive_rate                          558\n",
              "tests_units                            398\n",
              "stringency_index                        44\n",
              "population                               0\n",
              "population_density                       0\n",
              "median_age                               0\n",
              "aged_65_older                            0\n",
              "aged_70_older                            0\n",
              "gdp_per_capita                           0\n",
              "extreme_poverty                          0\n",
              "cardiovasc_death_rate                    0\n",
              "diabetes_prevalence                      0\n",
              "female_smokers                           0\n",
              "male_smokers                             0\n",
              "handwashing_facilities                1164\n",
              "hospital_beds_per_thousand               0\n",
              "life_expectancy                          0\n",
              "human_development_index                  0\n",
              "Lat                                      0\n",
              "Long                                     0\n",
              "total_recovered                          0\n",
              "new_recover                              0\n",
              "dtype: int64"
            ]
          },
          "metadata": {
            "tags": []
          },
          "execution_count": 20
        }
      ]
    },
    {
      "cell_type": "markdown",
      "metadata": {
        "id": "qpk2E5szpydG"
      },
      "source": [
        "From the output above, we can see that for many variables we have NA / missing values. These variables include total_cases, new_cases, new_cases_smoothed...number of icu_patients,female_smokers,handwashing_facilities naming a few. This is due to technology inabilities or countries that does not report certain information or other factors that impede the data collection for these information. \n",
        "\n",
        "Since in this stage of the analysis we are looking at the confirmed,death, and recovered cases therefore, in this stage we will need to replace those NAs with 0. However, we will leave the other varoables untouched such as handwashing_facilities, icu_patients, stringent_index naming a few, since it would not be sensible to replace these variables with 0 as they are data that's not reported, we cannot interpret them as 0."
      ]
    },
    {
      "cell_type": "code",
      "metadata": {
        "id": "NHnkCS9nwfW4",
        "outputId": "02e54675-d51d-4738-c80c-726958eb941b",
        "colab": {
          "base_uri": "https://localhost:8080/"
        }
      },
      "source": [
        "cols = ['total_cases','new_cases','new_cases_smoothed','total_deaths','new_deaths','new_deaths_smoothed','total_cases_per_million','new_cases_per_million','new_cases_smoothed_per_million','total_deaths_per_million','new_deaths_per_million','new_deaths_smoothed_per_million','total_tests','new_tests','total_tests_per_thousand','new_tests_per_thousand','new_tests_smoothed','new_tests_smoothed_per_thousand','tests_per_case','total_recovered','new_recover']\n",
        "covid[cols]=covid[cols].fillna(0.0001)\n",
        "covid[cols]=covid[cols].replace(0,0.0001)"
      ],
      "execution_count": 21,
      "outputs": [
        {
          "output_type": "stream",
          "text": [
            "/usr/local/lib/python3.6/dist-packages/pandas/core/frame.py:3069: SettingWithCopyWarning:\n",
            "\n",
            "\n",
            "A value is trying to be set on a copy of a slice from a DataFrame.\n",
            "Try using .loc[row_indexer,col_indexer] = value instead\n",
            "\n",
            "See the caveats in the documentation: https://pandas.pydata.org/pandas-docs/stable/user_guide/indexing.html#returning-a-view-versus-a-copy\n",
            "\n",
            "/usr/local/lib/python3.6/dist-packages/pandas/core/frame.py:3069: SettingWithCopyWarning:\n",
            "\n",
            "\n",
            "A value is trying to be set on a copy of a slice from a DataFrame.\n",
            "Try using .loc[row_indexer,col_indexer] = value instead\n",
            "\n",
            "See the caveats in the documentation: https://pandas.pydata.org/pandas-docs/stable/user_guide/indexing.html#returning-a-view-versus-a-copy\n",
            "\n"
          ],
          "name": "stderr"
        }
      ]
    },
    {
      "cell_type": "markdown",
      "metadata": {
        "id": "1MWYcOdlyV4w"
      },
      "source": [
        "With the above code,we have replaced the selected columns with 0. Check if this has been effective by counting the total sum of NAs."
      ]
    },
    {
      "cell_type": "code",
      "metadata": {
        "id": "OSigFJTwvV4A",
        "outputId": "c3c2945f-e9b9-493b-ba3b-ea5b6392f789",
        "colab": {
          "base_uri": "https://localhost:8080/"
        }
      },
      "source": [
        "covid.isna().sum(axis = 0)"
      ],
      "execution_count": 22,
      "outputs": [
        {
          "output_type": "execute_result",
          "data": {
            "text/plain": [
              "iso_code                                 0\n",
              "continent                                0\n",
              "location                                 0\n",
              "date                                     0\n",
              "total_cases                              0\n",
              "new_cases                                0\n",
              "new_cases_smoothed                       0\n",
              "total_deaths                             0\n",
              "new_deaths                               0\n",
              "new_deaths_smoothed                      0\n",
              "total_cases_per_million                  0\n",
              "new_cases_per_million                    0\n",
              "new_cases_smoothed_per_million           0\n",
              "total_deaths_per_million                 0\n",
              "new_deaths_per_million                   0\n",
              "new_deaths_smoothed_per_million          0\n",
              "icu_patients                          1730\n",
              "icu_patients_per_million              1730\n",
              "hosp_patients                         1730\n",
              "hosp_patients_per_million             1730\n",
              "weekly_icu_admissions                 1730\n",
              "weekly_icu_admissions_per_million     1730\n",
              "weekly_hosp_admissions                1730\n",
              "weekly_hosp_admissions_per_million    1730\n",
              "total_tests                              0\n",
              "new_tests                                0\n",
              "total_tests_per_thousand                 0\n",
              "new_tests_per_thousand                   0\n",
              "new_tests_smoothed                       0\n",
              "new_tests_smoothed_per_thousand          0\n",
              "tests_per_case                           0\n",
              "positive_rate                          558\n",
              "tests_units                            398\n",
              "stringency_index                        44\n",
              "population                               0\n",
              "population_density                       0\n",
              "median_age                               0\n",
              "aged_65_older                            0\n",
              "aged_70_older                            0\n",
              "gdp_per_capita                           0\n",
              "extreme_poverty                          0\n",
              "cardiovasc_death_rate                    0\n",
              "diabetes_prevalence                      0\n",
              "female_smokers                           0\n",
              "male_smokers                             0\n",
              "handwashing_facilities                1164\n",
              "hospital_beds_per_thousand               0\n",
              "life_expectancy                          0\n",
              "human_development_index                  0\n",
              "Lat                                      0\n",
              "Long                                     0\n",
              "total_recovered                          0\n",
              "new_recover                              0\n",
              "dtype: int64"
            ]
          },
          "metadata": {
            "tags": []
          },
          "execution_count": 22
        }
      ]
    },
    {
      "cell_type": "markdown",
      "metadata": {
        "id": "ECdfz-1zjsH9"
      },
      "source": [
        "The missing values have been successfully cleaned and replaced as shown in the counts above.\n",
        "\n",
        "Now let's continue to check if there exists any null value in the models dataset (including *estimate*, *yyg*,*ihme*,*icl*,*ishtm*)\n",
        "\n"
      ]
    },
    {
      "cell_type": "code",
      "metadata": {
        "id": "yrf4wyuDA9hu",
        "outputId": "69ec2808-0399-46bc-e2b0-3dfe3967cd67",
        "colab": {
          "base_uri": "https://localhost:8080/"
        }
      },
      "source": [
        "estimate.isna().sum(axis = 0)\n"
      ],
      "execution_count": 23,
      "outputs": [
        {
          "output_type": "execute_result",
          "data": {
            "text/plain": [
              "Entity                                                                                             0\n",
              "Code                                                                                               0\n",
              "Date                                                                                               0\n",
              "Daily new confirmed cases due to COVID-19 (rolling 7-day average, right-aligned)                  34\n",
              "Daily new confirmed cases due to COVID-19 (rolling 7-day average, right-aligned) Annotations    1773\n",
              "Daily new estimated infections of COVID-19 (ICL, mean)                                           197\n",
              "Daily new estimated infections of COVID-19 (IHME, mean)                                          221\n",
              "Daily new estimated infections of COVID-19 (YYG, mean)                                           390\n",
              "Daily new estimated infections of COVID-19 (LSHTM, median)                                       851\n",
              "dtype: int64"
            ]
          },
          "metadata": {
            "tags": []
          },
          "execution_count": 23
        }
      ]
    },
    {
      "cell_type": "markdown",
      "metadata": {
        "id": "FZVXJYg4DhI8"
      },
      "source": [
        "As printed above, we can see each infection case estimation model has a certain degree of incomplete data or null values. This is because the models each have a different update frequency approximately every 2 to 3 weeks, hence the data available to us is lagged in the dates. With some models ceased updates since August, this may be due to various reasons. Therefore, in this situation we should not replace the missing values with 0s which could potentially decrease the accuracy or magnifying the uncertainties during the data cleaning stage. We will leave these values untouched so that they are not included in our later calculations of COVID-19's death rate."
      ]
    },
    {
      "cell_type": "markdown",
      "metadata": {
        "id": "ivbcVV7uoURH"
      },
      "source": [
        "- *(This section below is added on 4th of Nov)*\n",
        "\n",
        "\n",
        "Same process is required for the other 4 model estimation datasets.\n",
        "We will first check the data types of the variables in the datasets."
      ]
    },
    {
      "cell_type": "code",
      "metadata": {
        "id": "0ehinTQLllgv",
        "outputId": "2c12af3d-990c-4439-fe72-bf12e0ddd209",
        "colab": {
          "base_uri": "https://localhost:8080/"
        }
      },
      "source": [
        "print(ishtm.dtypes)\n",
        "print(estimate.dtypes)"
      ],
      "execution_count": 24,
      "outputs": [
        {
          "output_type": "stream",
          "text": [
            "Entity                                                                                           object\n",
            "Code                                                                                             object\n",
            "Date                                                                                             object\n",
            "Daily new confirmed cases due to COVID-19 (rolling 7-day average, right-aligned)                float64\n",
            "Daily new confirmed cases due to COVID-19 (rolling 7-day average, right-aligned) Annotations     object\n",
            "Daily new estimated infections of COVID-19 (LSHTM, median)                                      float64\n",
            "Daily new estimated infections of COVID-19 (LSHTM, lower)                                       float64\n",
            "Daily new estimated infections of COVID-19 (LSHTM, upper)                                       float64\n",
            "dtype: object\n",
            "Entity                                                                                           object\n",
            "Code                                                                                             object\n",
            "Date                                                                                             object\n",
            "Daily new confirmed cases due to COVID-19 (rolling 7-day average, right-aligned)                float64\n",
            "Daily new confirmed cases due to COVID-19 (rolling 7-day average, right-aligned) Annotations     object\n",
            "Daily new estimated infections of COVID-19 (ICL, mean)                                          float64\n",
            "Daily new estimated infections of COVID-19 (IHME, mean)                                         float64\n",
            "Daily new estimated infections of COVID-19 (YYG, mean)                                          float64\n",
            "Daily new estimated infections of COVID-19 (LSHTM, median)                                      float64\n",
            "dtype: object\n"
          ],
          "name": "stdout"
        }
      ]
    },
    {
      "cell_type": "markdown",
      "metadata": {
        "id": "Bg-FNa6toywv"
      },
      "source": [
        "The date variable needs to be changed into dateformat."
      ]
    },
    {
      "cell_type": "code",
      "metadata": {
        "id": "YG08vonCoCVm"
      },
      "source": [
        "icl['Date']=pd.to_datetime(icl['Date'], errors='ignore')\n",
        "ihme['Date']=pd.to_datetime(ihme['Date'], errors='ignore')\n",
        "yyg['Date']=pd.to_datetime(yyg['Date'], errors='ignore')\n",
        "ishtm['Date']=pd.to_datetime(ishtm['Date'], errors='ignore')\n",
        "estimate['Date']=pd.to_datetime(estimate['Date'], errors='ignore')"
      ],
      "execution_count": 25,
      "outputs": []
    },
    {
      "cell_type": "markdown",
      "metadata": {
        "id": "cNw2s_NBpPui"
      },
      "source": [
        "All four estimation model datasets have been changed into dateformat.\n",
        "\n"
      ]
    },
    {
      "cell_type": "markdown",
      "metadata": {
        "id": "objnXFf8qARB"
      },
      "source": [
        "Now for the ease of analysis and readability of the codes, we will replace the variable names that are untidy with short and meaningful variable names."
      ]
    },
    {
      "cell_type": "code",
      "metadata": {
        "id": "xM9FjHNIx1Rc"
      },
      "source": [
        "estimate.rename(columns={'Daily new confirmed cases due to COVID-19 (rolling 7-day average, right-aligned)':'daily_new_confirmed',\n",
        "                    'Daily new confirmed cases due to COVID-19 (rolling 7-day average, right-aligned) Annotations':'annotations',\n",
        "                    'Daily new estimated infections of COVID-19 (ICL, mean)':'icl_mean',\n",
        "                    'Daily new estimated infections of COVID-19 (IHME, mean)':'ihme_mean',\n",
        "                    'Daily new estimated infections of COVID-19 (YYG, mean)':'yyg_mean',\n",
        "                    'Daily new estimated infections of COVID-19 (LSHTM, median)':'lshtm_median'},inplace=True)\n",
        "ihme.rename(columns={'Daily new confirmed cases due to COVID-19 (rolling 7-day average, right-aligned)':'daily_new_confirmed',\n",
        "                    'Daily new confirmed cases due to COVID-19 (rolling 7-day average, right-aligned) Annotations':'annotations',\n",
        "                    'Daily new estimated infections of COVID-19 (IHME, mean)':'ihme_mean',\n",
        "                    'Daily new estimated infections of COVID-19 (IHME, lower)':'ihme_lower',\n",
        "                    'Daily new estimated infections of COVID-19 (IHME, upper)':'ihme_upper'},inplace=True)\n",
        "\n",
        "icl.rename(columns={'Daily new confirmed cases due to COVID-19 (rolling 7-day average, right-aligned)':'daily_new_confirmed',\n",
        "                    'Daily new confirmed cases due to COVID-19 (rolling 7-day average, right-aligned) Annotations':'annotations',\n",
        "                    'Daily new estimated infections of COVID-19 (ICL, mean)':'icl_mean',\n",
        "                    'Daily new estimated infections of COVID-19 (ICL, lower)':'icl_lower',\n",
        "                    'Daily new estimated infections of COVID-19 (ICL, upper)':'icl_upper'},inplace=True)\n",
        "\n",
        "yyg.rename(columns={'Daily new confirmed cases due to COVID-19 (rolling 7-day average, right-aligned)':'daily_new_confirmed',\n",
        "                    'Daily new confirmed cases due to COVID-19 (rolling 7-day average, right-aligned) Annotations':'annotations',\n",
        "                    'Daily new estimated infections of COVID-19 (YYG, mean)':'yyg_mean',\n",
        "                    'Daily new estimated infections of COVID-19 (YYG, lower)':'yyg_lower',\n",
        "                    'Daily new estimated infections of COVID-19 (YYG, upper)':'yyg_upper'},inplace=True)\n",
        "\n",
        "ishtm.rename(columns={'Daily new confirmed cases due to COVID-19 (rolling 7-day average, right-aligned)':'daily_new_confirmed',\n",
        "                    'Daily new confirmed cases due to COVID-19 (rolling 7-day average, right-aligned) Annotations':'annotations',\n",
        "                    'Daily new estimated infections of COVID-19 (LSHTM, median)':'lshtm_median',\n",
        "                    'Daily new estimated infections of COVID-19 (LSHTM, lower)':'lshtm_lower',\n",
        "                    'Daily new estimated infections of COVID-19 (LSHTM, upper)':'lshtm_upper'},inplace=True)"
      ],
      "execution_count": 26,
      "outputs": []
    },
    {
      "cell_type": "markdown",
      "metadata": {
        "id": "Yjwq5qCbyZgC"
      },
      "source": [
        "In the above code the long variable names for all 4 datasets have been replaced with a shorter name for later analysis."
      ]
    },
    {
      "cell_type": "markdown",
      "metadata": {
        "id": "b6oefTHDdjWV"
      },
      "source": [
        "## Outliers \n",
        "\n",
        "- *This section is written on the 6th of Nov*\n",
        "\n",
        "Now moving on to checking existing outliers in the dataset. To visualise the outliers we will use box plots for the variables that will be used in later analysis and are not a constant value, this includes *total_cases, new_cases, new_cases_smoothed, total_deaths, new_deaths, new_deaths_smoothed,total_recovered and new_recover.*"
      ]
    },
    {
      "cell_type": "code",
      "metadata": {
        "id": "iLpa1mI7Aky6",
        "outputId": "be27af85-a9e3-4372-8778-f675850dc280",
        "colab": {
          "base_uri": "https://localhost:8080/",
          "height": 542
        }
      },
      "source": [
        "variable_list=['total_cases','new_cases','new_cases_smoothed','total_deaths','new_deaths','new_deaths_smoothed','total_recovered','new_recover','total_tests','new_tests','new_tests_smoothed']\n",
        "box1 = make_subplots(rows=4, cols=2)\n",
        "ntuple=([1,1],[1,2],[1,2],[2,1],[2,2],[2,2],[4,1],[4,2],[3,1],[3,2],[3,2])\n",
        "for i,j in enumerate(range(len(ntuple))):\n",
        "  box1.add_trace(\n",
        "    go.Box(y=covid[variable_list[i]],name=variable_list[i]),\n",
        "      row=ntuple[j][0], col=ntuple[j][1])\n",
        "  \n",
        "box1.show()"
      ],
      "execution_count": 62,
      "outputs": [
        {
          "output_type": "display_data",
          "data": {
            "text/html": [
              "<html>\n",
              "<head><meta charset=\"utf-8\" /></head>\n",
              "<body>\n",
              "    <div>\n",
              "            <script src=\"https://cdnjs.cloudflare.com/ajax/libs/mathjax/2.7.5/MathJax.js?config=TeX-AMS-MML_SVG\"></script><script type=\"text/javascript\">if (window.MathJax) {MathJax.Hub.Config({SVG: {font: \"STIX-Web\"}});}</script>\n",
              "                <script type=\"text/javascript\">window.PlotlyConfig = {MathJaxConfig: 'local'};</script>\n",
              "        <script src=\"https://cdn.plot.ly/plotly-latest.min.js\"></script>    \n",
              "            <div id=\"e9337f74-aa73-4aa6-8544-f0118d7ebbf4\" class=\"plotly-graph-div\" style=\"height:525px; width:100%;\"></div>\n",
              "            <script type=\"text/javascript\">\n",
              "                \n",
              "                    window.PLOTLYENV=window.PLOTLYENV || {};\n",
              "                    \n",
              "                if (document.getElementById(\"e9337f74-aa73-4aa6-8544-f0118d7ebbf4\")) {\n",
              "                    Plotly.newPlot(\n",
              "                        'e9337f74-aa73-4aa6-8544-f0118d7ebbf4',\n",
              "                        [{\"name\": \"total_cases\", \"type\": \"box\", \"xaxis\": \"x\", \"y\": [0.0001, 0.0001, 0.0001, 1.0, 4.0, 4.0, 4.0, 4.0, 6.0, 7.0, 9.0, 11.0, 11.0, 11.0, 12.0, 13.0, 14.0, 14.0, 14.0, 14.0, 14.0, 14.0, 14.0, 15.0, 15.0, 15.0, 15.0, 15.0, 15.0, 15.0, 17.0, 21.0, 22.0, 22.0, 22.0, 22.0, 23.0, 23.0, 25.0, 26.0, 29.0, 33.0, 41.0, 52.0, 59.0, 63.0, 74.0, 80.0, 100.0, 112.0, 126.0, 156.0, 197.0, 249.0, 298.0, 375.0, 454.0, 565.0, 709.0, 874.0, 1098.0, 1709.0, 1823.0, 2423.0, 2799.0, 3166.0, 3378.0, 3809.0, 4093.0, 4557.0, 4707.0, 4976.0, 5224.0, 5548.0, 5687.0, 5744.0, 5844.0, 5956.0, 6052.0, 6152.0, 6238.0, 6289.0, 6322.0, 6366.0, 6416.0, 6458.0, 6497.0, 6533.0, 6586.0, 6612.0, 6625.0, 6647.0, 6654.0, 6667.0, 6687.0, 6703.0, 6713.0, 6725.0, 6738.0, 6746.0, 6762.0, 6767.0, 6783.0, 6801.0, 6825.0, 6849.0, 6875.0, 6896.0, 6914.0, 6929.0, 6941.0, 6948.0, 6964.0, 6975.0, 6989.0, 7019.0, 7036.0, 7045.0, 7060.0, 7068.0, 7079.0, 7081.0, 7095.0, 7106.0, 7109.0, 7118.0, 7133.0, 7139.0, 7150.0, 7173.0, 7185.0, 7195.0, 7204.0, 7221.0, 7229.0, 7240.0, 7251.0, 7255.0, 7260.0, 7265.0, 7267.0, 7276.0, 7285.0, 7290.0, 7302.0, 7320.0, 7335.0, 7347.0, 7370.0, 7391.0, 7409.0, 7436.0, 7461.0, 7474.0, 7492.0, 7521.0, 7558.0, 7595.0, 7641.0, 7686.0, 7767.0, 7834.0, 7920.0, 8001.0, 8255.0, 8362.0, 8449.0, 8586.0, 8755.0, 8886.0, 9059.0, 9359.0, 9553.0, 9797.0, 9980.0, 10251.0, 10495.0, 10810.0, 11235.0, 11441.0, 11802.0, 12069.0, 12428.0, 12896.0, 13306.0, 13595.0, 13950.0, 14403.0, 14935.0, 15304.0, 15582.0, 16303.0, 16905.0, 17282.0, 17923.0, 18318.0, 18729.0, 19444.0, 19862.0, 20272.0, 20698.0, 21084.0, 21397.0, 21713.0, 22127.0, 22358.0, 22743.0, 23035.0, 23288.0, 23599.0, 23773.0, 23993.0, 24236.0, 24407.0, 24602.0, 24812.0, 24916.0, 25053.0, 25205.0, 25322.0, 25448.0, 25547.0, 25670.0, 25746.0, 25819.0, 25923.0, 26049.0, 26136.0, 26207.0, 26279.0, 26322.0, 26374.0, 26465.0, 26513.0, 26565.0, 26607.0, 26651.0, 26692.0, 26738.0, 26779.0, 26813.0, 26861.0, 26885.0, 26898.0, 26912.0, 26942.0, 26973.0, 26983.0, 27000.0, 27016.0, 27040.0, 27044.0, 27063.0, 27063.0, 27096.0, 27113.0, 27121.0, 27136.0, 27149.0, 27174.0, 27182.0, 27206.0, 27229.0, 27244.0, 27264.0, 27286.0, 27317.0, 27341.0, 27362.0, 27371.0, 27383.0, 27390.0, 27399.0, 27430.0, 27444.0, 27466.0, 27484.0, 27499.0, 27520.0, 27527.0, 27541.0, 27554.0, 27569.0, 27582.0, 27590.0, 27595.0, 27602.0, 27610.0, 27622.0, 27633.0, 27645.0, 0.0001, 0.0001, 0.0001, 0.0001, 0.0001, 0.0001, 0.0001, 0.0001, 0.0001, 0.0001, 0.0001, 0.0001, 0.0001, 0.0001, 0.0001, 0.0001, 0.0001, 0.0001, 0.0001, 0.0001, 0.0001, 0.0001, 0.0001, 0.0001, 0.0001, 0.0001, 0.0001, 0.0001, 0.0001, 0.0001, 0.0001, 0.0001, 0.0001, 0.0001, 0.0001, 1.0, 1.0, 1.0, 1.0, 2.0, 2.0, 2.0, 2.0, 3.0, 8.0, 13.0, 13.0, 25.0, 25.0, 34.0, 52.0, 77.0, 98.0, 121.0, 200.0, 234.0, 291.0, 428.0, 621.0, 904.0, 1128.0, 1546.0, 1891.0, 2201.0, 2433.0, 2915.0, 3417.0, 3904.0, 4256.0, 4579.0, 5717.0, 6836.0, 7910.0, 9056.0, 10278.0, 11130.0, 12056.0, 13717.0, 15927.0, 17857.0, 19638.0, 20727.0, 22169.0, 23430.0, 25262.0, 28320.0, 30425.0, 33682.0, 36599.0, 38654.0, 40581.0, 43079.0, 45757.0, 49492.0, 52995.0, 58509.0, 61888.0, 66501.0, 71886.0, 78162.0, 85380.0, 91589.0, 96559.0, 101147.0, 107780.0, 114715.0, 125218.0, 135106.0, 145328.0, 155939.0, 162699.0, 168331.0, 177589.0, 188974.0, 202918.0, 218223.0, 233142.0, 241080.0, 254220.0, 271628.0, 291579.0, 310087.0, 330890.0, 347398.0, 363211.0, 374898.0, 391222.0, 411821.0, 438238.0, 465166.0, 498440.0, 514849.0, 526447.0, 555383.0, 584016.0, 614932.0, 645762.0, 672837.0, 691758.0, 707412.0, 739503.0, 772416.0, 802828.0, 828810.0, 850514.0, 867624.0, 888271.0, 923189.0, 955377.0, 978142.0, 1032913.0, 1067579.0, 1085038.0, 1106470.0, 1145906.0, 1188631.0, 1228114.0, 1274974.0, 1313667.0, 1344143.0, 1368195.0, 1402041.0, 1448753.0, 1496858.0, 1539081.0, 1577004.0, 1603055.0, 1623284.0, 1668589.0, 1713160.0, 1755779.0, 1800827.0, 1839850.0, 1864681.0, 1884967.0, 1926824.0, 1966748.0, 2012151.0, 2046328.0, 2074860.0, 2098389.0, 2118646.0, 2159654.0, 2227514.0, 2287475.0, 2343366.0, 2394513.0, 2419091.0, 2442375.0, 2483191.0, 2552265.0, 2610102.0, 2662485.0, 2707877.0, 2733677.0, 2750318.0, 2801921.0, 2859073.0, 2912212.0, 2962442.0, 3012412.0, 3035422.0, 3057470.0, 3109630.0, 3164785.0, 3224876.0, 3275520.0, 3317096.0, 3340197.0, 3359570.0, 3407354.0, 3456652.0, 3501975.0, 3532330.0, 3582362.0, 3605783.0, 3622861.0, 3669995.0, 3717156.0, 3761391.0, 3804803.0, 3846153.0, 3862311.0, 3908272.0, 3950931.0, 3997865.0, 4041638.0, 4092832.0, 4123000.0, 4137521.0, 4147794.0, 4162073.0, 4197889.0, 4238446.0, 4282164.0, 4315687.0, 4330455.0, 4345610.0, 4382263.0, 4419083.0, 4455386.0, 4495183.0, 4528240.0, 4544629.0, 4558068.0, 4591604.0, 4624885.0, 4657702.0, 4689613.0, 4717991.0, 4732309.0, 4745464.0, 4777522.0, 4810935.0, 4847092.0, 4880523.0, 4906833.0, 4915289.0, 4927235.0, 4969141.0, 5000694.0, 5028444.0, 5055888.0, 5082637.0, 5094982.0, 5103408.0, 5113628.0, 5140863.0, 5169386.0, 5200300.0, 5224362.0, 5235344.0, 5250727.0, 5273954.0, 5298772.0, 5323630.0, 5353656.0, 5380635.0, 5394128.0, 5409854.0, 5439641.0, 5468270.0, 5494376.0, 5516658.0, 5535605.0, 5545705.0, 5554206.0, 5566049.0, 5590025.0, 5590025.0, 5590025.0, 0.0001, 0.0001, 0.0001, 0.0001, 0.0001, 0.0001, 0.0001, 0.0001, 1.0, 1.0, 1.0, 2.0, 2.0, 3.0, 3.0, 3.0, 3.0, 3.0, 3.0, 3.0, 3.0, 3.0, 3.0, 3.0, 3.0, 3.0, 3.0, 3.0, 3.0, 3.0, 3.0, 3.0, 3.0, 3.0, 3.0, 3.0, 3.0, 3.0, 3.0, 3.0, 3.0, 5.0, 6.0, 28.0, 29.0, 31.0, 34.0, 0.0001, 44.0, 50.0, 73.0, 75.0, 83.0, 90.0, 93.0, 125.0, 137.0, 165.0, 191.0, 231.0, 320.0, 439.0, 492.0, 562.0, 649.0, 724.0, 873.0, 979.0, 1071.0, 1251.0, 1397.0, 1965.0, 2301.0, 2902.0, 3374.0, 4067.0, 4421.0, 5194.0, 5734.0, 6412.0, 7447.0, 8356.0, 9152.0, 10363.0, 11438.0, 12380.0, 13387.0, 14378.0, 15712.0, 17265.0, 18600.0, 19984.0, 21393.0, 23077.0, 24506.0, 26496.0, 27892.0, 29435.0, 31332.0, 33050.0, 35043.0, 37336.0, 39980.0, 42533.0, 46433.0, 49391.0, 52952.0, 56342.0, 59662.0, 62939.0, 67152.0, 70756.0, 74281.0, 78003.0, 81970.0, 85940.0, 90927.0, 96169.0, 101139.0, 106750.0, 112359.0, 118447.0, 125101.0, 131868.0, 138845.0, 145380.0, 151767.0, 158333.0, 165799.0, 173763.0, 182143.0, 190535.0, 198706.0, 207615.0, 216919.0, 226770.0, 236657.0, 246628.0, 256611.0, 266598.0, 276583.0, 286579.0, 297535.0, 308993.0, 320922.0, 332424.0, 343091.0, 354065.0, 366946.0, 380532.0, 395048.0, 410461.0, 425282.0, 440215.0, 456183.0, 473105.0, 490401.0, 508953.0, 528859.0, 548318.0, 566840.0, 585493.0, 604641.0, 625544.0, 648315.0, 673165.0, 697413.0, 719665.0, 742417.0, 767296.0, 793802.0, 820916.0, 849553.0, 878254.0, 906752.0, 936181.0, 968876.0, 1003832.0, 1038716.0, 1077618.0, 1118043.0, 1155191.0, 1192915.0, 1238635.0, 1287945.0, 1336861.0, 1385522.0, 1435453.0, 1483156.0, 1531669.0, 1583792.0, 1638870.0, 1695988.0, 1750723.0, 1803695.0, 1855745.0, 1908254.0, 1964536.0, 2027074.0, 2088611.0, 2153010.0, 2215074.0, 2268675.0, 2329638.0, 2396637.0, 2461190.0, 2526192.0, 2589682.0, 2647663.0, 2702742.0, 2767273.0, 2836925.0, 2905823.0, 2975701.0, 3044940.0, 3106348.0, 3167323.0, 3234474.0, 3310234.0, 3387500.0, 3463972.0, 3542733.0, 3621245.0, 3691166.0, 3769523.0, 3853406.0, 3936747.0, 4023179.0, 4113811.0, 4204613.0, 4280422.0, 4370128.0, 4465863.0, 4562414.0, 4659984.0, 4754356.0, 4846427.0, 4930236.0, 5020359.0, 5118253.0, 5214677.0, 5308014.0, 5400619.0, 5487580.0, 5562663.0, 5646010.0, 5732518.0, 5818570.0, 5903932.0, 5992532.0, 6074702.0, 6145291.0, 6225763.0, 6312584.0, 6394068.0, 6473544.0, 6549373.0, 6623815.0, 6685082.0, 6757131.0, 6835655.0, 6906151.0, 6979423.0, 7053806.0, 7120538.0, 7175880.0, 7239389.0, 7307097.0, 7370468.0, 7432680.0, 7494551.0, 7550273.0, 7597063.0, 7651107.0, 7706946.0, 7761312.0, 7814682.0, 7864811.0, 7909959.0, 7946429.0, 7990322.0, 8040203.0, 8088851.0, 8137119.0, 8184082.0, 8229313.0, 8267623.0, 8313876.0, 8364086.0, 8411724.0, 8462080.0, 0.0001, 0.0001, 0.0001, 0.0001, 0.0001, 0.0001, 0.0001, 0.0001, 0.0001, 0.0001, 2.0, 2.0, 2.0, 2.0, 2.0, 2.0, 2.0, 2.0, 2.0, 2.0, 2.0, 2.0, 2.0, 2.0, 2.0, 2.0, 2.0, 2.0, 2.0, 2.0, 2.0, 2.0, 2.0, 2.0, 2.0, 2.0, 2.0, 2.0, 2.0, 2.0, 2.0, 3.0, 4.0, 4.0, 4.0, 10.0, 10.0, 10.0, 10.0, 10.0, 25.0, 30.0, 45.0, 59.0, 63.0, 93.0, 114.0, 147.0, 199.0, 253.0, 306.0, 367.0, 438.0, 495.0, 658.0, 840.0, 1036.0, 1264.0, 1534.0, 1836.0, 2337.0, 2777.0, 3548.0, 4149.0, 4731.0, 5389.0, 6343.0, 7497.0, 8672.0, 10131.0, 11917.0, 13584.0, 15770.0, 18328.0, 21102.0, 24490.0, 27938.0, 32008.0, 36793.0, 42853.0, 47121.0, 52763.0, 57999.0, 62773.0, 68622.0, 74588.0, 80949.0, 87147.0, 93558.0, 99399.0, 106498.0, 114431.0, 124054.0, 134687.0, 145268.0, 155370.0, 165929.0, 177160.0, 187859.0, 198676.0, 209688.0, 221344.0, 232243.0, 242271.0, 252245.0, 262843.0, 272043.0, 281752.0, 290678.0, 299941.0, 308705.0, 317554.0, 326448.0, 335882.0, 344481.0, 353427.0, 362342.0, 370680.0, 379051.0, 387623.0, 396575.0, 405843.0, 414878.0, 423741.0, 432277.0, 441108.0, 449834.0, 458689.0, 467673.0, 476658.0, 485253.0, 493657.0, 502436.0, 511423.0, 520129.0, 528964.0, 537210.0, 545458.0, 553301.0, 561091.0, 569063.0, 576952.0, 584680.0, 592280.0, 599705.0, 606881.0, 613994.0, 620794.0, 627646.0, 634437.0, 641156.0, 647849.0, 654405.0, 661165.0, 667883.0, 674515.0, 681251.0, 687862.0, 694230.0, 700792.0, 707301.0, 713936.0, 720547.0, 727162.0, 733699.0, 739947.0, 746369.0, 752797.0, 759203.0, 765437.0, 771546.0, 777486.0, 783328.0, 789190.0, 795038.0, 800849.0, 806720.0, 812485.0, 818120.0, 823515.0, 828990.0, 834499.0, 839981.0, 845443.0, 850870.0, 856264.0, 861423.0, 867343.0, 871894.0, 877135.0, 882347.0, 887536.0, 892654.0, 897599.0, 902701.0, 907758.0, 912823.0, 917884.0, 922853.0, 927745.0, 932493.0, 937321.0, 942106.0, 946976.0, 951897.0, 956749.0, 961493.0, 966189.0, 970865.0, 975576.0, 980405.0, 985346.0, 990326.0, 995319.0, 1000048.0, 1005000.0, 1009995.0, 1015105.0, 1020310.0, 1025505.0, 1030690.0, 1035789.0, 1041007.0, 1046370.0, 1051874.0, 1057362.0, 1062811.0, 1068320.0, 1073849.0, 1079519.0, 1085281.0, 1091186.0, 1097251.0, 1103399.0, 1109595.0, 1115810.0, 1122241.0, 1128836.0, 1136048.0, 1143571.0, 1151438.0, 1159573.0, 1167805.0, 1176286.0, 1185231.0, 1194643.0, 1204502.0, 1215001.0, 1225889.0, 1237504.0, 1248619.0, 1260112.0, 1272238.0, 1285084.0, 1298718.0, 1312310.0, 1326178.0, 1340409.0, 1354163.0, 1369313.0, 1384235.0, 1399334.0, 1415316.0, 1431635.0, 1447335.0, 1463306.0, 1480646.0, 1497167.0, 1513877.0, 1531224.0, 1547774.0, 1563976.0, 1581693.0, 1599976.0, 1618116.0, 1636781.0, 1655038.0, 1673686.0, 1693454.0, 1712858.0, 1733440.0, 0.0001, 0.0001, 0.0001, 0.0001, 0.0001, 0.0001, 0.0001, 0.0001, 0.0001, 0.0001, 0.0001, 0.0001, 0.0001, 0.0001, 0.0001, 0.0001, 0.0001, 0.0001, 0.0001, 0.0001, 0.0001, 0.0001, 0.0001, 0.0001, 0.0001, 0.0001, 0.0001, 0.0001, 1.0, 0.0001, 2.0, 3.0, 7.0, 0.0001, 13.0, 17.0, 24.0, 24.0, 51.0, 62.0, 85.0, 116.0, 150.0, 205.0, 240.0, 274.0, 402.0, 557.0, 709.0, 927.0, 1170.0, 1187.0, 1280.0, 1326.0, 1353.0, 1380.0, 1462.0, 1505.0, 1585.0, 1655.0, 1686.0, 1749.0, 1845.0, 1934.0, 2003.0, 2028.0, 2173.0, 2272.0, 2415.0, 2506.0, 2605.0, 2783.0, 3034.0, 3158.0, 3300.0, 3465.0, 3635.0, 3953.0, 4220.0, 4361.0, 4546.0, 4793.0, 4996.0, 5350.0, 5647.0, 5951.0, 6336.0, 6783.0, 7220.0, 7572.0, 7808.0, 8232.0, 8895.0, 9420.0, 10015.0, 10652.0, 11350.0, 12074.0, 12739.0, 13524.0, 14355.0, 15515.0, 16433.0, 17200.0, 18003.0, 19137.0, 20125.0, 21343.0, 22583.0, 23615.0, 24264.0, 25937.0, 27403.0, 29240.0, 30967.0, 32683.0, 34357.0, 35812.0, 37525.0, 40792.0, 43434.0, 45973.0, 48285.0, 50879.0, 52991.0, 55421.0, 58568.0, 61927.0, 65736.0, 70038.0, 73533.0, 76334.0, 80412.0, 83890.0, 87715.0, 92681.0, 97302.0, 101590.0, 106108.0, 111796.0, 118375.0, 124590.0, 131800.0, 138134.0, 144264.0, 151209.0, 159333.0, 168061.0, 177124.0, 187977.0, 196750.0, 205721.0, 215855.0, 224665.0, 238339.0, 250687.0, 264184.0, 276242.0, 287796.0, 298292.0, 311049.0, 324221.0, 337594.0, 350879.0, 364328.0, 373628.0, 381798.0, 394948.0, 408052.0, 421996.0, 434200.0, 445433.0, 452529.0, 459761.0, 471123.0, 482169.0, 493183.0, 503290.0, 511485.0, 516862.0, 521318.0, 529877.0, 538184.0, 545476.0, 553188.0, 559858.0, 563598.0, 566109.0, 568919.0, 572865.0, 579140.0, 583653.0, 587345.0, 589886.0, 592144.0, 596060.0, 599940.0, 603338.0, 607045.0, 609773.0, 611450.0, 613017.0, 615701.0, 618286.0, 620123.0, 622551.0, 625056.0, 627041.0, 628259.0, 630595.0, 633015.0, 635078.0, 636884.0, 638517.0, 639362.0, 640441.0, 642431.0, 644438.0, 646398.0, 648214.0, 649793.0, 650749.0, 651521.0, 653444.0, 655572.0, 657627.0, 659656.0, 661211.0, 661936.0, 663282.0, 665188.0, 667049.0, 668529.0, 669498.0, 670766.0, 671669.0, 672572.0, 674339.0, 676084.0, 677833.0, 679716.0, 681289.0, 682215.0, 683242.0, 685155.0, 686891.0, 688532.0, 690896.0, 692471.0, 692471.0, 694537.0, 696414.0, 698184.0, 700203.0, 702131.0, 703793.0, 705254.0, 706304.0, 708359.0, 710515.0, 712412.0, 714246.0, 715868.0, 716759.0, 717851.0, 719714.0, 721770.0, 723682.0, 725452.0, 726823.0, 727595.0, 728836.0, 730548.0, 732414.0, 734175.0, 1.0, 1.0, 1.0, 2.0, 2.0, 5.0, 5.0, 5.0, 5.0, 6.0, 7.0, 8.0, 11.0, 11.0, 11.0, 12.0, 12.0, 12.0, 12.0, 12.0, 13.0, 13.0, 14.0, 15.0, 15.0, 15.0, 15.0, 15.0, 15.0, 15.0, 16.0, 35.0, 35.0, 35.0, 53.0, 53.0, 59.0, 60.0, 66.0, 69.0, 89.0, 103.0, 125.0, 159.0, 233.0, 338.0, 433.0, 554.0, 754.0, 1025.0, 1312.0, 1663.0, 2174.0, 2951.0, 3774.0, 4661.0, 6427.0, 9415.0, 14250.0, 19624.0, 26747.0, 35206.0, 46442.0, 55231.0, 69194.0, 85991.0, 104686.0, 124665.0, 143025.0, 164620.0, 189618.0, 216721.0, 245540.0, 277965.0, 312237.0, 337635.0, 368196.0, 398809.0, 432132.0, 466033.0, 501560.0, 529951.0, 557571.0, 582594.0, 609516.0, 639664.0, 671331.0, 702164.0, 735086.0, 759687.0, 787752.0, 825041.0, 842629.0, 869172.0, 890524.0, 939053.0, 965910.0, 988451.0, 1012583.0, 1039909.0, 1069826.0, 1103781.0, 1133069.0, 1158041.0, 1180634.0, 1204475.0, 1228603.0, 1256972.0, 1283929.0, 1309541.0, 1329799.0, 1347916.0, 1369964.0, 1390746.0, 1417889.0, 1443397.0, 1467884.0, 1486757.0, 1508598.0, 1528568.0, 1551853.0, 1577287.0, 1601434.0, 1622670.0, 1643238.0, 1662302.0, 1681212.0, 1699933.0, 1721750.0, 1747087.0, 1770384.0, 1790191.0, 1811277.0, 1831821.0, 1851520.0, 1872660.0, 1897838.0, 1920061.0, 1942363.0, 1961185.0, 1979850.0, 2000464.0, 2023347.0, 2048986.0, 2074526.0, 2094069.0, 2114026.0, 2137731.0, 2163290.0, 2191052.0, 2220961.0, 2255119.0, 2280912.0, 2312302.0, 2347022.0, 2381361.0, 2422310.0, 2467837.0, 2510323.0, 2548996.0, 2590552.0, 2634432.0, 2686480.0, 2739879.0, 2794321.0, 2839542.0, 2888635.0, 2938625.0, 2996098.0, 3055004.0, 3118008.0, 3184633.0, 3247684.0, 3304942.0, 3363056.0, 3431574.0, 3499291.0, 3576221.0, 3647715.0, 3711464.0, 3773260.0, 3830010.0, 3902058.0, 3970906.0, 4034102.0, 4112529.0, 4178027.0, 4234020.0, 4290263.0, 4351997.0, 4426982.0, 4495014.0, 4562037.0, 4620444.0, 4667955.0, 4713562.0, 4771087.0, 4823891.0, 4883646.0, 4941796.0, 4998017.0, 5044864.0, 5094394.0, 5141207.0, 5197148.0, 5248242.0, 5313080.0, 5361165.0, 5403269.0, 5438325.0, 5482416.0, 5529842.0, 5573847.0, 5623727.0, 5668105.0, 5702611.0, 5740909.0, 5779028.0, 5821876.0, 5867785.0, 5917439.0, 5961582.0, 5997163.0, 6031013.0, 6075652.0, 6114406.0, 6150655.0, 6201726.0, 6245866.0, 6276421.0, 6300671.0, 6327793.0, 6359720.0, 6397227.0, 6445288.0, 6486108.0, 6519979.0, 6554820.0, 6606293.0, 6630891.0, 6674458.0, 6724667.0, 6764962.0, 6804814.0, 6857967.0, 6896274.0, 6934204.0, 6978417.0, 7033430.0, 7078798.0, 7115046.0, 7148044.0, 7191061.0, 7233043.0, 7277814.0, 7332285.0, 7382944.0, 7417845.0, 7458550.0, 7501612.0, 7549794.0, 7606594.0, 7664676.0, 7718947.0, 7762544.0, 7804197.0, 7856714.0, 7916100.0, 7979885.0, 8050141.0, 8106752.0, 8154595.0, 8214755.0, 8273304.0, 8336282.0, 8408340.0, 8493669.0, 8576725.0, 8636165.0, 8704524.0, 8779653.0, 8858024.0, 8946154.0, 9047427.0, 9126361.0, 9207362.0, 9291245.0, 9383979.0, 9486486.0, 9608922.0, 9739545.0], \"yaxis\": \"y\"}, {\"name\": \"new_cases\", \"type\": \"box\", \"xaxis\": \"x2\", \"y\": [0.0001, 0.0001, 0.0001, 1.0, 3.0, 0.0001, 0.0001, 0.0001, 2.0, 1.0, 2.0, 2.0, 0.0001, 0.0001, 1.0, 1.0, 1.0, 0.0001, 0.0001, 0.0001, 0.0001, 0.0001, 0.0001, 1.0, 0.0001, 0.0001, 0.0001, 0.0001, 0.0001, 0.0001, 2.0, 4.0, 1.0, 0.0001, 0.0001, 0.0001, 1.0, 0.0001, 2.0, 1.0, 3.0, 4.0, 8.0, 11.0, 7.0, 4.0, 11.0, 6.0, 20.0, 12.0, 14.0, 30.0, 41.0, 52.0, 49.0, 77.0, 79.0, 111.0, 144.0, 165.0, 224.0, 611.0, 114.0, 600.0, 376.0, 367.0, 212.0, 431.0, 284.0, 464.0, 150.0, 269.0, 248.0, 324.0, 139.0, 57.0, 100.0, 112.0, 96.0, 100.0, 86.0, 51.0, 33.0, 44.0, 50.0, 42.0, 39.0, 36.0, 53.0, 26.0, 13.0, 22.0, 7.0, 13.0, 20.0, 16.0, 10.0, 12.0, 13.0, 8.0, 16.0, 5.0, 16.0, 18.0, 24.0, 24.0, 26.0, 21.0, 18.0, 15.0, 12.0, 7.0, 16.0, 11.0, 14.0, 30.0, 17.0, 9.0, 15.0, 8.0, 11.0, 2.0, 14.0, 11.0, 3.0, 9.0, 15.0, 6.0, 11.0, 23.0, 12.0, 10.0, 9.0, 17.0, 8.0, 11.0, 11.0, 4.0, 5.0, 5.0, 2.0, 9.0, 9.0, 5.0, 12.0, 18.0, 15.0, 12.0, 23.0, 21.0, 18.0, 27.0, 25.0, 13.0, 18.0, 29.0, 37.0, 37.0, 46.0, 45.0, 81.0, 67.0, 86.0, 81.0, 254.0, 107.0, 87.0, 137.0, 169.0, 131.0, 173.0, 300.0, 194.0, 244.0, 183.0, 271.0, 244.0, 315.0, 425.0, 206.0, 361.0, 267.0, 359.0, 468.0, 410.0, 289.0, 355.0, 453.0, 532.0, 369.0, 278.0, 721.0, 602.0, 377.0, 641.0, 395.0, 411.0, 715.0, 418.0, 410.0, 426.0, 386.0, 313.0, 316.0, 414.0, 231.0, 385.0, 292.0, 253.0, 311.0, 174.0, 220.0, 243.0, 171.0, 195.0, 210.0, 104.0, 137.0, 152.0, 117.0, 126.0, 99.0, 123.0, 76.0, 73.0, 104.0, 126.0, 87.0, 71.0, 72.0, 43.0, 52.0, 91.0, 48.0, 52.0, 42.0, 44.0, 41.0, 46.0, 41.0, 34.0, 48.0, 24.0, 13.0, 14.0, 30.0, 31.0, 10.0, 17.0, 16.0, 24.0, 4.0, 19.0, 0.0001, 33.0, 17.0, 8.0, 15.0, 13.0, 25.0, 8.0, 24.0, 23.0, 15.0, 20.0, 22.0, 31.0, 24.0, 21.0, 9.0, 12.0, 7.0, 9.0, 31.0, 14.0, 22.0, 18.0, 15.0, 21.0, 7.0, 14.0, 13.0, 15.0, 13.0, 8.0, 5.0, 7.0, 8.0, 12.0, 11.0, 12.0, 0.0001, 0.0001, 0.0001, 0.0001, 0.0001, 0.0001, 0.0001, 0.0001, 0.0001, 0.0001, 0.0001, 0.0001, 0.0001, 0.0001, 0.0001, 0.0001, 0.0001, 0.0001, 0.0001, 0.0001, 0.0001, 0.0001, 0.0001, 0.0001, 0.0001, 0.0001, 0.0001, 0.0001, 0.0001, 0.0001, 0.0001, 0.0001, 0.0001, 0.0001, 0.0001, 1.0, 0.0001, 0.0001, 0.0001, 1.0, 0.0001, 0.0001, 0.0001, 1.0, 5.0, 5.0, 0.0001, 12.0, 0.0001, 9.0, 18.0, 25.0, 21.0, 23.0, 79.0, 34.0, 57.0, 137.0, 193.0, 283.0, 224.0, 418.0, 345.0, 310.0, 232.0, 482.0, 502.0, 487.0, 352.0, 323.0, 1138.0, 1119.0, 1074.0, 1146.0, 1222.0, 852.0, 926.0, 1661.0, 2210.0, 1930.0, 1781.0, 1089.0, 1442.0, 1261.0, 1832.0, 3058.0, 2105.0, 3257.0, 2917.0, 2055.0, 1927.0, 2498.0, 2678.0, 3735.0, 3503.0, 5514.0, 3379.0, 4613.0, 5385.0, 6276.0, 7218.0, 6209.0, 4970.0, 4588.0, 6633.0, 6935.0, 10503.0, 9888.0, 10222.0, 10611.0, 6760.0, 5632.0, 9258.0, 11385.0, 13944.0, 15305.0, 14919.0, 7938.0, 13140.0, 17408.0, 19951.0, 18508.0, 20803.0, 16508.0, 15813.0, 11687.0, 16324.0, 20599.0, 26417.0, 26928.0, 33274.0, 16409.0, 11598.0, 28936.0, 28633.0, 30916.0, 30830.0, 27075.0, 18921.0, 15654.0, 32091.0, 32913.0, 30412.0, 25982.0, 21704.0, 17110.0, 20647.0, 34918.0, 32188.0, 22765.0, 54771.0, 34666.0, 17459.0, 21432.0, 39436.0, 42725.0, 39483.0, 46860.0, 38693.0, 30476.0, 24052.0, 33846.0, 46712.0, 48105.0, 42223.0, 37923.0, 26051.0, 20229.0, 45305.0, 44571.0, 42619.0, 45048.0, 39023.0, 24831.0, 20286.0, 41857.0, 39924.0, 45403.0, 34177.0, 28532.0, 23529.0, 20257.0, 41008.0, 67860.0, 59961.0, 55891.0, 51147.0, 24578.0, 23284.0, 40816.0, 69074.0, 57837.0, 52383.0, 45392.0, 25800.0, 16641.0, 51603.0, 57152.0, 53139.0, 50230.0, 49970.0, 23010.0, 22048.0, 52160.0, 55155.0, 60091.0, 50644.0, 41576.0, 23101.0, 19373.0, 47784.0, 49298.0, 45323.0, 30355.0, 50032.0, 23421.0, 17078.0, 47134.0, 47161.0, 44235.0, 43412.0, 41350.0, 16158.0, 45961.0, 42659.0, 46934.0, 43773.0, 51194.0, 30168.0, 14521.0, 10273.0, 14279.0, 35816.0, 40557.0, 43718.0, 33523.0, 14768.0, 15155.0, 36653.0, 36820.0, 36303.0, 39797.0, 33057.0, 16389.0, 13439.0, 33536.0, 33281.0, 32817.0, 31911.0, 28378.0, 14318.0, 13155.0, 32058.0, 33413.0, 36157.0, 33431.0, 26310.0, 8456.0, 11946.0, 41906.0, 31553.0, 27750.0, 27444.0, 26749.0, 12345.0, 8426.0, 10220.0, 27235.0, 28523.0, 30914.0, 24062.0, 10982.0, 15383.0, 23227.0, 24818.0, 24858.0, 30026.0, 26979.0, 13493.0, 15726.0, 29787.0, 28629.0, 26106.0, 22282.0, 18947.0, 10100.0, 8501.0, 11843.0, 23976.0, 0.0001, 0.0001, 0.0001, 0.0001, 0.0001, 0.0001, 0.0001, 0.0001, 0.0001, 0.0001, 1.0, 0.0001, 0.0001, 1.0, 0.0001, 1.0, 0.0001, 0.0001, 0.0001, 0.0001, 0.0001, 0.0001, 0.0001, 0.0001, 0.0001, 0.0001, 0.0001, 0.0001, 0.0001, 0.0001, 0.0001, 0.0001, 0.0001, 0.0001, 0.0001, 0.0001, 0.0001, 0.0001, 0.0001, 0.0001, 0.0001, 0.0001, 0.0001, 2.0, 1.0, 22.0, 1.0, 2.0, 3.0, 0.0001, 10.0, 6.0, 23.0, 2.0, 8.0, 7.0, 3.0, 32.0, 12.0, 28.0, 26.0, 40.0, 89.0, 119.0, 53.0, 70.0, 87.0, 75.0, 149.0, 106.0, 92.0, 180.0, 146.0, 568.0, 336.0, 601.0, 472.0, 693.0, 354.0, 773.0, 540.0, 678.0, 1035.0, 909.0, 796.0, 1211.0, 1075.0, 942.0, 1007.0, 991.0, 1334.0, 1553.0, 1335.0, 1384.0, 1409.0, 1684.0, 1429.0, 1990.0, 1396.0, 1543.0, 1897.0, 1718.0, 1993.0, 2293.0, 2644.0, 2553.0, 3900.0, 2958.0, 3561.0, 3390.0, 3320.0, 3277.0, 4213.0, 3604.0, 3525.0, 3722.0, 3967.0, 3970.0, 4987.0, 5242.0, 4970.0, 5611.0, 5609.0, 6088.0, 6654.0, 6767.0, 6977.0, 6535.0, 6387.0, 6566.0, 7466.0, 7964.0, 8380.0, 8392.0, 8171.0, 8909.0, 9304.0, 9851.0, 9887.0, 9971.0, 9983.0, 9987.0, 9985.0, 9996.0, 10956.0, 11458.0, 11929.0, 11502.0, 10667.0, 10974.0, 12881.0, 13586.0, 14516.0, 15413.0, 14821.0, 14933.0, 15968.0, 16922.0, 17296.0, 18552.0, 19906.0, 19459.0, 18522.0, 18653.0, 19148.0, 20903.0, 22771.0, 24850.0, 24248.0, 22252.0, 22752.0, 24879.0, 26506.0, 27114.0, 28637.0, 28701.0, 28498.0, 29429.0, 32695.0, 34956.0, 34884.0, 38902.0, 40425.0, 37148.0, 37724.0, 45720.0, 49310.0, 48916.0, 48661.0, 49931.0, 47703.0, 48513.0, 52123.0, 55078.0, 57118.0, 54735.0, 52972.0, 52050.0, 52509.0, 56282.0, 62538.0, 61537.0, 64399.0, 62064.0, 53601.0, 60963.0, 66999.0, 64553.0, 65002.0, 63490.0, 57981.0, 55079.0, 64531.0, 69652.0, 68898.0, 69878.0, 69239.0, 61408.0, 60975.0, 67151.0, 75760.0, 77266.0, 76472.0, 78761.0, 78512.0, 69921.0, 78357.0, 83883.0, 83341.0, 86432.0, 90632.0, 90802.0, 75809.0, 89706.0, 95735.0, 96551.0, 97570.0, 94372.0, 92071.0, 83809.0, 90123.0, 97894.0, 96424.0, 93337.0, 92605.0, 86961.0, 75083.0, 83347.0, 86508.0, 86052.0, 85362.0, 88600.0, 82170.0, 70589.0, 80472.0, 86821.0, 81484.0, 79476.0, 75829.0, 74442.0, 61267.0, 72049.0, 78524.0, 70496.0, 73272.0, 74383.0, 66732.0, 55342.0, 63509.0, 67708.0, 63371.0, 62212.0, 61871.0, 55722.0, 46790.0, 54044.0, 55839.0, 54366.0, 53370.0, 50129.0, 45148.0, 36470.0, 43893.0, 49881.0, 48648.0, 48268.0, 46963.0, 45231.0, 38310.0, 46253.0, 50210.0, 47638.0, 50356.0, 0.0001, 0.0001, 0.0001, 0.0001, 0.0001, 0.0001, 0.0001, 0.0001, 0.0001, 0.0001, 2.0, 0.0001, 0.0001, 0.0001, 0.0001, 0.0001, 0.0001, 0.0001, 0.0001, 0.0001, 0.0001, 0.0001, 0.0001, 0.0001, 0.0001, 0.0001, 0.0001, 0.0001, 0.0001, 0.0001, 0.0001, 0.0001, 0.0001, 0.0001, 0.0001, 0.0001, 0.0001, 0.0001, 0.0001, 0.0001, 0.0001, 1.0, 1.0, 0.0001, 0.0001, 6.0, 0.0001, 0.0001, 0.0001, 0.0001, 15.0, 5.0, 15.0, 14.0, 4.0, 30.0, 21.0, 33.0, 52.0, 54.0, 53.0, 61.0, 71.0, 57.0, 163.0, 182.0, 196.0, 228.0, 270.0, 302.0, 501.0, 440.0, 771.0, 601.0, 582.0, 658.0, 954.0, 1154.0, 1175.0, 1459.0, 1786.0, 1667.0, 2186.0, 2558.0, 2774.0, 3388.0, 3448.0, 4070.0, 4785.0, 6060.0, 4268.0, 5642.0, 5236.0, 4774.0, 5849.0, 5966.0, 6361.0, 6198.0, 6411.0, 5841.0, 7099.0, 7933.0, 9623.0, 10633.0, 10581.0, 10102.0, 10559.0, 11231.0, 10699.0, 10817.0, 11012.0, 11656.0, 10899.0, 10028.0, 9974.0, 10598.0, 9200.0, 9709.0, 8926.0, 9263.0, 8764.0, 8849.0, 8894.0, 9434.0, 8599.0, 8946.0, 8915.0, 8338.0, 8371.0, 8572.0, 8952.0, 9268.0, 9035.0, 8863.0, 8536.0, 8831.0, 8726.0, 8855.0, 8984.0, 8985.0, 8595.0, 8404.0, 8779.0, 8987.0, 8706.0, 8835.0, 8246.0, 8248.0, 7843.0, 7790.0, 7972.0, 7889.0, 7728.0, 7600.0, 7425.0, 7176.0, 7113.0, 6800.0, 6852.0, 6791.0, 6719.0, 6693.0, 6556.0, 6760.0, 6718.0, 6632.0, 6736.0, 6611.0, 6368.0, 6562.0, 6509.0, 6635.0, 6611.0, 6615.0, 6537.0, 6248.0, 6422.0, 6428.0, 6406.0, 6234.0, 6109.0, 5940.0, 5842.0, 5862.0, 5848.0, 5811.0, 5871.0, 5765.0, 5635.0, 5395.0, 5475.0, 5509.0, 5482.0, 5462.0, 5427.0, 5394.0, 5159.0, 5920.0, 4551.0, 5241.0, 5212.0, 5189.0, 5118.0, 4945.0, 5102.0, 5057.0, 5065.0, 5061.0, 4969.0, 4892.0, 4748.0, 4828.0, 4785.0, 4870.0, 4921.0, 4852.0, 4744.0, 4696.0, 4676.0, 4711.0, 4829.0, 4941.0, 4980.0, 4993.0, 4729.0, 4952.0, 4995.0, 5110.0, 5205.0, 5195.0, 5185.0, 5099.0, 5218.0, 5363.0, 5504.0, 5488.0, 5449.0, 5509.0, 5529.0, 5670.0, 5762.0, 5905.0, 6065.0, 6148.0, 6196.0, 6215.0, 6431.0, 6595.0, 7212.0, 7523.0, 7867.0, 8135.0, 8232.0, 8481.0, 8945.0, 9412.0, 9859.0, 10499.0, 10888.0, 11615.0, 11115.0, 11493.0, 12126.0, 12846.0, 13634.0, 13592.0, 13868.0, 14231.0, 13754.0, 15150.0, 14922.0, 15099.0, 15982.0, 16319.0, 15700.0, 15971.0, 17340.0, 16521.0, 16710.0, 17347.0, 16550.0, 16202.0, 17717.0, 18283.0, 18140.0, 18665.0, 18257.0, 18648.0, 19768.0, 19404.0, 20582.0, 0.0001, 0.0001, 0.0001, 0.0001, 0.0001, 0.0001, 0.0001, 0.0001, 0.0001, 0.0001, 0.0001, 0.0001, 0.0001, 0.0001, 0.0001, 0.0001, 0.0001, 0.0001, 0.0001, 0.0001, 0.0001, 0.0001, 0.0001, 0.0001, 0.0001, 0.0001, 0.0001, 0.0001, 1.0, 0.0001, 1.0, 1.0, 4.0, 0.0001, 6.0, 4.0, 7.0, 0.0001, 27.0, 11.0, 23.0, 31.0, 34.0, 55.0, 35.0, 34.0, 128.0, 155.0, 152.0, 218.0, 243.0, 17.0, 93.0, 46.0, 27.0, 27.0, 82.0, 43.0, 80.0, 70.0, 31.0, 63.0, 96.0, 89.0, 69.0, 25.0, 145.0, 99.0, 143.0, 91.0, 99.0, 178.0, 251.0, 124.0, 142.0, 165.0, 170.0, 318.0, 267.0, 141.0, 185.0, 247.0, 203.0, 354.0, 297.0, 304.0, 385.0, 447.0, 437.0, 352.0, 236.0, 424.0, 663.0, 525.0, 595.0, 637.0, 698.0, 724.0, 665.0, 785.0, 831.0, 1160.0, 918.0, 767.0, 803.0, 1134.0, 988.0, 1218.0, 1240.0, 1032.0, 649.0, 1673.0, 1466.0, 1837.0, 1727.0, 1716.0, 1674.0, 1455.0, 1713.0, 3267.0, 2642.0, 2539.0, 2312.0, 2594.0, 2112.0, 2430.0, 3147.0, 3359.0, 3809.0, 4302.0, 3495.0, 2801.0, 4078.0, 3478.0, 3825.0, 4966.0, 4621.0, 4288.0, 4518.0, 5688.0, 6579.0, 6215.0, 7210.0, 6334.0, 6130.0, 6945.0, 8124.0, 8728.0, 9063.0, 10853.0, 8773.0, 8971.0, 10134.0, 8810.0, 13674.0, 12348.0, 13497.0, 12058.0, 11554.0, 10496.0, 12757.0, 13172.0, 13373.0, 13285.0, 13449.0, 9300.0, 8170.0, 13150.0, 13104.0, 13944.0, 12204.0, 11233.0, 7096.0, 7232.0, 11362.0, 11046.0, 11014.0, 10107.0, 8195.0, 5377.0, 4456.0, 8559.0, 8307.0, 7292.0, 7712.0, 6670.0, 3740.0, 2511.0, 2810.0, 3946.0, 6275.0, 4513.0, 3692.0, 2541.0, 2258.0, 3916.0, 3880.0, 3398.0, 3707.0, 2728.0, 1677.0, 1567.0, 2684.0, 2585.0, 1837.0, 2428.0, 2505.0, 1985.0, 1218.0, 2336.0, 2420.0, 2063.0, 1806.0, 1633.0, 845.0, 1079.0, 1990.0, 2007.0, 1960.0, 1816.0, 1579.0, 956.0, 772.0, 1923.0, 2128.0, 2055.0, 2029.0, 1555.0, 725.0, 1346.0, 1906.0, 1861.0, 1480.0, 969.0, 1268.0, 903.0, 903.0, 1767.0, 1745.0, 1749.0, 1883.0, 1573.0, 926.0, 1027.0, 1913.0, 1736.0, 1641.0, 2364.0, 1575.0, 0.0001, 2066.0, 1877.0, 1770.0, 2019.0, 1928.0, 1662.0, 1461.0, 1050.0, 2055.0, 2156.0, 1897.0, 1834.0, 1622.0, 891.0, 1092.0, 1863.0, 2056.0, 1912.0, 1770.0, 1371.0, 772.0, 1241.0, 1712.0, 1866.0, 1761.0, 0.0001, 0.0001, 0.0001, 1.0, 0.0001, 3.0, 0.0001, 0.0001, 0.0001, 1.0, 1.0, 1.0, 3.0, 0.0001, 0.0001, 1.0, 0.0001, 0.0001, 0.0001, 0.0001, 1.0, 0.0001, 1.0, 1.0, 0.0001, 0.0001, 0.0001, 0.0001, 0.0001, 0.0001, 1.0, 19.0, 0.0001, 0.0001, 18.0, 0.0001, 6.0, 1.0, 6.0, 3.0, 20.0, 14.0, 22.0, 34.0, 74.0, 105.0, 95.0, 121.0, 200.0, 271.0, 287.0, 351.0, 511.0, 777.0, 823.0, 887.0, 1766.0, 2988.0, 4835.0, 5374.0, 7123.0, 8459.0, 11236.0, 8789.0, 13963.0, 16797.0, 18695.0, 19979.0, 18360.0, 21595.0, 24998.0, 27103.0, 28819.0, 32425.0, 34272.0, 25398.0, 30561.0, 30613.0, 33323.0, 33901.0, 35527.0, 28391.0, 27620.0, 25023.0, 26922.0, 30148.0, 31667.0, 30833.0, 32922.0, 24601.0, 28065.0, 37289.0, 17588.0, 26543.0, 21352.0, 48529.0, 26857.0, 22541.0, 24132.0, 27326.0, 29917.0, 33955.0, 29288.0, 24972.0, 22593.0, 23841.0, 24128.0, 28369.0, 26957.0, 25612.0, 20258.0, 18117.0, 22048.0, 20782.0, 27143.0, 25508.0, 24487.0, 18873.0, 21841.0, 19970.0, 23285.0, 25434.0, 24147.0, 21236.0, 20568.0, 19064.0, 18910.0, 18721.0, 21817.0, 25337.0, 23297.0, 19807.0, 21086.0, 20544.0, 19699.0, 21140.0, 25178.0, 22223.0, 22302.0, 18822.0, 18665.0, 20614.0, 22883.0, 25639.0, 25540.0, 19543.0, 19957.0, 23705.0, 25559.0, 27762.0, 29909.0, 34158.0, 25793.0, 31390.0, 34720.0, 34339.0, 40949.0, 45527.0, 42486.0, 38673.0, 41556.0, 43880.0, 52048.0, 53399.0, 54442.0, 45221.0, 49093.0, 49990.0, 57473.0, 58906.0, 63004.0, 66625.0, 63051.0, 57258.0, 58114.0, 68518.0, 67717.0, 76930.0, 71494.0, 63749.0, 61796.0, 56750.0, 72048.0, 68848.0, 63196.0, 78427.0, 65498.0, 55993.0, 56243.0, 61734.0, 74985.0, 68032.0, 67023.0, 58407.0, 47511.0, 45607.0, 57525.0, 52804.0, 59755.0, 58150.0, 56221.0, 46847.0, 49530.0, 46813.0, 55941.0, 51094.0, 64838.0, 48085.0, 42104.0, 35056.0, 44091.0, 47426.0, 44005.0, 49880.0, 44378.0, 34506.0, 38298.0, 38119.0, 42848.0, 45909.0, 49654.0, 44143.0, 35581.0, 33850.0, 44639.0, 38754.0, 36249.0, 51071.0, 44140.0, 30555.0, 24250.0, 27122.0, 31927.0, 37507.0, 48061.0, 40820.0, 33871.0, 34841.0, 51473.0, 24598.0, 43567.0, 50209.0, 40295.0, 39852.0, 53153.0, 38307.0, 37930.0, 44213.0, 55013.0, 45368.0, 36248.0, 32998.0, 43017.0, 41982.0, 44771.0, 54471.0, 50659.0, 34901.0, 40705.0, 43062.0, 48182.0, 56800.0, 58082.0, 54271.0, 43597.0, 41653.0, 52517.0, 59386.0, 63785.0, 70256.0, 56611.0, 47843.0, 60160.0, 58549.0, 62978.0, 72058.0, 85329.0, 83056.0, 59440.0, 68359.0, 75129.0, 78371.0, 88130.0, 101273.0, 78934.0, 81001.0, 83883.0, 92734.0, 102507.0, 122436.0, 130623.0], \"yaxis\": \"y2\"}, {\"name\": \"new_cases_smoothed\", \"type\": \"box\", \"xaxis\": \"x2\", \"y\": [0.0001, 0.0001, 0.0001, 0.14300000000000002, 0.5710000000000001, 0.5710000000000001, 0.5710000000000001, 0.5710000000000001, 0.857, 1.0, 1.143, 1.0, 1.0, 1.0, 1.143, 1.0, 1.0, 0.7140000000000001, 0.429, 0.429, 0.429, 0.28600000000000003, 0.14300000000000002, 0.14300000000000002, 0.14300000000000002, 0.14300000000000002, 0.14300000000000002, 0.14300000000000002, 0.14300000000000002, 0.14300000000000002, 0.28600000000000003, 0.857, 1.0, 1.0, 1.0, 1.0, 1.143, 0.857, 0.5710000000000001, 0.5710000000000001, 1.0, 1.571, 2.714, 4.143, 5.143, 5.428999999999999, 6.857, 7.2860000000000005, 9.571, 10.142999999999999, 10.571, 13.857000000000001, 19.143, 25.0, 31.143, 39.286, 48.857, 62.714, 79.0, 96.714, 121.286, 201.571, 206.857, 281.286, 319.143, 351.0, 357.714, 387.286, 340.57099999999997, 390.57099999999997, 326.286, 311.0, 294.0, 310.0, 268.286, 235.857, 183.857, 178.429, 153.714, 132.571, 98.571, 86.0, 82.571, 74.571, 65.714, 58.0, 49.286, 42.143, 42.428999999999995, 41.428999999999995, 37.0, 33.0, 28.0, 24.285999999999998, 22.0, 16.714000000000002, 14.429, 14.286, 13.0, 13.142999999999999, 13.571, 11.429, 11.429, 12.571, 14.286, 15.857000000000001, 18.429000000000002, 19.143, 21.0, 20.857, 20.0, 17.570999999999998, 16.429000000000002, 14.286, 13.286, 15.0, 15.286, 14.857000000000001, 16.0, 14.857000000000001, 14.857000000000001, 13.142999999999999, 10.857000000000001, 10.0, 9.142999999999999, 8.286, 9.286, 8.571, 9.857000000000001, 11.142999999999999, 11.286, 12.286, 12.286, 12.571, 12.857000000000001, 12.857000000000001, 11.142999999999999, 10.0, 9.286, 8.714, 6.571000000000001, 6.7139999999999995, 6.428999999999999, 5.571000000000001, 6.7139999999999995, 8.571, 10.0, 11.429, 13.429, 15.142999999999999, 17.0, 19.143, 20.143, 19.857, 20.714000000000002, 21.570999999999998, 23.857, 26.570999999999998, 29.285999999999998, 32.143, 41.857, 48.857, 57.0, 63.286, 94.286, 103.0, 109.0, 117.0, 131.571, 138.0, 151.143, 157.714, 170.143, 192.571, 199.143, 213.71400000000003, 229.857, 250.143, 268.0, 269.714, 286.42900000000003, 298.42900000000003, 311.0, 343.0, 356.57099999999997, 337.14300000000003, 358.42900000000003, 371.57099999999997, 409.42900000000003, 410.85699999999997, 383.714, 428.14300000000003, 472.85699999999997, 476.0, 502.85699999999997, 483.286, 489.286, 551.714, 508.42900000000003, 481.0, 488.0, 451.57099999999997, 439.85699999999997, 426.286, 383.286, 356.57099999999997, 353.0, 333.85699999999997, 314.857, 314.57099999999997, 294.286, 266.57099999999997, 268.286, 237.71400000000003, 223.857, 217.71400000000003, 188.143, 182.857, 173.143, 155.143, 148.714, 135.0, 122.571, 118.571, 109.429, 102.571, 103.85700000000001, 98.286, 94.286, 87.0, 82.286, 79.286, 77.429, 66.286, 61.286, 57.143, 53.143, 52.857, 52.0, 44.857, 42.857, 42.286, 39.714, 35.286, 31.429000000000002, 29.143, 27.714000000000002, 24.285999999999998, 19.857, 18.714000000000002, 20.285999999999998, 18.857, 17.285999999999998, 12.857000000000001, 16.143, 16.143, 15.0, 13.714, 15.0, 15.857000000000001, 17.0, 15.714, 16.570999999999998, 17.570999999999998, 18.285999999999998, 19.570999999999998, 20.429000000000002, 22.714000000000002, 22.285999999999998, 20.285999999999998, 19.857, 18.0, 16.143, 16.143, 14.714, 14.857000000000001, 16.143, 16.570999999999998, 18.570999999999998, 18.285999999999998, 15.857000000000001, 15.714, 14.714, 14.0, 13.0, 10.714, 10.714, 9.857000000000001, 9.714, 9.142999999999999, 9.0, 0.0001, 0.0001, 0.0001, 0.0001, 0.0001, 0.0001, 0.0001, 0.0001, 0.0001, 0.0001, 0.0001, 0.0001, 0.0001, 0.0001, 0.0001, 0.0001, 0.0001, 0.0001, 0.0001, 0.0001, 0.0001, 0.0001, 0.0001, 0.0001, 0.0001, 0.0001, 0.0001, 0.0001, 0.0001, 0.0001, 0.0001, 0.0001, 0.0001, 0.0001, 0.0001, 0.14300000000000002, 0.14300000000000002, 0.14300000000000002, 0.14300000000000002, 0.28600000000000003, 0.28600000000000003, 0.28600000000000003, 0.14300000000000002, 0.28600000000000003, 1.0, 1.714, 1.571, 3.286, 3.286, 4.571000000000001, 7.0, 9.857000000000001, 12.142999999999999, 15.429, 25.0, 29.857, 36.714, 53.714, 77.714, 115.14299999999999, 143.857, 192.28599999999997, 236.71400000000003, 272.857, 286.42900000000003, 327.714, 359.0, 396.57099999999997, 387.14300000000003, 384.0, 502.286, 629.0, 713.571, 805.571, 910.571, 982.0, 1068.143, 1142.857, 1298.714, 1421.0, 1511.714, 1492.714, 1577.0, 1624.8570000000002, 1649.286, 1770.4289999999999, 1795.4289999999999, 2006.286, 2267.429, 2355.0, 2450.143, 2545.286, 2491.0, 2723.857, 2759.0, 3130.0, 3319.143, 3702.857, 4115.286, 4629.286, 5126.857, 5513.429, 5435.714, 5608.429, 5897.0, 6118.429, 6722.286, 7103.714, 7677.0, 8482.857, 8793.143, 8650.143, 8982.0, 9108.0, 9687.429, 10413.571, 11029.0, 11197.286, 12269.857, 13434.143, 14657.857, 15309.857, 16095.286, 16322.286, 17447.286, 17239.714, 17084.857, 17177.429, 18307.286, 19182.286, 21577.429, 21662.571, 21649.857000000004, 23451.571, 24599.286, 25242.0, 25799.429, 24913.857000000004, 25272.714, 25852.142999999996, 26302.857000000004, 26914.286, 26842.286, 26149.714, 25382.429, 25123.714, 25837.0, 26240.857000000004, 26137.286, 25044.857000000004, 29157.571, 31009.286, 31059.142999999996, 31171.286, 31816.714, 33322.0, 35710.286, 34580.143, 35155.429, 37015.0, 37389.286, 36590.714, 37160.286, 38392.0, 37729.571, 37619.571, 36987.429, 36441.286, 38078.286, 37772.429, 36988.714, 37392.286, 37549.429, 37375.143, 37383.286, 36890.714, 36226.857, 36624.571, 35071.571, 33572.857, 33386.857, 33382.714, 33261.429, 37252.286, 39332.0, 42434.0, 45664.71400000001, 45814.570999999996, 46247.0, 46219.570999999996, 46393.0, 46089.570999999996, 45588.429000000004, 44766.28599999999, 44940.857, 43991.857, 45532.857, 43829.71400000001, 43158.570999999996, 42851.0, 43505.0, 43106.429000000004, 43878.857, 43958.429000000004, 43673.143, 44666.28599999999, 44725.429000000004, 43526.28599999999, 43539.28599999999, 43157.143, 42532.0, 41695.286, 39585.571, 36687.143, 37895.143, 37940.857, 37613.0, 37520.143, 37214.857, 37059.429, 38924.714, 37684.429, 36646.857, 40773.0, 40133.714, 40101.286, 40035.286, 41147.0, 39549.571, 39315.714, 34217.429, 30163.142999999996, 28574.857000000004, 28115.429, 27047.429, 27526.714, 27562.0, 28259.429, 31455.714, 31599.142999999996, 30991.429, 30431.286, 30364.714, 30596.286, 30351.142999999996, 29905.857000000004, 29400.286, 28902.286, 27775.714, 27107.286, 26811.429, 26770.857000000004, 26559.714, 26578.571, 27055.714, 27272.857000000004, 26977.429, 26140.0, 25967.286, 27374.142999999996, 27108.429, 25907.429, 25052.142999999996, 25114.857000000004, 25670.429, 25167.571, 20641.0, 20024.143, 20134.571, 20630.286, 20246.429, 20051.714, 21045.571, 22903.714, 22558.429, 22034.857000000004, 21908.0, 22324.714, 22683.429, 22732.429, 23669.571, 24214.0, 24392.286, 23286.0, 22138.571, 21653.857000000004, 20621.714, 18058.286, 17393.571, 13664.143, 10481.0, 0.0001, 0.0001, 0.0001, 0.0001, 0.0001, 0.0001, 0.0001, 0.0001, 0.14300000000000002, 0.14300000000000002, 0.14300000000000002, 0.28600000000000003, 0.28600000000000003, 0.429, 0.429, 0.28600000000000003, 0.28600000000000003, 0.28600000000000003, 0.14300000000000002, 0.14300000000000002, 0.0001, 0.0001, 0.0001, 0.0001, 0.0001, 0.0001, 0.0001, 0.0001, 0.0001, 0.0001, 0.0001, 0.0001, 0.0001, 0.0001, 0.0001, 0.0001, 0.0001, 0.0001, 0.0001, 0.0001, 0.0001, 0.28600000000000003, 0.429, 3.571, 3.714, 4.0, 4.428999999999999, 4.428999999999999, 5.571000000000001, 6.2860000000000005, 6.428999999999999, 6.571000000000001, 7.428999999999999, 8.0, 8.429, 11.571, 12.429, 13.142999999999999, 16.570999999999998, 21.143, 32.857, 49.428999999999995, 52.428999999999995, 60.714, 69.143, 76.143, 91.714, 94.14299999999999, 90.286, 108.429, 119.286, 188.0, 225.28599999999997, 289.857, 342.14300000000003, 428.0, 452.85699999999997, 542.429, 538.429, 587.286, 649.286, 711.7139999999999, 726.429, 848.857, 892.0, 949.429, 996.429, 990.143, 1050.857, 1159.0, 1176.714, 1220.857, 1287.5710000000001, 1384.286, 1446.8570000000002, 1540.5710000000001, 1518.1429999999998, 1547.8570000000002, 1621.1429999999998, 1665.286, 1709.4289999999999, 1832.8570000000002, 1926.286, 2091.571, 2428.286, 2579.857, 2843.143, 3042.7140000000004, 3189.429, 3279.857, 3517.0, 3474.7140000000004, 3555.7140000000004, 3578.7140000000004, 3661.143, 3754.0, 3998.2859999999996, 4145.286, 4340.429, 4638.429, 4908.0, 5211.0, 5594.429, 5848.714, 6096.571, 6320.143, 6431.0, 6567.714, 6764.571, 6951.714, 7182.143, 7384.286, 7618.0, 7978.286, 8369.429, 8710.143, 8984.857, 9212.143, 9439.429, 9698.857, 9852.571, 9951.429, 10109.286, 10333.714, 10613.428999999998, 10830.428999999998, 10927.571000000002, 11068.857, 11481.0, 11856.714, 12293.571000000002, 12791.286, 13265.428999999998, 13874.857, 14588.286, 15165.571000000002, 15695.571000000002, 16272.143, 16914.0, 17576.571, 18089.286, 18472.857, 18790.857, 19306.143, 19908.857, 20615.143, 21299.286, 21832.142999999996, 22417.714, 23236.429, 24036.857000000004, 24657.286, 25198.286, 25834.429, 26726.714, 27680.571, 28797.142999999996, 30004.286, 31114.286, 32580.714, 34255.571, 35491.286, 36676.286, 38537.0, 40587.571, 42592.143, 43986.28599999999, 45344.28599999999, 46852.143, 48393.429000000004, 49308.143, 50132.143, 51303.857, 52171.570999999996, 52606.0, 53227.0, 53797.857, 54392.0, 55457.71400000001, 56089.0, 57469.570999999996, 58768.429000000004, 58990.0, 60197.71400000001, 61728.71400000001, 62016.570999999996, 62511.570999999996, 62381.71400000001, 61798.429000000004, 62009.570999999996, 62519.28599999999, 62898.28599999999, 63519.0, 64215.570999999996, 65036.857, 65526.429000000004, 66368.714, 66743.0, 67615.571, 68811.0, 69753.0, 71113.286, 73556.714, 74834.714, 76435.571, 77596.0, 78463.857, 79886.714, 81582.571, 83338.286, 84179.429, 85800.714, 87493.85699999999, 89381.0, 90972.14300000001, 91506.429, 91687.714, 92830.571, 92890.14300000001, 93198.571, 93180.429, 92575.714, 92323.286, 91593.286, 90346.714, 89378.714, 87752.14300000001, 86270.429, 85131.14300000001, 84559.0, 83874.571, 83232.571, 82821.857, 82866.571, 82214.0, 81373.143, 79548.714, 78444.714, 77113.0, 75909.714, 74724.429, 73154.714, 72268.429, 72061.857, 70960.429, 70114.0, 68894.0, 67348.857, 66331.0, 64751.0, 62963.570999999996, 61390.71400000001, 60169.0, 58816.857, 57121.28599999999, 55834.857, 54571.71400000001, 52894.28599999999, 51383.71400000001, 49909.429000000004, 48459.28599999999, 47608.143, 46791.28599999999, 46062.429000000004, 45610.143, 45622.0, 45884.857, 46222.0, 46269.0, 46124.71400000001, 46423.0, 0.0001, 0.0001, 0.0001, 0.0001, 0.0001, 0.0001, 0.0001, 0.0001, 0.0001, 0.0001, 0.28600000000000003, 0.28600000000000003, 0.28600000000000003, 0.28600000000000003, 0.28600000000000003, 0.28600000000000003, 0.28600000000000003, 0.0001, 0.0001, 0.0001, 0.0001, 0.0001, 0.0001, 0.0001, 0.0001, 0.0001, 0.0001, 0.0001, 0.0001, 0.0001, 0.0001, 0.0001, 0.0001, 0.0001, 0.0001, 0.0001, 0.0001, 0.0001, 0.0001, 0.0001, 0.0001, 0.14300000000000002, 0.28600000000000003, 0.28600000000000003, 0.28600000000000003, 1.143, 1.143, 1.143, 1.0, 0.857, 3.0, 3.714, 5.0, 7.0, 7.571000000000001, 11.857000000000001, 14.857000000000001, 17.429000000000002, 24.143, 29.714000000000002, 35.286, 43.428999999999995, 49.286, 54.428999999999995, 73.0, 91.571, 111.85700000000001, 136.857, 166.71400000000003, 199.71400000000003, 263.143, 302.714, 386.85699999999997, 444.714, 495.286, 550.714, 643.857, 737.143, 842.143, 940.429, 1109.714, 1264.714, 1483.0, 1712.1429999999998, 1943.5710000000001, 2259.714, 2543.857, 2870.143, 3315.571, 3869.0, 4113.286, 4523.0, 4787.0, 4976.429, 5230.571, 5399.286, 5442.286, 5718.0, 5827.857, 5914.286, 6246.429, 6544.143, 7066.571, 7676.857, 8303.0, 8830.286, 9504.286, 10094.571, 10489.714, 10660.286, 10714.428999999998, 10868.0, 10981.857, 10906.0, 10726.428999999998, 10712.0, 10481.0, 10294.857, 9904.857, 9671.143, 9490.571, 9329.857, 9086.429, 9119.857, 8961.286, 8964.143, 8914.429, 8853.571, 8785.286, 8739.286, 8670.429, 8766.0, 8778.714, 8771.286, 8799.571, 8865.286, 8887.286, 8873.429, 8832.857, 8825.714, 8787.429, 8768.571, 8761.143, 8798.429, 8777.143, 8755.857, 8650.286, 8600.714, 8520.571, 8379.286, 8234.286, 8117.571, 7959.429, 7867.143, 7749.571, 7654.286, 7557.571, 7390.143, 7242.0, 7108.143, 6982.286, 6877.714, 6789.143, 6738.714, 6727.0, 6695.571, 6687.714, 6672.286, 6625.857, 6626.714, 6590.857, 6579.0, 6576.0, 6558.714, 6548.143, 6531.0, 6511.0, 6499.429, 6466.714, 6412.857, 6340.571, 6255.286, 6197.286, 6117.286, 6034.429, 5949.429, 5897.571, 5848.429, 5804.857, 5741.0, 5685.714, 5637.286, 5590.286, 5531.857, 5483.571, 5449.143, 5415.429, 5479.0, 5342.143, 5307.714, 5272.0, 5238.0, 5198.571, 5168.0, 5051.143, 5123.429, 5098.286, 5076.714, 5045.286, 5013.0, 4984.857, 4945.714, 4906.857, 4879.0, 4859.0, 4842.286, 4821.143, 4813.714, 4792.0, 4781.429, 4775.571, 4778.429, 4796.714, 4832.286, 4837.0, 4876.429, 4917.0, 4957.143, 4994.857, 5025.571, 5053.0, 5105.857, 5143.857, 5196.429, 5252.714, 5293.143, 5329.429, 5375.714, 5437.143, 5501.714, 5558.714, 5616.0, 5698.429, 5798.286, 5896.429, 5994.429, 6103.143, 6222.143, 6408.857, 6617.143, 6862.714, 7139.714, 7427.857, 7720.714, 8056.429, 8370.714, 8704.429, 9080.429, 9473.714, 9957.0, 10333.286, 10697.286, 11085.0, 11511.714, 11959.571000000002, 12345.857, 12667.714, 13112.857, 13435.857, 13867.857, 14164.428999999998, 14373.714, 14715.143, 15065.286, 15275.143, 15591.857, 15904.714, 16133.143, 16363.286, 16558.286, 16591.286, 16663.0, 16912.429, 17047.143, 17278.429, 17557.714, 17687.714, 17987.429, 18496.857, 18737.857, 19066.286, 0.0001, 0.0001, 0.0001, 0.0001, 0.0001, 0.0001, 0.0001, 0.0001, 0.0001, 0.0001, 0.0001, 0.0001, 0.0001, 0.0001, 0.0001, 0.0001, 0.0001, 0.0001, 0.0001, 0.0001, 0.0001, 0.0001, 0.0001, 0.0001, 0.0001, 0.0001, 0.0001, 0.0001, 0.0001, 0.0001, 0.0001, 0.0001, 0.0001, 0.0001, 1.857, 2.286, 3.286, 3.1430000000000002, 6.857, 7.857, 11.142999999999999, 14.714, 19.0, 25.857, 30.857, 31.857, 48.571000000000005, 67.429, 84.714, 111.0, 137.857, 135.286, 143.714, 132.0, 113.714, 95.85700000000001, 76.429, 47.857, 56.857, 53.571000000000005, 51.428999999999995, 56.571000000000005, 66.429, 67.429, 71.143, 63.286, 74.0, 83.714, 95.14299999999999, 94.429, 95.85700000000001, 111.429, 143.714, 140.714, 146.857, 150.0, 161.286, 192.571, 205.28599999999997, 189.571, 198.28599999999997, 213.28599999999997, 218.71400000000003, 245.0, 242.0, 247.28599999999997, 282.143, 319.57099999999997, 346.714, 368.0, 351.14300000000003, 369.286, 420.57099999999997, 440.57099999999997, 461.714, 490.286, 539.714, 609.429, 643.857, 661.2860000000001, 705.0, 785.7139999999999, 825.857, 835.7139999999999, 847.0, 914.0, 943.0, 998.2860000000001, 1009.7139999999999, 1026.0, 1009.143, 1133.4289999999999, 1180.857, 1302.143, 1374.8570000000002, 1442.8570000000002, 1534.5710000000001, 1649.714, 1655.4289999999999, 1912.714, 2027.714, 2143.714, 2228.857, 2360.286, 2454.143, 2556.571, 2539.429, 2641.857, 2823.2859999999996, 3107.571, 3236.2859999999996, 3334.7140000000004, 3570.143, 3617.429, 3684.0, 3849.2859999999996, 3894.857, 4008.143, 4253.429, 4483.429, 4926.429, 5267.857, 5588.429, 5833.143, 6096.286, 6443.0, 6791.0, 7098.0, 7504.857, 8025.286, 8373.714, 8779.571, 9235.143, 9333.143, 10039.714, 10509.0, 10886.714, 11356.0, 11725.0, 11776.714, 12340.571000000002, 12268.857, 12415.286, 12385.0, 12583.714, 12261.714, 11929.428999999998, 11985.571000000002, 11975.857, 12057.428999999998, 11903.0, 11586.428999999998, 11271.571000000002, 11137.571000000002, 10882.143, 10588.143, 10169.571, 9870.0, 9436.0, 9190.429, 8793.857, 8393.429, 8002.143, 7470.429, 7128.286, 6910.429, 6676.571, 6398.714, 5577.429, 4954.429, 4809.143, 4352.143, 3926.7140000000004, 3755.429, 3719.2859999999996, 3877.2859999999996, 3867.857, 3456.857, 3341.7140000000004, 3204.0, 3080.571, 2981.857, 2805.857, 2620.857, 2397.857, 2215.143, 2183.286, 2227.286, 2177.429, 2127.714, 2104.143, 2136.429, 2047.5710000000001, 1923.0, 1760.1429999999998, 1740.286, 1690.8570000000002, 1631.8570000000002, 1617.1429999999998, 1618.5710000000001, 1610.8570000000002, 1626.714, 1582.8570000000002, 1573.286, 1590.5710000000001, 1604.1429999999998, 1634.5710000000001, 1631.1429999999998, 1598.1429999999998, 1680.1429999999998, 1677.714, 1639.5710000000001, 1557.4289999999999, 1406.0, 1365.0, 1390.4289999999999, 1327.1429999999998, 1307.286, 1290.714, 1329.1429999999998, 1459.714, 1503.286, 1506.5710000000001, 1524.286, 1545.1429999999998, 1543.8570000000002, 1528.4289999999999, 1597.1429999999998, 1597.4289999999999, 1465.1429999999998, 1613.5710000000001, 1608.4289999999999, 1613.286, 1667.286, 1605.0, 1617.4289999999999, 1826.1429999999998, 1681.0, 1706.4289999999999, 1761.5710000000001, 1744.1429999999998, 1730.714, 1725.0, 1643.5710000000001, 1649.5710000000001, 1622.1429999999998, 1607.8570000000002, 1610.0, 1600.8570000000002, 1565.0, 1548.0, 1569.286, 1547.714, 1520.5710000000001, 1499.0, 0.14300000000000002, 0.14300000000000002, 0.14300000000000002, 0.28600000000000003, 0.28600000000000003, 0.7140000000000001, 0.5710000000000001, 0.5710000000000001, 0.5710000000000001, 0.7140000000000001, 0.7140000000000001, 0.857, 0.857, 0.857, 0.857, 1.0, 0.857, 0.7140000000000001, 0.5710000000000001, 0.14300000000000002, 0.28600000000000003, 0.28600000000000003, 0.28600000000000003, 0.429, 0.429, 0.429, 0.429, 0.28600000000000003, 0.28600000000000003, 0.14300000000000002, 0.14300000000000002, 2.8569999999999998, 2.8569999999999998, 2.8569999999999998, 5.428999999999999, 5.428999999999999, 6.2860000000000005, 6.2860000000000005, 4.428999999999999, 4.857, 7.7139999999999995, 7.143, 10.286, 14.286, 24.714000000000002, 38.857, 52.0, 66.429, 93.0, 128.571, 164.71400000000003, 204.28599999999997, 262.286, 359.714, 460.0, 558.143, 771.7139999999999, 1157.5710000000001, 1798.1429999999998, 2492.857, 3399.429, 4490.286, 5968.714, 6972.0, 8539.857, 10248.714, 12151.714, 13988.286, 15402.714, 16882.571, 19198.143, 21075.286, 22792.714, 24754.142999999996, 26796.0, 27801.429, 29082.286, 29884.429, 30773.0, 31499.0, 31942.142999999996, 31102.0, 31419.429, 30628.286, 30101.0, 29647.429, 29328.286, 28657.714, 29305.0, 28873.714, 29308.286, 30789.286, 28995.0, 28263.0, 26908.571, 29138.142999999996, 29460.429, 28671.286, 26791.714, 28182.857000000004, 28664.857000000004, 30465.286, 27716.571, 27447.286, 27454.714, 27413.142999999996, 26956.286, 26735.142999999996, 25735.429, 25210.286, 24536.857000000004, 23897.429, 23641.286, 23163.286, 22988.142999999996, 22781.142999999996, 22620.429, 22422.571, 22954.571, 22657.714, 23015.286, 22771.142999999996, 22576.714, 22112.286, 22354.429, 21957.714, 21806.286, 21154.286, 20637.571, 20807.571, 21102.0, 20993.286, 21282.142999999996, 21515.571, 21655.286, 21558.571, 21535.857000000004, 21382.429, 21738.857000000004, 21415.429, 21147.0, 21277.714, 21526.714, 21592.571, 22066.429, 21672.286, 21834.429, 22554.429, 23260.857000000004, 23957.857000000004, 24567.857000000004, 25799.0, 26691.857000000004, 28325.142999999996, 29898.714, 31153.0, 33036.857, 35268.0, 36457.714, 38297.714, 39750.0, 41058.571, 43588.429000000004, 45367.0, 46640.570999999996, 47031.28599999999, 48519.857, 49724.71400000001, 51666.570999999996, 52646.28599999999, 54018.429000000004, 55758.857, 58306.0, 59472.429000000004, 60633.0, 62210.857, 63469.570999999996, 65459.0, 66154.571, 66254.286, 66902.571, 66707.714, 67212.0, 67373.571, 65411.570999999996, 66402.0, 66651.857, 65822.857, 65750.429, 64277.0, 65153.71400000001, 65844.571, 64215.429000000004, 63202.429000000004, 61990.71400000001, 60471.28599999999, 59870.0, 56701.28599999999, 55518.857, 54251.28599999999, 53939.0, 53844.143, 54404.570999999996, 52874.28599999999, 53322.429000000004, 52085.143, 53040.570999999996, 51878.28599999999, 51200.71400000001, 49133.0, 48744.143, 47527.71400000001, 46515.0, 44378.143, 43848.570999999996, 42763.143, 43226.28599999999, 42373.143, 41719.143, 41991.143, 41958.857, 41925.286, 42078.857, 41443.429, 42374.857, 41790.0, 40410.0, 40612.429, 40612.0, 39894.0, 38522.571, 36020.143, 35044.857, 35224.571, 34794.571, 34320.286, 34794.0, 36307.0, 39785.714, 38738.714, 39604.429, 39911.286, 39836.286, 40690.714, 43306.71400000001, 41425.857, 43330.429000000004, 43422.71400000001, 44109.0, 44833.71400000001, 44318.857, 41439.571, 42112.429000000004, 42691.28599999999, 42771.0, 42693.570999999996, 43449.429000000004, 43257.0, 44358.0, 44364.429000000004, 45250.143, 46968.570999999996, 47484.429000000004, 48000.429000000004, 49242.71400000001, 49378.143, 50728.857, 52329.429000000004, 53327.28599999999, 55066.429000000004, 55400.71400000001, 56007.28599999999, 58651.143, 59512.857, 60026.0, 61207.857, 63361.143, 67139.0, 68795.714, 69967.0, 72335.571, 74534.571, 76830.571, 79108.286, 78519.429, 81599.571, 83817.286, 86332.286, 89780.286, 94681.14300000001, 98874.0], \"yaxis\": \"y2\"}, {\"name\": \"total_deaths\", \"type\": \"box\", \"xaxis\": \"x3\", \"y\": [0.0001, 0.0001, 0.0001, 0.0001, 0.0001, 0.0001, 0.0001, 0.0001, 0.0001, 0.0001, 0.0001, 0.0001, 0.0001, 0.0001, 0.0001, 0.0001, 0.0001, 0.0001, 0.0001, 0.0001, 0.0001, 0.0001, 0.0001, 0.0001, 0.0001, 0.0001, 0.0001, 0.0001, 0.0001, 0.0001, 0.0001, 0.0001, 0.0001, 0.0001, 0.0001, 0.0001, 0.0001, 0.0001, 0.0001, 1.0, 1.0, 1.0, 1.0, 2.0, 2.0, 2.0, 3.0, 3.0, 3.0, 3.0, 3.0, 3.0, 3.0, 3.0, 5.0, 5.0, 5.0, 6.0, 6.0, 7.0, 7.0, 7.0, 7.0, 8.0, 11.0, 13.0, 13.0, 14.0, 16.0, 19.0, 20.0, 21.0, 23.0, 30.0, 34.0, 36.0, 42.0, 45.0, 50.0, 52.0, 54.0, 57.0, 61.0, 61.0, 61.0, 63.0, 63.0, 67.0, 69.0, 70.0, 71.0, 74.0, 74.0, 75.0, 79.0, 81.0, 83.0, 84.0, 88.0, 90.0, 92.0, 93.0, 93.0, 95.0, 95.0, 96.0, 97.0, 97.0, 97.0, 97.0, 97.0, 97.0, 97.0, 98.0, 98.0, 98.0, 98.0, 98.0, 99.0, 99.0, 100.0, 100.0, 101.0, 102.0, 102.0, 102.0, 102.0, 102.0, 102.0, 102.0, 102.0, 102.0, 102.0, 102.0, 102.0, 102.0, 102.0, 102.0, 102.0, 102.0, 102.0, 102.0, 102.0, 102.0, 102.0, 102.0, 102.0, 102.0, 102.0, 102.0, 102.0, 102.0, 102.0, 102.0, 102.0, 103.0, 104.0, 104.0, 104.0, 104.0, 104.0, 104.0, 104.0, 104.0, 104.0, 104.0, 104.0, 106.0, 106.0, 106.0, 106.0, 106.0, 107.0, 108.0, 108.0, 108.0, 111.0, 113.0, 116.0, 118.0, 122.0, 123.0, 126.0, 128.0, 133.0, 139.0, 145.0, 155.0, 161.0, 167.0, 176.0, 189.0, 196.0, 200.0, 208.0, 221.0, 232.0, 247.0, 255.0, 266.0, 278.0, 295.0, 313.0, 331.0, 352.0, 361.0, 375.0, 379.0, 396.0, 421.0, 438.0, 450.0, 463.0, 472.0, 485.0, 502.0, 517.0, 525.0, 549.0, 572.0, 583.0, 600.0, 611.0, 652.0, 657.0, 663.0, 678.0, 737.0, 748.0, 753.0, 762.0, 770.0, 781.0, 788.0, 797.0, 803.0, 810.0, 816.0, 816.0, 824.0, 832.0, 837.0, 844.0, 849.0, 851.0, 854.0, 859.0, 861.0, 869.0, 870.0, 872.0, 875.0, 882.0, 882.0, 888.0, 890.0, 893.0, 894.0, 894.0, 895.0, 897.0, 897.0, 897.0, 897.0, 898.0, 898.0, 899.0, 904.0, 904.0, 904.0, 904.0, 904.0, 905.0, 905.0, 905.0, 905.0, 905.0, 905.0, 905.0, 905.0, 905.0, 907.0, 907.0, 907.0, 907.0, 907.0, 907.0, 907.0, 907.0, 907.0, 907.0, 0.0001, 0.0001, 0.0001, 0.0001, 0.0001, 0.0001, 0.0001, 0.0001, 0.0001, 0.0001, 0.0001, 0.0001, 0.0001, 0.0001, 0.0001, 0.0001, 0.0001, 0.0001, 0.0001, 0.0001, 0.0001, 0.0001, 0.0001, 0.0001, 0.0001, 0.0001, 0.0001, 0.0001, 0.0001, 0.0001, 0.0001, 0.0001, 0.0001, 0.0001, 0.0001, 0.0001, 0.0001, 0.0001, 0.0001, 0.0001, 0.0001, 0.0001, 0.0001, 0.0001, 0.0001, 0.0001, 0.0001, 0.0001, 0.0001, 0.0001, 0.0001, 0.0001, 0.0001, 0.0001, 0.0001, 0.0001, 1.0, 4.0, 6.0, 11.0, 18.0, 25.0, 34.0, 46.0, 57.0, 77.0, 92.0, 114.0, 136.0, 159.0, 201.0, 241.0, 299.0, 359.0, 432.0, 486.0, 553.0, 667.0, 800.0, 941.0, 1056.0, 1124.0, 1223.0, 1328.0, 1532.0, 1736.0, 1924.0, 2141.0, 2347.0, 2462.0, 2575.0, 2741.0, 2906.0, 3313.0, 3670.0, 4016.0, 4205.0, 4543.0, 5017.0, 5466.0, 5901.0, 6329.0, 6750.0, 7025.0, 7321.0, 7921.0, 8536.0, 9146.0, 9897.0, 10627.0, 11123.0, 11519.0, 12400.0, 13149.0, 13993.0, 14817.0, 15633.0, 16118.0, 16792.0, 17971.0, 18859.0, 20047.0, 21048.0, 22013.0, 22666.0, 23473.0, 24512.0, 25598.0, 26754.0, 27878.0, 28834.0, 29314.0, 29937.0, 31199.0, 32548.0, 34021.0, 35026.0, 35930.0, 36455.0, 37134.0, 38406.0, 39680.0, 40919.0, 41828.0, 42720.0, 43332.0, 43959.0, 45241.0, 46510.0, 47748.0, 48954.0, 49976.0, 50617.0, 51271.0, 52645.0, 53830.0, 54971.0, 55961.0, 57070.0, 57622.0, 58314.0, 59594.0, 60632.0, 61884.0, 63174.0, 64265.0, 64867.0, 65487.0, 66741.0, 67964.0, 69184.0, 70398.0, 71469.0, 72100.0, 72833.0, 74133.0, 75366.0, 76688.0, 77851.0, 78772.0, 79488.0, 80120.0, 81487.0, 82771.0, 84082.0, 85238.0, 86449.0, 87004.0, 87618.0, 88539.0, 90134.0, 91263.0, 92475.0, 93563.0, 94104.0, 94665.0, 95819.0, 97256.0, 98493.0, 99572.0, 100477.0, 101049.0, 101752.0, 103026.0, 104201.0, 105463.0, 106523.0, 107232.0, 107852.0, 108536.0, 109888.0, 111100.0, 112304.0, 113358.0, 114250.0, 114744.0, 115309.0, 116580.0, 117665.0, 118649.0, 119504.0, 120462.0, 120828.0, 121381.0, 122596.0, 123780.0, 124614.0, 125521.0, 126203.0, 126650.0, 126960.0, 127464.0, 128539.0, 129522.0, 130396.0, 131210.0, 131625.0, 132006.0, 133119.0, 134106.0, 134935.0, 135793.0, 136532.0, 136895.0, 137272.0, 138108.0, 138977.0, 139808.0, 140537.0, 141406.0, 141741.0, 142058.0, 142921.0, 143952.0, 144680.0, 145388.0, 145987.0, 146352.0, 146675.0, 147494.0, 148228.0, 148957.0, 149639.0, 150198.0, 150488.0, 150689.0, 150998.0, 151747.0, 152460.0, 153214.0, 153675.0, 153905.0, 154176.0, 154837.0, 155403.0, 155900.0, 156471.0, 156903.0, 157134.0, 157397.0, 157946.0, 158456.0, 158969.0, 159477.0, 159884.0, 160074.0, 160253.0, 160496.0, 161106.0, 161106.0, 161106.0, 0.0001, 0.0001, 0.0001, 0.0001, 0.0001, 0.0001, 0.0001, 0.0001, 0.0001, 0.0001, 0.0001, 0.0001, 0.0001, 0.0001, 0.0001, 0.0001, 0.0001, 0.0001, 0.0001, 0.0001, 0.0001, 0.0001, 0.0001, 0.0001, 0.0001, 0.0001, 0.0001, 0.0001, 0.0001, 0.0001, 0.0001, 0.0001, 0.0001, 0.0001, 0.0001, 0.0001, 0.0001, 0.0001, 0.0001, 0.0001, 0.0001, 0.0001, 0.0001, 0.0001, 0.0001, 0.0001, 0.0001, 0.0001, 0.0001, 0.0001, 0.0001, 1.0, 2.0, 2.0, 2.0, 3.0, 3.0, 3.0, 4.0, 4.0, 4.0, 7.0, 9.0, 9.0, 13.0, 17.0, 19.0, 25.0, 29.0, 32.0, 35.0, 50.0, 56.0, 68.0, 77.0, 109.0, 114.0, 149.0, 166.0, 199.0, 239.0, 273.0, 308.0, 339.0, 377.0, 414.0, 437.0, 480.0, 507.0, 543.0, 590.0, 640.0, 681.0, 718.0, 775.0, 824.0, 872.0, 934.0, 1007.0, 1074.0, 1147.0, 1218.0, 1301.0, 1373.0, 1568.0, 1694.0, 1783.0, 1886.0, 1981.0, 2109.0, 2206.0, 2293.0, 2415.0, 2549.0, 2649.0, 2752.0, 2872.0, 3029.0, 3163.0, 3303.0, 3435.0, 3583.0, 3720.0, 3867.0, 4021.0, 4167.0, 4337.0, 4531.0, 4706.0, 4971.0, 5164.0, 5394.0, 5598.0, 5815.0, 6075.0, 6348.0, 6642.0, 6929.0, 7135.0, 7466.0, 7745.0, 8102.0, 8498.0, 8884.0, 9195.0, 9520.0, 9900.0, 11903.0, 12237.0, 12573.0, 12948.0, 13254.0, 13699.0, 14011.0, 14476.0, 14894.0, 15301.0, 15685.0, 16095.0, 16475.0, 16893.0, 17400.0, 17834.0, 18213.0, 18655.0, 19268.0, 19693.0, 20160.0, 20642.0, 21129.0, 21604.0, 22123.0, 22674.0, 23174.0, 23727.0, 24309.0, 24915.0, 25602.0, 26273.0, 26816.0, 27497.0, 28084.0, 28732.0, 29861.0, 30601.0, 31358.0, 32063.0, 32771.0, 33425.0, 34193.0, 34968.0, 35747.0, 36511.0, 37364.0, 38135.0, 38938.0, 39795.0, 40699.0, 41585.0, 42518.0, 43379.0, 44386.0, 45257.0, 46091.0, 47033.0, 48040.0, 49036.0, 49980.0, 50921.0, 51797.0, 52889.0, 53866.0, 54849.0, 55794.0, 56706.0, 57542.0, 58390.0, 59449.0, 60472.0, 61529.0, 62550.0, 63498.0, 64469.0, 65228.0, 66333.0, 67376.0, 68472.0, 69561.0, 70626.0, 71642.0, 72775.0, 73890.0, 75062.0, 76271.0, 77472.0, 78586.0, 79722.0, 80776.0, 82066.0, 83198.0, 84372.0, 85619.0, 86752.0, 87882.0, 88935.0, 90020.0, 91149.0, 92290.0, 93379.0, 94503.0, 95542.0, 96318.0, 97497.0, 98678.0, 99773.0, 100842.0, 101782.0, 102685.0, 103569.0, 104555.0, 105526.0, 106490.0, 107416.0, 108334.0, 109150.0, 109856.0, 110586.0, 111266.0, 112161.0, 112998.0, 114031.0, 114610.0, 115197.0, 115914.0, 116616.0, 117306.0, 117956.0, 118534.0, 119014.0, 119502.0, 120010.0, 120527.0, 121090.0, 121641.0, 122111.0, 122607.0, 123097.0, 123611.0, 124315.0, 124985.0, 125562.0, 0.0001, 0.0001, 0.0001, 0.0001, 0.0001, 0.0001, 0.0001, 0.0001, 0.0001, 0.0001, 0.0001, 0.0001, 0.0001, 0.0001, 0.0001, 0.0001, 0.0001, 0.0001, 0.0001, 0.0001, 0.0001, 0.0001, 0.0001, 0.0001, 0.0001, 0.0001, 0.0001, 0.0001, 0.0001, 0.0001, 0.0001, 0.0001, 0.0001, 0.0001, 0.0001, 0.0001, 0.0001, 0.0001, 0.0001, 0.0001, 0.0001, 0.0001, 0.0001, 0.0001, 0.0001, 0.0001, 0.0001, 0.0001, 0.0001, 0.0001, 0.0001, 0.0001, 0.0001, 0.0001, 0.0001, 0.0001, 0.0001, 0.0001, 0.0001, 0.0001, 0.0001, 0.0001, 0.0001, 0.0001, 0.0001, 2.0, 4.0, 5.0, 8.0, 10.0, 17.0, 24.0, 30.0, 34.0, 43.0, 45.0, 47.0, 58.0, 63.0, 76.0, 94.0, 106.0, 130.0, 148.0, 170.0, 198.0, 232.0, 273.0, 313.0, 361.0, 405.0, 456.0, 513.0, 555.0, 615.0, 681.0, 747.0, 795.0, 867.0, 972.0, 1073.0, 1169.0, 1222.0, 1280.0, 1356.0, 1451.0, 1537.0, 1625.0, 1723.0, 1827.0, 1915.0, 2009.0, 2116.0, 2212.0, 2305.0, 2418.0, 2537.0, 2631.0, 2722.0, 2837.0, 2972.0, 3099.0, 3249.0, 3388.0, 3541.0, 3633.0, 3807.0, 3968.0, 4142.0, 4374.0, 4555.0, 4693.0, 4855.0, 5037.0, 5215.0, 5384.0, 5528.0, 5725.0, 5859.0, 5971.0, 6141.0, 6358.0, 6532.0, 6715.0, 6829.0, 6948.0, 7091.0, 7284.0, 7478.0, 7790.0, 7972.0, 8002.0, 8111.0, 8206.0, 8359.0, 8513.0, 8605.0, 8781.0, 8969.0, 9073.0, 9166.0, 9320.0, 9536.0, 9683.0, 9859.0, 10027.0, 10161.0, 10296.0, 10494.0, 10667.0, 10843.0, 11017.0, 11205.0, 11335.0, 11439.0, 11614.0, 11770.0, 11937.0, 12123.0, 12247.0, 12342.0, 12427.0, 12580.0, 12745.0, 12892.0, 13046.0, 13192.0, 13269.0, 13354.0, 13504.0, 13673.0, 13802.0, 13963.0, 14058.0, 14128.0, 14207.0, 14351.0, 14532.0, 14606.0, 14725.0, 14854.0, 14931.0, 15061.0, 15131.0, 15260.0, 15384.0, 15498.0, 15617.0, 15685.0, 15740.0, 15872.0, 15989.0, 16099.0, 16189.0, 16310.0, 16383.0, 16448.0, 16568.0, 16683.0, 16804.0, 16914.0, 17025.0, 17093.0, 17176.0, 17299.0, 17414.0, 17528.0, 17649.0, 17759.0, 17820.0, 17871.0, 17993.0, 18153.0, 18263.0, 18365.0, 18484.0, 18578.0, 18635.0, 18785.0, 18917.0, 19061.0, 19195.0, 19339.0, 19418.0, 19489.0, 19649.0, 19799.0, 19948.0, 20056.0, 20225.0, 20324.0, 20385.0, 20545.0, 20722.0, 20891.0, 21077.0, 21251.0, 21358.0, 21475.0, 21663.0, 21865.0, 22056.0, 22257.0, 22454.0, 22597.0, 22722.0, 22966.0, 23205.0, 23491.0, 23723.0, 24002.0, 24187.0, 24366.0, 24635.0, 24952.0, 25242.0, 25525.0, 25821.0, 26050.0, 26269.0, 26589.0, 26935.0, 27301.0, 27656.0, 27990.0, 28235.0, 28473.0, 28828.0, 29217.0, 29509.0, 29887.0, 0.0001, 0.0001, 0.0001, 0.0001, 0.0001, 0.0001, 0.0001, 0.0001, 0.0001, 0.0001, 0.0001, 0.0001, 0.0001, 0.0001, 0.0001, 0.0001, 0.0001, 0.0001, 0.0001, 0.0001, 0.0001, 0.0001, 0.0001, 0.0001, 0.0001, 0.0001, 0.0001, 0.0001, 0.0001, 0.0001, 0.0001, 0.0001, 0.0001, 0.0001, 0.0001, 0.0001, 0.0001, 0.0001, 0.0001, 0.0001, 0.0001, 0.0001, 0.0001, 0.0001, 0.0001, 0.0001, 0.0001, 0.0001, 0.0001, 2.0, 2.0, 2.0, 2.0, 3.0, 5.0, 5.0, 5.0, 7.0, 9.0, 11.0, 12.0, 13.0, 18.0, 18.0, 24.0, 25.0, 25.0, 27.0, 27.0, 34.0, 48.0, 50.0, 52.0, 54.0, 58.0, 58.0, 65.0, 75.0, 79.0, 86.0, 87.0, 90.0, 93.0, 103.0, 103.0, 116.0, 123.0, 131.0, 138.0, 148.0, 153.0, 161.0, 178.0, 186.0, 194.0, 206.0, 206.0, 219.0, 238.0, 247.0, 261.0, 264.0, 286.0, 312.0, 339.0, 369.0, 397.0, 407.0, 429.0, 481.0, 524.0, 552.0, 577.0, 611.0, 643.0, 683.0, 705.0, 755.0, 792.0, 848.0, 908.0, 952.0, 998.0, 1080.0, 1162.0, 1210.0, 1289.0, 1354.0, 1423.0, 1480.0, 1568.0, 1625.0, 1674.0, 1737.0, 1831.0, 1877.0, 1930.0, 1991.0, 2102.0, 2205.0, 2292.0, 2340.0, 2413.0, 2456.0, 2529.0, 2657.0, 2749.0, 2844.0, 2952.0, 3026.0, 3199.0, 3310.0, 3502.0, 3602.0, 3720.0, 3860.0, 3971.0, 4079.0, 4172.0, 4346.0, 4453.0, 4669.0, 4804.0, 4948.0, 5033.0, 5173.0, 5368.0, 5940.0, 6093.0, 6343.0, 6655.0, 6769.0, 7067.0, 7257.0, 7497.0, 7812.0, 8005.0, 8153.0, 8366.0, 8539.0, 8884.0, 9298.0, 9604.0, 9909.0, 10210.0, 10408.0, 10621.0, 10751.0, 11010.0, 11270.0, 11556.0, 11677.0, 11839.0, 11982.0, 12264.0, 12423.0, 12618.0, 12843.0, 12987.0, 13059.0, 13159.0, 13308.0, 13502.0, 13628.0, 13743.0, 13981.0, 14028.0, 14149.0, 14263.0, 14389.0, 14563.0, 14678.0, 14779.0, 14889.0, 15004.0, 15086.0, 15168.0, 15265.0, 15378.0, 15427.0, 15447.0, 15499.0, 15641.0, 15705.0, 15772.0, 15857.0, 15940.0, 15953.0, 15992.0, 16118.0, 16206.0, 16283.0, 16312.0, 16376.0, 16398.0, 16586.0, 16667.0, 16734.0, 16866.0, 16909.0, 16938.0, 16976.0, 17016.0, 17103.0, 17248.0, 17408.0, 17547.0, 17673.0, 17780.0, 17780.0, 18028.0, 18151.0, 18309.0, 18370.0, 18408.0, 18471.0, 18492.0, 18656.0, 18741.0, 18843.0, 18891.0, 18944.0, 18968.0, 19008.0, 19053.0, 19111.0, 19164.0, 19230.0, 19276.0, 19411.0, 19465.0, 19539.0, 19585.0, 19677.0, 19749.0, 0.0001, 0.0001, 0.0001, 0.0001, 0.0001, 0.0001, 0.0001, 0.0001, 0.0001, 0.0001, 0.0001, 0.0001, 0.0001, 0.0001, 0.0001, 0.0001, 0.0001, 0.0001, 0.0001, 0.0001, 0.0001, 0.0001, 0.0001, 0.0001, 0.0001, 0.0001, 0.0001, 0.0001, 0.0001, 0.0001, 0.0001, 0.0001, 0.0001, 0.0001, 0.0001, 0.0001, 0.0001, 0.0001, 0.0001, 1.0, 2.0, 6.0, 9.0, 11.0, 12.0, 14.0, 17.0, 21.0, 26.0, 28.0, 30.0, 40.0, 47.0, 57.0, 69.0, 85.0, 108.0, 150.0, 150.0, 260.0, 340.0, 471.0, 590.0, 801.0, 1050.0, 1296.0, 1707.0, 2191.0, 2509.0, 3170.0, 4079.0, 5138.0, 6053.0, 7157.0, 8501.0, 9647.0, 10989.0, 12895.0, 14817.0, 16690.0, 18777.0, 20608.0, 22108.0, 23649.0, 26057.0, 30985.0, 33284.0, 37054.0, 38910.0, 40682.0, 42539.0, 45063.0, 46784.0, 49963.0, 51017.0, 53189.0, 54876.0, 56245.0, 58355.0, 60966.0, 63006.0, 65068.0, 66385.0, 67682.0, 68934.0, 71078.0, 73431.0, 75670.0, 77180.0, 78794.0, 79528.0, 80684.0, 82387.0, 84133.0, 85906.0, 87568.0, 88754.0, 89562.0, 90353.0, 91921.0, 93439.0, 94702.0, 96007.0, 97087.0, 97720.0, 98220.0, 98916.0, 100442.0, 101617.0, 102836.0, 103781.0, 104383.0, 105147.0, 106181.0, 107175.0, 108211.0, 109143.0, 109802.0, 110514.0, 111007.0, 112006.0, 112924.0, 113820.0, 114669.0, 115436.0, 115732.0, 116127.0, 116963.0, 117717.0, 118434.0, 119112.0, 119719.0, 119975.0, 120402.0, 121228.0, 121979.0, 124416.0, 125039.0, 125539.0, 125804.0, 126140.0, 127410.0, 128062.0, 128740.0, 129434.0, 129676.0, 129947.0, 130306.0, 131480.0, 132309.0, 133291.0, 134097.0, 134814.0, 135205.0, 135605.0, 136466.0, 137419.0, 138358.0, 139266.0, 140119.0, 140534.0, 140906.0, 142066.0, 143190.0, 144242.0, 145546.0, 146460.0, 146935.0, 148011.0, 149256.0, 150713.0, 152070.0, 153314.0, 154447.0, 154860.0, 155403.0, 156806.0, 158256.0, 160104.0, 161356.0, 162425.0, 162938.0, 163461.0, 164537.0, 166027.0, 167110.0, 168446.0, 169481.0, 170052.0, 170497.0, 171821.0, 173177.0, 174255.0, 175406.0, 176362.0, 176806.0, 177279.0, 178486.0, 179714.0, 180824.0, 181773.0, 182779.0, 183069.0, 183598.0, 184689.0, 185744.0, 186797.0, 187765.0, 188538.0, 188941.0, 189208.0, 189679.0, 190815.0, 191789.0, 193016.0, 193701.0, 194079.0, 194530.0, 195937.0, 196802.0, 197633.0, 198589.0, 199258.0, 199509.0, 199881.0, 200807.0, 201909.0, 202810.0, 203774.0, 204497.0, 204756.0, 205070.0, 205998.0, 206928.0, 207808.0, 208716.0, 209394.0, 209794.0, 210192.0, 210909.0, 211801.0, 212773.0, 213787.0, 214377.0, 214771.0, 215085.0, 215902.0, 216872.0, 217700.0, 218599.0, 219289.0, 219674.0, 220133.0, 221066.0, 222201.0, 223042.0, 223995.0, 224899.0, 225230.0, 225735.0, 226723.0, 227700.0, 228668.0, 229708.0, 230556.0, 230996.0, 231551.0, 232627.0, 233729.0, 234937.0, 236099.0], \"yaxis\": \"y3\"}, {\"name\": \"new_deaths\", \"type\": \"box\", \"xaxis\": \"x4\", \"y\": [0.0001, 0.0001, 0.0001, 0.0001, 0.0001, 0.0001, 0.0001, 0.0001, 0.0001, 0.0001, 0.0001, 0.0001, 0.0001, 0.0001, 0.0001, 0.0001, 0.0001, 0.0001, 0.0001, 0.0001, 0.0001, 0.0001, 0.0001, 0.0001, 0.0001, 0.0001, 0.0001, 0.0001, 0.0001, 0.0001, 0.0001, 0.0001, 0.0001, 0.0001, 0.0001, 0.0001, 0.0001, 0.0001, 0.0001, 1.0, 0.0001, 0.0001, 0.0001, 1.0, 0.0001, 0.0001, 1.0, 0.0001, 0.0001, 0.0001, 0.0001, 0.0001, 0.0001, 0.0001, 2.0, 0.0001, 0.0001, 1.0, 0.0001, 1.0, 0.0001, 0.0001, 0.0001, 1.0, 3.0, 2.0, 0.0001, 1.0, 2.0, 3.0, 1.0, 1.0, 2.0, 7.0, 4.0, 2.0, 6.0, 3.0, 5.0, 2.0, 2.0, 3.0, 4.0, 0.0001, 0.0001, 2.0, 0.0001, 4.0, 2.0, 1.0, 1.0, 3.0, 0.0001, 1.0, 4.0, 2.0, 2.0, 1.0, 4.0, 2.0, 2.0, 1.0, 0.0001, 2.0, 0.0001, 1.0, 1.0, 0.0001, 0.0001, 0.0001, 0.0001, 0.0001, 0.0001, 1.0, 0.0001, 0.0001, 0.0001, 0.0001, 1.0, 0.0001, 1.0, 0.0001, 1.0, 1.0, 0.0001, 0.0001, 0.0001, 0.0001, 0.0001, 0.0001, 0.0001, 0.0001, 0.0001, 0.0001, 0.0001, 0.0001, 0.0001, 0.0001, 0.0001, 0.0001, 0.0001, 0.0001, 0.0001, 0.0001, 0.0001, 0.0001, 0.0001, 0.0001, 0.0001, 0.0001, 0.0001, 0.0001, 0.0001, 0.0001, 0.0001, 1.0, 1.0, 0.0001, 0.0001, 0.0001, 0.0001, 0.0001, 0.0001, 0.0001, 0.0001, 0.0001, 0.0001, 2.0, 0.0001, 0.0001, 0.0001, 0.0001, 1.0, 1.0, 0.0001, 0.0001, 3.0, 2.0, 3.0, 2.0, 4.0, 1.0, 3.0, 2.0, 5.0, 6.0, 6.0, 10.0, 6.0, 6.0, 9.0, 13.0, 7.0, 4.0, 8.0, 13.0, 11.0, 15.0, 8.0, 11.0, 12.0, 17.0, 18.0, 18.0, 21.0, 9.0, 14.0, 4.0, 17.0, 25.0, 17.0, 12.0, 13.0, 9.0, 13.0, 17.0, 15.0, 8.0, 24.0, 23.0, 11.0, 17.0, 11.0, 41.0, 5.0, 6.0, 15.0, 59.0, 11.0, 5.0, 9.0, 8.0, 11.0, 7.0, 9.0, 6.0, 7.0, 6.0, 0.0001, 8.0, 8.0, 5.0, 7.0, 5.0, 2.0, 3.0, 5.0, 2.0, 8.0, 1.0, 2.0, 3.0, 7.0, 0.0001, 6.0, 2.0, 3.0, 1.0, 0.0001, 1.0, 2.0, 0.0001, 0.0001, 0.0001, 1.0, 0.0001, 1.0, 5.0, 0.0001, 0.0001, 0.0001, 0.0001, 1.0, 0.0001, 0.0001, 0.0001, 0.0001, 0.0001, 0.0001, 0.0001, 0.0001, 2.0, 0.0001, 0.0001, 0.0001, 0.0001, 0.0001, 0.0001, 0.0001, 0.0001, 0.0001, 0.0001, 0.0001, 0.0001, 0.0001, 0.0001, 0.0001, 0.0001, 0.0001, 0.0001, 0.0001, 0.0001, 0.0001, 0.0001, 0.0001, 0.0001, 0.0001, 0.0001, 0.0001, 0.0001, 0.0001, 0.0001, 0.0001, 0.0001, 0.0001, 0.0001, 0.0001, 0.0001, 0.0001, 0.0001, 0.0001, 0.0001, 0.0001, 0.0001, 0.0001, 0.0001, 0.0001, 0.0001, 0.0001, 0.0001, 0.0001, 0.0001, 0.0001, 0.0001, 0.0001, 0.0001, 0.0001, 0.0001, 0.0001, 0.0001, 0.0001, 0.0001, 0.0001, 0.0001, 0.0001, 0.0001, 0.0001, 1.0, 3.0, 2.0, 5.0, 7.0, 7.0, 9.0, 12.0, 11.0, 20.0, 15.0, 22.0, 22.0, 23.0, 42.0, 40.0, 58.0, 60.0, 73.0, 54.0, 67.0, 114.0, 133.0, 141.0, 115.0, 68.0, 99.0, 105.0, 204.0, 204.0, 188.0, 217.0, 206.0, 115.0, 113.0, 166.0, 165.0, 407.0, 357.0, 346.0, 189.0, 338.0, 474.0, 449.0, 435.0, 428.0, 421.0, 275.0, 296.0, 600.0, 615.0, 610.0, 751.0, 730.0, 496.0, 396.0, 881.0, 749.0, 844.0, 824.0, 816.0, 485.0, 674.0, 1179.0, 888.0, 1188.0, 1001.0, 965.0, 653.0, 807.0, 1039.0, 1086.0, 1156.0, 1124.0, 956.0, 480.0, 623.0, 1262.0, 1349.0, 1473.0, 1005.0, 904.0, 525.0, 679.0, 1272.0, 1274.0, 1239.0, 909.0, 892.0, 612.0, 627.0, 1282.0, 1269.0, 1238.0, 1206.0, 1022.0, 641.0, 654.0, 1374.0, 1185.0, 1141.0, 990.0, 1109.0, 552.0, 692.0, 1280.0, 1038.0, 1252.0, 1290.0, 1091.0, 602.0, 620.0, 1254.0, 1223.0, 1220.0, 1214.0, 1071.0, 631.0, 733.0, 1300.0, 1233.0, 1322.0, 1163.0, 921.0, 716.0, 632.0, 1367.0, 1284.0, 1311.0, 1156.0, 1211.0, 555.0, 614.0, 921.0, 1595.0, 1129.0, 1212.0, 1088.0, 541.0, 561.0, 1154.0, 1437.0, 1237.0, 1079.0, 905.0, 572.0, 703.0, 1274.0, 1175.0, 1262.0, 1060.0, 709.0, 620.0, 684.0, 1352.0, 1212.0, 1204.0, 1054.0, 892.0, 494.0, 565.0, 1271.0, 1085.0, 984.0, 855.0, 958.0, 366.0, 553.0, 1215.0, 1184.0, 834.0, 907.0, 682.0, 447.0, 310.0, 504.0, 1075.0, 983.0, 874.0, 814.0, 415.0, 381.0, 1113.0, 987.0, 829.0, 858.0, 739.0, 363.0, 377.0, 836.0, 869.0, 831.0, 729.0, 869.0, 335.0, 317.0, 863.0, 1031.0, 728.0, 708.0, 599.0, 365.0, 323.0, 819.0, 734.0, 729.0, 682.0, 559.0, 290.0, 201.0, 309.0, 749.0, 713.0, 754.0, 461.0, 230.0, 271.0, 661.0, 566.0, 497.0, 571.0, 432.0, 231.0, 263.0, 549.0, 510.0, 513.0, 508.0, 407.0, 190.0, 179.0, 243.0, 610.0, 0.0001, 0.0001, 0.0001, 0.0001, 0.0001, 0.0001, 0.0001, 0.0001, 0.0001, 0.0001, 0.0001, 0.0001, 0.0001, 0.0001, 0.0001, 0.0001, 0.0001, 0.0001, 0.0001, 0.0001, 0.0001, 0.0001, 0.0001, 0.0001, 0.0001, 0.0001, 0.0001, 0.0001, 0.0001, 0.0001, 0.0001, 0.0001, 0.0001, 0.0001, 0.0001, 0.0001, 0.0001, 0.0001, 0.0001, 0.0001, 0.0001, 0.0001, 0.0001, 0.0001, 0.0001, 0.0001, 0.0001, 0.0001, 0.0001, 0.0001, 0.0001, 0.0001, 0.0001, 1.0, 1.0, 0.0001, 0.0001, 1.0, 0.0001, 0.0001, 1.0, 0.0001, 0.0001, 3.0, 2.0, 0.0001, 4.0, 4.0, 2.0, 6.0, 4.0, 3.0, 3.0, 15.0, 6.0, 12.0, 9.0, 32.0, 5.0, 35.0, 17.0, 33.0, 40.0, 34.0, 35.0, 31.0, 38.0, 37.0, 23.0, 43.0, 27.0, 36.0, 47.0, 50.0, 41.0, 37.0, 57.0, 49.0, 48.0, 62.0, 73.0, 67.0, 73.0, 71.0, 83.0, 72.0, 195.0, 126.0, 89.0, 103.0, 95.0, 128.0, 97.0, 87.0, 122.0, 134.0, 100.0, 103.0, 120.0, 157.0, 134.0, 140.0, 132.0, 148.0, 137.0, 147.0, 154.0, 146.0, 170.0, 194.0, 175.0, 265.0, 193.0, 230.0, 204.0, 217.0, 260.0, 273.0, 294.0, 287.0, 206.0, 331.0, 279.0, 357.0, 396.0, 386.0, 311.0, 325.0, 380.0, 2003.0, 334.0, 336.0, 375.0, 306.0, 445.0, 312.0, 465.0, 418.0, 407.0, 384.0, 410.0, 380.0, 418.0, 507.0, 434.0, 379.0, 442.0, 613.0, 425.0, 467.0, 482.0, 487.0, 475.0, 519.0, 551.0, 500.0, 553.0, 582.0, 606.0, 687.0, 671.0, 543.0, 681.0, 587.0, 648.0, 1129.0, 740.0, 757.0, 705.0, 708.0, 654.0, 768.0, 775.0, 779.0, 764.0, 853.0, 771.0, 803.0, 857.0, 904.0, 886.0, 933.0, 861.0, 1007.0, 871.0, 834.0, 942.0, 1007.0, 996.0, 944.0, 941.0, 876.0, 1092.0, 977.0, 983.0, 945.0, 912.0, 836.0, 848.0, 1059.0, 1023.0, 1057.0, 1021.0, 948.0, 971.0, 759.0, 1105.0, 1043.0, 1096.0, 1089.0, 1065.0, 1016.0, 1133.0, 1115.0, 1172.0, 1209.0, 1201.0, 1114.0, 1136.0, 1054.0, 1290.0, 1132.0, 1174.0, 1247.0, 1133.0, 1130.0, 1053.0, 1085.0, 1129.0, 1141.0, 1089.0, 1124.0, 1039.0, 776.0, 1179.0, 1181.0, 1095.0, 1069.0, 940.0, 903.0, 884.0, 986.0, 971.0, 964.0, 926.0, 918.0, 816.0, 706.0, 730.0, 680.0, 895.0, 837.0, 1033.0, 579.0, 587.0, 717.0, 702.0, 690.0, 650.0, 578.0, 480.0, 488.0, 508.0, 517.0, 563.0, 551.0, 470.0, 496.0, 490.0, 514.0, 704.0, 670.0, 577.0, 0.0001, 0.0001, 0.0001, 0.0001, 0.0001, 0.0001, 0.0001, 0.0001, 0.0001, 0.0001, 0.0001, 0.0001, 0.0001, 0.0001, 0.0001, 0.0001, 0.0001, 0.0001, 0.0001, 0.0001, 0.0001, 0.0001, 0.0001, 0.0001, 0.0001, 0.0001, 0.0001, 0.0001, 0.0001, 0.0001, 0.0001, 0.0001, 0.0001, 0.0001, 0.0001, 0.0001, 0.0001, 0.0001, 0.0001, 0.0001, 0.0001, 0.0001, 0.0001, 0.0001, 0.0001, 0.0001, 0.0001, 0.0001, 0.0001, 0.0001, 0.0001, 0.0001, 0.0001, 0.0001, 0.0001, 0.0001, 0.0001, 0.0001, 0.0001, 0.0001, 0.0001, 0.0001, 0.0001, 0.0001, 0.0001, 2.0, 2.0, 1.0, 3.0, 2.0, 7.0, 7.0, 6.0, 4.0, 9.0, 2.0, 2.0, 11.0, 5.0, 13.0, 18.0, 12.0, 24.0, 18.0, 22.0, 28.0, 34.0, 41.0, 40.0, 48.0, 44.0, 51.0, 57.0, 42.0, 60.0, 66.0, 66.0, 48.0, 72.0, 105.0, 101.0, 96.0, 53.0, 58.0, 76.0, 95.0, 86.0, 88.0, 98.0, 104.0, 88.0, 94.0, 107.0, 96.0, 93.0, 113.0, 119.0, 94.0, 91.0, 115.0, 135.0, 127.0, 150.0, 139.0, 153.0, 92.0, 174.0, 161.0, 174.0, 232.0, 181.0, 138.0, 162.0, 182.0, 178.0, 169.0, 144.0, 197.0, 134.0, 112.0, 170.0, 217.0, 174.0, 183.0, 114.0, 119.0, 143.0, 193.0, 194.0, 312.0, 182.0, 30.0, 109.0, 95.0, 153.0, 154.0, 92.0, 176.0, 188.0, 104.0, 93.0, 154.0, 216.0, 147.0, 176.0, 168.0, 134.0, 135.0, 198.0, 173.0, 176.0, 174.0, 188.0, 130.0, 104.0, 175.0, 156.0, 167.0, 186.0, 124.0, 95.0, 85.0, 153.0, 165.0, 147.0, 154.0, 146.0, 77.0, 85.0, 150.0, 169.0, 129.0, 161.0, 95.0, 70.0, 79.0, 144.0, 181.0, 74.0, 119.0, 129.0, 77.0, 130.0, 70.0, 129.0, 124.0, 114.0, 119.0, 68.0, 55.0, 132.0, 117.0, 110.0, 90.0, 121.0, 73.0, 65.0, 120.0, 115.0, 121.0, 110.0, 111.0, 68.0, 83.0, 123.0, 115.0, 114.0, 121.0, 110.0, 61.0, 51.0, 122.0, 160.0, 110.0, 102.0, 119.0, 94.0, 57.0, 150.0, 132.0, 144.0, 134.0, 144.0, 79.0, 71.0, 160.0, 150.0, 149.0, 108.0, 169.0, 99.0, 61.0, 160.0, 177.0, 169.0, 186.0, 174.0, 107.0, 117.0, 188.0, 202.0, 191.0, 201.0, 197.0, 143.0, 125.0, 244.0, 239.0, 286.0, 232.0, 279.0, 185.0, 179.0, 269.0, 317.0, 290.0, 283.0, 296.0, 229.0, 219.0, 320.0, 346.0, 366.0, 355.0, 334.0, 245.0, 238.0, 355.0, 389.0, 292.0, 378.0, 0.0001, 0.0001, 0.0001, 0.0001, 0.0001, 0.0001, 0.0001, 0.0001, 0.0001, 0.0001, 0.0001, 0.0001, 0.0001, 0.0001, 0.0001, 0.0001, 0.0001, 0.0001, 0.0001, 0.0001, 0.0001, 0.0001, 0.0001, 0.0001, 0.0001, 0.0001, 0.0001, 0.0001, 0.0001, 0.0001, 0.0001, 0.0001, 0.0001, 0.0001, 0.0001, 0.0001, 0.0001, 0.0001, 0.0001, 0.0001, 0.0001, 0.0001, 0.0001, 0.0001, 0.0001, 0.0001, 0.0001, 0.0001, 0.0001, 2.0, 0.0001, 0.0001, 0.0001, 1.0, 2.0, 0.0001, 0.0001, 2.0, 2.0, 2.0, 1.0, 1.0, 5.0, 0.0001, 6.0, 1.0, 0.0001, 2.0, 0.0001, 7.0, 14.0, 2.0, 2.0, 2.0, 4.0, 0.0001, 7.0, 10.0, 4.0, 7.0, 1.0, 3.0, 3.0, 10.0, 0.0001, 13.0, 7.0, 8.0, 7.0, 10.0, 5.0, 8.0, 17.0, 8.0, 8.0, 12.0, 0.0001, 13.0, 19.0, 9.0, 14.0, 3.0, 22.0, 26.0, 27.0, 30.0, 28.0, 10.0, 22.0, 52.0, 43.0, 28.0, 25.0, 34.0, 32.0, 40.0, 22.0, 50.0, 37.0, 56.0, 60.0, 44.0, 46.0, 82.0, 82.0, 48.0, 79.0, 65.0, 69.0, 57.0, 88.0, 57.0, 49.0, 63.0, 94.0, 46.0, 53.0, 61.0, 111.0, 103.0, 87.0, 48.0, 73.0, 43.0, 73.0, 128.0, 92.0, 95.0, 108.0, 74.0, 173.0, 111.0, 192.0, 100.0, 118.0, 140.0, 111.0, 108.0, 93.0, 174.0, 107.0, 216.0, 135.0, 144.0, 85.0, 140.0, 195.0, 572.0, 153.0, 250.0, 312.0, 114.0, 298.0, 190.0, 240.0, 315.0, 193.0, 148.0, 213.0, 173.0, 345.0, 414.0, 306.0, 305.0, 301.0, 198.0, 213.0, 130.0, 259.0, 260.0, 286.0, 121.0, 162.0, 143.0, 282.0, 159.0, 195.0, 225.0, 144.0, 72.0, 100.0, 149.0, 194.0, 126.0, 115.0, 238.0, 47.0, 121.0, 114.0, 126.0, 174.0, 115.0, 101.0, 110.0, 115.0, 82.0, 82.0, 97.0, 113.0, 49.0, 20.0, 52.0, 142.0, 64.0, 67.0, 85.0, 83.0, 13.0, 39.0, 126.0, 88.0, 77.0, 29.0, 64.0, 22.0, 188.0, 81.0, 67.0, 132.0, 43.0, 29.0, 38.0, 40.0, 87.0, 145.0, 160.0, 139.0, 126.0, 107.0, 0.0001, 248.0, 123.0, 158.0, 61.0, 38.0, 63.0, 21.0, 164.0, 85.0, 102.0, 48.0, 53.0, 24.0, 40.0, 45.0, 58.0, 53.0, 66.0, 46.0, 135.0, 54.0, 74.0, 46.0, 92.0, 72.0, 0.0001, 0.0001, 0.0001, 0.0001, 0.0001, 0.0001, 0.0001, 0.0001, 0.0001, 0.0001, 0.0001, 0.0001, 0.0001, 0.0001, 0.0001, 0.0001, 0.0001, 0.0001, 0.0001, 0.0001, 0.0001, 0.0001, 0.0001, 0.0001, 0.0001, 0.0001, 0.0001, 0.0001, 0.0001, 0.0001, 0.0001, 0.0001, 0.0001, 0.0001, 0.0001, 0.0001, 0.0001, 0.0001, 0.0001, 1.0, 1.0, 4.0, 3.0, 2.0, 1.0, 2.0, 3.0, 4.0, 5.0, 2.0, 2.0, 10.0, 7.0, 10.0, 12.0, 16.0, 23.0, 42.0, 0.0001, 110.0, 80.0, 131.0, 119.0, 211.0, 249.0, 246.0, 411.0, 484.0, 318.0, 661.0, 909.0, 1059.0, 915.0, 1104.0, 1344.0, 1146.0, 1342.0, 1906.0, 1922.0, 1873.0, 2087.0, 1831.0, 1500.0, 1541.0, 2408.0, 4928.0, 2299.0, 3770.0, 1856.0, 1772.0, 1857.0, 2524.0, 1721.0, 3179.0, 1054.0, 2172.0, 1687.0, 1369.0, 2110.0, 2611.0, 2040.0, 2062.0, 1317.0, 1297.0, 1252.0, 2144.0, 2353.0, 2239.0, 1510.0, 1614.0, 734.0, 1156.0, 1703.0, 1746.0, 1773.0, 1662.0, 1186.0, 808.0, 791.0, 1568.0, 1518.0, 1263.0, 1305.0, 1080.0, 633.0, 500.0, 696.0, 1526.0, 1175.0, 1219.0, 945.0, 602.0, 764.0, 1034.0, 994.0, 1036.0, 932.0, 659.0, 712.0, 493.0, 999.0, 918.0, 896.0, 849.0, 767.0, 296.0, 395.0, 836.0, 754.0, 717.0, 678.0, 607.0, 256.0, 427.0, 826.0, 751.0, 2437.0, 623.0, 500.0, 265.0, 336.0, 1270.0, 652.0, 678.0, 694.0, 242.0, 271.0, 359.0, 1174.0, 829.0, 982.0, 806.0, 717.0, 391.0, 400.0, 861.0, 953.0, 939.0, 908.0, 853.0, 415.0, 372.0, 1160.0, 1124.0, 1052.0, 1304.0, 914.0, 475.0, 1076.0, 1245.0, 1457.0, 1357.0, 1244.0, 1133.0, 413.0, 543.0, 1403.0, 1450.0, 1848.0, 1252.0, 1069.0, 513.0, 523.0, 1076.0, 1490.0, 1083.0, 1336.0, 1035.0, 571.0, 445.0, 1324.0, 1356.0, 1078.0, 1151.0, 956.0, 444.0, 473.0, 1207.0, 1228.0, 1110.0, 949.0, 1006.0, 290.0, 529.0, 1091.0, 1055.0, 1053.0, 968.0, 773.0, 403.0, 267.0, 471.0, 1136.0, 974.0, 1227.0, 685.0, 378.0, 451.0, 1407.0, 865.0, 831.0, 956.0, 669.0, 251.0, 372.0, 926.0, 1102.0, 901.0, 964.0, 723.0, 259.0, 314.0, 928.0, 930.0, 880.0, 908.0, 678.0, 400.0, 398.0, 717.0, 892.0, 972.0, 1014.0, 590.0, 394.0, 314.0, 817.0, 970.0, 828.0, 899.0, 690.0, 385.0, 459.0, 933.0, 1135.0, 841.0, 953.0, 904.0, 331.0, 505.0, 988.0, 977.0, 968.0, 1040.0, 848.0, 440.0, 555.0, 1076.0, 1102.0, 1208.0, 1162.0], \"yaxis\": \"y4\"}, {\"name\": \"new_deaths_smoothed\", \"type\": \"box\", \"xaxis\": \"x4\", \"y\": [0.0001, 0.0001, 0.0001, 0.0001, 0.0001, 0.0001, 0.0001, 0.0001, 0.0001, 0.0001, 0.0001, 0.0001, 0.0001, 0.0001, 0.0001, 0.0001, 0.0001, 0.0001, 0.0001, 0.0001, 0.0001, 0.0001, 0.0001, 0.0001, 0.0001, 0.0001, 0.0001, 0.0001, 0.0001, 0.0001, 0.0001, 0.0001, 0.0001, 0.0001, 0.0001, 0.0001, 0.0001, 0.0001, 0.0001, 0.14300000000000002, 0.14300000000000002, 0.14300000000000002, 0.14300000000000002, 0.28600000000000003, 0.28600000000000003, 0.28600000000000003, 0.28600000000000003, 0.28600000000000003, 0.28600000000000003, 0.28600000000000003, 0.14300000000000002, 0.14300000000000002, 0.14300000000000002, 0.0001, 0.28600000000000003, 0.28600000000000003, 0.28600000000000003, 0.429, 0.429, 0.5710000000000001, 0.5710000000000001, 0.28600000000000003, 0.28600000000000003, 0.429, 0.7140000000000001, 1.0, 0.857, 1.0, 1.286, 1.714, 1.714, 1.429, 1.429, 2.4290000000000003, 2.8569999999999998, 2.8569999999999998, 3.286, 3.571, 4.143, 4.143, 3.429, 3.286, 3.571, 2.714, 2.286, 1.857, 1.571, 1.857, 1.714, 1.286, 1.429, 1.857, 1.571, 1.714, 1.714, 1.714, 1.857, 1.857, 2.0, 2.286, 2.4290000000000003, 2.0, 1.714, 1.714, 1.571, 1.143, 1.0, 0.7140000000000001, 0.5710000000000001, 0.5710000000000001, 0.28600000000000003, 0.28600000000000003, 0.14300000000000002, 0.14300000000000002, 0.14300000000000002, 0.14300000000000002, 0.14300000000000002, 0.14300000000000002, 0.28600000000000003, 0.28600000000000003, 0.28600000000000003, 0.28600000000000003, 0.429, 0.5710000000000001, 0.5710000000000001, 0.429, 0.429, 0.28600000000000003, 0.28600000000000003, 0.14300000000000002, 0.0001, 0.0001, 0.0001, 0.0001, 0.0001, 0.0001, 0.0001, 0.0001, 0.0001, 0.0001, 0.0001, 0.0001, 0.0001, 0.0001, 0.0001, 0.0001, 0.0001, 0.0001, 0.0001, 0.0001, 0.0001, 0.0001, 0.0001, 0.0001, 0.0001, 0.14300000000000002, 0.28600000000000003, 0.28600000000000003, 0.28600000000000003, 0.28600000000000003, 0.28600000000000003, 0.28600000000000003, 0.14300000000000002, 0.0001, 0.0001, 0.0001, 0.0001, 0.28600000000000003, 0.28600000000000003, 0.28600000000000003, 0.28600000000000003, 0.28600000000000003, 0.429, 0.5710000000000001, 0.28600000000000003, 0.28600000000000003, 0.7140000000000001, 1.0, 1.429, 1.571, 2.0, 2.1430000000000002, 2.571, 2.4290000000000003, 2.8569999999999998, 3.286, 3.8569999999999998, 4.7139999999999995, 5.428999999999999, 5.857, 6.857, 8.0, 8.142999999999999, 7.857, 7.571000000000001, 8.571, 9.286, 10.142999999999999, 9.429, 10.0, 11.142999999999999, 12.429, 13.142999999999999, 14.142999999999999, 15.0, 15.142999999999999, 15.571, 14.429, 14.429, 15.429, 15.286, 14.0, 14.571, 13.857000000000001, 15.142999999999999, 15.142999999999999, 13.714, 12.429, 14.142999999999999, 15.571, 15.857000000000001, 16.429000000000002, 15.571, 19.285999999999998, 18.857, 16.285999999999998, 15.142999999999999, 22.0, 21.143, 20.285999999999998, 15.714, 16.143, 16.857, 15.714, 8.571, 7.857, 8.142999999999999, 7.7139999999999995, 6.571000000000001, 6.143, 6.2860000000000005, 5.7139999999999995, 5.857, 5.571000000000001, 5.0, 5.428999999999999, 5.0, 4.143, 4.571000000000001, 3.714, 3.286, 3.429, 4.0, 3.286, 3.8569999999999998, 3.0, 3.286, 3.1430000000000002, 2.714, 1.857, 2.1430000000000002, 1.286, 1.0, 0.5710000000000001, 0.5710000000000001, 0.5710000000000001, 0.5710000000000001, 1.0, 1.0, 1.0, 1.0, 0.857, 1.0, 0.857, 0.14300000000000002, 0.14300000000000002, 0.14300000000000002, 0.14300000000000002, 0.14300000000000002, 0.0001, 0.0001, 0.28600000000000003, 0.28600000000000003, 0.28600000000000003, 0.28600000000000003, 0.28600000000000003, 0.28600000000000003, 0.28600000000000003, 0.0001, 0.0001, 0.0001, 0.0001, 0.0001, 0.0001, 0.0001, 0.0001, 0.0001, 0.0001, 0.0001, 0.0001, 0.0001, 0.0001, 0.0001, 0.0001, 0.0001, 0.0001, 0.0001, 0.0001, 0.0001, 0.0001, 0.0001, 0.0001, 0.0001, 0.0001, 0.0001, 0.0001, 0.0001, 0.0001, 0.0001, 0.0001, 0.0001, 0.0001, 0.0001, 0.0001, 0.0001, 0.0001, 0.0001, 0.0001, 0.0001, 0.0001, 0.0001, 0.0001, 0.0001, 0.0001, 0.0001, 0.0001, 0.0001, 0.0001, 0.0001, 0.0001, 0.0001, 0.0001, 0.0001, 0.0001, 0.0001, 0.0001, 0.0001, 0.14300000000000002, 0.5710000000000001, 0.857, 1.571, 2.571, 3.571, 4.857, 6.428999999999999, 7.571000000000001, 10.142999999999999, 11.571, 13.714, 15.857000000000001, 17.857, 22.143, 26.285999999999998, 31.714000000000002, 38.143, 45.428999999999995, 50.0, 56.286, 66.571, 79.857, 91.714, 99.571, 98.85700000000001, 105.286, 110.714, 123.571, 133.714, 140.429, 155.0, 174.71400000000003, 177.0, 178.143, 172.71400000000003, 167.143, 198.429, 218.429, 238.429, 249.0, 281.143, 325.143, 365.714, 369.714, 379.85699999999997, 390.57099999999997, 402.85699999999997, 396.85699999999997, 414.85699999999997, 438.57099999999997, 463.57099999999997, 509.714, 553.857, 585.429, 599.714, 639.857, 659.0, 692.429, 702.857, 715.143, 713.571, 753.2860000000001, 795.857, 815.7139999999999, 864.857, 890.143, 911.429, 935.429, 954.429, 934.429, 962.7139999999999, 958.143, 975.7139999999999, 974.429, 949.7139999999999, 923.429, 955.2860000000001, 992.857, 1038.143, 1021.143, 1013.7139999999999, 1020.143, 1028.143, 1029.5710000000001, 1018.857, 985.429, 971.7139999999999, 970.0, 982.429, 975.0, 976.429, 975.7139999999999, 975.571, 1018.0, 1036.5710000000001, 1040.714, 1044.5710000000001, 1057.714, 1045.714, 1031.857, 1001.0, 1013.429, 1000.7139999999999, 1006.143, 992.7139999999999, 971.7139999999999, 987.571, 1030.4289999999999, 1027.857, 1035.0, 1024.714, 1021.0, 1047.4289999999999, 1042.857, 1032.0, 1029.143, 1033.286, 1049.4289999999999, 1056.0, 1057.4289999999999, 1072.0, 1064.714, 1043.286, 1055.4289999999999, 1041.0, 1050.5710000000001, 1057.857, 1056.286, 1055.286, 1096.714, 1073.714, 1071.143, 1007.429, 1051.857, 1025.857, 1033.857, 1016.2860000000001, 1014.2860000000001, 1006.7139999999999, 1040.0, 1017.429, 1032.857, 1013.857, 987.7139999999999, 992.143, 1012.429, 1029.5710000000001, 992.143, 995.7139999999999, 993.0, 965.0, 971.857, 969.143, 980.2860000000001, 985.571, 977.2860000000001, 976.429, 1002.571, 984.571, 967.571, 956.0, 937.857, 906.429, 878.0, 887.429, 869.143, 867.429, 859.429, 873.571, 852.143, 859.571, 820.143, 831.7139999999999, 797.0, 695.429, 679.857, 701.143, 696.429, 715.2860000000001, 710.7139999999999, 720.857, 807.857, 795.2860000000001, 773.2860000000001, 771.0, 760.2860000000001, 752.857, 752.2860000000001, 712.7139999999999, 695.857, 696.143, 677.7139999999999, 696.2860000000001, 692.2860000000001, 683.7139999999999, 687.571, 710.7139999999999, 696.0, 693.0, 654.429, 658.7139999999999, 659.571, 653.286, 610.857, 611.0, 607.286, 601.571, 590.857, 573.429, 500.57099999999997, 502.714, 500.42900000000003, 510.714, 496.714, 488.14300000000003, 498.14300000000003, 548.429, 522.286, 491.42900000000003, 465.286, 461.14300000000003, 461.286, 460.14300000000003, 444.14300000000003, 436.14300000000003, 438.42900000000003, 429.42900000000003, 425.85699999999997, 420.0, 408.0, 364.286, 378.57099999999997, 305.286, 232.71400000000003, 0.0001, 0.0001, 0.0001, 0.0001, 0.0001, 0.0001, 0.0001, 0.0001, 0.0001, 0.0001, 0.0001, 0.0001, 0.0001, 0.0001, 0.0001, 0.0001, 0.0001, 0.0001, 0.0001, 0.0001, 0.0001, 0.0001, 0.0001, 0.0001, 0.0001, 0.0001, 0.0001, 0.0001, 0.0001, 0.0001, 0.0001, 0.0001, 0.0001, 0.0001, 0.0001, 0.0001, 0.0001, 0.0001, 0.0001, 0.0001, 0.0001, 0.0001, 0.0001, 0.0001, 0.0001, 0.0001, 0.0001, 0.0001, 0.0001, 0.0001, 0.0001, 0.14300000000000002, 0.28600000000000003, 0.28600000000000003, 0.28600000000000003, 0.429, 0.429, 0.429, 0.429, 0.28600000000000003, 0.28600000000000003, 0.7140000000000001, 0.857, 0.857, 1.429, 1.857, 2.1430000000000002, 3.0, 3.1430000000000002, 3.286, 3.714, 5.2860000000000005, 5.571000000000001, 7.0, 7.428999999999999, 11.429, 11.714, 16.285999999999998, 16.570999999999998, 20.429000000000002, 24.429000000000002, 28.0, 28.429000000000002, 32.143, 32.571, 35.429, 34.0, 34.429, 33.429, 33.571, 35.857, 37.571, 38.143, 40.143, 42.143, 45.286, 47.0, 49.143, 52.428999999999995, 56.143, 61.286, 63.286, 68.143, 71.571, 90.571, 98.14299999999999, 101.286, 105.571, 109.0, 115.429, 119.0, 103.571, 103.0, 109.429, 109.0, 110.14299999999999, 109.0, 117.571, 124.286, 126.85700000000001, 126.571, 133.429, 138.286, 142.143, 141.714, 143.429, 147.714, 156.571, 160.429, 178.71400000000003, 185.28599999999997, 196.143, 204.429, 211.143, 220.571, 234.571, 238.71400000000003, 252.143, 248.71400000000003, 266.857, 275.714, 289.57099999999997, 307.143, 320.286, 323.714, 340.714, 347.714, 594.0, 590.714, 582.143, 580.571, 579.857, 597.0, 587.286, 367.57099999999997, 379.57099999999997, 389.714, 391.0, 405.85699999999997, 396.57099999999997, 411.714, 417.714, 420.0, 416.0, 424.286, 453.286, 459.714, 466.714, 463.14300000000003, 470.714, 484.42900000000003, 495.42900000000003, 486.57099999999997, 497.286, 509.57099999999997, 523.857, 540.857, 571.143, 592.857, 591.714, 617.571, 622.429, 631.857, 706.571, 714.143, 726.429, 749.571, 753.429, 763.0, 780.143, 729.571, 735.143, 736.143, 757.2860000000001, 766.2860000000001, 787.571, 800.2860000000001, 818.7139999999999, 834.0, 858.143, 859.2860000000001, 893.0, 902.7139999999999, 899.429, 904.857, 922.143, 931.143, 943.0, 933.571, 934.2860000000001, 971.143, 976.143, 972.7139999999999, 965.429, 960.857, 945.857, 941.857, 937.143, 943.7139999999999, 954.2860000000001, 965.143, 970.2860000000001, 989.571, 976.857, 983.429, 986.2860000000001, 991.857, 1001.571, 1018.2860000000001, 1024.714, 1078.143, 1079.5710000000001, 1098.0, 1114.143, 1130.143, 1137.143, 1154.286, 1143.0, 1168.0, 1162.286, 1157.286, 1163.857, 1166.5710000000001, 1165.714, 1165.5710000000001, 1136.286, 1135.857, 1131.143, 1108.5710000000001, 1107.286, 1094.286, 1054.714, 1068.143, 1075.5710000000001, 1069.0, 1066.143, 1039.857, 1020.429, 1035.857, 1008.2860000000001, 978.2860000000001, 959.571, 939.143, 936.0, 923.571, 898.143, 861.571, 820.0, 810.143, 797.429, 813.857, 780.0, 763.0, 761.143, 764.2860000000001, 735.0, 708.2860000000001, 643.286, 629.143, 615.0, 585.143, 558.714, 540.571, 526.429, 511.0, 513.286, 513.571, 514.429, 541.143, 556.429, 560.143, 0.0001, 0.0001, 0.0001, 0.0001, 0.0001, 0.0001, 0.0001, 0.0001, 0.0001, 0.0001, 0.0001, 0.0001, 0.0001, 0.0001, 0.0001, 0.0001, 0.0001, 0.0001, 0.0001, 0.0001, 0.0001, 0.0001, 0.0001, 0.0001, 0.0001, 0.0001, 0.0001, 0.0001, 0.0001, 0.0001, 0.0001, 0.0001, 0.0001, 0.0001, 0.0001, 0.0001, 0.0001, 0.0001, 0.0001, 0.0001, 0.0001, 0.0001, 0.0001, 0.0001, 0.0001, 0.0001, 0.0001, 0.0001, 0.0001, 0.0001, 0.0001, 0.0001, 0.0001, 0.0001, 0.0001, 0.0001, 0.0001, 0.0001, 0.0001, 0.0001, 0.0001, 0.0001, 0.0001, 0.0001, 0.0001, 0.28600000000000003, 0.5710000000000001, 0.7140000000000001, 1.143, 1.429, 2.4290000000000003, 3.429, 4.0, 4.2860000000000005, 5.428999999999999, 5.2860000000000005, 5.2860000000000005, 5.857, 5.571000000000001, 6.571000000000001, 8.571, 9.0, 12.142999999999999, 14.429, 16.0, 19.285999999999998, 22.285999999999998, 25.570999999999998, 29.570999999999998, 33.0, 36.714, 40.857, 45.0, 46.143, 48.857, 52.571000000000005, 55.143, 55.714, 58.714, 65.571, 74.0, 79.143, 77.286, 76.143, 80.143, 83.429, 80.714, 78.857, 79.143, 86.429, 90.714, 93.286, 95.0, 96.429, 97.14299999999999, 99.286, 101.429, 102.286, 101.85700000000001, 103.0, 108.571, 113.429, 118.714, 121.571, 130.0, 130.143, 138.571, 142.286, 149.0, 160.714, 166.71400000000003, 164.571, 174.571, 175.71400000000003, 178.143, 177.429, 164.857, 167.143, 166.571, 159.429, 157.714, 163.286, 164.0, 169.571, 157.714, 155.571, 160.0, 163.286, 160.0, 179.71400000000003, 179.571, 167.571, 166.143, 159.286, 153.571, 147.857, 116.429, 115.571, 138.143, 137.429, 137.143, 137.286, 146.143, 154.0, 154.0, 151.143, 155.429, 161.429, 167.71400000000003, 161.571, 165.71400000000003, 165.429, 168.28599999999997, 167.71400000000003, 163.286, 160.0, 157.571, 156.286, 158.0, 148.857, 143.857, 141.143, 138.0, 139.286, 136.429, 131.857, 135.0, 132.429, 132.429, 132.0, 132.571, 130.0, 131.0, 123.714, 122.714, 121.85700000000001, 121.0, 122.714, 114.85700000000001, 108.85700000000001, 113.714, 114.714, 122.0, 111.429, 104.0, 111.14299999999999, 110.429, 109.0, 107.714, 97.0, 105.85700000000001, 104.14299999999999, 102.14299999999999, 98.714, 99.0, 99.714, 101.14299999999999, 99.429, 99.14299999999999, 100.714, 103.571, 102.14299999999999, 101.429, 104.0, 104.429, 104.429, 103.429, 105.0, 104.85700000000001, 103.85700000000001, 99.286, 99.14299999999999, 105.571, 105.0, 102.286, 103.571, 108.286, 109.14299999999999, 113.14299999999999, 109.14299999999999, 114.0, 118.571, 122.14299999999999, 120.0, 122.0, 123.429, 126.0, 126.714, 123.0, 126.571, 129.429, 128.0, 128.0, 131.857, 134.714, 145.857, 146.571, 147.714, 155.714, 159.714, 163.286, 166.429, 168.571, 171.857, 177.0, 178.143, 186.143, 191.429, 205.0, 209.429, 221.143, 227.143, 234.857, 238.429, 249.571, 250.143, 257.42900000000003, 259.857, 266.143, 271.857, 279.143, 283.286, 294.143, 304.42900000000003, 309.857, 312.143, 314.857, 319.857, 326.0, 315.42900000000003, 318.714, 0.0001, 0.0001, 0.0001, 0.0001, 0.0001, 0.0001, 0.0001, 0.0001, 0.0001, 0.0001, 0.0001, 0.0001, 0.0001, 0.0001, 0.0001, 0.0001, 0.0001, 0.0001, 0.0001, 0.0001, 0.0001, 0.0001, 0.0001, 0.0001, 0.0001, 0.0001, 0.0001, 0.0001, 0.0001, 0.0001, 0.0001, 0.0001, 0.0001, 0.0001, 0.0001, 0.0001, 0.0001, 0.0001, 0.0001, 0.0001, 0.0001, 0.0001, 0.0001, 0.0001, 0.0001, 0.0001, 0.0001, 0.0001, 0.0001, 0.28600000000000003, 0.28600000000000003, 0.28600000000000003, 0.28600000000000003, 0.429, 0.7140000000000001, 0.7140000000000001, 0.429, 0.7140000000000001, 1.0, 1.286, 1.286, 1.143, 1.857, 1.857, 2.4290000000000003, 2.286, 2.0, 2.1430000000000002, 2.0, 2.286, 4.2860000000000005, 3.714, 3.8569999999999998, 4.143, 4.428999999999999, 4.428999999999999, 4.428999999999999, 3.8569999999999998, 4.143, 4.857, 4.7139999999999995, 4.571000000000001, 5.0, 5.428999999999999, 4.0, 5.2860000000000005, 5.2860000000000005, 6.2860000000000005, 6.857, 7.857, 7.143, 8.286, 8.857000000000001, 9.0, 9.0, 9.714, 8.286, 9.429, 11.0, 9.857000000000001, 10.714, 10.0, 11.429, 15.142999999999999, 17.143, 18.714000000000002, 21.429000000000002, 20.857, 23.570999999999998, 27.857, 30.285999999999998, 30.429000000000002, 29.714000000000002, 30.570999999999998, 33.714, 36.286, 32.0, 33.0, 34.286, 38.714, 42.428999999999995, 44.143, 45.0, 53.571000000000005, 58.143, 59.714, 63.0, 63.714, 67.286, 68.857, 69.714, 66.143, 66.286, 64.0, 68.143, 64.857, 64.286, 60.428999999999995, 68.143, 75.857, 79.286, 72.714, 76.571, 75.143, 76.857, 79.286, 77.714, 78.857, 87.429, 87.571, 106.14299999999999, 111.571, 120.714, 121.85700000000001, 125.14299999999999, 129.714, 135.0, 125.714, 123.14299999999999, 120.571, 121.571, 135.571, 134.857, 139.571, 136.286, 143.0, 146.0, 212.429, 203.429, 219.857, 243.857, 248.0, 270.57099999999997, 269.857, 222.429, 245.571, 237.429, 214.0, 228.143, 210.28599999999997, 232.429, 257.286, 256.0, 272.0, 293.857, 291.714, 297.42900000000003, 266.714, 244.571, 238.0, 235.28599999999997, 209.571, 204.429, 194.429, 216.143, 201.857, 192.571, 183.857, 187.143, 174.28599999999997, 168.143, 149.143, 154.143, 144.286, 128.571, 142.0, 138.429, 141.429, 136.429, 126.714, 133.571, 133.571, 114.0, 123.0, 122.14299999999999, 117.571, 111.286, 100.286, 100.0, 92.571, 79.714, 70.714, 79.286, 76.714, 72.429, 68.429, 73.286, 72.286, 70.429, 68.143, 71.571, 73.0, 65.0, 62.286, 63.571000000000005, 84.85700000000001, 78.429, 75.429, 83.286, 85.286, 80.286, 82.571, 61.428999999999995, 62.286, 73.429, 77.429, 91.14299999999999, 105.0, 114.85700000000001, 109.14299999999999, 132.143, 129.0, 128.714, 117.571, 105.0, 98.714, 101.714, 89.714, 84.286, 76.286, 74.429, 76.571, 71.0, 73.714, 56.714, 52.857, 45.857, 48.428999999999995, 47.428999999999995, 63.286, 65.286, 69.429, 67.714, 73.286, 74.143, 0.0001, 0.0001, 0.0001, 0.0001, 0.0001, 0.0001, 0.0001, 0.0001, 0.0001, 0.0001, 0.0001, 0.0001, 0.0001, 0.0001, 0.0001, 0.0001, 0.0001, 0.0001, 0.0001, 0.0001, 0.0001, 0.0001, 0.0001, 0.0001, 0.0001, 0.0001, 0.0001, 0.0001, 0.0001, 0.0001, 0.0001, 0.0001, 0.0001, 0.0001, 0.0001, 0.0001, 0.0001, 0.0001, 0.0001, 0.14300000000000002, 0.28600000000000003, 0.857, 1.286, 1.571, 1.714, 2.0, 2.286, 2.714, 2.8569999999999998, 2.714, 2.714, 4.0, 4.7139999999999995, 5.7139999999999995, 6.857, 8.429, 11.429, 17.143, 15.714, 30.429000000000002, 40.429, 57.428999999999995, 72.143, 99.0, 128.571, 163.714, 206.71400000000003, 264.42900000000003, 291.143, 368.57099999999997, 468.286, 584.0, 679.571, 778.571, 901.429, 1019.7139999999999, 1117.0, 1259.4289999999999, 1382.714, 1519.5710000000001, 1660.0, 1729.5710000000001, 1780.1429999999998, 1808.5710000000001, 1880.286, 2309.714, 2370.571, 2611.0, 2614.571, 2653.429, 2698.571, 2715.143, 2257.0, 2382.714, 1994.714, 2039.8570000000002, 2027.714, 1958.0, 1898.8570000000002, 2026.0, 1863.286, 2007.286, 1885.1429999999998, 1829.4289999999999, 1812.714, 1817.5710000000001, 1780.714, 1809.1429999999998, 1730.286, 1772.714, 1692.286, 1678.5710000000001, 1615.5710000000001, 1528.8570000000002, 1462.286, 1484.0, 1422.8570000000002, 1433.4289999999999, 1381.286, 1362.0, 1329.4289999999999, 1256.5710000000001, 1205.5710000000001, 1190.4289999999999, 1165.4289999999999, 1123.857, 999.2860000000001, 1000.429, 987.857, 975.571, 956.2860000000001, 951.857, 989.571, 1037.857, 961.857, 942.0, 901.0, 860.143, 875.857, 837.143, 832.143, 821.2860000000001, 801.2860000000001, 789.429, 804.857, 745.429, 731.429, 708.143, 684.7139999999999, 659.143, 634.714, 611.857, 606.143, 610.714, 609.286, 608.857, 854.571, 846.7139999999999, 831.429, 832.7139999999999, 819.7139999999999, 883.143, 869.0, 617.714, 627.857, 591.0, 591.857, 595.143, 581.429, 606.714, 650.143, 666.143, 734.0, 751.143, 757.0, 712.2860000000001, 730.0, 723.857, 738.429, 757.857, 761.2860000000001, 757.2860000000001, 800.0, 824.429, 840.571, 897.143, 905.857, 914.429, 1015.0, 1027.143, 1074.714, 1118.286, 1109.714, 1141.0, 1132.143, 1056.0, 1078.5710000000001, 1077.5710000000001, 1147.714, 1148.857, 1139.714, 1154.0, 1151.143, 1104.4289999999999, 1110.143, 1000.857, 1012.857, 1008.0, 1016.2860000000001, 1005.143, 1040.5710000000001, 1021.429, 1020.7139999999999, 994.2860000000001, 983.0, 964.857, 968.857, 952.143, 933.857, 938.429, 909.571, 916.7139999999999, 894.7139999999999, 902.7139999999999, 886.143, 861.429, 853.2860000000001, 856.0, 822.7139999999999, 838.857, 801.429, 712.857, 724.429, 713.143, 750.143, 737.571, 734.0, 760.2860000000001, 894.0, 855.2860000000001, 834.857, 796.143, 793.857, 775.7139999999999, 764.429, 695.7139999999999, 729.571, 739.571, 740.7139999999999, 748.429, 749.571, 741.2860000000001, 741.571, 717.0, 714.0, 706.0, 699.571, 719.7139999999999, 731.7139999999999, 701.571, 696.143, 709.2860000000001, 724.429, 711.857, 711.0, 699.0, 713.2860000000001, 724.429, 703.857, 687.429, 701.7139999999999, 700.429, 721.143, 737.7139999999999, 761.2860000000001, 763.143, 770.857, 801.429, 793.7139999999999, 800.2860000000001, 808.143, 785.571, 803.7139999999999, 816.143, 808.143, 823.7139999999999, 830.857, 843.429, 861.2860000000001, 895.571, 913.0], \"yaxis\": \"y4\"}, {\"name\": \"total_recovered\", \"type\": \"box\", \"xaxis\": \"x7\", \"y\": [0.0001, 0.0001, 0.0001, 0.0001, 0.0001, 0.0001, 0.0001, 0.0001, 2.0, 2.0, 2.0, 2.0, 2.0, 2.0, 2.0, 2.0, 2.0, 2.0, 2.0, 2.0, 2.0, 2.0, 8.0, 8.0, 8.0, 8.0, 10.0, 10.0, 10.0, 10.0, 11.0, 11.0, 11.0, 11.0, 11.0, 11.0, 11.0, 11.0, 11.0, 11.0, 11.0, 11.0, 11.0, 21.0, 21.0, 21.0, 21.0, 21.0, 21.0, 21.0, 21.0, 23.0, 23.0, 23.0, 23.0, 23.0, 23.0, 26.0, 26.0, 26.0, 88.0, 88.0, 115.0, 119.0, 172.0, 194.0, 244.0, 244.0, 257.0, 358.0, 422.0, 520.0, 649.0, 701.0, 757.0, 1080.0, 1080.0, 1080.0, 1472.0, 1793.0, 1806.0, 1806.0, 1806.0, 2186.0, 2186.0, 2355.0, 3808.0, 4124.0, 4124.0, 4291.0, 4695.0, 4932.0, 5047.0, 5136.0, 5376.0, 5541.0, 5588.0, 5665.0, 5715.0, 5742.0, 5775.0, 5814.0, 5849.0, 5887.0, 5975.0, 6031.0, 6078.0, 6122.0, 6141.0, 6167.0, 6213.0, 6270.0, 6297.0, 6334.0, 6359.0, 6364.0, 6392.0, 6413.0, 6431.0, 6470.0, 6478.0, 6485.0, 6508.0, 6531.0, 6552.0, 6560.0, 6579.0, 6576.0, 6605.0, 6614.0, 6618.0, 6626.0, 6636.0, 6648.0, 6683.0, 6688.0, 6703.0, 6706.0, 6720.0, 6740.0, 6759.0, 6782.0, 6803.0, 6838.0, 6851.0, 6856.0, 6861.0, 6877.0, 6878.0, 6881.0, 6896.0, 6903.0, 6915.0, 6924.0, 6931.0, 6958.0, 6960.0, 6993.0, 7007.0, 7037.0, 7040.0, 7090.0, 7130.0, 7319.0, 7399.0, 7420.0, 7455.0, 7487.0, 7573.0, 7576.0, 7733.0, 7727.0, 7769.0, 7835.0, 7928.0, 8035.0, 8114.0, 8162.0, 8274.0, 8395.0, 8398.0, 8545.0, 8770.0, 8775.0, 8938.0, 9019.0, 9174.0, 9311.0, 9617.0, 9619.0, 9759.0, 9983.0, 10204.0, 10622.0, 10623.0, 10799.0, 10941.0, 11119.0, 11560.0, 11874.0, 11876.0, 12144.0, 12395.0, 12779.0, 13001.0, 13632.0, 13635.0, 14085.0, 14538.0, 14929.0, 15249.0, 17854.0, 18460.0, 18760.0, 19233.0, 19603.0, 20100.0, 20101.0, 20367.0, 20633.0, 20860.0, 21116.0, 21350.0, 21689.0, 21692.0, 21914.0, 22172.0, 22330.0, 22467.0, 22604.0, 22725.0, 22863.0, 23039.0, 23329.0, 23340.0, 23465.0, 23579.0, 23652.0, 23792.0, 23854.0, 23861.0, 23968.0, 24063.0, 24157.0, 24331.0, 24448.0, 24523.0, 24523.0, 24573.0, 24633.0, 24681.0, 24752.0, 24784.0, 24788.0, 24850.0, 24866.0, 24890.0, 24892.0, 24917.0, 24939.0, 24971.0, 24987.0, 24987.0, 25000.0, 25029.0, 25046.0, 25047.0, 25062.0, 25097.0, 25098.0, 25108.0, 25112.0, 25125.0, 25148.0, 25161.0, 25173.0, 25179.0, 25196.0, 25212.0, 25219.0, 25231.0, 25239.0, 25321.0, 25336.0, 25352.0, 25384.0, 25407.0, 25418.0, 25427.0, 25440.0, 25451.0, 0.0001, 0.0001, 0.0001, 0.0001, 0.0001, 0.0001, 0.0001, 0.0001, 0.0001, 0.0001, 0.0001, 0.0001, 0.0001, 0.0001, 0.0001, 0.0001, 0.0001, 0.0001, 0.0001, 0.0001, 0.0001, 0.0001, 0.0001, 0.0001, 0.0001, 0.0001, 0.0001, 0.0001, 0.0001, 0.0001, 0.0001, 0.0001, 0.0001, 0.0001, 0.0001, 0.0001, 0.0001, 0.0001, 0.0001, 0.0001, 0.0001, 0.0001, 0.0001, 0.0001, 0.0001, 0.0001, 0.0001, 0.0001, 0.0001, 0.0001, 0.0001, 0.0001, 0.0001, 0.0001, 1.0, 2.0, 2.0, 2.0, 2.0, 2.0, 2.0, 2.0, 2.0, 2.0, 6.0, 6.0, 6.0, 6.0, 120.0, 127.0, 127.0, 127.0, 127.0, 127.0, 127.0, 127.0, 127.0, 127.0, 173.0, 173.0, 173.0, 173.0, 173.0, 3046.0, 14026.0, 14026.0, 14026.0, 14026.0, 22130.0, 22130.0, 22991.0, 25318.0, 26573.0, 27655.0, 29160.0, 30152.0, 31142.0, 32544.0, 34132.0, 35935.0, 38039.0, 40937.0, 42991.0, 45815.0, 48221.0, 51370.0, 55350.0, 59297.0, 61685.0, 64957.0, 67384.0, 72597.0, 78424.0, 79479.0, 84970.0, 89672.0, 94122.0, 100459.0, 106794.0, 116683.0, 125960.0, 135430.0, 142587.0, 149911.0, 153833.0, 158593.0, 166647.0, 177604.0, 189476.0, 200892.0, 206555.0, 211080.0, 223638.0, 238617.0, 254963.0, 266940.0, 277149.0, 283952.0, 378257.0, 396737.0, 413916.0, 429965.0, 445123.0, 459436.0, 469141.0, 477709.0, 490005.0, 521046.0, 534580.0, 551631.0, 576779.0, 588118.0, 601736.0, 627963.0, 660469.0, 679524.0, 702399.0, 727715.0, 746018.0, 757811.0, 788318.0, 817642.0, 957692.0, 984615.0, 990731.0, 1029045.0, 1062542.0, 1107012.0, 1139844.0, 1171447.0, 1217361.0, 1244088.0, 1264843.0, 1291251.0, 1323425.0, 1350098.0, 1397531.0, 1428520.0, 1447408.0, 1459072.0, 1514300.0, 1555339.0, 1591975.0, 1620313.0, 1693214.0, 1785359.0, 1812913.0, 1846641.0, 1868749.0, 1922802.0, 1956807.0, 2008854.0, 2037982.0, 2062876.0, 2098976.0, 2157484.0, 2190361.0, 2230542.0, 2272299.0, 2321537.0, 2356983.0, 2390830.0, 2449338.0, 2506228.0, 2521100.0, 2616981.0, 2622878.0, 2655017.0, 2699080.0, 2751246.0, 2801931.0, 2844318.0, 2855558.0, 2913966.0, 2947784.0, 2976256.0, 3032551.0, 3082447.0, 3122846.0, 3158783.0, 3202185.0, 3237615.0, 3268591.0, 3345240.0, 3387309.0, 3429435.0, 3464278.0, 3498999.0, 3522155.0, 3549201.0, 3572421.0, 3611632.0, 3657701.0, 3695158.0, 3723206.0, 3723206.0, 3770138.0, 3811505.0, 3845464.0, 3873934.0, 3897539.0, 3936893.0, 3963446.0, 3993432.0, 4016831.0, 4046827.0, 4102954.0, 4128490.0, 4153307.0, 4172711.0, 4197372.0, 4237152.0, 4274774.0, 4299659.0, 4299659.0, 4361108.0, 4375354.0, 4397882.0, 4430340.0, 4457172.0, 4488092.0, 4502854.0, 4502854.0, 4526393.0, 4526393.0, 4526393.0, 4526393.0, 4526393.0, 4526393.0, 4526393.0, 4526393.0, 4526393.0, 4526393.0, 4526393.0, 4526393.0, 4526393.0, 4526393.0, 4526393.0, 4526393.0, 4914733.0, 4947777.0, 4962574.0, 4987435.0, 5005161.0, 5022338.0, 5039438.0, 5060697.0, 5078162.0, 5078162.0, 5118156.0, 5138641.0, 0.0001, 0.0001, 0.0001, 0.0001, 0.0001, 0.0001, 0.0001, 0.0001, 0.0001, 0.0001, 0.0001, 0.0001, 0.0001, 0.0001, 0.0001, 0.0001, 0.0001, 0.0001, 0.0001, 0.0001, 0.0001, 0.0001, 0.0001, 0.0001, 0.0001, 3.0, 3.0, 3.0, 3.0, 3.0, 3.0, 3.0, 3.0, 3.0, 3.0, 3.0, 3.0, 3.0, 3.0, 3.0, 3.0, 3.0, 3.0, 3.0, 3.0, 3.0, 3.0, 3.0, 4.0, 4.0, 4.0, 4.0, 4.0, 13.0, 13.0, 14.0, 14.0, 15.0, 20.0, 23.0, 27.0, 27.0, 40.0, 43.0, 45.0, 73.0, 84.0, 95.0, 102.0, 123.0, 148.0, 191.0, 192.0, 229.0, 229.0, 375.0, 421.0, 506.0, 620.0, 774.0, 969.0, 1080.0, 1181.0, 1359.0, 1432.0, 1768.0, 2041.0, 2463.0, 2854.0, 3273.0, 3975.0, 4370.0, 5012.0, 5498.0, 5939.0, 6523.0, 7137.0, 7747.0, 8437.0, 9068.0, 10007.0, 10819.0, 11775.0, 12847.0, 14142.0, 15331.0, 16776.0, 17887.0, 19301.0, 20969.0, 22549.0, 24420.0, 26400.0, 27969.0, 30258.0, 34224.0, 36795.0, 39233.0, 42309.0, 45422.0, 48553.0, 51824.0, 54385.0, 57692.0, 60706.0, 64277.0, 67749.0, 70920.0, 82627.0, 86936.0, 91852.0, 95754.0, 100285.0, 104071.0, 108450.0, 113233.0, 118695.0, 123848.0, 129095.0, 134670.0, 135206.0, 147195.0, 154330.0, 162379.0, 169798.0, 180013.0, 186935.0, 194325.0, 204711.0, 213831.0, 227728.0, 237196.0, 248190.0, 258685.0, 271697.0, 285637.0, 295881.0, 309713.0, 321723.0, 334822.0, 347912.0, 359860.0, 379892.0, 394227.0, 409083.0, 424433.0, 439934.0, 456831.0, 476378.0, 495513.0, 515386.0, 534618.0, 553471.0, 571460.0, 592032.0, 612768.0, 635757.0, 653751.0, 677423.0, 700087.0, 724578.0, 753050.0, 782607.0, 817209.0, 849432.0, 885573.0, 917568.0, 951166.0, 988029.0, 1019735.0, 1055348.0, 1094374.0, 1145629.0, 1186203.0, 1230509.0, 1282215.0, 1328336.0, 1378105.0, 1427005.0, 1480884.0, 1535743.0, 1583489.0, 1639599.0, 1695982.0, 1751555.0, 1808936.0, 1862258.0, 1919842.0, 1977671.0, 2037816.0, 2096664.0, 2158946.0, 2222577.0, 2280566.0, 2338035.0, 2404585.0, 2458339.0, 2523771.0, 2583948.0, 2648998.0, 2713933.0, 2774801.0, 2839882.0, 2901908.0, 2970492.0, 3037151.0, 3107223.0, 3180865.0, 3250429.0, 3323950.0, 3398844.0, 3471783.0, 3542663.0, 3624196.0, 3702595.0, 3780107.0, 3859399.0, 3942360.0, 4025079.0, 4112551.0, 4208431.0, 4303043.0, 4396399.0, 4497867.0, 4587613.0, 4674987.0, 4756164.0, 4849584.0, 4941627.0, 5016520.0, 5101397.0, 5187825.0, 5273201.0, 5352078.0, 5427706.0, 5509966.0, 5586703.0, 5662490.0, 5744693.0, 5827704.0, 5906069.0, 5988822.0, 6077976.0, 6149535.0, 6227295.0, 6301927.0, 6383441.0, 6453779.0, 6524595.0, 6597209.0, 6663608.0, 6733328.0, 6795103.0, 6874518.0, 6948497.0, 7016046.0, 7078123.0, 7137228.0, 7201070.0, 7259509.0, 7315989.0, 7373375.0, 7432829.0, 7491513.0, 7544798.0, 7603121.0, 7656478.0, 7711809.0, 7765966.0, 7819886.0, 7868968.0, 0.0001, 0.0001, 0.0001, 0.0001, 0.0001, 0.0001, 0.0001, 0.0001, 0.0001, 0.0001, 0.0001, 0.0001, 0.0001, 0.0001, 0.0001, 0.0001, 0.0001, 0.0001, 0.0001, 0.0001, 0.0001, 2.0, 2.0, 2.0, 2.0, 2.0, 2.0, 2.0, 2.0, 2.0, 2.0, 2.0, 2.0, 2.0, 2.0, 2.0, 2.0, 2.0, 2.0, 2.0, 2.0, 2.0, 2.0, 2.0, 2.0, 2.0, 3.0, 3.0, 3.0, 3.0, 3.0, 3.0, 8.0, 8.0, 8.0, 8.0, 8.0, 9.0, 9.0, 12.0, 16.0, 16.0, 22.0, 29.0, 38.0, 45.0, 49.0, 64.0, 66.0, 121.0, 190.0, 235.0, 281.0, 333.0, 355.0, 406.0, 494.0, 580.0, 698.0, 795.0, 1045.0, 1291.0, 1470.0, 1694.0, 1986.0, 2304.0, 2590.0, 3057.0, 3291.0, 3446.0, 3873.0, 4420.0, 4891.0, 5568.0, 6250.0, 6767.0, 7346.0, 8456.0, 10286.0, 11619.0, 13220.0, 15013.0, 16639.0, 18095.0, 19865.0, 21327.0, 23803.0, 26608.0, 31916.0, 34306.0, 39801.0, 43512.0, 48003.0, 53530.0, 58226.0, 63166.0, 67373.0, 70209.0, 76130.0, 85392.0, 92681.0, 99825.0, 107936.0, 113299.0, 118798.0, 131129.0, 142208.0, 150993.0, 159257.0, 167469.0, 171883.0, 175514.0, 186602.0, 195559.0, 204197.0, 212237.0, 220935.0, 226272.0, 230226.0, 241917.0, 252295.0, 260649.0, 268862.0, 274128.0, 279536.0, 284021.0, 293780.0, 303800.0, 313409.0, 323851.0, 334024.0, 339142.0, 343847.0, 355847.0, 368222.0, 374557.0, 383524.0, 392703.0, 398436.0, 402778.0, 411973.0, 422235.0, 428276.0, 437155.0, 446127.0, 449995.0, 453570.0, 463103.0, 471718.0, 480494.0, 488234.0, 496594.0, 500208.0, 503168.0, 511958.0, 522375.0, 530801.0, 538467.0, 545909.0, 549387.0, 552644.0, 561397.0, 571049.0, 579295.0, 587728.0, 596064.0, 599172.0, 602249.0, 611109.0, 619204.0, 628482.0, 637217.0, 645316.0, 648961.0, 652372.0, 660235.0, 667769.0, 675069.0, 682278.0, 688856.0, 692059.0, 695317.0, 701796.0, 708900.0, 714934.0, 721473.0, 727895.0, 731444.0, 734573.0, 741045.0, 747802.0, 753868.0, 759639.0, 765754.0, 768906.0, 771357.0, 777960.0, 784277.0, 790629.0, 796498.0, 802365.0, 804941.0, 807339.0, 813603.0, 819043.0, 824783.0, 830532.0, 835884.0, 838680.0, 840997.0, 847746.0, 854069.0, 859961.0, 865646.0, 871000.0, 873684.0, 876152.0, 881693.0, 887457.0, 893145.0, 898420.0, 903545.0, 906431.0, 909026.0, 914923.0, 920602.0, 926663.0, 930955.0, 936881.0, 939921.0, 942619.0, 948985.0, 954788.0, 960729.0, 966724.0, 972249.0, 975488.0, 978610.0, 984767.0, 991277.0, 998197.0, 1005199.0, 1011911.0, 1016120.0, 1019905.0, 1027348.0, 1035141.0, 1043431.0, 1051780.0, 1060279.0, 1065608.0, 1070920.0, 1080461.0, 1091264.0, 1102564.0, 1113736.0, 1125155.0, 1132790.0, 1140333.0, 1152848.0, 1164915.0, 1179465.0, 1193867.0, 1208440.0, 1218619.0, 1228921.0, 1244012.0, 1259194.0, 1271349.0, 1288096.0, 1304607.0, 0.0001, 0.0001, 0.0001, 0.0001, 0.0001, 0.0001, 0.0001, 0.0001, 0.0001, 0.0001, 0.0001, 0.0001, 0.0001, 0.0001, 0.0001, 0.0001, 0.0001, 0.0001, 0.0001, 0.0001, 0.0001, 0.0001, 0.0001, 0.0001, 0.0001, 0.0001, 0.0001, 0.0001, 0.0001, 0.0001, 0.0001, 0.0001, 0.0001, 0.0001, 0.0001, 0.0001, 0.0001, 0.0001, 0.0001, 0.0001, 0.0001, 0.0001, 0.0001, 0.0001, 0.0001, 0.0001, 4.0, 12.0, 12.0, 31.0, 31.0, 31.0, 31.0, 31.0, 50.0, 50.0, 95.0, 95.0, 95.0, 95.0, 95.0, 95.0, 95.0, 410.0, 410.0, 410.0, 410.0, 410.0, 410.0, 903.0, 903.0, 903.0, 903.0, 1055.0, 1055.0, 1055.0, 1473.0, 1473.0, 1473.0, 1473.0, 1473.0, 2073.0, 2073.0, 2073.0, 2382.0, 2549.0, 2549.0, 2746.0, 2746.0, 3153.0, 3153.0, 3153.0, 3983.0, 4173.0, 4357.0, 4357.0, 4745.0, 5676.0, 6083.0, 6478.0, 7006.0, 7298.0, 7960.0, 8950.0, 8950.0, 10104.0, 10104.0, 11100.0, 11917.0, 12741.0, 13451.0, 14370.0, 15093.0, 16116.0, 16809.0, 17291.0, 18313.0, 19682.0, 21311.0, 23088.0, 24258.0, 24364.0, 26099.0, 29006.0, 31505.0, 33252.0, 35006.0, 36850.0, 38531.0, 39867.0, 42063.0, 44331.0, 44920.0, 47825.0, 50326.0, 51608.0, 53444.0, 55045.0, 56874.0, 59974.0, 64111.0, 67094.0, 68925.0, 70614.0, 73543.0, 76025.0, 81999.0, 86298.0, 91227.0, 93315.0, 97848.0, 102299.0, 106842.0, 113061.0, 118232.0, 127715.0, 134874.0, 138241.0, 146279.0, 160693.0, 165591.0, 178183.0, 182230.0, 191059.0, 194865.0, 208144.0, 229175.0, 236260.0, 245771.0, 263054.0, 265077.0, 274925.0, 287313.0, 297967.0, 309601.0, 326171.0, 342461.0, 347227.0, 358037.0, 363751.0, 377266.0, 387316.0, 394759.0, 404568.0, 411474.0, 417200.0, 426125.0, 432029.0, 437617.0, 461734.0, 466941.0, 472377.0, 477671.0, 485468.0, 491441.0, 497169.0, 500102.0, 504127.0, 506470.0, 516494.0, 520381.0, 525242.0, 531338.0, 533935.0, 536694.0, 538604.0, 540923.0, 549993.0, 553456.0, 554887.0, 557818.0, 561204.0, 563891.0, 566555.0, 567729.0, 569935.0, 573003.0, 574587.0, 576423.0, 577906.0, 579289.0, 583126.0, 584195.0, 585303.0, 586844.0, 589434.0, 590071.0, 591208.0, 592904.0, 594229.0, 595916.0, 599149.0, 601818.0, 603721.0, 604478.0, 606520.0, 608112.0, 609584.0, 611044.0, 612763.0, 614781.0, 615684.0, 616857.0, 618127.0, 618771.0, 620081.0, 622153.0, 623765.0, 624659.0, 625574.0, 626898.0, 628301.0, 629260.0, 630436.0, 634543.0, 635257.0, 639568.0, 641706.0, 642560.0, 643523.0, 644641.0, 646170.0, 646721.0, 647833.0, 648654.0, 649935.0, 653052.0, 654182.0, 655330.0, 657500.0, 659259.0, 660185.0, 671579.0, 675593.0, 678738.0, 0.0001, 0.0001, 0.0001, 0.0001, 0.0001, 0.0001, 0.0001, 0.0001, 0.0001, 0.0001, 0.0001, 0.0001, 0.0001, 0.0001, 0.0001, 0.0001, 0.0001, 0.0001, 3.0, 3.0, 3.0, 3.0, 3.0, 3.0, 3.0, 3.0, 3.0, 3.0, 3.0, 3.0, 5.0, 5.0, 5.0, 5.0, 6.0, 6.0, 6.0, 7.0, 7.0, 7.0, 7.0, 7.0, 7.0, 7.0, 7.0, 7.0, 7.0, 7.0, 8.0, 8.0, 12.0, 12.0, 12.0, 12.0, 17.0, 17.0, 105.0, 121.0, 147.0, 176.0, 178.0, 178.0, 348.0, 361.0, 681.0, 869.0, 1072.0, 2665.0, 5644.0, 7024.0, 8474.0, 9001.0, 9707.0, 14652.0, 17448.0, 19581.0, 21763.0, 23559.0, 25410.0, 28790.0, 31270.0, 32988.0, 43482.0, 47763.0, 52096.0, 54703.0, 58545.0, 64840.0, 70337.0, 72329.0, 75204.0, 77366.0, 80203.0, 99079.0, 100372.0, 106988.0, 111424.0, 115936.0, 120720.0, 153947.0, 164015.0, 175382.0, 180152.0, 187180.0, 189791.0, 189910.0, 195036.0, 198993.0, 212534.0, 216169.0, 232733.0, 230287.0, 243430.0, 246414.0, 250747.0, 268376.0, 272265.0, 283178.0, 289392.0, 294312.0, 298418.0, 350135.0, 361239.0, 366736.0, 379157.0, 384902.0, 391508.0, 399991.0, 406446.0, 416461.0, 444758.0, 458231.0, 463868.0, 479258.0, 485002.0, 491706.0, 500849.0, 506367.0, 518522.0, 524855.0, 533504.0, 540292.0, 547386.0, 556606.0, 561816.0, 576334.0, 583503.0, 592191.0, 599115.0, 606715.0, 617460.0, 622133.0, 640198.0, 647548.0, 656161.0, 663562.0, 670809.0, 679308.0, 685164.0, 705203.0, 720631.0, 729994.0, 781970.0, 790404.0, 894325.0, 906763.0, 924148.0, 936476.0, 953462.0, 969111.0, 983185.0, 995576.0, 1006326.0, 1031939.0, 1049098.0, 1075882.0, 1090645.0, 1107204.0, 1122720.0, 1131121.0, 1160087.0, 1182018.0, 1210849.0, 1233269.0, 1261624.0, 1279414.0, 1297863.0, 1325804.0, 1355363.0, 1389425.0, 1414155.0, 1438160.0, 1461885.0, 1468689.0, 1513446.0, 1528979.0, 1577851.0, 1598624.0, 1623870.0, 1643118.0, 1656864.0, 1670755.0, 1714960.0, 1753760.0, 1774648.0, 1796326.0, 1818527.0, 1833067.0, 1865580.0, 1898159.0, 1925049.0, 1947035.0, 1965056.0, 1985484.0, 1997761.0, 2020774.0, 2053699.0, 2084465.0, 2101326.0, 2118367.0, 2140614.0, 2153939.0, 2184825.0, 2202663.0, 2231757.0, 2266957.0, 2283454.0, 2302187.0, 2315995.0, 2333551.0, 2359111.0, 2387479.0, 2403511.0, 2417878.0, 2434658.0, 2451406.0, 2474570.0, 2495127.0, 2525573.0, 2540334.0, 2556465.0, 2577446.0, 2590671.0, 2615949.0, 2646959.0, 2670256.0, 2710183.0, 2727335.0, 2750459.0, 2766280.0, 2794608.0, 2813305.0, 2840688.0, 2860650.0, 2873369.0, 2897322.0, 2911699.0, 2935142.0, 2952390.0, 2999895.0, 3021252.0, 3039089.0, 3062983.0, 3075077.0, 3106728.0, 3124593.0, 3155794.0, 3177397.0, 3197539.0, 3220573.0, 3234138.0, 3272603.0, 3295148.0, 3323354.0, 3353056.0, 3375427.0, 3406656.0, 3422878.0, 3460455.0, 3487666.0, 3518140.0, 3554336.0, 3578452.0, 3612478.0, 3630579.0, 3674981.0, 3705130.0, 3743527.0, 3781751.0, 3810791.0, 3851465.0], \"yaxis\": \"y7\"}, {\"name\": \"new_recover\", \"type\": \"box\", \"xaxis\": \"x8\", \"y\": [0.0001, 0.0001, 0.0001, 0.0001, 0.0001, 0.0001, 0.0001, 0.0001, 2.0, 0.0001, 0.0001, 0.0001, 0.0001, 0.0001, 0.0001, 0.0001, 0.0001, 0.0001, 0.0001, 0.0001, 0.0001, 0.0001, 6.0, 0.0001, 0.0001, 0.0001, 2.0, 0.0001, 0.0001, 0.0001, 1.0, 0.0001, 0.0001, 0.0001, 0.0001, 0.0001, 0.0001, 0.0001, 0.0001, 0.0001, 0.0001, 0.0001, 0.0001, 10.0, 0.0001, 0.0001, 0.0001, 0.0001, 0.0001, 0.0001, 0.0001, 2.0, 0.0001, 0.0001, 0.0001, 0.0001, 0.0001, 3.0, 0.0001, 0.0001, 62.0, 0.0001, 27.0, 4.0, 53.0, 22.0, 50.0, 0.0001, 13.0, 101.0, 64.0, 98.0, 129.0, 52.0, 56.0, 323.0, 0.0001, 0.0001, 392.0, 321.0, 13.0, 0.0001, 0.0001, 380.0, 0.0001, 169.0, 1453.0, 316.0, 0.0001, 167.0, 404.0, 237.0, 115.0, 89.0, 240.0, 165.0, 47.0, 77.0, 50.0, 27.0, 33.0, 39.0, 35.0, 38.0, 88.0, 56.0, 47.0, 44.0, 19.0, 26.0, 46.0, 57.0, 27.0, 37.0, 25.0, 5.0, 28.0, 21.0, 18.0, 39.0, 8.0, 7.0, 23.0, 23.0, 21.0, 8.0, 19.0, -3.0, 29.0, 9.0, 4.0, 8.0, 10.0, 12.0, 35.0, 5.0, 15.0, 3.0, 14.0, 20.0, 19.0, 23.0, 21.0, 35.0, 13.0, 5.0, 5.0, 16.0, 1.0, 3.0, 15.0, 7.0, 12.0, 9.0, 7.0, 27.0, 2.0, 33.0, 14.0, 30.0, 3.0, 50.0, 40.0, 189.0, 80.0, 21.0, 35.0, 32.0, 86.0, 3.0, 157.0, -6.0, 42.0, 66.0, 93.0, 107.0, 79.0, 48.0, 112.0, 121.0, 3.0, 147.0, 225.0, 5.0, 163.0, 81.0, 155.0, 137.0, 306.0, 2.0, 140.0, 224.0, 221.0, 418.0, 1.0, 176.0, 142.0, 178.0, 441.0, 314.0, 2.0, 268.0, 251.0, 384.0, 222.0, 631.0, 3.0, 450.0, 453.0, 391.0, 320.0, 2605.0, 606.0, 300.0, 473.0, 370.0, 497.0, 1.0, 266.0, 266.0, 227.0, 256.0, 234.0, 339.0, 3.0, 222.0, 258.0, 158.0, 137.0, 137.0, 121.0, 138.0, 176.0, 290.0, 11.0, 125.0, 114.0, 73.0, 140.0, 62.0, 7.0, 107.0, 95.0, 94.0, 174.0, 117.0, 75.0, 0.0001, 50.0, 60.0, 48.0, 71.0, 32.0, 4.0, 62.0, 16.0, 24.0, 2.0, 25.0, 22.0, 32.0, 16.0, 0.0001, 13.0, 29.0, 17.0, 1.0, 15.0, 35.0, 1.0, 10.0, 4.0, 13.0, 23.0, 13.0, 12.0, 6.0, 17.0, 16.0, 7.0, 12.0, 8.0, 82.0, 15.0, 16.0, 32.0, 23.0, 11.0, 9.0, 13.0, 11.0, 0.0001, 0.0001, 0.0001, 0.0001, 0.0001, 0.0001, 0.0001, 0.0001, 0.0001, 0.0001, 0.0001, 0.0001, 0.0001, 0.0001, 0.0001, 0.0001, 0.0001, 0.0001, 0.0001, 0.0001, 0.0001, 0.0001, 0.0001, 0.0001, 0.0001, 0.0001, 0.0001, 0.0001, 0.0001, 0.0001, 0.0001, 0.0001, 0.0001, 0.0001, 0.0001, 0.0001, 0.0001, 0.0001, 0.0001, 0.0001, 0.0001, 0.0001, 0.0001, 0.0001, 0.0001, 0.0001, 0.0001, 0.0001, 0.0001, 0.0001, 0.0001, 0.0001, 0.0001, 0.0001, 1.0, 1.0, 0.0001, 0.0001, 0.0001, 0.0001, 0.0001, 0.0001, 0.0001, 0.0001, 4.0, 0.0001, 0.0001, 0.0001, 114.0, 7.0, 0.0001, 0.0001, 0.0001, 0.0001, 0.0001, 0.0001, 0.0001, 0.0001, 46.0, 0.0001, 0.0001, 0.0001, 0.0001, 2873.0, 10980.0, 0.0001, 0.0001, 0.0001, 8104.0, 0.0001, 861.0, 2327.0, 1255.0, 1082.0, 1505.0, 992.0, 990.0, 1402.0, 1588.0, 1803.0, 2104.0, 2898.0, 2054.0, 2824.0, 2406.0, 3149.0, 3980.0, 3947.0, 2388.0, 3272.0, 2427.0, 5213.0, 5827.0, 1055.0, 5491.0, 4702.0, 4450.0, 6337.0, 6335.0, 9889.0, 9277.0, 9470.0, 7157.0, 7324.0, 3922.0, 4760.0, 8054.0, 10957.0, 11872.0, 11416.0, 5663.0, 4525.0, 12558.0, 14979.0, 16346.0, 11977.0, 10209.0, 6803.0, 94305.0, 18480.0, 17179.0, 16049.0, 15158.0, 14313.0, 9705.0, 8568.0, 12296.0, 31041.0, 13534.0, 17051.0, 25148.0, 11339.0, 13618.0, 26227.0, 32506.0, 19055.0, 22875.0, 25316.0, 18303.0, 11793.0, 30507.0, 29324.0, 140050.0, 26923.0, 6116.0, 38314.0, 33497.0, 44470.0, 32832.0, 31603.0, 45914.0, 26727.0, 20755.0, 26408.0, 32174.0, 26673.0, 47433.0, 30989.0, 18888.0, 11664.0, 55228.0, 41039.0, 36636.0, 28338.0, 72901.0, 92145.0, 27554.0, 33728.0, 22108.0, 54053.0, 34005.0, 52047.0, 29128.0, 24894.0, 36100.0, 58508.0, 32877.0, 40181.0, 41757.0, 49238.0, 35446.0, 33847.0, 58508.0, 56890.0, 14872.0, 95881.0, 5897.0, 32139.0, 44063.0, 52166.0, 50685.0, 42387.0, 11240.0, 58408.0, 33818.0, 28472.0, 56295.0, 49896.0, 40399.0, 35937.0, 43402.0, 35430.0, 30976.0, 76649.0, 42069.0, 42126.0, 34843.0, 34721.0, 23156.0, 27046.0, 23220.0, 39211.0, 46069.0, 37457.0, 28048.0, 0.0001, 46932.0, 41367.0, 33959.0, 28470.0, 23605.0, 39354.0, 26553.0, 29986.0, 23399.0, 29996.0, 56127.0, 25536.0, 24817.0, 19404.0, 24661.0, 39780.0, 37622.0, 24885.0, 0.0001, 61449.0, 14246.0, 22528.0, 32458.0, 26832.0, 30920.0, 14762.0, 0.0001, 23539.0, 0.0001, 0.0001, 0.0001, 0.0001, 0.0001, 0.0001, 0.0001, 0.0001, 0.0001, 0.0001, 0.0001, 0.0001, 0.0001, 0.0001, 0.0001, 388340.0, 33044.0, 14797.0, 24861.0, 17726.0, 17177.0, 17100.0, 21259.0, 17465.0, 0.0001, 39994.0, 20485.0, 0.0001, 0.0001, 0.0001, 0.0001, 0.0001, 0.0001, 0.0001, 0.0001, 0.0001, 0.0001, 0.0001, 0.0001, 0.0001, 0.0001, 0.0001, 0.0001, 0.0001, 0.0001, 0.0001, 0.0001, 0.0001, 0.0001, 0.0001, 0.0001, 0.0001, 3.0, 0.0001, 0.0001, 0.0001, 0.0001, 0.0001, 0.0001, 0.0001, 0.0001, 0.0001, 0.0001, 0.0001, 0.0001, 0.0001, 0.0001, 0.0001, 0.0001, 0.0001, 0.0001, 0.0001, 0.0001, 0.0001, 0.0001, 1.0, 0.0001, 0.0001, 0.0001, 0.0001, 9.0, 0.0001, 1.0, 0.0001, 1.0, 5.0, 3.0, 4.0, 0.0001, 13.0, 3.0, 2.0, 28.0, 11.0, 11.0, 7.0, 21.0, 25.0, 43.0, 1.0, 37.0, 0.0001, 146.0, 46.0, 85.0, 114.0, 154.0, 195.0, 111.0, 101.0, 178.0, 73.0, 336.0, 273.0, 422.0, 391.0, 419.0, 702.0, 395.0, 642.0, 486.0, 441.0, 584.0, 614.0, 610.0, 690.0, 631.0, 939.0, 812.0, 956.0, 1072.0, 1295.0, 1189.0, 1445.0, 1111.0, 1414.0, 1668.0, 1580.0, 1871.0, 1980.0, 1569.0, 2289.0, 3966.0, 2571.0, 2438.0, 3076.0, 3113.0, 3131.0, 3271.0, 2561.0, 3307.0, 3014.0, 3571.0, 3472.0, 3171.0, 11707.0, 4309.0, 4916.0, 3902.0, 4531.0, 3786.0, 4379.0, 4783.0, 5462.0, 5153.0, 5247.0, 5575.0, 536.0, 11989.0, 7135.0, 8049.0, 7419.0, 10215.0, 6922.0, 7390.0, 10386.0, 9120.0, 13897.0, 9468.0, 10994.0, 10495.0, 13012.0, 13940.0, 10244.0, 13832.0, 12010.0, 13099.0, 13090.0, 11948.0, 20032.0, 14335.0, 14856.0, 15350.0, 15501.0, 16897.0, 19547.0, 19135.0, 19873.0, 19232.0, 18853.0, 17989.0, 20572.0, 20736.0, 22989.0, 17994.0, 23672.0, 22664.0, 24491.0, 28472.0, 29557.0, 34602.0, 32223.0, 36141.0, 31995.0, 33598.0, 36863.0, 31706.0, 35613.0, 39026.0, 51255.0, 40574.0, 44306.0, 51706.0, 46121.0, 49769.0, 48900.0, 53879.0, 54859.0, 47746.0, 56110.0, 56383.0, 55573.0, 57381.0, 53322.0, 57584.0, 57829.0, 60145.0, 58848.0, 62282.0, 63631.0, 57989.0, 57469.0, 66550.0, 53754.0, 65432.0, 60177.0, 65050.0, 64935.0, 60868.0, 65081.0, 62026.0, 68584.0, 66659.0, 70072.0, 73642.0, 69564.0, 73521.0, 74894.0, 72939.0, 70880.0, 81533.0, 78399.0, 77512.0, 79292.0, 82961.0, 82719.0, 87472.0, 95880.0, 94612.0, 93356.0, 101468.0, 89746.0, 87374.0, 81177.0, 93420.0, 92043.0, 74893.0, 84877.0, 86428.0, 85376.0, 78877.0, 75628.0, 82260.0, 76737.0, 75787.0, 82203.0, 83011.0, 78365.0, 82753.0, 89154.0, 71559.0, 77760.0, 74632.0, 81514.0, 70338.0, 70816.0, 72614.0, 66399.0, 69720.0, 61775.0, 79415.0, 73979.0, 67549.0, 62077.0, 59105.0, 63842.0, 58439.0, 56480.0, 57386.0, 59454.0, 58684.0, 53285.0, 58323.0, 53357.0, 55331.0, 54157.0, 53920.0, 49082.0, 0.0001, 0.0001, 0.0001, 0.0001, 0.0001, 0.0001, 0.0001, 0.0001, 0.0001, 0.0001, 0.0001, 0.0001, 0.0001, 0.0001, 0.0001, 0.0001, 0.0001, 0.0001, 0.0001, 0.0001, 0.0001, 2.0, 0.0001, 0.0001, 0.0001, 0.0001, 0.0001, 0.0001, 0.0001, 0.0001, 0.0001, 0.0001, 0.0001, 0.0001, 0.0001, 0.0001, 0.0001, 0.0001, 0.0001, 0.0001, 0.0001, 0.0001, 0.0001, 0.0001, 0.0001, 0.0001, 1.0, 0.0001, 0.0001, 0.0001, 0.0001, 0.0001, 5.0, 0.0001, 0.0001, 0.0001, 0.0001, 1.0, 0.0001, 3.0, 4.0, 0.0001, 6.0, 7.0, 9.0, 7.0, 4.0, 15.0, 2.0, 55.0, 69.0, 45.0, 46.0, 52.0, 22.0, 51.0, 88.0, 86.0, 118.0, 97.0, 250.0, 246.0, 179.0, 224.0, 292.0, 318.0, 286.0, 467.0, 234.0, 155.0, 427.0, 547.0, 471.0, 677.0, 682.0, 517.0, 579.0, 1110.0, 1830.0, 1333.0, 1601.0, 1793.0, 1626.0, 1456.0, 1770.0, 1462.0, 2476.0, 2805.0, 5308.0, 2390.0, 5495.0, 3711.0, 4491.0, 5527.0, 4696.0, 4940.0, 4207.0, 2836.0, 5921.0, 9262.0, 7289.0, 7144.0, 8111.0, 5363.0, 5499.0, 12331.0, 11079.0, 8785.0, 8264.0, 8212.0, 4414.0, 3631.0, 11088.0, 8957.0, 8638.0, 8040.0, 8698.0, 5337.0, 3954.0, 11691.0, 10378.0, 8354.0, 8213.0, 5266.0, 5408.0, 4485.0, 9759.0, 10020.0, 9609.0, 10442.0, 10173.0, 5118.0, 4705.0, 12000.0, 12375.0, 6335.0, 8967.0, 9179.0, 5733.0, 4342.0, 9195.0, 10262.0, 6041.0, 8879.0, 8972.0, 3868.0, 3575.0, 9533.0, 8615.0, 8776.0, 7740.0, 8360.0, 3614.0, 2960.0, 8790.0, 10417.0, 8426.0, 7666.0, 7442.0, 3478.0, 3257.0, 8753.0, 9652.0, 8246.0, 8433.0, 8336.0, 3108.0, 3077.0, 8860.0, 8095.0, 9278.0, 8735.0, 8099.0, 3645.0, 3411.0, 7863.0, 7534.0, 7300.0, 7209.0, 6578.0, 3203.0, 3258.0, 6479.0, 7104.0, 6034.0, 6539.0, 6422.0, 3549.0, 3129.0, 6472.0, 6757.0, 6066.0, 5771.0, 6115.0, 3152.0, 2451.0, 6603.0, 6317.0, 6352.0, 5869.0, 5867.0, 2576.0, 2398.0, 6264.0, 5440.0, 5740.0, 5749.0, 5352.0, 2796.0, 2317.0, 6749.0, 6323.0, 5892.0, 5685.0, 5354.0, 2684.0, 2468.0, 5541.0, 5764.0, 5688.0, 5275.0, 5125.0, 2886.0, 2595.0, 5897.0, 5679.0, 6061.0, 4292.0, 5926.0, 3040.0, 2698.0, 6366.0, 5803.0, 5941.0, 5995.0, 5525.0, 3239.0, 3122.0, 6157.0, 6510.0, 6920.0, 7002.0, 6712.0, 4209.0, 3785.0, 7443.0, 7793.0, 8290.0, 8349.0, 8499.0, 5329.0, 5312.0, 9541.0, 10803.0, 11300.0, 11172.0, 11419.0, 7635.0, 7543.0, 12515.0, 12067.0, 14550.0, 14402.0, 14573.0, 10179.0, 10302.0, 15091.0, 15182.0, 12155.0, 16747.0, 16511.0, 0.0001, 0.0001, 0.0001, 0.0001, 0.0001, 0.0001, 0.0001, 0.0001, 0.0001, 0.0001, 0.0001, 0.0001, 0.0001, 0.0001, 0.0001, 0.0001, 0.0001, 0.0001, 0.0001, 0.0001, 0.0001, 0.0001, 0.0001, 0.0001, 0.0001, 0.0001, 0.0001, 0.0001, 0.0001, 0.0001, 0.0001, 0.0001, 0.0001, 0.0001, 0.0001, 0.0001, 0.0001, 0.0001, 0.0001, 0.0001, 0.0001, 0.0001, 0.0001, 0.0001, 0.0001, 0.0001, 4.0, 8.0, 0.0001, 19.0, 0.0001, 0.0001, 0.0001, 0.0001, 19.0, 0.0001, 45.0, 0.0001, 0.0001, 0.0001, 0.0001, 0.0001, 0.0001, 315.0, 0.0001, 0.0001, 0.0001, 0.0001, 0.0001, 493.0, 0.0001, 0.0001, 0.0001, 152.0, 0.0001, 0.0001, 418.0, 0.0001, 0.0001, 0.0001, 0.0001, 600.0, 0.0001, 0.0001, 309.0, 167.0, 0.0001, 197.0, 0.0001, 407.0, 0.0001, 0.0001, 830.0, 190.0, 184.0, 0.0001, 388.0, 931.0, 407.0, 395.0, 528.0, 292.0, 662.0, 990.0, 0.0001, 1154.0, 0.0001, 996.0, 817.0, 824.0, 710.0, 919.0, 723.0, 1023.0, 693.0, 482.0, 1022.0, 1369.0, 1629.0, 1777.0, 1170.0, 106.0, 1735.0, 2907.0, 2499.0, 1747.0, 1754.0, 1844.0, 1681.0, 1336.0, 2196.0, 2268.0, 589.0, 2905.0, 2501.0, 1282.0, 1836.0, 1601.0, 1829.0, 3100.0, 4137.0, 2983.0, 1831.0, 1689.0, 2929.0, 2482.0, 5974.0, 4299.0, 4929.0, 2088.0, 4533.0, 4451.0, 4543.0, 6219.0, 5171.0, 9483.0, 7159.0, 3367.0, 8038.0, 14414.0, 4898.0, 12592.0, 4047.0, 8829.0, 3806.0, 13279.0, 21031.0, 7085.0, 9511.0, 17283.0, 2023.0, 9848.0, 12388.0, 10654.0, 11634.0, 16570.0, 16290.0, 4766.0, 10810.0, 5714.0, 13515.0, 10050.0, 7443.0, 9809.0, 6906.0, 5726.0, 8925.0, 5904.0, 5588.0, 24117.0, 5207.0, 5436.0, 5294.0, 7797.0, 5973.0, 5728.0, 2933.0, 4025.0, 2343.0, 10024.0, 3887.0, 4861.0, 6096.0, 2597.0, 2759.0, 1910.0, 2319.0, 9070.0, 3463.0, 1431.0, 2931.0, 3386.0, 2687.0, 2664.0, 1174.0, 2206.0, 3068.0, 1584.0, 1836.0, 1483.0, 1383.0, 3837.0, 1069.0, 1108.0, 1541.0, 2590.0, 637.0, 1137.0, 1696.0, 1325.0, 1687.0, 3233.0, 2669.0, 1903.0, 757.0, 2042.0, 1592.0, 1472.0, 1460.0, 1719.0, 2018.0, 903.0, 1173.0, 1270.0, 644.0, 1310.0, 2072.0, 1612.0, 894.0, 915.0, 1324.0, 1403.0, 959.0, 1176.0, 4107.0, 714.0, 4311.0, 2138.0, 854.0, 963.0, 1118.0, 1529.0, 551.0, 1112.0, 821.0, 1281.0, 3117.0, 1130.0, 1148.0, 2170.0, 1759.0, 926.0, 11394.0, 4014.0, 3145.0, 0.0001, 0.0001, 0.0001, 0.0001, 0.0001, 0.0001, 0.0001, 0.0001, 0.0001, 0.0001, 0.0001, 0.0001, 0.0001, 0.0001, 0.0001, 0.0001, 0.0001, 0.0001, 3.0, 0.0001, 0.0001, 0.0001, 0.0001, 0.0001, 0.0001, 0.0001, 0.0001, 0.0001, 0.0001, 0.0001, 2.0, 0.0001, 0.0001, 0.0001, 1.0, 0.0001, 0.0001, 1.0, 0.0001, 0.0001, 0.0001, 0.0001, 0.0001, 0.0001, 0.0001, 0.0001, 0.0001, 0.0001, 1.0, 0.0001, 4.0, 0.0001, 0.0001, 0.0001, 5.0, 0.0001, 88.0, 16.0, 26.0, 29.0, 2.0, 0.0001, 170.0, 13.0, 320.0, 188.0, 203.0, 1593.0, 2979.0, 1380.0, 1450.0, 527.0, 706.0, 4945.0, 2796.0, 2133.0, 2182.0, 1796.0, 1851.0, 3380.0, 2480.0, 1718.0, 10494.0, 4281.0, 4333.0, 2607.0, 3842.0, 6295.0, 5497.0, 1992.0, 2875.0, 2162.0, 2837.0, 18876.0, 1293.0, 6616.0, 4436.0, 4512.0, 4784.0, 33227.0, 10068.0, 11367.0, 4770.0, 7028.0, 2611.0, 119.0, 5126.0, 3957.0, 13541.0, 3635.0, 16564.0, -2446.0, 13143.0, 2984.0, 4333.0, 17629.0, 3889.0, 10913.0, 6214.0, 4920.0, 4106.0, 51717.0, 11104.0, 5497.0, 12421.0, 5745.0, 6606.0, 8483.0, 6455.0, 10015.0, 28297.0, 13473.0, 5637.0, 15390.0, 5744.0, 6704.0, 9143.0, 5518.0, 12155.0, 6333.0, 8649.0, 6788.0, 7094.0, 9220.0, 5210.0, 14518.0, 7169.0, 8688.0, 6924.0, 7600.0, 10745.0, 4673.0, 18065.0, 7350.0, 8613.0, 7401.0, 7247.0, 8499.0, 5856.0, 20039.0, 15428.0, 9363.0, 51976.0, 8434.0, 103921.0, 12438.0, 17385.0, 12328.0, 16986.0, 15649.0, 14074.0, 12391.0, 10750.0, 25613.0, 17159.0, 26784.0, 14763.0, 16559.0, 15516.0, 8401.0, 28966.0, 21931.0, 28831.0, 22420.0, 28355.0, 17790.0, 18449.0, 27941.0, 29559.0, 34062.0, 24730.0, 24005.0, 23725.0, 6804.0, 44757.0, 15533.0, 48872.0, 20773.0, 25246.0, 19248.0, 13746.0, 13891.0, 44205.0, 38800.0, 20888.0, 21678.0, 22201.0, 14540.0, 32513.0, 32579.0, 26890.0, 21986.0, 18021.0, 20428.0, 12277.0, 23013.0, 32925.0, 30766.0, 16861.0, 17041.0, 22247.0, 13325.0, 30886.0, 17838.0, 29094.0, 35200.0, 16497.0, 18733.0, 13808.0, 17556.0, 25560.0, 28368.0, 16032.0, 14367.0, 16780.0, 16748.0, 23164.0, 20557.0, 30446.0, 14761.0, 16131.0, 20981.0, 13225.0, 25278.0, 31010.0, 23297.0, 39927.0, 17152.0, 23124.0, 15821.0, 28328.0, 18697.0, 27383.0, 19962.0, 12719.0, 23953.0, 14377.0, 23443.0, 17248.0, 47505.0, 21357.0, 17837.0, 23894.0, 12094.0, 31651.0, 17865.0, 31201.0, 21603.0, 20142.0, 23034.0, 13565.0, 38465.0, 22545.0, 28206.0, 29702.0, 22371.0, 31229.0, 16222.0, 37577.0, 27211.0, 30474.0, 36196.0, 24116.0, 34026.0, 18101.0, 44402.0, 30149.0, 38397.0, 38224.0, 29040.0, 40674.0], \"yaxis\": \"y8\"}, {\"name\": \"total_tests\", \"type\": \"box\", \"xaxis\": \"x5\", \"y\": [0.0001, 0.0001, 0.0001, 0.0001, 0.0001, 0.0001, 0.0001, 0.0001, 0.0001, 0.0001, 0.0001, 0.0001, 0.0001, 0.0001, 0.0001, 0.0001, 0.0001, 0.0001, 0.0001, 0.0001, 0.0001, 0.0001, 0.0001, 0.0001, 0.0001, 0.0001, 0.0001, 0.0001, 0.0001, 0.0001, 0.0001, 0.0001, 0.0001, 0.0001, 0.0001, 0.0001, 0.0001, 0.0001, 0.0001, 0.0001, 0.0001, 0.0001, 0.0001, 0.0001, 0.0001, 0.0001, 0.0001, 0.0001, 0.0001, 0.0001, 0.0001, 0.0001, 0.0001, 0.0001, 0.0001, 0.0001, 0.0001, 0.0001, 0.0001, 0.0001, 143056.0, 0.0001, 0.0001, 0.0001, 0.0001, 0.0001, 0.0001, 211261.0, 0.0001, 0.0001, 0.0001, 0.0001, 0.0001, 0.0001, 297154.0, 302663.0, 310700.0, 319368.0, 330134.0, 338346.0, 347847.0, 353941.0, 362136.0, 366493.0, 371377.0, 380003.0, 391530.0, 406510.0, 420996.0, 431734.0, 439842.0, 452441.0, 466659.0, 482370.0, 494257.0, 506449.0, 517063.0, 530679.0, 544410.0, 563641.0, 588868.0, 611583.0, 633107.0, 650214.0, 664756.0, 688656.0, 722549.0, 757250.0, 795456.0, 827872.0, 855119.0, 877927.0, 909025.0, 943480.0, 983816.0, 1015652.0, 1042126.0, 1062034.0, 1085870.0, 1111567.0, 1137684.0, 1170682.0, 1192262.0, 1224795.0, 1244200.0, 1288223.0, 1338321.0, 1367444.0, 1397622.0, 1428538.0, 1454568.0, 1472220.0, 1490387.0, 1512700.0, 1546329.0, 1579192.0, 1590588.0, 1617462.0, 1633515.0, 1650684.0, 1679954.0, 1711223.0, 1745550.0, 1782651.0, 1812353.0, 1828149.0, 1848347.0, 1876117.0, 1927497.0, 1970205.0, 2005378.0, 2041324.0, 2107849.0, 2132821.0, 2180424.0, 2232341.0, 2281839.0, 2336061.0, 2379175.0, 2415695.0, 2455982.0, 2505923.0, 2563782.0, 2617860.0, 2668036.0, 2713435.0, 2759165.0, 2801107.0, 2856406.0, 2910831.0, 2970268.0, 3021493.0, 3075488.0, 3117788.0, 3162237.0, 3222141.0, 3287716.0, 3350444.0, 3413831.0, 3476463.0, 3534425.0, 3590735.0, 3650529.0, 3719837.0, 3795421.0, 3859505.0, 3935124.0, 3987090.0, 0.0001, 4098249.0, 4164454.0, 0.0001, 4307224.0, 4346382.0, 4386911.0, 4481617.0, 4552081.0, 4632089.0, 4724026.0, 4764223.0, 4857414.0, 4918546.0, 4980172.0, 5041344.0, 5109785.0, 5180414.0, 5243784.0, 5297558.0, 5336097.0, 5380613.0, 5440495.0, 5508831.0, 0.0001, 0.0001, 5706587.0, 5758034.0, 5814709.0, 5886412.0, 5972680.0, 0.0001, 0.0001, 6168229.0, 6214453.0, 6255797.0, 6319795.0, 6390778.0, 0.0001, 0.0001, 6657348.0, 6693434.0, 6730397.0, 6789333.0, 6849431.0, 0.0001, 0.0001, 7016090.0, 7047036.0, 7076539.0, 7124384.0, 7178741.0, 0.0001, 0.0001, 7296252.0, 7319688.0, 7351283.0, 7393693.0, 7441327.0, 0.0001, 0.0001, 7546223.0, 7563322.0, 7589332.0, 7637403.0, 7679651.0, 0.0001, 0.0001, 0.0001, 0.0001, 7819472.0, 7852241.0, 7895078.0, 0.0001, 0.0001, 8008111.0, 8035558.0, 8062988.0, 8109490.0, 8153116.0, 0.0001, 0.0001, 8276036.0, 8303374.0, 8332247.0, 8378006.0, 8423824.0, 0.0001, 0.0001, 8535842.0, 8567028.0, 8598558.0, 8650241.0, 8700911.0, 0.0001, 0.0001, 8825186.0, 8855401.0, 8887171.0, 8933563.0, 8977142.0, 0.0001, 0.0001, 0.0001, 0.0001, 0.0001, 0.0001, 0.0001, 0.0001, 0.0001, 0.0001, 0.0001, 0.0001, 0.0001, 0.0001, 0.0001, 0.0001, 0.0001, 0.0001, 0.0001, 0.0001, 0.0001, 0.0001, 0.0001, 0.0001, 0.0001, 0.0001, 0.0001, 0.0001, 0.0001, 0.0001, 0.0001, 0.0001, 0.0001, 0.0001, 0.0001, 0.0001, 0.0001, 0.0001, 0.0001, 0.0001, 0.0001, 0.0001, 0.0001, 0.0001, 0.0001, 0.0001, 0.0001, 0.0001, 0.0001, 0.0001, 0.0001, 0.0001, 0.0001, 0.0001, 0.0001, 0.0001, 0.0001, 0.0001, 0.0001, 0.0001, 0.0001, 0.0001, 0.0001, 0.0001, 0.0001, 0.0001, 0.0001, 0.0001, 0.0001, 0.0001, 0.0001, 0.0001, 0.0001, 0.0001, 0.0001, 0.0001, 0.0001, 0.0001, 62985.0, 0.0001, 0.0001, 0.0001, 0.0001, 0.0001, 0.0001, 0.0001, 0.0001, 0.0001, 0.0001, 0.0001, 0.0001, 132467.0, 0.0001, 0.0001, 0.0001, 0.0001, 0.0001, 0.0001, 0.0001, 0.0001, 0.0001, 0.0001, 0.0001, 0.0001, 0.0001, 0.0001, 0.0001, 0.0001, 0.0001, 0.0001, 0.0001, 0.0001, 0.0001, 0.0001, 0.0001, 0.0001, 0.0001, 0.0001, 0.0001, 0.0001, 0.0001, 0.0001, 0.0001, 0.0001, 0.0001, 0.0001, 0.0001, 0.0001, 0.0001, 0.0001, 485000.0, 0.0001, 0.0001, 0.0001, 0.0001, 0.0001, 0.0001, 0.0001, 0.0001, 0.0001, 0.0001, 0.0001, 0.0001, 0.0001, 0.0001, 0.0001, 0.0001, 0.0001, 0.0001, 0.0001, 0.0001, 0.0001, 0.0001, 0.0001, 0.0001, 0.0001, 0.0001, 0.0001, 0.0001, 0.0001, 0.0001, 0.0001, 1478671.0, 0.0001, 0.0001, 0.0001, 2124223.0, 0.0001, 0.0001, 0.0001, 0.0001, 0.0001, 0.0001, 2223803.0, 0.0001, 0.0001, 0.0001, 0.0001, 0.0001, 0.0001, 0.0001, 0.0001, 0.0001, 2536552.0, 0.0001, 0.0001, 0.0001, 2678927.0, 0.0001, 0.0001, 0.0001, 0.0001, 0.0001, 0.0001, 0.0001, 3316167.0, 0.0001, 0.0001, 0.0001, 0.0001, 0.0001, 3810322.0, 0.0001, 0.0001, 0.0001, 0.0001, 0.0001, 0.0001, 4152652.0, 0.0001, 0.0001, 0.0001, 0.0001, 0.0001, 0.0001, 4797948.0, 0.0001, 0.0001, 0.0001, 0.0001, 0.0001, 0.0001, 0.0001, 0.0001, 5183751.0, 0.0001, 0.0001, 0.0001, 0.0001, 5600000.0, 0.0001, 0.0001, 0.0001, 0.0001, 0.0001, 0.0001, 5900000.0, 0.0001, 0.0001, 0.0001, 0.0001, 0.0001, 0.0001, 6421441.0, 0.0001, 0.0001, 0.0001, 0.0001, 0.0001, 0.0001, 0.0001, 0.0001, 0.0001, 0.0001, 0.0001, 0.0001, 0.0001, 0.0001, 0.0001, 0.0001, 0.0001, 0.0001, 0.0001, 0.0001, 0.0001, 0.0001, 0.0001, 0.0001, 0.0001, 0.0001, 0.0001, 0.0001, 0.0001, 0.0001, 0.0001, 0.0001, 0.0001, 0.0001, 0.0001, 0.0001, 0.0001, 0.0001, 0.0001, 0.0001, 0.0001, 0.0001, 0.0001, 0.0001, 0.0001, 0.0001, 0.0001, 0.0001, 0.0001, 0.0001, 0.0001, 0.0001, 0.0001, 0.0001, 0.0001, 0.0001, 0.0001, 0.0001, 0.0001, 0.0001, 0.0001, 0.0001, 0.0001, 0.0001, 0.0001, 0.0001, 0.0001, 0.0001, 0.0001, 0.0001, 0.0001, 0.0001, 0.0001, 0.0001, 0.0001, 0.0001, 0.0001, 0.0001, 0.0001, 0.0001, 0.0001, 0.0001, 0.0001, 0.0001, 0.0001, 0.0001, 0.0001, 0.0001, 0.0001, 0.0001, 0.0001, 0.0001, 0.0001, 0.0001, 0.0001, 0.0001, 0.0001, 0.0001, 0.0001, 0.0001, 6500.0, 0.0001, 0.0001, 0.0001, 0.0001, 13125.0, 13316.0, 14376.0, 15701.0, 16999.0, 20707.0, 20864.0, 25144.0, 0.0001, 27688.0, 0.0001, 0.0001, 0.0001, 0.0001, 0.0001, 47951.0, 69245.0, 79950.0, 89534.0, 101068.0, 114015.0, 127919.0, 144910.0, 161330.0, 179374.0, 195748.0, 217554.0, 244893.0, 274599.0, 302956.0, 335123.0, 372123.0, 401586.0, 0.0001, 462621.0, 0.0001, 500542.0, 541789.0, 579957.0, 625309.0, 665819.0, 716733.0, 770764.0, 830201.0, 902654.0, 976363.0, 1046450.0, 1107233.0, 1191946.0, 1276781.0, 1357413.0, 1437788.0, 1523213.0, 1609037.0, 1673688.0, 1759579.0, 1854250.0, 1947041.0, 2039952.0, 2134277.0, 2227642.0, 2302792.0, 2404267.0, 2512388.0, 2615920.0, 2719434.0, 2834798.0, 2943421.0, 3033591.0, 3126119.0, 3242160.0, 3362136.0, 3483838.0, 3611599.0, 3737027.0, 3837207.0, 3966075.0, 4103233.0, 4242718.0, 4386379.0, 4524317.0, 4666386.0, 4774434.0, 4916116.0, 5061332.0, 5213140.0, 5363445.0, 5507182.0, 5658614.0, 5774133.0, 5921069.0, 6084256.0, 6249668.0, 6426627.0, 6616496.0, 6807226.0, 6950493.0, 7137716.0, 7352911.0, 7560782.0, 7776228.0, 7996707.0, 8227802.0, 8398362.0, 8608654.0, 8826585.0, 9056173.0, 9297749.0, 9540132.0, 9789066.0, 9969662.0, 10211092.0, 10473771.0, 10740832.0, 11024491.0, 11307002.0, 11587153.0, 11806256.0, 12092503.0, 12412664.0, 12739490.0, 13072718.0, 13433742.0, 13791869.0, 14047908.0, 14381303.0, 14724546.0, 15075369.0, 15428170.0, 15849068.0, 16291331.0, 16806803.0, 17334885.0, 17743740.0, 18190382.0, 18832970.0, 19358659.0, 19821831.0, 20202858.0, 20864750.0, 21484402.0, 22149351.0, 22788393.0, 23387171.0, 24106535.0, 24583558.0, 25281848.0, 26015297.0, 26845688.0, 27694416.0, 28563095.0, 29309703.0, 30041400.0, 30941264.0, 31742782.0, 32661252.0, 33467237.0, 34491073.0, 35292220.0, 35902137.0, 36827520.0, 37651512.0, 38576510.0, 39477848.0, 40406609.0, 41461636.0, 42307914.0, 43324834.0, 44337201.0, 45509380.0, 46679145.0, 47738491.0, 48831145.0, 49551507.0, 50650128.0, 51804677.0, 52934433.0, 54097975.0, 55189226.0, 56260928.0, 57239428.0, 58312273.0, 59429115.0, 60565728.0, 61572343.0, 62454254.0, 63661060.0, 64392594.0, 65325779.0, 66279462.0, 67436031.0, 68928440.0, 70269975.0, 71257836.0, 71967230.0, 73110041.0, 74196729.0, 75619781.0, 76717728.0, 77850403.0, 78992534.0, 79982394.0, 81071797.0, 82271654.0, 83465975.0, 84634680.0, 85798698.0, 86877242.0, 87872093.0, 88945107.0, 90090122.0, 91226305.0, 92254927.0, 93254017.0, 94224190.0, 95083976.0, 96116771.0, 97200379.0, 98670363.0, 100113085.0, 101382564.0, 102523469.0, 103462778.0, 104420894.0, 105487680.0, 106563440.0, 107728088.0, 108796064.0, 109887303.0, 110743103.0, 111789350.0, 112998959.0, 114208384.0, 0.0001, 0.0001, 0.0001, 0.0001, 0.0001, 0.0001, 0.0001, 0.0001, 0.0001, 0.0001, 0.0001, 0.0001, 0.0001, 0.0001, 0.0001, 0.0001, 0.0001, 0.0001, 0.0001, 0.0001, 0.0001, 0.0001, 0.0001, 0.0001, 0.0001, 0.0001, 0.0001, 0.0001, 0.0001, 0.0001, 0.0001, 0.0001, 0.0001, 0.0001, 0.0001, 0.0001, 0.0001, 0.0001, 0.0001, 0.0001, 0.0001, 0.0001, 0.0001, 0.0001, 46414.0, 51366.0, 55688.0, 59960.0, 63191.0, 0.0001, 70601.0, 76963.0, 0.0001, 94852.0, 104883.0, 109939.0, 116061.0, 122854.0, 133101.0, 143519.0, 156016.0, 163529.0, 165772.0, 185918.0, 192824.0, 197251.0, 223509.0, 243377.0, 263888.0, 343523.0, 0.0001, 406500.0, 536000.0, 575103.0, 639606.0, 697004.0, 758401.0, 795523.0, 910221.0, 1004719.0, 1092811.0, 1184442.0, 1278747.0, 1359993.0, 1426014.0, 1517992.0, 1613413.0, 1718019.0, 1831892.0, 1949813.0, 2053319.0, 2142604.0, 2252539.0, 2401616.0, 2552000.0, 2721500.0, 2877699.0, 3019434.0, 3139258.0, 3303717.0, 3498308.0, 3723807.0, 3945518.0, 4099999.0, 4303243.0, 4460357.0, 4633731.0, 4803192.0, 4987468.0, 5221964.0, 5448463.0, 5636763.0, 5805404.0, 5982558.0, 6188102.0, 6413948.0, 6656340.0, 6916088.0, 7147014.0, 7352316.0, 7578029.0, 7840880.0, 8126626.0, 8402747.0, 8685305.0, 8945384.0, 9160590.0, 9415992.0, 9701280.0, 10000061.0, 10316200.0, 10643124.0, 10923108.0, 11151622.0, 11426045.0, 11733051.0, 12053663.0, 12388968.0, 12721549.0, 13016023.0, 13254678.0, 13545303.0, 13875097.0, 14218674.0, 14574117.0, 14880172.0, 15161152.0, 15395417.0, 15679724.0, 15991697.0, 16321964.0, 16661287.0, 16998453.0, 17289691.0, 17522752.0, 17803955.0, 18115830.0, 18402719.0, 18707946.0, 19044954.0, 19334442.0, 19562440.0, 19852167.0, 20168904.0, 20451110.0, 20752406.0, 0.0001, 21335394.0, 21537771.0, 21790705.0, 22079294.0, 22388195.0, 22708416.0, 23031056.0, 23292630.0, 23495752.0, 23754645.0, 24053516.0, 24364568.0, 24676930.0, 24991740.0, 25251614.0, 25449167.0, 25704372.0, 26000908.0, 26300652.0, 26610623.0, 26902291.0, 27141966.0, 27327570.0, 27569646.0, 27857850.0, 28161461.0, 28478012.0, 28793260.0, 29029900.0, 29201862.0, 29433890.0, 29716907.0, 30038123.0, 30341344.0, 30640020.0, 30886160.0, 31063187.0, 31307764.0, 31598302.0, 31903055.0, 32221546.0, 32533818.0, 32784478.0, 32968759.0, 33217468.0, 33509273.0, 33814105.0, 0.0001, 34447560.0, 34695406.0, 34883220.0, 35128661.0, 35423783.0, 35751747.0, 36086182.0, 36426850.0, 36696382.0, 36901215.0, 37176827.0, 37484146.0, 37818366.0, 38154556.0, 38488127.0, 38758184.0, 38960761.0, 39289176.0, 39575311.0, 39912526.0, 40268897.0, 40624075.0, 40903551.0, 41122307.0, 41424006.0, 41748928.0, 42095246.0, 42457169.0, 42821891.0, 43103912.0, 43341534.0, 43632541.0, 43990409.0, 44364566.0, 44755362.0, 45134435.0, 45442774.0, 45698673.0, 46037660.0, 46421834.0, 46823879.0, 0.0001, 47683832.0, 48042343.0, 48337992.0, 48709857.0, 49148954.0, 49656873.0, 50305243.0, 50781349.0, 51191309.0, 51364269.0, 51801245.0, 52279734.0, 52782097.0, 53305957.0, 53850509.0, 54300208.0, 54675096.0, 55171784.0, 55683929.0, 56230544.0, 56794639.0, 57344952.0, 57821260.0, 58223852.0, 58730811.0, 59284119.0, 59866561.0, 60441811.0, 61029746.0, 61541970.0, 61954566.0, 62446013.0, 63016994.0, 63541298.0, 0.0001, 0.0001, 42.0, 0.0001, 0.0001, 0.0001, 61.0, 0.0001, 67.0, 71.0, 0.0001, 0.0001, 0.0001, 0.0001, 95.0, 106.0, 0.0001, 0.0001, 0.0001, 116.0, 0.0001, 121.0, 0.0001, 0.0001, 0.0001, 0.0001, 160.0, 164.0, 0.0001, 0.0001, 200.0, 241.0, 0.0001, 0.0001, 0.0001, 645.0, 848.0, 924.0, 1017.0, 1476.0, 2405.0, 2911.0, 3070.0, 4832.0, 6438.0, 7425.0, 9315.0, 12815.0, 15529.0, 0.0001, 20471.0, 28537.0, 31963.0, 35593.0, 38409.0, 41072.0, 44292.0, 47965.0, 50361.0, 53937.0, 56873.0, 58098.0, 0.0001, 63776.0, 68874.0, 73028.0, 75053.0, 80085.0, 83663.0, 87022.0, 90515.0, 95060.0, 100827.0, 108201.0, 114711.0, 121510.0, 126937.0, 133774.0, 143570.0, 152390.0, 161004.0, 168643.0, 178470.0, 185497.0, 197127.0, 207530.0, 217522.0, 230686.0, 245747.0, 257541.0, 268064.0, 279379.0, 292153.0, 307752.0, 324079.0, 341336.0, 356067.0, 369697.0, 386352.0, 403018.0, 421555.0, 439559.0, 460873.0, 475071.0, 488609.0, 505861.0, 525433.0, 543032.0, 564370.0, 583855.0, 596777.0, 605991.0, 634996.0, 655723.0, 680175.0, 701883.0, 725125.0, 742742.0, 761534.0, 785979.0, 820675.0, 850871.0, 891668.0, 920064.0, 943059.0, 968070.0, 998400.0, 1028399.0, 1060425.0, 1087887.0, 1121958.0, 1148933.0, 1172513.0, 1207360.0, 1228098.0, 1260434.0, 1293608.0, 1328060.0, 1353176.0, 1382772.0, 1416894.0, 1460012.0, 1493104.0, 1529009.0, 1567084.0, 1596995.0, 1630008.0, 1666939.0, 1706127.0, 1745153.0, 1792078.0, 1830161.0, 1864111.0, 1907532.0, 1944399.0, 2000569.0, 2057232.0, 2108570.0, 2154391.0, 2194624.0, 2232738.0, 2278127.0, 2324923.0, 2373053.0, 2422741.0, 2471747.0, 2505646.0, 2536921.0, 2585474.0, 2632106.0, 2684488.0, 2730812.0, 2773778.0, 2802211.0, 2830635.0, 2873163.0, 2918049.0, 2959535.0, 3001985.0, 3036779.0, 3058695.0, 3078202.0, 3113191.0, 3149807.0, 3183658.0, 3220265.0, 3250583.0, 3267494.0, 3278977.0, 3295434.0, 3315497.0, 3351111.0, 3378029.0, 3400638.0, 3415670.0, 3430347.0, 3455671.0, 3480283.0, 3504507.0, 3535067.0, 3553425.0, 3564065.0, 3578836.0, 3598973.0, 3617982.0, 3632311.0, 3652970.0, 3674872.0, 3693721.0, 3705408.0, 3726721.0, 3747101.0, 3765700.0, 3783823.0, 3800190.0, 3808949.0, 3821162.0, 3842898.0, 3863453.0, 3884166.0, 3902786.0, 3918478.0, 3928614.0, 3940217.0, 3961179.0, 3983533.0, 4003590.0, 4024659.0, 4041543.0, 4047723.0, 4064117.0, 4083757.0, 4102162.0, 4117079.0, 4128438.0, 4143466.0, 4152480.0, 4164491.0, 4187917.0, 4209049.0, 4229709.0, 4251513.0, 4269626.0, 4280340.0, 4294931.0, 4318514.0, 4339686.0, 4360105.0, 4388171.0, 4407441.0, 4418418.0, 4433952.0, 4458745.0, 4481354.0, 4505533.0, 4528141.0, 4549478.0, 4565980.0, 4581346.0, 4607883.0, 4633671.0, 4657116.0, 4677942.0, 4697939.0, 4709403.0, 4726875.0, 4752596.0, 4777609.0, 4800823.0, 4822973.0, 4842516.0, 4852918.0, 4868610.0, 4893683.0, 4917625.0, 0.0001, 0.0001, 0.0001, 0.0001, 0.0001, 0.0001, 0.0001, 0.0001, 0.0001, 0.0001, 0.0001, 0.0001, 0.0001, 0.0001, 0.0001, 0.0001, 0.0001, 0.0001, 0.0001, 0.0001, 0.0001, 0.0001, 0.0001, 0.0001, 0.0001, 0.0001, 0.0001, 0.0001, 0.0001, 0.0001, 0.0001, 0.0001, 0.0001, 0.0001, 0.0001, 0.0001, 0.0001, 0.0001, 0.0001, 0.0001, 0.0001, 126.0, 467.0, 1191.0, 2023.0, 2990.0, 4293.0, 5598.0, 6999.0, 8997.0, 11651.0, 15475.0, 22464.0, 32407.0, 43111.0, 55089.0, 78451.0, 114746.0, 161803.0, 218604.0, 287158.0, 356024.0, 419372.0, 490961.0, 583573.0, 685348.0, 799003.0, 918628.0, 1026905.0, 1125869.0, 1235443.0, 1363364.0, 1499230.0, 1641941.0, 1793607.0, 1928829.0, 2057039.0, 2188296.0, 2340077.0, 2686788.0, 2853947.0, 3026538.0, 3233856.0, 3350292.0, 3459382.0, 3609720.0, 3791960.0, 3970815.0, 4149195.0, 4324450.0, 4458119.0, 4615635.0, 4834208.0, 5059878.0, 5278420.0, 5527224.0, 5744288.0, 5942977.0, 6161265.0, 6410272.0, 6704233.0, 7014951.0, 7311088.0, 7593479.0, 7784168.0, 7998852.0, 8351112.0, 8665112.0, 9035332.0, 9434817.0, 9754245.0, 9970029.0, 10323590.0, 10732035.0, 11157809.0, 11595713.0, 12026391.0, 12390408.0, 12695775.0, 13027758.0, 13475713.0, 13878843.0, 14384884.0, 14869466.0, 15244701.0, 15538899.0, 15937734.0, 16402610.0, 16927338.0, 17463342.0, 17977099.0, 18446102.0, 18816474.0, 19248473.0, 19714098.0, 20338771.0, 20942838.0, 21496044.0, 22001846.0, 22356413.0, 23040468.0, 23630102.0, 24274564.0, 24808678.0, 25351091.0, 25971024.0, 26328056.0, 26898248.0, 27547852.0, 28257596.0, 28964420.0, 29791371.0, 30407688.0, 30860598.0, 31452282.0, 32245639.0, 32980316.0, 33724658.0, 34506304.0, 35175812.0, 35670590.0, 36438498.0, 37311651.0, 38245038.0, 38996752.0, 39763866.0, 40302396.0, 40752503.0, 41650748.0, 42516810.0, 43457706.0, 44409979.0, 45364537.0, 46197049.0, 46921753.0, 47762256.0, 48692336.0, 49576967.0, 50700766.0, 51726207.0, 52601423.0, 53215664.0, 53973470.0, 55222254.0, 56290597.0, 57346777.0, 58259171.0, 59206787.0, 59854578.0, 60589643.0, 61473923.0, 62352613.0, 63367953.0, 64349795.0, 65129380.0, 65714360.0, 66408510.0, 67198574.0, 68092900.0, 69009782.0, 69935953.0, 70762149.0, 71483193.0, 72283179.0, 73256508.0, 74227625.0, 75287129.0, 76278124.0, 77130894.0, 77762746.0, 78445139.0, 79311706.0, 80285963.0, 81266556.0, 82214493.0, 83008877.0, 83628599.0, 84287194.0, 85178173.0, 86120390.0, 86990739.0, 88128017.0, 88995217.0, 89626365.0, 90365174.0, 91246621.0, 92232115.0, 93239470.0, 94282225.0, 95114926.0, 95715458.0, 96168893.0, 96791289.0, 97640428.0, 98627238.0, 99708510.0, 100571769.0, 101237026.0, 101942852.0, 102887009.0, 103925007.0, 105061757.0, 106303359.0, 107257050.0, 107927399.0, 108663253.0, 109618895.0, 110708686.0, 111842065.0, 112965103.0, 113942041.0, 114632101.0, 115370885.0, 116367852.0, 117521764.0, 118700102.0, 119940469.0, 120926818.0, 121645125.0, 122558636.0, 123656345.0, 124904036.0, 126227893.0, 127554398.0, 128627745.0, 129416350.0, 130260446.0, 131322502.0, 132489798.0, 133678034.0, 134902110.0, 135848752.0, 136534575.0, 137307425.0, 138380909.0, 139744416.0, 141118475.0, 142539408.0, 143798193.0, 144657351.0, 145610467.0, 146847228.0, 148152012.0, 149565341.0, 150931490.0, 151921753.0, 153016539.0, 153701830.0, 154369231.0, 0.0001, 0.0001, 0.0001, 0.0001], \"yaxis\": \"y5\"}, {\"name\": \"new_tests\", \"type\": \"box\", \"xaxis\": \"x6\", \"y\": [0.0001, 0.0001, 0.0001, 0.0001, 0.0001, 0.0001, 0.0001, 0.0001, 0.0001, 0.0001, 0.0001, 0.0001, 0.0001, 0.0001, 0.0001, 0.0001, 0.0001, 0.0001, 0.0001, 0.0001, 0.0001, 0.0001, 0.0001, 0.0001, 0.0001, 0.0001, 0.0001, 0.0001, 0.0001, 0.0001, 0.0001, 0.0001, 0.0001, 0.0001, 0.0001, 0.0001, 0.0001, 0.0001, 0.0001, 0.0001, 0.0001, 0.0001, 0.0001, 0.0001, 0.0001, 0.0001, 0.0001, 0.0001, 0.0001, 0.0001, 0.0001, 0.0001, 0.0001, 0.0001, 0.0001, 0.0001, 0.0001, 0.0001, 0.0001, 0.0001, 0.0001, 0.0001, 0.0001, 0.0001, 0.0001, 0.0001, 0.0001, 0.0001, 0.0001, 0.0001, 0.0001, 0.0001, 0.0001, 0.0001, 0.0001, 5509.0, 8037.0, 8668.0, 10766.0, 8212.0, 9501.0, 6094.0, 8195.0, 4357.0, 4884.0, 8626.0, 11527.0, 14980.0, 14486.0, 10738.0, 8108.0, 12599.0, 14218.0, 15711.0, 11887.0, 12192.0, 10614.0, 13616.0, 13731.0, 19231.0, 25227.0, 22715.0, 21524.0, 17107.0, 14542.0, 23900.0, 33893.0, 34701.0, 38206.0, 32416.0, 27247.0, 22808.0, 31098.0, 34455.0, 40336.0, 31836.0, 26474.0, 19908.0, 23836.0, 25697.0, 26117.0, 32998.0, 21580.0, 32533.0, 19405.0, 44023.0, 50098.0, 29123.0, 30178.0, 30916.0, 26030.0, 17652.0, 18167.0, 22313.0, 33629.0, 32863.0, 11396.0, 26874.0, 16053.0, 17169.0, 29270.0, 31269.0, 34327.0, 37101.0, 29702.0, 15796.0, 20198.0, 27770.0, 51380.0, 42708.0, 35173.0, 35946.0, 66525.0, 24972.0, 47603.0, 51917.0, 49498.0, 54222.0, 43114.0, 36520.0, 40287.0, 49941.0, 57859.0, 54078.0, 50176.0, 45399.0, 45730.0, 41942.0, 55299.0, 54425.0, 59437.0, 51225.0, 53995.0, 42300.0, 44449.0, 59904.0, 65575.0, 62728.0, 63387.0, 62632.0, 57962.0, 56310.0, 59794.0, 69308.0, 75584.0, 64084.0, 75619.0, 51966.0, 0.0001, 0.0001, 66205.0, 0.0001, 0.0001, 39158.0, 40529.0, 94706.0, 70464.0, 80008.0, 91937.0, 40197.0, 93191.0, 61132.0, 61626.0, 61172.0, 68441.0, 70629.0, 63370.0, 53774.0, 38539.0, 44516.0, 59882.0, 68336.0, 0.0001, 0.0001, 0.0001, 51447.0, 56675.0, 71703.0, 86268.0, 0.0001, 0.0001, 0.0001, 46224.0, 41344.0, 63998.0, 70983.0, 0.0001, 0.0001, 0.0001, 36086.0, 36963.0, 58936.0, 60098.0, 0.0001, 0.0001, 0.0001, 30946.0, 29503.0, 47845.0, 54357.0, 0.0001, 0.0001, 0.0001, 23436.0, 31595.0, 42410.0, 47634.0, 0.0001, 0.0001, 0.0001, 17099.0, 26010.0, 48071.0, 42248.0, 0.0001, 0.0001, 0.0001, 0.0001, 0.0001, 32769.0, 42837.0, 0.0001, 0.0001, 0.0001, 27447.0, 27430.0, 46502.0, 43626.0, 0.0001, 0.0001, 0.0001, 27338.0, 28873.0, 45759.0, 45818.0, 0.0001, 0.0001, 0.0001, 31186.0, 31530.0, 51683.0, 50670.0, 0.0001, 0.0001, 0.0001, 30215.0, 31770.0, 46392.0, 43579.0, 0.0001, 0.0001, 0.0001, 0.0001, 0.0001, 0.0001, 0.0001, 0.0001, 0.0001, 0.0001, 0.0001, 0.0001, 0.0001, 0.0001, 0.0001, 0.0001, 0.0001, 0.0001, 0.0001, 0.0001, 0.0001, 0.0001, 0.0001, 0.0001, 0.0001, 0.0001, 0.0001, 0.0001, 0.0001, 0.0001, 0.0001, 0.0001, 0.0001, 0.0001, 0.0001, 0.0001, 0.0001, 0.0001, 0.0001, 0.0001, 0.0001, 0.0001, 0.0001, 0.0001, 0.0001, 0.0001, 0.0001, 0.0001, 0.0001, 0.0001, 0.0001, 0.0001, 0.0001, 0.0001, 0.0001, 0.0001, 0.0001, 0.0001, 0.0001, 0.0001, 0.0001, 0.0001, 0.0001, 0.0001, 0.0001, 0.0001, 0.0001, 0.0001, 0.0001, 0.0001, 0.0001, 0.0001, 0.0001, 0.0001, 0.0001, 0.0001, 0.0001, 0.0001, 0.0001, 0.0001, 0.0001, 0.0001, 0.0001, 0.0001, 0.0001, 0.0001, 0.0001, 0.0001, 0.0001, 0.0001, 0.0001, 0.0001, 0.0001, 0.0001, 0.0001, 0.0001, 0.0001, 0.0001, 0.0001, 0.0001, 0.0001, 0.0001, 0.0001, 0.0001, 0.0001, 0.0001, 0.0001, 0.0001, 0.0001, 0.0001, 0.0001, 0.0001, 0.0001, 0.0001, 0.0001, 0.0001, 0.0001, 0.0001, 0.0001, 0.0001, 0.0001, 0.0001, 0.0001, 0.0001, 0.0001, 0.0001, 0.0001, 0.0001, 0.0001, 0.0001, 0.0001, 0.0001, 0.0001, 0.0001, 0.0001, 0.0001, 0.0001, 0.0001, 0.0001, 0.0001, 0.0001, 0.0001, 0.0001, 0.0001, 0.0001, 0.0001, 0.0001, 0.0001, 0.0001, 0.0001, 0.0001, 0.0001, 0.0001, 0.0001, 0.0001, 0.0001, 0.0001, 0.0001, 0.0001, 0.0001, 0.0001, 0.0001, 0.0001, 0.0001, 0.0001, 0.0001, 0.0001, 0.0001, 0.0001, 0.0001, 0.0001, 0.0001, 0.0001, 0.0001, 0.0001, 0.0001, 0.0001, 0.0001, 0.0001, 0.0001, 0.0001, 0.0001, 0.0001, 0.0001, 0.0001, 0.0001, 0.0001, 0.0001, 0.0001, 0.0001, 0.0001, 0.0001, 0.0001, 0.0001, 0.0001, 0.0001, 0.0001, 0.0001, 0.0001, 0.0001, 0.0001, 0.0001, 0.0001, 0.0001, 0.0001, 0.0001, 0.0001, 0.0001, 0.0001, 0.0001, 0.0001, 0.0001, 0.0001, 0.0001, 0.0001, 0.0001, 0.0001, 0.0001, 0.0001, 0.0001, 0.0001, 0.0001, 0.0001, 0.0001, 0.0001, 0.0001, 0.0001, 0.0001, 0.0001, 0.0001, 0.0001, 0.0001, 0.0001, 0.0001, 0.0001, 0.0001, 0.0001, 0.0001, 0.0001, 0.0001, 0.0001, 0.0001, 0.0001, 0.0001, 0.0001, 0.0001, 0.0001, 0.0001, 0.0001, 0.0001, 0.0001, 0.0001, 0.0001, 0.0001, 0.0001, 0.0001, 0.0001, 0.0001, 0.0001, 0.0001, 0.0001, 0.0001, 0.0001, 0.0001, 0.0001, 0.0001, 0.0001, 0.0001, 0.0001, 0.0001, 0.0001, 0.0001, 0.0001, 0.0001, 0.0001, 0.0001, 0.0001, 0.0001, 0.0001, 0.0001, 0.0001, 0.0001, 0.0001, 0.0001, 0.0001, 0.0001, 0.0001, 0.0001, 0.0001, 0.0001, 0.0001, 0.0001, 0.0001, 0.0001, 0.0001, 0.0001, 0.0001, 0.0001, 0.0001, 0.0001, 0.0001, 0.0001, 0.0001, 0.0001, 0.0001, 0.0001, 0.0001, 0.0001, 0.0001, 0.0001, 0.0001, 0.0001, 0.0001, 0.0001, 0.0001, 0.0001, 0.0001, 0.0001, 0.0001, 0.0001, 0.0001, 0.0001, 0.0001, 0.0001, 0.0001, 0.0001, 0.0001, 0.0001, 0.0001, 0.0001, 0.0001, 0.0001, 0.0001, 0.0001, 0.0001, 0.0001, 0.0001, 0.0001, 0.0001, 0.0001, 0.0001, 0.0001, 0.0001, 0.0001, 0.0001, 0.0001, 0.0001, 0.0001, 0.0001, 0.0001, 191.0, 1060.0, 1325.0, 1298.0, 3708.0, 157.0, 4280.0, 0.0001, 0.0001, 0.0001, 0.0001, 0.0001, 0.0001, 0.0001, 0.0001, 21294.0, 10705.0, 9584.0, 11534.0, 12947.0, 13904.0, 16991.0, 16420.0, 18044.0, 16374.0, 21806.0, 27339.0, 29706.0, 28357.0, 32167.0, 37000.0, 29463.0, 0.0001, 0.0001, 0.0001, 0.0001, 41247.0, 38168.0, 45352.0, 40510.0, 50914.0, 54031.0, 59437.0, 72453.0, 73709.0, 70087.0, 60783.0, 84713.0, 84835.0, 80632.0, 80375.0, 85425.0, 85824.0, 64651.0, 85891.0, 94671.0, 92791.0, 92911.0, 94325.0, 93365.0, 75150.0, 101475.0, 108121.0, 103532.0, 103514.0, 115364.0, 108623.0, 90170.0, 92528.0, 116041.0, 119976.0, 121702.0, 127761.0, 125428.0, 100180.0, 128868.0, 137158.0, 139485.0, 143661.0, 137938.0, 142069.0, 108048.0, 141682.0, 145216.0, 151808.0, 150305.0, 143737.0, 151432.0, 115519.0, 146936.0, 163187.0, 165412.0, 176959.0, 189869.0, 190730.0, 143267.0, 187223.0, 215195.0, 207871.0, 215446.0, 220479.0, 231095.0, 170560.0, 210292.0, 217931.0, 229588.0, 241576.0, 242383.0, 248934.0, 180596.0, 241430.0, 262679.0, 267061.0, 283659.0, 282511.0, 280151.0, 219103.0, 286247.0, 320161.0, 326826.0, 333228.0, 361024.0, 358127.0, 256039.0, 333395.0, 343243.0, 350823.0, 352801.0, 420898.0, 442263.0, 515472.0, 528082.0, 408855.0, 446642.0, 642588.0, 525689.0, 463172.0, 381027.0, 661892.0, 619652.0, 664949.0, 639042.0, 598778.0, 719364.0, 477023.0, 698290.0, 733449.0, 830391.0, 848728.0, 868679.0, 746608.0, 731697.0, 899864.0, 801518.0, 918470.0, 805985.0, 1023836.0, 801147.0, 609917.0, 925383.0, 823992.0, 924998.0, 901338.0, 928761.0, 1055027.0, 846278.0, 1016920.0, 1012367.0, 1172179.0, 1169765.0, 1059346.0, 1092654.0, 720362.0, 1098621.0, 1154549.0, 1129756.0, 1163542.0, 1091251.0, 1071702.0, 978500.0, 1072845.0, 1116842.0, 1136613.0, 1006615.0, 881911.0, 1206806.0, 731534.0, 933185.0, 953683.0, 1156569.0, 1492409.0, 1341535.0, 987861.0, 709394.0, 1142811.0, 1086688.0, 1423052.0, 1097947.0, 1132675.0, 1142131.0, 989860.0, 1089403.0, 1199857.0, 1194321.0, 1168705.0, 1164018.0, 1078544.0, 994851.0, 1073014.0, 1145015.0, 1136183.0, 1028622.0, 999090.0, 970173.0, 859786.0, 1032795.0, 1083608.0, 1469984.0, 1442722.0, 1269479.0, 1140905.0, 939309.0, 958116.0, 1066786.0, 1075760.0, 1164648.0, 1067976.0, 1091239.0, 855800.0, 1046247.0, 1209609.0, 1209425.0, 0.0001, 0.0001, 0.0001, 0.0001, 0.0001, 0.0001, 0.0001, 0.0001, 0.0001, 0.0001, 0.0001, 0.0001, 0.0001, 0.0001, 0.0001, 0.0001, 0.0001, 0.0001, 0.0001, 0.0001, 0.0001, 0.0001, 0.0001, 0.0001, 0.0001, 0.0001, 0.0001, 0.0001, 0.0001, 0.0001, 0.0001, 0.0001, 0.0001, 0.0001, 0.0001, 0.0001, 0.0001, 0.0001, 0.0001, 0.0001, 0.0001, 0.0001, 0.0001, 0.0001, 0.0001, 4952.0, 4322.0, 4272.0, 3231.0, 0.0001, 0.0001, 6362.0, 0.0001, 0.0001, 10031.0, 5056.0, 6122.0, 6793.0, 10247.0, 10418.0, 12497.0, 7513.0, 2243.0, 20146.0, 6906.0, 4427.0, 26258.0, 19868.0, 20511.0, 79635.0, 0.0001, 0.0001, 129500.0, 39103.0, 64503.0, 57398.0, 61397.0, 37122.0, 114698.0, 94498.0, 88092.0, 91631.0, 94305.0, 81246.0, 66021.0, 91978.0, 95421.0, 104606.0, 113873.0, 117921.0, 103506.0, 89285.0, 109935.0, 149077.0, 150384.0, 169500.0, 156199.0, 141735.0, 119824.0, 164459.0, 194591.0, 225499.0, 221711.0, 154481.0, 203244.0, 157114.0, 173374.0, 169461.0, 184276.0, 234496.0, 226499.0, 188300.0, 168641.0, 177154.0, 205544.0, 225846.0, 242392.0, 259748.0, 230926.0, 205302.0, 225713.0, 262851.0, 285746.0, 276121.0, 282558.0, 260079.0, 215206.0, 255402.0, 285288.0, 298781.0, 316139.0, 326924.0, 279984.0, 228514.0, 274423.0, 307006.0, 320612.0, 335305.0, 332581.0, 294474.0, 238655.0, 290625.0, 329794.0, 343577.0, 355443.0, 306055.0, 280980.0, 234265.0, 284307.0, 311973.0, 330267.0, 339323.0, 337166.0, 291238.0, 233061.0, 281203.0, 311875.0, 286889.0, 305227.0, 337008.0, 289488.0, 227998.0, 289727.0, 316737.0, 282206.0, 301296.0, 0.0001, 0.0001, 202377.0, 252934.0, 288589.0, 308901.0, 320221.0, 322640.0, 261574.0, 203122.0, 258893.0, 298871.0, 311052.0, 312362.0, 314810.0, 259874.0, 197553.0, 255205.0, 296536.0, 299744.0, 309971.0, 291668.0, 239675.0, 185604.0, 242076.0, 288204.0, 303611.0, 316551.0, 315248.0, 236640.0, 171962.0, 232028.0, 283017.0, 321216.0, 303221.0, 298676.0, 246140.0, 177027.0, 244577.0, 290538.0, 304753.0, 318491.0, 312272.0, 250660.0, 184281.0, 248709.0, 291805.0, 304832.0, 0.0001, 0.0001, 247846.0, 187814.0, 245441.0, 295122.0, 327964.0, 334435.0, 340668.0, 269532.0, 204833.0, 275612.0, 307319.0, 334220.0, 336190.0, 333571.0, 270057.0, 202577.0, 328415.0, 286135.0, 337215.0, 356371.0, 355178.0, 279476.0, 218756.0, 301699.0, 324922.0, 346318.0, 361923.0, 364722.0, 282021.0, 237622.0, 291007.0, 357868.0, 374157.0, 390796.0, 379073.0, 308339.0, 255899.0, 338987.0, 384174.0, 402045.0, 0.0001, 0.0001, 358511.0, 295649.0, 371865.0, 439097.0, 507919.0, 648370.0, 476106.0, 409960.0, 172960.0, 436976.0, 478489.0, 502363.0, 523860.0, 544552.0, 449699.0, 374888.0, 496688.0, 512145.0, 546615.0, 564095.0, 550313.0, 476308.0, 402592.0, 506959.0, 553308.0, 582442.0, 575250.0, 587935.0, 512224.0, 412596.0, 491447.0, 570981.0, 524304.0, 0.0001, 0.0001, 0.0001, 0.0001, 0.0001, 0.0001, 0.0001, 0.0001, 0.0001, 4.0, 0.0001, 0.0001, 0.0001, 0.0001, 0.0001, 11.0, 0.0001, 0.0001, 0.0001, 0.0001, 0.0001, 0.0001, 0.0001, 0.0001, 0.0001, 0.0001, 0.0001, 4.0, 0.0001, 0.0001, 0.0001, 41.0, 0.0001, 0.0001, 0.0001, 0.0001, 203.0, 76.0, 93.0, 459.0, 929.0, 506.0, 159.0, 1762.0, 1606.0, 987.0, 1890.0, 3500.0, 2714.0, 0.0001, 0.0001, 8066.0, 3426.0, 3630.0, 2816.0, 2663.0, 3220.0, 3673.0, 2396.0, 3576.0, 2936.0, 1225.0, 0.0001, 0.0001, 5098.0, 4154.0, 2025.0, 5032.0, 3578.0, 3359.0, 3493.0, 4545.0, 5767.0, 7374.0, 6510.0, 6799.0, 5427.0, 6837.0, 9796.0, 8820.0, 8614.0, 7639.0, 9827.0, 7027.0, 11630.0, 10403.0, 9992.0, 13164.0, 15061.0, 11794.0, 10523.0, 11315.0, 12774.0, 15599.0, 16327.0, 17257.0, 14731.0, 13630.0, 16655.0, 16666.0, 18537.0, 18004.0, 21314.0, 14198.0, 13538.0, 17252.0, 19572.0, 17599.0, 21338.0, 19485.0, 12922.0, 9214.0, 29005.0, 20727.0, 24452.0, 21708.0, 23242.0, 17617.0, 18792.0, 24445.0, 34696.0, 30196.0, 40797.0, 28396.0, 22995.0, 25011.0, 30330.0, 29999.0, 32026.0, 27462.0, 34071.0, 26975.0, 23580.0, 34847.0, 20738.0, 32336.0, 33174.0, 34452.0, 25116.0, 29596.0, 34122.0, 43118.0, 33092.0, 35905.0, 38075.0, 29911.0, 33013.0, 36931.0, 39188.0, 39026.0, 46925.0, 38083.0, 33950.0, 43421.0, 36867.0, 56170.0, 56663.0, 51338.0, 45821.0, 40233.0, 38114.0, 45389.0, 46796.0, 48130.0, 49688.0, 49006.0, 33899.0, 31275.0, 48553.0, 46632.0, 52382.0, 46324.0, 42966.0, 28433.0, 28424.0, 42528.0, 44886.0, 41486.0, 42450.0, 34794.0, 21916.0, 19507.0, 34989.0, 36616.0, 33851.0, 36607.0, 30318.0, 16911.0, 11483.0, 16457.0, 20063.0, 35614.0, 26918.0, 22609.0, 15032.0, 14677.0, 25324.0, 24612.0, 24224.0, 30560.0, 18358.0, 10640.0, 14771.0, 20137.0, 19009.0, 14329.0, 20659.0, 21902.0, 18849.0, 11687.0, 21313.0, 20380.0, 18599.0, 18123.0, 16367.0, 8759.0, 12213.0, 21736.0, 20555.0, 20713.0, 18620.0, 15692.0, 10136.0, 11603.0, 20962.0, 22354.0, 20057.0, 21069.0, 16884.0, 6180.0, 16394.0, 19640.0, 18405.0, 14917.0, 11359.0, 15028.0, 9014.0, 12011.0, 23426.0, 21132.0, 20660.0, 21804.0, 18113.0, 10714.0, 14591.0, 23583.0, 21172.0, 20419.0, 28066.0, 19270.0, 10977.0, 15534.0, 24793.0, 22609.0, 24179.0, 22608.0, 21337.0, 16502.0, 15366.0, 26537.0, 25788.0, 23445.0, 20826.0, 19997.0, 11464.0, 17472.0, 25721.0, 25013.0, 23214.0, 22150.0, 19543.0, 10402.0, 15692.0, 25073.0, 23942.0, 0.0001, 0.0001, 0.0001, 0.0001, 0.0001, 0.0001, 0.0001, 0.0001, 0.0001, 0.0001, 0.0001, 0.0001, 0.0001, 0.0001, 0.0001, 0.0001, 0.0001, 0.0001, 0.0001, 0.0001, 0.0001, 0.0001, 0.0001, 0.0001, 0.0001, 0.0001, 0.0001, 0.0001, 0.0001, 0.0001, 0.0001, 0.0001, 0.0001, 0.0001, 0.0001, 0.0001, 0.0001, 0.0001, 0.0001, 0.0001, 0.0001, 126.0, 341.0, 724.0, 832.0, 967.0, 1303.0, 1305.0, 1401.0, 1998.0, 2654.0, 3824.0, 6989.0, 9943.0, 10704.0, 11978.0, 23362.0, 36295.0, 47057.0, 56801.0, 68554.0, 68866.0, 63348.0, 71589.0, 92612.0, 101775.0, 113655.0, 119625.0, 108277.0, 98964.0, 109574.0, 127921.0, 135866.0, 142711.0, 151666.0, 135222.0, 128210.0, 131257.0, 151781.0, 346711.0, 167159.0, 172591.0, 207318.0, 116436.0, 109090.0, 150338.0, 182240.0, 178855.0, 178380.0, 175255.0, 133669.0, 157516.0, 218573.0, 225670.0, 218542.0, 248804.0, 217064.0, 198689.0, 218288.0, 249007.0, 293961.0, 310718.0, 296137.0, 282391.0, 190689.0, 214684.0, 352260.0, 314000.0, 370220.0, 399485.0, 319428.0, 215784.0, 353561.0, 408445.0, 425774.0, 437904.0, 430678.0, 364017.0, 305367.0, 331983.0, 447955.0, 403130.0, 506041.0, 484582.0, 375235.0, 294198.0, 398835.0, 464876.0, 524728.0, 536004.0, 513757.0, 469003.0, 370372.0, 431999.0, 465625.0, 624673.0, 604067.0, 553206.0, 505802.0, 354567.0, 684055.0, 589634.0, 644462.0, 534114.0, 542413.0, 619933.0, 357032.0, 570192.0, 649604.0, 709744.0, 706824.0, 826951.0, 616317.0, 452910.0, 591684.0, 793357.0, 734677.0, 744342.0, 781646.0, 669508.0, 494778.0, 767908.0, 873153.0, 933387.0, 751714.0, 767114.0, 538530.0, 450107.0, 898245.0, 866062.0, 940896.0, 952273.0, 954558.0, 832512.0, 724704.0, 840503.0, 930080.0, 884631.0, 1123799.0, 1025441.0, 875216.0, 614241.0, 757806.0, 1248784.0, 1068343.0, 1056180.0, 912394.0, 947616.0, 647791.0, 735065.0, 884280.0, 878690.0, 1015340.0, 981842.0, 779585.0, 584980.0, 694150.0, 790064.0, 894326.0, 916882.0, 926171.0, 826196.0, 721044.0, 799986.0, 973329.0, 971117.0, 1059504.0, 990995.0, 852770.0, 631852.0, 682393.0, 866567.0, 974257.0, 980593.0, 947937.0, 794384.0, 619722.0, 658595.0, 890979.0, 942217.0, 870349.0, 1137278.0, 867200.0, 631148.0, 738809.0, 881447.0, 985494.0, 1007355.0, 1042755.0, 832701.0, 600532.0, 453435.0, 622396.0, 849139.0, 986810.0, 1081272.0, 863259.0, 665257.0, 705826.0, 944157.0, 1037998.0, 1136750.0, 1241602.0, 953691.0, 670349.0, 735854.0, 955642.0, 1089791.0, 1133379.0, 1123038.0, 976938.0, 690060.0, 738784.0, 996967.0, 1153912.0, 1178338.0, 1240367.0, 986349.0, 718307.0, 913511.0, 1097709.0, 1247691.0, 1323857.0, 1326505.0, 1073347.0, 788605.0, 844096.0, 1062056.0, 1167296.0, 1188236.0, 1224076.0, 946642.0, 685823.0, 772850.0, 1073484.0, 1363507.0, 1374059.0, 1420933.0, 1258785.0, 859158.0, 953116.0, 1236761.0, 1304784.0, 1413329.0, 1366149.0, 990263.0, 1094786.0, 685291.0, 667401.0, 0.0001, 0.0001, 0.0001, 0.0001], \"yaxis\": \"y6\"}, {\"name\": \"new_tests_smoothed\", \"type\": \"box\", \"xaxis\": \"x6\", \"y\": [0.0001, 0.0001, 0.0001, 0.0001, 0.0001, 0.0001, 0.0001, 0.0001, 0.0001, 0.0001, 0.0001, 0.0001, 0.0001, 0.0001, 0.0001, 0.0001, 0.0001, 0.0001, 0.0001, 0.0001, 0.0001, 0.0001, 0.0001, 0.0001, 0.0001, 0.0001, 0.0001, 0.0001, 0.0001, 0.0001, 0.0001, 0.0001, 0.0001, 0.0001, 0.0001, 0.0001, 0.0001, 0.0001, 0.0001, 0.0001, 0.0001, 0.0001, 0.0001, 0.0001, 0.0001, 0.0001, 0.0001, 0.0001, 0.0001, 0.0001, 0.0001, 0.0001, 0.0001, 0.0001, 0.0001, 0.0001, 0.0001, 0.0001, 0.0001, 0.0001, 0.0001, 0.0001, 0.0001, 0.0001, 0.0001, 0.0001, 0.0001, 9744.0, 10105.0, 10466.0, 10827.0, 11187.0, 11548.0, 11909.0, 12270.0, 11305.0, 10700.0, 10185.0, 9970.0, 9390.0, 8995.0, 8112.0, 8496.0, 7970.0, 7430.0, 7124.0, 7598.0, 8380.0, 9579.0, 9943.0, 10478.0, 11581.0, 12379.0, 12977.0, 12535.0, 12208.0, 12190.0, 12977.0, 13138.0, 13855.0, 15214.0, 16761.0, 18094.0, 19022.0, 19154.0, 20607.0, 22701.0, 24055.0, 26268.0, 27824.0, 29272.0, 30453.0, 31481.0, 31562.0, 32367.0, 31457.0, 30608.0, 29559.0, 29706.0, 28935.0, 27743.0, 26695.0, 25230.0, 26096.0, 26024.0, 28908.0, 32393.0, 32823.0, 32420.0, 33754.0, 32825.0, 32574.0, 28881.0, 24911.0, 25555.0, 25939.0, 23150.0, 23271.0, 23042.0, 22900.0, 23893.0, 23556.0, 23765.0, 27438.0, 27842.0, 27805.0, 28238.0, 28023.0, 30896.0, 32094.0, 31818.0, 32710.0, 39957.0, 40639.0, 43472.0, 43549.0, 44519.0, 47240.0, 48264.0, 43978.0, 46166.0, 46500.0, 47349.0, 48003.0, 47425.0, 47751.0, 49067.0, 49304.0, 50069.0, 49578.0, 50344.0, 50494.0, 51722.0, 51232.0, 51590.0, 52248.0, 53841.0, 54311.0, 56048.0, 57282.0, 59520.0, 61214.0, 61198.0, 61732.0, 63568.0, 63668.0, 65523.0, 64666.0, 64562.0, 63960.0, 63517.0, 62917.0, 63960.0, 58751.0, 57117.0, 62707.0, 64833.0, 66805.0, 69741.0, 65286.0, 73005.0, 75948.0, 71222.0, 69895.0, 68242.0, 65198.0, 68509.0, 62878.0, 59650.0, 57206.0, 57022.0, 57007.0, 56334.0, 56698.0, 58433.0, 60277.0, 62014.0, 63702.0, 66264.0, 66159.0, 66054.0, 65949.0, 65203.0, 63013.0, 61912.0, 59728.0, 63110.0, 66492.0, 69874.0, 68426.0, 67800.0, 67077.0, 65522.0, 60764.0, 56007.0, 51249.0, 50515.0, 49449.0, 47864.0, 47044.0, 44704.0, 42364.0, 40023.0, 38950.0, 39249.0, 38473.0, 37512.0, 36912.0, 36311.0, 35710.0, 34805.0, 34007.0, 34816.0, 34046.0, 33046.0, 32046.0, 31046.0, 32598.0, 32877.0, 30691.0, 30775.0, 32163.0, 33551.0, 34938.0, 34864.0, 34788.0, 36750.0, 36863.0, 37333.0, 37804.0, 38275.0, 38259.0, 38466.0, 38359.0, 38673.0, 38153.0, 37634.0, 37115.0, 37665.0, 38044.0, 38891.0, 39584.0, 40168.0, 40751.0, 41335.0, 41196.0, 41230.0, 40475.0, 39462.0, 0.0001, 0.0001, 0.0001, 0.0001, 0.0001, 0.0001, 0.0001, 0.0001, 0.0001, 0.0001, 0.0001, 0.0001, 0.0001, 0.0001, 0.0001, 0.0001, 0.0001, 0.0001, 0.0001, 0.0001, 0.0001, 0.0001, 0.0001, 0.0001, 0.0001, 0.0001, 0.0001, 0.0001, 0.0001, 0.0001, 0.0001, 0.0001, 0.0001, 0.0001, 0.0001, 0.0001, 0.0001, 0.0001, 0.0001, 0.0001, 0.0001, 0.0001, 0.0001, 0.0001, 0.0001, 0.0001, 0.0001, 0.0001, 0.0001, 0.0001, 0.0001, 0.0001, 0.0001, 0.0001, 0.0001, 0.0001, 0.0001, 0.0001, 0.0001, 0.0001, 0.0001, 0.0001, 0.0001, 0.0001, 0.0001, 0.0001, 0.0001, 0.0001, 0.0001, 0.0001, 0.0001, 0.0001, 0.0001, 0.0001, 0.0001, 0.0001, 0.0001, 0.0001, 0.0001, 0.0001, 0.0001, 0.0001, 0.0001, 0.0001, 0.0001, 5345.0, 5345.0, 5345.0, 5345.0, 5345.0, 5345.0, 5345.0, 0.0001, 0.0001, 0.0001, 0.0001, 0.0001, 0.0001, 0.0001, 0.0001, 0.0001, 0.0001, 0.0001, 0.0001, 0.0001, 0.0001, 0.0001, 0.0001, 0.0001, 0.0001, 0.0001, 0.0001, 0.0001, 0.0001, 0.0001, 0.0001, 0.0001, 0.0001, 0.0001, 0.0001, 0.0001, 0.0001, 0.0001, 0.0001, 0.0001, 0.0001, 0.0001, 0.0001, 0.0001, 0.0001, 0.0001, 0.0001, 0.0001, 0.0001, 0.0001, 0.0001, 0.0001, 0.0001, 0.0001, 0.0001, 0.0001, 0.0001, 0.0001, 0.0001, 0.0001, 0.0001, 0.0001, 0.0001, 0.0001, 0.0001, 0.0001, 0.0001, 0.0001, 0.0001, 0.0001, 0.0001, 0.0001, 0.0001, 0.0001, 0.0001, 0.0001, 0.0001, 0.0001, 0.0001, 0.0001, 0.0001, 0.0001, 0.0001, 0.0001, 98318.0, 77295.0, 56272.0, 35249.0, 14226.0, 16661.0, 19097.0, 21533.0, 23968.0, 26404.0, 28839.0, 31275.0, 31275.0, 31275.0, 31275.0, 31892.0, 32509.0, 33126.0, 33743.0, 40654.0, 47566.0, 54477.0, 60772.0, 67066.0, 73361.0, 79655.0, 79655.0, 80041.0, 80428.0, 80814.0, 81200.0, 81587.0, 81973.0, 77580.0, 72801.0, 68021.0, 63242.0, 58463.0, 53684.0, 48904.0, 55087.0, 61270.0, 67453.0, 73636.0, 79819.0, 86002.0, 92185.0, 85140.0, 78094.0, 71049.0, 64003.0, 56958.0, 49912.0, 42867.0, 42867.0, 42867.0, 48636.0, 54405.0, 60174.0, 65943.0, 71712.0, 71710.0, 71709.0, 65939.0, 60168.0, 54398.0, 48628.0, 42857.0, 47376.0, 51896.0, 56415.0, 60934.0, 65453.0, 69972.0, 74492.0, 0.0001, 0.0001, 0.0001, 0.0001, 0.0001, 0.0001, 0.0001, 0.0001, 0.0001, 0.0001, 0.0001, 0.0001, 0.0001, 0.0001, 0.0001, 0.0001, 0.0001, 0.0001, 0.0001, 0.0001, 0.0001, 0.0001, 0.0001, 0.0001, 0.0001, 0.0001, 0.0001, 0.0001, 0.0001, 0.0001, 0.0001, 0.0001, 0.0001, 0.0001, 0.0001, 0.0001, 0.0001, 0.0001, 0.0001, 0.0001, 0.0001, 0.0001, 0.0001, 0.0001, 0.0001, 0.0001, 0.0001, 0.0001, 0.0001, 0.0001, 0.0001, 0.0001, 0.0001, 0.0001, 0.0001, 0.0001, 0.0001, 0.0001, 0.0001, 0.0001, 0.0001, 0.0001, 0.0001, 0.0001, 0.0001, 0.0001, 0.0001, 0.0001, 0.0001, 0.0001, 0.0001, 0.0001, 0.0001, 0.0001, 0.0001, 0.0001, 0.0001, 0.0001, 0.0001, 0.0001, 0.0001, 0.0001, 0.0001, 0.0001, 0.0001, 0.0001, 0.0001, 0.0001, 0.0001, 0.0001, 0.0001, 0.0001, 0.0001, 0.0001, 0.0001, 0.0001, 0.0001, 0.0001, 0.0001, 0.0001, 0.0001, 0.0001, 0.0001, 0.0001, 0.0001, 0.0001, 0.0001, 1125.0, 1125.0, 1121.0, 1462.0, 1295.0, 1717.0, 1871.0, 1902.0, 2195.0, 2492.0, 2445.0, 2905.0, 2776.0, 3076.0, 5937.0, 6984.0, 7870.0, 9036.0, 10403.0, 11906.0, 13851.0, 13155.0, 14203.0, 15173.0, 16641.0, 18697.0, 20954.0, 22578.0, 24828.0, 27536.0, 29405.0, 30650.0, 31104.0, 29569.0, 28227.0, 29524.0, 29691.0, 31960.0, 33388.0, 36302.0, 41312.0, 47094.0, 51552.0, 56629.0, 60163.0, 63059.0, 67888.0, 72288.0, 75316.0, 76448.0, 78121.0, 80370.0, 80922.0, 81090.0, 82496.0, 84233.0, 86023.0, 87295.0, 88372.0, 89872.0, 92098.0, 94020.0, 95554.0, 97069.0, 100074.0, 102254.0, 104400.0, 103122.0, 104253.0, 106602.0, 109201.0, 110972.0, 113372.0, 114802.0, 119994.0, 123010.0, 125797.0, 128934.0, 130388.0, 132766.0, 133890.0, 135720.0, 136871.0, 138632.0, 139581.0, 140409.0, 141747.0, 142814.0, 143565.0, 146132.0, 148075.0, 151883.0, 158473.0, 164087.0, 168051.0, 173807.0, 181236.0, 187302.0, 192800.0, 197173.0, 202939.0, 206838.0, 210134.0, 210525.0, 213627.0, 217360.0, 220489.0, 223038.0, 224471.0, 228920.0, 235312.0, 240666.0, 246677.0, 252410.0, 256870.0, 262371.0, 268773.0, 276985.0, 285523.0, 292604.0, 303820.0, 314959.0, 320236.0, 326971.0, 330269.0, 333697.0, 336493.0, 345047.0, 357066.0, 394128.0, 421940.0, 431313.0, 445002.0, 486400.0, 501370.0, 504357.0, 485151.0, 504266.0, 534380.0, 565567.0, 565060.0, 575502.0, 612101.0, 625814.0, 631014.0, 647271.0, 670905.0, 700860.0, 739418.0, 743310.0, 779692.0, 808488.0, 818212.0, 830795.0, 824689.0, 846854.0, 854645.0, 837248.0, 840894.0, 844104.0, 845037.0, 858659.0, 845077.0, 881345.0, 915111.0, 928188.0, 955098.0, 990410.0, 1028757.0, 1047412.0, 1052787.0, 1034799.0, 1046471.0, 1066782.0, 1060722.0, 1059833.0, 1064391.0, 1061398.0, 1098274.0, 1094592.0, 1089205.0, 1090185.0, 1067767.0, 1037861.0, 1057162.0, 1021881.0, 1001929.0, 978621.0, 981472.0, 1050871.0, 1116532.0, 1085254.0, 1082091.0, 1112037.0, 1131038.0, 1169107.0, 1112755.0, 1082918.0, 1104957.0, 1145023.0, 1137394.0, 1153561.0, 1120885.0, 1130993.0, 1135471.0, 1126387.0, 1127100.0, 1124759.0, 1116924.0, 1108619.0, 1088607.0, 1065046.0, 1049564.0, 1030269.0, 1024523.0, 1015751.0, 1063437.0, 1122594.0, 1161221.0, 1185611.0, 1196972.0, 1186303.0, 1183900.0, 1127582.0, 1087858.0, 1059071.0, 1051976.0, 1040046.0, 1052637.0, 1073040.0, 1092135.0, 0.0001, 0.0001, 0.0001, 0.0001, 0.0001, 0.0001, 0.0001, 0.0001, 0.0001, 0.0001, 0.0001, 0.0001, 0.0001, 0.0001, 0.0001, 0.0001, 0.0001, 0.0001, 0.0001, 0.0001, 0.0001, 0.0001, 0.0001, 0.0001, 0.0001, 0.0001, 0.0001, 0.0001, 0.0001, 0.0001, 0.0001, 0.0001, 0.0001, 0.0001, 0.0001, 0.0001, 0.0001, 0.0001, 0.0001, 0.0001, 0.0001, 0.0001, 0.0001, 0.0001, 0.0001, 0.0001, 0.0001, 0.0001, 0.0001, 0.0001, 0.0001, 4364.0, 4934.0, 5595.0, 6418.0, 6678.0, 7024.0, 7465.0, 8020.0, 8230.0, 8738.0, 8378.0, 7976.0, 9980.0, 9996.0, 9164.0, 11427.0, 12480.0, 14337.0, 25393.0, 27013.0, 30525.0, 48393.0, 50228.0, 56604.0, 61874.0, 59268.0, 60073.0, 71960.0, 66960.0, 73958.0, 77834.0, 83106.0, 85942.0, 90070.0, 86824.0, 86956.0, 89315.0, 92493.0, 95867.0, 99047.0, 102370.0, 104935.0, 112600.0, 119140.0, 127087.0, 132555.0, 138016.0, 142379.0, 150168.0, 156670.0, 167401.0, 174860.0, 174614.0, 183401.0, 188728.0, 190002.0, 186412.0, 180523.0, 182349.0, 192638.0, 190503.0, 192150.0, 192690.0, 197844.0, 203783.0, 204911.0, 209661.0, 215750.0, 220987.0, 227924.0, 236111.0, 244668.0, 249487.0, 252745.0, 256910.0, 258325.0, 262566.0, 265771.0, 267634.0, 273350.0, 279688.0, 282532.0, 284433.0, 287150.0, 290253.0, 293372.0, 296110.0, 296918.0, 298988.0, 300437.0, 302751.0, 306007.0, 309287.0, 312164.0, 308375.0, 306447.0, 305820.0, 304917.0, 302371.0, 300470.0, 298167.0, 302612.0, 304077.0, 303905.0, 303462.0, 303448.0, 297251.0, 292380.0, 292357.0, 292107.0, 291384.0, 292602.0, 293296.0, 292627.0, 292066.0, 285564.0, 285850.0, 282190.0, 276934.0, 272913.0, 276726.0, 279430.0, 283879.0, 279605.0, 279712.0, 280563.0, 282032.0, 282339.0, 281216.0, 280098.0, 279855.0, 279059.0, 278532.0, 278199.0, 276583.0, 276242.0, 272936.0, 270050.0, 268343.0, 266468.0, 265277.0, 265830.0, 266770.0, 270138.0, 269705.0, 267756.0, 266321.0, 265580.0, 268095.0, 266190.0, 263823.0, 265180.0, 265904.0, 267696.0, 268771.0, 266419.0, 268600.0, 270543.0, 271188.0, 272225.0, 272815.0, 272996.0, 273007.0, 272755.0, 273392.0, 272990.0, 273494.0, 273028.0, 273501.0, 276806.0, 279336.0, 282756.0, 285854.0, 288285.0, 292595.0, 294338.0, 295231.0, 295482.0, 294468.0, 294543.0, 294221.0, 301764.0, 298738.0, 299166.0, 302049.0, 305135.0, 306481.0, 308792.0, 304976.0, 310517.0, 311817.0, 312610.0, 313974.0, 314337.0, 317032.0, 315505.0, 320212.0, 324189.0, 328313.0, 330363.0, 334123.0, 336734.0, 343588.0, 347346.0, 351330.0, 356928.0, 364200.0, 371367.0, 377046.0, 381742.0, 389589.0, 404713.0, 435912.0, 442502.0, 449852.0, 432325.0, 441627.0, 447254.0, 446461.0, 428673.0, 438451.0, 444128.0, 472975.0, 481506.0, 486314.0, 492635.0, 498383.0, 499206.0, 503007.0, 506965.0, 508432.0, 514313.0, 519431.0, 521025.0, 526399.0, 531530.0, 532959.0, 530743.0, 533268.0, 524962.0, 0.0001, 0.0001, 0.0001, 0.0001, 0.0001, 0.0001, 0.0001, 0.0001, 0.0001, 4.0, 4.0, 4.0, 4.0, 4.0, 4.0, 6.0, 5.0, 5.0, 5.0, 4.0, 4.0, 4.0, 3.0, 4.0, 5.0, 6.0, 6.0, 6.0, 8.0, 8.0, 9.0, 14.0, 27.0, 40.0, 54.0, 67.0, 94.0, 103.0, 111.0, 162.0, 280.0, 338.0, 346.0, 569.0, 788.0, 915.0, 1120.0, 1487.0, 1803.0, 2133.0, 2234.0, 3157.0, 3505.0, 3754.0, 3656.0, 3649.0, 3756.0, 3928.0, 3118.0, 3139.0, 3040.0, 2813.0, 2838.0, 2783.0, 2987.0, 3238.0, 3017.0, 3316.0, 3652.0, 3726.0, 3820.0, 3741.0, 3971.0, 4735.0, 4947.0, 5407.0, 5702.0, 6180.0, 6930.0, 7366.0, 7543.0, 7705.0, 8137.0, 8366.0, 9050.0, 9137.0, 9305.0, 9955.0, 11015.0, 11296.0, 11795.0, 11750.0, 12089.0, 12890.0, 13342.0, 13656.0, 14075.0, 14519.0, 15282.0, 15838.0, 16258.0, 16497.0, 17077.0, 17001.0, 16987.0, 17073.0, 17488.0, 17354.0, 17830.0, 17569.0, 17387.0, 16769.0, 18448.0, 18613.0, 19592.0, 19645.0, 20181.0, 20852.0, 22220.0, 21569.0, 23565.0, 24385.0, 27112.0, 27848.0, 28617.0, 29505.0, 30346.0, 29675.0, 29936.0, 28031.0, 28842.0, 29411.0, 29206.0, 29851.0, 28528.0, 28573.0, 29389.0, 29443.0, 29178.0, 30037.0, 29933.0, 33131.0, 33239.0, 33629.0, 34146.0, 34831.0, 35319.0, 35721.0, 35159.0, 36007.0, 37581.0, 37582.0, 38159.0, 39646.0, 39637.0, 42063.0, 44583.0, 45213.0, 46319.0, 47216.0, 46458.0, 47675.0, 46336.0, 45117.0, 44882.0, 45337.0, 44432.0, 43455.0, 43907.0, 43883.0, 44491.0, 44010.0, 43147.0, 42366.0, 41959.0, 41098.0, 40849.0, 39292.0, 38739.0, 37572.0, 36641.0, 35367.0, 34290.0, 33108.0, 32018.0, 31183.0, 30543.0, 29828.0, 28682.0, 26035.0, 23670.0, 23922.0, 22538.0, 21436.0, 21168.0, 21624.0, 22891.0, 23541.0, 21914.0, 22434.0, 21827.0, 21199.0, 21213.0, 20472.0, 19671.0, 18258.0, 16843.0, 17350.0, 18522.0, 18082.0, 18250.0, 18446.0, 19056.0, 18693.0, 17903.0, 16461.0, 16536.0, 16597.0, 16622.0, 16924.0, 16995.0, 16898.0, 17095.0, 17008.0, 16897.0, 17154.0, 17061.0, 17410.0, 17581.0, 17016.0, 17700.0, 17511.0, 16947.0, 16213.0, 14826.0, 14560.0, 14965.0, 14339.0, 14880.0, 15270.0, 16090.0, 17582.0, 18023.0, 18266.0, 18634.0, 18657.0, 18662.0, 18628.0, 19523.0, 19688.0, 19725.0, 19860.0, 20033.0, 20238.0, 20775.0, 19996.0, 20291.0, 21080.0, 21056.0, 21305.0, 21760.0, 21655.0, 21400.0, 21209.0, 20489.0, 20790.0, 20673.0, 20563.0, 20530.0, 20719.0, 20654.0, 20502.0, 20248.0, 20155.0, 20002.0, 0.0001, 0.0001, 0.0001, 0.0001, 0.0001, 0.0001, 0.0001, 0.0001, 0.0001, 0.0001, 0.0001, 0.0001, 0.0001, 0.0001, 0.0001, 0.0001, 0.0001, 0.0001, 0.0001, 0.0001, 0.0001, 0.0001, 0.0001, 0.0001, 0.0001, 0.0001, 0.0001, 0.0001, 0.0001, 0.0001, 0.0001, 0.0001, 0.0001, 0.0001, 0.0001, 0.0001, 0.0001, 0.0001, 0.0001, 0.0001, 0.0001, 0.0001, 0.0001, 0.0001, 0.0001, 0.0001, 0.0001, 0.0001, 982.0, 1219.0, 1494.0, 1922.0, 2782.0, 4016.0, 5359.0, 6870.0, 9922.0, 14728.0, 20904.0, 28020.0, 36393.0, 44702.0, 52040.0, 58930.0, 66975.0, 74792.0, 82914.0, 90210.0, 95840.0, 100928.0, 106355.0, 111399.0, 116269.0, 120420.0, 124997.0, 128846.0, 133024.0, 136122.0, 139530.0, 169651.0, 173144.0, 176133.0, 186432.0, 184750.0, 181584.0, 181378.0, 157882.0, 159553.0, 160380.0, 155799.0, 158261.0, 165179.0, 174927.0, 181131.0, 186801.0, 196861.0, 202834.0, 212123.0, 220804.0, 225152.0, 234908.0, 248076.0, 254838.0, 264170.0, 263027.0, 262512.0, 277263.0, 280126.0, 288626.0, 303390.0, 308681.0, 312266.0, 332105.0, 340132.0, 356100.0, 365769.0, 370225.0, 376595.0, 389392.0, 386310.0, 391954.0, 388719.0, 398453.0, 406154.0, 407756.0, 406161.0, 415711.0, 418128.0, 435499.0, 439780.0, 443948.0, 457343.0, 468225.0, 472963.0, 473070.0, 487348.0, 497071.0, 502706.0, 507963.0, 505706.0, 541714.0, 559429.0, 562256.0, 552263.0, 550721.0, 567025.0, 567378.0, 551111.0, 559679.0, 569005.0, 593677.0, 634326.0, 633809.0, 647506.0, 650576.0, 671112.0, 674674.0, 680034.0, 673562.0, 681161.0, 687142.0, 712317.0, 723716.0, 752103.0, 753156.0, 751080.0, 732369.0, 725988.0, 744607.0, 743594.0, 744667.0, 773318.0, 800096.0, 842093.0, 881321.0, 873073.0, 882218.0, 874180.0, 898684.0, 908810.0, 914911.0, 899130.0, 887316.0, 932845.0, 959090.0, 949430.0, 933281.0, 943623.0, 948416.0, 945168.0, 893096.0, 866002.0, 860168.0, 870089.0, 846085.0, 837112.0, 831267.0, 817807.0, 820041.0, 805976.0, 798023.0, 804681.0, 824119.0, 839238.0, 865419.0, 876389.0, 896764.0, 906024.0, 909821.0, 897079.0, 880280.0, 865028.0, 865477.0, 854204.0, 848053.0, 839712.0, 837979.0, 834579.0, 838067.0, 833490.0, 817740.0, 844789.0, 855191.0, 856824.0, 868283.0, 866921.0, 873104.0, 892676.0, 879173.0, 874244.0, 869870.0, 829103.0, 792095.0, 772616.0, 769681.0, 775184.0, 779549.0, 788795.0, 824851.0, 870817.0, 897797.0, 919217.0, 942121.0, 955040.0, 955768.0, 960057.0, 961698.0, 969097.0, 968615.0, 951678.0, 954999.0, 957815.0, 958233.0, 964137.0, 973297.0, 979720.0, 996481.0, 997825.0, 1001861.0, 1026822.0, 1041213.0, 1054610.0, 1075399.0, 1087704.0, 1100132.0, 1110175.0, 1100259.0, 1095165.0, 1083680.0, 1064306.0, 1049673.0, 1031572.0, 1016889.0, 1006711.0, 1008344.0, 1036374.0, 1062920.0, 1091043.0, 1135634.0, 1160397.0, 1186149.0, 1209474.0, 1201085.0, 1206695.0, 1198869.0, 1160509.0, 1194170.0, 1155909.0, 1074572.0, 0.0001, 0.0001, 0.0001, 0.0001], \"yaxis\": \"y6\"}],\n",
              "                        {\"template\": {\"data\": {\"bar\": [{\"error_x\": {\"color\": \"#2a3f5f\"}, \"error_y\": {\"color\": \"#2a3f5f\"}, \"marker\": {\"line\": {\"color\": \"#E5ECF6\", \"width\": 0.5}}, \"type\": \"bar\"}], \"barpolar\": [{\"marker\": {\"line\": {\"color\": \"#E5ECF6\", \"width\": 0.5}}, \"type\": \"barpolar\"}], \"carpet\": [{\"aaxis\": {\"endlinecolor\": \"#2a3f5f\", \"gridcolor\": \"white\", \"linecolor\": \"white\", \"minorgridcolor\": \"white\", \"startlinecolor\": \"#2a3f5f\"}, \"baxis\": {\"endlinecolor\": \"#2a3f5f\", \"gridcolor\": \"white\", \"linecolor\": \"white\", \"minorgridcolor\": \"white\", \"startlinecolor\": \"#2a3f5f\"}, \"type\": \"carpet\"}], \"choropleth\": [{\"colorbar\": {\"outlinewidth\": 0, \"ticks\": \"\"}, \"type\": \"choropleth\"}], \"contour\": [{\"colorbar\": {\"outlinewidth\": 0, \"ticks\": \"\"}, \"colorscale\": [[0.0, \"#0d0887\"], [0.1111111111111111, \"#46039f\"], [0.2222222222222222, \"#7201a8\"], [0.3333333333333333, \"#9c179e\"], [0.4444444444444444, \"#bd3786\"], [0.5555555555555556, \"#d8576b\"], [0.6666666666666666, \"#ed7953\"], [0.7777777777777778, \"#fb9f3a\"], [0.8888888888888888, \"#fdca26\"], [1.0, \"#f0f921\"]], \"type\": \"contour\"}], \"contourcarpet\": [{\"colorbar\": {\"outlinewidth\": 0, \"ticks\": \"\"}, \"type\": \"contourcarpet\"}], \"heatmap\": [{\"colorbar\": {\"outlinewidth\": 0, \"ticks\": \"\"}, \"colorscale\": [[0.0, \"#0d0887\"], [0.1111111111111111, \"#46039f\"], [0.2222222222222222, \"#7201a8\"], [0.3333333333333333, \"#9c179e\"], [0.4444444444444444, \"#bd3786\"], [0.5555555555555556, \"#d8576b\"], [0.6666666666666666, \"#ed7953\"], [0.7777777777777778, \"#fb9f3a\"], [0.8888888888888888, \"#fdca26\"], [1.0, \"#f0f921\"]], \"type\": \"heatmap\"}], \"heatmapgl\": [{\"colorbar\": {\"outlinewidth\": 0, \"ticks\": \"\"}, \"colorscale\": [[0.0, \"#0d0887\"], [0.1111111111111111, \"#46039f\"], [0.2222222222222222, \"#7201a8\"], [0.3333333333333333, \"#9c179e\"], [0.4444444444444444, \"#bd3786\"], [0.5555555555555556, \"#d8576b\"], [0.6666666666666666, \"#ed7953\"], [0.7777777777777778, \"#fb9f3a\"], [0.8888888888888888, \"#fdca26\"], [1.0, \"#f0f921\"]], \"type\": \"heatmapgl\"}], \"histogram\": [{\"marker\": {\"colorbar\": {\"outlinewidth\": 0, \"ticks\": \"\"}}, \"type\": \"histogram\"}], \"histogram2d\": [{\"colorbar\": {\"outlinewidth\": 0, \"ticks\": \"\"}, \"colorscale\": [[0.0, \"#0d0887\"], [0.1111111111111111, \"#46039f\"], [0.2222222222222222, \"#7201a8\"], [0.3333333333333333, \"#9c179e\"], [0.4444444444444444, \"#bd3786\"], [0.5555555555555556, \"#d8576b\"], [0.6666666666666666, \"#ed7953\"], [0.7777777777777778, \"#fb9f3a\"], [0.8888888888888888, \"#fdca26\"], [1.0, \"#f0f921\"]], \"type\": \"histogram2d\"}], \"histogram2dcontour\": [{\"colorbar\": {\"outlinewidth\": 0, \"ticks\": \"\"}, \"colorscale\": [[0.0, \"#0d0887\"], [0.1111111111111111, \"#46039f\"], [0.2222222222222222, \"#7201a8\"], [0.3333333333333333, \"#9c179e\"], [0.4444444444444444, \"#bd3786\"], [0.5555555555555556, \"#d8576b\"], [0.6666666666666666, \"#ed7953\"], [0.7777777777777778, \"#fb9f3a\"], [0.8888888888888888, \"#fdca26\"], [1.0, \"#f0f921\"]], \"type\": \"histogram2dcontour\"}], \"mesh3d\": [{\"colorbar\": {\"outlinewidth\": 0, \"ticks\": \"\"}, \"type\": \"mesh3d\"}], \"parcoords\": [{\"line\": {\"colorbar\": {\"outlinewidth\": 0, \"ticks\": \"\"}}, \"type\": \"parcoords\"}], \"pie\": [{\"automargin\": true, \"type\": \"pie\"}], \"scatter\": [{\"marker\": {\"colorbar\": {\"outlinewidth\": 0, \"ticks\": \"\"}}, \"type\": \"scatter\"}], \"scatter3d\": [{\"line\": {\"colorbar\": {\"outlinewidth\": 0, \"ticks\": \"\"}}, \"marker\": {\"colorbar\": {\"outlinewidth\": 0, \"ticks\": \"\"}}, \"type\": \"scatter3d\"}], \"scattercarpet\": [{\"marker\": {\"colorbar\": {\"outlinewidth\": 0, \"ticks\": \"\"}}, \"type\": \"scattercarpet\"}], \"scattergeo\": [{\"marker\": {\"colorbar\": {\"outlinewidth\": 0, \"ticks\": \"\"}}, \"type\": \"scattergeo\"}], \"scattergl\": [{\"marker\": {\"colorbar\": {\"outlinewidth\": 0, \"ticks\": \"\"}}, \"type\": \"scattergl\"}], \"scattermapbox\": [{\"marker\": {\"colorbar\": {\"outlinewidth\": 0, \"ticks\": \"\"}}, \"type\": \"scattermapbox\"}], \"scatterpolar\": [{\"marker\": {\"colorbar\": {\"outlinewidth\": 0, \"ticks\": \"\"}}, \"type\": \"scatterpolar\"}], \"scatterpolargl\": [{\"marker\": {\"colorbar\": {\"outlinewidth\": 0, \"ticks\": \"\"}}, \"type\": \"scatterpolargl\"}], \"scatterternary\": [{\"marker\": {\"colorbar\": {\"outlinewidth\": 0, \"ticks\": \"\"}}, \"type\": \"scatterternary\"}], \"surface\": [{\"colorbar\": {\"outlinewidth\": 0, \"ticks\": \"\"}, \"colorscale\": [[0.0, \"#0d0887\"], [0.1111111111111111, \"#46039f\"], [0.2222222222222222, \"#7201a8\"], [0.3333333333333333, \"#9c179e\"], [0.4444444444444444, \"#bd3786\"], [0.5555555555555556, \"#d8576b\"], [0.6666666666666666, \"#ed7953\"], [0.7777777777777778, \"#fb9f3a\"], [0.8888888888888888, \"#fdca26\"], [1.0, \"#f0f921\"]], \"type\": \"surface\"}], \"table\": [{\"cells\": {\"fill\": {\"color\": \"#EBF0F8\"}, \"line\": {\"color\": \"white\"}}, \"header\": {\"fill\": {\"color\": \"#C8D4E3\"}, \"line\": {\"color\": \"white\"}}, \"type\": \"table\"}]}, \"layout\": {\"annotationdefaults\": {\"arrowcolor\": \"#2a3f5f\", \"arrowhead\": 0, \"arrowwidth\": 1}, \"coloraxis\": {\"colorbar\": {\"outlinewidth\": 0, \"ticks\": \"\"}}, \"colorscale\": {\"diverging\": [[0, \"#8e0152\"], [0.1, \"#c51b7d\"], [0.2, \"#de77ae\"], [0.3, \"#f1b6da\"], [0.4, \"#fde0ef\"], [0.5, \"#f7f7f7\"], [0.6, \"#e6f5d0\"], [0.7, \"#b8e186\"], [0.8, \"#7fbc41\"], [0.9, \"#4d9221\"], [1, \"#276419\"]], \"sequential\": [[0.0, \"#0d0887\"], [0.1111111111111111, \"#46039f\"], [0.2222222222222222, \"#7201a8\"], [0.3333333333333333, \"#9c179e\"], [0.4444444444444444, \"#bd3786\"], [0.5555555555555556, \"#d8576b\"], [0.6666666666666666, \"#ed7953\"], [0.7777777777777778, \"#fb9f3a\"], [0.8888888888888888, \"#fdca26\"], [1.0, \"#f0f921\"]], \"sequentialminus\": [[0.0, \"#0d0887\"], [0.1111111111111111, \"#46039f\"], [0.2222222222222222, \"#7201a8\"], [0.3333333333333333, \"#9c179e\"], [0.4444444444444444, \"#bd3786\"], [0.5555555555555556, \"#d8576b\"], [0.6666666666666666, \"#ed7953\"], [0.7777777777777778, \"#fb9f3a\"], [0.8888888888888888, \"#fdca26\"], [1.0, \"#f0f921\"]]}, \"colorway\": [\"#636efa\", \"#EF553B\", \"#00cc96\", \"#ab63fa\", \"#FFA15A\", \"#19d3f3\", \"#FF6692\", \"#B6E880\", \"#FF97FF\", \"#FECB52\"], \"font\": {\"color\": \"#2a3f5f\"}, \"geo\": {\"bgcolor\": \"white\", \"lakecolor\": \"white\", \"landcolor\": \"#E5ECF6\", \"showlakes\": true, \"showland\": true, \"subunitcolor\": \"white\"}, \"hoverlabel\": {\"align\": \"left\"}, \"hovermode\": \"closest\", \"mapbox\": {\"style\": \"light\"}, \"paper_bgcolor\": \"white\", \"plot_bgcolor\": \"#E5ECF6\", \"polar\": {\"angularaxis\": {\"gridcolor\": \"white\", \"linecolor\": \"white\", \"ticks\": \"\"}, \"bgcolor\": \"#E5ECF6\", \"radialaxis\": {\"gridcolor\": \"white\", \"linecolor\": \"white\", \"ticks\": \"\"}}, \"scene\": {\"xaxis\": {\"backgroundcolor\": \"#E5ECF6\", \"gridcolor\": \"white\", \"gridwidth\": 2, \"linecolor\": \"white\", \"showbackground\": true, \"ticks\": \"\", \"zerolinecolor\": \"white\"}, \"yaxis\": {\"backgroundcolor\": \"#E5ECF6\", \"gridcolor\": \"white\", \"gridwidth\": 2, \"linecolor\": \"white\", \"showbackground\": true, \"ticks\": \"\", \"zerolinecolor\": \"white\"}, \"zaxis\": {\"backgroundcolor\": \"#E5ECF6\", \"gridcolor\": \"white\", \"gridwidth\": 2, \"linecolor\": \"white\", \"showbackground\": true, \"ticks\": \"\", \"zerolinecolor\": \"white\"}}, \"shapedefaults\": {\"line\": {\"color\": \"#2a3f5f\"}}, \"ternary\": {\"aaxis\": {\"gridcolor\": \"white\", \"linecolor\": \"white\", \"ticks\": \"\"}, \"baxis\": {\"gridcolor\": \"white\", \"linecolor\": \"white\", \"ticks\": \"\"}, \"bgcolor\": \"#E5ECF6\", \"caxis\": {\"gridcolor\": \"white\", \"linecolor\": \"white\", \"ticks\": \"\"}}, \"title\": {\"x\": 0.05}, \"xaxis\": {\"automargin\": true, \"gridcolor\": \"white\", \"linecolor\": \"white\", \"ticks\": \"\", \"title\": {\"standoff\": 15}, \"zerolinecolor\": \"white\", \"zerolinewidth\": 2}, \"yaxis\": {\"automargin\": true, \"gridcolor\": \"white\", \"linecolor\": \"white\", \"ticks\": \"\", \"title\": {\"standoff\": 15}, \"zerolinecolor\": \"white\", \"zerolinewidth\": 2}}}, \"xaxis\": {\"anchor\": \"y\", \"domain\": [0.0, 0.45]}, \"xaxis2\": {\"anchor\": \"y2\", \"domain\": [0.55, 1.0]}, \"xaxis3\": {\"anchor\": \"y3\", \"domain\": [0.0, 0.45]}, \"xaxis4\": {\"anchor\": \"y4\", \"domain\": [0.55, 1.0]}, \"xaxis5\": {\"anchor\": \"y5\", \"domain\": [0.0, 0.45]}, \"xaxis6\": {\"anchor\": \"y6\", \"domain\": [0.55, 1.0]}, \"xaxis7\": {\"anchor\": \"y7\", \"domain\": [0.0, 0.45]}, \"xaxis8\": {\"anchor\": \"y8\", \"domain\": [0.55, 1.0]}, \"yaxis\": {\"anchor\": \"x\", \"domain\": [0.80625, 1.0]}, \"yaxis2\": {\"anchor\": \"x2\", \"domain\": [0.80625, 1.0]}, \"yaxis3\": {\"anchor\": \"x3\", \"domain\": [0.5375, 0.73125]}, \"yaxis4\": {\"anchor\": \"x4\", \"domain\": [0.5375, 0.73125]}, \"yaxis5\": {\"anchor\": \"x5\", \"domain\": [0.26875, 0.4625]}, \"yaxis6\": {\"anchor\": \"x6\", \"domain\": [0.26875, 0.4625]}, \"yaxis7\": {\"anchor\": \"x7\", \"domain\": [0.0, 0.19375]}, \"yaxis8\": {\"anchor\": \"x8\", \"domain\": [0.0, 0.19375]}},\n",
              "                        {\"responsive\": true}\n",
              "                    ).then(function(){\n",
              "                            \n",
              "var gd = document.getElementById('e9337f74-aa73-4aa6-8544-f0118d7ebbf4');\n",
              "var x = new MutationObserver(function (mutations, observer) {{\n",
              "        var display = window.getComputedStyle(gd).display;\n",
              "        if (!display || display === 'none') {{\n",
              "            console.log([gd, 'removed!']);\n",
              "            Plotly.purge(gd);\n",
              "            observer.disconnect();\n",
              "        }}\n",
              "}});\n",
              "\n",
              "// Listen for the removal of the full notebook cells\n",
              "var notebookContainer = gd.closest('#notebook-container');\n",
              "if (notebookContainer) {{\n",
              "    x.observe(notebookContainer, {childList: true});\n",
              "}}\n",
              "\n",
              "// Listen for the clearing of the current output cell\n",
              "var outputEl = gd.closest('.output');\n",
              "if (outputEl) {{\n",
              "    x.observe(outputEl, {childList: true});\n",
              "}}\n",
              "\n",
              "                        })\n",
              "                };\n",
              "                \n",
              "            </script>\n",
              "        </div>\n",
              "</body>\n",
              "</html>"
            ]
          },
          "metadata": {
            "tags": []
          }
        }
      ]
    },
    {
      "cell_type": "markdown",
      "metadata": {
        "id": "8SCt1IZSpqrs"
      },
      "source": [
        "From the box plot outputted above, we can observe that all the data set are rightly skewed and for the variables *new_deaths,new recover and new cases* there exists some outliers on the larger end. However, these outliers does not exist as we look at the corresponding smoothed version. As these outliers reconciles data from previous days and is not incorrect, we can keep this entry in the dataset. Number of cases on a given day does not necessarily represent the actual number on that date since it has a long reporting chain, both large and negative values can be made to a country's entire time series to correct values retrospectively.This is just an example of how time variation and delays occur when studying an ongoing pandemic with information provided by https://github.com/owid/covid-19-data/tree/master/public/data (Our World in Data Source)"
      ]
    },
    {
      "cell_type": "markdown",
      "metadata": {
        "id": "wtERJW69iaRB"
      },
      "source": [
        "## Prepare data for succeeding process notebooks\n",
        "\n",
        "To eliminate duplicated codes for data cleaning and transforming in the succeeding process notebooks. We will create csv files for the cleaned data sets ready for the group to import and conduct further analysis.\n",
        "\n",
        "When creating the csv files we will intentionally remove. the index column since we noticed that this would cause a duplicate 'unnamed' column with reading the files in."
      ]
    },
    {
      "cell_type": "code",
      "metadata": {
        "id": "Ar-A9SWV7dwB",
        "outputId": "926f8660-51cf-47c1-f9ed-159c4807abcd",
        "colab": {
          "base_uri": "https://localhost:8080/",
          "height": 69
        }
      },
      "source": [
        "covid.to_csv('covid.csv', index=False) \n",
        "files.download('covid.csv')\n",
        "\n",
        "estimate.to_csv('estimate.csv', index=False) \n",
        "files.download('estimate.csv')\n",
        "yyg.to_csv('yyg.csv', index=False) \n",
        "files.download('yyg.csv')\n",
        "ishtm.to_csv('ishtm.csv', index=False) \n",
        "files.download('ishtm.csv')\n",
        "icl.to_csv('icl.csv', index=False) \n",
        "files.download('icl.csv')\n",
        "ihme.to_csv('ihme.csv', index=False) \n",
        "files.download('ihme.csv')"
      ],
      "execution_count": 29,
      "outputs": [
        {
          "output_type": "display_data",
          "data": {
            "application/javascript": [
              "\n",
              "    async function download(id, filename, size) {\n",
              "      if (!google.colab.kernel.accessAllowed) {\n",
              "        return;\n",
              "      }\n",
              "      const div = document.createElement('div');\n",
              "      const label = document.createElement('label');\n",
              "      label.textContent = `Downloading \"${filename}\": `;\n",
              "      div.appendChild(label);\n",
              "      const progress = document.createElement('progress');\n",
              "      progress.max = size;\n",
              "      div.appendChild(progress);\n",
              "      document.body.appendChild(div);\n",
              "\n",
              "      const buffers = [];\n",
              "      let downloaded = 0;\n",
              "\n",
              "      const channel = await google.colab.kernel.comms.open(id);\n",
              "      // Send a message to notify the kernel that we're ready.\n",
              "      channel.send({})\n",
              "\n",
              "      for await (const message of channel.messages) {\n",
              "        // Send a message to notify the kernel that we're ready.\n",
              "        channel.send({})\n",
              "        if (message.buffers) {\n",
              "          for (const buffer of message.buffers) {\n",
              "            buffers.push(buffer);\n",
              "            downloaded += buffer.byteLength;\n",
              "            progress.value = downloaded;\n",
              "          }\n",
              "        }\n",
              "      }\n",
              "      const blob = new Blob(buffers, {type: 'application/binary'});\n",
              "      const a = document.createElement('a');\n",
              "      a.href = window.URL.createObjectURL(blob);\n",
              "      a.download = filename;\n",
              "      div.appendChild(a);\n",
              "      a.click();\n",
              "      div.remove();\n",
              "    }\n",
              "  "
            ],
            "text/plain": [
              "<IPython.core.display.Javascript object>"
            ]
          },
          "metadata": {
            "tags": []
          }
        },
        {
          "output_type": "display_data",
          "data": {
            "application/javascript": [
              "download(\"download_2ee37a24-f9d7-4d4e-b736-c42adbbd878d\", \"covid.csv\", 668083)"
            ],
            "text/plain": [
              "<IPython.core.display.Javascript object>"
            ]
          },
          "metadata": {
            "tags": []
          }
        },
        {
          "output_type": "execute_result",
          "data": {
            "application/vnd.google.colaboratory.intrinsic+json": {
              "type": "string"
            },
            "text/plain": [
              "\"\\nestimate.to_csv('estimate.csv', index=False) \\nfiles.download('estimate.csv')\\nyyg.to_csv('yyg.csv', index=False) \\nfiles.download('yyg.csv')\\nishtm.to_csv('ishtm.csv', index=False) \\nfiles.download('ishtm.csv')\\nicl.to_csv('icl.csv', index=False) \\nfiles.download('icl.csv')\\nihme.to_csv('ihme.csv', index=False) \\nfiles.download('ihme.csv')\""
            ]
          },
          "metadata": {
            "tags": []
          },
          "execution_count": 29
        }
      ]
    },
    {
      "cell_type": "markdown",
      "metadata": {
        "id": "Eqd81ctoCfvZ"
      },
      "source": [
        "As shown above, 5 cleaned files have been created and downloaded. These will be uploaded to Github. Note that this method violates the aim of preserving immutability of the data, hence we will only be temporary doing this, for the final product notebook this step will be eliminated to reduce the risk of changing the data sets and eliminate the uncertainties."
      ]
    }
  ]
}