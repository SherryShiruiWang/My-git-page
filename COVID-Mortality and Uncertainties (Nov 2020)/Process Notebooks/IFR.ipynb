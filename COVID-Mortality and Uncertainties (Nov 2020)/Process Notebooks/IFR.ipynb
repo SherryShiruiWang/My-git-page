{
 "cells": [
  {
   "cell_type": "markdown",
   "metadata": {},
   "source": [
    "# **Infection Fatality Rate Process Notebook**\n",
    "\n",
    "## Author: Zehao Zhang\n",
    "## Date: 10th Nov"
   ]
  },
  {
   "cell_type": "markdown",
   "metadata": {},
   "source": [
    "### Introduction"
   ]
  },
  {
   "cell_type": "markdown",
   "metadata": {},
   "source": [
    "The purpose of this section is to present and compare **Infection Fatality Rate(IFR)** among countries. This notebook calculate the IFR as a percentage by taking considering the average number of infections over-time using: \n",
    "$IFR=\\frac{number\\ of\\ deaths\\ from\\ COVID}{number\\ of\\ infected\\ individuals\\ from\\ COVID}*100$\n",
    "\n",
    "As models use different assumptions, if these do not hold for a specific country, the data becomes less relevant and therefore won't accurately estimate the number of infected cases.\n",
    "\n",
    "A couple of features of the models include: \n",
    "\n",
    "Imperial College London (ICL): \n",
    "* Age-structured SEIR model fouceses on low-and middle-income countries\n",
    "* Model uses age and country-specific data on demographics patterns of social contact, hospital availability and risk of hospitalisation and death\n",
    "* assumes sufficient access to healthcare\n",
    "* assumes change in transmission over time is a function of average mobility trends\n",
    "\n",
    "\n",
    "The Institute for Health Metrics and Evaluation (IHME)\n",
    "* model uses different data to simulate transmission and disease progression: mobility, social distancing policies, population density, pneumonia seasonality and death rate, air pollution, altitude, smoking rates and self-reported contacts and mask use. \n",
    "* death model assumes relationship between confirmed deaths, confirmed cases and testing levels. For example, decreasing CFR is reflective of increasing testing and shift toward testing mild or asymptomatic cases.\n",
    "\n",
    "\n",
    "Youyang Gu (YYG)\n",
    "* Model created and optimised for the US\n",
    "* assumptions on how reopening will affect social distancing and ultimately transmission. \n",
    "\n",
    "\n",
    "The London School of Hydiene & Tropicala Medicine (LSHTM)\n",
    "* assumes delay adjusted CFR of 1.4% baseline that does not account for different age distributions outside China. This means there is an overestimation for younger populations and underestimation in countries with older populations. "
   ]
  },
  {
   "cell_type": "markdown",
   "metadata": {},
   "source": [
    "### Import Libraries\n",
    "The code below imports essential packages in order to conduct such analysis."
   ]
  },
  {
   "cell_type": "code",
   "execution_count": 1,
   "metadata": {},
   "outputs": [],
   "source": [
    "import pandas as pd\n",
    "%matplotlib inline\n",
    "import matplotlib.pyplot as plt\n",
    "import numpy as np\n",
    "import seaborn as sns\n",
    "import plotly.express as px\n",
    "import plotly.graph_objects as go\n",
    "import datetime\n",
    "import io\n",
    "import plotly.io as pio\n",
    "pio.renderers.default = \"png\"\n",
    "pd.options.mode.chained_assignment = None\n",
    "from math import log10, floor\n",
    "import sympy as sp \n",
    "pd.options.mode.chained_assignment = None \n",
    "from sklearn.linear_model import LinearRegression"
   ]
  },
  {
   "cell_type": "markdown",
   "metadata": {},
   "source": [
    "The libraries have been imported in the code above.\n",
    "\n",
    "Now we need to install Orca package, it converts the interactive plotly graphs into static images, so that the plotly charts are able to display when downloaded either in pdf or ipynb files when uploaded into Github. This package installation is retreived from: https://plotly.com/python/orca-management/"
   ]
  },
  {
   "cell_type": "code",
   "execution_count": 2,
   "metadata": {},
   "outputs": [
    {
     "data": {
      "text/plain": [
       "'!pip install plotly>=4.7.1\\n!wget https://github.com/plotly/orca/releases/download/v1.2.1/orca-1.2.1-x86_64.AppImage -O /usr/local/bin/orca\\n!chmod +x /usr/local/bin/orca\\n!apt-get install xvfb libgtk2.0-0 libgconf-2-4\\n'"
      ]
     },
     "execution_count": 2,
     "metadata": {},
     "output_type": "execute_result"
    }
   ],
   "source": [
    "'''!pip install plotly>=4.7.1\n",
    "!wget https://github.com/plotly/orca/releases/download/v1.2.1/orca-1.2.1-x86_64.AppImage -O /usr/local/bin/orca\n",
    "!chmod +x /usr/local/bin/orca\n",
    "!apt-get install xvfb libgtk2.0-0 libgconf-2-4\n",
    "'''"
   ]
  },
  {
   "cell_type": "markdown",
   "metadata": {},
   "source": [
    "All required libraies and packages are installed in the section above. Now we can continue with reading in all the raw data that will be used in the following analysis."
   ]
  },
  {
   "cell_type": "markdown",
   "metadata": {},
   "source": [
    "## Load in Datasets\n",
    "\n",
    "\n",
    "The code below lists the countries of interest: United States, India, Russia, Brazil, South Africa, Australia (one from each continent). The purpose of this is to assist with further analysis by having the names of the countries stored as a variable and therefore reducing any repitition."
   ]
  },
  {
   "cell_type": "code",
   "execution_count": 3,
   "metadata": {},
   "outputs": [],
   "source": [
    "countries=['Australia', 'Brazil', 'India', 'Russia', 'South Africa', 'United States']"
   ]
  },
  {
   "cell_type": "markdown",
   "metadata": {},
   "source": [
    "The code below lists the countries of interest: United States, India, Russia, Brazil, South Africa, Australia (one from each continent). The purpose of this is to assist with further analysis by having the names of the countries stored as a variable and therefore reducing any repitition."
   ]
  },
  {
   "cell_type": "code",
   "execution_count": 4,
   "metadata": {},
   "outputs": [],
   "source": [
    "# loads different datasets\n",
    "covid=pd.read_csv(\"https://raw.github.sydney.edu.au/swan9801/R13B-Group4-COVID/master/Process%20Notebooks/Cleaned%20data/covid%20(1).csv?token=AAAA4MH4KB7QXXXTG7OJUZ27XTI2O\")\n",
    "estimate=pd.read_csv(\"https://raw.github.sydney.edu.au/swan9801/R13B-Group4-COVID/master/Process%20Notebooks/Cleaned%20data/estimate.csv?token=AAAA4MGMYBOTETS4QHKOEES7XTI42\")\n",
    "icl = pd.read_csv(\"https://raw.github.sydney.edu.au/swan9801/R13B-Group4-COVID/master/Process%20Notebooks/Cleaned%20data/icl.csv?token=AAAA4MAF64ULHGF6T6EDYZC7XTI6S\")\n",
    "ihme=pd.read_csv(\"https://raw.github.sydney.edu.au/swan9801/R13B-Group4-COVID/master/Process%20Notebooks/Cleaned%20data/ihme.csv?token=AAAA4MDYNXHI262IKQQ35727XTI7U\")\n",
    "ishtm = pd.read_csv(\"https://raw.github.sydney.edu.au/swan9801/R13B-Group4-COVID/master/Process%20Notebooks/Cleaned%20data/ishtm.csv?token=AAAA4MAQEQVPHTLTD74IM3K7XTJAY\")\n",
    "yyg = pd.read_csv(\"https://raw.github.sydney.edu.au/swan9801/R13B-Group4-COVID/master/Process%20Notebooks/Cleaned%20data/yyg.csv?token=AAAA4MEVYX4T4VUQOS4GACS7XTJBS\")"
   ]
  },
  {
   "cell_type": "markdown",
   "metadata": {},
   "source": [
    "From our previous study, we have already find the most suitable model is the model of Institute for Health Metrics and Evaluation for each country. The code below is to select the data seperately from different model datasets."
   ]
  },
  {
   "cell_type": "code",
   "execution_count": 5,
   "metadata": {},
   "outputs": [],
   "source": [
    "# ihme model for India\n",
    "ihme_india=ihme[ihme[\"Entity\"]==\"India\"]\n",
    "ihme_india['Date']=pd.to_datetime(ihme_india['Date'], errors='ignore')\n",
    "\n",
    "# ihme model for Brazil\n",
    "ihme_brazil=ihme[ihme[\"Entity\"]==\"Brazil\"]\n",
    "ihme_brazil['Date']=pd.to_datetime(ihme_brazil['Date'], errors='ignore')\n",
    "\n",
    "# ihme model for US\n",
    "ihme_brazil=ihme[ihme[\"Entity\"]==\"United States\"]\n",
    "ihme_brazil['Date']=pd.to_datetime(ihme_brazil['Date'], errors='ignore')\n",
    "\n",
    "# ihme model for South Africa\n",
    "ihme_sa = ihme[ihme[\"Entity\"] == \"South Africa\"]\n",
    "ihme_sa['Date']=pd.to_datetime(ihme_sa['Date'], errors='ignore')\n",
    "\n",
    "# ihme model for Russia\n",
    "ihme_ru = ihme[ihme['Entity'] == 'Russia']\n",
    "ihme_ru['Date']=pd.to_datetime(ihme_ru['Date'], errors='ignore')\n",
    "\n",
    "# ihme model for Australia\n",
    "ihme_au = ihme[ihme[\"Entity\"] == \"Australia\"]\n",
    "ihme_au['Date']=pd.to_datetime(ihme_au['Date'], errors='ignore')"
   ]
  },
  {
   "cell_type": "markdown",
   "metadata": {},
   "source": [
    "Now we can use variables to access model datasets in different countries."
   ]
  },
  {
   "cell_type": "code",
   "execution_count": 6,
   "metadata": {},
   "outputs": [],
   "source": [
    "# Different Country\n",
    "india = covid[covid[\"location\"]==\"India\"]\n",
    "brazil = covid[covid[\"location\"]==\"Brazil\"]\n",
    "usa= covid.loc[covid['location'] == \"United States\"]\n",
    "sa = covid[covid[\"location\"]==\"South Africa\"]\n",
    "russia = covid[covid[\"location\"]==\"Russia\"]\n",
    "australia = covid[covid[\"location\"]==\"Australia\"]"
   ]
  },
  {
   "cell_type": "markdown",
   "metadata": {},
   "source": [
    "We can visualise this model and the 95% uncertainity interval with the confirmed cases. The code below plots the confirmed cases, the mean estimated infections and the lower and upper bounds of these estimations on the same plot."
   ]
  },
  {
   "cell_type": "markdown",
   "metadata": {},
   "source": [
    "## Plots of Infection Estimates"
   ]
  },
  {
   "cell_type": "markdown",
   "metadata": {},
   "source": [
    "Firstly, we use a list to set all targets countryies into a group and give a unique colour for each country. Next, 'plot_estimate' function is implemented to draw plots of infection estimates for each countries."
   ]
  },
  {
   "cell_type": "code",
   "execution_count": 7,
   "metadata": {},
   "outputs": [],
   "source": [
    "# Set all targets countries as a group\n",
    "countries=['Australia', 'Brazil', 'India', 'Russia', 'South Africa', 'United States']\n",
    "# Set unique colours for each country\n",
    "dict_colours={\"Australia\":\"gold\",\"Brazil\":\"forestgreen\",\"India\":\"tomato\",\"Russia\":\"crimson\",\"South Africa\":\"mediumpurple\",\"United States\":\"cyan\"}\n",
    "# This function is used to plotting infection estimates for each country.\n",
    "def plot_estimate(country):\n",
    "    model_data = ihme\n",
    "    model_country = model_data[model_data[\"Entity\"]==country]\n",
    "    country_colour = dict_colours[country]\n",
    "    fig = go.Figure()\n",
    "    fig.add_trace(go.Scatter(x=model_country[\"Date\"], \n",
    "                             y=model_country[\"ihme_mean\"],\n",
    "                             line=dict(color=country_colour, width=3), name=\"Estimated using IHME model with 95% CI \"))\n",
    "\n",
    "    fig.add_trace(go.Scatter(x=model_country[\"Date\"], \n",
    "                             y=model_country[\"ihme_lower\"],\n",
    "                             line=dict(color='grey', width=0.5), showlegend=False))\n",
    "\n",
    "    fig.add_trace(go.Scatter(x=model_country[\"Date\"], \n",
    "                             y=model_country[\"ihme_upper\"],\n",
    "                             line=dict(color='grey', width=0.5),\n",
    "                             fillcolor=\"rgba(0,40,100,0.2)\", fill = 'tonexty',showlegend=False))\n",
    "    \n",
    "    fig.add_trace(go.Scatter(x=model_country[\"Date\"], \n",
    "                             y=model_country[\"daily_new_confirmed\"],\n",
    "                             line=dict(color=country_colour, width=3,dash = \"dot\"), name=\"Confirmed\"))\n",
    "    fig.update_xaxes(title_text=\"Date\",tickangle = 290)\n",
    "    fig.update_yaxes(title_text=\"Number of Infections\")\n",
    "    fig.update_layout(\n",
    "        title={\n",
    "            'text': \"Average daily infections using IHME model for {}\".format(country),\n",
    "            'y':0.95,\n",
    "            'x':0.5,\n",
    "            'xanchor': 'center',\n",
    "            'yanchor': 'top'})\n",
    "    fig.show()\n"
   ]
  },
  {
   "cell_type": "markdown",
   "metadata": {},
   "source": [
    "As the reminder saying, enter the name of the country in order to see the exclusive **Average daily infections using IHME model chart** of this country."
   ]
  },
  {
   "cell_type": "code",
   "execution_count": 8,
   "metadata": {
    "scrolled": true
   },
   "outputs": [
    {
     "name": "stdout",
     "output_type": "stream",
     "text": [
      "Which country do you want to view? Australia\n"
     ]
    },
    {
     "data": {
      "image/png": "[encoded data removed]"
     },
     "metadata": {},
     "output_type": "display_data"
    }
   ],
   "source": [
    "target = input(\"Which country do you want to view? \")\n",
    "plot_estimate(target)"
   ]
  },
  {
   "cell_type": "markdown",
   "metadata": {},
   "source": [
    "Evidently, the number of infections outweighs the confirmed cases and demonstrates the significance it plays in calculating the IFR. While the total deaths are still underestimated, the CFR calculated is generally an overestimation of the death rate and is therefore incorrect in explaining how deadly COVID-19 is. \n",
    "\n",
    "## Calculate IFR\n",
    "\n",
    "The code below creates a function that calculates the IFR using one input, the name of the country. Embeded in the function, `calculate_IFR` is another function called `round_to_1` that ensures that that the uncertainity is written to 1 significant figure. In science, when writing a `value ± uncertainity`, the `uncertainity` must be written to 1 significant figure and the `value` to the same number of decimal places as the `uncertainity`. The function below accounts for this format and returns the the IFR and its uncertainty for a given country."
   ]
  },
  {
   "cell_type": "code",
   "execution_count": 9,
   "metadata": {},
   "outputs": [],
   "source": [
    "# This function is used to calculate IFR for each country.\n",
    "def calculate_IFR(country):\n",
    "    model_data=ihme\n",
    "    covid_country=covid[covid[\"location\"]==country]\n",
    "    model_country=model_data[model_data[\"Entity\"]==country]\n",
    "\n",
    "    ifr_model=covid_country[\"total_deaths\"].max()*100/model_country[\"ihme_mean\"].sum()\n",
    "    ifr_model_upper=covid_country[\"total_deaths\"].max()/model_country[\"ihme_upper\"].sum()\n",
    "    ifr_model_lower=covid_country[\"total_deaths\"].max()/model_country[\"ihme_lower\"].sum()\n",
    "    error_range=abs(ifr_model_upper-ifr_model_lower)*100/2\n",
    "    \n",
    "    def round_to_1(x):\n",
    "        return round(x, -int(floor(log10(abs(x)))))\n",
    "    \n",
    "    u=round_to_1(error_range)\n",
    "    dp=str(u)[::-1].find('.')\n",
    "    \n",
    "    return [round(ifr_model,dp),u]\n",
    "#     print(\"{} ± {}\".format(round(ifr_model,dp),u))"
   ]
  },
  {
   "cell_type": "markdown",
   "metadata": {},
   "source": [
    "To make it more clear, the code below aims to draw a table to show IFRs of each country with the uncertain range."
   ]
  },
  {
   "cell_type": "code",
   "execution_count": 10,
   "metadata": {},
   "outputs": [
    {
     "data": {
      "text/html": [
       "<div>\n",
       "<style scoped>\n",
       "    .dataframe tbody tr th:only-of-type {\n",
       "        vertical-align: middle;\n",
       "    }\n",
       "\n",
       "    .dataframe tbody tr th {\n",
       "        vertical-align: top;\n",
       "    }\n",
       "\n",
       "    .dataframe thead th {\n",
       "        text-align: right;\n",
       "    }\n",
       "</style>\n",
       "<table border=\"1\" class=\"dataframe\">\n",
       "  <thead>\n",
       "    <tr style=\"text-align: right;\">\n",
       "      <th></th>\n",
       "      <th>location</th>\n",
       "      <th>IFR</th>\n",
       "      <th>Uncertainty</th>\n",
       "    </tr>\n",
       "  </thead>\n",
       "  <tbody>\n",
       "    <tr>\n",
       "      <th>0</th>\n",
       "      <td>Australia</td>\n",
       "      <td>1.10</td>\n",
       "      <td>0.30</td>\n",
       "    </tr>\n",
       "    <tr>\n",
       "      <th>1</th>\n",
       "      <td>Brazil</td>\n",
       "      <td>0.35</td>\n",
       "      <td>0.03</td>\n",
       "    </tr>\n",
       "    <tr>\n",
       "      <th>2</th>\n",
       "      <td>India</td>\n",
       "      <td>0.19</td>\n",
       "      <td>0.01</td>\n",
       "    </tr>\n",
       "    <tr>\n",
       "      <th>3</th>\n",
       "      <td>Russia</td>\n",
       "      <td>0.52</td>\n",
       "      <td>0.04</td>\n",
       "    </tr>\n",
       "    <tr>\n",
       "      <th>4</th>\n",
       "      <td>South Africa</td>\n",
       "      <td>0.28</td>\n",
       "      <td>0.06</td>\n",
       "    </tr>\n",
       "    <tr>\n",
       "      <th>5</th>\n",
       "      <td>United States</td>\n",
       "      <td>0.73</td>\n",
       "      <td>0.06</td>\n",
       "    </tr>\n",
       "  </tbody>\n",
       "</table>\n",
       "</div>"
      ],
      "text/plain": [
       "        location   IFR  Uncertainty\n",
       "0      Australia  1.10         0.30\n",
       "1         Brazil  0.35         0.03\n",
       "2          India  0.19         0.01\n",
       "3         Russia  0.52         0.04\n",
       "4   South Africa  0.28         0.06\n",
       "5  United States  0.73         0.06"
      ]
     },
     "execution_count": 10,
     "metadata": {},
     "output_type": "execute_result"
    }
   ],
   "source": [
    "# Create a new data frame\n",
    "IFR_relation=pd.DataFrame(columns=[\"location\", \"IFR\", \"Uncertainty\"])\n",
    "# Create a table\n",
    "for i in range(6):\n",
    "    IFR,U=calculate_IFR(countries[i])\n",
    "    IFR_relation.loc[i]=[countries[i],IFR,U]\n",
    "IFR_relation"
   ]
  }
 ],
 "metadata": {
  "kernelspec": {
   "display_name": "Python 3",
   "language": "python",
   "name": "python3"
  },
  "language_info": {
   "codemirror_mode": {
    "name": "ipython",
    "version": 3
   },
   "file_extension": ".py",
   "mimetype": "text/x-python",
   "name": "python",
   "nbconvert_exporter": "python",
   "pygments_lexer": "ipython3",
   "version": "3.8.3"
  }
 },
 "nbformat": 4,
 "nbformat_minor": 4
}
