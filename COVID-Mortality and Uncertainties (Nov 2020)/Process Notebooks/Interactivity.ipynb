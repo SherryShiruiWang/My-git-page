{
 "cells": [
  {
   "cell_type": "markdown",
   "metadata": {},
   "source": [
    "# Interactivity to utilise (DRAFT)"
   ]
  },
  {
   "cell_type": "markdown",
   "metadata": {},
   "source": [
    "The code loads in required libraries to run analysis"
   ]
  },
  {
   "cell_type": "code",
   "execution_count": 6,
   "metadata": {},
   "outputs": [],
   "source": [
    "import pandas as pd\n",
    "import plotly.express as px"
   ]
  },
  {
   "cell_type": "markdown",
   "metadata": {},
   "source": [
    "The code below reads in the new merged data"
   ]
  },
  {
   "cell_type": "code",
   "execution_count": 3,
   "metadata": {},
   "outputs": [],
   "source": [
    "covid_c=pd.read_csv(\"https://raw.github.sydney.edu.au/swan9801/R13B-Group4-COVID/master/Process%20Notebooks/Cleaned%20data/covid.csv?token=AAABCGDLCVHYDTIRE3MOSE27V4PII\")"
   ]
  },
  {
   "cell_type": "markdown",
   "metadata": {},
   "source": [
    "The code below sorts the data (which is currently grouped by country) by date. The purpose to help visualise the data as a function of time. "
   ]
  },
  {
   "cell_type": "code",
   "execution_count": 4,
   "metadata": {},
   "outputs": [],
   "source": [
    "covid_map=covid_c.sort_values('date')"
   ]
  },
  {
   "cell_type": "markdown",
   "metadata": {},
   "source": [
    "The code below uses plotly to plot a map of the world and colour code the new cases each day. "
   ]
  },
  {
   "cell_type": "code",
   "execution_count": 8,
   "metadata": {},
   "outputs": [
    {
     "data": {
      "application/vnd.plotly.v1+json": {
       "config": {
        "plotlyServerURL": "https://plot.ly"
       },
       "data": [
        {
         "coloraxis": "coloraxis",
         "geo": "geo",
         "hovertemplate": "<b>%{hovertext}</b><br><br>date=2020-01-22<br>iso_code=%{location}<br>new_cases=%{z}<extra></extra>",
         "hovertext": [
          "Australia",
          "India",
          "Russia",
          "United States",
          "Brazil"
         ],
         "locations": [
          "AUS",
          "IND",
          "RUS",
          "USA",
          "BRA"
         ],
         "name": "",
         "type": "choropleth",
         "z": [
          0,
          0,
          0,
          0,
          0
         ]
        }
       ],
       "frames": [
        {
         "data": [
          {
           "coloraxis": "coloraxis",
           "geo": "geo",
           "hovertemplate": "<b>%{hovertext}</b><br><br>date=2020-01-22<br>iso_code=%{location}<br>new_cases=%{z}<extra></extra>",
           "hovertext": [
            "Australia",
            "India",
            "Russia",
            "United States",
            "Brazil"
           ],
           "locations": [
            "AUS",
            "IND",
            "RUS",
            "USA",
            "BRA"
           ],
           "name": "",
           "type": "choropleth",
           "z": [
            0,
            0,
            0,
            0,
            0
           ]
          }
         ],
         "name": "2020-01-22"
        },
        {
         "data": [
          {
           "coloraxis": "coloraxis",
           "geo": "geo",
           "hovertemplate": "<b>%{hovertext}</b><br><br>date=2020-01-23<br>iso_code=%{location}<br>new_cases=%{z}<extra></extra>",
           "hovertext": [
            "United States",
            "Australia",
            "India",
            "Brazil",
            "Russia"
           ],
           "locations": [
            "USA",
            "AUS",
            "IND",
            "BRA",
            "RUS"
           ],
           "name": "",
           "type": "choropleth",
           "z": [
            0,
            0,
            0,
            0,
            0
           ]
          }
         ],
         "name": "2020-01-23"
        },
        {
         "data": [
          {
           "coloraxis": "coloraxis",
           "geo": "geo",
           "hovertemplate": "<b>%{hovertext}</b><br><br>date=2020-01-24<br>iso_code=%{location}<br>new_cases=%{z}<extra></extra>",
           "hovertext": [
            "Australia",
            "Brazil",
            "United States",
            "India",
            "Russia"
           ],
           "locations": [
            "AUS",
            "BRA",
            "USA",
            "IND",
            "RUS"
           ],
           "name": "",
           "type": "choropleth",
           "z": [
            0,
            0,
            0,
            0,
            0
           ]
          }
         ],
         "name": "2020-01-24"
        },
        {
         "data": [
          {
           "coloraxis": "coloraxis",
           "geo": "geo",
           "hovertemplate": "<b>%{hovertext}</b><br><br>date=2020-01-25<br>iso_code=%{location}<br>new_cases=%{z}<extra></extra>",
           "hovertext": [
            "Brazil",
            "India",
            "Australia",
            "United States",
            "Russia"
           ],
           "locations": [
            "BRA",
            "IND",
            "AUS",
            "USA",
            "RUS"
           ],
           "name": "",
           "type": "choropleth",
           "z": [
            0,
            0,
            1,
            1,
            0
           ]
          }
         ],
         "name": "2020-01-25"
        },
        {
         "data": [
          {
           "coloraxis": "coloraxis",
           "geo": "geo",
           "hovertemplate": "<b>%{hovertext}</b><br><br>date=2020-01-26<br>iso_code=%{location}<br>new_cases=%{z}<extra></extra>",
           "hovertext": [
            "Australia",
            "United States",
            "India",
            "Brazil",
            "Russia"
           ],
           "locations": [
            "AUS",
            "USA",
            "IND",
            "BRA",
            "RUS"
           ],
           "name": "",
           "type": "choropleth",
           "z": [
            3,
            0,
            0,
            0,
            0
           ]
          }
         ],
         "name": "2020-01-26"
        },
        {
         "data": [
          {
           "coloraxis": "coloraxis",
           "geo": "geo",
           "hovertemplate": "<b>%{hovertext}</b><br><br>date=2020-01-27<br>iso_code=%{location}<br>new_cases=%{z}<extra></extra>",
           "hovertext": [
            "India",
            "Brazil",
            "Australia",
            "Russia",
            "United States"
           ],
           "locations": [
            "IND",
            "BRA",
            "AUS",
            "RUS",
            "USA"
           ],
           "name": "",
           "type": "choropleth",
           "z": [
            0,
            0,
            0,
            0,
            3
           ]
          }
         ],
         "name": "2020-01-27"
        },
        {
         "data": [
          {
           "coloraxis": "coloraxis",
           "geo": "geo",
           "hovertemplate": "<b>%{hovertext}</b><br><br>date=2020-01-28<br>iso_code=%{location}<br>new_cases=%{z}<extra></extra>",
           "hovertext": [
            "United States",
            "Australia",
            "Brazil",
            "India",
            "Russia"
           ],
           "locations": [
            "USA",
            "AUS",
            "BRA",
            "IND",
            "RUS"
           ],
           "name": "",
           "type": "choropleth",
           "z": [
            0,
            0,
            0,
            0,
            0
           ]
          }
         ],
         "name": "2020-01-28"
        },
        {
         "data": [
          {
           "coloraxis": "coloraxis",
           "geo": "geo",
           "hovertemplate": "<b>%{hovertext}</b><br><br>date=2020-01-29<br>iso_code=%{location}<br>new_cases=%{z}<extra></extra>",
           "hovertext": [
            "United States",
            "Australia",
            "Brazil",
            "India",
            "Russia"
           ],
           "locations": [
            "USA",
            "AUS",
            "BRA",
            "IND",
            "RUS"
           ],
           "name": "",
           "type": "choropleth",
           "z": [
            0,
            0,
            0,
            0,
            0
           ]
          }
         ],
         "name": "2020-01-29"
        },
        {
         "data": [
          {
           "coloraxis": "coloraxis",
           "geo": "geo",
           "hovertemplate": "<b>%{hovertext}</b><br><br>date=2020-01-30<br>iso_code=%{location}<br>new_cases=%{z}<extra></extra>",
           "hovertext": [
            "Australia",
            "Brazil",
            "India",
            "Russia",
            "United States"
           ],
           "locations": [
            "AUS",
            "BRA",
            "IND",
            "RUS",
            "USA"
           ],
           "name": "",
           "type": "choropleth",
           "z": [
            2,
            0,
            1,
            0,
            0
           ]
          }
         ],
         "name": "2020-01-30"
        },
        {
         "data": [
          {
           "coloraxis": "coloraxis",
           "geo": "geo",
           "hovertemplate": "<b>%{hovertext}</b><br><br>date=2020-01-31<br>iso_code=%{location}<br>new_cases=%{z}<extra></extra>",
           "hovertext": [
            "United States",
            "Australia",
            "Brazil",
            "Russia",
            "India"
           ],
           "locations": [
            "USA",
            "AUS",
            "BRA",
            "RUS",
            "IND"
           ],
           "name": "",
           "type": "choropleth",
           "z": [
            1,
            1,
            0,
            0,
            0
           ]
          }
         ],
         "name": "2020-01-31"
        },
        {
         "data": [
          {
           "coloraxis": "coloraxis",
           "geo": "geo",
           "hovertemplate": "<b>%{hovertext}</b><br><br>date=2020-02-01<br>iso_code=%{location}<br>new_cases=%{z}<extra></extra>",
           "hovertext": [
            "India",
            "Brazil",
            "Australia",
            "United States",
            "Russia"
           ],
           "locations": [
            "IND",
            "BRA",
            "AUS",
            "USA",
            "RUS"
           ],
           "name": "",
           "type": "choropleth",
           "z": [
            0,
            0,
            2,
            1,
            2
           ]
          }
         ],
         "name": "2020-02-01"
        },
        {
         "data": [
          {
           "coloraxis": "coloraxis",
           "geo": "geo",
           "hovertemplate": "<b>%{hovertext}</b><br><br>date=2020-02-02<br>iso_code=%{location}<br>new_cases=%{z}<extra></extra>",
           "hovertext": [
            "Brazil",
            "Australia",
            "Russia",
            "United States",
            "India"
           ],
           "locations": [
            "BRA",
            "AUS",
            "RUS",
            "USA",
            "IND"
           ],
           "name": "",
           "type": "choropleth",
           "z": [
            0,
            2,
            0,
            1,
            1
           ]
          }
         ],
         "name": "2020-02-02"
        },
        {
         "data": [
          {
           "coloraxis": "coloraxis",
           "geo": "geo",
           "hovertemplate": "<b>%{hovertext}</b><br><br>date=2020-02-03<br>iso_code=%{location}<br>new_cases=%{z}<extra></extra>",
           "hovertext": [
            "India",
            "United States",
            "Australia",
            "Brazil",
            "Russia"
           ],
           "locations": [
            "IND",
            "USA",
            "AUS",
            "BRA",
            "RUS"
           ],
           "name": "",
           "type": "choropleth",
           "z": [
            0,
            3,
            0,
            0,
            0
           ]
          }
         ],
         "name": "2020-02-03"
        },
        {
         "data": [
          {
           "coloraxis": "coloraxis",
           "geo": "geo",
           "hovertemplate": "<b>%{hovertext}</b><br><br>date=2020-02-04<br>iso_code=%{location}<br>new_cases=%{z}<extra></extra>",
           "hovertext": [
            "Australia",
            "United States",
            "Russia",
            "Brazil",
            "India"
           ],
           "locations": [
            "AUS",
            "USA",
            "RUS",
            "BRA",
            "IND"
           ],
           "name": "",
           "type": "choropleth",
           "z": [
            0,
            0,
            0,
            0,
            1
           ]
          }
         ],
         "name": "2020-02-04"
        },
        {
         "data": [
          {
           "coloraxis": "coloraxis",
           "geo": "geo",
           "hovertemplate": "<b>%{hovertext}</b><br><br>date=2020-02-05<br>iso_code=%{location}<br>new_cases=%{z}<extra></extra>",
           "hovertext": [
            "United States",
            "Russia",
            "Australia",
            "Brazil",
            "India"
           ],
           "locations": [
            "USA",
            "RUS",
            "AUS",
            "BRA",
            "IND"
           ],
           "name": "",
           "type": "choropleth",
           "z": [
            0,
            0,
            1,
            0,
            0
           ]
          }
         ],
         "name": "2020-02-05"
        },
        {
         "data": [
          {
           "coloraxis": "coloraxis",
           "geo": "geo",
           "hovertemplate": "<b>%{hovertext}</b><br><br>date=2020-02-06<br>iso_code=%{location}<br>new_cases=%{z}<extra></extra>",
           "hovertext": [
            "Australia",
            "United States",
            "Brazil",
            "Russia",
            "India"
           ],
           "locations": [
            "AUS",
            "USA",
            "BRA",
            "RUS",
            "IND"
           ],
           "name": "",
           "type": "choropleth",
           "z": [
            1,
            1,
            0,
            0,
            0
           ]
          }
         ],
         "name": "2020-02-06"
        },
        {
         "data": [
          {
           "coloraxis": "coloraxis",
           "geo": "geo",
           "hovertemplate": "<b>%{hovertext}</b><br><br>date=2020-02-07<br>iso_code=%{location}<br>new_cases=%{z}<extra></extra>",
           "hovertext": [
            "Brazil",
            "Russia",
            "India",
            "United States",
            "South Africa",
            "Australia"
           ],
           "locations": [
            "BRA",
            "RUS",
            "IND",
            "USA",
            "ZAF",
            "AUS"
           ],
           "name": "",
           "type": "choropleth",
           "z": [
            0,
            0,
            0,
            0,
            0,
            1
           ]
          }
         ],
         "name": "2020-02-07"
        },
        {
         "data": [
          {
           "coloraxis": "coloraxis",
           "geo": "geo",
           "hovertemplate": "<b>%{hovertext}</b><br><br>date=2020-02-08<br>iso_code=%{location}<br>new_cases=%{z}<extra></extra>",
           "hovertext": [
            "Australia",
            "South Africa",
            "United States",
            "Russia",
            "Brazil",
            "India"
           ],
           "locations": [
            "AUS",
            "ZAF",
            "USA",
            "RUS",
            "BRA",
            "IND"
           ],
           "name": "",
           "type": "choropleth",
           "z": [
            0,
            0,
            0,
            0,
            0,
            0
           ]
          }
         ],
         "name": "2020-02-08"
        },
        {
         "data": [
          {
           "coloraxis": "coloraxis",
           "geo": "geo",
           "hovertemplate": "<b>%{hovertext}</b><br><br>date=2020-02-09<br>iso_code=%{location}<br>new_cases=%{z}<extra></extra>",
           "hovertext": [
            "South Africa",
            "United States",
            "Russia",
            "India",
            "Australia",
            "Brazil"
           ],
           "locations": [
            "ZAF",
            "USA",
            "RUS",
            "IND",
            "AUS",
            "BRA"
           ],
           "name": "",
           "type": "choropleth",
           "z": [
            0,
            0,
            0,
            0,
            0,
            0
           ]
          }
         ],
         "name": "2020-02-09"
        },
        {
         "data": [
          {
           "coloraxis": "coloraxis",
           "geo": "geo",
           "hovertemplate": "<b>%{hovertext}</b><br><br>date=2020-02-10<br>iso_code=%{location}<br>new_cases=%{z}<extra></extra>",
           "hovertext": [
            "India",
            "Australia",
            "Brazil",
            "United States",
            "Russia",
            "South Africa"
           ],
           "locations": [
            "IND",
            "AUS",
            "BRA",
            "USA",
            "RUS",
            "ZAF"
           ],
           "name": "",
           "type": "choropleth",
           "z": [
            0,
            0,
            0,
            0,
            0,
            0
           ]
          }
         ],
         "name": "2020-02-10"
        },
        {
         "data": [
          {
           "coloraxis": "coloraxis",
           "geo": "geo",
           "hovertemplate": "<b>%{hovertext}</b><br><br>date=2020-02-11<br>iso_code=%{location}<br>new_cases=%{z}<extra></extra>",
           "hovertext": [
            "Australia",
            "Brazil",
            "United States",
            "South Africa",
            "Russia",
            "India"
           ],
           "locations": [
            "AUS",
            "BRA",
            "USA",
            "ZAF",
            "RUS",
            "IND"
           ],
           "name": "",
           "type": "choropleth",
           "z": [
            0,
            0,
            1,
            0,
            0,
            0
           ]
          }
         ],
         "name": "2020-02-11"
        },
        {
         "data": [
          {
           "coloraxis": "coloraxis",
           "geo": "geo",
           "hovertemplate": "<b>%{hovertext}</b><br><br>date=2020-02-12<br>iso_code=%{location}<br>new_cases=%{z}<extra></extra>",
           "hovertext": [
            "Russia",
            "Brazil",
            "Australia",
            "South Africa",
            "United States",
            "India"
           ],
           "locations": [
            "RUS",
            "BRA",
            "AUS",
            "ZAF",
            "USA",
            "IND"
           ],
           "name": "",
           "type": "choropleth",
           "z": [
            0,
            0,
            0,
            0,
            0,
            0
           ]
          }
         ],
         "name": "2020-02-12"
        },
        {
         "data": [
          {
           "coloraxis": "coloraxis",
           "geo": "geo",
           "hovertemplate": "<b>%{hovertext}</b><br><br>date=2020-02-13<br>iso_code=%{location}<br>new_cases=%{z}<extra></extra>",
           "hovertext": [
            "Russia",
            "Brazil",
            "United States",
            "South Africa",
            "Australia",
            "India"
           ],
           "locations": [
            "RUS",
            "BRA",
            "USA",
            "ZAF",
            "AUS",
            "IND"
           ],
           "name": "",
           "type": "choropleth",
           "z": [
            0,
            0,
            1,
            0,
            0,
            0
           ]
          }
         ],
         "name": "2020-02-13"
        },
        {
         "data": [
          {
           "coloraxis": "coloraxis",
           "geo": "geo",
           "hovertemplate": "<b>%{hovertext}</b><br><br>date=2020-02-14<br>iso_code=%{location}<br>new_cases=%{z}<extra></extra>",
           "hovertext": [
            "United States",
            "Russia",
            "Brazil",
            "India",
            "Australia",
            "South Africa"
           ],
           "locations": [
            "USA",
            "RUS",
            "BRA",
            "IND",
            "AUS",
            "ZAF"
           ],
           "name": "",
           "type": "choropleth",
           "z": [
            1,
            0,
            0,
            0,
            1,
            0
           ]
          }
         ],
         "name": "2020-02-14"
        },
        {
         "data": [
          {
           "coloraxis": "coloraxis",
           "geo": "geo",
           "hovertemplate": "<b>%{hovertext}</b><br><br>date=2020-02-15<br>iso_code=%{location}<br>new_cases=%{z}<extra></extra>",
           "hovertext": [
            "India",
            "Russia",
            "South Africa",
            "Australia",
            "United States",
            "Brazil"
           ],
           "locations": [
            "IND",
            "RUS",
            "ZAF",
            "AUS",
            "USA",
            "BRA"
           ],
           "name": "",
           "type": "choropleth",
           "z": [
            0,
            0,
            0,
            0,
            0,
            0
           ]
          }
         ],
         "name": "2020-02-15"
        },
        {
         "data": [
          {
           "coloraxis": "coloraxis",
           "geo": "geo",
           "hovertemplate": "<b>%{hovertext}</b><br><br>date=2020-02-16<br>iso_code=%{location}<br>new_cases=%{z}<extra></extra>",
           "hovertext": [
            "India",
            "United States",
            "Brazil",
            "Australia",
            "Russia",
            "South Africa"
           ],
           "locations": [
            "IND",
            "USA",
            "BRA",
            "AUS",
            "RUS",
            "ZAF"
           ],
           "name": "",
           "type": "choropleth",
           "z": [
            0,
            0,
            0,
            0,
            0,
            0
           ]
          }
         ],
         "name": "2020-02-16"
        },
        {
         "data": [
          {
           "coloraxis": "coloraxis",
           "geo": "geo",
           "hovertemplate": "<b>%{hovertext}</b><br><br>date=2020-02-17<br>iso_code=%{location}<br>new_cases=%{z}<extra></extra>",
           "hovertext": [
            "South Africa",
            "Brazil",
            "United States",
            "Russia",
            "India",
            "Australia"
           ],
           "locations": [
            "ZAF",
            "BRA",
            "USA",
            "RUS",
            "IND",
            "AUS"
           ],
           "name": "",
           "type": "choropleth",
           "z": [
            0,
            0,
            0,
            0,
            0,
            0
           ]
          }
         ],
         "name": "2020-02-17"
        },
        {
         "data": [
          {
           "coloraxis": "coloraxis",
           "geo": "geo",
           "hovertemplate": "<b>%{hovertext}</b><br><br>date=2020-02-18<br>iso_code=%{location}<br>new_cases=%{z}<extra></extra>",
           "hovertext": [
            "India",
            "Russia",
            "South Africa",
            "Australia",
            "United States",
            "Brazil"
           ],
           "locations": [
            "IND",
            "RUS",
            "ZAF",
            "AUS",
            "USA",
            "BRA"
           ],
           "name": "",
           "type": "choropleth",
           "z": [
            0,
            0,
            0,
            0,
            0,
            0
           ]
          }
         ],
         "name": "2020-02-18"
        },
        {
         "data": [
          {
           "coloraxis": "coloraxis",
           "geo": "geo",
           "hovertemplate": "<b>%{hovertext}</b><br><br>date=2020-02-19<br>iso_code=%{location}<br>new_cases=%{z}<extra></extra>",
           "hovertext": [
            "United States",
            "South Africa",
            "Australia",
            "India",
            "Brazil",
            "Russia"
           ],
           "locations": [
            "USA",
            "ZAF",
            "AUS",
            "IND",
            "BRA",
            "RUS"
           ],
           "name": "",
           "type": "choropleth",
           "z": [
            0,
            0,
            0,
            0,
            0,
            0
           ]
          }
         ],
         "name": "2020-02-19"
        },
        {
         "data": [
          {
           "coloraxis": "coloraxis",
           "geo": "geo",
           "hovertemplate": "<b>%{hovertext}</b><br><br>date=2020-02-20<br>iso_code=%{location}<br>new_cases=%{z}<extra></extra>",
           "hovertext": [
            "United States",
            "India",
            "Russia",
            "Australia",
            "Brazil",
            "South Africa"
           ],
           "locations": [
            "USA",
            "IND",
            "RUS",
            "AUS",
            "BRA",
            "ZAF"
           ],
           "name": "",
           "type": "choropleth",
           "z": [
            0,
            0,
            0,
            0,
            0,
            0
           ]
          }
         ],
         "name": "2020-02-20"
        },
        {
         "data": [
          {
           "coloraxis": "coloraxis",
           "geo": "geo",
           "hovertemplate": "<b>%{hovertext}</b><br><br>date=2020-02-21<br>iso_code=%{location}<br>new_cases=%{z}<extra></extra>",
           "hovertext": [
            "Australia",
            "United States",
            "India",
            "Russia",
            "South Africa",
            "Brazil"
           ],
           "locations": [
            "AUS",
            "USA",
            "IND",
            "RUS",
            "ZAF",
            "BRA"
           ],
           "name": "",
           "type": "choropleth",
           "z": [
            2,
            1,
            0,
            0,
            0,
            0
           ]
          }
         ],
         "name": "2020-02-21"
        },
        {
         "data": [
          {
           "coloraxis": "coloraxis",
           "geo": "geo",
           "hovertemplate": "<b>%{hovertext}</b><br><br>date=2020-02-22<br>iso_code=%{location}<br>new_cases=%{z}<extra></extra>",
           "hovertext": [
            "Brazil",
            "Australia",
            "India",
            "Russia",
            "United States",
            "South Africa"
           ],
           "locations": [
            "BRA",
            "AUS",
            "IND",
            "RUS",
            "USA",
            "ZAF"
           ],
           "name": "",
           "type": "choropleth",
           "z": [
            0,
            4,
            0,
            0,
            19,
            0
           ]
          }
         ],
         "name": "2020-02-22"
        },
        {
         "data": [
          {
           "coloraxis": "coloraxis",
           "geo": "geo",
           "hovertemplate": "<b>%{hovertext}</b><br><br>date=2020-02-23<br>iso_code=%{location}<br>new_cases=%{z}<extra></extra>",
           "hovertext": [
            "Brazil",
            "Russia",
            "South Africa",
            "Australia",
            "United States",
            "India"
           ],
           "locations": [
            "BRA",
            "RUS",
            "ZAF",
            "AUS",
            "USA",
            "IND"
           ],
           "name": "",
           "type": "choropleth",
           "z": [
            0,
            0,
            0,
            1,
            0,
            0
           ]
          }
         ],
         "name": "2020-02-23"
        },
        {
         "data": [
          {
           "coloraxis": "coloraxis",
           "geo": "geo",
           "hovertemplate": "<b>%{hovertext}</b><br><br>date=2020-02-24<br>iso_code=%{location}<br>new_cases=%{z}<extra></extra>",
           "hovertext": [
            "Australia",
            "United States",
            "South Africa",
            "Russia",
            "Brazil",
            "India"
           ],
           "locations": [
            "AUS",
            "USA",
            "ZAF",
            "RUS",
            "BRA",
            "IND"
           ],
           "name": "",
           "type": "choropleth",
           "z": [
            0,
            0,
            0,
            0,
            0,
            0
           ]
          }
         ],
         "name": "2020-02-24"
        },
        {
         "data": [
          {
           "coloraxis": "coloraxis",
           "geo": "geo",
           "hovertemplate": "<b>%{hovertext}</b><br><br>date=2020-02-25<br>iso_code=%{location}<br>new_cases=%{z}<extra></extra>",
           "hovertext": [
            "India",
            "Russia",
            "United States",
            "Australia",
            "Brazil",
            "South Africa"
           ],
           "locations": [
            "IND",
            "RUS",
            "USA",
            "AUS",
            "BRA",
            "ZAF"
           ],
           "name": "",
           "type": "choropleth",
           "z": [
            0,
            0,
            18,
            0,
            0,
            0
           ]
          }
         ],
         "name": "2020-02-25"
        },
        {
         "data": [
          {
           "coloraxis": "coloraxis",
           "geo": "geo",
           "hovertemplate": "<b>%{hovertext}</b><br><br>date=2020-02-26<br>iso_code=%{location}<br>new_cases=%{z}<extra></extra>",
           "hovertext": [
            "Russia",
            "South Africa",
            "Brazil",
            "India",
            "Australia",
            "United States"
           ],
           "locations": [
            "RUS",
            "ZAF",
            "BRA",
            "IND",
            "AUS",
            "USA"
           ],
           "name": "",
           "type": "choropleth",
           "z": [
            0,
            0,
            1,
            0,
            0,
            0
           ]
          }
         ],
         "name": "2020-02-26"
        },
        {
         "data": [
          {
           "coloraxis": "coloraxis",
           "geo": "geo",
           "hovertemplate": "<b>%{hovertext}</b><br><br>date=2020-02-27<br>iso_code=%{location}<br>new_cases=%{z}<extra></extra>",
           "hovertext": [
            "Australia",
            "Russia",
            "Brazil",
            "South Africa",
            "United States",
            "India"
           ],
           "locations": [
            "AUS",
            "RUS",
            "BRA",
            "ZAF",
            "USA",
            "IND"
           ],
           "name": "",
           "type": "choropleth",
           "z": [
            1,
            0,
            0,
            0,
            6,
            0
           ]
          }
         ],
         "name": "2020-02-27"
        },
        {
         "data": [
          {
           "coloraxis": "coloraxis",
           "geo": "geo",
           "hovertemplate": "<b>%{hovertext}</b><br><br>date=2020-02-28<br>iso_code=%{location}<br>new_cases=%{z}<extra></extra>",
           "hovertext": [
            "United States",
            "Russia",
            "South Africa",
            "Brazil",
            "Australia",
            "India"
           ],
           "locations": [
            "USA",
            "RUS",
            "ZAF",
            "BRA",
            "AUS",
            "IND"
           ],
           "name": "",
           "type": "choropleth",
           "z": [
            1,
            0,
            0,
            0,
            0,
            0
           ]
          }
         ],
         "name": "2020-02-28"
        },
        {
         "data": [
          {
           "coloraxis": "coloraxis",
           "geo": "geo",
           "hovertemplate": "<b>%{hovertext}</b><br><br>date=2020-02-29<br>iso_code=%{location}<br>new_cases=%{z}<extra></extra>",
           "hovertext": [
            "Australia",
            "Russia",
            "South Africa",
            "United States",
            "India",
            "Brazil"
           ],
           "locations": [
            "AUS",
            "RUS",
            "ZAF",
            "USA",
            "IND",
            "BRA"
           ],
           "name": "",
           "type": "choropleth",
           "z": [
            2,
            0,
            0,
            6,
            0,
            0
           ]
          }
         ],
         "name": "2020-02-29"
        },
        {
         "data": [
          {
           "coloraxis": "coloraxis",
           "geo": "geo",
           "hovertemplate": "<b>%{hovertext}</b><br><br>date=2020-03-01<br>iso_code=%{location}<br>new_cases=%{z}<extra></extra>",
           "hovertext": [
            "Brazil",
            "Australia",
            "Russia",
            "India",
            "United States",
            "South Africa"
           ],
           "locations": [
            "BRA",
            "AUS",
            "RUS",
            "IND",
            "USA",
            "ZAF"
           ],
           "name": "",
           "type": "choropleth",
           "z": [
            1,
            1,
            0,
            0,
            3,
            0
           ]
          }
         ],
         "name": "2020-03-01"
        },
        {
         "data": [
          {
           "coloraxis": "coloraxis",
           "geo": "geo",
           "hovertemplate": "<b>%{hovertext}</b><br><br>date=2020-03-02<br>iso_code=%{location}<br>new_cases=%{z}<extra></extra>",
           "hovertext": [
            "South Africa",
            "India",
            "Australia",
            "Brazil",
            "United States",
            "Russia"
           ],
           "locations": [
            "ZAF",
            "IND",
            "AUS",
            "BRA",
            "USA",
            "RUS"
           ],
           "name": "",
           "type": "choropleth",
           "z": [
            0,
            0,
            3,
            0,
            20,
            0
           ]
          }
         ],
         "name": "2020-03-02"
        },
        {
         "data": [
          {
           "coloraxis": "coloraxis",
           "geo": "geo",
           "hovertemplate": "<b>%{hovertext}</b><br><br>date=2020-03-03<br>iso_code=%{location}<br>new_cases=%{z}<extra></extra>",
           "hovertext": [
            "Brazil",
            "United States",
            "South Africa",
            "Russia",
            "India",
            "Australia"
           ],
           "locations": [
            "BRA",
            "USA",
            "ZAF",
            "RUS",
            "IND",
            "AUS"
           ],
           "name": "",
           "type": "choropleth",
           "z": [
            0,
            14,
            0,
            1,
            2,
            4
           ]
          }
         ],
         "name": "2020-03-03"
        },
        {
         "data": [
          {
           "coloraxis": "coloraxis",
           "geo": "geo",
           "hovertemplate": "<b>%{hovertext}</b><br><br>date=2020-03-04<br>iso_code=%{location}<br>new_cases=%{z}<extra></extra>",
           "hovertext": [
            "Russia",
            "South Africa",
            "United States",
            "India",
            "Australia",
            "Brazil"
           ],
           "locations": [
            "RUS",
            "ZAF",
            "USA",
            "IND",
            "AUS",
            "BRA"
           ],
           "name": "",
           "type": "choropleth",
           "z": [
            1,
            0,
            22,
            1,
            8,
            0
           ]
          }
         ],
         "name": "2020-03-04"
        },
        {
         "data": [
          {
           "coloraxis": "coloraxis",
           "geo": "geo",
           "hovertemplate": "<b>%{hovertext}</b><br><br>date=2020-03-05<br>iso_code=%{location}<br>new_cases=%{z}<extra></extra>",
           "hovertext": [
            "India",
            "United States",
            "South Africa",
            "Australia",
            "Brazil",
            "Russia"
           ],
           "locations": [
            "IND",
            "USA",
            "ZAF",
            "AUS",
            "BRA",
            "RUS"
           ],
           "name": "",
           "type": "choropleth",
           "z": [
            22,
            34,
            0,
            11,
            1,
            0
           ]
          }
         ],
         "name": "2020-03-05"
        },
        {
         "data": [
          {
           "coloraxis": "coloraxis",
           "geo": "geo",
           "hovertemplate": "<b>%{hovertext}</b><br><br>date=2020-03-06<br>iso_code=%{location}<br>new_cases=%{z}<extra></extra>",
           "hovertext": [
            "Russia",
            "India",
            "United States",
            "South Africa",
            "Australia",
            "Brazil"
           ],
           "locations": [
            "RUS",
            "IND",
            "USA",
            "ZAF",
            "AUS",
            "BRA"
           ],
           "name": "",
           "type": "choropleth",
           "z": [
            0,
            1,
            74,
            1,
            7,
            5
           ]
          }
         ],
         "name": "2020-03-06"
        },
        {
         "data": [
          {
           "coloraxis": "coloraxis",
           "geo": "geo",
           "hovertemplate": "<b>%{hovertext}</b><br><br>date=2020-03-07<br>iso_code=%{location}<br>new_cases=%{z}<extra></extra>",
           "hovertext": [
            "India",
            "South Africa",
            "Brazil",
            "United States",
            "Russia",
            "Australia"
           ],
           "locations": [
            "IND",
            "ZAF",
            "BRA",
            "USA",
            "RUS",
            "AUS"
           ],
           "name": "",
           "type": "choropleth",
           "z": [
            2,
            0,
            5,
            105,
            6,
            4
           ]
          }
         ],
         "name": "2020-03-07"
        },
        {
         "data": [
          {
           "coloraxis": "coloraxis",
           "geo": "geo",
           "hovertemplate": "<b>%{hovertext}</b><br><br>date=2020-03-08<br>iso_code=%{location}<br>new_cases=%{z}<extra></extra>",
           "hovertext": [
            "India",
            "Brazil",
            "Russia",
            "South Africa",
            "United States",
            "Australia"
           ],
           "locations": [
            "IND",
            "BRA",
            "RUS",
            "ZAF",
            "USA",
            "AUS"
           ],
           "name": "",
           "type": "choropleth",
           "z": [
            3,
            0,
            0,
            1,
            95,
            11
           ]
          }
         ],
         "name": "2020-03-08"
        },
        {
         "data": [
          {
           "coloraxis": "coloraxis",
           "geo": "geo",
           "hovertemplate": "<b>%{hovertext}</b><br><br>date=2020-03-09<br>iso_code=%{location}<br>new_cases=%{z}<extra></extra>",
           "hovertext": [
            "Australia",
            "Brazil",
            "South Africa",
            "Russia",
            "United States",
            "India"
           ],
           "locations": [
            "AUS",
            "BRA",
            "ZAF",
            "RUS",
            "USA",
            "IND"
           ],
           "name": "",
           "type": "choropleth",
           "z": [
            6,
            12,
            1,
            0,
            121,
            0
           ]
          }
         ],
         "name": "2020-03-09"
        },
        {
         "data": [
          {
           "coloraxis": "coloraxis",
           "geo": "geo",
           "hovertemplate": "<b>%{hovertext}</b><br><br>date=2020-03-10<br>iso_code=%{location}<br>new_cases=%{z}<extra></extra>",
           "hovertext": [
            "Australia",
            "Russia",
            "Brazil",
            "India",
            "South Africa",
            "United States"
           ],
           "locations": [
            "AUS",
            "RUS",
            "BRA",
            "IND",
            "ZAF",
            "USA"
           ],
           "name": "",
           "type": "choropleth",
           "z": [
            20,
            0,
            0,
            10,
            4,
            200
           ]
          }
         ],
         "name": "2020-03-10"
        },
        {
         "data": [
          {
           "coloraxis": "coloraxis",
           "geo": "geo",
           "hovertemplate": "<b>%{hovertext}</b><br><br>date=2020-03-11<br>iso_code=%{location}<br>new_cases=%{z}<extra></extra>",
           "hovertext": [
            "India",
            "Russia",
            "United States",
            "South Africa",
            "Australia",
            "Brazil"
           ],
           "locations": [
            "IND",
            "RUS",
            "USA",
            "ZAF",
            "AUS",
            "BRA"
           ],
           "name": "",
           "type": "choropleth",
           "z": [
            6,
            0,
            271,
            0,
            12,
            9
           ]
          }
         ],
         "name": "2020-03-11"
        },
        {
         "data": [
          {
           "coloraxis": "coloraxis",
           "geo": "geo",
           "hovertemplate": "<b>%{hovertext}</b><br><br>date=2020-03-12<br>iso_code=%{location}<br>new_cases=%{z}<extra></extra>",
           "hovertext": [
            "United States",
            "Russia",
            "India",
            "Australia",
            "South Africa",
            "Brazil"
           ],
           "locations": [
            "USA",
            "RUS",
            "IND",
            "AUS",
            "ZAF",
            "BRA"
           ],
           "name": "",
           "type": "choropleth",
           "z": [
            287,
            15,
            23,
            14,
            6,
            18
           ]
          }
         ],
         "name": "2020-03-12"
        },
        {
         "data": [
          {
           "coloraxis": "coloraxis",
           "geo": "geo",
           "hovertemplate": "<b>%{hovertext}</b><br><br>date=2020-03-13<br>iso_code=%{location}<br>new_cases=%{z}<extra></extra>",
           "hovertext": [
            "United States",
            "Russia",
            "South Africa",
            "India",
            "Australia",
            "Brazil"
           ],
           "locations": [
            "USA",
            "RUS",
            "ZAF",
            "IND",
            "AUS",
            "BRA"
           ],
           "name": "",
           "type": "choropleth",
           "z": [
            351,
            5,
            4,
            2,
            30,
            25
           ]
          }
         ],
         "name": "2020-03-13"
        },
        {
         "data": [
          {
           "coloraxis": "coloraxis",
           "geo": "geo",
           "hovertemplate": "<b>%{hovertext}</b><br><br>date=2020-03-14<br>iso_code=%{location}<br>new_cases=%{z}<extra></extra>",
           "hovertext": [
            "South Africa",
            "Russia",
            "United States",
            "Brazil",
            "Australia",
            "India"
           ],
           "locations": [
            "ZAF",
            "RUS",
            "USA",
            "BRA",
            "AUS",
            "IND"
           ],
           "name": "",
           "type": "choropleth",
           "z": [
            7,
            15,
            511,
            21,
            41,
            8
           ]
          }
         ],
         "name": "2020-03-14"
        },
        {
         "data": [
          {
           "coloraxis": "coloraxis",
           "geo": "geo",
           "hovertemplate": "<b>%{hovertext}</b><br><br>date=2020-03-15<br>iso_code=%{location}<br>new_cases=%{z}<extra></extra>",
           "hovertext": [
            "South Africa",
            "India",
            "United States",
            "Australia",
            "Brazil",
            "Russia"
           ],
           "locations": [
            "ZAF",
            "IND",
            "USA",
            "AUS",
            "BRA",
            "RUS"
           ],
           "name": "",
           "type": "choropleth",
           "z": [
            0,
            7,
            777,
            52,
            23,
            14
           ]
          }
         ],
         "name": "2020-03-15"
        },
        {
         "data": [
          {
           "coloraxis": "coloraxis",
           "geo": "geo",
           "hovertemplate": "<b>%{hovertext}</b><br><br>date=2020-03-16<br>iso_code=%{location}<br>new_cases=%{z}<extra></extra>",
           "hovertext": [
            "India",
            "Australia",
            "Brazil",
            "Russia",
            "South Africa",
            "United States"
           ],
           "locations": [
            "IND",
            "AUS",
            "BRA",
            "RUS",
            "ZAF",
            "USA"
           ],
           "name": "",
           "type": "choropleth",
           "z": [
            3,
            49,
            79,
            4,
            27,
            823
           ]
          }
         ],
         "name": "2020-03-16"
        },
        {
         "data": [
          {
           "coloraxis": "coloraxis",
           "geo": "geo",
           "hovertemplate": "<b>%{hovertext}</b><br><br>date=2020-03-17<br>iso_code=%{location}<br>new_cases=%{z}<extra></extra>",
           "hovertext": [
            "Brazil",
            "Australia",
            "India",
            "South Africa",
            "United States",
            "Russia"
           ],
           "locations": [
            "BRA",
            "AUS",
            "IND",
            "ZAF",
            "USA",
            "RUS"
           ],
           "name": "",
           "type": "choropleth",
           "z": [
            34,
            77,
            32,
            11,
            887,
            30
           ]
          }
         ],
         "name": "2020-03-17"
        },
        {
         "data": [
          {
           "coloraxis": "coloraxis",
           "geo": "geo",
           "hovertemplate": "<b>%{hovertext}</b><br><br>date=2020-03-18<br>iso_code=%{location}<br>new_cases=%{z}<extra></extra>",
           "hovertext": [
            "Russia",
            "Australia",
            "South Africa",
            "India",
            "United States",
            "Brazil"
           ],
           "locations": [
            "RUS",
            "AUS",
            "ZAF",
            "IND",
            "USA",
            "BRA"
           ],
           "name": "",
           "type": "choropleth",
           "z": [
            21,
            79,
            23,
            12,
            1766,
            57
           ]
          }
         ],
         "name": "2020-03-18"
        },
        {
         "data": [
          {
           "coloraxis": "coloraxis",
           "geo": "geo",
           "hovertemplate": "<b>%{hovertext}</b><br><br>date=2020-03-19<br>iso_code=%{location}<br>new_cases=%{z}<extra></extra>",
           "hovertext": [
            "Australia",
            "Brazil",
            "South Africa",
            "United States",
            "India",
            "Russia"
           ],
           "locations": [
            "AUS",
            "BRA",
            "ZAF",
            "USA",
            "IND",
            "RUS"
           ],
           "name": "",
           "type": "choropleth",
           "z": [
            111,
            137,
            31,
            2988,
            28,
            33
           ]
          }
         ],
         "name": "2020-03-19"
        },
        {
         "data": [
          {
           "coloraxis": "coloraxis",
           "geo": "geo",
           "hovertemplate": "<b>%{hovertext}</b><br><br>date=2020-03-20<br>iso_code=%{location}<br>new_cases=%{z}<extra></extra>",
           "hovertext": [
            "India",
            "South Africa",
            "Australia",
            "Brazil",
            "Russia",
            "United States"
           ],
           "locations": [
            "IND",
            "ZAF",
            "AUS",
            "BRA",
            "RUS",
            "USA"
           ],
           "name": "",
           "type": "choropleth",
           "z": [
            26,
            34,
            144,
            193,
            52,
            4835
           ]
          }
         ],
         "name": "2020-03-20"
        },
        {
         "data": [
          {
           "coloraxis": "coloraxis",
           "geo": "geo",
           "hovertemplate": "<b>%{hovertext}</b><br><br>date=2020-03-21<br>iso_code=%{location}<br>new_cases=%{z}<extra></extra>",
           "hovertext": [
            "South Africa",
            "Brazil",
            "Australia",
            "India",
            "United States",
            "Russia"
           ],
           "locations": [
            "ZAF",
            "BRA",
            "AUS",
            "IND",
            "USA",
            "RUS"
           ],
           "name": "",
           "type": "choropleth",
           "z": [
            55,
            283,
            165,
            40,
            5374,
            54
           ]
          }
         ],
         "name": "2020-03-21"
        },
        {
         "data": [
          {
           "coloraxis": "coloraxis",
           "geo": "geo",
           "hovertemplate": "<b>%{hovertext}</b><br><br>date=2020-03-22<br>iso_code=%{location}<br>new_cases=%{z}<extra></extra>",
           "hovertext": [
            "Russia",
            "India",
            "Brazil",
            "Australia",
            "South Africa",
            "United States"
           ],
           "locations": [
            "RUS",
            "IND",
            "BRA",
            "AUS",
            "ZAF",
            "USA"
           ],
           "name": "",
           "type": "choropleth",
           "z": [
            53,
            89,
            224,
            224,
            35,
            7123
           ]
          }
         ],
         "name": "2020-03-22"
        },
        {
         "data": [
          {
           "coloraxis": "coloraxis",
           "geo": "geo",
           "hovertemplate": "<b>%{hovertext}</b><br><br>date=2020-03-23<br>iso_code=%{location}<br>new_cases=%{z}<extra></extra>",
           "hovertext": [
            "United States",
            "Australia",
            "South Africa",
            "Russia",
            "India",
            "Brazil"
           ],
           "locations": [
            "USA",
            "AUS",
            "ZAF",
            "RUS",
            "IND",
            "BRA"
           ],
           "name": "",
           "type": "choropleth",
           "z": [
            8459,
            611,
            34,
            61,
            119,
            418
           ]
          }
         ],
         "name": "2020-03-23"
        },
        {
         "data": [
          {
           "coloraxis": "coloraxis",
           "geo": "geo",
           "hovertemplate": "<b>%{hovertext}</b><br><br>date=2020-03-24<br>iso_code=%{location}<br>new_cases=%{z}<extra></extra>",
           "hovertext": [
            "South Africa",
            "Brazil",
            "Australia",
            "United States",
            "India",
            "Russia"
           ],
           "locations": [
            "ZAF",
            "BRA",
            "AUS",
            "USA",
            "IND",
            "RUS"
           ],
           "name": "",
           "type": "choropleth",
           "z": [
            128,
            345,
            114,
            11236,
            53,
            71
           ]
          }
         ],
         "name": "2020-03-24"
        },
        {
         "data": [
          {
           "coloraxis": "coloraxis",
           "geo": "geo",
           "hovertemplate": "<b>%{hovertext}</b><br><br>date=2020-03-25<br>iso_code=%{location}<br>new_cases=%{z}<extra></extra>",
           "hovertext": [
            "United States",
            "Russia",
            "South Africa",
            "India",
            "Brazil",
            "Australia"
           ],
           "locations": [
            "USA",
            "RUS",
            "ZAF",
            "IND",
            "BRA",
            "AUS"
           ],
           "name": "",
           "type": "choropleth",
           "z": [
            8789,
            57,
            155,
            70,
            310,
            600
           ]
          }
         ],
         "name": "2020-03-25"
        },
        {
         "data": [
          {
           "coloraxis": "coloraxis",
           "geo": "geo",
           "hovertemplate": "<b>%{hovertext}</b><br><br>date=2020-03-26<br>iso_code=%{location}<br>new_cases=%{z}<extra></extra>",
           "hovertext": [
            "Russia",
            "South Africa",
            "Brazil",
            "United States",
            "Australia",
            "India"
           ],
           "locations": [
            "RUS",
            "ZAF",
            "BRA",
            "USA",
            "AUS",
            "IND"
           ],
           "name": "",
           "type": "choropleth",
           "z": [
            163,
            152,
            232,
            13963,
            376,
            87
           ]
          }
         ],
         "name": "2020-03-26"
        },
        {
         "data": [
          {
           "coloraxis": "coloraxis",
           "geo": "geo",
           "hovertemplate": "<b>%{hovertext}</b><br><br>date=2020-03-27<br>iso_code=%{location}<br>new_cases=%{z}<extra></extra>",
           "hovertext": [
            "India",
            "South Africa",
            "Brazil",
            "Australia",
            "United States",
            "Russia"
           ],
           "locations": [
            "IND",
            "ZAF",
            "BRA",
            "AUS",
            "USA",
            "RUS"
           ],
           "name": "",
           "type": "choropleth",
           "z": [
            75,
            218,
            482,
            367,
            16797,
            182
           ]
          }
         ],
         "name": "2020-03-27"
        },
        {
         "data": [
          {
           "coloraxis": "coloraxis",
           "geo": "geo",
           "hovertemplate": "<b>%{hovertext}</b><br><br>date=2020-03-28<br>iso_code=%{location}<br>new_cases=%{z}<extra></extra>",
           "hovertext": [
            "Brazil",
            "United States",
            "Russia",
            "South Africa",
            "India",
            "Australia"
           ],
           "locations": [
            "BRA",
            "USA",
            "RUS",
            "ZAF",
            "IND",
            "AUS"
           ],
           "name": "",
           "type": "choropleth",
           "z": [
            502,
            18695,
            196,
            243,
            149,
            212
           ]
          }
         ],
         "name": "2020-03-28"
        },
        {
         "data": [
          {
           "coloraxis": "coloraxis",
           "geo": "geo",
           "hovertemplate": "<b>%{hovertext}</b><br><br>date=2020-03-29<br>iso_code=%{location}<br>new_cases=%{z}<extra></extra>",
           "hovertext": [
            "India",
            "United States",
            "Russia",
            "South Africa",
            "Australia",
            "Brazil"
           ],
           "locations": [
            "IND",
            "USA",
            "RUS",
            "ZAF",
            "AUS",
            "BRA"
           ],
           "name": "",
           "type": "choropleth",
           "z": [
            106,
            19979,
            228,
            17,
            431,
            487
           ]
          }
         ],
         "name": "2020-03-29"
        },
        {
         "data": [
          {
           "coloraxis": "coloraxis",
           "geo": "geo",
           "hovertemplate": "<b>%{hovertext}</b><br><br>date=2020-03-30<br>iso_code=%{location}<br>new_cases=%{z}<extra></extra>",
           "hovertext": [
            "India",
            "Brazil",
            "Australia",
            "South Africa",
            "United States",
            "Russia"
           ],
           "locations": [
            "IND",
            "BRA",
            "AUS",
            "ZAF",
            "USA",
            "RUS"
           ],
           "name": "",
           "type": "choropleth",
           "z": [
            92,
            352,
            284,
            93,
            18360,
            270
           ]
          }
         ],
         "name": "2020-03-30"
        },
        {
         "data": [
          {
           "coloraxis": "coloraxis",
           "geo": "geo",
           "hovertemplate": "<b>%{hovertext}</b><br><br>date=2020-03-31<br>iso_code=%{location}<br>new_cases=%{z}<extra></extra>",
           "hovertext": [
            "Russia",
            "India",
            "Brazil",
            "United States",
            "South Africa",
            "Australia"
           ],
           "locations": [
            "RUS",
            "IND",
            "BRA",
            "USA",
            "ZAF",
            "AUS"
           ],
           "name": "",
           "type": "choropleth",
           "z": [
            302,
            180,
            323,
            21595,
            46,
            464
           ]
          }
         ],
         "name": "2020-03-31"
        },
        {
         "data": [
          {
           "coloraxis": "coloraxis",
           "geo": "geo",
           "hovertemplate": "<b>%{hovertext}</b><br><br>date=2020-04-01<br>iso_code=%{location}<br>new_cases=%{z}<extra></extra>",
           "hovertext": [
            "United States",
            "Russia",
            "Australia",
            "India",
            "Brazil",
            "South Africa"
           ],
           "locations": [
            "USA",
            "RUS",
            "AUS",
            "IND",
            "BRA",
            "ZAF"
           ],
           "name": "",
           "type": "choropleth",
           "z": [
            24998,
            501,
            150,
            146,
            1138,
            27
           ]
          }
         ],
         "name": "2020-04-01"
        },
        {
         "data": [
          {
           "coloraxis": "coloraxis",
           "geo": "geo",
           "hovertemplate": "<b>%{hovertext}</b><br><br>date=2020-04-02<br>iso_code=%{location}<br>new_cases=%{z}<extra></extra>",
           "hovertext": [
            "United States",
            "Russia",
            "Brazil",
            "Australia",
            "South Africa",
            "India"
           ],
           "locations": [
            "USA",
            "RUS",
            "BRA",
            "AUS",
            "ZAF",
            "IND"
           ],
           "name": "",
           "type": "choropleth",
           "z": [
            27103,
            440,
            1119,
            269,
            27,
            568
           ]
          }
         ],
         "name": "2020-04-02"
        },
        {
         "data": [
          {
           "coloraxis": "coloraxis",
           "geo": "geo",
           "hovertemplate": "<b>%{hovertext}</b><br><br>date=2020-04-03<br>iso_code=%{location}<br>new_cases=%{z}<extra></extra>",
           "hovertext": [
            "Brazil",
            "United States",
            "South Africa",
            "Australia",
            "Russia",
            "India"
           ],
           "locations": [
            "BRA",
            "USA",
            "ZAF",
            "AUS",
            "RUS",
            "IND"
           ],
           "name": "",
           "type": "choropleth",
           "z": [
            1074,
            28819,
            82,
            248,
            771,
            336
           ]
          }
         ],
         "name": "2020-04-03"
        },
        {
         "data": [
          {
           "coloraxis": "coloraxis",
           "geo": "geo",
           "hovertemplate": "<b>%{hovertext}</b><br><br>date=2020-04-04<br>iso_code=%{location}<br>new_cases=%{z}<extra></extra>",
           "hovertext": [
            "India",
            "Australia",
            "Brazil",
            "Russia",
            "South Africa",
            "United States"
           ],
           "locations": [
            "IND",
            "AUS",
            "BRA",
            "RUS",
            "ZAF",
            "USA"
           ],
           "name": "",
           "type": "choropleth",
           "z": [
            601,
            324,
            1146,
            601,
            43,
            32425
           ]
          }
         ],
         "name": "2020-04-04"
        },
        {
         "data": [
          {
           "coloraxis": "coloraxis",
           "geo": "geo",
           "hovertemplate": "<b>%{hovertext}</b><br><br>date=2020-04-05<br>iso_code=%{location}<br>new_cases=%{z}<extra></extra>",
           "hovertext": [
            "Russia",
            "United States",
            "Brazil",
            "Australia",
            "South Africa",
            "India"
           ],
           "locations": [
            "RUS",
            "USA",
            "BRA",
            "AUS",
            "ZAF",
            "IND"
           ],
           "name": "",
           "type": "choropleth",
           "z": [
            582,
            34272,
            1222,
            139,
            80,
            472
           ]
          }
         ],
         "name": "2020-04-05"
        },
        {
         "data": [
          {
           "coloraxis": "coloraxis",
           "geo": "geo",
           "hovertemplate": "<b>%{hovertext}</b><br><br>date=2020-04-06<br>iso_code=%{location}<br>new_cases=%{z}<extra></extra>",
           "hovertext": [
            "Australia",
            "United States",
            "South Africa",
            "Russia",
            "Brazil",
            "India"
           ],
           "locations": [
            "AUS",
            "USA",
            "ZAF",
            "RUS",
            "BRA",
            "IND"
           ],
           "name": "",
           "type": "choropleth",
           "z": [
            57,
            25398,
            70,
            658,
            852,
            693
           ]
          }
         ],
         "name": "2020-04-06"
        },
        {
         "data": [
          {
           "coloraxis": "coloraxis",
           "geo": "geo",
           "hovertemplate": "<b>%{hovertext}</b><br><br>date=2020-04-07<br>iso_code=%{location}<br>new_cases=%{z}<extra></extra>",
           "hovertext": [
            "Brazil",
            "Australia",
            "Russia",
            "South Africa",
            "United States",
            "India"
           ],
           "locations": [
            "BRA",
            "AUS",
            "RUS",
            "ZAF",
            "USA",
            "IND"
           ],
           "name": "",
           "type": "choropleth",
           "z": [
            926,
            100,
            954,
            31,
            30561,
            354
           ]
          }
         ],
         "name": "2020-04-07"
        },
        {
         "data": [
          {
           "coloraxis": "coloraxis",
           "geo": "geo",
           "hovertemplate": "<b>%{hovertext}</b><br><br>date=2020-04-08<br>iso_code=%{location}<br>new_cases=%{z}<extra></extra>",
           "hovertext": [
            "India",
            "United States",
            "Australia",
            "South Africa",
            "Russia",
            "Brazil"
           ],
           "locations": [
            "IND",
            "USA",
            "AUS",
            "ZAF",
            "RUS",
            "BRA"
           ],
           "name": "",
           "type": "choropleth",
           "z": [
            773,
            30613,
            112,
            63,
            1154,
            1661
           ]
          }
         ],
         "name": "2020-04-08"
        },
        {
         "data": [
          {
           "coloraxis": "coloraxis",
           "geo": "geo",
           "hovertemplate": "<b>%{hovertext}</b><br><br>date=2020-04-09<br>iso_code=%{location}<br>new_cases=%{z}<extra></extra>",
           "hovertext": [
            "Australia",
            "India",
            "Brazil",
            "South Africa",
            "Russia",
            "United States"
           ],
           "locations": [
            "AUS",
            "IND",
            "BRA",
            "ZAF",
            "RUS",
            "USA"
           ],
           "name": "",
           "type": "choropleth",
           "z": [
            96,
            540,
            2210,
            96,
            1175,
            33323
           ]
          }
         ],
         "name": "2020-04-09"
        },
        {
         "data": [
          {
           "coloraxis": "coloraxis",
           "geo": "geo",
           "hovertemplate": "<b>%{hovertext}</b><br><br>date=2020-04-10<br>iso_code=%{location}<br>new_cases=%{z}<extra></extra>",
           "hovertext": [
            "Brazil",
            "United States",
            "India",
            "Russia",
            "South Africa",
            "Australia"
           ],
           "locations": [
            "BRA",
            "USA",
            "IND",
            "RUS",
            "ZAF",
            "AUS"
           ],
           "name": "",
           "type": "choropleth",
           "z": [
            1930,
            33901,
            678,
            1459,
            89,
            100
           ]
          }
         ],
         "name": "2020-04-10"
        },
        {
         "data": [
          {
           "coloraxis": "coloraxis",
           "geo": "geo",
           "hovertemplate": "<b>%{hovertext}</b><br><br>date=2020-04-11<br>iso_code=%{location}<br>new_cases=%{z}<extra></extra>",
           "hovertext": [
            "Australia",
            "South Africa",
            "India",
            "United States",
            "Russia",
            "Brazil"
           ],
           "locations": [
            "AUS",
            "ZAF",
            "IND",
            "USA",
            "RUS",
            "BRA"
           ],
           "name": "",
           "type": "choropleth",
           "z": [
            86,
            69,
            1035,
            35527,
            1786,
            1781
           ]
          }
         ],
         "name": "2020-04-11"
        },
        {
         "data": [
          {
           "coloraxis": "coloraxis",
           "geo": "geo",
           "hovertemplate": "<b>%{hovertext}</b><br><br>date=2020-04-12<br>iso_code=%{location}<br>new_cases=%{z}<extra></extra>",
           "hovertext": [
            "United States",
            "Australia",
            "Russia",
            "South Africa",
            "India",
            "Brazil"
           ],
           "locations": [
            "USA",
            "AUS",
            "RUS",
            "ZAF",
            "IND",
            "BRA"
           ],
           "name": "",
           "type": "choropleth",
           "z": [
            28391,
            51,
            1667,
            25,
            909,
            1089
           ]
          }
         ],
         "name": "2020-04-12"
        },
        {
         "data": [
          {
           "coloraxis": "coloraxis",
           "geo": "geo",
           "hovertemplate": "<b>%{hovertext}</b><br><br>date=2020-04-13<br>iso_code=%{location}<br>new_cases=%{z}<extra></extra>",
           "hovertext": [
            "India",
            "Brazil",
            "United States",
            "Australia",
            "South Africa",
            "Russia"
           ],
           "locations": [
            "IND",
            "BRA",
            "USA",
            "AUS",
            "ZAF",
            "RUS"
           ],
           "name": "",
           "type": "choropleth",
           "z": [
            796,
            1442,
            27620,
            33,
            145,
            2186
           ]
          }
         ],
         "name": "2020-04-13"
        },
        {
         "data": [
          {
           "coloraxis": "coloraxis",
           "geo": "geo",
           "hovertemplate": "<b>%{hovertext}</b><br><br>date=2020-04-14<br>iso_code=%{location}<br>new_cases=%{z}<extra></extra>",
           "hovertext": [
            "India",
            "United States",
            "South Africa",
            "Brazil",
            "Russia",
            "Australia"
           ],
           "locations": [
            "IND",
            "USA",
            "ZAF",
            "BRA",
            "RUS",
            "AUS"
           ],
           "name": "",
           "type": "choropleth",
           "z": [
            1211,
            25023,
            99,
            1261,
            2558,
            44
           ]
          }
         ],
         "name": "2020-04-14"
        },
        {
         "data": [
          {
           "coloraxis": "coloraxis",
           "geo": "geo",
           "hovertemplate": "<b>%{hovertext}</b><br><br>date=2020-04-15<br>iso_code=%{location}<br>new_cases=%{z}<extra></extra>",
           "hovertext": [
            "South Africa",
            "United States",
            "Australia",
            "Brazil",
            "Russia",
            "India"
           ],
           "locations": [
            "ZAF",
            "USA",
            "AUS",
            "BRA",
            "RUS",
            "IND"
           ],
           "name": "",
           "type": "choropleth",
           "z": [
            143,
            26922,
            50,
            1832,
            2774,
            1075
           ]
          }
         ],
         "name": "2020-04-15"
        },
        {
         "data": [
          {
           "coloraxis": "coloraxis",
           "geo": "geo",
           "hovertemplate": "<b>%{hovertext}</b><br><br>date=2020-04-16<br>iso_code=%{location}<br>new_cases=%{z}<extra></extra>",
           "hovertext": [
            "Brazil",
            "Australia",
            "United States",
            "Russia",
            "South Africa",
            "India"
           ],
           "locations": [
            "BRA",
            "AUS",
            "USA",
            "RUS",
            "ZAF",
            "IND"
           ],
           "name": "",
           "type": "choropleth",
           "z": [
            3058,
            42,
            30148,
            3388,
            91,
            942
           ]
          }
         ],
         "name": "2020-04-16"
        },
        {
         "data": [
          {
           "coloraxis": "coloraxis",
           "geo": "geo",
           "hovertemplate": "<b>%{hovertext}</b><br><br>date=2020-04-17<br>iso_code=%{location}<br>new_cases=%{z}<extra></extra>",
           "hovertext": [
            "Russia",
            "South Africa",
            "Australia",
            "India",
            "Brazil",
            "United States"
           ],
           "locations": [
            "RUS",
            "ZAF",
            "AUS",
            "IND",
            "BRA",
            "USA"
           ],
           "name": "",
           "type": "choropleth",
           "z": [
            3448,
            99,
            39,
            1007,
            2105,
            31667
           ]
          }
         ],
         "name": "2020-04-17"
        },
        {
         "data": [
          {
           "coloraxis": "coloraxis",
           "geo": "geo",
           "hovertemplate": "<b>%{hovertext}</b><br><br>date=2020-04-18<br>iso_code=%{location}<br>new_cases=%{z}<extra></extra>",
           "hovertext": [
            "Brazil",
            "Australia",
            "United States",
            "Russia",
            "India",
            "South Africa"
           ],
           "locations": [
            "BRA",
            "AUS",
            "USA",
            "RUS",
            "IND",
            "ZAF"
           ],
           "name": "",
           "type": "choropleth",
           "z": [
            3257,
            36,
            30833,
            4070,
            991,
            178
           ]
          }
         ],
         "name": "2020-04-18"
        },
        {
         "data": [
          {
           "coloraxis": "coloraxis",
           "geo": "geo",
           "hovertemplate": "<b>%{hovertext}</b><br><br>date=2020-04-19<br>iso_code=%{location}<br>new_cases=%{z}<extra></extra>",
           "hovertext": [
            "Australia",
            "India",
            "South Africa",
            "United States",
            "Russia",
            "Brazil"
           ],
           "locations": [
            "AUS",
            "IND",
            "ZAF",
            "USA",
            "RUS",
            "BRA"
           ],
           "name": "",
           "type": "choropleth",
           "z": [
            53,
            1334,
            251,
            32922,
            4785,
            2917
           ]
          }
         ],
         "name": "2020-04-19"
        },
        {
         "data": [
          {
           "coloraxis": "coloraxis",
           "geo": "geo",
           "hovertemplate": "<b>%{hovertext}</b><br><br>date=2020-04-20<br>iso_code=%{location}<br>new_cases=%{z}<extra></extra>",
           "hovertext": [
            "United States",
            "Brazil",
            "South Africa",
            "India",
            "Australia",
            "Russia"
           ],
           "locations": [
            "USA",
            "BRA",
            "ZAF",
            "IND",
            "AUS",
            "RUS"
           ],
           "name": "",
           "type": "choropleth",
           "z": [
            24601,
            2055,
            124,
            1553,
            26,
            6060
           ]
          }
         ],
         "name": "2020-04-20"
        },
        {
         "data": [
          {
           "coloraxis": "coloraxis",
           "geo": "geo",
           "hovertemplate": "<b>%{hovertext}</b><br><br>date=2020-04-21<br>iso_code=%{location}<br>new_cases=%{z}<extra></extra>",
           "hovertext": [
            "Australia",
            "South Africa",
            "India",
            "Brazil",
            "Russia",
            "United States"
           ],
           "locations": [
            "AUS",
            "ZAF",
            "IND",
            "BRA",
            "RUS",
            "USA"
           ],
           "name": "",
           "type": "choropleth",
           "z": [
            13,
            142,
            1335,
            1927,
            4268,
            28065
           ]
          }
         ],
         "name": "2020-04-21"
        },
        {
         "data": [
          {
           "coloraxis": "coloraxis",
           "geo": "geo",
           "hovertemplate": "<b>%{hovertext}</b><br><br>date=2020-04-22<br>iso_code=%{location}<br>new_cases=%{z}<extra></extra>",
           "hovertext": [
            "Brazil",
            "Russia",
            "South Africa",
            "Australia",
            "India",
            "United States"
           ],
           "locations": [
            "BRA",
            "RUS",
            "ZAF",
            "AUS",
            "IND",
            "USA"
           ],
           "name": "",
           "type": "choropleth",
           "z": [
            2498,
            5642,
            165,
            22,
            1384,
            37289
           ]
          }
         ],
         "name": "2020-04-22"
        },
        {
         "data": [
          {
           "coloraxis": "coloraxis",
           "geo": "geo",
           "hovertemplate": "<b>%{hovertext}</b><br><br>date=2020-04-23<br>iso_code=%{location}<br>new_cases=%{z}<extra></extra>",
           "hovertext": [
            "India",
            "Russia",
            "Brazil",
            "Australia",
            "United States",
            "South Africa"
           ],
           "locations": [
            "IND",
            "RUS",
            "BRA",
            "AUS",
            "USA",
            "ZAF"
           ],
           "name": "",
           "type": "choropleth",
           "z": [
            1409,
            5236,
            2678,
            7,
            17588,
            170
           ]
          }
         ],
         "name": "2020-04-23"
        },
        {
         "data": [
          {
           "coloraxis": "coloraxis",
           "geo": "geo",
           "hovertemplate": "<b>%{hovertext}</b><br><br>date=2020-04-24<br>iso_code=%{location}<br>new_cases=%{z}<extra></extra>",
           "hovertext": [
            "India",
            "Russia",
            "Brazil",
            "United States",
            "Australia",
            "South Africa"
           ],
           "locations": [
            "IND",
            "RUS",
            "BRA",
            "USA",
            "AUS",
            "ZAF"
           ],
           "name": "",
           "type": "choropleth",
           "z": [
            1684,
            4774,
            3735,
            26543,
            13,
            318
           ]
          }
         ],
         "name": "2020-04-24"
        },
        {
         "data": [
          {
           "coloraxis": "coloraxis",
           "geo": "geo",
           "hovertemplate": "<b>%{hovertext}</b><br><br>date=2020-04-25<br>iso_code=%{location}<br>new_cases=%{z}<extra></extra>",
           "hovertext": [
            "India",
            "Australia",
            "South Africa",
            "Russia",
            "United States",
            "Brazil"
           ],
           "locations": [
            "IND",
            "AUS",
            "ZAF",
            "RUS",
            "USA",
            "BRA"
           ],
           "name": "",
           "type": "choropleth",
           "z": [
            1429,
            20,
            267,
            5849,
            21352,
            3503
           ]
          }
         ],
         "name": "2020-04-25"
        },
        {
         "data": [
          {
           "coloraxis": "coloraxis",
           "geo": "geo",
           "hovertemplate": "<b>%{hovertext}</b><br><br>date=2020-04-26<br>iso_code=%{location}<br>new_cases=%{z}<extra></extra>",
           "hovertext": [
            "Australia",
            "United States",
            "Russia",
            "South Africa",
            "India",
            "Brazil"
           ],
           "locations": [
            "AUS",
            "USA",
            "RUS",
            "ZAF",
            "IND",
            "BRA"
           ],
           "name": "",
           "type": "choropleth",
           "z": [
            16,
            48529,
            5966,
            141,
            1990,
            5514
           ]
          }
         ],
         "name": "2020-04-26"
        },
        {
         "data": [
          {
           "coloraxis": "coloraxis",
           "geo": "geo",
           "hovertemplate": "<b>%{hovertext}</b><br><br>date=2020-04-27<br>iso_code=%{location}<br>new_cases=%{z}<extra></extra>",
           "hovertext": [
            "India",
            "Russia",
            "Brazil",
            "Australia",
            "South Africa",
            "United States"
           ],
           "locations": [
            "IND",
            "RUS",
            "BRA",
            "AUS",
            "ZAF",
            "USA"
           ],
           "name": "",
           "type": "choropleth",
           "z": [
            1396,
            6361,
            3379,
            10,
            185,
            26857
           ]
          }
         ],
         "name": "2020-04-27"
        },
        {
         "data": [
          {
           "coloraxis": "coloraxis",
           "geo": "geo",
           "hovertemplate": "<b>%{hovertext}</b><br><br>date=2020-04-28<br>iso_code=%{location}<br>new_cases=%{z}<extra></extra>",
           "hovertext": [
            "India",
            "Russia",
            "Brazil",
            "South Africa",
            "Australia",
            "United States"
           ],
           "locations": [
            "IND",
            "RUS",
            "BRA",
            "ZAF",
            "AUS",
            "USA"
           ],
           "name": "",
           "type": "choropleth",
           "z": [
            1543,
            6198,
            4613,
            247,
            12,
            22541
           ]
          }
         ],
         "name": "2020-04-28"
        },
        {
         "data": [
          {
           "coloraxis": "coloraxis",
           "geo": "geo",
           "hovertemplate": "<b>%{hovertext}</b><br><br>date=2020-04-29<br>iso_code=%{location}<br>new_cases=%{z}<extra></extra>",
           "hovertext": [
            "United States",
            "India",
            "South Africa",
            "Russia",
            "Australia",
            "Brazil"
           ],
           "locations": [
            "USA",
            "IND",
            "ZAF",
            "RUS",
            "AUS",
            "BRA"
           ],
           "name": "",
           "type": "choropleth",
           "z": [
            24132,
            1897,
            203,
            6411,
            13,
            5385
           ]
          }
         ],
         "name": "2020-04-29"
        },
        {
         "data": [
          {
           "coloraxis": "coloraxis",
           "geo": "geo",
           "hovertemplate": "<b>%{hovertext}</b><br><br>date=2020-04-30<br>iso_code=%{location}<br>new_cases=%{z}<extra></extra>",
           "hovertext": [
            "Australia",
            "India",
            "South Africa",
            "United States",
            "Russia",
            "Brazil"
           ],
           "locations": [
            "AUS",
            "IND",
            "ZAF",
            "USA",
            "RUS",
            "BRA"
           ],
           "name": "",
           "type": "choropleth",
           "z": [
            8,
            1718,
            354,
            27326,
            5841,
            6276
           ]
          }
         ],
         "name": "2020-04-30"
        },
        {
         "data": [
          {
           "coloraxis": "coloraxis",
           "geo": "geo",
           "hovertemplate": "<b>%{hovertext}</b><br><br>date=2020-05-01<br>iso_code=%{location}<br>new_cases=%{z}<extra></extra>",
           "hovertext": [
            "India",
            "Brazil",
            "United States",
            "Australia",
            "Russia",
            "South Africa"
           ],
           "locations": [
            "IND",
            "BRA",
            "USA",
            "AUS",
            "RUS",
            "ZAF"
           ],
           "name": "",
           "type": "choropleth",
           "z": [
            1993,
            7218,
            29917,
            16,
            7099,
            297
           ]
          }
         ],
         "name": "2020-05-01"
        },
        {
         "data": [
          {
           "coloraxis": "coloraxis",
           "geo": "geo",
           "hovertemplate": "<b>%{hovertext}</b><br><br>date=2020-05-02<br>iso_code=%{location}<br>new_cases=%{z}<extra></extra>",
           "hovertext": [
            "Brazil",
            "Australia",
            "United States",
            "Russia",
            "South Africa",
            "India"
           ],
           "locations": [
            "BRA",
            "AUS",
            "USA",
            "RUS",
            "ZAF",
            "IND"
           ],
           "name": "",
           "type": "choropleth",
           "z": [
            6209,
            5,
            33955,
            7933,
            304,
            2293
           ]
          }
         ],
         "name": "2020-05-02"
        },
        {
         "data": [
          {
           "coloraxis": "coloraxis",
           "geo": "geo",
           "hovertemplate": "<b>%{hovertext}</b><br><br>date=2020-05-03<br>iso_code=%{location}<br>new_cases=%{z}<extra></extra>",
           "hovertext": [
            "United States",
            "India",
            "South Africa",
            "Australia",
            "Brazil",
            "Russia"
           ],
           "locations": [
            "USA",
            "IND",
            "ZAF",
            "AUS",
            "BRA",
            "RUS"
           ],
           "name": "",
           "type": "choropleth",
           "z": [
            29288,
            2644,
            385,
            16,
            4970,
            9623
           ]
          }
         ],
         "name": "2020-05-03"
        },
        {
         "data": [
          {
           "coloraxis": "coloraxis",
           "geo": "geo",
           "hovertemplate": "<b>%{hovertext}</b><br><br>date=2020-05-04<br>iso_code=%{location}<br>new_cases=%{z}<extra></extra>",
           "hovertext": [
            "United States",
            "India",
            "South Africa",
            "Australia",
            "Brazil",
            "Russia"
           ],
           "locations": [
            "USA",
            "IND",
            "ZAF",
            "AUS",
            "BRA",
            "RUS"
           ],
           "name": "",
           "type": "choropleth",
           "z": [
            24972,
            2553,
            447,
            18,
            4588,
            10633
           ]
          }
         ],
         "name": "2020-05-04"
        },
        {
         "data": [
          {
           "coloraxis": "coloraxis",
           "geo": "geo",
           "hovertemplate": "<b>%{hovertext}</b><br><br>date=2020-05-05<br>iso_code=%{location}<br>new_cases=%{z}<extra></extra>",
           "hovertext": [
            "India",
            "United States",
            "Brazil",
            "Russia",
            "Australia",
            "South Africa"
           ],
           "locations": [
            "IND",
            "USA",
            "BRA",
            "RUS",
            "AUS",
            "ZAF"
           ],
           "name": "",
           "type": "choropleth",
           "z": [
            3900,
            22593,
            6633,
            10581,
            24,
            437
           ]
          }
         ],
         "name": "2020-05-05"
        },
        {
         "data": [
          {
           "coloraxis": "coloraxis",
           "geo": "geo",
           "hovertemplate": "<b>%{hovertext}</b><br><br>date=2020-05-06<br>iso_code=%{location}<br>new_cases=%{z}<extra></extra>",
           "hovertext": [
            "Australia",
            "South Africa",
            "India",
            "Brazil",
            "United States",
            "Russia"
           ],
           "locations": [
            "AUS",
            "ZAF",
            "IND",
            "BRA",
            "USA",
            "RUS"
           ],
           "name": "",
           "type": "choropleth",
           "z": [
            24,
            352,
            2958,
            6935,
            23841,
            10102
           ]
          }
         ],
         "name": "2020-05-06"
        },
        {
         "data": [
          {
           "coloraxis": "coloraxis",
           "geo": "geo",
           "hovertemplate": "<b>%{hovertext}</b><br><br>date=2020-05-07<br>iso_code=%{location}<br>new_cases=%{z}<extra></extra>",
           "hovertext": [
            "Australia",
            "Brazil",
            "South Africa",
            "India",
            "United States",
            "Russia"
           ],
           "locations": [
            "AUS",
            "BRA",
            "ZAF",
            "IND",
            "USA",
            "RUS"
           ],
           "name": "",
           "type": "choropleth",
           "z": [
            26,
            10503,
            236,
            3561,
            24128,
            10559
           ]
          }
         ],
         "name": "2020-05-07"
        },
        {
         "data": [
          {
           "coloraxis": "coloraxis",
           "geo": "geo",
           "hovertemplate": "<b>%{hovertext}</b><br><br>date=2020-05-08<br>iso_code=%{location}<br>new_cases=%{z}<extra></extra>",
           "hovertext": [
            "India",
            "Australia",
            "Russia",
            "South Africa",
            "United States",
            "Brazil"
           ],
           "locations": [
            "IND",
            "AUS",
            "RUS",
            "ZAF",
            "USA",
            "BRA"
           ],
           "name": "",
           "type": "choropleth",
           "z": [
            3390,
            21,
            11231,
            424,
            28369,
            9888
           ]
          }
         ],
         "name": "2020-05-08"
        },
        {
         "data": [
          {
           "coloraxis": "coloraxis",
           "geo": "geo",
           "hovertemplate": "<b>%{hovertext}</b><br><br>date=2020-05-09<br>iso_code=%{location}<br>new_cases=%{z}<extra></extra>",
           "hovertext": [
            "United States",
            "Australia",
            "South Africa",
            "Russia",
            "Brazil",
            "India"
           ],
           "locations": [
            "USA",
            "AUS",
            "ZAF",
            "RUS",
            "BRA",
            "IND"
           ],
           "name": "",
           "type": "choropleth",
           "z": [
            26957,
            18,
            663,
            10699,
            10222,
            3320
           ]
          }
         ],
         "name": "2020-05-09"
        },
        {
         "data": [
          {
           "coloraxis": "coloraxis",
           "geo": "geo",
           "hovertemplate": "<b>%{hovertext}</b><br><br>date=2020-05-10<br>iso_code=%{location}<br>new_cases=%{z}<extra></extra>",
           "hovertext": [
            "Brazil",
            "Australia",
            "Russia",
            "India",
            "United States",
            "South Africa"
           ],
           "locations": [
            "BRA",
            "AUS",
            "RUS",
            "IND",
            "USA",
            "ZAF"
           ],
           "name": "",
           "type": "choropleth",
           "z": [
            10611,
            15,
            10817,
            3277,
            25612,
            525
           ]
          }
         ],
         "name": "2020-05-10"
        },
        {
         "data": [
          {
           "coloraxis": "coloraxis",
           "geo": "geo",
           "hovertemplate": "<b>%{hovertext}</b><br><br>date=2020-05-11<br>iso_code=%{location}<br>new_cases=%{z}<extra></extra>",
           "hovertext": [
            "Australia",
            "Russia",
            "Brazil",
            "South Africa",
            "United States",
            "India"
           ],
           "locations": [
            "AUS",
            "RUS",
            "BRA",
            "ZAF",
            "USA",
            "IND"
           ],
           "name": "",
           "type": "choropleth",
           "z": [
            12,
            11012,
            6760,
            595,
            20258,
            4213
           ]
          }
         ],
         "name": "2020-05-11"
        },
        {
         "data": [
          {
           "coloraxis": "coloraxis",
           "geo": "geo",
           "hovertemplate": "<b>%{hovertext}</b><br><br>date=2020-05-12<br>iso_code=%{location}<br>new_cases=%{z}<extra></extra>",
           "hovertext": [
            "India",
            "Australia",
            "United States",
            "Brazil",
            "South Africa",
            "Russia"
           ],
           "locations": [
            "IND",
            "AUS",
            "USA",
            "BRA",
            "ZAF",
            "RUS"
           ],
           "name": "",
           "type": "choropleth",
           "z": [
            3604,
            7,
            18117,
            5632,
            637,
            11656
           ]
          }
         ],
         "name": "2020-05-12"
        },
        {
         "data": [
          {
           "coloraxis": "coloraxis",
           "geo": "geo",
           "hovertemplate": "<b>%{hovertext}</b><br><br>date=2020-05-13<br>iso_code=%{location}<br>new_cases=%{z}<extra></extra>",
           "hovertext": [
            "India",
            "Russia",
            "United States",
            "Australia",
            "Brazil",
            "South Africa"
           ],
           "locations": [
            "IND",
            "RUS",
            "USA",
            "AUS",
            "BRA",
            "ZAF"
           ],
           "name": "",
           "type": "choropleth",
           "z": [
            3525,
            10899,
            22048,
            16,
            9258,
            698
           ]
          }
         ],
         "name": "2020-05-13"
        },
        {
         "data": [
          {
           "coloraxis": "coloraxis",
           "geo": "geo",
           "hovertemplate": "<b>%{hovertext}</b><br><br>date=2020-05-14<br>iso_code=%{location}<br>new_cases=%{z}<extra></extra>",
           "hovertext": [
            "Australia",
            "India",
            "South Africa",
            "Brazil",
            "Russia",
            "United States"
           ],
           "locations": [
            "AUS",
            "IND",
            "ZAF",
            "BRA",
            "RUS",
            "USA"
           ],
           "name": "",
           "type": "choropleth",
           "z": [
            11,
            3722,
            724,
            11385,
            10028,
            20782
           ]
          }
         ],
         "name": "2020-05-14"
        },
        {
         "data": [
          {
           "coloraxis": "coloraxis",
           "geo": "geo",
           "hovertemplate": "<b>%{hovertext}</b><br><br>date=2020-05-15<br>iso_code=%{location}<br>new_cases=%{z}<extra></extra>",
           "hovertext": [
            "India",
            "South Africa",
            "Russia",
            "United States",
            "Brazil",
            "Australia"
           ],
           "locations": [
            "IND",
            "ZAF",
            "RUS",
            "USA",
            "BRA",
            "AUS"
           ],
           "name": "",
           "type": "choropleth",
           "z": [
            3967,
            665,
            9974,
            27143,
            13944,
            14
           ]
          }
         ],
         "name": "2020-05-15"
        },
        {
         "data": [
          {
           "coloraxis": "coloraxis",
           "geo": "geo",
           "hovertemplate": "<b>%{hovertext}</b><br><br>date=2020-05-16<br>iso_code=%{location}<br>new_cases=%{z}<extra></extra>",
           "hovertext": [
            "Australia",
            "Russia",
            "Brazil",
            "South Africa",
            "India",
            "United States"
           ],
           "locations": [
            "AUS",
            "RUS",
            "BRA",
            "ZAF",
            "IND",
            "USA"
           ],
           "name": "",
           "type": "choropleth",
           "z": [
            30,
            10598,
            15305,
            785,
            3970,
            25508
           ]
          }
         ],
         "name": "2020-05-16"
        },
        {
         "data": [
          {
           "coloraxis": "coloraxis",
           "geo": "geo",
           "hovertemplate": "<b>%{hovertext}</b><br><br>date=2020-05-17<br>iso_code=%{location}<br>new_cases=%{z}<extra></extra>",
           "hovertext": [
            "India",
            "United States",
            "Brazil",
            "Russia",
            "South Africa",
            "Australia"
           ],
           "locations": [
            "IND",
            "USA",
            "BRA",
            "RUS",
            "ZAF",
            "AUS"
           ],
           "name": "",
           "type": "choropleth",
           "z": [
            4987,
            24487,
            14919,
            9200,
            831,
            17
           ]
          }
         ],
         "name": "2020-05-17"
        },
        {
         "data": [
          {
           "coloraxis": "coloraxis",
           "geo": "geo",
           "hovertemplate": "<b>%{hovertext}</b><br><br>date=2020-05-18<br>iso_code=%{location}<br>new_cases=%{z}<extra></extra>",
           "hovertext": [
            "Australia",
            "United States",
            "India",
            "Brazil",
            "Russia",
            "South Africa"
           ],
           "locations": [
            "AUS",
            "USA",
            "IND",
            "BRA",
            "RUS",
            "ZAF"
           ],
           "name": "",
           "type": "choropleth",
           "z": [
            9,
            18873,
            5242,
            7938,
            9709,
            1160
           ]
          }
         ],
         "name": "2020-05-18"
        },
        {
         "data": [
          {
           "coloraxis": "coloraxis",
           "geo": "geo",
           "hovertemplate": "<b>%{hovertext}</b><br><br>date=2020-05-19<br>iso_code=%{location}<br>new_cases=%{z}<extra></extra>",
           "hovertext": [
            "United States",
            "Russia",
            "South Africa",
            "India",
            "Australia",
            "Brazil"
           ],
           "locations": [
            "USA",
            "RUS",
            "ZAF",
            "IND",
            "AUS",
            "BRA"
           ],
           "name": "",
           "type": "choropleth",
           "z": [
            21841,
            8926,
            918,
            4970,
            15,
            13140
           ]
          }
         ],
         "name": "2020-05-19"
        },
        {
         "data": [
          {
           "coloraxis": "coloraxis",
           "geo": "geo",
           "hovertemplate": "<b>%{hovertext}</b><br><br>date=2020-05-20<br>iso_code=%{location}<br>new_cases=%{z}<extra></extra>",
           "hovertext": [
            "South Africa",
            "Brazil",
            "United States",
            "Russia",
            "Australia",
            "India"
           ],
           "locations": [
            "ZAF",
            "BRA",
            "USA",
            "RUS",
            "AUS",
            "IND"
           ],
           "name": "",
           "type": "choropleth",
           "z": [
            767,
            17408,
            19970,
            9263,
            8,
            5611
           ]
          }
         ],
         "name": "2020-05-20"
        },
        {
         "data": [
          {
           "coloraxis": "coloraxis",
           "geo": "geo",
           "hovertemplate": "<b>%{hovertext}</b><br><br>date=2020-05-21<br>iso_code=%{location}<br>new_cases=%{z}<extra></extra>",
           "hovertext": [
            "United States",
            "India",
            "South Africa",
            "Australia",
            "Russia",
            "Brazil"
           ],
           "locations": [
            "USA",
            "IND",
            "ZAF",
            "AUS",
            "RUS",
            "BRA"
           ],
           "name": "",
           "type": "choropleth",
           "z": [
            23285,
            5609,
            803,
            11,
            8764,
            19951
           ]
          }
         ],
         "name": "2020-05-21"
        },
        {
         "data": [
          {
           "coloraxis": "coloraxis",
           "geo": "geo",
           "hovertemplate": "<b>%{hovertext}</b><br><br>date=2020-05-22<br>iso_code=%{location}<br>new_cases=%{z}<extra></extra>",
           "hovertext": [
            "India",
            "United States",
            "South Africa",
            "Australia",
            "Russia",
            "Brazil"
           ],
           "locations": [
            "IND",
            "USA",
            "ZAF",
            "AUS",
            "RUS",
            "BRA"
           ],
           "name": "",
           "type": "choropleth",
           "z": [
            6088,
            25434,
            1134,
            2,
            8849,
            18508
           ]
          }
         ],
         "name": "2020-05-22"
        },
        {
         "data": [
          {
           "coloraxis": "coloraxis",
           "geo": "geo",
           "hovertemplate": "<b>%{hovertext}</b><br><br>date=2020-05-23<br>iso_code=%{location}<br>new_cases=%{z}<extra></extra>",
           "hovertext": [
            "Russia",
            "Brazil",
            "South Africa",
            "Australia",
            "United States",
            "India"
           ],
           "locations": [
            "RUS",
            "BRA",
            "ZAF",
            "AUS",
            "USA",
            "IND"
           ],
           "name": "",
           "type": "choropleth",
           "z": [
            8894,
            20803,
            988,
            14,
            24147,
            6654
           ]
          }
         ],
         "name": "2020-05-23"
        },
        {
         "data": [
          {
           "coloraxis": "coloraxis",
           "geo": "geo",
           "hovertemplate": "<b>%{hovertext}</b><br><br>date=2020-05-24<br>iso_code=%{location}<br>new_cases=%{z}<extra></extra>",
           "hovertext": [
            "India",
            "Australia",
            "South Africa",
            "Russia",
            "United States",
            "Brazil"
           ],
           "locations": [
            "IND",
            "AUS",
            "ZAF",
            "RUS",
            "USA",
            "BRA"
           ],
           "name": "",
           "type": "choropleth",
           "z": [
            6767,
            11,
            1218,
            9434,
            21236,
            16508
           ]
          }
         ],
         "name": "2020-05-24"
        },
        {
         "data": [
          {
           "coloraxis": "coloraxis",
           "geo": "geo",
           "hovertemplate": "<b>%{hovertext}</b><br><br>date=2020-05-25<br>iso_code=%{location}<br>new_cases=%{z}<extra></extra>",
           "hovertext": [
            "Australia",
            "Russia",
            "United States",
            "Brazil",
            "India",
            "South Africa"
           ],
           "locations": [
            "AUS",
            "RUS",
            "USA",
            "BRA",
            "IND",
            "ZAF"
           ],
           "name": "",
           "type": "choropleth",
           "z": [
            3,
            8599,
            20568,
            15813,
            6977,
            1240
           ]
          }
         ],
         "name": "2020-05-25"
        },
        {
         "data": [
          {
           "coloraxis": "coloraxis",
           "geo": "geo",
           "hovertemplate": "<b>%{hovertext}</b><br><br>date=2020-05-26<br>iso_code=%{location}<br>new_cases=%{z}<extra></extra>",
           "hovertext": [
            "South Africa",
            "Australia",
            "United States",
            "India",
            "Brazil",
            "Russia"
           ],
           "locations": [
            "ZAF",
            "AUS",
            "USA",
            "IND",
            "BRA",
            "RUS"
           ],
           "name": "",
           "type": "choropleth",
           "z": [
            1032,
            9,
            19064,
            6535,
            11687,
            8946
           ]
          }
         ],
         "name": "2020-05-26"
        },
        {
         "data": [
          {
           "coloraxis": "coloraxis",
           "geo": "geo",
           "hovertemplate": "<b>%{hovertext}</b><br><br>date=2020-05-27<br>iso_code=%{location}<br>new_cases=%{z}<extra></extra>",
           "hovertext": [
            "Australia",
            "India",
            "South Africa",
            "United States",
            "Russia",
            "Brazil"
           ],
           "locations": [
            "AUS",
            "IND",
            "ZAF",
            "USA",
            "RUS",
            "BRA"
           ],
           "name": "",
           "type": "choropleth",
           "z": [
            15,
            6387,
            649,
            18910,
            8915,
            16324
           ]
          }
         ],
         "name": "2020-05-27"
        },
        {
         "data": [
          {
           "coloraxis": "coloraxis",
           "geo": "geo",
           "hovertemplate": "<b>%{hovertext}</b><br><br>date=2020-05-28<br>iso_code=%{location}<br>new_cases=%{z}<extra></extra>",
           "hovertext": [
            "Russia",
            "South Africa",
            "United States",
            "India",
            "Australia",
            "Brazil"
           ],
           "locations": [
            "RUS",
            "ZAF",
            "USA",
            "IND",
            "AUS",
            "BRA"
           ],
           "name": "",
           "type": "choropleth",
           "z": [
            8338,
            1673,
            18721,
            6566,
            6,
            20599
           ]
          }
         ],
         "name": "2020-05-28"
        },
        {
         "data": [
          {
           "coloraxis": "coloraxis",
           "geo": "geo",
           "hovertemplate": "<b>%{hovertext}</b><br><br>date=2020-05-29<br>iso_code=%{location}<br>new_cases=%{z}<extra></extra>",
           "hovertext": [
            "Brazil",
            "United States",
            "India",
            "Australia",
            "South Africa",
            "Russia"
           ],
           "locations": [
            "BRA",
            "USA",
            "IND",
            "AUS",
            "ZAF",
            "RUS"
           ],
           "name": "",
           "type": "choropleth",
           "z": [
            26417,
            21817,
            7466,
            11,
            1466,
            8371
           ]
          }
         ],
         "name": "2020-05-29"
        },
        {
         "data": [
          {
           "coloraxis": "coloraxis",
           "geo": "geo",
           "hovertemplate": "<b>%{hovertext}</b><br><br>date=2020-05-30<br>iso_code=%{location}<br>new_cases=%{z}<extra></extra>",
           "hovertext": [
            "India",
            "Australia",
            "Russia",
            "Brazil",
            "United States",
            "South Africa"
           ],
           "locations": [
            "IND",
            "AUS",
            "RUS",
            "BRA",
            "USA",
            "ZAF"
           ],
           "name": "",
           "type": "choropleth",
           "z": [
            7964,
            23,
            8572,
            26928,
            25337,
            1837
           ]
          }
         ],
         "name": "2020-05-30"
        },
        {
         "data": [
          {
           "coloraxis": "coloraxis",
           "geo": "geo",
           "hovertemplate": "<b>%{hovertext}</b><br><br>date=2020-05-31<br>iso_code=%{location}<br>new_cases=%{z}<extra></extra>",
           "hovertext": [
            "India",
            "Australia",
            "South Africa",
            "Brazil",
            "Russia",
            "United States"
           ],
           "locations": [
            "IND",
            "AUS",
            "ZAF",
            "BRA",
            "RUS",
            "USA"
           ],
           "name": "",
           "type": "choropleth",
           "z": [
            8380,
            12,
            1727,
            33274,
            8952,
            23297
           ]
          }
         ],
         "name": "2020-05-31"
        },
        {
         "data": [
          {
           "coloraxis": "coloraxis",
           "geo": "geo",
           "hovertemplate": "<b>%{hovertext}</b><br><br>date=2020-06-01<br>iso_code=%{location}<br>new_cases=%{z}<extra></extra>",
           "hovertext": [
            "India",
            "Russia",
            "Brazil",
            "South Africa",
            "Australia",
            "United States"
           ],
           "locations": [
            "IND",
            "RUS",
            "BRA",
            "ZAF",
            "AUS",
            "USA"
           ],
           "name": "",
           "type": "choropleth",
           "z": [
            8392,
            9268,
            16409,
            1716,
            10,
            19807
           ]
          }
         ],
         "name": "2020-06-01"
        },
        {
         "data": [
          {
           "coloraxis": "coloraxis",
           "geo": "geo",
           "hovertemplate": "<b>%{hovertext}</b><br><br>date=2020-06-02<br>iso_code=%{location}<br>new_cases=%{z}<extra></extra>",
           "hovertext": [
            "India",
            "Brazil",
            "South Africa",
            "Russia",
            "Australia",
            "United States"
           ],
           "locations": [
            "IND",
            "BRA",
            "ZAF",
            "RUS",
            "AUS",
            "USA"
           ],
           "name": "",
           "type": "choropleth",
           "z": [
            8171,
            11598,
            1674,
            9035,
            9,
            21086
           ]
          }
         ],
         "name": "2020-06-02"
        },
        {
         "data": [
          {
           "coloraxis": "coloraxis",
           "geo": "geo",
           "hovertemplate": "<b>%{hovertext}</b><br><br>date=2020-06-03<br>iso_code=%{location}<br>new_cases=%{z}<extra></extra>",
           "hovertext": [
            "Australia",
            "Brazil",
            "Russia",
            "South Africa",
            "India",
            "United States"
           ],
           "locations": [
            "AUS",
            "BRA",
            "RUS",
            "ZAF",
            "IND",
            "USA"
           ],
           "name": "",
           "type": "choropleth",
           "z": [
            17,
            28936,
            8863,
            1455,
            8909,
            20544
           ]
          }
         ],
         "name": "2020-06-03"
        },
        {
         "data": [
          {
           "coloraxis": "coloraxis",
           "geo": "geo",
           "hovertemplate": "<b>%{hovertext}</b><br><br>date=2020-06-04<br>iso_code=%{location}<br>new_cases=%{z}<extra></extra>",
           "hovertext": [
            "United States",
            "South Africa",
            "Australia",
            "Brazil",
            "India",
            "Russia"
           ],
           "locations": [
            "USA",
            "ZAF",
            "AUS",
            "BRA",
            "IND",
            "RUS"
           ],
           "name": "",
           "type": "choropleth",
           "z": [
            19699,
            1713,
            8,
            28633,
            9304,
            8536
           ]
          }
         ],
         "name": "2020-06-04"
        },
        {
         "data": [
          {
           "coloraxis": "coloraxis",
           "geo": "geo",
           "hovertemplate": "<b>%{hovertext}</b><br><br>date=2020-06-05<br>iso_code=%{location}<br>new_cases=%{z}<extra></extra>",
           "hovertext": [
            "Australia",
            "United States",
            "Brazil",
            "South Africa",
            "Russia",
            "India"
           ],
           "locations": [
            "AUS",
            "USA",
            "BRA",
            "ZAF",
            "RUS",
            "IND"
           ],
           "name": "",
           "type": "choropleth",
           "z": [
            11,
            21140,
            30916,
            3267,
            8831,
            9851
           ]
          }
         ],
         "name": "2020-06-05"
        },
        {
         "data": [
          {
           "coloraxis": "coloraxis",
           "geo": "geo",
           "hovertemplate": "<b>%{hovertext}</b><br><br>date=2020-06-06<br>iso_code=%{location}<br>new_cases=%{z}<extra></extra>",
           "hovertext": [
            "Russia",
            "South Africa",
            "India",
            "Australia",
            "United States",
            "Brazil"
           ],
           "locations": [
            "RUS",
            "ZAF",
            "IND",
            "AUS",
            "USA",
            "BRA"
           ],
           "name": "",
           "type": "choropleth",
           "z": [
            8726,
            2642,
            9887,
            11,
            25178,
            30830
           ]
          }
         ],
         "name": "2020-06-06"
        },
        {
         "data": [
          {
           "coloraxis": "coloraxis",
           "geo": "geo",
           "hovertemplate": "<b>%{hovertext}</b><br><br>date=2020-06-07<br>iso_code=%{location}<br>new_cases=%{z}<extra></extra>",
           "hovertext": [
            "Brazil",
            "South Africa",
            "United States",
            "Russia",
            "India",
            "Australia"
           ],
           "locations": [
            "BRA",
            "ZAF",
            "USA",
            "RUS",
            "IND",
            "AUS"
           ],
           "name": "",
           "type": "choropleth",
           "z": [
            27075,
            2539,
            22223,
            8855,
            9971,
            4
           ]
          }
         ],
         "name": "2020-06-07"
        },
        {
         "data": [
          {
           "coloraxis": "coloraxis",
           "geo": "geo",
           "hovertemplate": "<b>%{hovertext}</b><br><br>date=2020-06-08<br>iso_code=%{location}<br>new_cases=%{z}<extra></extra>",
           "hovertext": [
            "India",
            "Russia",
            "Brazil",
            "South Africa",
            "United States",
            "Australia"
           ],
           "locations": [
            "IND",
            "RUS",
            "BRA",
            "ZAF",
            "USA",
            "AUS"
           ],
           "name": "",
           "type": "choropleth",
           "z": [
            9983,
            8984,
            18921,
            2312,
            22302,
            5
           ]
          }
         ],
         "name": "2020-06-08"
        },
        {
         "data": [
          {
           "coloraxis": "coloraxis",
           "geo": "geo",
           "hovertemplate": "<b>%{hovertext}</b><br><br>date=2020-06-09<br>iso_code=%{location}<br>new_cases=%{z}<extra></extra>",
           "hovertext": [
            "India",
            "Brazil",
            "South Africa",
            "Russia",
            "Australia",
            "United States"
           ],
           "locations": [
            "IND",
            "BRA",
            "ZAF",
            "RUS",
            "AUS",
            "USA"
           ],
           "name": "",
           "type": "choropleth",
           "z": [
            9987,
            15654,
            2594,
            8985,
            5,
            18822
           ]
          }
         ],
         "name": "2020-06-09"
        },
        {
         "data": [
          {
           "coloraxis": "coloraxis",
           "geo": "geo",
           "hovertemplate": "<b>%{hovertext}</b><br><br>date=2020-06-10<br>iso_code=%{location}<br>new_cases=%{z}<extra></extra>",
           "hovertext": [
            "Russia",
            "Brazil",
            "South Africa",
            "United States",
            "Australia",
            "India"
           ],
           "locations": [
            "RUS",
            "BRA",
            "ZAF",
            "USA",
            "AUS",
            "IND"
           ],
           "name": "",
           "type": "choropleth",
           "z": [
            8595,
            32091,
            2112,
            18665,
            2,
            9985
           ]
          }
         ],
         "name": "2020-06-10"
        },
        {
         "data": [
          {
           "coloraxis": "coloraxis",
           "geo": "geo",
           "hovertemplate": "<b>%{hovertext}</b><br><br>date=2020-06-11<br>iso_code=%{location}<br>new_cases=%{z}<extra></extra>",
           "hovertext": [
            "South Africa",
            "Brazil",
            "India",
            "United States",
            "Russia",
            "Australia"
           ],
           "locations": [
            "ZAF",
            "BRA",
            "IND",
            "USA",
            "RUS",
            "AUS"
           ],
           "name": "",
           "type": "choropleth",
           "z": [
            2430,
            32913,
            9996,
            20614,
            8404,
            9
           ]
          }
         ],
         "name": "2020-06-11"
        },
        {
         "data": [
          {
           "coloraxis": "coloraxis",
           "geo": "geo",
           "hovertemplate": "<b>%{hovertext}</b><br><br>date=2020-06-12<br>iso_code=%{location}<br>new_cases=%{z}<extra></extra>",
           "hovertext": [
            "Russia",
            "Australia",
            "United States",
            "South Africa",
            "India",
            "Brazil"
           ],
           "locations": [
            "RUS",
            "AUS",
            "USA",
            "ZAF",
            "IND",
            "BRA"
           ],
           "name": "",
           "type": "choropleth",
           "z": [
            8779,
            9,
            22883,
            3147,
            10956,
            30412
           ]
          }
         ],
         "name": "2020-06-12"
        },
        {
         "data": [
          {
           "coloraxis": "coloraxis",
           "geo": "geo",
           "hovertemplate": "<b>%{hovertext}</b><br><br>date=2020-06-13<br>iso_code=%{location}<br>new_cases=%{z}<extra></extra>",
           "hovertext": [
            "Brazil",
            "South Africa",
            "Russia",
            "Australia",
            "United States",
            "India"
           ],
           "locations": [
            "BRA",
            "ZAF",
            "RUS",
            "AUS",
            "USA",
            "IND"
           ],
           "name": "",
           "type": "choropleth",
           "z": [
            25982,
            3359,
            8987,
            5,
            25639,
            11458
           ]
          }
         ],
         "name": "2020-06-13"
        },
        {
         "data": [
          {
           "coloraxis": "coloraxis",
           "geo": "geo",
           "hovertemplate": "<b>%{hovertext}</b><br><br>date=2020-06-14<br>iso_code=%{location}<br>new_cases=%{z}<extra></extra>",
           "hovertext": [
            "United States",
            "South Africa",
            "Australia",
            "Brazil",
            "India",
            "Russia"
           ],
           "locations": [
            "USA",
            "ZAF",
            "AUS",
            "BRA",
            "IND",
            "RUS"
           ],
           "name": "",
           "type": "choropleth",
           "z": [
            25540,
            3809,
            12,
            21704,
            11929,
            8706
           ]
          }
         ],
         "name": "2020-06-14"
        },
        {
         "data": [
          {
           "coloraxis": "coloraxis",
           "geo": "geo",
           "hovertemplate": "<b>%{hovertext}</b><br><br>date=2020-06-15<br>iso_code=%{location}<br>new_cases=%{z}<extra></extra>",
           "hovertext": [
            "United States",
            "Russia",
            "Brazil",
            "India",
            "Australia",
            "South Africa"
           ],
           "locations": [
            "USA",
            "RUS",
            "BRA",
            "IND",
            "AUS",
            "ZAF"
           ],
           "name": "",
           "type": "choropleth",
           "z": [
            19543,
            8835,
            17110,
            11502,
            18,
            4302
           ]
          }
         ],
         "name": "2020-06-15"
        },
        {
         "data": [
          {
           "coloraxis": "coloraxis",
           "geo": "geo",
           "hovertemplate": "<b>%{hovertext}</b><br><br>date=2020-06-16<br>iso_code=%{location}<br>new_cases=%{z}<extra></extra>",
           "hovertext": [
            "Australia",
            "United States",
            "South Africa",
            "Russia",
            "Brazil",
            "India"
           ],
           "locations": [
            "AUS",
            "USA",
            "ZAF",
            "RUS",
            "BRA",
            "IND"
           ],
           "name": "",
           "type": "choropleth",
           "z": [
            15,
            19957,
            3495,
            8246,
            20647,
            10667
           ]
          }
         ],
         "name": "2020-06-16"
        },
        {
         "data": [
          {
           "coloraxis": "coloraxis",
           "geo": "geo",
           "hovertemplate": "<b>%{hovertext}</b><br><br>date=2020-06-17<br>iso_code=%{location}<br>new_cases=%{z}<extra></extra>",
           "hovertext": [
            "India",
            "Russia",
            "Brazil",
            "Australia",
            "United States",
            "South Africa"
           ],
           "locations": [
            "IND",
            "RUS",
            "BRA",
            "AUS",
            "USA",
            "ZAF"
           ],
           "name": "",
           "type": "choropleth",
           "z": [
            10974,
            8248,
            34918,
            12,
            23705,
            2801
           ]
          }
         ],
         "name": "2020-06-17"
        },
        {
         "data": [
          {
           "coloraxis": "coloraxis",
           "geo": "geo",
           "hovertemplate": "<b>%{hovertext}</b><br><br>date=2020-06-18<br>iso_code=%{location}<br>new_cases=%{z}<extra></extra>",
           "hovertext": [
            "Russia",
            "India",
            "Brazil",
            "Australia",
            "South Africa",
            "United States"
           ],
           "locations": [
            "RUS",
            "IND",
            "BRA",
            "AUS",
            "ZAF",
            "USA"
           ],
           "name": "",
           "type": "choropleth",
           "z": [
            7843,
            12881,
            32188,
            23,
            4078,
            25559
           ]
          }
         ],
         "name": "2020-06-18"
        },
        {
         "data": [
          {
           "coloraxis": "coloraxis",
           "geo": "geo",
           "hovertemplate": "<b>%{hovertext}</b><br><br>date=2020-06-19<br>iso_code=%{location}<br>new_cases=%{z}<extra></extra>",
           "hovertext": [
            "South Africa",
            "Russia",
            "Australia",
            "India",
            "United States",
            "Brazil"
           ],
           "locations": [
            "ZAF",
            "RUS",
            "AUS",
            "IND",
            "USA",
            "BRA"
           ],
           "name": "",
           "type": "choropleth",
           "z": [
            3478,
            7790,
            21,
            13586,
            27762,
            22765
           ]
          }
         ],
         "name": "2020-06-19"
        },
        {
         "data": [
          {
           "coloraxis": "coloraxis",
           "geo": "geo",
           "hovertemplate": "<b>%{hovertext}</b><br><br>date=2020-06-20<br>iso_code=%{location}<br>new_cases=%{z}<extra></extra>",
           "hovertext": [
            "Russia",
            "Australia",
            "United States",
            "Brazil",
            "South Africa",
            "India"
           ],
           "locations": [
            "RUS",
            "AUS",
            "USA",
            "BRA",
            "ZAF",
            "IND"
           ],
           "name": "",
           "type": "choropleth",
           "z": [
            7972,
            18,
            29909,
            54771,
            3825,
            14516
           ]
          }
         ],
         "name": "2020-06-20"
        },
        {
         "data": [
          {
           "coloraxis": "coloraxis",
           "geo": "geo",
           "hovertemplate": "<b>%{hovertext}</b><br><br>date=2020-06-21<br>iso_code=%{location}<br>new_cases=%{z}<extra></extra>",
           "hovertext": [
            "United States",
            "Brazil",
            "India",
            "South Africa",
            "Russia",
            "Australia"
           ],
           "locations": [
            "USA",
            "BRA",
            "IND",
            "ZAF",
            "RUS",
            "AUS"
           ],
           "name": "",
           "type": "choropleth",
           "z": [
            34158,
            34666,
            15413,
            4966,
            7889,
            27
           ]
          }
         ],
         "name": "2020-06-21"
        },
        {
         "data": [
          {
           "coloraxis": "coloraxis",
           "geo": "geo",
           "hovertemplate": "<b>%{hovertext}</b><br><br>date=2020-06-22<br>iso_code=%{location}<br>new_cases=%{z}<extra></extra>",
           "hovertext": [
            "South Africa",
            "Brazil",
            "United States",
            "India",
            "Russia",
            "Australia"
           ],
           "locations": [
            "ZAF",
            "BRA",
            "USA",
            "IND",
            "RUS",
            "AUS"
           ],
           "name": "",
           "type": "choropleth",
           "z": [
            4621,
            17459,
            25793,
            14821,
            7728,
            25
           ]
          }
         ],
         "name": "2020-06-22"
        },
        {
         "data": [
          {
           "coloraxis": "coloraxis",
           "geo": "geo",
           "hovertemplate": "<b>%{hovertext}</b><br><br>date=2020-06-23<br>iso_code=%{location}<br>new_cases=%{z}<extra></extra>",
           "hovertext": [
            "Brazil",
            "United States",
            "South Africa",
            "Russia",
            "India",
            "Australia"
           ],
           "locations": [
            "BRA",
            "USA",
            "ZAF",
            "RUS",
            "IND",
            "AUS"
           ],
           "name": "",
           "type": "choropleth",
           "z": [
            21432,
            31390,
            4288,
            7600,
            14933,
            13
           ]
          }
         ],
         "name": "2020-06-23"
        },
        {
         "data": [
          {
           "coloraxis": "coloraxis",
           "geo": "geo",
           "hovertemplate": "<b>%{hovertext}</b><br><br>date=2020-06-24<br>iso_code=%{location}<br>new_cases=%{z}<extra></extra>",
           "hovertext": [
            "Brazil",
            "India",
            "Australia",
            "United States",
            "South Africa",
            "Russia"
           ],
           "locations": [
            "BRA",
            "IND",
            "AUS",
            "USA",
            "ZAF",
            "RUS"
           ],
           "name": "",
           "type": "choropleth",
           "z": [
            39436,
            15968,
            18,
            34720,
            4518,
            7425
           ]
          }
         ],
         "name": "2020-06-24"
        },
        {
         "data": [
          {
           "coloraxis": "coloraxis",
           "geo": "geo",
           "hovertemplate": "<b>%{hovertext}</b><br><br>date=2020-06-25<br>iso_code=%{location}<br>new_cases=%{z}<extra></extra>",
           "hovertext": [
            "Australia",
            "South Africa",
            "Brazil",
            "India",
            "Russia",
            "United States"
           ],
           "locations": [
            "AUS",
            "ZAF",
            "BRA",
            "IND",
            "RUS",
            "USA"
           ],
           "name": "",
           "type": "choropleth",
           "z": [
            29,
            5688,
            42725,
            16922,
            7176,
            34339
           ]
          }
         ],
         "name": "2020-06-25"
        },
        {
         "data": [
          {
           "coloraxis": "coloraxis",
           "geo": "geo",
           "hovertemplate": "<b>%{hovertext}</b><br><br>date=2020-06-26<br>iso_code=%{location}<br>new_cases=%{z}<extra></extra>",
           "hovertext": [
            "Australia",
            "South Africa",
            "Brazil",
            "India",
            "Russia",
            "United States"
           ],
           "locations": [
            "AUS",
            "ZAF",
            "BRA",
            "IND",
            "RUS",
            "USA"
           ],
           "name": "",
           "type": "choropleth",
           "z": [
            37,
            6579,
            39483,
            17296,
            7113,
            40949
           ]
          }
         ],
         "name": "2020-06-26"
        },
        {
         "data": [
          {
           "coloraxis": "coloraxis",
           "geo": "geo",
           "hovertemplate": "<b>%{hovertext}</b><br><br>date=2020-06-27<br>iso_code=%{location}<br>new_cases=%{z}<extra></extra>",
           "hovertext": [
            "United States",
            "Brazil",
            "South Africa",
            "Australia",
            "India",
            "Russia"
           ],
           "locations": [
            "USA",
            "BRA",
            "ZAF",
            "AUS",
            "IND",
            "RUS"
           ],
           "name": "",
           "type": "choropleth",
           "z": [
            45527,
            46860,
            6215,
            37,
            18552,
            6800
           ]
          }
         ],
         "name": "2020-06-27"
        },
        {
         "data": [
          {
           "coloraxis": "coloraxis",
           "geo": "geo",
           "hovertemplate": "<b>%{hovertext}</b><br><br>date=2020-06-28<br>iso_code=%{location}<br>new_cases=%{z}<extra></extra>",
           "hovertext": [
            "India",
            "United States",
            "Brazil",
            "South Africa",
            "Russia",
            "Australia"
           ],
           "locations": [
            "IND",
            "USA",
            "BRA",
            "ZAF",
            "RUS",
            "AUS"
           ],
           "name": "",
           "type": "choropleth",
           "z": [
            19906,
            42486,
            38693,
            7210,
            6852,
            46
           ]
          }
         ],
         "name": "2020-06-28"
        },
        {
         "data": [
          {
           "coloraxis": "coloraxis",
           "geo": "geo",
           "hovertemplate": "<b>%{hovertext}</b><br><br>date=2020-06-29<br>iso_code=%{location}<br>new_cases=%{z}<extra></extra>",
           "hovertext": [
            "Australia",
            "Brazil",
            "India",
            "Russia",
            "United States",
            "South Africa"
           ],
           "locations": [
            "AUS",
            "BRA",
            "IND",
            "RUS",
            "USA",
            "ZAF"
           ],
           "name": "",
           "type": "choropleth",
           "z": [
            45,
            30476,
            19459,
            6791,
            38673,
            6334
           ]
          }
         ],
         "name": "2020-06-29"
        },
        {
         "data": [
          {
           "coloraxis": "coloraxis",
           "geo": "geo",
           "hovertemplate": "<b>%{hovertext}</b><br><br>date=2020-06-30<br>iso_code=%{location}<br>new_cases=%{z}<extra></extra>",
           "hovertext": [
            "United States",
            "India",
            "Brazil",
            "South Africa",
            "Australia",
            "Russia"
           ],
           "locations": [
            "USA",
            "IND",
            "BRA",
            "ZAF",
            "AUS",
            "RUS"
           ],
           "name": "",
           "type": "choropleth",
           "z": [
            41556,
            18522,
            24052,
            6130,
            81,
            6719
           ]
          }
         ],
         "name": "2020-06-30"
        },
        {
         "data": [
          {
           "coloraxis": "coloraxis",
           "geo": "geo",
           "hovertemplate": "<b>%{hovertext}</b><br><br>date=2020-07-01<br>iso_code=%{location}<br>new_cases=%{z}<extra></extra>",
           "hovertext": [
            "Russia",
            "Australia",
            "United States",
            "India",
            "South Africa",
            "Brazil"
           ],
           "locations": [
            "RUS",
            "AUS",
            "USA",
            "IND",
            "ZAF",
            "BRA"
           ],
           "name": "",
           "type": "choropleth",
           "z": [
            6693,
            67,
            43880,
            18653,
            6945,
            33846
           ]
          }
         ],
         "name": "2020-07-01"
        },
        {
         "data": [
          {
           "coloraxis": "coloraxis",
           "geo": "geo",
           "hovertemplate": "<b>%{hovertext}</b><br><br>date=2020-07-02<br>iso_code=%{location}<br>new_cases=%{z}<extra></extra>",
           "hovertext": [
            "Russia",
            "Australia",
            "South Africa",
            "United States",
            "India",
            "Brazil"
           ],
           "locations": [
            "RUS",
            "AUS",
            "ZAF",
            "USA",
            "IND",
            "BRA"
           ],
           "name": "",
           "type": "choropleth",
           "z": [
            6556,
            86,
            8124,
            52048,
            19148,
            46712
           ]
          }
         ],
         "name": "2020-07-02"
        },
        {
         "data": [
          {
           "coloraxis": "coloraxis",
           "geo": "geo",
           "hovertemplate": "<b>%{hovertext}</b><br><br>date=2020-07-03<br>iso_code=%{location}<br>new_cases=%{z}<extra></extra>",
           "hovertext": [
            "United States",
            "Brazil",
            "South Africa",
            "Australia",
            "Russia",
            "India"
           ],
           "locations": [
            "USA",
            "BRA",
            "ZAF",
            "AUS",
            "RUS",
            "IND"
           ],
           "name": "",
           "type": "choropleth",
           "z": [
            53399,
            48105,
            8728,
            81,
            6760,
            20903
           ]
          }
         ],
         "name": "2020-07-03"
        },
        {
         "data": [
          {
           "coloraxis": "coloraxis",
           "geo": "geo",
           "hovertemplate": "<b>%{hovertext}</b><br><br>date=2020-07-04<br>iso_code=%{location}<br>new_cases=%{z}<extra></extra>",
           "hovertext": [
            "South Africa",
            "Australia",
            "Russia",
            "Brazil",
            "India",
            "United States"
           ],
           "locations": [
            "ZAF",
            "AUS",
            "RUS",
            "BRA",
            "IND",
            "USA"
           ],
           "name": "",
           "type": "choropleth",
           "z": [
            9063,
            254,
            6718,
            42223,
            22771,
            54442
           ]
          }
         ],
         "name": "2020-07-04"
        },
        {
         "data": [
          {
           "coloraxis": "coloraxis",
           "geo": "geo",
           "hovertemplate": "<b>%{hovertext}</b><br><br>date=2020-07-05<br>iso_code=%{location}<br>new_cases=%{z}<extra></extra>",
           "hovertext": [
            "Brazil",
            "Australia",
            "India",
            "United States",
            "South Africa",
            "Russia"
           ],
           "locations": [
            "BRA",
            "AUS",
            "IND",
            "USA",
            "ZAF",
            "RUS"
           ],
           "name": "",
           "type": "choropleth",
           "z": [
            37923,
            107,
            24850,
            45221,
            10853,
            6632
           ]
          }
         ],
         "name": "2020-07-05"
        },
        {
         "data": [
          {
           "coloraxis": "coloraxis",
           "geo": "geo",
           "hovertemplate": "<b>%{hovertext}</b><br><br>date=2020-07-06<br>iso_code=%{location}<br>new_cases=%{z}<extra></extra>",
           "hovertext": [
            "South Africa",
            "United States",
            "Brazil",
            "India",
            "Russia",
            "Australia"
           ],
           "locations": [
            "ZAF",
            "USA",
            "BRA",
            "IND",
            "RUS",
            "AUS"
           ],
           "name": "",
           "type": "choropleth",
           "z": [
            8773,
            49093,
            26051,
            24248,
            6736,
            87
           ]
          }
         ],
         "name": "2020-07-06"
        },
        {
         "data": [
          {
           "coloraxis": "coloraxis",
           "geo": "geo",
           "hovertemplate": "<b>%{hovertext}</b><br><br>date=2020-07-07<br>iso_code=%{location}<br>new_cases=%{z}<extra></extra>",
           "hovertext": [
            "United States",
            "Australia",
            "South Africa",
            "Brazil",
            "India",
            "Russia"
           ],
           "locations": [
            "USA",
            "AUS",
            "ZAF",
            "BRA",
            "IND",
            "RUS"
           ],
           "name": "",
           "type": "choropleth",
           "z": [
            49990,
            137,
            8971,
            20229,
            22252,
            6611
           ]
          }
         ],
         "name": "2020-07-07"
        },
        {
         "data": [
          {
           "coloraxis": "coloraxis",
           "geo": "geo",
           "hovertemplate": "<b>%{hovertext}</b><br><br>date=2020-07-08<br>iso_code=%{location}<br>new_cases=%{z}<extra></extra>",
           "hovertext": [
            "South Africa",
            "Russia",
            "United States",
            "India",
            "Australia",
            "Brazil"
           ],
           "locations": [
            "ZAF",
            "RUS",
            "USA",
            "IND",
            "AUS",
            "BRA"
           ],
           "name": "",
           "type": "choropleth",
           "z": [
            10134,
            6368,
            57473,
            22752,
            169,
            45305
           ]
          }
         ],
         "name": "2020-07-08"
        },
        {
         "data": [
          {
           "coloraxis": "coloraxis",
           "geo": "geo",
           "hovertemplate": "<b>%{hovertext}</b><br><br>date=2020-07-09<br>iso_code=%{location}<br>new_cases=%{z}<extra></extra>",
           "hovertext": [
            "United States",
            "South Africa",
            "Australia",
            "Brazil",
            "Russia",
            "India"
           ],
           "locations": [
            "USA",
            "ZAF",
            "AUS",
            "BRA",
            "RUS",
            "IND"
           ],
           "name": "",
           "type": "choropleth",
           "z": [
            58906,
            8810,
            131,
            44571,
            6562,
            24879
           ]
          }
         ],
         "name": "2020-07-09"
        },
        {
         "data": [
          {
           "coloraxis": "coloraxis",
           "geo": "geo",
           "hovertemplate": "<b>%{hovertext}</b><br><br>date=2020-07-10<br>iso_code=%{location}<br>new_cases=%{z}<extra></extra>",
           "hovertext": [
            "Australia",
            "South Africa",
            "Russia",
            "Brazil",
            "India",
            "United States"
           ],
           "locations": [
            "AUS",
            "ZAF",
            "RUS",
            "BRA",
            "IND",
            "USA"
           ],
           "name": "",
           "type": "choropleth",
           "z": [
            173,
            13674,
            6509,
            42619,
            26506,
            63004
           ]
          }
         ],
         "name": "2020-07-10"
        },
        {
         "data": [
          {
           "coloraxis": "coloraxis",
           "geo": "geo",
           "hovertemplate": "<b>%{hovertext}</b><br><br>date=2020-07-11<br>iso_code=%{location}<br>new_cases=%{z}<extra></extra>",
           "hovertext": [
            "Australia",
            "United States",
            "India",
            "Brazil",
            "South Africa",
            "Russia"
           ],
           "locations": [
            "AUS",
            "USA",
            "IND",
            "BRA",
            "ZAF",
            "RUS"
           ],
           "name": "",
           "type": "choropleth",
           "z": [
            300,
            66625,
            27114,
            45048,
            12348,
            6635
           ]
          }
         ],
         "name": "2020-07-11"
        },
        {
         "data": [
          {
           "coloraxis": "coloraxis",
           "geo": "geo",
           "hovertemplate": "<b>%{hovertext}</b><br><br>date=2020-07-12<br>iso_code=%{location}<br>new_cases=%{z}<extra></extra>",
           "hovertext": [
            "Brazil",
            "India",
            "South Africa",
            "United States",
            "Russia",
            "Australia"
           ],
           "locations": [
            "BRA",
            "IND",
            "ZAF",
            "USA",
            "RUS",
            "AUS"
           ],
           "name": "",
           "type": "choropleth",
           "z": [
            39023,
            28637,
            13497,
            63051,
            6611,
            194
           ]
          }
         ],
         "name": "2020-07-12"
        },
        {
         "data": [
          {
           "coloraxis": "coloraxis",
           "geo": "geo",
           "hovertemplate": "<b>%{hovertext}</b><br><br>date=2020-07-13<br>iso_code=%{location}<br>new_cases=%{z}<extra></extra>",
           "hovertext": [
            "India",
            "United States",
            "Russia",
            "Australia",
            "Brazil",
            "South Africa"
           ],
           "locations": [
            "IND",
            "USA",
            "RUS",
            "AUS",
            "BRA",
            "ZAF"
           ],
           "name": "",
           "type": "choropleth",
           "z": [
            28701,
            57258,
            6615,
            244,
            24831,
            12058
           ]
          }
         ],
         "name": "2020-07-13"
        },
        {
         "data": [
          {
           "coloraxis": "coloraxis",
           "geo": "geo",
           "hovertemplate": "<b>%{hovertext}</b><br><br>date=2020-07-14<br>iso_code=%{location}<br>new_cases=%{z}<extra></extra>",
           "hovertext": [
            "Brazil",
            "Russia",
            "Australia",
            "India",
            "South Africa",
            "United States"
           ],
           "locations": [
            "BRA",
            "RUS",
            "AUS",
            "IND",
            "ZAF",
            "USA"
           ],
           "name": "",
           "type": "choropleth",
           "z": [
            20286,
            6537,
            183,
            28498,
            11554,
            58114
           ]
          }
         ],
         "name": "2020-07-14"
        },
        {
         "data": [
          {
           "coloraxis": "coloraxis",
           "geo": "geo",
           "hovertemplate": "<b>%{hovertext}</b><br><br>date=2020-07-15<br>iso_code=%{location}<br>new_cases=%{z}<extra></extra>",
           "hovertext": [
            "United States",
            "South Africa",
            "Russia",
            "Brazil",
            "Australia",
            "India"
           ],
           "locations": [
            "USA",
            "ZAF",
            "RUS",
            "BRA",
            "AUS",
            "IND"
           ],
           "name": "",
           "type": "choropleth",
           "z": [
            68518,
            10496,
            6248,
            41857,
            271,
            29429
           ]
          }
         ],
         "name": "2020-07-15"
        },
        {
         "data": [
          {
           "coloraxis": "coloraxis",
           "geo": "geo",
           "hovertemplate": "<b>%{hovertext}</b><br><br>date=2020-07-16<br>iso_code=%{location}<br>new_cases=%{z}<extra></extra>",
           "hovertext": [
            "Russia",
            "Australia",
            "South Africa",
            "United States",
            "India",
            "Brazil"
           ],
           "locations": [
            "RUS",
            "AUS",
            "ZAF",
            "USA",
            "IND",
            "BRA"
           ],
           "name": "",
           "type": "choropleth",
           "z": [
            6422,
            244,
            12757,
            67717,
            32695,
            39924
           ]
          }
         ],
         "name": "2020-07-16"
        },
        {
         "data": [
          {
           "coloraxis": "coloraxis",
           "geo": "geo",
           "hovertemplate": "<b>%{hovertext}</b><br><br>date=2020-07-17<br>iso_code=%{location}<br>new_cases=%{z}<extra></extra>",
           "hovertext": [
            "United States",
            "Australia",
            "India",
            "Russia",
            "Brazil",
            "South Africa"
           ],
           "locations": [
            "USA",
            "AUS",
            "IND",
            "RUS",
            "BRA",
            "ZAF"
           ],
           "name": "",
           "type": "choropleth",
           "z": [
            76930,
            315,
            34956,
            6428,
            45403,
            13172
           ]
          }
         ],
         "name": "2020-07-17"
        },
        {
         "data": [
          {
           "coloraxis": "coloraxis",
           "geo": "geo",
           "hovertemplate": "<b>%{hovertext}</b><br><br>date=2020-07-18<br>iso_code=%{location}<br>new_cases=%{z}<extra></extra>",
           "hovertext": [
            "India",
            "Russia",
            "Brazil",
            "United States",
            "South Africa",
            "Australia"
           ],
           "locations": [
            "IND",
            "RUS",
            "BRA",
            "USA",
            "ZAF",
            "AUS"
           ],
           "name": "",
           "type": "choropleth",
           "z": [
            34884,
            6406,
            34177,
            71494,
            13373,
            425
           ]
          }
         ],
         "name": "2020-07-18"
        },
        {
         "data": [
          {
           "coloraxis": "coloraxis",
           "geo": "geo",
           "hovertemplate": "<b>%{hovertext}</b><br><br>date=2020-07-19<br>iso_code=%{location}<br>new_cases=%{z}<extra></extra>",
           "hovertext": [
            "Russia",
            "India",
            "Australia",
            "United States",
            "Brazil",
            "South Africa"
           ],
           "locations": [
            "RUS",
            "IND",
            "AUS",
            "USA",
            "BRA",
            "ZAF"
           ],
           "name": "",
           "type": "choropleth",
           "z": [
            6234,
            38902,
            206,
            63749,
            28532,
            13285
           ]
          }
         ],
         "name": "2020-07-19"
        },
        {
         "data": [
          {
           "coloraxis": "coloraxis",
           "geo": "geo",
           "hovertemplate": "<b>%{hovertext}</b><br><br>date=2020-07-20<br>iso_code=%{location}<br>new_cases=%{z}<extra></extra>",
           "hovertext": [
            "Australia",
            "India",
            "Brazil",
            "United States",
            "South Africa",
            "Russia"
           ],
           "locations": [
            "AUS",
            "IND",
            "BRA",
            "USA",
            "ZAF",
            "RUS"
           ],
           "name": "",
           "type": "choropleth",
           "z": [
            361,
            40425,
            23529,
            61796,
            13449,
            6109
           ]
          }
         ],
         "name": "2020-07-20"
        },
        {
         "data": [
          {
           "coloraxis": "coloraxis",
           "geo": "geo",
           "hovertemplate": "<b>%{hovertext}</b><br><br>date=2020-07-21<br>iso_code=%{location}<br>new_cases=%{z}<extra></extra>",
           "hovertext": [
            "United States",
            "South Africa",
            "Australia",
            "India",
            "Russia",
            "Brazil"
           ],
           "locations": [
            "USA",
            "ZAF",
            "AUS",
            "IND",
            "RUS",
            "BRA"
           ],
           "name": "",
           "type": "choropleth",
           "z": [
            56750,
            9300,
            267,
            37148,
            5940,
            20257
           ]
          }
         ],
         "name": "2020-07-21"
        },
        {
         "data": [
          {
           "coloraxis": "coloraxis",
           "geo": "geo",
           "hovertemplate": "<b>%{hovertext}</b><br><br>date=2020-07-22<br>iso_code=%{location}<br>new_cases=%{z}<extra></extra>",
           "hovertext": [
            "United States",
            "Brazil",
            "Russia",
            "Australia",
            "India",
            "South Africa"
           ],
           "locations": [
            "USA",
            "BRA",
            "RUS",
            "AUS",
            "IND",
            "ZAF"
           ],
           "name": "",
           "type": "choropleth",
           "z": [
            72048,
            41008,
            5842,
            359,
            37724,
            8170
           ]
          }
         ],
         "name": "2020-07-22"
        },
        {
         "data": [
          {
           "coloraxis": "coloraxis",
           "geo": "geo",
           "hovertemplate": "<b>%{hovertext}</b><br><br>date=2020-07-23<br>iso_code=%{location}<br>new_cases=%{z}<extra></extra>",
           "hovertext": [
            "South Africa",
            "Australia",
            "United States",
            "Russia",
            "Brazil",
            "India"
           ],
           "locations": [
            "ZAF",
            "AUS",
            "USA",
            "RUS",
            "BRA",
            "IND"
           ],
           "name": "",
           "type": "choropleth",
           "z": [
            13150,
            468,
            68848,
            5862,
            67860,
            45720
           ]
          }
         ],
         "name": "2020-07-23"
        },
        {
         "data": [
          {
           "coloraxis": "coloraxis",
           "geo": "geo",
           "hovertemplate": "<b>%{hovertext}</b><br><br>date=2020-07-24<br>iso_code=%{location}<br>new_cases=%{z}<extra></extra>",
           "hovertext": [
            "Australia",
            "Brazil",
            "South Africa",
            "Russia",
            "India",
            "United States"
           ],
           "locations": [
            "AUS",
            "BRA",
            "ZAF",
            "RUS",
            "IND",
            "USA"
           ],
           "name": "",
           "type": "choropleth",
           "z": [
            410,
            59961,
            13104,
            5848,
            49310,
            63196
           ]
          }
         ],
         "name": "2020-07-24"
        },
        {
         "data": [
          {
           "coloraxis": "coloraxis",
           "geo": "geo",
           "hovertemplate": "<b>%{hovertext}</b><br><br>date=2020-07-25<br>iso_code=%{location}<br>new_cases=%{z}<extra></extra>",
           "hovertext": [
            "Brazil",
            "South Africa",
            "India",
            "Australia",
            "United States",
            "Russia"
           ],
           "locations": [
            "BRA",
            "ZAF",
            "IND",
            "AUS",
            "USA",
            "RUS"
           ],
           "name": "",
           "type": "choropleth",
           "z": [
            55891,
            13944,
            48916,
            289,
            78427,
            5811
           ]
          }
         ],
         "name": "2020-07-25"
        },
        {
         "data": [
          {
           "coloraxis": "coloraxis",
           "geo": "geo",
           "hovertemplate": "<b>%{hovertext}</b><br><br>date=2020-07-26<br>iso_code=%{location}<br>new_cases=%{z}<extra></extra>",
           "hovertext": [
            "United States",
            "South Africa",
            "Australia",
            "India",
            "Russia",
            "Brazil"
           ],
           "locations": [
            "USA",
            "ZAF",
            "AUS",
            "IND",
            "RUS",
            "BRA"
           ],
           "name": "",
           "type": "choropleth",
           "z": [
            65498,
            12204,
            355,
            48661,
            5871,
            51147
           ]
          }
         ],
         "name": "2020-07-26"
        },
        {
         "data": [
          {
           "coloraxis": "coloraxis",
           "geo": "geo",
           "hovertemplate": "<b>%{hovertext}</b><br><br>date=2020-07-27<br>iso_code=%{location}<br>new_cases=%{z}<extra></extra>",
           "hovertext": [
            "Australia",
            "South Africa",
            "United States",
            "India",
            "Brazil",
            "Russia"
           ],
           "locations": [
            "AUS",
            "ZAF",
            "USA",
            "IND",
            "BRA",
            "RUS"
           ],
           "name": "",
           "type": "choropleth",
           "z": [
            453,
            11233,
            55993,
            49931,
            24578,
            5765
           ]
          }
         ],
         "name": "2020-07-27"
        },
        {
         "data": [
          {
           "coloraxis": "coloraxis",
           "geo": "geo",
           "hovertemplate": "<b>%{hovertext}</b><br><br>date=2020-07-28<br>iso_code=%{location}<br>new_cases=%{z}<extra></extra>",
           "hovertext": [
            "India",
            "Brazil",
            "South Africa",
            "United States",
            "Australia",
            "Russia"
           ],
           "locations": [
            "IND",
            "BRA",
            "ZAF",
            "USA",
            "AUS",
            "RUS"
           ],
           "name": "",
           "type": "choropleth",
           "z": [
            47703,
            23284,
            7096,
            56243,
            532,
            5635
           ]
          }
         ],
         "name": "2020-07-28"
        },
        {
         "data": [
          {
           "coloraxis": "coloraxis",
           "geo": "geo",
           "hovertemplate": "<b>%{hovertext}</b><br><br>date=2020-07-29<br>iso_code=%{location}<br>new_cases=%{z}<extra></extra>",
           "hovertext": [
            "United States",
            "Australia",
            "Brazil",
            "India",
            "Russia",
            "South Africa"
           ],
           "locations": [
            "USA",
            "AUS",
            "BRA",
            "IND",
            "RUS",
            "ZAF"
           ],
           "name": "",
           "type": "choropleth",
           "z": [
            61734,
            369,
            40816,
            48513,
            5395,
            7232
           ]
          }
         ],
         "name": "2020-07-29"
        },
        {
         "data": [
          {
           "coloraxis": "coloraxis",
           "geo": "geo",
           "hovertemplate": "<b>%{hovertext}</b><br><br>date=2020-07-30<br>iso_code=%{location}<br>new_cases=%{z}<extra></extra>",
           "hovertext": [
            "Brazil",
            "United States",
            "Russia",
            "South Africa",
            "India",
            "Australia"
           ],
           "locations": [
            "BRA",
            "USA",
            "RUS",
            "ZAF",
            "IND",
            "AUS"
           ],
           "name": "",
           "type": "choropleth",
           "z": [
            69074,
            74985,
            5475,
            11362,
            52123,
            278
           ]
          }
         ],
         "name": "2020-07-30"
        },
        {
         "data": [
          {
           "coloraxis": "coloraxis",
           "geo": "geo",
           "hovertemplate": "<b>%{hovertext}</b><br><br>date=2020-07-31<br>iso_code=%{location}<br>new_cases=%{z}<extra></extra>",
           "hovertext": [
            "United States",
            "South Africa",
            "India",
            "Russia",
            "Brazil",
            "Australia"
           ],
           "locations": [
            "USA",
            "ZAF",
            "IND",
            "RUS",
            "BRA",
            "AUS"
           ],
           "name": "",
           "type": "choropleth",
           "z": [
            68032,
            11046,
            55078,
            5509,
            57837,
            721
           ]
          }
         ],
         "name": "2020-07-31"
        },
        {
         "data": [
          {
           "coloraxis": "coloraxis",
           "geo": "geo",
           "hovertemplate": "<b>%{hovertext}</b><br><br>date=2020-08-01<br>iso_code=%{location}<br>new_cases=%{z}<extra></extra>",
           "hovertext": [
            "Australia",
            "United States",
            "India",
            "Russia",
            "Brazil",
            "South Africa"
           ],
           "locations": [
            "AUS",
            "USA",
            "IND",
            "RUS",
            "BRA",
            "ZAF"
           ],
           "name": "",
           "type": "choropleth",
           "z": [
            602,
            67023,
            57118,
            5482,
            52383,
            11014
           ]
          }
         ],
         "name": "2020-08-01"
        },
        {
         "data": [
          {
           "coloraxis": "coloraxis",
           "geo": "geo",
           "hovertemplate": "<b>%{hovertext}</b><br><br>date=2020-08-02<br>iso_code=%{location}<br>new_cases=%{z}<extra></extra>",
           "hovertext": [
            "United States",
            "India",
            "South Africa",
            "Brazil",
            "Russia",
            "Australia"
           ],
           "locations": [
            "USA",
            "IND",
            "ZAF",
            "BRA",
            "RUS",
            "AUS"
           ],
           "name": "",
           "type": "choropleth",
           "z": [
            58407,
            54735,
            10107,
            45392,
            5462,
            377
           ]
          }
         ],
         "name": "2020-08-02"
        },
        {
         "data": [
          {
           "coloraxis": "coloraxis",
           "geo": "geo",
           "hovertemplate": "<b>%{hovertext}</b><br><br>date=2020-08-03<br>iso_code=%{location}<br>new_cases=%{z}<extra></extra>",
           "hovertext": [
            "Brazil",
            "India",
            "United States",
            "Russia",
            "South Africa",
            "Australia"
           ],
           "locations": [
            "BRA",
            "IND",
            "USA",
            "RUS",
            "ZAF",
            "AUS"
           ],
           "name": "",
           "type": "choropleth",
           "z": [
            25800,
            52972,
            47511,
            5427,
            8195,
            641
           ]
          }
         ],
         "name": "2020-08-03"
        },
        {
         "data": [
          {
           "coloraxis": "coloraxis",
           "geo": "geo",
           "hovertemplate": "<b>%{hovertext}</b><br><br>date=2020-08-04<br>iso_code=%{location}<br>new_cases=%{z}<extra></extra>",
           "hovertext": [
            "Australia",
            "Brazil",
            "Russia",
            "United States",
            "India",
            "South Africa"
           ],
           "locations": [
            "AUS",
            "BRA",
            "RUS",
            "USA",
            "IND",
            "ZAF"
           ],
           "name": "",
           "type": "choropleth",
           "z": [
            395,
            16641,
            5394,
            45607,
            52050,
            5377
           ]
          }
         ],
         "name": "2020-08-04"
        },
        {
         "data": [
          {
           "coloraxis": "coloraxis",
           "geo": "geo",
           "hovertemplate": "<b>%{hovertext}</b><br><br>date=2020-08-05<br>iso_code=%{location}<br>new_cases=%{z}<extra></extra>",
           "hovertext": [
            "Brazil",
            "Australia",
            "South Africa",
            "Russia",
            "United States",
            "India"
           ],
           "locations": [
            "BRA",
            "AUS",
            "ZAF",
            "RUS",
            "USA",
            "IND"
           ],
           "name": "",
           "type": "choropleth",
           "z": [
            51603,
            411,
            4456,
            5159,
            57525,
            52509
           ]
          }
         ],
         "name": "2020-08-05"
        },
        {
         "data": [
          {
           "coloraxis": "coloraxis",
           "geo": "geo",
           "hovertemplate": "<b>%{hovertext}</b><br><br>date=2020-08-06<br>iso_code=%{location}<br>new_cases=%{z}<extra></extra>",
           "hovertext": [
            "United States",
            "Australia",
            "Russia",
            "South Africa",
            "India",
            "Brazil"
           ],
           "locations": [
            "USA",
            "AUS",
            "RUS",
            "ZAF",
            "IND",
            "BRA"
           ],
           "name": "",
           "type": "choropleth",
           "z": [
            52804,
            715,
            5920,
            8559,
            56282,
            57152
           ]
          }
         ],
         "name": "2020-08-06"
        },
        {
         "data": [
          {
           "coloraxis": "coloraxis",
           "geo": "geo",
           "hovertemplate": "<b>%{hovertext}</b><br><br>date=2020-08-07<br>iso_code=%{location}<br>new_cases=%{z}<extra></extra>",
           "hovertext": [
            "Australia",
            "United States",
            "South Africa",
            "Russia",
            "India",
            "Brazil"
           ],
           "locations": [
            "AUS",
            "USA",
            "ZAF",
            "RUS",
            "IND",
            "BRA"
           ],
           "name": "",
           "type": "choropleth",
           "z": [
            418,
            59755,
            8307,
            4551,
            62538,
            53139
           ]
          }
         ],
         "name": "2020-08-07"
        },
        {
         "data": [
          {
           "coloraxis": "coloraxis",
           "geo": "geo",
           "hovertemplate": "<b>%{hovertext}</b><br><br>date=2020-08-08<br>iso_code=%{location}<br>new_cases=%{z}<extra></extra>",
           "hovertext": [
            "Brazil",
            "Russia",
            "United States",
            "South Africa",
            "India",
            "Australia"
           ],
           "locations": [
            "BRA",
            "RUS",
            "USA",
            "ZAF",
            "IND",
            "AUS"
           ],
           "name": "",
           "type": "choropleth",
           "z": [
            50230,
            5241,
            58150,
            7292,
            61537,
            410
           ]
          }
         ],
         "name": "2020-08-08"
        },
        {
         "data": [
          {
           "coloraxis": "coloraxis",
           "geo": "geo",
           "hovertemplate": "<b>%{hovertext}</b><br><br>date=2020-08-09<br>iso_code=%{location}<br>new_cases=%{z}<extra></extra>",
           "hovertext": [
            "Australia",
            "Russia",
            "United States",
            "South Africa",
            "India",
            "Brazil"
           ],
           "locations": [
            "AUS",
            "RUS",
            "USA",
            "ZAF",
            "IND",
            "BRA"
           ],
           "name": "",
           "type": "choropleth",
           "z": [
            426,
            5212,
            56221,
            7712,
            64399,
            49970
           ]
          }
         ],
         "name": "2020-08-09"
        },
        {
         "data": [
          {
           "coloraxis": "coloraxis",
           "geo": "geo",
           "hovertemplate": "<b>%{hovertext}</b><br><br>date=2020-08-10<br>iso_code=%{location}<br>new_cases=%{z}<extra></extra>",
           "hovertext": [
            "South Africa",
            "India",
            "Australia",
            "United States",
            "Russia",
            "Brazil"
           ],
           "locations": [
            "ZAF",
            "IND",
            "AUS",
            "USA",
            "RUS",
            "BRA"
           ],
           "name": "",
           "type": "choropleth",
           "z": [
            6670,
            62064,
            386,
            46847,
            5189,
            23010
           ]
          }
         ],
         "name": "2020-08-10"
        },
        {
         "data": [
          {
           "coloraxis": "coloraxis",
           "geo": "geo",
           "hovertemplate": "<b>%{hovertext}</b><br><br>date=2020-08-11<br>iso_code=%{location}<br>new_cases=%{z}<extra></extra>",
           "hovertext": [
            "Brazil",
            "United States",
            "India",
            "Russia",
            "South Africa",
            "Australia"
           ],
           "locations": [
            "BRA",
            "USA",
            "IND",
            "RUS",
            "ZAF",
            "AUS"
           ],
           "name": "",
           "type": "choropleth",
           "z": [
            22048,
            49530,
            53601,
            5118,
            3740,
            313
           ]
          }
         ],
         "name": "2020-08-11"
        },
        {
         "data": [
          {
           "coloraxis": "coloraxis",
           "geo": "geo",
           "hovertemplate": "<b>%{hovertext}</b><br><br>date=2020-08-12<br>iso_code=%{location}<br>new_cases=%{z}<extra></extra>",
           "hovertext": [
            "United States",
            "India",
            "Russia",
            "Australia",
            "Brazil",
            "South Africa"
           ],
           "locations": [
            "USA",
            "IND",
            "RUS",
            "AUS",
            "BRA",
            "ZAF"
           ],
           "name": "",
           "type": "choropleth",
           "z": [
            46813,
            60963,
            4945,
            316,
            52160,
            2511
           ]
          }
         ],
         "name": "2020-08-12"
        },
        {
         "data": [
          {
           "coloraxis": "coloraxis",
           "geo": "geo",
           "hovertemplate": "<b>%{hovertext}</b><br><br>date=2020-08-13<br>iso_code=%{location}<br>new_cases=%{z}<extra></extra>",
           "hovertext": [
            "Brazil",
            "Australia",
            "South Africa",
            "United States",
            "Russia",
            "India"
           ],
           "locations": [
            "BRA",
            "AUS",
            "ZAF",
            "USA",
            "RUS",
            "IND"
           ],
           "name": "",
           "type": "choropleth",
           "z": [
            55155,
            414,
            2810,
            55941,
            5102,
            66999
           ]
          }
         ],
         "name": "2020-08-13"
        },
        {
         "data": [
          {
           "coloraxis": "coloraxis",
           "geo": "geo",
           "hovertemplate": "<b>%{hovertext}</b><br><br>date=2020-08-14<br>iso_code=%{location}<br>new_cases=%{z}<extra></extra>",
           "hovertext": [
            "Australia",
            "United States",
            "Brazil",
            "South Africa",
            "Russia",
            "India"
           ],
           "locations": [
            "AUS",
            "USA",
            "BRA",
            "ZAF",
            "RUS",
            "IND"
           ],
           "name": "",
           "type": "choropleth",
           "z": [
            231,
            51094,
            60091,
            3946,
            5057,
            64553
           ]
          }
         ],
         "name": "2020-08-14"
        },
        {
         "data": [
          {
           "coloraxis": "coloraxis",
           "geo": "geo",
           "hovertemplate": "<b>%{hovertext}</b><br><br>date=2020-08-15<br>iso_code=%{location}<br>new_cases=%{z}<extra></extra>",
           "hovertext": [
            "India",
            "Russia",
            "United States",
            "South Africa",
            "Australia",
            "Brazil"
           ],
           "locations": [
            "IND",
            "RUS",
            "USA",
            "ZAF",
            "AUS",
            "BRA"
           ],
           "name": "",
           "type": "choropleth",
           "z": [
            65002,
            5065,
            64838,
            6275,
            385,
            50644
           ]
          }
         ],
         "name": "2020-08-15"
        },
        {
         "data": [
          {
           "coloraxis": "coloraxis",
           "geo": "geo",
           "hovertemplate": "<b>%{hovertext}</b><br><br>date=2020-08-16<br>iso_code=%{location}<br>new_cases=%{z}<extra></extra>",
           "hovertext": [
            "India",
            "Brazil",
            "Australia",
            "United States",
            "South Africa",
            "Russia"
           ],
           "locations": [
            "IND",
            "BRA",
            "AUS",
            "USA",
            "ZAF",
            "RUS"
           ],
           "name": "",
           "type": "choropleth",
           "z": [
            63490,
            41576,
            292,
            48085,
            4513,
            5061
           ]
          }
         ],
         "name": "2020-08-16"
        },
        {
         "data": [
          {
           "coloraxis": "coloraxis",
           "geo": "geo",
           "hovertemplate": "<b>%{hovertext}</b><br><br>date=2020-08-17<br>iso_code=%{location}<br>new_cases=%{z}<extra></extra>",
           "hovertext": [
            "Australia",
            "United States",
            "Brazil",
            "Russia",
            "South Africa",
            "India"
           ],
           "locations": [
            "AUS",
            "USA",
            "BRA",
            "RUS",
            "ZAF",
            "IND"
           ],
           "name": "",
           "type": "choropleth",
           "z": [
            253,
            42104,
            23101,
            4969,
            3692,
            57981
           ]
          }
         ],
         "name": "2020-08-17"
        },
        {
         "data": [
          {
           "coloraxis": "coloraxis",
           "geo": "geo",
           "hovertemplate": "<b>%{hovertext}</b><br><br>date=2020-08-18<br>iso_code=%{location}<br>new_cases=%{z}<extra></extra>",
           "hovertext": [
            "Brazil",
            "South Africa",
            "Russia",
            "India",
            "Australia",
            "United States"
           ],
           "locations": [
            "BRA",
            "ZAF",
            "RUS",
            "IND",
            "AUS",
            "USA"
           ],
           "name": "",
           "type": "choropleth",
           "z": [
            19373,
            2541,
            4892,
            55079,
            311,
            35056
           ]
          }
         ],
         "name": "2020-08-18"
        },
        {
         "data": [
          {
           "coloraxis": "coloraxis",
           "geo": "geo",
           "hovertemplate": "<b>%{hovertext}</b><br><br>date=2020-08-19<br>iso_code=%{location}<br>new_cases=%{z}<extra></extra>",
           "hovertext": [
            "Russia",
            "South Africa",
            "Brazil",
            "India",
            "Australia",
            "United States"
           ],
           "locations": [
            "RUS",
            "ZAF",
            "BRA",
            "IND",
            "AUS",
            "USA"
           ],
           "name": "",
           "type": "choropleth",
           "z": [
            4748,
            2258,
            47784,
            64531,
            174,
            44091
           ]
          }
         ],
         "name": "2020-08-19"
        },
        {
         "data": [
          {
           "coloraxis": "coloraxis",
           "geo": "geo",
           "hovertemplate": "<b>%{hovertext}</b><br><br>date=2020-08-20<br>iso_code=%{location}<br>new_cases=%{z}<extra></extra>",
           "hovertext": [
            "South Africa",
            "India",
            "Australia",
            "Russia",
            "United States",
            "Brazil"
           ],
           "locations": [
            "ZAF",
            "IND",
            "AUS",
            "RUS",
            "USA",
            "BRA"
           ],
           "name": "",
           "type": "choropleth",
           "z": [
            3916,
            69652,
            220,
            4828,
            47426,
            49298
           ]
          }
         ],
         "name": "2020-08-20"
        },
        {
         "data": [
          {
           "coloraxis": "coloraxis",
           "geo": "geo",
           "hovertemplate": "<b>%{hovertext}</b><br><br>date=2020-08-21<br>iso_code=%{location}<br>new_cases=%{z}<extra></extra>",
           "hovertext": [
            "United States",
            "Australia",
            "Russia",
            "Brazil",
            "India",
            "South Africa"
           ],
           "locations": [
            "USA",
            "AUS",
            "RUS",
            "BRA",
            "IND",
            "ZAF"
           ],
           "name": "",
           "type": "choropleth",
           "z": [
            44005,
            243,
            4785,
            45323,
            68898,
            3880
           ]
          }
         ],
         "name": "2020-08-21"
        },
        {
         "data": [
          {
           "coloraxis": "coloraxis",
           "geo": "geo",
           "hovertemplate": "<b>%{hovertext}</b><br><br>date=2020-08-22<br>iso_code=%{location}<br>new_cases=%{z}<extra></extra>",
           "hovertext": [
            "South Africa",
            "Brazil",
            "Russia",
            "Australia",
            "United States",
            "India"
           ],
           "locations": [
            "ZAF",
            "BRA",
            "RUS",
            "AUS",
            "USA",
            "IND"
           ],
           "name": "",
           "type": "choropleth",
           "z": [
            3398,
            30355,
            4870,
            171,
            49880,
            69878
           ]
          }
         ],
         "name": "2020-08-22"
        },
        {
         "data": [
          {
           "coloraxis": "coloraxis",
           "geo": "geo",
           "hovertemplate": "<b>%{hovertext}</b><br><br>date=2020-08-23<br>iso_code=%{location}<br>new_cases=%{z}<extra></extra>",
           "hovertext": [
            "Russia",
            "United States",
            "India",
            "Brazil",
            "South Africa",
            "Australia"
           ],
           "locations": [
            "RUS",
            "USA",
            "IND",
            "BRA",
            "ZAF",
            "AUS"
           ],
           "name": "",
           "type": "choropleth",
           "z": [
            4921,
            44378,
            69239,
            50032,
            3707,
            195
           ]
          }
         ],
         "name": "2020-08-23"
        },
        {
         "data": [
          {
           "coloraxis": "coloraxis",
           "geo": "geo",
           "hovertemplate": "<b>%{hovertext}</b><br><br>date=2020-08-24<br>iso_code=%{location}<br>new_cases=%{z}<extra></extra>",
           "hovertext": [
            "Brazil",
            "South Africa",
            "Australia",
            "Russia",
            "India",
            "United States"
           ],
           "locations": [
            "BRA",
            "ZAF",
            "AUS",
            "RUS",
            "IND",
            "USA"
           ],
           "name": "",
           "type": "choropleth",
           "z": [
            23421,
            2728,
            210,
            4852,
            61408,
            34506
           ]
          }
         ],
         "name": "2020-08-24"
        },
        {
         "data": [
          {
           "coloraxis": "coloraxis",
           "geo": "geo",
           "hovertemplate": "<b>%{hovertext}</b><br><br>date=2020-08-25<br>iso_code=%{location}<br>new_cases=%{z}<extra></extra>",
           "hovertext": [
            "India",
            "Brazil",
            "Russia",
            "United States",
            "Australia",
            "South Africa"
           ],
           "locations": [
            "IND",
            "BRA",
            "RUS",
            "USA",
            "AUS",
            "ZAF"
           ],
           "name": "",
           "type": "choropleth",
           "z": [
            60975,
            17078,
            4744,
            38298,
            104,
            1677
           ]
          }
         ],
         "name": "2020-08-25"
        },
        {
         "data": [
          {
           "coloraxis": "coloraxis",
           "geo": "geo",
           "hovertemplate": "<b>%{hovertext}</b><br><br>date=2020-08-26<br>iso_code=%{location}<br>new_cases=%{z}<extra></extra>",
           "hovertext": [
            "United States",
            "Brazil",
            "India",
            "Russia",
            "South Africa",
            "Australia"
           ],
           "locations": [
            "USA",
            "BRA",
            "IND",
            "RUS",
            "ZAF",
            "AUS"
           ],
           "name": "",
           "type": "choropleth",
           "z": [
            38119,
            47134,
            67151,
            4696,
            1567,
            137
           ]
          }
         ],
         "name": "2020-08-26"
        },
        {
         "data": [
          {
           "coloraxis": "coloraxis",
           "geo": "geo",
           "hovertemplate": "<b>%{hovertext}</b><br><br>date=2020-08-27<br>iso_code=%{location}<br>new_cases=%{z}<extra></extra>",
           "hovertext": [
            "Australia",
            "Brazil",
            "India",
            "South Africa",
            "Russia",
            "United States"
           ],
           "locations": [
            "AUS",
            "BRA",
            "IND",
            "ZAF",
            "RUS",
            "USA"
           ],
           "name": "",
           "type": "choropleth",
           "z": [
            152,
            47161,
            75760,
            2684,
            4676,
            42848
           ]
          }
         ],
         "name": "2020-08-27"
        },
        {
         "data": [
          {
           "coloraxis": "coloraxis",
           "geo": "geo",
           "hovertemplate": "<b>%{hovertext}</b><br><br>date=2020-08-28<br>iso_code=%{location}<br>new_cases=%{z}<extra></extra>",
           "hovertext": [
            "India",
            "Russia",
            "United States",
            "Australia",
            "Brazil",
            "South Africa"
           ],
           "locations": [
            "IND",
            "RUS",
            "USA",
            "AUS",
            "BRA",
            "ZAF"
           ],
           "name": "",
           "type": "choropleth",
           "z": [
            77266,
            4711,
            45909,
            117,
            44235,
            2585
           ]
          }
         ],
         "name": "2020-08-28"
        },
        {
         "data": [
          {
           "coloraxis": "coloraxis",
           "geo": "geo",
           "hovertemplate": "<b>%{hovertext}</b><br><br>date=2020-08-29<br>iso_code=%{location}<br>new_cases=%{z}<extra></extra>",
           "hovertext": [
            "United States",
            "Australia",
            "South Africa",
            "India",
            "Brazil",
            "Russia"
           ],
           "locations": [
            "USA",
            "AUS",
            "ZAF",
            "IND",
            "BRA",
            "RUS"
           ],
           "name": "",
           "type": "choropleth",
           "z": [
            49654,
            126,
            1837,
            76472,
            43412,
            4829
           ]
          }
         ],
         "name": "2020-08-29"
        },
        {
         "data": [
          {
           "coloraxis": "coloraxis",
           "geo": "geo",
           "hovertemplate": "<b>%{hovertext}</b><br><br>date=2020-08-30<br>iso_code=%{location}<br>new_cases=%{z}<extra></extra>",
           "hovertext": [
            "India",
            "United States",
            "South Africa",
            "Australia",
            "Brazil",
            "Russia"
           ],
           "locations": [
            "IND",
            "USA",
            "ZAF",
            "AUS",
            "BRA",
            "RUS"
           ],
           "name": "",
           "type": "choropleth",
           "z": [
            78761,
            44143,
            2428,
            99,
            41350,
            4941
           ]
          }
         ],
         "name": "2020-08-30"
        },
        {
         "data": [
          {
           "coloraxis": "coloraxis",
           "geo": "geo",
           "hovertemplate": "<b>%{hovertext}</b><br><br>date=2020-08-31<br>iso_code=%{location}<br>new_cases=%{z}<extra></extra>",
           "hovertext": [
            "South Africa",
            "United States",
            "Brazil",
            "India",
            "Russia",
            "Australia"
           ],
           "locations": [
            "ZAF",
            "USA",
            "BRA",
            "IND",
            "RUS",
            "AUS"
           ],
           "name": "",
           "type": "choropleth",
           "z": [
            2505,
            35581,
            16158,
            78512,
            4980,
            123
           ]
          }
         ],
         "name": "2020-08-31"
        },
        {
         "data": [
          {
           "coloraxis": "coloraxis",
           "geo": "geo",
           "hovertemplate": "<b>%{hovertext}</b><br><br>date=2020-09-01<br>iso_code=%{location}<br>new_cases=%{z}<extra></extra>",
           "hovertext": [
            "Brazil",
            "Australia",
            "Russia",
            "United States",
            "India",
            "South Africa"
           ],
           "locations": [
            "BRA",
            "AUS",
            "RUS",
            "USA",
            "IND",
            "ZAF"
           ],
           "name": "",
           "type": "choropleth",
           "z": [
            45961,
            76,
            4993,
            33850,
            69921,
            1985
           ]
          }
         ],
         "name": "2020-09-01"
        },
        {
         "data": [
          {
           "coloraxis": "coloraxis",
           "geo": "geo",
           "hovertemplate": "<b>%{hovertext}</b><br><br>date=2020-09-02<br>iso_code=%{location}<br>new_cases=%{z}<extra></extra>",
           "hovertext": [
            "Russia",
            "Brazil",
            "India",
            "Australia",
            "South Africa",
            "United States"
           ],
           "locations": [
            "RUS",
            "BRA",
            "IND",
            "AUS",
            "ZAF",
            "USA"
           ],
           "name": "",
           "type": "choropleth",
           "z": [
            4729,
            42659,
            78357,
            73,
            1218,
            44639
           ]
          }
         ],
         "name": "2020-09-02"
        },
        {
         "data": [
          {
           "coloraxis": "coloraxis",
           "geo": "geo",
           "hovertemplate": "<b>%{hovertext}</b><br><br>date=2020-09-03<br>iso_code=%{location}<br>new_cases=%{z}<extra></extra>",
           "hovertext": [
            "South Africa",
            "India",
            "Australia",
            "United States",
            "Brazil",
            "Russia"
           ],
           "locations": [
            "ZAF",
            "IND",
            "AUS",
            "USA",
            "BRA",
            "RUS"
           ],
           "name": "",
           "type": "choropleth",
           "z": [
            2336,
            83883,
            104,
            38754,
            46934,
            4952
           ]
          }
         ],
         "name": "2020-09-03"
        },
        {
         "data": [
          {
           "coloraxis": "coloraxis",
           "geo": "geo",
           "hovertemplate": "<b>%{hovertext}</b><br><br>date=2020-09-04<br>iso_code=%{location}<br>new_cases=%{z}<extra></extra>",
           "hovertext": [
            "United States",
            "Brazil",
            "Australia",
            "South Africa",
            "Russia",
            "India"
           ],
           "locations": [
            "USA",
            "BRA",
            "AUS",
            "ZAF",
            "RUS",
            "IND"
           ],
           "name": "",
           "type": "choropleth",
           "z": [
            36249,
            43773,
            126,
            2420,
            4995,
            83341
           ]
          }
         ],
         "name": "2020-09-04"
        },
        {
         "data": [
          {
           "coloraxis": "coloraxis",
           "geo": "geo",
           "hovertemplate": "<b>%{hovertext}</b><br><br>date=2020-09-05<br>iso_code=%{location}<br>new_cases=%{z}<extra></extra>",
           "hovertext": [
            "Russia",
            "South Africa",
            "United States",
            "Australia",
            "India",
            "Brazil"
           ],
           "locations": [
            "RUS",
            "ZAF",
            "USA",
            "AUS",
            "IND",
            "BRA"
           ],
           "name": "",
           "type": "choropleth",
           "z": [
            5110,
            2063,
            51071,
            87,
            86432,
            51194
           ]
          }
         ],
         "name": "2020-09-05"
        },
        {
         "data": [
          {
           "coloraxis": "coloraxis",
           "geo": "geo",
           "hovertemplate": "<b>%{hovertext}</b><br><br>date=2020-09-06<br>iso_code=%{location}<br>new_cases=%{z}<extra></extra>",
           "hovertext": [
            "Brazil",
            "Russia",
            "United States",
            "Australia",
            "India",
            "South Africa"
           ],
           "locations": [
            "BRA",
            "RUS",
            "USA",
            "AUS",
            "IND",
            "ZAF"
           ],
           "name": "",
           "type": "choropleth",
           "z": [
            30168,
            5205,
            44140,
            71,
            90632,
            1806
           ]
          }
         ],
         "name": "2020-09-06"
        },
        {
         "data": [
          {
           "coloraxis": "coloraxis",
           "geo": "geo",
           "hovertemplate": "<b>%{hovertext}</b><br><br>date=2020-09-07<br>iso_code=%{location}<br>new_cases=%{z}<extra></extra>",
           "hovertext": [
            "United States",
            "South Africa",
            "Brazil",
            "India",
            "Russia",
            "Australia"
           ],
           "locations": [
            "USA",
            "ZAF",
            "BRA",
            "IND",
            "RUS",
            "AUS"
           ],
           "name": "",
           "type": "choropleth",
           "z": [
            30555,
            1633,
            14521,
            90802,
            5195,
            72
           ]
          }
         ],
         "name": "2020-09-07"
        },
        {
         "data": [
          {
           "coloraxis": "coloraxis",
           "geo": "geo",
           "hovertemplate": "<b>%{hovertext}</b><br><br>date=2020-09-08<br>iso_code=%{location}<br>new_cases=%{z}<extra></extra>",
           "hovertext": [
            "Australia",
            "Brazil",
            "India",
            "South Africa",
            "United States",
            "Russia"
           ],
           "locations": [
            "AUS",
            "BRA",
            "IND",
            "ZAF",
            "USA",
            "RUS"
           ],
           "name": "",
           "type": "choropleth",
           "z": [
            43,
            10273,
            75809,
            845,
            24250,
            5185
           ]
          }
         ],
         "name": "2020-09-08"
        },
        {
         "data": [
          {
           "coloraxis": "coloraxis",
           "geo": "geo",
           "hovertemplate": "<b>%{hovertext}</b><br><br>date=2020-09-09<br>iso_code=%{location}<br>new_cases=%{z}<extra></extra>",
           "hovertext": [
            "United States",
            "Australia",
            "Brazil",
            "South Africa",
            "Russia",
            "India"
           ],
           "locations": [
            "USA",
            "AUS",
            "BRA",
            "ZAF",
            "RUS",
            "IND"
           ],
           "name": "",
           "type": "choropleth",
           "z": [
            27122,
            52,
            14279,
            1079,
            5099,
            89706
           ]
          }
         ],
         "name": "2020-09-09"
        },
        {
         "data": [
          {
           "coloraxis": "coloraxis",
           "geo": "geo",
           "hovertemplate": "<b>%{hovertext}</b><br><br>date=2020-09-10<br>iso_code=%{location}<br>new_cases=%{z}<extra></extra>",
           "hovertext": [
            "United States",
            "Brazil",
            "South Africa",
            "Australia",
            "India",
            "Russia"
           ],
           "locations": [
            "USA",
            "BRA",
            "ZAF",
            "AUS",
            "IND",
            "RUS"
           ],
           "name": "",
           "type": "choropleth",
           "z": [
            31927,
            35816,
            1990,
            91,
            95735,
            5218
           ]
          }
         ],
         "name": "2020-09-10"
        },
        {
         "data": [
          {
           "coloraxis": "coloraxis",
           "geo": "geo",
           "hovertemplate": "<b>%{hovertext}</b><br><br>date=2020-09-11<br>iso_code=%{location}<br>new_cases=%{z}<extra></extra>",
           "hovertext": [
            "Russia",
            "Australia",
            "Brazil",
            "India",
            "United States",
            "South Africa"
           ],
           "locations": [
            "RUS",
            "AUS",
            "BRA",
            "IND",
            "USA",
            "ZAF"
           ],
           "name": "",
           "type": "choropleth",
           "z": [
            5363,
            48,
            40557,
            96551,
            37507,
            2007
           ]
          }
         ],
         "name": "2020-09-11"
        },
        {
         "data": [
          {
           "coloraxis": "coloraxis",
           "geo": "geo",
           "hovertemplate": "<b>%{hovertext}</b><br><br>date=2020-09-12<br>iso_code=%{location}<br>new_cases=%{z}<extra></extra>",
           "hovertext": [
            "Russia",
            "Australia",
            "Brazil",
            "South Africa",
            "India",
            "United States"
           ],
           "locations": [
            "RUS",
            "AUS",
            "BRA",
            "ZAF",
            "IND",
            "USA"
           ],
           "name": "",
           "type": "choropleth",
           "z": [
            5504,
            52,
            43718,
            1960,
            97570,
            48061
           ]
          }
         ],
         "name": "2020-09-12"
        },
        {
         "data": [
          {
           "coloraxis": "coloraxis",
           "geo": "geo",
           "hovertemplate": "<b>%{hovertext}</b><br><br>date=2020-09-13<br>iso_code=%{location}<br>new_cases=%{z}<extra></extra>",
           "hovertext": [
            "South Africa",
            "Brazil",
            "Russia",
            "Australia",
            "India",
            "United States"
           ],
           "locations": [
            "ZAF",
            "BRA",
            "RUS",
            "AUS",
            "IND",
            "USA"
           ],
           "name": "",
           "type": "choropleth",
           "z": [
            1816,
            33523,
            5488,
            42,
            94372,
            40820
           ]
          }
         ],
         "name": "2020-09-13"
        },
        {
         "data": [
          {
           "coloraxis": "coloraxis",
           "geo": "geo",
           "hovertemplate": "<b>%{hovertext}</b><br><br>date=2020-09-14<br>iso_code=%{location}<br>new_cases=%{z}<extra></extra>",
           "hovertext": [
            "Russia",
            "Australia",
            "South Africa",
            "India",
            "United States",
            "Brazil"
           ],
           "locations": [
            "RUS",
            "AUS",
            "ZAF",
            "IND",
            "USA",
            "BRA"
           ],
           "name": "",
           "type": "choropleth",
           "z": [
            5449,
            44,
            1579,
            92071,
            33871,
            14768
           ]
          }
         ],
         "name": "2020-09-14"
        },
        {
         "data": [
          {
           "coloraxis": "coloraxis",
           "geo": "geo",
           "hovertemplate": "<b>%{hovertext}</b><br><br>date=2020-09-15<br>iso_code=%{location}<br>new_cases=%{z}<extra></extra>",
           "hovertext": [
            "Brazil",
            "South Africa",
            "Australia",
            "United States",
            "Russia",
            "India"
           ],
           "locations": [
            "BRA",
            "ZAF",
            "AUS",
            "USA",
            "RUS",
            "IND"
           ],
           "name": "",
           "type": "choropleth",
           "z": [
            15155,
            956,
            41,
            34841,
            5509,
            83809
           ]
          }
         ],
         "name": "2020-09-15"
        },
        {
         "data": [
          {
           "coloraxis": "coloraxis",
           "geo": "geo",
           "hovertemplate": "<b>%{hovertext}</b><br><br>date=2020-09-16<br>iso_code=%{location}<br>new_cases=%{z}<extra></extra>",
           "hovertext": [
            "India",
            "Australia",
            "Russia",
            "South Africa",
            "Brazil",
            "United States"
           ],
           "locations": [
            "IND",
            "AUS",
            "RUS",
            "ZAF",
            "BRA",
            "USA"
           ],
           "name": "",
           "type": "choropleth",
           "z": [
            90123,
            46,
            5529,
            772,
            36653,
            51473
           ]
          }
         ],
         "name": "2020-09-16"
        },
        {
         "data": [
          {
           "coloraxis": "coloraxis",
           "geo": "geo",
           "hovertemplate": "<b>%{hovertext}</b><br><br>date=2020-09-17<br>iso_code=%{location}<br>new_cases=%{z}<extra></extra>",
           "hovertext": [
            "India",
            "Russia",
            "South Africa",
            "Brazil",
            "United States",
            "Australia"
           ],
           "locations": [
            "IND",
            "RUS",
            "ZAF",
            "BRA",
            "USA",
            "AUS"
           ],
           "name": "",
           "type": "choropleth",
           "z": [
            97894,
            5670,
            1923,
            36820,
            24598,
            41
           ]
          }
         ],
         "name": "2020-09-17"
        },
        {
         "data": [
          {
           "coloraxis": "coloraxis",
           "geo": "geo",
           "hovertemplate": "<b>%{hovertext}</b><br><br>date=2020-09-18<br>iso_code=%{location}<br>new_cases=%{z}<extra></extra>",
           "hovertext": [
            "India",
            "South Africa",
            "United States",
            "Russia",
            "Brazil",
            "Australia"
           ],
           "locations": [
            "IND",
            "ZAF",
            "USA",
            "RUS",
            "BRA",
            "AUS"
           ],
           "name": "",
           "type": "choropleth",
           "z": [
            96424,
            2128,
            43567,
            5762,
            36303,
            34
           ]
          }
         ],
         "name": "2020-09-18"
        },
        {
         "data": [
          {
           "coloraxis": "coloraxis",
           "geo": "geo",
           "hovertemplate": "<b>%{hovertext}</b><br><br>date=2020-09-19<br>iso_code=%{location}<br>new_cases=%{z}<extra></extra>",
           "hovertext": [
            "Australia",
            "South Africa",
            "Russia",
            "Brazil",
            "United States",
            "India"
           ],
           "locations": [
            "AUS",
            "ZAF",
            "RUS",
            "BRA",
            "USA",
            "IND"
           ],
           "name": "",
           "type": "choropleth",
           "z": [
            48,
            2055,
            5905,
            39797,
            50209,
            93337
           ]
          }
         ],
         "name": "2020-09-19"
        },
        {
         "data": [
          {
           "coloraxis": "coloraxis",
           "geo": "geo",
           "hovertemplate": "<b>%{hovertext}</b><br><br>date=2020-09-20<br>iso_code=%{location}<br>new_cases=%{z}<extra></extra>",
           "hovertext": [
            "Australia",
            "Brazil",
            "India",
            "United States",
            "South Africa",
            "Russia"
           ],
           "locations": [
            "AUS",
            "BRA",
            "IND",
            "USA",
            "ZAF",
            "RUS"
           ],
           "name": "",
           "type": "choropleth",
           "z": [
            24,
            33057,
            92605,
            40295,
            2029,
            6065
           ]
          }
         ],
         "name": "2020-09-20"
        },
        {
         "data": [
          {
           "coloraxis": "coloraxis",
           "geo": "geo",
           "hovertemplate": "<b>%{hovertext}</b><br><br>date=2020-09-21<br>iso_code=%{location}<br>new_cases=%{z}<extra></extra>",
           "hovertext": [
            "Brazil",
            "Russia",
            "India",
            "South Africa",
            "United States",
            "Australia"
           ],
           "locations": [
            "BRA",
            "RUS",
            "IND",
            "ZAF",
            "USA",
            "AUS"
           ],
           "name": "",
           "type": "choropleth",
           "z": [
            16389,
            6148,
            86961,
            1555,
            39852,
            13
           ]
          }
         ],
         "name": "2020-09-21"
        },
        {
         "data": [
          {
           "coloraxis": "coloraxis",
           "geo": "geo",
           "hovertemplate": "<b>%{hovertext}</b><br><br>date=2020-09-22<br>iso_code=%{location}<br>new_cases=%{z}<extra></extra>",
           "hovertext": [
            "United States",
            "Brazil",
            "Russia",
            "Australia",
            "India",
            "South Africa"
           ],
           "locations": [
            "USA",
            "BRA",
            "RUS",
            "AUS",
            "IND",
            "ZAF"
           ],
           "name": "",
           "type": "choropleth",
           "z": [
            53153,
            13439,
            6196,
            14,
            75083,
            725
           ]
          }
         ],
         "name": "2020-09-22"
        },
        {
         "data": [
          {
           "coloraxis": "coloraxis",
           "geo": "geo",
           "hovertemplate": "<b>%{hovertext}</b><br><br>date=2020-09-23<br>iso_code=%{location}<br>new_cases=%{z}<extra></extra>",
           "hovertext": [
            "Russia",
            "Australia",
            "South Africa",
            "United States",
            "India",
            "Brazil"
           ],
           "locations": [
            "RUS",
            "AUS",
            "ZAF",
            "USA",
            "IND",
            "BRA"
           ],
           "name": "",
           "type": "choropleth",
           "z": [
            6215,
            30,
            1346,
            38307,
            83347,
            33536
           ]
          }
         ],
         "name": "2020-09-23"
        },
        {
         "data": [
          {
           "coloraxis": "coloraxis",
           "geo": "geo",
           "hovertemplate": "<b>%{hovertext}</b><br><br>date=2020-09-24<br>iso_code=%{location}<br>new_cases=%{z}<extra></extra>",
           "hovertext": [
            "Brazil",
            "India",
            "United States",
            "Australia",
            "Russia",
            "South Africa"
           ],
           "locations": [
            "BRA",
            "IND",
            "USA",
            "AUS",
            "RUS",
            "ZAF"
           ],
           "name": "",
           "type": "choropleth",
           "z": [
            33281,
            86508,
            37930,
            31,
            6431,
            1906
           ]
          }
         ],
         "name": "2020-09-24"
        },
        {
         "data": [
          {
           "coloraxis": "coloraxis",
           "geo": "geo",
           "hovertemplate": "<b>%{hovertext}</b><br><br>date=2020-09-25<br>iso_code=%{location}<br>new_cases=%{z}<extra></extra>",
           "hovertext": [
            "India",
            "Russia",
            "Australia",
            "United States",
            "Brazil",
            "South Africa"
           ],
           "locations": [
            "IND",
            "RUS",
            "AUS",
            "USA",
            "BRA",
            "ZAF"
           ],
           "name": "",
           "type": "choropleth",
           "z": [
            86052,
            6595,
            10,
            44213,
            32817,
            1861
           ]
          }
         ],
         "name": "2020-09-25"
        },
        {
         "data": [
          {
           "coloraxis": "coloraxis",
           "geo": "geo",
           "hovertemplate": "<b>%{hovertext}</b><br><br>date=2020-09-26<br>iso_code=%{location}<br>new_cases=%{z}<extra></extra>",
           "hovertext": [
            "Australia",
            "Russia",
            "Brazil",
            "India",
            "United States",
            "South Africa"
           ],
           "locations": [
            "AUS",
            "RUS",
            "BRA",
            "IND",
            "USA",
            "ZAF"
           ],
           "name": "",
           "type": "choropleth",
           "z": [
            17,
            7212,
            31911,
            85362,
            55013,
            1480
           ]
          }
         ],
         "name": "2020-09-26"
        },
        {
         "data": [
          {
           "coloraxis": "coloraxis",
           "geo": "geo",
           "hovertemplate": "<b>%{hovertext}</b><br><br>date=2020-09-27<br>iso_code=%{location}<br>new_cases=%{z}<extra></extra>",
           "hovertext": [
            "Russia",
            "India",
            "South Africa",
            "Australia",
            "United States",
            "Brazil"
           ],
           "locations": [
            "RUS",
            "IND",
            "ZAF",
            "AUS",
            "USA",
            "BRA"
           ],
           "name": "",
           "type": "choropleth",
           "z": [
            7523,
            88600,
            969,
            16,
            45368,
            28378
           ]
          }
         ],
         "name": "2020-09-27"
        },
        {
         "data": [
          {
           "coloraxis": "coloraxis",
           "geo": "geo",
           "hovertemplate": "<b>%{hovertext}</b><br><br>date=2020-09-28<br>iso_code=%{location}<br>new_cases=%{z}<extra></extra>",
           "hovertext": [
            "United States",
            "India",
            "Australia",
            "South Africa",
            "Brazil",
            "Russia"
           ],
           "locations": [
            "USA",
            "IND",
            "AUS",
            "ZAF",
            "BRA",
            "RUS"
           ],
           "name": "",
           "type": "choropleth",
           "z": [
            36248,
            82170,
            24,
            1268,
            14318,
            7867
           ]
          }
         ],
         "name": "2020-09-28"
        },
        {
         "data": [
          {
           "coloraxis": "coloraxis",
           "geo": "geo",
           "hovertemplate": "<b>%{hovertext}</b><br><br>date=2020-09-29<br>iso_code=%{location}<br>new_cases=%{z}<extra></extra>",
           "hovertext": [
            "Australia",
            "South Africa",
            "Russia",
            "United States",
            "Brazil",
            "India"
           ],
           "locations": [
            "AUS",
            "ZAF",
            "RUS",
            "USA",
            "BRA",
            "IND"
           ],
           "name": "",
           "type": "choropleth",
           "z": [
            4,
            903,
            8135,
            32998,
            13155,
            70589
           ]
          }
         ],
         "name": "2020-09-29"
        },
        {
         "data": [
          {
           "coloraxis": "coloraxis",
           "geo": "geo",
           "hovertemplate": "<b>%{hovertext}</b><br><br>date=2020-09-30<br>iso_code=%{location}<br>new_cases=%{z}<extra></extra>",
           "hovertext": [
            "Brazil",
            "Russia",
            "Australia",
            "India",
            "South Africa",
            "United States"
           ],
           "locations": [
            "BRA",
            "RUS",
            "AUS",
            "IND",
            "ZAF",
            "USA"
           ],
           "name": "",
           "type": "choropleth",
           "z": [
            32058,
            8232,
            19,
            80472,
            903,
            43017
           ]
          }
         ],
         "name": "2020-09-30"
        },
        {
         "data": [
          {
           "coloraxis": "coloraxis",
           "geo": "geo",
           "hovertemplate": "<b>%{hovertext}</b><br><br>date=2020-10-01<br>iso_code=%{location}<br>new_cases=%{z}<extra></extra>",
           "hovertext": [
            "Australia",
            "India",
            "South Africa",
            "Russia",
            "Brazil",
            "United States"
           ],
           "locations": [
            "AUS",
            "IND",
            "ZAF",
            "RUS",
            "BRA",
            "USA"
           ],
           "name": "",
           "type": "choropleth",
           "z": [
            0,
            86821,
            1767,
            8481,
            33413,
            41982
           ]
          }
         ],
         "name": "2020-10-01"
        },
        {
         "data": [
          {
           "coloraxis": "coloraxis",
           "geo": "geo",
           "hovertemplate": "<b>%{hovertext}</b><br><br>date=2020-10-02<br>iso_code=%{location}<br>new_cases=%{z}<extra></extra>",
           "hovertext": [
            "Australia",
            "Brazil",
            "India",
            "United States",
            "South Africa",
            "Russia"
           ],
           "locations": [
            "AUS",
            "BRA",
            "IND",
            "USA",
            "ZAF",
            "RUS"
           ],
           "name": "",
           "type": "choropleth",
           "z": [
            33,
            36157,
            81484,
            44771,
            1745,
            8945
           ]
          }
         ],
         "name": "2020-10-02"
        },
        {
         "data": [
          {
           "coloraxis": "coloraxis",
           "geo": "geo",
           "hovertemplate": "<b>%{hovertext}</b><br><br>date=2020-10-03<br>iso_code=%{location}<br>new_cases=%{z}<extra></extra>",
           "hovertext": [
            "United States",
            "South Africa",
            "India",
            "Australia",
            "Brazil",
            "Russia"
           ],
           "locations": [
            "USA",
            "ZAF",
            "IND",
            "AUS",
            "BRA",
            "RUS"
           ],
           "name": "",
           "type": "choropleth",
           "z": [
            54471,
            1749,
            79476,
            17,
            33431,
            9412
           ]
          }
         ],
         "name": "2020-10-03"
        },
        {
         "data": [
          {
           "coloraxis": "coloraxis",
           "geo": "geo",
           "hovertemplate": "<b>%{hovertext}</b><br><br>date=2020-10-04<br>iso_code=%{location}<br>new_cases=%{z}<extra></extra>",
           "hovertext": [
            "Brazil",
            "South Africa",
            "India",
            "Russia",
            "Australia",
            "United States"
           ],
           "locations": [
            "BRA",
            "ZAF",
            "IND",
            "RUS",
            "AUS",
            "USA"
           ],
           "name": "",
           "type": "choropleth",
           "z": [
            26310,
            1883,
            75829,
            9859,
            8,
            50659
           ]
          }
         ],
         "name": "2020-10-04"
        },
        {
         "data": [
          {
           "coloraxis": "coloraxis",
           "geo": "geo",
           "hovertemplate": "<b>%{hovertext}</b><br><br>date=2020-10-05<br>iso_code=%{location}<br>new_cases=%{z}<extra></extra>",
           "hovertext": [
            "Russia",
            "Australia",
            "Brazil",
            "India",
            "United States",
            "South Africa"
           ],
           "locations": [
            "RUS",
            "AUS",
            "BRA",
            "IND",
            "USA",
            "ZAF"
           ],
           "name": "",
           "type": "choropleth",
           "z": [
            10499,
            15,
            8456,
            74442,
            34901,
            1573
           ]
          }
         ],
         "name": "2020-10-05"
        },
        {
         "data": [
          {
           "coloraxis": "coloraxis",
           "geo": "geo",
           "hovertemplate": "<b>%{hovertext}</b><br><br>date=2020-10-06<br>iso_code=%{location}<br>new_cases=%{z}<extra></extra>",
           "hovertext": [
            "South Africa",
            "Brazil",
            "Russia",
            "India",
            "United States",
            "Australia"
           ],
           "locations": [
            "ZAF",
            "BRA",
            "RUS",
            "IND",
            "USA",
            "AUS"
           ],
           "name": "",
           "type": "choropleth",
           "z": [
            926,
            11946,
            10888,
            61267,
            40705,
            13
           ]
          }
         ],
         "name": "2020-10-06"
        },
        {
         "data": [
          {
           "coloraxis": "coloraxis",
           "geo": "geo",
           "hovertemplate": "<b>%{hovertext}</b><br><br>date=2020-10-07<br>iso_code=%{location}<br>new_cases=%{z}<extra></extra>",
           "hovertext": [
            "Russia",
            "Brazil",
            "India",
            "Australia",
            "United States",
            "South Africa"
           ],
           "locations": [
            "RUS",
            "BRA",
            "IND",
            "AUS",
            "USA",
            "ZAF"
           ],
           "name": "",
           "type": "choropleth",
           "z": [
            11615,
            41906,
            72049,
            25,
            43062,
            1027
           ]
          }
         ],
         "name": "2020-10-07"
        },
        {
         "data": [
          {
           "coloraxis": "coloraxis",
           "geo": "geo",
           "hovertemplate": "<b>%{hovertext}</b><br><br>date=2020-10-08<br>iso_code=%{location}<br>new_cases=%{z}<extra></extra>",
           "hovertext": [
            "South Africa",
            "Brazil",
            "India",
            "Australia",
            "United States",
            "Russia"
           ],
           "locations": [
            "ZAF",
            "BRA",
            "IND",
            "AUS",
            "USA",
            "RUS"
           ],
           "name": "",
           "type": "choropleth",
           "z": [
            1913,
            31553,
            78524,
            8,
            48182,
            11115
           ]
          }
         ],
         "name": "2020-10-08"
        },
        {
         "data": [
          {
           "coloraxis": "coloraxis",
           "geo": "geo",
           "hovertemplate": "<b>%{hovertext}</b><br><br>date=2020-10-09<br>iso_code=%{location}<br>new_cases=%{z}<extra></extra>",
           "hovertext": [
            "Australia",
            "United States",
            "Brazil",
            "India",
            "Russia",
            "South Africa"
           ],
           "locations": [
            "AUS",
            "USA",
            "BRA",
            "IND",
            "RUS",
            "ZAF"
           ],
           "name": "",
           "type": "choropleth",
           "z": [
            24,
            56800,
            27750,
            70496,
            11493,
            1736
           ]
          }
         ],
         "name": "2020-10-09"
        },
        {
         "data": [
          {
           "coloraxis": "coloraxis",
           "geo": "geo",
           "hovertemplate": "<b>%{hovertext}</b><br><br>date=2020-10-10<br>iso_code=%{location}<br>new_cases=%{z}<extra></extra>",
           "hovertext": [
            "India",
            "Brazil",
            "Russia",
            "United States",
            "Australia",
            "South Africa"
           ],
           "locations": [
            "IND",
            "BRA",
            "RUS",
            "USA",
            "AUS",
            "ZAF"
           ],
           "name": "",
           "type": "choropleth",
           "z": [
            73272,
            27444,
            12126,
            58082,
            23,
            1641
           ]
          }
         ],
         "name": "2020-10-10"
        },
        {
         "data": [
          {
           "coloraxis": "coloraxis",
           "geo": "geo",
           "hovertemplate": "<b>%{hovertext}</b><br><br>date=2020-10-11<br>iso_code=%{location}<br>new_cases=%{z}<extra></extra>",
           "hovertext": [
            "India",
            "United States",
            "Russia",
            "South Africa",
            "Brazil",
            "Australia"
           ],
           "locations": [
            "IND",
            "USA",
            "RUS",
            "ZAF",
            "BRA",
            "AUS"
           ],
           "name": "",
           "type": "choropleth",
           "z": [
            74383,
            54271,
            12846,
            2364,
            26749,
            15
           ]
          }
         ],
         "name": "2020-10-11"
        },
        {
         "data": [
          {
           "coloraxis": "coloraxis",
           "geo": "geo",
           "hovertemplate": "<b>%{hovertext}</b><br><br>date=2020-10-12<br>iso_code=%{location}<br>new_cases=%{z}<extra></extra>",
           "hovertext": [
            "India",
            "Brazil",
            "Russia",
            "United States",
            "Australia",
            "South Africa"
           ],
           "locations": [
            "IND",
            "BRA",
            "RUS",
            "USA",
            "AUS",
            "ZAF"
           ],
           "name": "",
           "type": "choropleth",
           "z": [
            66732,
            12345,
            13634,
            43597,
            20,
            1575
           ]
          }
         ],
         "name": "2020-10-12"
        },
        {
         "data": [
          {
           "coloraxis": "coloraxis",
           "geo": "geo",
           "hovertemplate": "<b>%{hovertext}</b><br><br>date=2020-10-13<br>iso_code=%{location}<br>new_cases=%{z}<extra></extra>",
           "hovertext": [
            "India",
            "Australia",
            "Brazil",
            "Russia",
            "South Africa",
            "United States"
           ],
           "locations": [
            "IND",
            "AUS",
            "BRA",
            "RUS",
            "ZAF",
            "USA"
           ],
           "name": "",
           "type": "choropleth",
           "z": [
            55342,
            22,
            8426,
            13592,
            0,
            41653
           ]
          }
         ],
         "name": "2020-10-13"
        },
        {
         "data": [
          {
           "coloraxis": "coloraxis",
           "geo": "geo",
           "hovertemplate": "<b>%{hovertext}</b><br><br>date=2020-10-14<br>iso_code=%{location}<br>new_cases=%{z}<extra></extra>",
           "hovertext": [
            "South Africa",
            "India",
            "Brazil",
            "United States",
            "Australia",
            "Russia"
           ],
           "locations": [
            "ZAF",
            "IND",
            "BRA",
            "USA",
            "AUS",
            "RUS"
           ],
           "name": "",
           "type": "choropleth",
           "z": [
            2066,
            63509,
            10220,
            52517,
            31,
            13868
           ]
          }
         ],
         "name": "2020-10-14"
        },
        {
         "data": [
          {
           "coloraxis": "coloraxis",
           "geo": "geo",
           "hovertemplate": "<b>%{hovertext}</b><br><br>date=2020-10-15<br>iso_code=%{location}<br>new_cases=%{z}<extra></extra>",
           "hovertext": [
            "Brazil",
            "India",
            "Russia",
            "South Africa",
            "United States",
            "Australia"
           ],
           "locations": [
            "BRA",
            "IND",
            "RUS",
            "ZAF",
            "USA",
            "AUS"
           ],
           "name": "",
           "type": "choropleth",
           "z": [
            27235,
            67708,
            14231,
            1877,
            59386,
            24
           ]
          }
         ],
         "name": "2020-10-15"
        },
        {
         "data": [
          {
           "coloraxis": "coloraxis",
           "geo": "geo",
           "hovertemplate": "<b>%{hovertext}</b><br><br>date=2020-10-16<br>iso_code=%{location}<br>new_cases=%{z}<extra></extra>",
           "hovertext": [
            "Australia",
            "Russia",
            "South Africa",
            "United States",
            "India",
            "Brazil"
           ],
           "locations": [
            "AUS",
            "RUS",
            "ZAF",
            "USA",
            "IND",
            "BRA"
           ],
           "name": "",
           "type": "choropleth",
           "z": [
            21,
            13754,
            1770,
            63785,
            63371,
            28523
           ]
          }
         ],
         "name": "2020-10-16"
        },
        {
         "data": [
          {
           "coloraxis": "coloraxis",
           "geo": "geo",
           "hovertemplate": "<b>%{hovertext}</b><br><br>date=2020-10-17<br>iso_code=%{location}<br>new_cases=%{z}<extra></extra>",
           "hovertext": [
            "Russia",
            "Australia",
            "United States",
            "South Africa",
            "India",
            "Brazil"
           ],
           "locations": [
            "RUS",
            "AUS",
            "USA",
            "ZAF",
            "IND",
            "BRA"
           ],
           "name": "",
           "type": "choropleth",
           "z": [
            15150,
            9,
            70256,
            2019,
            62212,
            30914
           ]
          }
         ],
         "name": "2020-10-17"
        },
        {
         "data": [
          {
           "coloraxis": "coloraxis",
           "geo": "geo",
           "hovertemplate": "<b>%{hovertext}</b><br><br>date=2020-10-18<br>iso_code=%{location}<br>new_cases=%{z}<extra></extra>",
           "hovertext": [
            "South Africa",
            "Australia",
            "India",
            "United States",
            "Brazil",
            "Russia"
           ],
           "locations": [
            "ZAF",
            "AUS",
            "IND",
            "USA",
            "BRA",
            "RUS"
           ],
           "name": "",
           "type": "choropleth",
           "z": [
            1928,
            12,
            61871,
            56611,
            24062,
            14922
           ]
          }
         ],
         "name": "2020-10-18"
        },
        {
         "data": [
          {
           "coloraxis": "coloraxis",
           "geo": "geo",
           "hovertemplate": "<b>%{hovertext}</b><br><br>date=2020-10-19<br>iso_code=%{location}<br>new_cases=%{z}<extra></extra>",
           "hovertext": [
            "United States",
            "Russia",
            "India",
            "Australia",
            "Brazil",
            "South Africa"
           ],
           "locations": [
            "USA",
            "RUS",
            "IND",
            "AUS",
            "BRA",
            "ZAF"
           ],
           "name": "",
           "type": "choropleth",
           "z": [
            47843,
            15099,
            55722,
            7,
            10982,
            1662
           ]
          }
         ],
         "name": "2020-10-19"
        },
        {
         "data": [
          {
           "coloraxis": "coloraxis",
           "geo": "geo",
           "hovertemplate": "<b>%{hovertext}</b><br><br>date=2020-10-20<br>iso_code=%{location}<br>new_cases=%{z}<extra></extra>",
           "hovertext": [
            "United States",
            "India",
            "Australia",
            "South Africa",
            "Russia",
            "Brazil"
           ],
           "locations": [
            "USA",
            "IND",
            "AUS",
            "ZAF",
            "RUS",
            "BRA"
           ],
           "name": "",
           "type": "choropleth",
           "z": [
            60160,
            46790,
            9,
            1461,
            15982,
            15383
           ]
          }
         ],
         "name": "2020-10-20"
        },
        {
         "data": [
          {
           "coloraxis": "coloraxis",
           "geo": "geo",
           "hovertemplate": "<b>%{hovertext}</b><br><br>date=2020-10-21<br>iso_code=%{location}<br>new_cases=%{z}<extra></extra>",
           "hovertext": [
            "United States",
            "Australia",
            "Brazil",
            "Russia",
            "South Africa",
            "India"
           ],
           "locations": [
            "USA",
            "AUS",
            "BRA",
            "RUS",
            "ZAF",
            "IND"
           ],
           "name": "",
           "type": "choropleth",
           "z": [
            58549,
            31,
            23227,
            16319,
            1050,
            54044
           ]
          }
         ],
         "name": "2020-10-21"
        },
        {
         "data": [
          {
           "coloraxis": "coloraxis",
           "geo": "geo",
           "hovertemplate": "<b>%{hovertext}</b><br><br>date=2020-10-22<br>iso_code=%{location}<br>new_cases=%{z}<extra></extra>",
           "hovertext": [
            "Russia",
            "Brazil",
            "South Africa",
            "United States",
            "India",
            "Australia"
           ],
           "locations": [
            "RUS",
            "BRA",
            "ZAF",
            "USA",
            "IND",
            "AUS"
           ],
           "name": "",
           "type": "choropleth",
           "z": [
            15700,
            24818,
            2055,
            62978,
            55839,
            14
           ]
          }
         ],
         "name": "2020-10-22"
        },
        {
         "data": [
          {
           "coloraxis": "coloraxis",
           "geo": "geo",
           "hovertemplate": "<b>%{hovertext}</b><br><br>date=2020-10-23<br>iso_code=%{location}<br>new_cases=%{z}<extra></extra>",
           "hovertext": [
            "India",
            "United States",
            "Russia",
            "Brazil",
            "South Africa",
            "Australia"
           ],
           "locations": [
            "IND",
            "USA",
            "RUS",
            "BRA",
            "ZAF",
            "AUS"
           ],
           "name": "",
           "type": "choropleth",
           "z": [
            54366,
            72058,
            15971,
            24858,
            2156,
            22
           ]
          }
         ],
         "name": "2020-10-23"
        },
        {
         "data": [
          {
           "coloraxis": "coloraxis",
           "geo": "geo",
           "hovertemplate": "<b>%{hovertext}</b><br><br>date=2020-10-24<br>iso_code=%{location}<br>new_cases=%{z}<extra></extra>",
           "hovertext": [
            "South Africa",
            "Australia",
            "Russia",
            "India",
            "Brazil",
            "United States"
           ],
           "locations": [
            "ZAF",
            "AUS",
            "RUS",
            "IND",
            "BRA",
            "USA"
           ],
           "name": "",
           "type": "choropleth",
           "z": [
            1897,
            18,
            17340,
            53370,
            30026,
            85329
           ]
          }
         ],
         "name": "2020-10-24"
        },
        {
         "data": [
          {
           "coloraxis": "coloraxis",
           "geo": "geo",
           "hovertemplate": "<b>%{hovertext}</b><br><br>date=2020-10-25<br>iso_code=%{location}<br>new_cases=%{z}<extra></extra>",
           "hovertext": [
            "Brazil",
            "India",
            "Australia",
            "Russia",
            "United States",
            "South Africa"
           ],
           "locations": [
            "BRA",
            "IND",
            "AUS",
            "RUS",
            "USA",
            "ZAF"
           ],
           "name": "",
           "type": "choropleth",
           "z": [
            26979,
            50129,
            15,
            16521,
            83056,
            1834
           ]
          }
         ],
         "name": "2020-10-25"
        },
        {
         "data": [
          {
           "coloraxis": "coloraxis",
           "geo": "geo",
           "hovertemplate": "<b>%{hovertext}</b><br><br>date=2020-10-26<br>iso_code=%{location}<br>new_cases=%{z}<extra></extra>",
           "hovertext": [
            "Russia",
            "United States",
            "Brazil",
            "South Africa",
            "India",
            "Australia"
           ],
           "locations": [
            "RUS",
            "USA",
            "BRA",
            "ZAF",
            "IND",
            "AUS"
           ],
           "name": "",
           "type": "choropleth",
           "z": [
            16710,
            59440,
            13493,
            1622,
            45148,
            21
           ]
          }
         ],
         "name": "2020-10-26"
        },
        {
         "data": [
          {
           "coloraxis": "coloraxis",
           "geo": "geo",
           "hovertemplate": "<b>%{hovertext}</b><br><br>date=2020-10-27<br>iso_code=%{location}<br>new_cases=%{z}<extra></extra>",
           "hovertext": [
            "Russia",
            "United States",
            "Brazil",
            "South Africa",
            "Australia",
            "India"
           ],
           "locations": [
            "RUS",
            "USA",
            "BRA",
            "ZAF",
            "AUS",
            "IND"
           ],
           "name": "",
           "type": "choropleth",
           "z": [
            17347,
            68359,
            15726,
            891,
            7,
            36470
           ]
          }
         ],
         "name": "2020-10-27"
        },
        {
         "data": [
          {
           "coloraxis": "coloraxis",
           "geo": "geo",
           "hovertemplate": "<b>%{hovertext}</b><br><br>date=2020-10-28<br>iso_code=%{location}<br>new_cases=%{z}<extra></extra>",
           "hovertext": [
            "South Africa",
            "India",
            "Australia",
            "United States",
            "Russia",
            "Brazil"
           ],
           "locations": [
            "ZAF",
            "IND",
            "AUS",
            "USA",
            "RUS",
            "BRA"
           ],
           "name": "",
           "type": "choropleth",
           "z": [
            1092,
            43893,
            14,
            75129,
            16550,
            29787
           ]
          }
         ],
         "name": "2020-10-28"
        },
        {
         "data": [
          {
           "coloraxis": "coloraxis",
           "geo": "geo",
           "hovertemplate": "<b>%{hovertext}</b><br><br>date=2020-10-29<br>iso_code=%{location}<br>new_cases=%{z}<extra></extra>",
           "hovertext": [
            "Australia",
            "South Africa",
            "Russia",
            "India",
            "United States",
            "Brazil"
           ],
           "locations": [
            "AUS",
            "ZAF",
            "RUS",
            "IND",
            "USA",
            "BRA"
           ],
           "name": "",
           "type": "choropleth",
           "z": [
            13,
            1863,
            16202,
            49881,
            78371,
            28629
           ]
          }
         ],
         "name": "2020-10-29"
        },
        {
         "data": [
          {
           "coloraxis": "coloraxis",
           "geo": "geo",
           "hovertemplate": "<b>%{hovertext}</b><br><br>date=2020-10-30<br>iso_code=%{location}<br>new_cases=%{z}<extra></extra>",
           "hovertext": [
            "India",
            "Russia",
            "United States",
            "South Africa",
            "Australia",
            "Brazil"
           ],
           "locations": [
            "IND",
            "RUS",
            "USA",
            "ZAF",
            "AUS",
            "BRA"
           ],
           "name": "",
           "type": "choropleth",
           "z": [
            48648,
            17717,
            88130,
            2056,
            15,
            26106
           ]
          }
         ],
         "name": "2020-10-30"
        },
        {
         "data": [
          {
           "coloraxis": "coloraxis",
           "geo": "geo",
           "hovertemplate": "<b>%{hovertext}</b><br><br>date=2020-10-31<br>iso_code=%{location}<br>new_cases=%{z}<extra></extra>",
           "hovertext": [
            "India",
            "Brazil",
            "Australia",
            "Russia",
            "United States",
            "South Africa"
           ],
           "locations": [
            "IND",
            "BRA",
            "AUS",
            "RUS",
            "USA",
            "ZAF"
           ],
           "name": "",
           "type": "choropleth",
           "z": [
            48268,
            22282,
            13,
            18283,
            101273,
            1912
           ]
          }
         ],
         "name": "2020-10-31"
        },
        {
         "data": [
          {
           "coloraxis": "coloraxis",
           "geo": "geo",
           "hovertemplate": "<b>%{hovertext}</b><br><br>date=2020-11-01<br>iso_code=%{location}<br>new_cases=%{z}<extra></extra>",
           "hovertext": [
            "South Africa",
            "Australia",
            "India",
            "Russia",
            "United States",
            "Brazil"
           ],
           "locations": [
            "ZAF",
            "AUS",
            "IND",
            "RUS",
            "USA",
            "BRA"
           ],
           "name": "",
           "type": "choropleth",
           "z": [
            1770,
            8,
            46963,
            18140,
            78934,
            18947
           ]
          }
         ],
         "name": "2020-11-01"
        },
        {
         "data": [
          {
           "coloraxis": "coloraxis",
           "geo": "geo",
           "hovertemplate": "<b>%{hovertext}</b><br><br>date=2020-11-02<br>iso_code=%{location}<br>new_cases=%{z}<extra></extra>",
           "hovertext": [
            "Australia",
            "India",
            "Russia",
            "South Africa",
            "United States",
            "Brazil"
           ],
           "locations": [
            "AUS",
            "IND",
            "RUS",
            "ZAF",
            "USA",
            "BRA"
           ],
           "name": "",
           "type": "choropleth",
           "z": [
            5,
            45231,
            18665,
            1371,
            81001,
            10100
           ]
          }
         ],
         "name": "2020-11-02"
        },
        {
         "data": [
          {
           "coloraxis": "coloraxis",
           "geo": "geo",
           "hovertemplate": "<b>%{hovertext}</b><br><br>date=2020-11-03<br>iso_code=%{location}<br>new_cases=%{z}<extra></extra>",
           "hovertext": [
            "Brazil",
            "India",
            "Russia",
            "South Africa",
            "Australia",
            "United States"
           ],
           "locations": [
            "BRA",
            "IND",
            "RUS",
            "ZAF",
            "AUS",
            "USA"
           ],
           "name": "",
           "type": "choropleth",
           "z": [
            8501,
            38310,
            18257,
            772,
            7,
            83883
           ]
          }
         ],
         "name": "2020-11-03"
        },
        {
         "data": [
          {
           "coloraxis": "coloraxis",
           "geo": "geo",
           "hovertemplate": "<b>%{hovertext}</b><br><br>date=2020-11-04<br>iso_code=%{location}<br>new_cases=%{z}<extra></extra>",
           "hovertext": [
            "United States",
            "South Africa",
            "Brazil",
            "India",
            "Russia",
            "Australia"
           ],
           "locations": [
            "USA",
            "ZAF",
            "BRA",
            "IND",
            "RUS",
            "AUS"
           ],
           "name": "",
           "type": "choropleth",
           "z": [
            92734,
            1241,
            11843,
            46253,
            18648,
            8
           ]
          }
         ],
         "name": "2020-11-04"
        },
        {
         "data": [
          {
           "coloraxis": "coloraxis",
           "geo": "geo",
           "hovertemplate": "<b>%{hovertext}</b><br><br>date=2020-11-05<br>iso_code=%{location}<br>new_cases=%{z}<extra></extra>",
           "hovertext": [
            "Australia",
            "Brazil",
            "United States",
            "India",
            "Russia",
            "South Africa"
           ],
           "locations": [
            "AUS",
            "BRA",
            "USA",
            "IND",
            "RUS",
            "ZAF"
           ],
           "name": "",
           "type": "choropleth",
           "z": [
            12,
            23976,
            102507,
            50210,
            19768,
            1712
           ]
          }
         ],
         "name": "2020-11-05"
        }
       ],
       "layout": {
        "coloraxis": {
         "colorbar": {
          "title": {
           "text": "new_cases"
          }
         },
         "colorscale": [
          [
           0,
           "rgb(247,244,249)"
          ],
          [
           0.125,
           "rgb(231,225,239)"
          ],
          [
           0.25,
           "rgb(212,185,218)"
          ],
          [
           0.375,
           "rgb(201,148,199)"
          ],
          [
           0.5,
           "rgb(223,101,176)"
          ],
          [
           0.625,
           "rgb(231,41,138)"
          ],
          [
           0.75,
           "rgb(206,18,86)"
          ],
          [
           0.875,
           "rgb(152,0,67)"
          ],
          [
           1,
           "rgb(103,0,31)"
          ]
         ]
        },
        "geo": {
         "center": {},
         "domain": {
          "x": [
           0,
           1
          ],
          "y": [
           0,
           1
          ]
         }
        },
        "legend": {
         "tracegroupgap": 0
        },
        "sliders": [
         {
          "active": 0,
          "currentvalue": {
           "prefix": "date="
          },
          "len": 0.9,
          "pad": {
           "b": 10,
           "t": 60
          },
          "steps": [
           {
            "args": [
             [
              "2020-01-22"
             ],
             {
              "frame": {
               "duration": 0,
               "redraw": true
              },
              "fromcurrent": true,
              "mode": "immediate",
              "transition": {
               "duration": 0,
               "easing": "linear"
              }
             }
            ],
            "label": "2020-01-22",
            "method": "animate"
           },
           {
            "args": [
             [
              "2020-01-23"
             ],
             {
              "frame": {
               "duration": 0,
               "redraw": true
              },
              "fromcurrent": true,
              "mode": "immediate",
              "transition": {
               "duration": 0,
               "easing": "linear"
              }
             }
            ],
            "label": "2020-01-23",
            "method": "animate"
           },
           {
            "args": [
             [
              "2020-01-24"
             ],
             {
              "frame": {
               "duration": 0,
               "redraw": true
              },
              "fromcurrent": true,
              "mode": "immediate",
              "transition": {
               "duration": 0,
               "easing": "linear"
              }
             }
            ],
            "label": "2020-01-24",
            "method": "animate"
           },
           {
            "args": [
             [
              "2020-01-25"
             ],
             {
              "frame": {
               "duration": 0,
               "redraw": true
              },
              "fromcurrent": true,
              "mode": "immediate",
              "transition": {
               "duration": 0,
               "easing": "linear"
              }
             }
            ],
            "label": "2020-01-25",
            "method": "animate"
           },
           {
            "args": [
             [
              "2020-01-26"
             ],
             {
              "frame": {
               "duration": 0,
               "redraw": true
              },
              "fromcurrent": true,
              "mode": "immediate",
              "transition": {
               "duration": 0,
               "easing": "linear"
              }
             }
            ],
            "label": "2020-01-26",
            "method": "animate"
           },
           {
            "args": [
             [
              "2020-01-27"
             ],
             {
              "frame": {
               "duration": 0,
               "redraw": true
              },
              "fromcurrent": true,
              "mode": "immediate",
              "transition": {
               "duration": 0,
               "easing": "linear"
              }
             }
            ],
            "label": "2020-01-27",
            "method": "animate"
           },
           {
            "args": [
             [
              "2020-01-28"
             ],
             {
              "frame": {
               "duration": 0,
               "redraw": true
              },
              "fromcurrent": true,
              "mode": "immediate",
              "transition": {
               "duration": 0,
               "easing": "linear"
              }
             }
            ],
            "label": "2020-01-28",
            "method": "animate"
           },
           {
            "args": [
             [
              "2020-01-29"
             ],
             {
              "frame": {
               "duration": 0,
               "redraw": true
              },
              "fromcurrent": true,
              "mode": "immediate",
              "transition": {
               "duration": 0,
               "easing": "linear"
              }
             }
            ],
            "label": "2020-01-29",
            "method": "animate"
           },
           {
            "args": [
             [
              "2020-01-30"
             ],
             {
              "frame": {
               "duration": 0,
               "redraw": true
              },
              "fromcurrent": true,
              "mode": "immediate",
              "transition": {
               "duration": 0,
               "easing": "linear"
              }
             }
            ],
            "label": "2020-01-30",
            "method": "animate"
           },
           {
            "args": [
             [
              "2020-01-31"
             ],
             {
              "frame": {
               "duration": 0,
               "redraw": true
              },
              "fromcurrent": true,
              "mode": "immediate",
              "transition": {
               "duration": 0,
               "easing": "linear"
              }
             }
            ],
            "label": "2020-01-31",
            "method": "animate"
           },
           {
            "args": [
             [
              "2020-02-01"
             ],
             {
              "frame": {
               "duration": 0,
               "redraw": true
              },
              "fromcurrent": true,
              "mode": "immediate",
              "transition": {
               "duration": 0,
               "easing": "linear"
              }
             }
            ],
            "label": "2020-02-01",
            "method": "animate"
           },
           {
            "args": [
             [
              "2020-02-02"
             ],
             {
              "frame": {
               "duration": 0,
               "redraw": true
              },
              "fromcurrent": true,
              "mode": "immediate",
              "transition": {
               "duration": 0,
               "easing": "linear"
              }
             }
            ],
            "label": "2020-02-02",
            "method": "animate"
           },
           {
            "args": [
             [
              "2020-02-03"
             ],
             {
              "frame": {
               "duration": 0,
               "redraw": true
              },
              "fromcurrent": true,
              "mode": "immediate",
              "transition": {
               "duration": 0,
               "easing": "linear"
              }
             }
            ],
            "label": "2020-02-03",
            "method": "animate"
           },
           {
            "args": [
             [
              "2020-02-04"
             ],
             {
              "frame": {
               "duration": 0,
               "redraw": true
              },
              "fromcurrent": true,
              "mode": "immediate",
              "transition": {
               "duration": 0,
               "easing": "linear"
              }
             }
            ],
            "label": "2020-02-04",
            "method": "animate"
           },
           {
            "args": [
             [
              "2020-02-05"
             ],
             {
              "frame": {
               "duration": 0,
               "redraw": true
              },
              "fromcurrent": true,
              "mode": "immediate",
              "transition": {
               "duration": 0,
               "easing": "linear"
              }
             }
            ],
            "label": "2020-02-05",
            "method": "animate"
           },
           {
            "args": [
             [
              "2020-02-06"
             ],
             {
              "frame": {
               "duration": 0,
               "redraw": true
              },
              "fromcurrent": true,
              "mode": "immediate",
              "transition": {
               "duration": 0,
               "easing": "linear"
              }
             }
            ],
            "label": "2020-02-06",
            "method": "animate"
           },
           {
            "args": [
             [
              "2020-02-07"
             ],
             {
              "frame": {
               "duration": 0,
               "redraw": true
              },
              "fromcurrent": true,
              "mode": "immediate",
              "transition": {
               "duration": 0,
               "easing": "linear"
              }
             }
            ],
            "label": "2020-02-07",
            "method": "animate"
           },
           {
            "args": [
             [
              "2020-02-08"
             ],
             {
              "frame": {
               "duration": 0,
               "redraw": true
              },
              "fromcurrent": true,
              "mode": "immediate",
              "transition": {
               "duration": 0,
               "easing": "linear"
              }
             }
            ],
            "label": "2020-02-08",
            "method": "animate"
           },
           {
            "args": [
             [
              "2020-02-09"
             ],
             {
              "frame": {
               "duration": 0,
               "redraw": true
              },
              "fromcurrent": true,
              "mode": "immediate",
              "transition": {
               "duration": 0,
               "easing": "linear"
              }
             }
            ],
            "label": "2020-02-09",
            "method": "animate"
           },
           {
            "args": [
             [
              "2020-02-10"
             ],
             {
              "frame": {
               "duration": 0,
               "redraw": true
              },
              "fromcurrent": true,
              "mode": "immediate",
              "transition": {
               "duration": 0,
               "easing": "linear"
              }
             }
            ],
            "label": "2020-02-10",
            "method": "animate"
           },
           {
            "args": [
             [
              "2020-02-11"
             ],
             {
              "frame": {
               "duration": 0,
               "redraw": true
              },
              "fromcurrent": true,
              "mode": "immediate",
              "transition": {
               "duration": 0,
               "easing": "linear"
              }
             }
            ],
            "label": "2020-02-11",
            "method": "animate"
           },
           {
            "args": [
             [
              "2020-02-12"
             ],
             {
              "frame": {
               "duration": 0,
               "redraw": true
              },
              "fromcurrent": true,
              "mode": "immediate",
              "transition": {
               "duration": 0,
               "easing": "linear"
              }
             }
            ],
            "label": "2020-02-12",
            "method": "animate"
           },
           {
            "args": [
             [
              "2020-02-13"
             ],
             {
              "frame": {
               "duration": 0,
               "redraw": true
              },
              "fromcurrent": true,
              "mode": "immediate",
              "transition": {
               "duration": 0,
               "easing": "linear"
              }
             }
            ],
            "label": "2020-02-13",
            "method": "animate"
           },
           {
            "args": [
             [
              "2020-02-14"
             ],
             {
              "frame": {
               "duration": 0,
               "redraw": true
              },
              "fromcurrent": true,
              "mode": "immediate",
              "transition": {
               "duration": 0,
               "easing": "linear"
              }
             }
            ],
            "label": "2020-02-14",
            "method": "animate"
           },
           {
            "args": [
             [
              "2020-02-15"
             ],
             {
              "frame": {
               "duration": 0,
               "redraw": true
              },
              "fromcurrent": true,
              "mode": "immediate",
              "transition": {
               "duration": 0,
               "easing": "linear"
              }
             }
            ],
            "label": "2020-02-15",
            "method": "animate"
           },
           {
            "args": [
             [
              "2020-02-16"
             ],
             {
              "frame": {
               "duration": 0,
               "redraw": true
              },
              "fromcurrent": true,
              "mode": "immediate",
              "transition": {
               "duration": 0,
               "easing": "linear"
              }
             }
            ],
            "label": "2020-02-16",
            "method": "animate"
           },
           {
            "args": [
             [
              "2020-02-17"
             ],
             {
              "frame": {
               "duration": 0,
               "redraw": true
              },
              "fromcurrent": true,
              "mode": "immediate",
              "transition": {
               "duration": 0,
               "easing": "linear"
              }
             }
            ],
            "label": "2020-02-17",
            "method": "animate"
           },
           {
            "args": [
             [
              "2020-02-18"
             ],
             {
              "frame": {
               "duration": 0,
               "redraw": true
              },
              "fromcurrent": true,
              "mode": "immediate",
              "transition": {
               "duration": 0,
               "easing": "linear"
              }
             }
            ],
            "label": "2020-02-18",
            "method": "animate"
           },
           {
            "args": [
             [
              "2020-02-19"
             ],
             {
              "frame": {
               "duration": 0,
               "redraw": true
              },
              "fromcurrent": true,
              "mode": "immediate",
              "transition": {
               "duration": 0,
               "easing": "linear"
              }
             }
            ],
            "label": "2020-02-19",
            "method": "animate"
           },
           {
            "args": [
             [
              "2020-02-20"
             ],
             {
              "frame": {
               "duration": 0,
               "redraw": true
              },
              "fromcurrent": true,
              "mode": "immediate",
              "transition": {
               "duration": 0,
               "easing": "linear"
              }
             }
            ],
            "label": "2020-02-20",
            "method": "animate"
           },
           {
            "args": [
             [
              "2020-02-21"
             ],
             {
              "frame": {
               "duration": 0,
               "redraw": true
              },
              "fromcurrent": true,
              "mode": "immediate",
              "transition": {
               "duration": 0,
               "easing": "linear"
              }
             }
            ],
            "label": "2020-02-21",
            "method": "animate"
           },
           {
            "args": [
             [
              "2020-02-22"
             ],
             {
              "frame": {
               "duration": 0,
               "redraw": true
              },
              "fromcurrent": true,
              "mode": "immediate",
              "transition": {
               "duration": 0,
               "easing": "linear"
              }
             }
            ],
            "label": "2020-02-22",
            "method": "animate"
           },
           {
            "args": [
             [
              "2020-02-23"
             ],
             {
              "frame": {
               "duration": 0,
               "redraw": true
              },
              "fromcurrent": true,
              "mode": "immediate",
              "transition": {
               "duration": 0,
               "easing": "linear"
              }
             }
            ],
            "label": "2020-02-23",
            "method": "animate"
           },
           {
            "args": [
             [
              "2020-02-24"
             ],
             {
              "frame": {
               "duration": 0,
               "redraw": true
              },
              "fromcurrent": true,
              "mode": "immediate",
              "transition": {
               "duration": 0,
               "easing": "linear"
              }
             }
            ],
            "label": "2020-02-24",
            "method": "animate"
           },
           {
            "args": [
             [
              "2020-02-25"
             ],
             {
              "frame": {
               "duration": 0,
               "redraw": true
              },
              "fromcurrent": true,
              "mode": "immediate",
              "transition": {
               "duration": 0,
               "easing": "linear"
              }
             }
            ],
            "label": "2020-02-25",
            "method": "animate"
           },
           {
            "args": [
             [
              "2020-02-26"
             ],
             {
              "frame": {
               "duration": 0,
               "redraw": true
              },
              "fromcurrent": true,
              "mode": "immediate",
              "transition": {
               "duration": 0,
               "easing": "linear"
              }
             }
            ],
            "label": "2020-02-26",
            "method": "animate"
           },
           {
            "args": [
             [
              "2020-02-27"
             ],
             {
              "frame": {
               "duration": 0,
               "redraw": true
              },
              "fromcurrent": true,
              "mode": "immediate",
              "transition": {
               "duration": 0,
               "easing": "linear"
              }
             }
            ],
            "label": "2020-02-27",
            "method": "animate"
           },
           {
            "args": [
             [
              "2020-02-28"
             ],
             {
              "frame": {
               "duration": 0,
               "redraw": true
              },
              "fromcurrent": true,
              "mode": "immediate",
              "transition": {
               "duration": 0,
               "easing": "linear"
              }
             }
            ],
            "label": "2020-02-28",
            "method": "animate"
           },
           {
            "args": [
             [
              "2020-02-29"
             ],
             {
              "frame": {
               "duration": 0,
               "redraw": true
              },
              "fromcurrent": true,
              "mode": "immediate",
              "transition": {
               "duration": 0,
               "easing": "linear"
              }
             }
            ],
            "label": "2020-02-29",
            "method": "animate"
           },
           {
            "args": [
             [
              "2020-03-01"
             ],
             {
              "frame": {
               "duration": 0,
               "redraw": true
              },
              "fromcurrent": true,
              "mode": "immediate",
              "transition": {
               "duration": 0,
               "easing": "linear"
              }
             }
            ],
            "label": "2020-03-01",
            "method": "animate"
           },
           {
            "args": [
             [
              "2020-03-02"
             ],
             {
              "frame": {
               "duration": 0,
               "redraw": true
              },
              "fromcurrent": true,
              "mode": "immediate",
              "transition": {
               "duration": 0,
               "easing": "linear"
              }
             }
            ],
            "label": "2020-03-02",
            "method": "animate"
           },
           {
            "args": [
             [
              "2020-03-03"
             ],
             {
              "frame": {
               "duration": 0,
               "redraw": true
              },
              "fromcurrent": true,
              "mode": "immediate",
              "transition": {
               "duration": 0,
               "easing": "linear"
              }
             }
            ],
            "label": "2020-03-03",
            "method": "animate"
           },
           {
            "args": [
             [
              "2020-03-04"
             ],
             {
              "frame": {
               "duration": 0,
               "redraw": true
              },
              "fromcurrent": true,
              "mode": "immediate",
              "transition": {
               "duration": 0,
               "easing": "linear"
              }
             }
            ],
            "label": "2020-03-04",
            "method": "animate"
           },
           {
            "args": [
             [
              "2020-03-05"
             ],
             {
              "frame": {
               "duration": 0,
               "redraw": true
              },
              "fromcurrent": true,
              "mode": "immediate",
              "transition": {
               "duration": 0,
               "easing": "linear"
              }
             }
            ],
            "label": "2020-03-05",
            "method": "animate"
           },
           {
            "args": [
             [
              "2020-03-06"
             ],
             {
              "frame": {
               "duration": 0,
               "redraw": true
              },
              "fromcurrent": true,
              "mode": "immediate",
              "transition": {
               "duration": 0,
               "easing": "linear"
              }
             }
            ],
            "label": "2020-03-06",
            "method": "animate"
           },
           {
            "args": [
             [
              "2020-03-07"
             ],
             {
              "frame": {
               "duration": 0,
               "redraw": true
              },
              "fromcurrent": true,
              "mode": "immediate",
              "transition": {
               "duration": 0,
               "easing": "linear"
              }
             }
            ],
            "label": "2020-03-07",
            "method": "animate"
           },
           {
            "args": [
             [
              "2020-03-08"
             ],
             {
              "frame": {
               "duration": 0,
               "redraw": true
              },
              "fromcurrent": true,
              "mode": "immediate",
              "transition": {
               "duration": 0,
               "easing": "linear"
              }
             }
            ],
            "label": "2020-03-08",
            "method": "animate"
           },
           {
            "args": [
             [
              "2020-03-09"
             ],
             {
              "frame": {
               "duration": 0,
               "redraw": true
              },
              "fromcurrent": true,
              "mode": "immediate",
              "transition": {
               "duration": 0,
               "easing": "linear"
              }
             }
            ],
            "label": "2020-03-09",
            "method": "animate"
           },
           {
            "args": [
             [
              "2020-03-10"
             ],
             {
              "frame": {
               "duration": 0,
               "redraw": true
              },
              "fromcurrent": true,
              "mode": "immediate",
              "transition": {
               "duration": 0,
               "easing": "linear"
              }
             }
            ],
            "label": "2020-03-10",
            "method": "animate"
           },
           {
            "args": [
             [
              "2020-03-11"
             ],
             {
              "frame": {
               "duration": 0,
               "redraw": true
              },
              "fromcurrent": true,
              "mode": "immediate",
              "transition": {
               "duration": 0,
               "easing": "linear"
              }
             }
            ],
            "label": "2020-03-11",
            "method": "animate"
           },
           {
            "args": [
             [
              "2020-03-12"
             ],
             {
              "frame": {
               "duration": 0,
               "redraw": true
              },
              "fromcurrent": true,
              "mode": "immediate",
              "transition": {
               "duration": 0,
               "easing": "linear"
              }
             }
            ],
            "label": "2020-03-12",
            "method": "animate"
           },
           {
            "args": [
             [
              "2020-03-13"
             ],
             {
              "frame": {
               "duration": 0,
               "redraw": true
              },
              "fromcurrent": true,
              "mode": "immediate",
              "transition": {
               "duration": 0,
               "easing": "linear"
              }
             }
            ],
            "label": "2020-03-13",
            "method": "animate"
           },
           {
            "args": [
             [
              "2020-03-14"
             ],
             {
              "frame": {
               "duration": 0,
               "redraw": true
              },
              "fromcurrent": true,
              "mode": "immediate",
              "transition": {
               "duration": 0,
               "easing": "linear"
              }
             }
            ],
            "label": "2020-03-14",
            "method": "animate"
           },
           {
            "args": [
             [
              "2020-03-15"
             ],
             {
              "frame": {
               "duration": 0,
               "redraw": true
              },
              "fromcurrent": true,
              "mode": "immediate",
              "transition": {
               "duration": 0,
               "easing": "linear"
              }
             }
            ],
            "label": "2020-03-15",
            "method": "animate"
           },
           {
            "args": [
             [
              "2020-03-16"
             ],
             {
              "frame": {
               "duration": 0,
               "redraw": true
              },
              "fromcurrent": true,
              "mode": "immediate",
              "transition": {
               "duration": 0,
               "easing": "linear"
              }
             }
            ],
            "label": "2020-03-16",
            "method": "animate"
           },
           {
            "args": [
             [
              "2020-03-17"
             ],
             {
              "frame": {
               "duration": 0,
               "redraw": true
              },
              "fromcurrent": true,
              "mode": "immediate",
              "transition": {
               "duration": 0,
               "easing": "linear"
              }
             }
            ],
            "label": "2020-03-17",
            "method": "animate"
           },
           {
            "args": [
             [
              "2020-03-18"
             ],
             {
              "frame": {
               "duration": 0,
               "redraw": true
              },
              "fromcurrent": true,
              "mode": "immediate",
              "transition": {
               "duration": 0,
               "easing": "linear"
              }
             }
            ],
            "label": "2020-03-18",
            "method": "animate"
           },
           {
            "args": [
             [
              "2020-03-19"
             ],
             {
              "frame": {
               "duration": 0,
               "redraw": true
              },
              "fromcurrent": true,
              "mode": "immediate",
              "transition": {
               "duration": 0,
               "easing": "linear"
              }
             }
            ],
            "label": "2020-03-19",
            "method": "animate"
           },
           {
            "args": [
             [
              "2020-03-20"
             ],
             {
              "frame": {
               "duration": 0,
               "redraw": true
              },
              "fromcurrent": true,
              "mode": "immediate",
              "transition": {
               "duration": 0,
               "easing": "linear"
              }
             }
            ],
            "label": "2020-03-20",
            "method": "animate"
           },
           {
            "args": [
             [
              "2020-03-21"
             ],
             {
              "frame": {
               "duration": 0,
               "redraw": true
              },
              "fromcurrent": true,
              "mode": "immediate",
              "transition": {
               "duration": 0,
               "easing": "linear"
              }
             }
            ],
            "label": "2020-03-21",
            "method": "animate"
           },
           {
            "args": [
             [
              "2020-03-22"
             ],
             {
              "frame": {
               "duration": 0,
               "redraw": true
              },
              "fromcurrent": true,
              "mode": "immediate",
              "transition": {
               "duration": 0,
               "easing": "linear"
              }
             }
            ],
            "label": "2020-03-22",
            "method": "animate"
           },
           {
            "args": [
             [
              "2020-03-23"
             ],
             {
              "frame": {
               "duration": 0,
               "redraw": true
              },
              "fromcurrent": true,
              "mode": "immediate",
              "transition": {
               "duration": 0,
               "easing": "linear"
              }
             }
            ],
            "label": "2020-03-23",
            "method": "animate"
           },
           {
            "args": [
             [
              "2020-03-24"
             ],
             {
              "frame": {
               "duration": 0,
               "redraw": true
              },
              "fromcurrent": true,
              "mode": "immediate",
              "transition": {
               "duration": 0,
               "easing": "linear"
              }
             }
            ],
            "label": "2020-03-24",
            "method": "animate"
           },
           {
            "args": [
             [
              "2020-03-25"
             ],
             {
              "frame": {
               "duration": 0,
               "redraw": true
              },
              "fromcurrent": true,
              "mode": "immediate",
              "transition": {
               "duration": 0,
               "easing": "linear"
              }
             }
            ],
            "label": "2020-03-25",
            "method": "animate"
           },
           {
            "args": [
             [
              "2020-03-26"
             ],
             {
              "frame": {
               "duration": 0,
               "redraw": true
              },
              "fromcurrent": true,
              "mode": "immediate",
              "transition": {
               "duration": 0,
               "easing": "linear"
              }
             }
            ],
            "label": "2020-03-26",
            "method": "animate"
           },
           {
            "args": [
             [
              "2020-03-27"
             ],
             {
              "frame": {
               "duration": 0,
               "redraw": true
              },
              "fromcurrent": true,
              "mode": "immediate",
              "transition": {
               "duration": 0,
               "easing": "linear"
              }
             }
            ],
            "label": "2020-03-27",
            "method": "animate"
           },
           {
            "args": [
             [
              "2020-03-28"
             ],
             {
              "frame": {
               "duration": 0,
               "redraw": true
              },
              "fromcurrent": true,
              "mode": "immediate",
              "transition": {
               "duration": 0,
               "easing": "linear"
              }
             }
            ],
            "label": "2020-03-28",
            "method": "animate"
           },
           {
            "args": [
             [
              "2020-03-29"
             ],
             {
              "frame": {
               "duration": 0,
               "redraw": true
              },
              "fromcurrent": true,
              "mode": "immediate",
              "transition": {
               "duration": 0,
               "easing": "linear"
              }
             }
            ],
            "label": "2020-03-29",
            "method": "animate"
           },
           {
            "args": [
             [
              "2020-03-30"
             ],
             {
              "frame": {
               "duration": 0,
               "redraw": true
              },
              "fromcurrent": true,
              "mode": "immediate",
              "transition": {
               "duration": 0,
               "easing": "linear"
              }
             }
            ],
            "label": "2020-03-30",
            "method": "animate"
           },
           {
            "args": [
             [
              "2020-03-31"
             ],
             {
              "frame": {
               "duration": 0,
               "redraw": true
              },
              "fromcurrent": true,
              "mode": "immediate",
              "transition": {
               "duration": 0,
               "easing": "linear"
              }
             }
            ],
            "label": "2020-03-31",
            "method": "animate"
           },
           {
            "args": [
             [
              "2020-04-01"
             ],
             {
              "frame": {
               "duration": 0,
               "redraw": true
              },
              "fromcurrent": true,
              "mode": "immediate",
              "transition": {
               "duration": 0,
               "easing": "linear"
              }
             }
            ],
            "label": "2020-04-01",
            "method": "animate"
           },
           {
            "args": [
             [
              "2020-04-02"
             ],
             {
              "frame": {
               "duration": 0,
               "redraw": true
              },
              "fromcurrent": true,
              "mode": "immediate",
              "transition": {
               "duration": 0,
               "easing": "linear"
              }
             }
            ],
            "label": "2020-04-02",
            "method": "animate"
           },
           {
            "args": [
             [
              "2020-04-03"
             ],
             {
              "frame": {
               "duration": 0,
               "redraw": true
              },
              "fromcurrent": true,
              "mode": "immediate",
              "transition": {
               "duration": 0,
               "easing": "linear"
              }
             }
            ],
            "label": "2020-04-03",
            "method": "animate"
           },
           {
            "args": [
             [
              "2020-04-04"
             ],
             {
              "frame": {
               "duration": 0,
               "redraw": true
              },
              "fromcurrent": true,
              "mode": "immediate",
              "transition": {
               "duration": 0,
               "easing": "linear"
              }
             }
            ],
            "label": "2020-04-04",
            "method": "animate"
           },
           {
            "args": [
             [
              "2020-04-05"
             ],
             {
              "frame": {
               "duration": 0,
               "redraw": true
              },
              "fromcurrent": true,
              "mode": "immediate",
              "transition": {
               "duration": 0,
               "easing": "linear"
              }
             }
            ],
            "label": "2020-04-05",
            "method": "animate"
           },
           {
            "args": [
             [
              "2020-04-06"
             ],
             {
              "frame": {
               "duration": 0,
               "redraw": true
              },
              "fromcurrent": true,
              "mode": "immediate",
              "transition": {
               "duration": 0,
               "easing": "linear"
              }
             }
            ],
            "label": "2020-04-06",
            "method": "animate"
           },
           {
            "args": [
             [
              "2020-04-07"
             ],
             {
              "frame": {
               "duration": 0,
               "redraw": true
              },
              "fromcurrent": true,
              "mode": "immediate",
              "transition": {
               "duration": 0,
               "easing": "linear"
              }
             }
            ],
            "label": "2020-04-07",
            "method": "animate"
           },
           {
            "args": [
             [
              "2020-04-08"
             ],
             {
              "frame": {
               "duration": 0,
               "redraw": true
              },
              "fromcurrent": true,
              "mode": "immediate",
              "transition": {
               "duration": 0,
               "easing": "linear"
              }
             }
            ],
            "label": "2020-04-08",
            "method": "animate"
           },
           {
            "args": [
             [
              "2020-04-09"
             ],
             {
              "frame": {
               "duration": 0,
               "redraw": true
              },
              "fromcurrent": true,
              "mode": "immediate",
              "transition": {
               "duration": 0,
               "easing": "linear"
              }
             }
            ],
            "label": "2020-04-09",
            "method": "animate"
           },
           {
            "args": [
             [
              "2020-04-10"
             ],
             {
              "frame": {
               "duration": 0,
               "redraw": true
              },
              "fromcurrent": true,
              "mode": "immediate",
              "transition": {
               "duration": 0,
               "easing": "linear"
              }
             }
            ],
            "label": "2020-04-10",
            "method": "animate"
           },
           {
            "args": [
             [
              "2020-04-11"
             ],
             {
              "frame": {
               "duration": 0,
               "redraw": true
              },
              "fromcurrent": true,
              "mode": "immediate",
              "transition": {
               "duration": 0,
               "easing": "linear"
              }
             }
            ],
            "label": "2020-04-11",
            "method": "animate"
           },
           {
            "args": [
             [
              "2020-04-12"
             ],
             {
              "frame": {
               "duration": 0,
               "redraw": true
              },
              "fromcurrent": true,
              "mode": "immediate",
              "transition": {
               "duration": 0,
               "easing": "linear"
              }
             }
            ],
            "label": "2020-04-12",
            "method": "animate"
           },
           {
            "args": [
             [
              "2020-04-13"
             ],
             {
              "frame": {
               "duration": 0,
               "redraw": true
              },
              "fromcurrent": true,
              "mode": "immediate",
              "transition": {
               "duration": 0,
               "easing": "linear"
              }
             }
            ],
            "label": "2020-04-13",
            "method": "animate"
           },
           {
            "args": [
             [
              "2020-04-14"
             ],
             {
              "frame": {
               "duration": 0,
               "redraw": true
              },
              "fromcurrent": true,
              "mode": "immediate",
              "transition": {
               "duration": 0,
               "easing": "linear"
              }
             }
            ],
            "label": "2020-04-14",
            "method": "animate"
           },
           {
            "args": [
             [
              "2020-04-15"
             ],
             {
              "frame": {
               "duration": 0,
               "redraw": true
              },
              "fromcurrent": true,
              "mode": "immediate",
              "transition": {
               "duration": 0,
               "easing": "linear"
              }
             }
            ],
            "label": "2020-04-15",
            "method": "animate"
           },
           {
            "args": [
             [
              "2020-04-16"
             ],
             {
              "frame": {
               "duration": 0,
               "redraw": true
              },
              "fromcurrent": true,
              "mode": "immediate",
              "transition": {
               "duration": 0,
               "easing": "linear"
              }
             }
            ],
            "label": "2020-04-16",
            "method": "animate"
           },
           {
            "args": [
             [
              "2020-04-17"
             ],
             {
              "frame": {
               "duration": 0,
               "redraw": true
              },
              "fromcurrent": true,
              "mode": "immediate",
              "transition": {
               "duration": 0,
               "easing": "linear"
              }
             }
            ],
            "label": "2020-04-17",
            "method": "animate"
           },
           {
            "args": [
             [
              "2020-04-18"
             ],
             {
              "frame": {
               "duration": 0,
               "redraw": true
              },
              "fromcurrent": true,
              "mode": "immediate",
              "transition": {
               "duration": 0,
               "easing": "linear"
              }
             }
            ],
            "label": "2020-04-18",
            "method": "animate"
           },
           {
            "args": [
             [
              "2020-04-19"
             ],
             {
              "frame": {
               "duration": 0,
               "redraw": true
              },
              "fromcurrent": true,
              "mode": "immediate",
              "transition": {
               "duration": 0,
               "easing": "linear"
              }
             }
            ],
            "label": "2020-04-19",
            "method": "animate"
           },
           {
            "args": [
             [
              "2020-04-20"
             ],
             {
              "frame": {
               "duration": 0,
               "redraw": true
              },
              "fromcurrent": true,
              "mode": "immediate",
              "transition": {
               "duration": 0,
               "easing": "linear"
              }
             }
            ],
            "label": "2020-04-20",
            "method": "animate"
           },
           {
            "args": [
             [
              "2020-04-21"
             ],
             {
              "frame": {
               "duration": 0,
               "redraw": true
              },
              "fromcurrent": true,
              "mode": "immediate",
              "transition": {
               "duration": 0,
               "easing": "linear"
              }
             }
            ],
            "label": "2020-04-21",
            "method": "animate"
           },
           {
            "args": [
             [
              "2020-04-22"
             ],
             {
              "frame": {
               "duration": 0,
               "redraw": true
              },
              "fromcurrent": true,
              "mode": "immediate",
              "transition": {
               "duration": 0,
               "easing": "linear"
              }
             }
            ],
            "label": "2020-04-22",
            "method": "animate"
           },
           {
            "args": [
             [
              "2020-04-23"
             ],
             {
              "frame": {
               "duration": 0,
               "redraw": true
              },
              "fromcurrent": true,
              "mode": "immediate",
              "transition": {
               "duration": 0,
               "easing": "linear"
              }
             }
            ],
            "label": "2020-04-23",
            "method": "animate"
           },
           {
            "args": [
             [
              "2020-04-24"
             ],
             {
              "frame": {
               "duration": 0,
               "redraw": true
              },
              "fromcurrent": true,
              "mode": "immediate",
              "transition": {
               "duration": 0,
               "easing": "linear"
              }
             }
            ],
            "label": "2020-04-24",
            "method": "animate"
           },
           {
            "args": [
             [
              "2020-04-25"
             ],
             {
              "frame": {
               "duration": 0,
               "redraw": true
              },
              "fromcurrent": true,
              "mode": "immediate",
              "transition": {
               "duration": 0,
               "easing": "linear"
              }
             }
            ],
            "label": "2020-04-25",
            "method": "animate"
           },
           {
            "args": [
             [
              "2020-04-26"
             ],
             {
              "frame": {
               "duration": 0,
               "redraw": true
              },
              "fromcurrent": true,
              "mode": "immediate",
              "transition": {
               "duration": 0,
               "easing": "linear"
              }
             }
            ],
            "label": "2020-04-26",
            "method": "animate"
           },
           {
            "args": [
             [
              "2020-04-27"
             ],
             {
              "frame": {
               "duration": 0,
               "redraw": true
              },
              "fromcurrent": true,
              "mode": "immediate",
              "transition": {
               "duration": 0,
               "easing": "linear"
              }
             }
            ],
            "label": "2020-04-27",
            "method": "animate"
           },
           {
            "args": [
             [
              "2020-04-28"
             ],
             {
              "frame": {
               "duration": 0,
               "redraw": true
              },
              "fromcurrent": true,
              "mode": "immediate",
              "transition": {
               "duration": 0,
               "easing": "linear"
              }
             }
            ],
            "label": "2020-04-28",
            "method": "animate"
           },
           {
            "args": [
             [
              "2020-04-29"
             ],
             {
              "frame": {
               "duration": 0,
               "redraw": true
              },
              "fromcurrent": true,
              "mode": "immediate",
              "transition": {
               "duration": 0,
               "easing": "linear"
              }
             }
            ],
            "label": "2020-04-29",
            "method": "animate"
           },
           {
            "args": [
             [
              "2020-04-30"
             ],
             {
              "frame": {
               "duration": 0,
               "redraw": true
              },
              "fromcurrent": true,
              "mode": "immediate",
              "transition": {
               "duration": 0,
               "easing": "linear"
              }
             }
            ],
            "label": "2020-04-30",
            "method": "animate"
           },
           {
            "args": [
             [
              "2020-05-01"
             ],
             {
              "frame": {
               "duration": 0,
               "redraw": true
              },
              "fromcurrent": true,
              "mode": "immediate",
              "transition": {
               "duration": 0,
               "easing": "linear"
              }
             }
            ],
            "label": "2020-05-01",
            "method": "animate"
           },
           {
            "args": [
             [
              "2020-05-02"
             ],
             {
              "frame": {
               "duration": 0,
               "redraw": true
              },
              "fromcurrent": true,
              "mode": "immediate",
              "transition": {
               "duration": 0,
               "easing": "linear"
              }
             }
            ],
            "label": "2020-05-02",
            "method": "animate"
           },
           {
            "args": [
             [
              "2020-05-03"
             ],
             {
              "frame": {
               "duration": 0,
               "redraw": true
              },
              "fromcurrent": true,
              "mode": "immediate",
              "transition": {
               "duration": 0,
               "easing": "linear"
              }
             }
            ],
            "label": "2020-05-03",
            "method": "animate"
           },
           {
            "args": [
             [
              "2020-05-04"
             ],
             {
              "frame": {
               "duration": 0,
               "redraw": true
              },
              "fromcurrent": true,
              "mode": "immediate",
              "transition": {
               "duration": 0,
               "easing": "linear"
              }
             }
            ],
            "label": "2020-05-04",
            "method": "animate"
           },
           {
            "args": [
             [
              "2020-05-05"
             ],
             {
              "frame": {
               "duration": 0,
               "redraw": true
              },
              "fromcurrent": true,
              "mode": "immediate",
              "transition": {
               "duration": 0,
               "easing": "linear"
              }
             }
            ],
            "label": "2020-05-05",
            "method": "animate"
           },
           {
            "args": [
             [
              "2020-05-06"
             ],
             {
              "frame": {
               "duration": 0,
               "redraw": true
              },
              "fromcurrent": true,
              "mode": "immediate",
              "transition": {
               "duration": 0,
               "easing": "linear"
              }
             }
            ],
            "label": "2020-05-06",
            "method": "animate"
           },
           {
            "args": [
             [
              "2020-05-07"
             ],
             {
              "frame": {
               "duration": 0,
               "redraw": true
              },
              "fromcurrent": true,
              "mode": "immediate",
              "transition": {
               "duration": 0,
               "easing": "linear"
              }
             }
            ],
            "label": "2020-05-07",
            "method": "animate"
           },
           {
            "args": [
             [
              "2020-05-08"
             ],
             {
              "frame": {
               "duration": 0,
               "redraw": true
              },
              "fromcurrent": true,
              "mode": "immediate",
              "transition": {
               "duration": 0,
               "easing": "linear"
              }
             }
            ],
            "label": "2020-05-08",
            "method": "animate"
           },
           {
            "args": [
             [
              "2020-05-09"
             ],
             {
              "frame": {
               "duration": 0,
               "redraw": true
              },
              "fromcurrent": true,
              "mode": "immediate",
              "transition": {
               "duration": 0,
               "easing": "linear"
              }
             }
            ],
            "label": "2020-05-09",
            "method": "animate"
           },
           {
            "args": [
             [
              "2020-05-10"
             ],
             {
              "frame": {
               "duration": 0,
               "redraw": true
              },
              "fromcurrent": true,
              "mode": "immediate",
              "transition": {
               "duration": 0,
               "easing": "linear"
              }
             }
            ],
            "label": "2020-05-10",
            "method": "animate"
           },
           {
            "args": [
             [
              "2020-05-11"
             ],
             {
              "frame": {
               "duration": 0,
               "redraw": true
              },
              "fromcurrent": true,
              "mode": "immediate",
              "transition": {
               "duration": 0,
               "easing": "linear"
              }
             }
            ],
            "label": "2020-05-11",
            "method": "animate"
           },
           {
            "args": [
             [
              "2020-05-12"
             ],
             {
              "frame": {
               "duration": 0,
               "redraw": true
              },
              "fromcurrent": true,
              "mode": "immediate",
              "transition": {
               "duration": 0,
               "easing": "linear"
              }
             }
            ],
            "label": "2020-05-12",
            "method": "animate"
           },
           {
            "args": [
             [
              "2020-05-13"
             ],
             {
              "frame": {
               "duration": 0,
               "redraw": true
              },
              "fromcurrent": true,
              "mode": "immediate",
              "transition": {
               "duration": 0,
               "easing": "linear"
              }
             }
            ],
            "label": "2020-05-13",
            "method": "animate"
           },
           {
            "args": [
             [
              "2020-05-14"
             ],
             {
              "frame": {
               "duration": 0,
               "redraw": true
              },
              "fromcurrent": true,
              "mode": "immediate",
              "transition": {
               "duration": 0,
               "easing": "linear"
              }
             }
            ],
            "label": "2020-05-14",
            "method": "animate"
           },
           {
            "args": [
             [
              "2020-05-15"
             ],
             {
              "frame": {
               "duration": 0,
               "redraw": true
              },
              "fromcurrent": true,
              "mode": "immediate",
              "transition": {
               "duration": 0,
               "easing": "linear"
              }
             }
            ],
            "label": "2020-05-15",
            "method": "animate"
           },
           {
            "args": [
             [
              "2020-05-16"
             ],
             {
              "frame": {
               "duration": 0,
               "redraw": true
              },
              "fromcurrent": true,
              "mode": "immediate",
              "transition": {
               "duration": 0,
               "easing": "linear"
              }
             }
            ],
            "label": "2020-05-16",
            "method": "animate"
           },
           {
            "args": [
             [
              "2020-05-17"
             ],
             {
              "frame": {
               "duration": 0,
               "redraw": true
              },
              "fromcurrent": true,
              "mode": "immediate",
              "transition": {
               "duration": 0,
               "easing": "linear"
              }
             }
            ],
            "label": "2020-05-17",
            "method": "animate"
           },
           {
            "args": [
             [
              "2020-05-18"
             ],
             {
              "frame": {
               "duration": 0,
               "redraw": true
              },
              "fromcurrent": true,
              "mode": "immediate",
              "transition": {
               "duration": 0,
               "easing": "linear"
              }
             }
            ],
            "label": "2020-05-18",
            "method": "animate"
           },
           {
            "args": [
             [
              "2020-05-19"
             ],
             {
              "frame": {
               "duration": 0,
               "redraw": true
              },
              "fromcurrent": true,
              "mode": "immediate",
              "transition": {
               "duration": 0,
               "easing": "linear"
              }
             }
            ],
            "label": "2020-05-19",
            "method": "animate"
           },
           {
            "args": [
             [
              "2020-05-20"
             ],
             {
              "frame": {
               "duration": 0,
               "redraw": true
              },
              "fromcurrent": true,
              "mode": "immediate",
              "transition": {
               "duration": 0,
               "easing": "linear"
              }
             }
            ],
            "label": "2020-05-20",
            "method": "animate"
           },
           {
            "args": [
             [
              "2020-05-21"
             ],
             {
              "frame": {
               "duration": 0,
               "redraw": true
              },
              "fromcurrent": true,
              "mode": "immediate",
              "transition": {
               "duration": 0,
               "easing": "linear"
              }
             }
            ],
            "label": "2020-05-21",
            "method": "animate"
           },
           {
            "args": [
             [
              "2020-05-22"
             ],
             {
              "frame": {
               "duration": 0,
               "redraw": true
              },
              "fromcurrent": true,
              "mode": "immediate",
              "transition": {
               "duration": 0,
               "easing": "linear"
              }
             }
            ],
            "label": "2020-05-22",
            "method": "animate"
           },
           {
            "args": [
             [
              "2020-05-23"
             ],
             {
              "frame": {
               "duration": 0,
               "redraw": true
              },
              "fromcurrent": true,
              "mode": "immediate",
              "transition": {
               "duration": 0,
               "easing": "linear"
              }
             }
            ],
            "label": "2020-05-23",
            "method": "animate"
           },
           {
            "args": [
             [
              "2020-05-24"
             ],
             {
              "frame": {
               "duration": 0,
               "redraw": true
              },
              "fromcurrent": true,
              "mode": "immediate",
              "transition": {
               "duration": 0,
               "easing": "linear"
              }
             }
            ],
            "label": "2020-05-24",
            "method": "animate"
           },
           {
            "args": [
             [
              "2020-05-25"
             ],
             {
              "frame": {
               "duration": 0,
               "redraw": true
              },
              "fromcurrent": true,
              "mode": "immediate",
              "transition": {
               "duration": 0,
               "easing": "linear"
              }
             }
            ],
            "label": "2020-05-25",
            "method": "animate"
           },
           {
            "args": [
             [
              "2020-05-26"
             ],
             {
              "frame": {
               "duration": 0,
               "redraw": true
              },
              "fromcurrent": true,
              "mode": "immediate",
              "transition": {
               "duration": 0,
               "easing": "linear"
              }
             }
            ],
            "label": "2020-05-26",
            "method": "animate"
           },
           {
            "args": [
             [
              "2020-05-27"
             ],
             {
              "frame": {
               "duration": 0,
               "redraw": true
              },
              "fromcurrent": true,
              "mode": "immediate",
              "transition": {
               "duration": 0,
               "easing": "linear"
              }
             }
            ],
            "label": "2020-05-27",
            "method": "animate"
           },
           {
            "args": [
             [
              "2020-05-28"
             ],
             {
              "frame": {
               "duration": 0,
               "redraw": true
              },
              "fromcurrent": true,
              "mode": "immediate",
              "transition": {
               "duration": 0,
               "easing": "linear"
              }
             }
            ],
            "label": "2020-05-28",
            "method": "animate"
           },
           {
            "args": [
             [
              "2020-05-29"
             ],
             {
              "frame": {
               "duration": 0,
               "redraw": true
              },
              "fromcurrent": true,
              "mode": "immediate",
              "transition": {
               "duration": 0,
               "easing": "linear"
              }
             }
            ],
            "label": "2020-05-29",
            "method": "animate"
           },
           {
            "args": [
             [
              "2020-05-30"
             ],
             {
              "frame": {
               "duration": 0,
               "redraw": true
              },
              "fromcurrent": true,
              "mode": "immediate",
              "transition": {
               "duration": 0,
               "easing": "linear"
              }
             }
            ],
            "label": "2020-05-30",
            "method": "animate"
           },
           {
            "args": [
             [
              "2020-05-31"
             ],
             {
              "frame": {
               "duration": 0,
               "redraw": true
              },
              "fromcurrent": true,
              "mode": "immediate",
              "transition": {
               "duration": 0,
               "easing": "linear"
              }
             }
            ],
            "label": "2020-05-31",
            "method": "animate"
           },
           {
            "args": [
             [
              "2020-06-01"
             ],
             {
              "frame": {
               "duration": 0,
               "redraw": true
              },
              "fromcurrent": true,
              "mode": "immediate",
              "transition": {
               "duration": 0,
               "easing": "linear"
              }
             }
            ],
            "label": "2020-06-01",
            "method": "animate"
           },
           {
            "args": [
             [
              "2020-06-02"
             ],
             {
              "frame": {
               "duration": 0,
               "redraw": true
              },
              "fromcurrent": true,
              "mode": "immediate",
              "transition": {
               "duration": 0,
               "easing": "linear"
              }
             }
            ],
            "label": "2020-06-02",
            "method": "animate"
           },
           {
            "args": [
             [
              "2020-06-03"
             ],
             {
              "frame": {
               "duration": 0,
               "redraw": true
              },
              "fromcurrent": true,
              "mode": "immediate",
              "transition": {
               "duration": 0,
               "easing": "linear"
              }
             }
            ],
            "label": "2020-06-03",
            "method": "animate"
           },
           {
            "args": [
             [
              "2020-06-04"
             ],
             {
              "frame": {
               "duration": 0,
               "redraw": true
              },
              "fromcurrent": true,
              "mode": "immediate",
              "transition": {
               "duration": 0,
               "easing": "linear"
              }
             }
            ],
            "label": "2020-06-04",
            "method": "animate"
           },
           {
            "args": [
             [
              "2020-06-05"
             ],
             {
              "frame": {
               "duration": 0,
               "redraw": true
              },
              "fromcurrent": true,
              "mode": "immediate",
              "transition": {
               "duration": 0,
               "easing": "linear"
              }
             }
            ],
            "label": "2020-06-05",
            "method": "animate"
           },
           {
            "args": [
             [
              "2020-06-06"
             ],
             {
              "frame": {
               "duration": 0,
               "redraw": true
              },
              "fromcurrent": true,
              "mode": "immediate",
              "transition": {
               "duration": 0,
               "easing": "linear"
              }
             }
            ],
            "label": "2020-06-06",
            "method": "animate"
           },
           {
            "args": [
             [
              "2020-06-07"
             ],
             {
              "frame": {
               "duration": 0,
               "redraw": true
              },
              "fromcurrent": true,
              "mode": "immediate",
              "transition": {
               "duration": 0,
               "easing": "linear"
              }
             }
            ],
            "label": "2020-06-07",
            "method": "animate"
           },
           {
            "args": [
             [
              "2020-06-08"
             ],
             {
              "frame": {
               "duration": 0,
               "redraw": true
              },
              "fromcurrent": true,
              "mode": "immediate",
              "transition": {
               "duration": 0,
               "easing": "linear"
              }
             }
            ],
            "label": "2020-06-08",
            "method": "animate"
           },
           {
            "args": [
             [
              "2020-06-09"
             ],
             {
              "frame": {
               "duration": 0,
               "redraw": true
              },
              "fromcurrent": true,
              "mode": "immediate",
              "transition": {
               "duration": 0,
               "easing": "linear"
              }
             }
            ],
            "label": "2020-06-09",
            "method": "animate"
           },
           {
            "args": [
             [
              "2020-06-10"
             ],
             {
              "frame": {
               "duration": 0,
               "redraw": true
              },
              "fromcurrent": true,
              "mode": "immediate",
              "transition": {
               "duration": 0,
               "easing": "linear"
              }
             }
            ],
            "label": "2020-06-10",
            "method": "animate"
           },
           {
            "args": [
             [
              "2020-06-11"
             ],
             {
              "frame": {
               "duration": 0,
               "redraw": true
              },
              "fromcurrent": true,
              "mode": "immediate",
              "transition": {
               "duration": 0,
               "easing": "linear"
              }
             }
            ],
            "label": "2020-06-11",
            "method": "animate"
           },
           {
            "args": [
             [
              "2020-06-12"
             ],
             {
              "frame": {
               "duration": 0,
               "redraw": true
              },
              "fromcurrent": true,
              "mode": "immediate",
              "transition": {
               "duration": 0,
               "easing": "linear"
              }
             }
            ],
            "label": "2020-06-12",
            "method": "animate"
           },
           {
            "args": [
             [
              "2020-06-13"
             ],
             {
              "frame": {
               "duration": 0,
               "redraw": true
              },
              "fromcurrent": true,
              "mode": "immediate",
              "transition": {
               "duration": 0,
               "easing": "linear"
              }
             }
            ],
            "label": "2020-06-13",
            "method": "animate"
           },
           {
            "args": [
             [
              "2020-06-14"
             ],
             {
              "frame": {
               "duration": 0,
               "redraw": true
              },
              "fromcurrent": true,
              "mode": "immediate",
              "transition": {
               "duration": 0,
               "easing": "linear"
              }
             }
            ],
            "label": "2020-06-14",
            "method": "animate"
           },
           {
            "args": [
             [
              "2020-06-15"
             ],
             {
              "frame": {
               "duration": 0,
               "redraw": true
              },
              "fromcurrent": true,
              "mode": "immediate",
              "transition": {
               "duration": 0,
               "easing": "linear"
              }
             }
            ],
            "label": "2020-06-15",
            "method": "animate"
           },
           {
            "args": [
             [
              "2020-06-16"
             ],
             {
              "frame": {
               "duration": 0,
               "redraw": true
              },
              "fromcurrent": true,
              "mode": "immediate",
              "transition": {
               "duration": 0,
               "easing": "linear"
              }
             }
            ],
            "label": "2020-06-16",
            "method": "animate"
           },
           {
            "args": [
             [
              "2020-06-17"
             ],
             {
              "frame": {
               "duration": 0,
               "redraw": true
              },
              "fromcurrent": true,
              "mode": "immediate",
              "transition": {
               "duration": 0,
               "easing": "linear"
              }
             }
            ],
            "label": "2020-06-17",
            "method": "animate"
           },
           {
            "args": [
             [
              "2020-06-18"
             ],
             {
              "frame": {
               "duration": 0,
               "redraw": true
              },
              "fromcurrent": true,
              "mode": "immediate",
              "transition": {
               "duration": 0,
               "easing": "linear"
              }
             }
            ],
            "label": "2020-06-18",
            "method": "animate"
           },
           {
            "args": [
             [
              "2020-06-19"
             ],
             {
              "frame": {
               "duration": 0,
               "redraw": true
              },
              "fromcurrent": true,
              "mode": "immediate",
              "transition": {
               "duration": 0,
               "easing": "linear"
              }
             }
            ],
            "label": "2020-06-19",
            "method": "animate"
           },
           {
            "args": [
             [
              "2020-06-20"
             ],
             {
              "frame": {
               "duration": 0,
               "redraw": true
              },
              "fromcurrent": true,
              "mode": "immediate",
              "transition": {
               "duration": 0,
               "easing": "linear"
              }
             }
            ],
            "label": "2020-06-20",
            "method": "animate"
           },
           {
            "args": [
             [
              "2020-06-21"
             ],
             {
              "frame": {
               "duration": 0,
               "redraw": true
              },
              "fromcurrent": true,
              "mode": "immediate",
              "transition": {
               "duration": 0,
               "easing": "linear"
              }
             }
            ],
            "label": "2020-06-21",
            "method": "animate"
           },
           {
            "args": [
             [
              "2020-06-22"
             ],
             {
              "frame": {
               "duration": 0,
               "redraw": true
              },
              "fromcurrent": true,
              "mode": "immediate",
              "transition": {
               "duration": 0,
               "easing": "linear"
              }
             }
            ],
            "label": "2020-06-22",
            "method": "animate"
           },
           {
            "args": [
             [
              "2020-06-23"
             ],
             {
              "frame": {
               "duration": 0,
               "redraw": true
              },
              "fromcurrent": true,
              "mode": "immediate",
              "transition": {
               "duration": 0,
               "easing": "linear"
              }
             }
            ],
            "label": "2020-06-23",
            "method": "animate"
           },
           {
            "args": [
             [
              "2020-06-24"
             ],
             {
              "frame": {
               "duration": 0,
               "redraw": true
              },
              "fromcurrent": true,
              "mode": "immediate",
              "transition": {
               "duration": 0,
               "easing": "linear"
              }
             }
            ],
            "label": "2020-06-24",
            "method": "animate"
           },
           {
            "args": [
             [
              "2020-06-25"
             ],
             {
              "frame": {
               "duration": 0,
               "redraw": true
              },
              "fromcurrent": true,
              "mode": "immediate",
              "transition": {
               "duration": 0,
               "easing": "linear"
              }
             }
            ],
            "label": "2020-06-25",
            "method": "animate"
           },
           {
            "args": [
             [
              "2020-06-26"
             ],
             {
              "frame": {
               "duration": 0,
               "redraw": true
              },
              "fromcurrent": true,
              "mode": "immediate",
              "transition": {
               "duration": 0,
               "easing": "linear"
              }
             }
            ],
            "label": "2020-06-26",
            "method": "animate"
           },
           {
            "args": [
             [
              "2020-06-27"
             ],
             {
              "frame": {
               "duration": 0,
               "redraw": true
              },
              "fromcurrent": true,
              "mode": "immediate",
              "transition": {
               "duration": 0,
               "easing": "linear"
              }
             }
            ],
            "label": "2020-06-27",
            "method": "animate"
           },
           {
            "args": [
             [
              "2020-06-28"
             ],
             {
              "frame": {
               "duration": 0,
               "redraw": true
              },
              "fromcurrent": true,
              "mode": "immediate",
              "transition": {
               "duration": 0,
               "easing": "linear"
              }
             }
            ],
            "label": "2020-06-28",
            "method": "animate"
           },
           {
            "args": [
             [
              "2020-06-29"
             ],
             {
              "frame": {
               "duration": 0,
               "redraw": true
              },
              "fromcurrent": true,
              "mode": "immediate",
              "transition": {
               "duration": 0,
               "easing": "linear"
              }
             }
            ],
            "label": "2020-06-29",
            "method": "animate"
           },
           {
            "args": [
             [
              "2020-06-30"
             ],
             {
              "frame": {
               "duration": 0,
               "redraw": true
              },
              "fromcurrent": true,
              "mode": "immediate",
              "transition": {
               "duration": 0,
               "easing": "linear"
              }
             }
            ],
            "label": "2020-06-30",
            "method": "animate"
           },
           {
            "args": [
             [
              "2020-07-01"
             ],
             {
              "frame": {
               "duration": 0,
               "redraw": true
              },
              "fromcurrent": true,
              "mode": "immediate",
              "transition": {
               "duration": 0,
               "easing": "linear"
              }
             }
            ],
            "label": "2020-07-01",
            "method": "animate"
           },
           {
            "args": [
             [
              "2020-07-02"
             ],
             {
              "frame": {
               "duration": 0,
               "redraw": true
              },
              "fromcurrent": true,
              "mode": "immediate",
              "transition": {
               "duration": 0,
               "easing": "linear"
              }
             }
            ],
            "label": "2020-07-02",
            "method": "animate"
           },
           {
            "args": [
             [
              "2020-07-03"
             ],
             {
              "frame": {
               "duration": 0,
               "redraw": true
              },
              "fromcurrent": true,
              "mode": "immediate",
              "transition": {
               "duration": 0,
               "easing": "linear"
              }
             }
            ],
            "label": "2020-07-03",
            "method": "animate"
           },
           {
            "args": [
             [
              "2020-07-04"
             ],
             {
              "frame": {
               "duration": 0,
               "redraw": true
              },
              "fromcurrent": true,
              "mode": "immediate",
              "transition": {
               "duration": 0,
               "easing": "linear"
              }
             }
            ],
            "label": "2020-07-04",
            "method": "animate"
           },
           {
            "args": [
             [
              "2020-07-05"
             ],
             {
              "frame": {
               "duration": 0,
               "redraw": true
              },
              "fromcurrent": true,
              "mode": "immediate",
              "transition": {
               "duration": 0,
               "easing": "linear"
              }
             }
            ],
            "label": "2020-07-05",
            "method": "animate"
           },
           {
            "args": [
             [
              "2020-07-06"
             ],
             {
              "frame": {
               "duration": 0,
               "redraw": true
              },
              "fromcurrent": true,
              "mode": "immediate",
              "transition": {
               "duration": 0,
               "easing": "linear"
              }
             }
            ],
            "label": "2020-07-06",
            "method": "animate"
           },
           {
            "args": [
             [
              "2020-07-07"
             ],
             {
              "frame": {
               "duration": 0,
               "redraw": true
              },
              "fromcurrent": true,
              "mode": "immediate",
              "transition": {
               "duration": 0,
               "easing": "linear"
              }
             }
            ],
            "label": "2020-07-07",
            "method": "animate"
           },
           {
            "args": [
             [
              "2020-07-08"
             ],
             {
              "frame": {
               "duration": 0,
               "redraw": true
              },
              "fromcurrent": true,
              "mode": "immediate",
              "transition": {
               "duration": 0,
               "easing": "linear"
              }
             }
            ],
            "label": "2020-07-08",
            "method": "animate"
           },
           {
            "args": [
             [
              "2020-07-09"
             ],
             {
              "frame": {
               "duration": 0,
               "redraw": true
              },
              "fromcurrent": true,
              "mode": "immediate",
              "transition": {
               "duration": 0,
               "easing": "linear"
              }
             }
            ],
            "label": "2020-07-09",
            "method": "animate"
           },
           {
            "args": [
             [
              "2020-07-10"
             ],
             {
              "frame": {
               "duration": 0,
               "redraw": true
              },
              "fromcurrent": true,
              "mode": "immediate",
              "transition": {
               "duration": 0,
               "easing": "linear"
              }
             }
            ],
            "label": "2020-07-10",
            "method": "animate"
           },
           {
            "args": [
             [
              "2020-07-11"
             ],
             {
              "frame": {
               "duration": 0,
               "redraw": true
              },
              "fromcurrent": true,
              "mode": "immediate",
              "transition": {
               "duration": 0,
               "easing": "linear"
              }
             }
            ],
            "label": "2020-07-11",
            "method": "animate"
           },
           {
            "args": [
             [
              "2020-07-12"
             ],
             {
              "frame": {
               "duration": 0,
               "redraw": true
              },
              "fromcurrent": true,
              "mode": "immediate",
              "transition": {
               "duration": 0,
               "easing": "linear"
              }
             }
            ],
            "label": "2020-07-12",
            "method": "animate"
           },
           {
            "args": [
             [
              "2020-07-13"
             ],
             {
              "frame": {
               "duration": 0,
               "redraw": true
              },
              "fromcurrent": true,
              "mode": "immediate",
              "transition": {
               "duration": 0,
               "easing": "linear"
              }
             }
            ],
            "label": "2020-07-13",
            "method": "animate"
           },
           {
            "args": [
             [
              "2020-07-14"
             ],
             {
              "frame": {
               "duration": 0,
               "redraw": true
              },
              "fromcurrent": true,
              "mode": "immediate",
              "transition": {
               "duration": 0,
               "easing": "linear"
              }
             }
            ],
            "label": "2020-07-14",
            "method": "animate"
           },
           {
            "args": [
             [
              "2020-07-15"
             ],
             {
              "frame": {
               "duration": 0,
               "redraw": true
              },
              "fromcurrent": true,
              "mode": "immediate",
              "transition": {
               "duration": 0,
               "easing": "linear"
              }
             }
            ],
            "label": "2020-07-15",
            "method": "animate"
           },
           {
            "args": [
             [
              "2020-07-16"
             ],
             {
              "frame": {
               "duration": 0,
               "redraw": true
              },
              "fromcurrent": true,
              "mode": "immediate",
              "transition": {
               "duration": 0,
               "easing": "linear"
              }
             }
            ],
            "label": "2020-07-16",
            "method": "animate"
           },
           {
            "args": [
             [
              "2020-07-17"
             ],
             {
              "frame": {
               "duration": 0,
               "redraw": true
              },
              "fromcurrent": true,
              "mode": "immediate",
              "transition": {
               "duration": 0,
               "easing": "linear"
              }
             }
            ],
            "label": "2020-07-17",
            "method": "animate"
           },
           {
            "args": [
             [
              "2020-07-18"
             ],
             {
              "frame": {
               "duration": 0,
               "redraw": true
              },
              "fromcurrent": true,
              "mode": "immediate",
              "transition": {
               "duration": 0,
               "easing": "linear"
              }
             }
            ],
            "label": "2020-07-18",
            "method": "animate"
           },
           {
            "args": [
             [
              "2020-07-19"
             ],
             {
              "frame": {
               "duration": 0,
               "redraw": true
              },
              "fromcurrent": true,
              "mode": "immediate",
              "transition": {
               "duration": 0,
               "easing": "linear"
              }
             }
            ],
            "label": "2020-07-19",
            "method": "animate"
           },
           {
            "args": [
             [
              "2020-07-20"
             ],
             {
              "frame": {
               "duration": 0,
               "redraw": true
              },
              "fromcurrent": true,
              "mode": "immediate",
              "transition": {
               "duration": 0,
               "easing": "linear"
              }
             }
            ],
            "label": "2020-07-20",
            "method": "animate"
           },
           {
            "args": [
             [
              "2020-07-21"
             ],
             {
              "frame": {
               "duration": 0,
               "redraw": true
              },
              "fromcurrent": true,
              "mode": "immediate",
              "transition": {
               "duration": 0,
               "easing": "linear"
              }
             }
            ],
            "label": "2020-07-21",
            "method": "animate"
           },
           {
            "args": [
             [
              "2020-07-22"
             ],
             {
              "frame": {
               "duration": 0,
               "redraw": true
              },
              "fromcurrent": true,
              "mode": "immediate",
              "transition": {
               "duration": 0,
               "easing": "linear"
              }
             }
            ],
            "label": "2020-07-22",
            "method": "animate"
           },
           {
            "args": [
             [
              "2020-07-23"
             ],
             {
              "frame": {
               "duration": 0,
               "redraw": true
              },
              "fromcurrent": true,
              "mode": "immediate",
              "transition": {
               "duration": 0,
               "easing": "linear"
              }
             }
            ],
            "label": "2020-07-23",
            "method": "animate"
           },
           {
            "args": [
             [
              "2020-07-24"
             ],
             {
              "frame": {
               "duration": 0,
               "redraw": true
              },
              "fromcurrent": true,
              "mode": "immediate",
              "transition": {
               "duration": 0,
               "easing": "linear"
              }
             }
            ],
            "label": "2020-07-24",
            "method": "animate"
           },
           {
            "args": [
             [
              "2020-07-25"
             ],
             {
              "frame": {
               "duration": 0,
               "redraw": true
              },
              "fromcurrent": true,
              "mode": "immediate",
              "transition": {
               "duration": 0,
               "easing": "linear"
              }
             }
            ],
            "label": "2020-07-25",
            "method": "animate"
           },
           {
            "args": [
             [
              "2020-07-26"
             ],
             {
              "frame": {
               "duration": 0,
               "redraw": true
              },
              "fromcurrent": true,
              "mode": "immediate",
              "transition": {
               "duration": 0,
               "easing": "linear"
              }
             }
            ],
            "label": "2020-07-26",
            "method": "animate"
           },
           {
            "args": [
             [
              "2020-07-27"
             ],
             {
              "frame": {
               "duration": 0,
               "redraw": true
              },
              "fromcurrent": true,
              "mode": "immediate",
              "transition": {
               "duration": 0,
               "easing": "linear"
              }
             }
            ],
            "label": "2020-07-27",
            "method": "animate"
           },
           {
            "args": [
             [
              "2020-07-28"
             ],
             {
              "frame": {
               "duration": 0,
               "redraw": true
              },
              "fromcurrent": true,
              "mode": "immediate",
              "transition": {
               "duration": 0,
               "easing": "linear"
              }
             }
            ],
            "label": "2020-07-28",
            "method": "animate"
           },
           {
            "args": [
             [
              "2020-07-29"
             ],
             {
              "frame": {
               "duration": 0,
               "redraw": true
              },
              "fromcurrent": true,
              "mode": "immediate",
              "transition": {
               "duration": 0,
               "easing": "linear"
              }
             }
            ],
            "label": "2020-07-29",
            "method": "animate"
           },
           {
            "args": [
             [
              "2020-07-30"
             ],
             {
              "frame": {
               "duration": 0,
               "redraw": true
              },
              "fromcurrent": true,
              "mode": "immediate",
              "transition": {
               "duration": 0,
               "easing": "linear"
              }
             }
            ],
            "label": "2020-07-30",
            "method": "animate"
           },
           {
            "args": [
             [
              "2020-07-31"
             ],
             {
              "frame": {
               "duration": 0,
               "redraw": true
              },
              "fromcurrent": true,
              "mode": "immediate",
              "transition": {
               "duration": 0,
               "easing": "linear"
              }
             }
            ],
            "label": "2020-07-31",
            "method": "animate"
           },
           {
            "args": [
             [
              "2020-08-01"
             ],
             {
              "frame": {
               "duration": 0,
               "redraw": true
              },
              "fromcurrent": true,
              "mode": "immediate",
              "transition": {
               "duration": 0,
               "easing": "linear"
              }
             }
            ],
            "label": "2020-08-01",
            "method": "animate"
           },
           {
            "args": [
             [
              "2020-08-02"
             ],
             {
              "frame": {
               "duration": 0,
               "redraw": true
              },
              "fromcurrent": true,
              "mode": "immediate",
              "transition": {
               "duration": 0,
               "easing": "linear"
              }
             }
            ],
            "label": "2020-08-02",
            "method": "animate"
           },
           {
            "args": [
             [
              "2020-08-03"
             ],
             {
              "frame": {
               "duration": 0,
               "redraw": true
              },
              "fromcurrent": true,
              "mode": "immediate",
              "transition": {
               "duration": 0,
               "easing": "linear"
              }
             }
            ],
            "label": "2020-08-03",
            "method": "animate"
           },
           {
            "args": [
             [
              "2020-08-04"
             ],
             {
              "frame": {
               "duration": 0,
               "redraw": true
              },
              "fromcurrent": true,
              "mode": "immediate",
              "transition": {
               "duration": 0,
               "easing": "linear"
              }
             }
            ],
            "label": "2020-08-04",
            "method": "animate"
           },
           {
            "args": [
             [
              "2020-08-05"
             ],
             {
              "frame": {
               "duration": 0,
               "redraw": true
              },
              "fromcurrent": true,
              "mode": "immediate",
              "transition": {
               "duration": 0,
               "easing": "linear"
              }
             }
            ],
            "label": "2020-08-05",
            "method": "animate"
           },
           {
            "args": [
             [
              "2020-08-06"
             ],
             {
              "frame": {
               "duration": 0,
               "redraw": true
              },
              "fromcurrent": true,
              "mode": "immediate",
              "transition": {
               "duration": 0,
               "easing": "linear"
              }
             }
            ],
            "label": "2020-08-06",
            "method": "animate"
           },
           {
            "args": [
             [
              "2020-08-07"
             ],
             {
              "frame": {
               "duration": 0,
               "redraw": true
              },
              "fromcurrent": true,
              "mode": "immediate",
              "transition": {
               "duration": 0,
               "easing": "linear"
              }
             }
            ],
            "label": "2020-08-07",
            "method": "animate"
           },
           {
            "args": [
             [
              "2020-08-08"
             ],
             {
              "frame": {
               "duration": 0,
               "redraw": true
              },
              "fromcurrent": true,
              "mode": "immediate",
              "transition": {
               "duration": 0,
               "easing": "linear"
              }
             }
            ],
            "label": "2020-08-08",
            "method": "animate"
           },
           {
            "args": [
             [
              "2020-08-09"
             ],
             {
              "frame": {
               "duration": 0,
               "redraw": true
              },
              "fromcurrent": true,
              "mode": "immediate",
              "transition": {
               "duration": 0,
               "easing": "linear"
              }
             }
            ],
            "label": "2020-08-09",
            "method": "animate"
           },
           {
            "args": [
             [
              "2020-08-10"
             ],
             {
              "frame": {
               "duration": 0,
               "redraw": true
              },
              "fromcurrent": true,
              "mode": "immediate",
              "transition": {
               "duration": 0,
               "easing": "linear"
              }
             }
            ],
            "label": "2020-08-10",
            "method": "animate"
           },
           {
            "args": [
             [
              "2020-08-11"
             ],
             {
              "frame": {
               "duration": 0,
               "redraw": true
              },
              "fromcurrent": true,
              "mode": "immediate",
              "transition": {
               "duration": 0,
               "easing": "linear"
              }
             }
            ],
            "label": "2020-08-11",
            "method": "animate"
           },
           {
            "args": [
             [
              "2020-08-12"
             ],
             {
              "frame": {
               "duration": 0,
               "redraw": true
              },
              "fromcurrent": true,
              "mode": "immediate",
              "transition": {
               "duration": 0,
               "easing": "linear"
              }
             }
            ],
            "label": "2020-08-12",
            "method": "animate"
           },
           {
            "args": [
             [
              "2020-08-13"
             ],
             {
              "frame": {
               "duration": 0,
               "redraw": true
              },
              "fromcurrent": true,
              "mode": "immediate",
              "transition": {
               "duration": 0,
               "easing": "linear"
              }
             }
            ],
            "label": "2020-08-13",
            "method": "animate"
           },
           {
            "args": [
             [
              "2020-08-14"
             ],
             {
              "frame": {
               "duration": 0,
               "redraw": true
              },
              "fromcurrent": true,
              "mode": "immediate",
              "transition": {
               "duration": 0,
               "easing": "linear"
              }
             }
            ],
            "label": "2020-08-14",
            "method": "animate"
           },
           {
            "args": [
             [
              "2020-08-15"
             ],
             {
              "frame": {
               "duration": 0,
               "redraw": true
              },
              "fromcurrent": true,
              "mode": "immediate",
              "transition": {
               "duration": 0,
               "easing": "linear"
              }
             }
            ],
            "label": "2020-08-15",
            "method": "animate"
           },
           {
            "args": [
             [
              "2020-08-16"
             ],
             {
              "frame": {
               "duration": 0,
               "redraw": true
              },
              "fromcurrent": true,
              "mode": "immediate",
              "transition": {
               "duration": 0,
               "easing": "linear"
              }
             }
            ],
            "label": "2020-08-16",
            "method": "animate"
           },
           {
            "args": [
             [
              "2020-08-17"
             ],
             {
              "frame": {
               "duration": 0,
               "redraw": true
              },
              "fromcurrent": true,
              "mode": "immediate",
              "transition": {
               "duration": 0,
               "easing": "linear"
              }
             }
            ],
            "label": "2020-08-17",
            "method": "animate"
           },
           {
            "args": [
             [
              "2020-08-18"
             ],
             {
              "frame": {
               "duration": 0,
               "redraw": true
              },
              "fromcurrent": true,
              "mode": "immediate",
              "transition": {
               "duration": 0,
               "easing": "linear"
              }
             }
            ],
            "label": "2020-08-18",
            "method": "animate"
           },
           {
            "args": [
             [
              "2020-08-19"
             ],
             {
              "frame": {
               "duration": 0,
               "redraw": true
              },
              "fromcurrent": true,
              "mode": "immediate",
              "transition": {
               "duration": 0,
               "easing": "linear"
              }
             }
            ],
            "label": "2020-08-19",
            "method": "animate"
           },
           {
            "args": [
             [
              "2020-08-20"
             ],
             {
              "frame": {
               "duration": 0,
               "redraw": true
              },
              "fromcurrent": true,
              "mode": "immediate",
              "transition": {
               "duration": 0,
               "easing": "linear"
              }
             }
            ],
            "label": "2020-08-20",
            "method": "animate"
           },
           {
            "args": [
             [
              "2020-08-21"
             ],
             {
              "frame": {
               "duration": 0,
               "redraw": true
              },
              "fromcurrent": true,
              "mode": "immediate",
              "transition": {
               "duration": 0,
               "easing": "linear"
              }
             }
            ],
            "label": "2020-08-21",
            "method": "animate"
           },
           {
            "args": [
             [
              "2020-08-22"
             ],
             {
              "frame": {
               "duration": 0,
               "redraw": true
              },
              "fromcurrent": true,
              "mode": "immediate",
              "transition": {
               "duration": 0,
               "easing": "linear"
              }
             }
            ],
            "label": "2020-08-22",
            "method": "animate"
           },
           {
            "args": [
             [
              "2020-08-23"
             ],
             {
              "frame": {
               "duration": 0,
               "redraw": true
              },
              "fromcurrent": true,
              "mode": "immediate",
              "transition": {
               "duration": 0,
               "easing": "linear"
              }
             }
            ],
            "label": "2020-08-23",
            "method": "animate"
           },
           {
            "args": [
             [
              "2020-08-24"
             ],
             {
              "frame": {
               "duration": 0,
               "redraw": true
              },
              "fromcurrent": true,
              "mode": "immediate",
              "transition": {
               "duration": 0,
               "easing": "linear"
              }
             }
            ],
            "label": "2020-08-24",
            "method": "animate"
           },
           {
            "args": [
             [
              "2020-08-25"
             ],
             {
              "frame": {
               "duration": 0,
               "redraw": true
              },
              "fromcurrent": true,
              "mode": "immediate",
              "transition": {
               "duration": 0,
               "easing": "linear"
              }
             }
            ],
            "label": "2020-08-25",
            "method": "animate"
           },
           {
            "args": [
             [
              "2020-08-26"
             ],
             {
              "frame": {
               "duration": 0,
               "redraw": true
              },
              "fromcurrent": true,
              "mode": "immediate",
              "transition": {
               "duration": 0,
               "easing": "linear"
              }
             }
            ],
            "label": "2020-08-26",
            "method": "animate"
           },
           {
            "args": [
             [
              "2020-08-27"
             ],
             {
              "frame": {
               "duration": 0,
               "redraw": true
              },
              "fromcurrent": true,
              "mode": "immediate",
              "transition": {
               "duration": 0,
               "easing": "linear"
              }
             }
            ],
            "label": "2020-08-27",
            "method": "animate"
           },
           {
            "args": [
             [
              "2020-08-28"
             ],
             {
              "frame": {
               "duration": 0,
               "redraw": true
              },
              "fromcurrent": true,
              "mode": "immediate",
              "transition": {
               "duration": 0,
               "easing": "linear"
              }
             }
            ],
            "label": "2020-08-28",
            "method": "animate"
           },
           {
            "args": [
             [
              "2020-08-29"
             ],
             {
              "frame": {
               "duration": 0,
               "redraw": true
              },
              "fromcurrent": true,
              "mode": "immediate",
              "transition": {
               "duration": 0,
               "easing": "linear"
              }
             }
            ],
            "label": "2020-08-29",
            "method": "animate"
           },
           {
            "args": [
             [
              "2020-08-30"
             ],
             {
              "frame": {
               "duration": 0,
               "redraw": true
              },
              "fromcurrent": true,
              "mode": "immediate",
              "transition": {
               "duration": 0,
               "easing": "linear"
              }
             }
            ],
            "label": "2020-08-30",
            "method": "animate"
           },
           {
            "args": [
             [
              "2020-08-31"
             ],
             {
              "frame": {
               "duration": 0,
               "redraw": true
              },
              "fromcurrent": true,
              "mode": "immediate",
              "transition": {
               "duration": 0,
               "easing": "linear"
              }
             }
            ],
            "label": "2020-08-31",
            "method": "animate"
           },
           {
            "args": [
             [
              "2020-09-01"
             ],
             {
              "frame": {
               "duration": 0,
               "redraw": true
              },
              "fromcurrent": true,
              "mode": "immediate",
              "transition": {
               "duration": 0,
               "easing": "linear"
              }
             }
            ],
            "label": "2020-09-01",
            "method": "animate"
           },
           {
            "args": [
             [
              "2020-09-02"
             ],
             {
              "frame": {
               "duration": 0,
               "redraw": true
              },
              "fromcurrent": true,
              "mode": "immediate",
              "transition": {
               "duration": 0,
               "easing": "linear"
              }
             }
            ],
            "label": "2020-09-02",
            "method": "animate"
           },
           {
            "args": [
             [
              "2020-09-03"
             ],
             {
              "frame": {
               "duration": 0,
               "redraw": true
              },
              "fromcurrent": true,
              "mode": "immediate",
              "transition": {
               "duration": 0,
               "easing": "linear"
              }
             }
            ],
            "label": "2020-09-03",
            "method": "animate"
           },
           {
            "args": [
             [
              "2020-09-04"
             ],
             {
              "frame": {
               "duration": 0,
               "redraw": true
              },
              "fromcurrent": true,
              "mode": "immediate",
              "transition": {
               "duration": 0,
               "easing": "linear"
              }
             }
            ],
            "label": "2020-09-04",
            "method": "animate"
           },
           {
            "args": [
             [
              "2020-09-05"
             ],
             {
              "frame": {
               "duration": 0,
               "redraw": true
              },
              "fromcurrent": true,
              "mode": "immediate",
              "transition": {
               "duration": 0,
               "easing": "linear"
              }
             }
            ],
            "label": "2020-09-05",
            "method": "animate"
           },
           {
            "args": [
             [
              "2020-09-06"
             ],
             {
              "frame": {
               "duration": 0,
               "redraw": true
              },
              "fromcurrent": true,
              "mode": "immediate",
              "transition": {
               "duration": 0,
               "easing": "linear"
              }
             }
            ],
            "label": "2020-09-06",
            "method": "animate"
           },
           {
            "args": [
             [
              "2020-09-07"
             ],
             {
              "frame": {
               "duration": 0,
               "redraw": true
              },
              "fromcurrent": true,
              "mode": "immediate",
              "transition": {
               "duration": 0,
               "easing": "linear"
              }
             }
            ],
            "label": "2020-09-07",
            "method": "animate"
           },
           {
            "args": [
             [
              "2020-09-08"
             ],
             {
              "frame": {
               "duration": 0,
               "redraw": true
              },
              "fromcurrent": true,
              "mode": "immediate",
              "transition": {
               "duration": 0,
               "easing": "linear"
              }
             }
            ],
            "label": "2020-09-08",
            "method": "animate"
           },
           {
            "args": [
             [
              "2020-09-09"
             ],
             {
              "frame": {
               "duration": 0,
               "redraw": true
              },
              "fromcurrent": true,
              "mode": "immediate",
              "transition": {
               "duration": 0,
               "easing": "linear"
              }
             }
            ],
            "label": "2020-09-09",
            "method": "animate"
           },
           {
            "args": [
             [
              "2020-09-10"
             ],
             {
              "frame": {
               "duration": 0,
               "redraw": true
              },
              "fromcurrent": true,
              "mode": "immediate",
              "transition": {
               "duration": 0,
               "easing": "linear"
              }
             }
            ],
            "label": "2020-09-10",
            "method": "animate"
           },
           {
            "args": [
             [
              "2020-09-11"
             ],
             {
              "frame": {
               "duration": 0,
               "redraw": true
              },
              "fromcurrent": true,
              "mode": "immediate",
              "transition": {
               "duration": 0,
               "easing": "linear"
              }
             }
            ],
            "label": "2020-09-11",
            "method": "animate"
           },
           {
            "args": [
             [
              "2020-09-12"
             ],
             {
              "frame": {
               "duration": 0,
               "redraw": true
              },
              "fromcurrent": true,
              "mode": "immediate",
              "transition": {
               "duration": 0,
               "easing": "linear"
              }
             }
            ],
            "label": "2020-09-12",
            "method": "animate"
           },
           {
            "args": [
             [
              "2020-09-13"
             ],
             {
              "frame": {
               "duration": 0,
               "redraw": true
              },
              "fromcurrent": true,
              "mode": "immediate",
              "transition": {
               "duration": 0,
               "easing": "linear"
              }
             }
            ],
            "label": "2020-09-13",
            "method": "animate"
           },
           {
            "args": [
             [
              "2020-09-14"
             ],
             {
              "frame": {
               "duration": 0,
               "redraw": true
              },
              "fromcurrent": true,
              "mode": "immediate",
              "transition": {
               "duration": 0,
               "easing": "linear"
              }
             }
            ],
            "label": "2020-09-14",
            "method": "animate"
           },
           {
            "args": [
             [
              "2020-09-15"
             ],
             {
              "frame": {
               "duration": 0,
               "redraw": true
              },
              "fromcurrent": true,
              "mode": "immediate",
              "transition": {
               "duration": 0,
               "easing": "linear"
              }
             }
            ],
            "label": "2020-09-15",
            "method": "animate"
           },
           {
            "args": [
             [
              "2020-09-16"
             ],
             {
              "frame": {
               "duration": 0,
               "redraw": true
              },
              "fromcurrent": true,
              "mode": "immediate",
              "transition": {
               "duration": 0,
               "easing": "linear"
              }
             }
            ],
            "label": "2020-09-16",
            "method": "animate"
           },
           {
            "args": [
             [
              "2020-09-17"
             ],
             {
              "frame": {
               "duration": 0,
               "redraw": true
              },
              "fromcurrent": true,
              "mode": "immediate",
              "transition": {
               "duration": 0,
               "easing": "linear"
              }
             }
            ],
            "label": "2020-09-17",
            "method": "animate"
           },
           {
            "args": [
             [
              "2020-09-18"
             ],
             {
              "frame": {
               "duration": 0,
               "redraw": true
              },
              "fromcurrent": true,
              "mode": "immediate",
              "transition": {
               "duration": 0,
               "easing": "linear"
              }
             }
            ],
            "label": "2020-09-18",
            "method": "animate"
           },
           {
            "args": [
             [
              "2020-09-19"
             ],
             {
              "frame": {
               "duration": 0,
               "redraw": true
              },
              "fromcurrent": true,
              "mode": "immediate",
              "transition": {
               "duration": 0,
               "easing": "linear"
              }
             }
            ],
            "label": "2020-09-19",
            "method": "animate"
           },
           {
            "args": [
             [
              "2020-09-20"
             ],
             {
              "frame": {
               "duration": 0,
               "redraw": true
              },
              "fromcurrent": true,
              "mode": "immediate",
              "transition": {
               "duration": 0,
               "easing": "linear"
              }
             }
            ],
            "label": "2020-09-20",
            "method": "animate"
           },
           {
            "args": [
             [
              "2020-09-21"
             ],
             {
              "frame": {
               "duration": 0,
               "redraw": true
              },
              "fromcurrent": true,
              "mode": "immediate",
              "transition": {
               "duration": 0,
               "easing": "linear"
              }
             }
            ],
            "label": "2020-09-21",
            "method": "animate"
           },
           {
            "args": [
             [
              "2020-09-22"
             ],
             {
              "frame": {
               "duration": 0,
               "redraw": true
              },
              "fromcurrent": true,
              "mode": "immediate",
              "transition": {
               "duration": 0,
               "easing": "linear"
              }
             }
            ],
            "label": "2020-09-22",
            "method": "animate"
           },
           {
            "args": [
             [
              "2020-09-23"
             ],
             {
              "frame": {
               "duration": 0,
               "redraw": true
              },
              "fromcurrent": true,
              "mode": "immediate",
              "transition": {
               "duration": 0,
               "easing": "linear"
              }
             }
            ],
            "label": "2020-09-23",
            "method": "animate"
           },
           {
            "args": [
             [
              "2020-09-24"
             ],
             {
              "frame": {
               "duration": 0,
               "redraw": true
              },
              "fromcurrent": true,
              "mode": "immediate",
              "transition": {
               "duration": 0,
               "easing": "linear"
              }
             }
            ],
            "label": "2020-09-24",
            "method": "animate"
           },
           {
            "args": [
             [
              "2020-09-25"
             ],
             {
              "frame": {
               "duration": 0,
               "redraw": true
              },
              "fromcurrent": true,
              "mode": "immediate",
              "transition": {
               "duration": 0,
               "easing": "linear"
              }
             }
            ],
            "label": "2020-09-25",
            "method": "animate"
           },
           {
            "args": [
             [
              "2020-09-26"
             ],
             {
              "frame": {
               "duration": 0,
               "redraw": true
              },
              "fromcurrent": true,
              "mode": "immediate",
              "transition": {
               "duration": 0,
               "easing": "linear"
              }
             }
            ],
            "label": "2020-09-26",
            "method": "animate"
           },
           {
            "args": [
             [
              "2020-09-27"
             ],
             {
              "frame": {
               "duration": 0,
               "redraw": true
              },
              "fromcurrent": true,
              "mode": "immediate",
              "transition": {
               "duration": 0,
               "easing": "linear"
              }
             }
            ],
            "label": "2020-09-27",
            "method": "animate"
           },
           {
            "args": [
             [
              "2020-09-28"
             ],
             {
              "frame": {
               "duration": 0,
               "redraw": true
              },
              "fromcurrent": true,
              "mode": "immediate",
              "transition": {
               "duration": 0,
               "easing": "linear"
              }
             }
            ],
            "label": "2020-09-28",
            "method": "animate"
           },
           {
            "args": [
             [
              "2020-09-29"
             ],
             {
              "frame": {
               "duration": 0,
               "redraw": true
              },
              "fromcurrent": true,
              "mode": "immediate",
              "transition": {
               "duration": 0,
               "easing": "linear"
              }
             }
            ],
            "label": "2020-09-29",
            "method": "animate"
           },
           {
            "args": [
             [
              "2020-09-30"
             ],
             {
              "frame": {
               "duration": 0,
               "redraw": true
              },
              "fromcurrent": true,
              "mode": "immediate",
              "transition": {
               "duration": 0,
               "easing": "linear"
              }
             }
            ],
            "label": "2020-09-30",
            "method": "animate"
           },
           {
            "args": [
             [
              "2020-10-01"
             ],
             {
              "frame": {
               "duration": 0,
               "redraw": true
              },
              "fromcurrent": true,
              "mode": "immediate",
              "transition": {
               "duration": 0,
               "easing": "linear"
              }
             }
            ],
            "label": "2020-10-01",
            "method": "animate"
           },
           {
            "args": [
             [
              "2020-10-02"
             ],
             {
              "frame": {
               "duration": 0,
               "redraw": true
              },
              "fromcurrent": true,
              "mode": "immediate",
              "transition": {
               "duration": 0,
               "easing": "linear"
              }
             }
            ],
            "label": "2020-10-02",
            "method": "animate"
           },
           {
            "args": [
             [
              "2020-10-03"
             ],
             {
              "frame": {
               "duration": 0,
               "redraw": true
              },
              "fromcurrent": true,
              "mode": "immediate",
              "transition": {
               "duration": 0,
               "easing": "linear"
              }
             }
            ],
            "label": "2020-10-03",
            "method": "animate"
           },
           {
            "args": [
             [
              "2020-10-04"
             ],
             {
              "frame": {
               "duration": 0,
               "redraw": true
              },
              "fromcurrent": true,
              "mode": "immediate",
              "transition": {
               "duration": 0,
               "easing": "linear"
              }
             }
            ],
            "label": "2020-10-04",
            "method": "animate"
           },
           {
            "args": [
             [
              "2020-10-05"
             ],
             {
              "frame": {
               "duration": 0,
               "redraw": true
              },
              "fromcurrent": true,
              "mode": "immediate",
              "transition": {
               "duration": 0,
               "easing": "linear"
              }
             }
            ],
            "label": "2020-10-05",
            "method": "animate"
           },
           {
            "args": [
             [
              "2020-10-06"
             ],
             {
              "frame": {
               "duration": 0,
               "redraw": true
              },
              "fromcurrent": true,
              "mode": "immediate",
              "transition": {
               "duration": 0,
               "easing": "linear"
              }
             }
            ],
            "label": "2020-10-06",
            "method": "animate"
           },
           {
            "args": [
             [
              "2020-10-07"
             ],
             {
              "frame": {
               "duration": 0,
               "redraw": true
              },
              "fromcurrent": true,
              "mode": "immediate",
              "transition": {
               "duration": 0,
               "easing": "linear"
              }
             }
            ],
            "label": "2020-10-07",
            "method": "animate"
           },
           {
            "args": [
             [
              "2020-10-08"
             ],
             {
              "frame": {
               "duration": 0,
               "redraw": true
              },
              "fromcurrent": true,
              "mode": "immediate",
              "transition": {
               "duration": 0,
               "easing": "linear"
              }
             }
            ],
            "label": "2020-10-08",
            "method": "animate"
           },
           {
            "args": [
             [
              "2020-10-09"
             ],
             {
              "frame": {
               "duration": 0,
               "redraw": true
              },
              "fromcurrent": true,
              "mode": "immediate",
              "transition": {
               "duration": 0,
               "easing": "linear"
              }
             }
            ],
            "label": "2020-10-09",
            "method": "animate"
           },
           {
            "args": [
             [
              "2020-10-10"
             ],
             {
              "frame": {
               "duration": 0,
               "redraw": true
              },
              "fromcurrent": true,
              "mode": "immediate",
              "transition": {
               "duration": 0,
               "easing": "linear"
              }
             }
            ],
            "label": "2020-10-10",
            "method": "animate"
           },
           {
            "args": [
             [
              "2020-10-11"
             ],
             {
              "frame": {
               "duration": 0,
               "redraw": true
              },
              "fromcurrent": true,
              "mode": "immediate",
              "transition": {
               "duration": 0,
               "easing": "linear"
              }
             }
            ],
            "label": "2020-10-11",
            "method": "animate"
           },
           {
            "args": [
             [
              "2020-10-12"
             ],
             {
              "frame": {
               "duration": 0,
               "redraw": true
              },
              "fromcurrent": true,
              "mode": "immediate",
              "transition": {
               "duration": 0,
               "easing": "linear"
              }
             }
            ],
            "label": "2020-10-12",
            "method": "animate"
           },
           {
            "args": [
             [
              "2020-10-13"
             ],
             {
              "frame": {
               "duration": 0,
               "redraw": true
              },
              "fromcurrent": true,
              "mode": "immediate",
              "transition": {
               "duration": 0,
               "easing": "linear"
              }
             }
            ],
            "label": "2020-10-13",
            "method": "animate"
           },
           {
            "args": [
             [
              "2020-10-14"
             ],
             {
              "frame": {
               "duration": 0,
               "redraw": true
              },
              "fromcurrent": true,
              "mode": "immediate",
              "transition": {
               "duration": 0,
               "easing": "linear"
              }
             }
            ],
            "label": "2020-10-14",
            "method": "animate"
           },
           {
            "args": [
             [
              "2020-10-15"
             ],
             {
              "frame": {
               "duration": 0,
               "redraw": true
              },
              "fromcurrent": true,
              "mode": "immediate",
              "transition": {
               "duration": 0,
               "easing": "linear"
              }
             }
            ],
            "label": "2020-10-15",
            "method": "animate"
           },
           {
            "args": [
             [
              "2020-10-16"
             ],
             {
              "frame": {
               "duration": 0,
               "redraw": true
              },
              "fromcurrent": true,
              "mode": "immediate",
              "transition": {
               "duration": 0,
               "easing": "linear"
              }
             }
            ],
            "label": "2020-10-16",
            "method": "animate"
           },
           {
            "args": [
             [
              "2020-10-17"
             ],
             {
              "frame": {
               "duration": 0,
               "redraw": true
              },
              "fromcurrent": true,
              "mode": "immediate",
              "transition": {
               "duration": 0,
               "easing": "linear"
              }
             }
            ],
            "label": "2020-10-17",
            "method": "animate"
           },
           {
            "args": [
             [
              "2020-10-18"
             ],
             {
              "frame": {
               "duration": 0,
               "redraw": true
              },
              "fromcurrent": true,
              "mode": "immediate",
              "transition": {
               "duration": 0,
               "easing": "linear"
              }
             }
            ],
            "label": "2020-10-18",
            "method": "animate"
           },
           {
            "args": [
             [
              "2020-10-19"
             ],
             {
              "frame": {
               "duration": 0,
               "redraw": true
              },
              "fromcurrent": true,
              "mode": "immediate",
              "transition": {
               "duration": 0,
               "easing": "linear"
              }
             }
            ],
            "label": "2020-10-19",
            "method": "animate"
           },
           {
            "args": [
             [
              "2020-10-20"
             ],
             {
              "frame": {
               "duration": 0,
               "redraw": true
              },
              "fromcurrent": true,
              "mode": "immediate",
              "transition": {
               "duration": 0,
               "easing": "linear"
              }
             }
            ],
            "label": "2020-10-20",
            "method": "animate"
           },
           {
            "args": [
             [
              "2020-10-21"
             ],
             {
              "frame": {
               "duration": 0,
               "redraw": true
              },
              "fromcurrent": true,
              "mode": "immediate",
              "transition": {
               "duration": 0,
               "easing": "linear"
              }
             }
            ],
            "label": "2020-10-21",
            "method": "animate"
           },
           {
            "args": [
             [
              "2020-10-22"
             ],
             {
              "frame": {
               "duration": 0,
               "redraw": true
              },
              "fromcurrent": true,
              "mode": "immediate",
              "transition": {
               "duration": 0,
               "easing": "linear"
              }
             }
            ],
            "label": "2020-10-22",
            "method": "animate"
           },
           {
            "args": [
             [
              "2020-10-23"
             ],
             {
              "frame": {
               "duration": 0,
               "redraw": true
              },
              "fromcurrent": true,
              "mode": "immediate",
              "transition": {
               "duration": 0,
               "easing": "linear"
              }
             }
            ],
            "label": "2020-10-23",
            "method": "animate"
           },
           {
            "args": [
             [
              "2020-10-24"
             ],
             {
              "frame": {
               "duration": 0,
               "redraw": true
              },
              "fromcurrent": true,
              "mode": "immediate",
              "transition": {
               "duration": 0,
               "easing": "linear"
              }
             }
            ],
            "label": "2020-10-24",
            "method": "animate"
           },
           {
            "args": [
             [
              "2020-10-25"
             ],
             {
              "frame": {
               "duration": 0,
               "redraw": true
              },
              "fromcurrent": true,
              "mode": "immediate",
              "transition": {
               "duration": 0,
               "easing": "linear"
              }
             }
            ],
            "label": "2020-10-25",
            "method": "animate"
           },
           {
            "args": [
             [
              "2020-10-26"
             ],
             {
              "frame": {
               "duration": 0,
               "redraw": true
              },
              "fromcurrent": true,
              "mode": "immediate",
              "transition": {
               "duration": 0,
               "easing": "linear"
              }
             }
            ],
            "label": "2020-10-26",
            "method": "animate"
           },
           {
            "args": [
             [
              "2020-10-27"
             ],
             {
              "frame": {
               "duration": 0,
               "redraw": true
              },
              "fromcurrent": true,
              "mode": "immediate",
              "transition": {
               "duration": 0,
               "easing": "linear"
              }
             }
            ],
            "label": "2020-10-27",
            "method": "animate"
           },
           {
            "args": [
             [
              "2020-10-28"
             ],
             {
              "frame": {
               "duration": 0,
               "redraw": true
              },
              "fromcurrent": true,
              "mode": "immediate",
              "transition": {
               "duration": 0,
               "easing": "linear"
              }
             }
            ],
            "label": "2020-10-28",
            "method": "animate"
           },
           {
            "args": [
             [
              "2020-10-29"
             ],
             {
              "frame": {
               "duration": 0,
               "redraw": true
              },
              "fromcurrent": true,
              "mode": "immediate",
              "transition": {
               "duration": 0,
               "easing": "linear"
              }
             }
            ],
            "label": "2020-10-29",
            "method": "animate"
           },
           {
            "args": [
             [
              "2020-10-30"
             ],
             {
              "frame": {
               "duration": 0,
               "redraw": true
              },
              "fromcurrent": true,
              "mode": "immediate",
              "transition": {
               "duration": 0,
               "easing": "linear"
              }
             }
            ],
            "label": "2020-10-30",
            "method": "animate"
           },
           {
            "args": [
             [
              "2020-10-31"
             ],
             {
              "frame": {
               "duration": 0,
               "redraw": true
              },
              "fromcurrent": true,
              "mode": "immediate",
              "transition": {
               "duration": 0,
               "easing": "linear"
              }
             }
            ],
            "label": "2020-10-31",
            "method": "animate"
           },
           {
            "args": [
             [
              "2020-11-01"
             ],
             {
              "frame": {
               "duration": 0,
               "redraw": true
              },
              "fromcurrent": true,
              "mode": "immediate",
              "transition": {
               "duration": 0,
               "easing": "linear"
              }
             }
            ],
            "label": "2020-11-01",
            "method": "animate"
           },
           {
            "args": [
             [
              "2020-11-02"
             ],
             {
              "frame": {
               "duration": 0,
               "redraw": true
              },
              "fromcurrent": true,
              "mode": "immediate",
              "transition": {
               "duration": 0,
               "easing": "linear"
              }
             }
            ],
            "label": "2020-11-02",
            "method": "animate"
           },
           {
            "args": [
             [
              "2020-11-03"
             ],
             {
              "frame": {
               "duration": 0,
               "redraw": true
              },
              "fromcurrent": true,
              "mode": "immediate",
              "transition": {
               "duration": 0,
               "easing": "linear"
              }
             }
            ],
            "label": "2020-11-03",
            "method": "animate"
           },
           {
            "args": [
             [
              "2020-11-04"
             ],
             {
              "frame": {
               "duration": 0,
               "redraw": true
              },
              "fromcurrent": true,
              "mode": "immediate",
              "transition": {
               "duration": 0,
               "easing": "linear"
              }
             }
            ],
            "label": "2020-11-04",
            "method": "animate"
           },
           {
            "args": [
             [
              "2020-11-05"
             ],
             {
              "frame": {
               "duration": 0,
               "redraw": true
              },
              "fromcurrent": true,
              "mode": "immediate",
              "transition": {
               "duration": 0,
               "easing": "linear"
              }
             }
            ],
            "label": "2020-11-05",
            "method": "animate"
           }
          ],
          "x": 0.1,
          "xanchor": "left",
          "y": 0,
          "yanchor": "top"
         }
        ],
        "template": {
         "data": {
          "bar": [
           {
            "error_x": {
             "color": "#2a3f5f"
            },
            "error_y": {
             "color": "#2a3f5f"
            },
            "marker": {
             "line": {
              "color": "#E5ECF6",
              "width": 0.5
             }
            },
            "type": "bar"
           }
          ],
          "barpolar": [
           {
            "marker": {
             "line": {
              "color": "#E5ECF6",
              "width": 0.5
             }
            },
            "type": "barpolar"
           }
          ],
          "carpet": [
           {
            "aaxis": {
             "endlinecolor": "#2a3f5f",
             "gridcolor": "white",
             "linecolor": "white",
             "minorgridcolor": "white",
             "startlinecolor": "#2a3f5f"
            },
            "baxis": {
             "endlinecolor": "#2a3f5f",
             "gridcolor": "white",
             "linecolor": "white",
             "minorgridcolor": "white",
             "startlinecolor": "#2a3f5f"
            },
            "type": "carpet"
           }
          ],
          "choropleth": [
           {
            "colorbar": {
             "outlinewidth": 0,
             "ticks": ""
            },
            "type": "choropleth"
           }
          ],
          "contour": [
           {
            "colorbar": {
             "outlinewidth": 0,
             "ticks": ""
            },
            "colorscale": [
             [
              0,
              "#0d0887"
             ],
             [
              0.1111111111111111,
              "#46039f"
             ],
             [
              0.2222222222222222,
              "#7201a8"
             ],
             [
              0.3333333333333333,
              "#9c179e"
             ],
             [
              0.4444444444444444,
              "#bd3786"
             ],
             [
              0.5555555555555556,
              "#d8576b"
             ],
             [
              0.6666666666666666,
              "#ed7953"
             ],
             [
              0.7777777777777778,
              "#fb9f3a"
             ],
             [
              0.8888888888888888,
              "#fdca26"
             ],
             [
              1,
              "#f0f921"
             ]
            ],
            "type": "contour"
           }
          ],
          "contourcarpet": [
           {
            "colorbar": {
             "outlinewidth": 0,
             "ticks": ""
            },
            "type": "contourcarpet"
           }
          ],
          "heatmap": [
           {
            "colorbar": {
             "outlinewidth": 0,
             "ticks": ""
            },
            "colorscale": [
             [
              0,
              "#0d0887"
             ],
             [
              0.1111111111111111,
              "#46039f"
             ],
             [
              0.2222222222222222,
              "#7201a8"
             ],
             [
              0.3333333333333333,
              "#9c179e"
             ],
             [
              0.4444444444444444,
              "#bd3786"
             ],
             [
              0.5555555555555556,
              "#d8576b"
             ],
             [
              0.6666666666666666,
              "#ed7953"
             ],
             [
              0.7777777777777778,
              "#fb9f3a"
             ],
             [
              0.8888888888888888,
              "#fdca26"
             ],
             [
              1,
              "#f0f921"
             ]
            ],
            "type": "heatmap"
           }
          ],
          "heatmapgl": [
           {
            "colorbar": {
             "outlinewidth": 0,
             "ticks": ""
            },
            "colorscale": [
             [
              0,
              "#0d0887"
             ],
             [
              0.1111111111111111,
              "#46039f"
             ],
             [
              0.2222222222222222,
              "#7201a8"
             ],
             [
              0.3333333333333333,
              "#9c179e"
             ],
             [
              0.4444444444444444,
              "#bd3786"
             ],
             [
              0.5555555555555556,
              "#d8576b"
             ],
             [
              0.6666666666666666,
              "#ed7953"
             ],
             [
              0.7777777777777778,
              "#fb9f3a"
             ],
             [
              0.8888888888888888,
              "#fdca26"
             ],
             [
              1,
              "#f0f921"
             ]
            ],
            "type": "heatmapgl"
           }
          ],
          "histogram": [
           {
            "marker": {
             "colorbar": {
              "outlinewidth": 0,
              "ticks": ""
             }
            },
            "type": "histogram"
           }
          ],
          "histogram2d": [
           {
            "colorbar": {
             "outlinewidth": 0,
             "ticks": ""
            },
            "colorscale": [
             [
              0,
              "#0d0887"
             ],
             [
              0.1111111111111111,
              "#46039f"
             ],
             [
              0.2222222222222222,
              "#7201a8"
             ],
             [
              0.3333333333333333,
              "#9c179e"
             ],
             [
              0.4444444444444444,
              "#bd3786"
             ],
             [
              0.5555555555555556,
              "#d8576b"
             ],
             [
              0.6666666666666666,
              "#ed7953"
             ],
             [
              0.7777777777777778,
              "#fb9f3a"
             ],
             [
              0.8888888888888888,
              "#fdca26"
             ],
             [
              1,
              "#f0f921"
             ]
            ],
            "type": "histogram2d"
           }
          ],
          "histogram2dcontour": [
           {
            "colorbar": {
             "outlinewidth": 0,
             "ticks": ""
            },
            "colorscale": [
             [
              0,
              "#0d0887"
             ],
             [
              0.1111111111111111,
              "#46039f"
             ],
             [
              0.2222222222222222,
              "#7201a8"
             ],
             [
              0.3333333333333333,
              "#9c179e"
             ],
             [
              0.4444444444444444,
              "#bd3786"
             ],
             [
              0.5555555555555556,
              "#d8576b"
             ],
             [
              0.6666666666666666,
              "#ed7953"
             ],
             [
              0.7777777777777778,
              "#fb9f3a"
             ],
             [
              0.8888888888888888,
              "#fdca26"
             ],
             [
              1,
              "#f0f921"
             ]
            ],
            "type": "histogram2dcontour"
           }
          ],
          "mesh3d": [
           {
            "colorbar": {
             "outlinewidth": 0,
             "ticks": ""
            },
            "type": "mesh3d"
           }
          ],
          "parcoords": [
           {
            "line": {
             "colorbar": {
              "outlinewidth": 0,
              "ticks": ""
             }
            },
            "type": "parcoords"
           }
          ],
          "pie": [
           {
            "automargin": true,
            "type": "pie"
           }
          ],
          "scatter": [
           {
            "marker": {
             "colorbar": {
              "outlinewidth": 0,
              "ticks": ""
             }
            },
            "type": "scatter"
           }
          ],
          "scatter3d": [
           {
            "line": {
             "colorbar": {
              "outlinewidth": 0,
              "ticks": ""
             }
            },
            "marker": {
             "colorbar": {
              "outlinewidth": 0,
              "ticks": ""
             }
            },
            "type": "scatter3d"
           }
          ],
          "scattercarpet": [
           {
            "marker": {
             "colorbar": {
              "outlinewidth": 0,
              "ticks": ""
             }
            },
            "type": "scattercarpet"
           }
          ],
          "scattergeo": [
           {
            "marker": {
             "colorbar": {
              "outlinewidth": 0,
              "ticks": ""
             }
            },
            "type": "scattergeo"
           }
          ],
          "scattergl": [
           {
            "marker": {
             "colorbar": {
              "outlinewidth": 0,
              "ticks": ""
             }
            },
            "type": "scattergl"
           }
          ],
          "scattermapbox": [
           {
            "marker": {
             "colorbar": {
              "outlinewidth": 0,
              "ticks": ""
             }
            },
            "type": "scattermapbox"
           }
          ],
          "scatterpolar": [
           {
            "marker": {
             "colorbar": {
              "outlinewidth": 0,
              "ticks": ""
             }
            },
            "type": "scatterpolar"
           }
          ],
          "scatterpolargl": [
           {
            "marker": {
             "colorbar": {
              "outlinewidth": 0,
              "ticks": ""
             }
            },
            "type": "scatterpolargl"
           }
          ],
          "scatterternary": [
           {
            "marker": {
             "colorbar": {
              "outlinewidth": 0,
              "ticks": ""
             }
            },
            "type": "scatterternary"
           }
          ],
          "surface": [
           {
            "colorbar": {
             "outlinewidth": 0,
             "ticks": ""
            },
            "colorscale": [
             [
              0,
              "#0d0887"
             ],
             [
              0.1111111111111111,
              "#46039f"
             ],
             [
              0.2222222222222222,
              "#7201a8"
             ],
             [
              0.3333333333333333,
              "#9c179e"
             ],
             [
              0.4444444444444444,
              "#bd3786"
             ],
             [
              0.5555555555555556,
              "#d8576b"
             ],
             [
              0.6666666666666666,
              "#ed7953"
             ],
             [
              0.7777777777777778,
              "#fb9f3a"
             ],
             [
              0.8888888888888888,
              "#fdca26"
             ],
             [
              1,
              "#f0f921"
             ]
            ],
            "type": "surface"
           }
          ],
          "table": [
           {
            "cells": {
             "fill": {
              "color": "#EBF0F8"
             },
             "line": {
              "color": "white"
             }
            },
            "header": {
             "fill": {
              "color": "#C8D4E3"
             },
             "line": {
              "color": "white"
             }
            },
            "type": "table"
           }
          ]
         },
         "layout": {
          "annotationdefaults": {
           "arrowcolor": "#2a3f5f",
           "arrowhead": 0,
           "arrowwidth": 1
          },
          "coloraxis": {
           "colorbar": {
            "outlinewidth": 0,
            "ticks": ""
           }
          },
          "colorscale": {
           "diverging": [
            [
             0,
             "#8e0152"
            ],
            [
             0.1,
             "#c51b7d"
            ],
            [
             0.2,
             "#de77ae"
            ],
            [
             0.3,
             "#f1b6da"
            ],
            [
             0.4,
             "#fde0ef"
            ],
            [
             0.5,
             "#f7f7f7"
            ],
            [
             0.6,
             "#e6f5d0"
            ],
            [
             0.7,
             "#b8e186"
            ],
            [
             0.8,
             "#7fbc41"
            ],
            [
             0.9,
             "#4d9221"
            ],
            [
             1,
             "#276419"
            ]
           ],
           "sequential": [
            [
             0,
             "#0d0887"
            ],
            [
             0.1111111111111111,
             "#46039f"
            ],
            [
             0.2222222222222222,
             "#7201a8"
            ],
            [
             0.3333333333333333,
             "#9c179e"
            ],
            [
             0.4444444444444444,
             "#bd3786"
            ],
            [
             0.5555555555555556,
             "#d8576b"
            ],
            [
             0.6666666666666666,
             "#ed7953"
            ],
            [
             0.7777777777777778,
             "#fb9f3a"
            ],
            [
             0.8888888888888888,
             "#fdca26"
            ],
            [
             1,
             "#f0f921"
            ]
           ],
           "sequentialminus": [
            [
             0,
             "#0d0887"
            ],
            [
             0.1111111111111111,
             "#46039f"
            ],
            [
             0.2222222222222222,
             "#7201a8"
            ],
            [
             0.3333333333333333,
             "#9c179e"
            ],
            [
             0.4444444444444444,
             "#bd3786"
            ],
            [
             0.5555555555555556,
             "#d8576b"
            ],
            [
             0.6666666666666666,
             "#ed7953"
            ],
            [
             0.7777777777777778,
             "#fb9f3a"
            ],
            [
             0.8888888888888888,
             "#fdca26"
            ],
            [
             1,
             "#f0f921"
            ]
           ]
          },
          "colorway": [
           "#636efa",
           "#EF553B",
           "#00cc96",
           "#ab63fa",
           "#FFA15A",
           "#19d3f3",
           "#FF6692",
           "#B6E880",
           "#FF97FF",
           "#FECB52"
          ],
          "font": {
           "color": "#2a3f5f"
          },
          "geo": {
           "bgcolor": "white",
           "lakecolor": "white",
           "landcolor": "#E5ECF6",
           "showlakes": true,
           "showland": true,
           "subunitcolor": "white"
          },
          "hoverlabel": {
           "align": "left"
          },
          "hovermode": "closest",
          "mapbox": {
           "style": "light"
          },
          "paper_bgcolor": "white",
          "plot_bgcolor": "#E5ECF6",
          "polar": {
           "angularaxis": {
            "gridcolor": "white",
            "linecolor": "white",
            "ticks": ""
           },
           "bgcolor": "#E5ECF6",
           "radialaxis": {
            "gridcolor": "white",
            "linecolor": "white",
            "ticks": ""
           }
          },
          "scene": {
           "xaxis": {
            "backgroundcolor": "#E5ECF6",
            "gridcolor": "white",
            "gridwidth": 2,
            "linecolor": "white",
            "showbackground": true,
            "ticks": "",
            "zerolinecolor": "white"
           },
           "yaxis": {
            "backgroundcolor": "#E5ECF6",
            "gridcolor": "white",
            "gridwidth": 2,
            "linecolor": "white",
            "showbackground": true,
            "ticks": "",
            "zerolinecolor": "white"
           },
           "zaxis": {
            "backgroundcolor": "#E5ECF6",
            "gridcolor": "white",
            "gridwidth": 2,
            "linecolor": "white",
            "showbackground": true,
            "ticks": "",
            "zerolinecolor": "white"
           }
          },
          "shapedefaults": {
           "line": {
            "color": "#2a3f5f"
           }
          },
          "ternary": {
           "aaxis": {
            "gridcolor": "white",
            "linecolor": "white",
            "ticks": ""
           },
           "baxis": {
            "gridcolor": "white",
            "linecolor": "white",
            "ticks": ""
           },
           "bgcolor": "#E5ECF6",
           "caxis": {
            "gridcolor": "white",
            "linecolor": "white",
            "ticks": ""
           }
          },
          "title": {
           "x": 0.05
          },
          "xaxis": {
           "automargin": true,
           "gridcolor": "white",
           "linecolor": "white",
           "ticks": "",
           "title": {
            "standoff": 15
           },
           "zerolinecolor": "white",
           "zerolinewidth": 2
          },
          "yaxis": {
           "automargin": true,
           "gridcolor": "white",
           "linecolor": "white",
           "ticks": "",
           "title": {
            "standoff": 15
           },
           "zerolinecolor": "white",
           "zerolinewidth": 2
          }
         }
        },
        "title": {
         "text": "Daily new COVID cases"
        },
        "updatemenus": [
         {
          "buttons": [
           {
            "args": [
             null,
             {
              "frame": {
               "duration": 500,
               "redraw": true
              },
              "fromcurrent": true,
              "mode": "immediate",
              "transition": {
               "duration": 500,
               "easing": "linear"
              }
             }
            ],
            "label": "&#9654;",
            "method": "animate"
           },
           {
            "args": [
             [
              null
             ],
             {
              "frame": {
               "duration": 0,
               "redraw": true
              },
              "fromcurrent": true,
              "mode": "immediate",
              "transition": {
               "duration": 0,
               "easing": "linear"
              }
             }
            ],
            "label": "&#9724;",
            "method": "animate"
           }
          ],
          "direction": "left",
          "pad": {
           "r": 10,
           "t": 70
          },
          "showactive": false,
          "type": "buttons",
          "x": 0.1,
          "xanchor": "right",
          "y": 0,
          "yanchor": "top"
         }
        ]
       }
      },
      "text/html": [
       "<div>                            <div id=\"59a0f29d-bc26-436c-a0ac-5545fe180279\" class=\"plotly-graph-div\" style=\"height:525px; width:100%;\"></div>            <script type=\"text/javascript\">                require([\"plotly\"], function(Plotly) {                    window.PLOTLYENV=window.PLOTLYENV || {};                                    if (document.getElementById(\"59a0f29d-bc26-436c-a0ac-5545fe180279\")) {                    Plotly.newPlot(                        \"59a0f29d-bc26-436c-a0ac-5545fe180279\",                        [{\"coloraxis\": \"coloraxis\", \"geo\": \"geo\", \"hovertemplate\": \"<b>%{hovertext}</b><br><br>date=2020-01-22<br>iso_code=%{location}<br>new_cases=%{z}<extra></extra>\", \"hovertext\": [\"Australia\", \"India\", \"Russia\", \"United States\", \"Brazil\"], \"locations\": [\"AUS\", \"IND\", \"RUS\", \"USA\", \"BRA\"], \"name\": \"\", \"type\": \"choropleth\", \"z\": [0.0, 0.0, 0.0, 0.0, 0.0]}],                        {\"coloraxis\": {\"colorbar\": {\"title\": {\"text\": \"new_cases\"}}, \"colorscale\": [[0.0, \"rgb(247,244,249)\"], [0.125, \"rgb(231,225,239)\"], [0.25, \"rgb(212,185,218)\"], [0.375, \"rgb(201,148,199)\"], [0.5, \"rgb(223,101,176)\"], [0.625, \"rgb(231,41,138)\"], [0.75, \"rgb(206,18,86)\"], [0.875, \"rgb(152,0,67)\"], [1.0, \"rgb(103,0,31)\"]]}, \"geo\": {\"center\": {}, \"domain\": {\"x\": [0.0, 1.0], \"y\": [0.0, 1.0]}}, \"legend\": {\"tracegroupgap\": 0}, \"sliders\": [{\"active\": 0, \"currentvalue\": {\"prefix\": \"date=\"}, \"len\": 0.9, \"pad\": {\"b\": 10, \"t\": 60}, \"steps\": [{\"args\": [[\"2020-01-22\"], {\"frame\": {\"duration\": 0, \"redraw\": true}, \"fromcurrent\": true, \"mode\": \"immediate\", \"transition\": {\"duration\": 0, \"easing\": \"linear\"}}], \"label\": \"2020-01-22\", \"method\": \"animate\"}, {\"args\": [[\"2020-01-23\"], {\"frame\": {\"duration\": 0, \"redraw\": true}, \"fromcurrent\": true, \"mode\": \"immediate\", \"transition\": {\"duration\": 0, \"easing\": \"linear\"}}], \"label\": \"2020-01-23\", \"method\": \"animate\"}, {\"args\": [[\"2020-01-24\"], {\"frame\": {\"duration\": 0, \"redraw\": true}, \"fromcurrent\": true, \"mode\": \"immediate\", \"transition\": {\"duration\": 0, \"easing\": \"linear\"}}], \"label\": \"2020-01-24\", \"method\": \"animate\"}, {\"args\": [[\"2020-01-25\"], {\"frame\": {\"duration\": 0, \"redraw\": true}, \"fromcurrent\": true, \"mode\": \"immediate\", \"transition\": {\"duration\": 0, \"easing\": \"linear\"}}], \"label\": \"2020-01-25\", \"method\": \"animate\"}, {\"args\": [[\"2020-01-26\"], {\"frame\": {\"duration\": 0, \"redraw\": true}, \"fromcurrent\": true, \"mode\": \"immediate\", \"transition\": {\"duration\": 0, \"easing\": \"linear\"}}], \"label\": \"2020-01-26\", \"method\": \"animate\"}, {\"args\": [[\"2020-01-27\"], {\"frame\": {\"duration\": 0, \"redraw\": true}, \"fromcurrent\": true, \"mode\": \"immediate\", \"transition\": {\"duration\": 0, \"easing\": \"linear\"}}], \"label\": \"2020-01-27\", \"method\": \"animate\"}, {\"args\": [[\"2020-01-28\"], {\"frame\": {\"duration\": 0, \"redraw\": true}, \"fromcurrent\": true, \"mode\": \"immediate\", \"transition\": {\"duration\": 0, \"easing\": \"linear\"}}], \"label\": \"2020-01-28\", \"method\": \"animate\"}, {\"args\": [[\"2020-01-29\"], {\"frame\": {\"duration\": 0, \"redraw\": true}, \"fromcurrent\": true, \"mode\": \"immediate\", \"transition\": {\"duration\": 0, \"easing\": \"linear\"}}], \"label\": \"2020-01-29\", \"method\": \"animate\"}, {\"args\": [[\"2020-01-30\"], {\"frame\": {\"duration\": 0, \"redraw\": true}, \"fromcurrent\": true, \"mode\": \"immediate\", \"transition\": {\"duration\": 0, \"easing\": \"linear\"}}], \"label\": \"2020-01-30\", \"method\": \"animate\"}, {\"args\": [[\"2020-01-31\"], {\"frame\": {\"duration\": 0, \"redraw\": true}, \"fromcurrent\": true, \"mode\": \"immediate\", \"transition\": {\"duration\": 0, \"easing\": \"linear\"}}], \"label\": \"2020-01-31\", \"method\": \"animate\"}, {\"args\": [[\"2020-02-01\"], {\"frame\": {\"duration\": 0, \"redraw\": true}, \"fromcurrent\": true, \"mode\": \"immediate\", \"transition\": {\"duration\": 0, \"easing\": \"linear\"}}], \"label\": \"2020-02-01\", \"method\": \"animate\"}, {\"args\": [[\"2020-02-02\"], {\"frame\": {\"duration\": 0, \"redraw\": true}, \"fromcurrent\": true, \"mode\": \"immediate\", \"transition\": {\"duration\": 0, \"easing\": \"linear\"}}], \"label\": \"2020-02-02\", \"method\": \"animate\"}, {\"args\": [[\"2020-02-03\"], {\"frame\": {\"duration\": 0, \"redraw\": true}, \"fromcurrent\": true, \"mode\": \"immediate\", \"transition\": {\"duration\": 0, \"easing\": \"linear\"}}], \"label\": \"2020-02-03\", \"method\": \"animate\"}, {\"args\": [[\"2020-02-04\"], {\"frame\": {\"duration\": 0, \"redraw\": true}, \"fromcurrent\": true, \"mode\": \"immediate\", \"transition\": {\"duration\": 0, \"easing\": \"linear\"}}], \"label\": \"2020-02-04\", \"method\": \"animate\"}, {\"args\": [[\"2020-02-05\"], {\"frame\": {\"duration\": 0, \"redraw\": true}, \"fromcurrent\": true, \"mode\": \"immediate\", \"transition\": {\"duration\": 0, \"easing\": \"linear\"}}], \"label\": \"2020-02-05\", \"method\": \"animate\"}, {\"args\": [[\"2020-02-06\"], {\"frame\": {\"duration\": 0, \"redraw\": true}, \"fromcurrent\": true, \"mode\": \"immediate\", \"transition\": {\"duration\": 0, \"easing\": \"linear\"}}], \"label\": \"2020-02-06\", \"method\": \"animate\"}, {\"args\": [[\"2020-02-07\"], {\"frame\": {\"duration\": 0, \"redraw\": true}, \"fromcurrent\": true, \"mode\": \"immediate\", \"transition\": {\"duration\": 0, \"easing\": \"linear\"}}], \"label\": \"2020-02-07\", \"method\": \"animate\"}, {\"args\": [[\"2020-02-08\"], {\"frame\": {\"duration\": 0, \"redraw\": true}, \"fromcurrent\": true, \"mode\": \"immediate\", \"transition\": {\"duration\": 0, \"easing\": \"linear\"}}], \"label\": \"2020-02-08\", \"method\": \"animate\"}, {\"args\": [[\"2020-02-09\"], {\"frame\": {\"duration\": 0, \"redraw\": true}, \"fromcurrent\": true, \"mode\": \"immediate\", \"transition\": {\"duration\": 0, \"easing\": \"linear\"}}], \"label\": \"2020-02-09\", \"method\": \"animate\"}, {\"args\": [[\"2020-02-10\"], {\"frame\": {\"duration\": 0, \"redraw\": true}, \"fromcurrent\": true, \"mode\": \"immediate\", \"transition\": {\"duration\": 0, \"easing\": \"linear\"}}], \"label\": \"2020-02-10\", \"method\": \"animate\"}, {\"args\": [[\"2020-02-11\"], {\"frame\": {\"duration\": 0, \"redraw\": true}, \"fromcurrent\": true, \"mode\": \"immediate\", \"transition\": {\"duration\": 0, \"easing\": \"linear\"}}], \"label\": \"2020-02-11\", \"method\": \"animate\"}, {\"args\": [[\"2020-02-12\"], {\"frame\": {\"duration\": 0, \"redraw\": true}, \"fromcurrent\": true, \"mode\": \"immediate\", \"transition\": {\"duration\": 0, \"easing\": \"linear\"}}], \"label\": \"2020-02-12\", \"method\": \"animate\"}, {\"args\": [[\"2020-02-13\"], {\"frame\": {\"duration\": 0, \"redraw\": true}, \"fromcurrent\": true, \"mode\": \"immediate\", \"transition\": {\"duration\": 0, \"easing\": \"linear\"}}], \"label\": \"2020-02-13\", \"method\": \"animate\"}, {\"args\": [[\"2020-02-14\"], {\"frame\": {\"duration\": 0, \"redraw\": true}, \"fromcurrent\": true, \"mode\": \"immediate\", \"transition\": {\"duration\": 0, \"easing\": \"linear\"}}], \"label\": \"2020-02-14\", \"method\": \"animate\"}, {\"args\": [[\"2020-02-15\"], {\"frame\": {\"duration\": 0, \"redraw\": true}, \"fromcurrent\": true, \"mode\": \"immediate\", \"transition\": {\"duration\": 0, \"easing\": \"linear\"}}], \"label\": \"2020-02-15\", \"method\": \"animate\"}, {\"args\": [[\"2020-02-16\"], {\"frame\": {\"duration\": 0, \"redraw\": true}, \"fromcurrent\": true, \"mode\": \"immediate\", \"transition\": {\"duration\": 0, \"easing\": \"linear\"}}], \"label\": \"2020-02-16\", \"method\": \"animate\"}, {\"args\": [[\"2020-02-17\"], {\"frame\": {\"duration\": 0, \"redraw\": true}, \"fromcurrent\": true, \"mode\": \"immediate\", \"transition\": {\"duration\": 0, \"easing\": \"linear\"}}], \"label\": \"2020-02-17\", \"method\": \"animate\"}, {\"args\": [[\"2020-02-18\"], {\"frame\": {\"duration\": 0, \"redraw\": true}, \"fromcurrent\": true, \"mode\": \"immediate\", \"transition\": {\"duration\": 0, \"easing\": \"linear\"}}], \"label\": \"2020-02-18\", \"method\": \"animate\"}, {\"args\": [[\"2020-02-19\"], {\"frame\": {\"duration\": 0, \"redraw\": true}, \"fromcurrent\": true, \"mode\": \"immediate\", \"transition\": {\"duration\": 0, \"easing\": \"linear\"}}], \"label\": \"2020-02-19\", \"method\": \"animate\"}, {\"args\": [[\"2020-02-20\"], {\"frame\": {\"duration\": 0, \"redraw\": true}, \"fromcurrent\": true, \"mode\": \"immediate\", \"transition\": {\"duration\": 0, \"easing\": \"linear\"}}], \"label\": \"2020-02-20\", \"method\": \"animate\"}, {\"args\": [[\"2020-02-21\"], {\"frame\": {\"duration\": 0, \"redraw\": true}, \"fromcurrent\": true, \"mode\": \"immediate\", \"transition\": {\"duration\": 0, \"easing\": \"linear\"}}], \"label\": \"2020-02-21\", \"method\": \"animate\"}, {\"args\": [[\"2020-02-22\"], {\"frame\": {\"duration\": 0, \"redraw\": true}, \"fromcurrent\": true, \"mode\": \"immediate\", \"transition\": {\"duration\": 0, \"easing\": \"linear\"}}], \"label\": \"2020-02-22\", \"method\": \"animate\"}, {\"args\": [[\"2020-02-23\"], {\"frame\": {\"duration\": 0, \"redraw\": true}, \"fromcurrent\": true, \"mode\": \"immediate\", \"transition\": {\"duration\": 0, \"easing\": \"linear\"}}], \"label\": \"2020-02-23\", \"method\": \"animate\"}, {\"args\": [[\"2020-02-24\"], {\"frame\": {\"duration\": 0, \"redraw\": true}, \"fromcurrent\": true, \"mode\": \"immediate\", \"transition\": {\"duration\": 0, \"easing\": \"linear\"}}], \"label\": \"2020-02-24\", \"method\": \"animate\"}, {\"args\": [[\"2020-02-25\"], {\"frame\": {\"duration\": 0, \"redraw\": true}, \"fromcurrent\": true, \"mode\": \"immediate\", \"transition\": {\"duration\": 0, \"easing\": \"linear\"}}], \"label\": \"2020-02-25\", \"method\": \"animate\"}, {\"args\": [[\"2020-02-26\"], {\"frame\": {\"duration\": 0, \"redraw\": true}, \"fromcurrent\": true, \"mode\": \"immediate\", \"transition\": {\"duration\": 0, \"easing\": \"linear\"}}], \"label\": \"2020-02-26\", \"method\": \"animate\"}, {\"args\": [[\"2020-02-27\"], {\"frame\": {\"duration\": 0, \"redraw\": true}, \"fromcurrent\": true, \"mode\": \"immediate\", \"transition\": {\"duration\": 0, \"easing\": \"linear\"}}], \"label\": \"2020-02-27\", \"method\": \"animate\"}, {\"args\": [[\"2020-02-28\"], {\"frame\": {\"duration\": 0, \"redraw\": true}, \"fromcurrent\": true, \"mode\": \"immediate\", \"transition\": {\"duration\": 0, \"easing\": \"linear\"}}], \"label\": \"2020-02-28\", \"method\": \"animate\"}, {\"args\": [[\"2020-02-29\"], {\"frame\": {\"duration\": 0, \"redraw\": true}, \"fromcurrent\": true, \"mode\": \"immediate\", \"transition\": {\"duration\": 0, \"easing\": \"linear\"}}], \"label\": \"2020-02-29\", \"method\": \"animate\"}, {\"args\": [[\"2020-03-01\"], {\"frame\": {\"duration\": 0, \"redraw\": true}, \"fromcurrent\": true, \"mode\": \"immediate\", \"transition\": {\"duration\": 0, \"easing\": \"linear\"}}], \"label\": \"2020-03-01\", \"method\": \"animate\"}, {\"args\": [[\"2020-03-02\"], {\"frame\": {\"duration\": 0, \"redraw\": true}, \"fromcurrent\": true, \"mode\": \"immediate\", \"transition\": {\"duration\": 0, \"easing\": \"linear\"}}], \"label\": \"2020-03-02\", \"method\": \"animate\"}, {\"args\": [[\"2020-03-03\"], {\"frame\": {\"duration\": 0, \"redraw\": true}, \"fromcurrent\": true, \"mode\": \"immediate\", \"transition\": {\"duration\": 0, \"easing\": \"linear\"}}], \"label\": \"2020-03-03\", \"method\": \"animate\"}, {\"args\": [[\"2020-03-04\"], {\"frame\": {\"duration\": 0, \"redraw\": true}, \"fromcurrent\": true, \"mode\": \"immediate\", \"transition\": {\"duration\": 0, \"easing\": \"linear\"}}], \"label\": \"2020-03-04\", \"method\": \"animate\"}, {\"args\": [[\"2020-03-05\"], {\"frame\": {\"duration\": 0, \"redraw\": true}, \"fromcurrent\": true, \"mode\": \"immediate\", \"transition\": {\"duration\": 0, \"easing\": \"linear\"}}], \"label\": \"2020-03-05\", \"method\": \"animate\"}, {\"args\": [[\"2020-03-06\"], {\"frame\": {\"duration\": 0, \"redraw\": true}, \"fromcurrent\": true, \"mode\": \"immediate\", \"transition\": {\"duration\": 0, \"easing\": \"linear\"}}], \"label\": \"2020-03-06\", \"method\": \"animate\"}, {\"args\": [[\"2020-03-07\"], {\"frame\": {\"duration\": 0, \"redraw\": true}, \"fromcurrent\": true, \"mode\": \"immediate\", \"transition\": {\"duration\": 0, \"easing\": \"linear\"}}], \"label\": \"2020-03-07\", \"method\": \"animate\"}, {\"args\": [[\"2020-03-08\"], {\"frame\": {\"duration\": 0, \"redraw\": true}, \"fromcurrent\": true, \"mode\": \"immediate\", \"transition\": {\"duration\": 0, \"easing\": \"linear\"}}], \"label\": \"2020-03-08\", \"method\": \"animate\"}, {\"args\": [[\"2020-03-09\"], {\"frame\": {\"duration\": 0, \"redraw\": true}, \"fromcurrent\": true, \"mode\": \"immediate\", \"transition\": {\"duration\": 0, \"easing\": \"linear\"}}], \"label\": \"2020-03-09\", \"method\": \"animate\"}, {\"args\": [[\"2020-03-10\"], {\"frame\": {\"duration\": 0, \"redraw\": true}, \"fromcurrent\": true, \"mode\": \"immediate\", \"transition\": {\"duration\": 0, \"easing\": \"linear\"}}], \"label\": \"2020-03-10\", \"method\": \"animate\"}, {\"args\": [[\"2020-03-11\"], {\"frame\": {\"duration\": 0, \"redraw\": true}, \"fromcurrent\": true, \"mode\": \"immediate\", \"transition\": {\"duration\": 0, \"easing\": \"linear\"}}], \"label\": \"2020-03-11\", \"method\": \"animate\"}, {\"args\": [[\"2020-03-12\"], {\"frame\": {\"duration\": 0, \"redraw\": true}, \"fromcurrent\": true, \"mode\": \"immediate\", \"transition\": {\"duration\": 0, \"easing\": \"linear\"}}], \"label\": \"2020-03-12\", \"method\": \"animate\"}, {\"args\": [[\"2020-03-13\"], {\"frame\": {\"duration\": 0, \"redraw\": true}, \"fromcurrent\": true, \"mode\": \"immediate\", \"transition\": {\"duration\": 0, \"easing\": \"linear\"}}], \"label\": \"2020-03-13\", \"method\": \"animate\"}, {\"args\": [[\"2020-03-14\"], {\"frame\": {\"duration\": 0, \"redraw\": true}, \"fromcurrent\": true, \"mode\": \"immediate\", \"transition\": {\"duration\": 0, \"easing\": \"linear\"}}], \"label\": \"2020-03-14\", \"method\": \"animate\"}, {\"args\": [[\"2020-03-15\"], {\"frame\": {\"duration\": 0, \"redraw\": true}, \"fromcurrent\": true, \"mode\": \"immediate\", \"transition\": {\"duration\": 0, \"easing\": \"linear\"}}], \"label\": \"2020-03-15\", \"method\": \"animate\"}, {\"args\": [[\"2020-03-16\"], {\"frame\": {\"duration\": 0, \"redraw\": true}, \"fromcurrent\": true, \"mode\": \"immediate\", \"transition\": {\"duration\": 0, \"easing\": \"linear\"}}], \"label\": \"2020-03-16\", \"method\": \"animate\"}, {\"args\": [[\"2020-03-17\"], {\"frame\": {\"duration\": 0, \"redraw\": true}, \"fromcurrent\": true, \"mode\": \"immediate\", \"transition\": {\"duration\": 0, \"easing\": \"linear\"}}], \"label\": \"2020-03-17\", \"method\": \"animate\"}, {\"args\": [[\"2020-03-18\"], {\"frame\": {\"duration\": 0, \"redraw\": true}, \"fromcurrent\": true, \"mode\": \"immediate\", \"transition\": {\"duration\": 0, \"easing\": \"linear\"}}], \"label\": \"2020-03-18\", \"method\": \"animate\"}, {\"args\": [[\"2020-03-19\"], {\"frame\": {\"duration\": 0, \"redraw\": true}, \"fromcurrent\": true, \"mode\": \"immediate\", \"transition\": {\"duration\": 0, \"easing\": \"linear\"}}], \"label\": \"2020-03-19\", \"method\": \"animate\"}, {\"args\": [[\"2020-03-20\"], {\"frame\": {\"duration\": 0, \"redraw\": true}, \"fromcurrent\": true, \"mode\": \"immediate\", \"transition\": {\"duration\": 0, \"easing\": \"linear\"}}], \"label\": \"2020-03-20\", \"method\": \"animate\"}, {\"args\": [[\"2020-03-21\"], {\"frame\": {\"duration\": 0, \"redraw\": true}, \"fromcurrent\": true, \"mode\": \"immediate\", \"transition\": {\"duration\": 0, \"easing\": \"linear\"}}], \"label\": \"2020-03-21\", \"method\": \"animate\"}, {\"args\": [[\"2020-03-22\"], {\"frame\": {\"duration\": 0, \"redraw\": true}, \"fromcurrent\": true, \"mode\": \"immediate\", \"transition\": {\"duration\": 0, \"easing\": \"linear\"}}], \"label\": \"2020-03-22\", \"method\": \"animate\"}, {\"args\": [[\"2020-03-23\"], {\"frame\": {\"duration\": 0, \"redraw\": true}, \"fromcurrent\": true, \"mode\": \"immediate\", \"transition\": {\"duration\": 0, \"easing\": \"linear\"}}], \"label\": \"2020-03-23\", \"method\": \"animate\"}, {\"args\": [[\"2020-03-24\"], {\"frame\": {\"duration\": 0, \"redraw\": true}, \"fromcurrent\": true, \"mode\": \"immediate\", \"transition\": {\"duration\": 0, \"easing\": \"linear\"}}], \"label\": \"2020-03-24\", \"method\": \"animate\"}, {\"args\": [[\"2020-03-25\"], {\"frame\": {\"duration\": 0, \"redraw\": true}, \"fromcurrent\": true, \"mode\": \"immediate\", \"transition\": {\"duration\": 0, \"easing\": \"linear\"}}], \"label\": \"2020-03-25\", \"method\": \"animate\"}, {\"args\": [[\"2020-03-26\"], {\"frame\": {\"duration\": 0, \"redraw\": true}, \"fromcurrent\": true, \"mode\": \"immediate\", \"transition\": {\"duration\": 0, \"easing\": \"linear\"}}], \"label\": \"2020-03-26\", \"method\": \"animate\"}, {\"args\": [[\"2020-03-27\"], {\"frame\": {\"duration\": 0, \"redraw\": true}, \"fromcurrent\": true, \"mode\": \"immediate\", \"transition\": {\"duration\": 0, \"easing\": \"linear\"}}], \"label\": \"2020-03-27\", \"method\": \"animate\"}, {\"args\": [[\"2020-03-28\"], {\"frame\": {\"duration\": 0, \"redraw\": true}, \"fromcurrent\": true, \"mode\": \"immediate\", \"transition\": {\"duration\": 0, \"easing\": \"linear\"}}], \"label\": \"2020-03-28\", \"method\": \"animate\"}, {\"args\": [[\"2020-03-29\"], {\"frame\": {\"duration\": 0, \"redraw\": true}, \"fromcurrent\": true, \"mode\": \"immediate\", \"transition\": {\"duration\": 0, \"easing\": \"linear\"}}], \"label\": \"2020-03-29\", \"method\": \"animate\"}, {\"args\": [[\"2020-03-30\"], {\"frame\": {\"duration\": 0, \"redraw\": true}, \"fromcurrent\": true, \"mode\": \"immediate\", \"transition\": {\"duration\": 0, \"easing\": \"linear\"}}], \"label\": \"2020-03-30\", \"method\": \"animate\"}, {\"args\": [[\"2020-03-31\"], {\"frame\": {\"duration\": 0, \"redraw\": true}, \"fromcurrent\": true, \"mode\": \"immediate\", \"transition\": {\"duration\": 0, \"easing\": \"linear\"}}], \"label\": \"2020-03-31\", \"method\": \"animate\"}, {\"args\": [[\"2020-04-01\"], {\"frame\": {\"duration\": 0, \"redraw\": true}, \"fromcurrent\": true, \"mode\": \"immediate\", \"transition\": {\"duration\": 0, \"easing\": \"linear\"}}], \"label\": \"2020-04-01\", \"method\": \"animate\"}, {\"args\": [[\"2020-04-02\"], {\"frame\": {\"duration\": 0, \"redraw\": true}, \"fromcurrent\": true, \"mode\": \"immediate\", \"transition\": {\"duration\": 0, \"easing\": \"linear\"}}], \"label\": \"2020-04-02\", \"method\": \"animate\"}, {\"args\": [[\"2020-04-03\"], {\"frame\": {\"duration\": 0, \"redraw\": true}, \"fromcurrent\": true, \"mode\": \"immediate\", \"transition\": {\"duration\": 0, \"easing\": \"linear\"}}], \"label\": \"2020-04-03\", \"method\": \"animate\"}, {\"args\": [[\"2020-04-04\"], {\"frame\": {\"duration\": 0, \"redraw\": true}, \"fromcurrent\": true, \"mode\": \"immediate\", \"transition\": {\"duration\": 0, \"easing\": \"linear\"}}], \"label\": \"2020-04-04\", \"method\": \"animate\"}, {\"args\": [[\"2020-04-05\"], {\"frame\": {\"duration\": 0, \"redraw\": true}, \"fromcurrent\": true, \"mode\": \"immediate\", \"transition\": {\"duration\": 0, \"easing\": \"linear\"}}], \"label\": \"2020-04-05\", \"method\": \"animate\"}, {\"args\": [[\"2020-04-06\"], {\"frame\": {\"duration\": 0, \"redraw\": true}, \"fromcurrent\": true, \"mode\": \"immediate\", \"transition\": {\"duration\": 0, \"easing\": \"linear\"}}], \"label\": \"2020-04-06\", \"method\": \"animate\"}, {\"args\": [[\"2020-04-07\"], {\"frame\": {\"duration\": 0, \"redraw\": true}, \"fromcurrent\": true, \"mode\": \"immediate\", \"transition\": {\"duration\": 0, \"easing\": \"linear\"}}], \"label\": \"2020-04-07\", \"method\": \"animate\"}, {\"args\": [[\"2020-04-08\"], {\"frame\": {\"duration\": 0, \"redraw\": true}, \"fromcurrent\": true, \"mode\": \"immediate\", \"transition\": {\"duration\": 0, \"easing\": \"linear\"}}], \"label\": \"2020-04-08\", \"method\": \"animate\"}, {\"args\": [[\"2020-04-09\"], {\"frame\": {\"duration\": 0, \"redraw\": true}, \"fromcurrent\": true, \"mode\": \"immediate\", \"transition\": {\"duration\": 0, \"easing\": \"linear\"}}], \"label\": \"2020-04-09\", \"method\": \"animate\"}, {\"args\": [[\"2020-04-10\"], {\"frame\": {\"duration\": 0, \"redraw\": true}, \"fromcurrent\": true, \"mode\": \"immediate\", \"transition\": {\"duration\": 0, \"easing\": \"linear\"}}], \"label\": \"2020-04-10\", \"method\": \"animate\"}, {\"args\": [[\"2020-04-11\"], {\"frame\": {\"duration\": 0, \"redraw\": true}, \"fromcurrent\": true, \"mode\": \"immediate\", \"transition\": {\"duration\": 0, \"easing\": \"linear\"}}], \"label\": \"2020-04-11\", \"method\": \"animate\"}, {\"args\": [[\"2020-04-12\"], {\"frame\": {\"duration\": 0, \"redraw\": true}, \"fromcurrent\": true, \"mode\": \"immediate\", \"transition\": {\"duration\": 0, \"easing\": \"linear\"}}], \"label\": \"2020-04-12\", \"method\": \"animate\"}, {\"args\": [[\"2020-04-13\"], {\"frame\": {\"duration\": 0, \"redraw\": true}, \"fromcurrent\": true, \"mode\": \"immediate\", \"transition\": {\"duration\": 0, \"easing\": \"linear\"}}], \"label\": \"2020-04-13\", \"method\": \"animate\"}, {\"args\": [[\"2020-04-14\"], {\"frame\": {\"duration\": 0, \"redraw\": true}, \"fromcurrent\": true, \"mode\": \"immediate\", \"transition\": {\"duration\": 0, \"easing\": \"linear\"}}], \"label\": \"2020-04-14\", \"method\": \"animate\"}, {\"args\": [[\"2020-04-15\"], {\"frame\": {\"duration\": 0, \"redraw\": true}, \"fromcurrent\": true, \"mode\": \"immediate\", \"transition\": {\"duration\": 0, \"easing\": \"linear\"}}], \"label\": \"2020-04-15\", \"method\": \"animate\"}, {\"args\": [[\"2020-04-16\"], {\"frame\": {\"duration\": 0, \"redraw\": true}, \"fromcurrent\": true, \"mode\": \"immediate\", \"transition\": {\"duration\": 0, \"easing\": \"linear\"}}], \"label\": \"2020-04-16\", \"method\": \"animate\"}, {\"args\": [[\"2020-04-17\"], {\"frame\": {\"duration\": 0, \"redraw\": true}, \"fromcurrent\": true, \"mode\": \"immediate\", \"transition\": {\"duration\": 0, \"easing\": \"linear\"}}], \"label\": \"2020-04-17\", \"method\": \"animate\"}, {\"args\": [[\"2020-04-18\"], {\"frame\": {\"duration\": 0, \"redraw\": true}, \"fromcurrent\": true, \"mode\": \"immediate\", \"transition\": {\"duration\": 0, \"easing\": \"linear\"}}], \"label\": \"2020-04-18\", \"method\": \"animate\"}, {\"args\": [[\"2020-04-19\"], {\"frame\": {\"duration\": 0, \"redraw\": true}, \"fromcurrent\": true, \"mode\": \"immediate\", \"transition\": {\"duration\": 0, \"easing\": \"linear\"}}], \"label\": \"2020-04-19\", \"method\": \"animate\"}, {\"args\": [[\"2020-04-20\"], {\"frame\": {\"duration\": 0, \"redraw\": true}, \"fromcurrent\": true, \"mode\": \"immediate\", \"transition\": {\"duration\": 0, \"easing\": \"linear\"}}], \"label\": \"2020-04-20\", \"method\": \"animate\"}, {\"args\": [[\"2020-04-21\"], {\"frame\": {\"duration\": 0, \"redraw\": true}, \"fromcurrent\": true, \"mode\": \"immediate\", \"transition\": {\"duration\": 0, \"easing\": \"linear\"}}], \"label\": \"2020-04-21\", \"method\": \"animate\"}, {\"args\": [[\"2020-04-22\"], {\"frame\": {\"duration\": 0, \"redraw\": true}, \"fromcurrent\": true, \"mode\": \"immediate\", \"transition\": {\"duration\": 0, \"easing\": \"linear\"}}], \"label\": \"2020-04-22\", \"method\": \"animate\"}, {\"args\": [[\"2020-04-23\"], {\"frame\": {\"duration\": 0, \"redraw\": true}, \"fromcurrent\": true, \"mode\": \"immediate\", \"transition\": {\"duration\": 0, \"easing\": \"linear\"}}], \"label\": \"2020-04-23\", \"method\": \"animate\"}, {\"args\": [[\"2020-04-24\"], {\"frame\": {\"duration\": 0, \"redraw\": true}, \"fromcurrent\": true, \"mode\": \"immediate\", \"transition\": {\"duration\": 0, \"easing\": \"linear\"}}], \"label\": \"2020-04-24\", \"method\": \"animate\"}, {\"args\": [[\"2020-04-25\"], {\"frame\": {\"duration\": 0, \"redraw\": true}, \"fromcurrent\": true, \"mode\": \"immediate\", \"transition\": {\"duration\": 0, \"easing\": \"linear\"}}], \"label\": \"2020-04-25\", \"method\": \"animate\"}, {\"args\": [[\"2020-04-26\"], {\"frame\": {\"duration\": 0, \"redraw\": true}, \"fromcurrent\": true, \"mode\": \"immediate\", \"transition\": {\"duration\": 0, \"easing\": \"linear\"}}], \"label\": \"2020-04-26\", \"method\": \"animate\"}, {\"args\": [[\"2020-04-27\"], {\"frame\": {\"duration\": 0, \"redraw\": true}, \"fromcurrent\": true, \"mode\": \"immediate\", \"transition\": {\"duration\": 0, \"easing\": \"linear\"}}], \"label\": \"2020-04-27\", \"method\": \"animate\"}, {\"args\": [[\"2020-04-28\"], {\"frame\": {\"duration\": 0, \"redraw\": true}, \"fromcurrent\": true, \"mode\": \"immediate\", \"transition\": {\"duration\": 0, \"easing\": \"linear\"}}], \"label\": \"2020-04-28\", \"method\": \"animate\"}, {\"args\": [[\"2020-04-29\"], {\"frame\": {\"duration\": 0, \"redraw\": true}, \"fromcurrent\": true, \"mode\": \"immediate\", \"transition\": {\"duration\": 0, \"easing\": \"linear\"}}], \"label\": \"2020-04-29\", \"method\": \"animate\"}, {\"args\": [[\"2020-04-30\"], {\"frame\": {\"duration\": 0, \"redraw\": true}, \"fromcurrent\": true, \"mode\": \"immediate\", \"transition\": {\"duration\": 0, \"easing\": \"linear\"}}], \"label\": \"2020-04-30\", \"method\": \"animate\"}, {\"args\": [[\"2020-05-01\"], {\"frame\": {\"duration\": 0, \"redraw\": true}, \"fromcurrent\": true, \"mode\": \"immediate\", \"transition\": {\"duration\": 0, \"easing\": \"linear\"}}], \"label\": \"2020-05-01\", \"method\": \"animate\"}, {\"args\": [[\"2020-05-02\"], {\"frame\": {\"duration\": 0, \"redraw\": true}, \"fromcurrent\": true, \"mode\": \"immediate\", \"transition\": {\"duration\": 0, \"easing\": \"linear\"}}], \"label\": \"2020-05-02\", \"method\": \"animate\"}, {\"args\": [[\"2020-05-03\"], {\"frame\": {\"duration\": 0, \"redraw\": true}, \"fromcurrent\": true, \"mode\": \"immediate\", \"transition\": {\"duration\": 0, \"easing\": \"linear\"}}], \"label\": \"2020-05-03\", \"method\": \"animate\"}, {\"args\": [[\"2020-05-04\"], {\"frame\": {\"duration\": 0, \"redraw\": true}, \"fromcurrent\": true, \"mode\": \"immediate\", \"transition\": {\"duration\": 0, \"easing\": \"linear\"}}], \"label\": \"2020-05-04\", \"method\": \"animate\"}, {\"args\": [[\"2020-05-05\"], {\"frame\": {\"duration\": 0, \"redraw\": true}, \"fromcurrent\": true, \"mode\": \"immediate\", \"transition\": {\"duration\": 0, \"easing\": \"linear\"}}], \"label\": \"2020-05-05\", \"method\": \"animate\"}, {\"args\": [[\"2020-05-06\"], {\"frame\": {\"duration\": 0, \"redraw\": true}, \"fromcurrent\": true, \"mode\": \"immediate\", \"transition\": {\"duration\": 0, \"easing\": \"linear\"}}], \"label\": \"2020-05-06\", \"method\": \"animate\"}, {\"args\": [[\"2020-05-07\"], {\"frame\": {\"duration\": 0, \"redraw\": true}, \"fromcurrent\": true, \"mode\": \"immediate\", \"transition\": {\"duration\": 0, \"easing\": \"linear\"}}], \"label\": \"2020-05-07\", \"method\": \"animate\"}, {\"args\": [[\"2020-05-08\"], {\"frame\": {\"duration\": 0, \"redraw\": true}, \"fromcurrent\": true, \"mode\": \"immediate\", \"transition\": {\"duration\": 0, \"easing\": \"linear\"}}], \"label\": \"2020-05-08\", \"method\": \"animate\"}, {\"args\": [[\"2020-05-09\"], {\"frame\": {\"duration\": 0, \"redraw\": true}, \"fromcurrent\": true, \"mode\": \"immediate\", \"transition\": {\"duration\": 0, \"easing\": \"linear\"}}], \"label\": \"2020-05-09\", \"method\": \"animate\"}, {\"args\": [[\"2020-05-10\"], {\"frame\": {\"duration\": 0, \"redraw\": true}, \"fromcurrent\": true, \"mode\": \"immediate\", \"transition\": {\"duration\": 0, \"easing\": \"linear\"}}], \"label\": \"2020-05-10\", \"method\": \"animate\"}, {\"args\": [[\"2020-05-11\"], {\"frame\": {\"duration\": 0, \"redraw\": true}, \"fromcurrent\": true, \"mode\": \"immediate\", \"transition\": {\"duration\": 0, \"easing\": \"linear\"}}], \"label\": \"2020-05-11\", \"method\": \"animate\"}, {\"args\": [[\"2020-05-12\"], {\"frame\": {\"duration\": 0, \"redraw\": true}, \"fromcurrent\": true, \"mode\": \"immediate\", \"transition\": {\"duration\": 0, \"easing\": \"linear\"}}], \"label\": \"2020-05-12\", \"method\": \"animate\"}, {\"args\": [[\"2020-05-13\"], {\"frame\": {\"duration\": 0, \"redraw\": true}, \"fromcurrent\": true, \"mode\": \"immediate\", \"transition\": {\"duration\": 0, \"easing\": \"linear\"}}], \"label\": \"2020-05-13\", \"method\": \"animate\"}, {\"args\": [[\"2020-05-14\"], {\"frame\": {\"duration\": 0, \"redraw\": true}, \"fromcurrent\": true, \"mode\": \"immediate\", \"transition\": {\"duration\": 0, \"easing\": \"linear\"}}], \"label\": \"2020-05-14\", \"method\": \"animate\"}, {\"args\": [[\"2020-05-15\"], {\"frame\": {\"duration\": 0, \"redraw\": true}, \"fromcurrent\": true, \"mode\": \"immediate\", \"transition\": {\"duration\": 0, \"easing\": \"linear\"}}], \"label\": \"2020-05-15\", \"method\": \"animate\"}, {\"args\": [[\"2020-05-16\"], {\"frame\": {\"duration\": 0, \"redraw\": true}, \"fromcurrent\": true, \"mode\": \"immediate\", \"transition\": {\"duration\": 0, \"easing\": \"linear\"}}], \"label\": \"2020-05-16\", \"method\": \"animate\"}, {\"args\": [[\"2020-05-17\"], {\"frame\": {\"duration\": 0, \"redraw\": true}, \"fromcurrent\": true, \"mode\": \"immediate\", \"transition\": {\"duration\": 0, \"easing\": \"linear\"}}], \"label\": \"2020-05-17\", \"method\": \"animate\"}, {\"args\": [[\"2020-05-18\"], {\"frame\": {\"duration\": 0, \"redraw\": true}, \"fromcurrent\": true, \"mode\": \"immediate\", \"transition\": {\"duration\": 0, \"easing\": \"linear\"}}], \"label\": \"2020-05-18\", \"method\": \"animate\"}, {\"args\": [[\"2020-05-19\"], {\"frame\": {\"duration\": 0, \"redraw\": true}, \"fromcurrent\": true, \"mode\": \"immediate\", \"transition\": {\"duration\": 0, \"easing\": \"linear\"}}], \"label\": \"2020-05-19\", \"method\": \"animate\"}, {\"args\": [[\"2020-05-20\"], {\"frame\": {\"duration\": 0, \"redraw\": true}, \"fromcurrent\": true, \"mode\": \"immediate\", \"transition\": {\"duration\": 0, \"easing\": \"linear\"}}], \"label\": \"2020-05-20\", \"method\": \"animate\"}, {\"args\": [[\"2020-05-21\"], {\"frame\": {\"duration\": 0, \"redraw\": true}, \"fromcurrent\": true, \"mode\": \"immediate\", \"transition\": {\"duration\": 0, \"easing\": \"linear\"}}], \"label\": \"2020-05-21\", \"method\": \"animate\"}, {\"args\": [[\"2020-05-22\"], {\"frame\": {\"duration\": 0, \"redraw\": true}, \"fromcurrent\": true, \"mode\": \"immediate\", \"transition\": {\"duration\": 0, \"easing\": \"linear\"}}], \"label\": \"2020-05-22\", \"method\": \"animate\"}, {\"args\": [[\"2020-05-23\"], {\"frame\": {\"duration\": 0, \"redraw\": true}, \"fromcurrent\": true, \"mode\": \"immediate\", \"transition\": {\"duration\": 0, \"easing\": \"linear\"}}], \"label\": \"2020-05-23\", \"method\": \"animate\"}, {\"args\": [[\"2020-05-24\"], {\"frame\": {\"duration\": 0, \"redraw\": true}, \"fromcurrent\": true, \"mode\": \"immediate\", \"transition\": {\"duration\": 0, \"easing\": \"linear\"}}], \"label\": \"2020-05-24\", \"method\": \"animate\"}, {\"args\": [[\"2020-05-25\"], {\"frame\": {\"duration\": 0, \"redraw\": true}, \"fromcurrent\": true, \"mode\": \"immediate\", \"transition\": {\"duration\": 0, \"easing\": \"linear\"}}], \"label\": \"2020-05-25\", \"method\": \"animate\"}, {\"args\": [[\"2020-05-26\"], {\"frame\": {\"duration\": 0, \"redraw\": true}, \"fromcurrent\": true, \"mode\": \"immediate\", \"transition\": {\"duration\": 0, \"easing\": \"linear\"}}], \"label\": \"2020-05-26\", \"method\": \"animate\"}, {\"args\": [[\"2020-05-27\"], {\"frame\": {\"duration\": 0, \"redraw\": true}, \"fromcurrent\": true, \"mode\": \"immediate\", \"transition\": {\"duration\": 0, \"easing\": \"linear\"}}], \"label\": \"2020-05-27\", \"method\": \"animate\"}, {\"args\": [[\"2020-05-28\"], {\"frame\": {\"duration\": 0, \"redraw\": true}, \"fromcurrent\": true, \"mode\": \"immediate\", \"transition\": {\"duration\": 0, \"easing\": \"linear\"}}], \"label\": \"2020-05-28\", \"method\": \"animate\"}, {\"args\": [[\"2020-05-29\"], {\"frame\": {\"duration\": 0, \"redraw\": true}, \"fromcurrent\": true, \"mode\": \"immediate\", \"transition\": {\"duration\": 0, \"easing\": \"linear\"}}], \"label\": \"2020-05-29\", \"method\": \"animate\"}, {\"args\": [[\"2020-05-30\"], {\"frame\": {\"duration\": 0, \"redraw\": true}, \"fromcurrent\": true, \"mode\": \"immediate\", \"transition\": {\"duration\": 0, \"easing\": \"linear\"}}], \"label\": \"2020-05-30\", \"method\": \"animate\"}, {\"args\": [[\"2020-05-31\"], {\"frame\": {\"duration\": 0, \"redraw\": true}, \"fromcurrent\": true, \"mode\": \"immediate\", \"transition\": {\"duration\": 0, \"easing\": \"linear\"}}], \"label\": \"2020-05-31\", \"method\": \"animate\"}, {\"args\": [[\"2020-06-01\"], {\"frame\": {\"duration\": 0, \"redraw\": true}, \"fromcurrent\": true, \"mode\": \"immediate\", \"transition\": {\"duration\": 0, \"easing\": \"linear\"}}], \"label\": \"2020-06-01\", \"method\": \"animate\"}, {\"args\": [[\"2020-06-02\"], {\"frame\": {\"duration\": 0, \"redraw\": true}, \"fromcurrent\": true, \"mode\": \"immediate\", \"transition\": {\"duration\": 0, \"easing\": \"linear\"}}], \"label\": \"2020-06-02\", \"method\": \"animate\"}, {\"args\": [[\"2020-06-03\"], {\"frame\": {\"duration\": 0, \"redraw\": true}, \"fromcurrent\": true, \"mode\": \"immediate\", \"transition\": {\"duration\": 0, \"easing\": \"linear\"}}], \"label\": \"2020-06-03\", \"method\": \"animate\"}, {\"args\": [[\"2020-06-04\"], {\"frame\": {\"duration\": 0, \"redraw\": true}, \"fromcurrent\": true, \"mode\": \"immediate\", \"transition\": {\"duration\": 0, \"easing\": \"linear\"}}], \"label\": \"2020-06-04\", \"method\": \"animate\"}, {\"args\": [[\"2020-06-05\"], {\"frame\": {\"duration\": 0, \"redraw\": true}, \"fromcurrent\": true, \"mode\": \"immediate\", \"transition\": {\"duration\": 0, \"easing\": \"linear\"}}], \"label\": \"2020-06-05\", \"method\": \"animate\"}, {\"args\": [[\"2020-06-06\"], {\"frame\": {\"duration\": 0, \"redraw\": true}, \"fromcurrent\": true, \"mode\": \"immediate\", \"transition\": {\"duration\": 0, \"easing\": \"linear\"}}], \"label\": \"2020-06-06\", \"method\": \"animate\"}, {\"args\": [[\"2020-06-07\"], {\"frame\": {\"duration\": 0, \"redraw\": true}, \"fromcurrent\": true, \"mode\": \"immediate\", \"transition\": {\"duration\": 0, \"easing\": \"linear\"}}], \"label\": \"2020-06-07\", \"method\": \"animate\"}, {\"args\": [[\"2020-06-08\"], {\"frame\": {\"duration\": 0, \"redraw\": true}, \"fromcurrent\": true, \"mode\": \"immediate\", \"transition\": {\"duration\": 0, \"easing\": \"linear\"}}], \"label\": \"2020-06-08\", \"method\": \"animate\"}, {\"args\": [[\"2020-06-09\"], {\"frame\": {\"duration\": 0, \"redraw\": true}, \"fromcurrent\": true, \"mode\": \"immediate\", \"transition\": {\"duration\": 0, \"easing\": \"linear\"}}], \"label\": \"2020-06-09\", \"method\": \"animate\"}, {\"args\": [[\"2020-06-10\"], {\"frame\": {\"duration\": 0, \"redraw\": true}, \"fromcurrent\": true, \"mode\": \"immediate\", \"transition\": {\"duration\": 0, \"easing\": \"linear\"}}], \"label\": \"2020-06-10\", \"method\": \"animate\"}, {\"args\": [[\"2020-06-11\"], {\"frame\": {\"duration\": 0, \"redraw\": true}, \"fromcurrent\": true, \"mode\": \"immediate\", \"transition\": {\"duration\": 0, \"easing\": \"linear\"}}], \"label\": \"2020-06-11\", \"method\": \"animate\"}, {\"args\": [[\"2020-06-12\"], {\"frame\": {\"duration\": 0, \"redraw\": true}, \"fromcurrent\": true, \"mode\": \"immediate\", \"transition\": {\"duration\": 0, \"easing\": \"linear\"}}], \"label\": \"2020-06-12\", \"method\": \"animate\"}, {\"args\": [[\"2020-06-13\"], {\"frame\": {\"duration\": 0, \"redraw\": true}, \"fromcurrent\": true, \"mode\": \"immediate\", \"transition\": {\"duration\": 0, \"easing\": \"linear\"}}], \"label\": \"2020-06-13\", \"method\": \"animate\"}, {\"args\": [[\"2020-06-14\"], {\"frame\": {\"duration\": 0, \"redraw\": true}, \"fromcurrent\": true, \"mode\": \"immediate\", \"transition\": {\"duration\": 0, \"easing\": \"linear\"}}], \"label\": \"2020-06-14\", \"method\": \"animate\"}, {\"args\": [[\"2020-06-15\"], {\"frame\": {\"duration\": 0, \"redraw\": true}, \"fromcurrent\": true, \"mode\": \"immediate\", \"transition\": {\"duration\": 0, \"easing\": \"linear\"}}], \"label\": \"2020-06-15\", \"method\": \"animate\"}, {\"args\": [[\"2020-06-16\"], {\"frame\": {\"duration\": 0, \"redraw\": true}, \"fromcurrent\": true, \"mode\": \"immediate\", \"transition\": {\"duration\": 0, \"easing\": \"linear\"}}], \"label\": \"2020-06-16\", \"method\": \"animate\"}, {\"args\": [[\"2020-06-17\"], {\"frame\": {\"duration\": 0, \"redraw\": true}, \"fromcurrent\": true, \"mode\": \"immediate\", \"transition\": {\"duration\": 0, \"easing\": \"linear\"}}], \"label\": \"2020-06-17\", \"method\": \"animate\"}, {\"args\": [[\"2020-06-18\"], {\"frame\": {\"duration\": 0, \"redraw\": true}, \"fromcurrent\": true, \"mode\": \"immediate\", \"transition\": {\"duration\": 0, \"easing\": \"linear\"}}], \"label\": \"2020-06-18\", \"method\": \"animate\"}, {\"args\": [[\"2020-06-19\"], {\"frame\": {\"duration\": 0, \"redraw\": true}, \"fromcurrent\": true, \"mode\": \"immediate\", \"transition\": {\"duration\": 0, \"easing\": \"linear\"}}], \"label\": \"2020-06-19\", \"method\": \"animate\"}, {\"args\": [[\"2020-06-20\"], {\"frame\": {\"duration\": 0, \"redraw\": true}, \"fromcurrent\": true, \"mode\": \"immediate\", \"transition\": {\"duration\": 0, \"easing\": \"linear\"}}], \"label\": \"2020-06-20\", \"method\": \"animate\"}, {\"args\": [[\"2020-06-21\"], {\"frame\": {\"duration\": 0, \"redraw\": true}, \"fromcurrent\": true, \"mode\": \"immediate\", \"transition\": {\"duration\": 0, \"easing\": \"linear\"}}], \"label\": \"2020-06-21\", \"method\": \"animate\"}, {\"args\": [[\"2020-06-22\"], {\"frame\": {\"duration\": 0, \"redraw\": true}, \"fromcurrent\": true, \"mode\": \"immediate\", \"transition\": {\"duration\": 0, \"easing\": \"linear\"}}], \"label\": \"2020-06-22\", \"method\": \"animate\"}, {\"args\": [[\"2020-06-23\"], {\"frame\": {\"duration\": 0, \"redraw\": true}, \"fromcurrent\": true, \"mode\": \"immediate\", \"transition\": {\"duration\": 0, \"easing\": \"linear\"}}], \"label\": \"2020-06-23\", \"method\": \"animate\"}, {\"args\": [[\"2020-06-24\"], {\"frame\": {\"duration\": 0, \"redraw\": true}, \"fromcurrent\": true, \"mode\": \"immediate\", \"transition\": {\"duration\": 0, \"easing\": \"linear\"}}], \"label\": \"2020-06-24\", \"method\": \"animate\"}, {\"args\": [[\"2020-06-25\"], {\"frame\": {\"duration\": 0, \"redraw\": true}, \"fromcurrent\": true, \"mode\": \"immediate\", \"transition\": {\"duration\": 0, \"easing\": \"linear\"}}], \"label\": \"2020-06-25\", \"method\": \"animate\"}, {\"args\": [[\"2020-06-26\"], {\"frame\": {\"duration\": 0, \"redraw\": true}, \"fromcurrent\": true, \"mode\": \"immediate\", \"transition\": {\"duration\": 0, \"easing\": \"linear\"}}], \"label\": \"2020-06-26\", \"method\": \"animate\"}, {\"args\": [[\"2020-06-27\"], {\"frame\": {\"duration\": 0, \"redraw\": true}, \"fromcurrent\": true, \"mode\": \"immediate\", \"transition\": {\"duration\": 0, \"easing\": \"linear\"}}], \"label\": \"2020-06-27\", \"method\": \"animate\"}, {\"args\": [[\"2020-06-28\"], {\"frame\": {\"duration\": 0, \"redraw\": true}, \"fromcurrent\": true, \"mode\": \"immediate\", \"transition\": {\"duration\": 0, \"easing\": \"linear\"}}], \"label\": \"2020-06-28\", \"method\": \"animate\"}, {\"args\": [[\"2020-06-29\"], {\"frame\": {\"duration\": 0, \"redraw\": true}, \"fromcurrent\": true, \"mode\": \"immediate\", \"transition\": {\"duration\": 0, \"easing\": \"linear\"}}], \"label\": \"2020-06-29\", \"method\": \"animate\"}, {\"args\": [[\"2020-06-30\"], {\"frame\": {\"duration\": 0, \"redraw\": true}, \"fromcurrent\": true, \"mode\": \"immediate\", \"transition\": {\"duration\": 0, \"easing\": \"linear\"}}], \"label\": \"2020-06-30\", \"method\": \"animate\"}, {\"args\": [[\"2020-07-01\"], {\"frame\": {\"duration\": 0, \"redraw\": true}, \"fromcurrent\": true, \"mode\": \"immediate\", \"transition\": {\"duration\": 0, \"easing\": \"linear\"}}], \"label\": \"2020-07-01\", \"method\": \"animate\"}, {\"args\": [[\"2020-07-02\"], {\"frame\": {\"duration\": 0, \"redraw\": true}, \"fromcurrent\": true, \"mode\": \"immediate\", \"transition\": {\"duration\": 0, \"easing\": \"linear\"}}], \"label\": \"2020-07-02\", \"method\": \"animate\"}, {\"args\": [[\"2020-07-03\"], {\"frame\": {\"duration\": 0, \"redraw\": true}, \"fromcurrent\": true, \"mode\": \"immediate\", \"transition\": {\"duration\": 0, \"easing\": \"linear\"}}], \"label\": \"2020-07-03\", \"method\": \"animate\"}, {\"args\": [[\"2020-07-04\"], {\"frame\": {\"duration\": 0, \"redraw\": true}, \"fromcurrent\": true, \"mode\": \"immediate\", \"transition\": {\"duration\": 0, \"easing\": \"linear\"}}], \"label\": \"2020-07-04\", \"method\": \"animate\"}, {\"args\": [[\"2020-07-05\"], {\"frame\": {\"duration\": 0, \"redraw\": true}, \"fromcurrent\": true, \"mode\": \"immediate\", \"transition\": {\"duration\": 0, \"easing\": \"linear\"}}], \"label\": \"2020-07-05\", \"method\": \"animate\"}, {\"args\": [[\"2020-07-06\"], {\"frame\": {\"duration\": 0, \"redraw\": true}, \"fromcurrent\": true, \"mode\": \"immediate\", \"transition\": {\"duration\": 0, \"easing\": \"linear\"}}], \"label\": \"2020-07-06\", \"method\": \"animate\"}, {\"args\": [[\"2020-07-07\"], {\"frame\": {\"duration\": 0, \"redraw\": true}, \"fromcurrent\": true, \"mode\": \"immediate\", \"transition\": {\"duration\": 0, \"easing\": \"linear\"}}], \"label\": \"2020-07-07\", \"method\": \"animate\"}, {\"args\": [[\"2020-07-08\"], {\"frame\": {\"duration\": 0, \"redraw\": true}, \"fromcurrent\": true, \"mode\": \"immediate\", \"transition\": {\"duration\": 0, \"easing\": \"linear\"}}], \"label\": \"2020-07-08\", \"method\": \"animate\"}, {\"args\": [[\"2020-07-09\"], {\"frame\": {\"duration\": 0, \"redraw\": true}, \"fromcurrent\": true, \"mode\": \"immediate\", \"transition\": {\"duration\": 0, \"easing\": \"linear\"}}], \"label\": \"2020-07-09\", \"method\": \"animate\"}, {\"args\": [[\"2020-07-10\"], {\"frame\": {\"duration\": 0, \"redraw\": true}, \"fromcurrent\": true, \"mode\": \"immediate\", \"transition\": {\"duration\": 0, \"easing\": \"linear\"}}], \"label\": \"2020-07-10\", \"method\": \"animate\"}, {\"args\": [[\"2020-07-11\"], {\"frame\": {\"duration\": 0, \"redraw\": true}, \"fromcurrent\": true, \"mode\": \"immediate\", \"transition\": {\"duration\": 0, \"easing\": \"linear\"}}], \"label\": \"2020-07-11\", \"method\": \"animate\"}, {\"args\": [[\"2020-07-12\"], {\"frame\": {\"duration\": 0, \"redraw\": true}, \"fromcurrent\": true, \"mode\": \"immediate\", \"transition\": {\"duration\": 0, \"easing\": \"linear\"}}], \"label\": \"2020-07-12\", \"method\": \"animate\"}, {\"args\": [[\"2020-07-13\"], {\"frame\": {\"duration\": 0, \"redraw\": true}, \"fromcurrent\": true, \"mode\": \"immediate\", \"transition\": {\"duration\": 0, \"easing\": \"linear\"}}], \"label\": \"2020-07-13\", \"method\": \"animate\"}, {\"args\": [[\"2020-07-14\"], {\"frame\": {\"duration\": 0, \"redraw\": true}, \"fromcurrent\": true, \"mode\": \"immediate\", \"transition\": {\"duration\": 0, \"easing\": \"linear\"}}], \"label\": \"2020-07-14\", \"method\": \"animate\"}, {\"args\": [[\"2020-07-15\"], {\"frame\": {\"duration\": 0, \"redraw\": true}, \"fromcurrent\": true, \"mode\": \"immediate\", \"transition\": {\"duration\": 0, \"easing\": \"linear\"}}], \"label\": \"2020-07-15\", \"method\": \"animate\"}, {\"args\": [[\"2020-07-16\"], {\"frame\": {\"duration\": 0, \"redraw\": true}, \"fromcurrent\": true, \"mode\": \"immediate\", \"transition\": {\"duration\": 0, \"easing\": \"linear\"}}], \"label\": \"2020-07-16\", \"method\": \"animate\"}, {\"args\": [[\"2020-07-17\"], {\"frame\": {\"duration\": 0, \"redraw\": true}, \"fromcurrent\": true, \"mode\": \"immediate\", \"transition\": {\"duration\": 0, \"easing\": \"linear\"}}], \"label\": \"2020-07-17\", \"method\": \"animate\"}, {\"args\": [[\"2020-07-18\"], {\"frame\": {\"duration\": 0, \"redraw\": true}, \"fromcurrent\": true, \"mode\": \"immediate\", \"transition\": {\"duration\": 0, \"easing\": \"linear\"}}], \"label\": \"2020-07-18\", \"method\": \"animate\"}, {\"args\": [[\"2020-07-19\"], {\"frame\": {\"duration\": 0, \"redraw\": true}, \"fromcurrent\": true, \"mode\": \"immediate\", \"transition\": {\"duration\": 0, \"easing\": \"linear\"}}], \"label\": \"2020-07-19\", \"method\": \"animate\"}, {\"args\": [[\"2020-07-20\"], {\"frame\": {\"duration\": 0, \"redraw\": true}, \"fromcurrent\": true, \"mode\": \"immediate\", \"transition\": {\"duration\": 0, \"easing\": \"linear\"}}], \"label\": \"2020-07-20\", \"method\": \"animate\"}, {\"args\": [[\"2020-07-21\"], {\"frame\": {\"duration\": 0, \"redraw\": true}, \"fromcurrent\": true, \"mode\": \"immediate\", \"transition\": {\"duration\": 0, \"easing\": \"linear\"}}], \"label\": \"2020-07-21\", \"method\": \"animate\"}, {\"args\": [[\"2020-07-22\"], {\"frame\": {\"duration\": 0, \"redraw\": true}, \"fromcurrent\": true, \"mode\": \"immediate\", \"transition\": {\"duration\": 0, \"easing\": \"linear\"}}], \"label\": \"2020-07-22\", \"method\": \"animate\"}, {\"args\": [[\"2020-07-23\"], {\"frame\": {\"duration\": 0, \"redraw\": true}, \"fromcurrent\": true, \"mode\": \"immediate\", \"transition\": {\"duration\": 0, \"easing\": \"linear\"}}], \"label\": \"2020-07-23\", \"method\": \"animate\"}, {\"args\": [[\"2020-07-24\"], {\"frame\": {\"duration\": 0, \"redraw\": true}, \"fromcurrent\": true, \"mode\": \"immediate\", \"transition\": {\"duration\": 0, \"easing\": \"linear\"}}], \"label\": \"2020-07-24\", \"method\": \"animate\"}, {\"args\": [[\"2020-07-25\"], {\"frame\": {\"duration\": 0, \"redraw\": true}, \"fromcurrent\": true, \"mode\": \"immediate\", \"transition\": {\"duration\": 0, \"easing\": \"linear\"}}], \"label\": \"2020-07-25\", \"method\": \"animate\"}, {\"args\": [[\"2020-07-26\"], {\"frame\": {\"duration\": 0, \"redraw\": true}, \"fromcurrent\": true, \"mode\": \"immediate\", \"transition\": {\"duration\": 0, \"easing\": \"linear\"}}], \"label\": \"2020-07-26\", \"method\": \"animate\"}, {\"args\": [[\"2020-07-27\"], {\"frame\": {\"duration\": 0, \"redraw\": true}, \"fromcurrent\": true, \"mode\": \"immediate\", \"transition\": {\"duration\": 0, \"easing\": \"linear\"}}], \"label\": \"2020-07-27\", \"method\": \"animate\"}, {\"args\": [[\"2020-07-28\"], {\"frame\": {\"duration\": 0, \"redraw\": true}, \"fromcurrent\": true, \"mode\": \"immediate\", \"transition\": {\"duration\": 0, \"easing\": \"linear\"}}], \"label\": \"2020-07-28\", \"method\": \"animate\"}, {\"args\": [[\"2020-07-29\"], {\"frame\": {\"duration\": 0, \"redraw\": true}, \"fromcurrent\": true, \"mode\": \"immediate\", \"transition\": {\"duration\": 0, \"easing\": \"linear\"}}], \"label\": \"2020-07-29\", \"method\": \"animate\"}, {\"args\": [[\"2020-07-30\"], {\"frame\": {\"duration\": 0, \"redraw\": true}, \"fromcurrent\": true, \"mode\": \"immediate\", \"transition\": {\"duration\": 0, \"easing\": \"linear\"}}], \"label\": \"2020-07-30\", \"method\": \"animate\"}, {\"args\": [[\"2020-07-31\"], {\"frame\": {\"duration\": 0, \"redraw\": true}, \"fromcurrent\": true, \"mode\": \"immediate\", \"transition\": {\"duration\": 0, \"easing\": \"linear\"}}], \"label\": \"2020-07-31\", \"method\": \"animate\"}, {\"args\": [[\"2020-08-01\"], {\"frame\": {\"duration\": 0, \"redraw\": true}, \"fromcurrent\": true, \"mode\": \"immediate\", \"transition\": {\"duration\": 0, \"easing\": \"linear\"}}], \"label\": \"2020-08-01\", \"method\": \"animate\"}, {\"args\": [[\"2020-08-02\"], {\"frame\": {\"duration\": 0, \"redraw\": true}, \"fromcurrent\": true, \"mode\": \"immediate\", \"transition\": {\"duration\": 0, \"easing\": \"linear\"}}], \"label\": \"2020-08-02\", \"method\": \"animate\"}, {\"args\": [[\"2020-08-03\"], {\"frame\": {\"duration\": 0, \"redraw\": true}, \"fromcurrent\": true, \"mode\": \"immediate\", \"transition\": {\"duration\": 0, \"easing\": \"linear\"}}], \"label\": \"2020-08-03\", \"method\": \"animate\"}, {\"args\": [[\"2020-08-04\"], {\"frame\": {\"duration\": 0, \"redraw\": true}, \"fromcurrent\": true, \"mode\": \"immediate\", \"transition\": {\"duration\": 0, \"easing\": \"linear\"}}], \"label\": \"2020-08-04\", \"method\": \"animate\"}, {\"args\": [[\"2020-08-05\"], {\"frame\": {\"duration\": 0, \"redraw\": true}, \"fromcurrent\": true, \"mode\": \"immediate\", \"transition\": {\"duration\": 0, \"easing\": \"linear\"}}], \"label\": \"2020-08-05\", \"method\": \"animate\"}, {\"args\": [[\"2020-08-06\"], {\"frame\": {\"duration\": 0, \"redraw\": true}, \"fromcurrent\": true, \"mode\": \"immediate\", \"transition\": {\"duration\": 0, \"easing\": \"linear\"}}], \"label\": \"2020-08-06\", \"method\": \"animate\"}, {\"args\": [[\"2020-08-07\"], {\"frame\": {\"duration\": 0, \"redraw\": true}, \"fromcurrent\": true, \"mode\": \"immediate\", \"transition\": {\"duration\": 0, \"easing\": \"linear\"}}], \"label\": \"2020-08-07\", \"method\": \"animate\"}, {\"args\": [[\"2020-08-08\"], {\"frame\": {\"duration\": 0, \"redraw\": true}, \"fromcurrent\": true, \"mode\": \"immediate\", \"transition\": {\"duration\": 0, \"easing\": \"linear\"}}], \"label\": \"2020-08-08\", \"method\": \"animate\"}, {\"args\": [[\"2020-08-09\"], {\"frame\": {\"duration\": 0, \"redraw\": true}, \"fromcurrent\": true, \"mode\": \"immediate\", \"transition\": {\"duration\": 0, \"easing\": \"linear\"}}], \"label\": \"2020-08-09\", \"method\": \"animate\"}, {\"args\": [[\"2020-08-10\"], {\"frame\": {\"duration\": 0, \"redraw\": true}, \"fromcurrent\": true, \"mode\": \"immediate\", \"transition\": {\"duration\": 0, \"easing\": \"linear\"}}], \"label\": \"2020-08-10\", \"method\": \"animate\"}, {\"args\": [[\"2020-08-11\"], {\"frame\": {\"duration\": 0, \"redraw\": true}, \"fromcurrent\": true, \"mode\": \"immediate\", \"transition\": {\"duration\": 0, \"easing\": \"linear\"}}], \"label\": \"2020-08-11\", \"method\": \"animate\"}, {\"args\": [[\"2020-08-12\"], {\"frame\": {\"duration\": 0, \"redraw\": true}, \"fromcurrent\": true, \"mode\": \"immediate\", \"transition\": {\"duration\": 0, \"easing\": \"linear\"}}], \"label\": \"2020-08-12\", \"method\": \"animate\"}, {\"args\": [[\"2020-08-13\"], {\"frame\": {\"duration\": 0, \"redraw\": true}, \"fromcurrent\": true, \"mode\": \"immediate\", \"transition\": {\"duration\": 0, \"easing\": \"linear\"}}], \"label\": \"2020-08-13\", \"method\": \"animate\"}, {\"args\": [[\"2020-08-14\"], {\"frame\": {\"duration\": 0, \"redraw\": true}, \"fromcurrent\": true, \"mode\": \"immediate\", \"transition\": {\"duration\": 0, \"easing\": \"linear\"}}], \"label\": \"2020-08-14\", \"method\": \"animate\"}, {\"args\": [[\"2020-08-15\"], {\"frame\": {\"duration\": 0, \"redraw\": true}, \"fromcurrent\": true, \"mode\": \"immediate\", \"transition\": {\"duration\": 0, \"easing\": \"linear\"}}], \"label\": \"2020-08-15\", \"method\": \"animate\"}, {\"args\": [[\"2020-08-16\"], {\"frame\": {\"duration\": 0, \"redraw\": true}, \"fromcurrent\": true, \"mode\": \"immediate\", \"transition\": {\"duration\": 0, \"easing\": \"linear\"}}], \"label\": \"2020-08-16\", \"method\": \"animate\"}, {\"args\": [[\"2020-08-17\"], {\"frame\": {\"duration\": 0, \"redraw\": true}, \"fromcurrent\": true, \"mode\": \"immediate\", \"transition\": {\"duration\": 0, \"easing\": \"linear\"}}], \"label\": \"2020-08-17\", \"method\": \"animate\"}, {\"args\": [[\"2020-08-18\"], {\"frame\": {\"duration\": 0, \"redraw\": true}, \"fromcurrent\": true, \"mode\": \"immediate\", \"transition\": {\"duration\": 0, \"easing\": \"linear\"}}], \"label\": \"2020-08-18\", \"method\": \"animate\"}, {\"args\": [[\"2020-08-19\"], {\"frame\": {\"duration\": 0, \"redraw\": true}, \"fromcurrent\": true, \"mode\": \"immediate\", \"transition\": {\"duration\": 0, \"easing\": \"linear\"}}], \"label\": \"2020-08-19\", \"method\": \"animate\"}, {\"args\": [[\"2020-08-20\"], {\"frame\": {\"duration\": 0, \"redraw\": true}, \"fromcurrent\": true, \"mode\": \"immediate\", \"transition\": {\"duration\": 0, \"easing\": \"linear\"}}], \"label\": \"2020-08-20\", \"method\": \"animate\"}, {\"args\": [[\"2020-08-21\"], {\"frame\": {\"duration\": 0, \"redraw\": true}, \"fromcurrent\": true, \"mode\": \"immediate\", \"transition\": {\"duration\": 0, \"easing\": \"linear\"}}], \"label\": \"2020-08-21\", \"method\": \"animate\"}, {\"args\": [[\"2020-08-22\"], {\"frame\": {\"duration\": 0, \"redraw\": true}, \"fromcurrent\": true, \"mode\": \"immediate\", \"transition\": {\"duration\": 0, \"easing\": \"linear\"}}], \"label\": \"2020-08-22\", \"method\": \"animate\"}, {\"args\": [[\"2020-08-23\"], {\"frame\": {\"duration\": 0, \"redraw\": true}, \"fromcurrent\": true, \"mode\": \"immediate\", \"transition\": {\"duration\": 0, \"easing\": \"linear\"}}], \"label\": \"2020-08-23\", \"method\": \"animate\"}, {\"args\": [[\"2020-08-24\"], {\"frame\": {\"duration\": 0, \"redraw\": true}, \"fromcurrent\": true, \"mode\": \"immediate\", \"transition\": {\"duration\": 0, \"easing\": \"linear\"}}], \"label\": \"2020-08-24\", \"method\": \"animate\"}, {\"args\": [[\"2020-08-25\"], {\"frame\": {\"duration\": 0, \"redraw\": true}, \"fromcurrent\": true, \"mode\": \"immediate\", \"transition\": {\"duration\": 0, \"easing\": \"linear\"}}], \"label\": \"2020-08-25\", \"method\": \"animate\"}, {\"args\": [[\"2020-08-26\"], {\"frame\": {\"duration\": 0, \"redraw\": true}, \"fromcurrent\": true, \"mode\": \"immediate\", \"transition\": {\"duration\": 0, \"easing\": \"linear\"}}], \"label\": \"2020-08-26\", \"method\": \"animate\"}, {\"args\": [[\"2020-08-27\"], {\"frame\": {\"duration\": 0, \"redraw\": true}, \"fromcurrent\": true, \"mode\": \"immediate\", \"transition\": {\"duration\": 0, \"easing\": \"linear\"}}], \"label\": \"2020-08-27\", \"method\": \"animate\"}, {\"args\": [[\"2020-08-28\"], {\"frame\": {\"duration\": 0, \"redraw\": true}, \"fromcurrent\": true, \"mode\": \"immediate\", \"transition\": {\"duration\": 0, \"easing\": \"linear\"}}], \"label\": \"2020-08-28\", \"method\": \"animate\"}, {\"args\": [[\"2020-08-29\"], {\"frame\": {\"duration\": 0, \"redraw\": true}, \"fromcurrent\": true, \"mode\": \"immediate\", \"transition\": {\"duration\": 0, \"easing\": \"linear\"}}], \"label\": \"2020-08-29\", \"method\": \"animate\"}, {\"args\": [[\"2020-08-30\"], {\"frame\": {\"duration\": 0, \"redraw\": true}, \"fromcurrent\": true, \"mode\": \"immediate\", \"transition\": {\"duration\": 0, \"easing\": \"linear\"}}], \"label\": \"2020-08-30\", \"method\": \"animate\"}, {\"args\": [[\"2020-08-31\"], {\"frame\": {\"duration\": 0, \"redraw\": true}, \"fromcurrent\": true, \"mode\": \"immediate\", \"transition\": {\"duration\": 0, \"easing\": \"linear\"}}], \"label\": \"2020-08-31\", \"method\": \"animate\"}, {\"args\": [[\"2020-09-01\"], {\"frame\": {\"duration\": 0, \"redraw\": true}, \"fromcurrent\": true, \"mode\": \"immediate\", \"transition\": {\"duration\": 0, \"easing\": \"linear\"}}], \"label\": \"2020-09-01\", \"method\": \"animate\"}, {\"args\": [[\"2020-09-02\"], {\"frame\": {\"duration\": 0, \"redraw\": true}, \"fromcurrent\": true, \"mode\": \"immediate\", \"transition\": {\"duration\": 0, \"easing\": \"linear\"}}], \"label\": \"2020-09-02\", \"method\": \"animate\"}, {\"args\": [[\"2020-09-03\"], {\"frame\": {\"duration\": 0, \"redraw\": true}, \"fromcurrent\": true, \"mode\": \"immediate\", \"transition\": {\"duration\": 0, \"easing\": \"linear\"}}], \"label\": \"2020-09-03\", \"method\": \"animate\"}, {\"args\": [[\"2020-09-04\"], {\"frame\": {\"duration\": 0, \"redraw\": true}, \"fromcurrent\": true, \"mode\": \"immediate\", \"transition\": {\"duration\": 0, \"easing\": \"linear\"}}], \"label\": \"2020-09-04\", \"method\": \"animate\"}, {\"args\": [[\"2020-09-05\"], {\"frame\": {\"duration\": 0, \"redraw\": true}, \"fromcurrent\": true, \"mode\": \"immediate\", \"transition\": {\"duration\": 0, \"easing\": \"linear\"}}], \"label\": \"2020-09-05\", \"method\": \"animate\"}, {\"args\": [[\"2020-09-06\"], {\"frame\": {\"duration\": 0, \"redraw\": true}, \"fromcurrent\": true, \"mode\": \"immediate\", \"transition\": {\"duration\": 0, \"easing\": \"linear\"}}], \"label\": \"2020-09-06\", \"method\": \"animate\"}, {\"args\": [[\"2020-09-07\"], {\"frame\": {\"duration\": 0, \"redraw\": true}, \"fromcurrent\": true, \"mode\": \"immediate\", \"transition\": {\"duration\": 0, \"easing\": \"linear\"}}], \"label\": \"2020-09-07\", \"method\": \"animate\"}, {\"args\": [[\"2020-09-08\"], {\"frame\": {\"duration\": 0, \"redraw\": true}, \"fromcurrent\": true, \"mode\": \"immediate\", \"transition\": {\"duration\": 0, \"easing\": \"linear\"}}], \"label\": \"2020-09-08\", \"method\": \"animate\"}, {\"args\": [[\"2020-09-09\"], {\"frame\": {\"duration\": 0, \"redraw\": true}, \"fromcurrent\": true, \"mode\": \"immediate\", \"transition\": {\"duration\": 0, \"easing\": \"linear\"}}], \"label\": \"2020-09-09\", \"method\": \"animate\"}, {\"args\": [[\"2020-09-10\"], {\"frame\": {\"duration\": 0, \"redraw\": true}, \"fromcurrent\": true, \"mode\": \"immediate\", \"transition\": {\"duration\": 0, \"easing\": \"linear\"}}], \"label\": \"2020-09-10\", \"method\": \"animate\"}, {\"args\": [[\"2020-09-11\"], {\"frame\": {\"duration\": 0, \"redraw\": true}, \"fromcurrent\": true, \"mode\": \"immediate\", \"transition\": {\"duration\": 0, \"easing\": \"linear\"}}], \"label\": \"2020-09-11\", \"method\": \"animate\"}, {\"args\": [[\"2020-09-12\"], {\"frame\": {\"duration\": 0, \"redraw\": true}, \"fromcurrent\": true, \"mode\": \"immediate\", \"transition\": {\"duration\": 0, \"easing\": \"linear\"}}], \"label\": \"2020-09-12\", \"method\": \"animate\"}, {\"args\": [[\"2020-09-13\"], {\"frame\": {\"duration\": 0, \"redraw\": true}, \"fromcurrent\": true, \"mode\": \"immediate\", \"transition\": {\"duration\": 0, \"easing\": \"linear\"}}], \"label\": \"2020-09-13\", \"method\": \"animate\"}, {\"args\": [[\"2020-09-14\"], {\"frame\": {\"duration\": 0, \"redraw\": true}, \"fromcurrent\": true, \"mode\": \"immediate\", \"transition\": {\"duration\": 0, \"easing\": \"linear\"}}], \"label\": \"2020-09-14\", \"method\": \"animate\"}, {\"args\": [[\"2020-09-15\"], {\"frame\": {\"duration\": 0, \"redraw\": true}, \"fromcurrent\": true, \"mode\": \"immediate\", \"transition\": {\"duration\": 0, \"easing\": \"linear\"}}], \"label\": \"2020-09-15\", \"method\": \"animate\"}, {\"args\": [[\"2020-09-16\"], {\"frame\": {\"duration\": 0, \"redraw\": true}, \"fromcurrent\": true, \"mode\": \"immediate\", \"transition\": {\"duration\": 0, \"easing\": \"linear\"}}], \"label\": \"2020-09-16\", \"method\": \"animate\"}, {\"args\": [[\"2020-09-17\"], {\"frame\": {\"duration\": 0, \"redraw\": true}, \"fromcurrent\": true, \"mode\": \"immediate\", \"transition\": {\"duration\": 0, \"easing\": \"linear\"}}], \"label\": \"2020-09-17\", \"method\": \"animate\"}, {\"args\": [[\"2020-09-18\"], {\"frame\": {\"duration\": 0, \"redraw\": true}, \"fromcurrent\": true, \"mode\": \"immediate\", \"transition\": {\"duration\": 0, \"easing\": \"linear\"}}], \"label\": \"2020-09-18\", \"method\": \"animate\"}, {\"args\": [[\"2020-09-19\"], {\"frame\": {\"duration\": 0, \"redraw\": true}, \"fromcurrent\": true, \"mode\": \"immediate\", \"transition\": {\"duration\": 0, \"easing\": \"linear\"}}], \"label\": \"2020-09-19\", \"method\": \"animate\"}, {\"args\": [[\"2020-09-20\"], {\"frame\": {\"duration\": 0, \"redraw\": true}, \"fromcurrent\": true, \"mode\": \"immediate\", \"transition\": {\"duration\": 0, \"easing\": \"linear\"}}], \"label\": \"2020-09-20\", \"method\": \"animate\"}, {\"args\": [[\"2020-09-21\"], {\"frame\": {\"duration\": 0, \"redraw\": true}, \"fromcurrent\": true, \"mode\": \"immediate\", \"transition\": {\"duration\": 0, \"easing\": \"linear\"}}], \"label\": \"2020-09-21\", \"method\": \"animate\"}, {\"args\": [[\"2020-09-22\"], {\"frame\": {\"duration\": 0, \"redraw\": true}, \"fromcurrent\": true, \"mode\": \"immediate\", \"transition\": {\"duration\": 0, \"easing\": \"linear\"}}], \"label\": \"2020-09-22\", \"method\": \"animate\"}, {\"args\": [[\"2020-09-23\"], {\"frame\": {\"duration\": 0, \"redraw\": true}, \"fromcurrent\": true, \"mode\": \"immediate\", \"transition\": {\"duration\": 0, \"easing\": \"linear\"}}], \"label\": \"2020-09-23\", \"method\": \"animate\"}, {\"args\": [[\"2020-09-24\"], {\"frame\": {\"duration\": 0, \"redraw\": true}, \"fromcurrent\": true, \"mode\": \"immediate\", \"transition\": {\"duration\": 0, \"easing\": \"linear\"}}], \"label\": \"2020-09-24\", \"method\": \"animate\"}, {\"args\": [[\"2020-09-25\"], {\"frame\": {\"duration\": 0, \"redraw\": true}, \"fromcurrent\": true, \"mode\": \"immediate\", \"transition\": {\"duration\": 0, \"easing\": \"linear\"}}], \"label\": \"2020-09-25\", \"method\": \"animate\"}, {\"args\": [[\"2020-09-26\"], {\"frame\": {\"duration\": 0, \"redraw\": true}, \"fromcurrent\": true, \"mode\": \"immediate\", \"transition\": {\"duration\": 0, \"easing\": \"linear\"}}], \"label\": \"2020-09-26\", \"method\": \"animate\"}, {\"args\": [[\"2020-09-27\"], {\"frame\": {\"duration\": 0, \"redraw\": true}, \"fromcurrent\": true, \"mode\": \"immediate\", \"transition\": {\"duration\": 0, \"easing\": \"linear\"}}], \"label\": \"2020-09-27\", \"method\": \"animate\"}, {\"args\": [[\"2020-09-28\"], {\"frame\": {\"duration\": 0, \"redraw\": true}, \"fromcurrent\": true, \"mode\": \"immediate\", \"transition\": {\"duration\": 0, \"easing\": \"linear\"}}], \"label\": \"2020-09-28\", \"method\": \"animate\"}, {\"args\": [[\"2020-09-29\"], {\"frame\": {\"duration\": 0, \"redraw\": true}, \"fromcurrent\": true, \"mode\": \"immediate\", \"transition\": {\"duration\": 0, \"easing\": \"linear\"}}], \"label\": \"2020-09-29\", \"method\": \"animate\"}, {\"args\": [[\"2020-09-30\"], {\"frame\": {\"duration\": 0, \"redraw\": true}, \"fromcurrent\": true, \"mode\": \"immediate\", \"transition\": {\"duration\": 0, \"easing\": \"linear\"}}], \"label\": \"2020-09-30\", \"method\": \"animate\"}, {\"args\": [[\"2020-10-01\"], {\"frame\": {\"duration\": 0, \"redraw\": true}, \"fromcurrent\": true, \"mode\": \"immediate\", \"transition\": {\"duration\": 0, \"easing\": \"linear\"}}], \"label\": \"2020-10-01\", \"method\": \"animate\"}, {\"args\": [[\"2020-10-02\"], {\"frame\": {\"duration\": 0, \"redraw\": true}, \"fromcurrent\": true, \"mode\": \"immediate\", \"transition\": {\"duration\": 0, \"easing\": \"linear\"}}], \"label\": \"2020-10-02\", \"method\": \"animate\"}, {\"args\": [[\"2020-10-03\"], {\"frame\": {\"duration\": 0, \"redraw\": true}, \"fromcurrent\": true, \"mode\": \"immediate\", \"transition\": {\"duration\": 0, \"easing\": \"linear\"}}], \"label\": \"2020-10-03\", \"method\": \"animate\"}, {\"args\": [[\"2020-10-04\"], {\"frame\": {\"duration\": 0, \"redraw\": true}, \"fromcurrent\": true, \"mode\": \"immediate\", \"transition\": {\"duration\": 0, \"easing\": \"linear\"}}], \"label\": \"2020-10-04\", \"method\": \"animate\"}, {\"args\": [[\"2020-10-05\"], {\"frame\": {\"duration\": 0, \"redraw\": true}, \"fromcurrent\": true, \"mode\": \"immediate\", \"transition\": {\"duration\": 0, \"easing\": \"linear\"}}], \"label\": \"2020-10-05\", \"method\": \"animate\"}, {\"args\": [[\"2020-10-06\"], {\"frame\": {\"duration\": 0, \"redraw\": true}, \"fromcurrent\": true, \"mode\": \"immediate\", \"transition\": {\"duration\": 0, \"easing\": \"linear\"}}], \"label\": \"2020-10-06\", \"method\": \"animate\"}, {\"args\": [[\"2020-10-07\"], {\"frame\": {\"duration\": 0, \"redraw\": true}, \"fromcurrent\": true, \"mode\": \"immediate\", \"transition\": {\"duration\": 0, \"easing\": \"linear\"}}], \"label\": \"2020-10-07\", \"method\": \"animate\"}, {\"args\": [[\"2020-10-08\"], {\"frame\": {\"duration\": 0, \"redraw\": true}, \"fromcurrent\": true, \"mode\": \"immediate\", \"transition\": {\"duration\": 0, \"easing\": \"linear\"}}], \"label\": \"2020-10-08\", \"method\": \"animate\"}, {\"args\": [[\"2020-10-09\"], {\"frame\": {\"duration\": 0, \"redraw\": true}, \"fromcurrent\": true, \"mode\": \"immediate\", \"transition\": {\"duration\": 0, \"easing\": \"linear\"}}], \"label\": \"2020-10-09\", \"method\": \"animate\"}, {\"args\": [[\"2020-10-10\"], {\"frame\": {\"duration\": 0, \"redraw\": true}, \"fromcurrent\": true, \"mode\": \"immediate\", \"transition\": {\"duration\": 0, \"easing\": \"linear\"}}], \"label\": \"2020-10-10\", \"method\": \"animate\"}, {\"args\": [[\"2020-10-11\"], {\"frame\": {\"duration\": 0, \"redraw\": true}, \"fromcurrent\": true, \"mode\": \"immediate\", \"transition\": {\"duration\": 0, \"easing\": \"linear\"}}], \"label\": \"2020-10-11\", \"method\": \"animate\"}, {\"args\": [[\"2020-10-12\"], {\"frame\": {\"duration\": 0, \"redraw\": true}, \"fromcurrent\": true, \"mode\": \"immediate\", \"transition\": {\"duration\": 0, \"easing\": \"linear\"}}], \"label\": \"2020-10-12\", \"method\": \"animate\"}, {\"args\": [[\"2020-10-13\"], {\"frame\": {\"duration\": 0, \"redraw\": true}, \"fromcurrent\": true, \"mode\": \"immediate\", \"transition\": {\"duration\": 0, \"easing\": \"linear\"}}], \"label\": \"2020-10-13\", \"method\": \"animate\"}, {\"args\": [[\"2020-10-14\"], {\"frame\": {\"duration\": 0, \"redraw\": true}, \"fromcurrent\": true, \"mode\": \"immediate\", \"transition\": {\"duration\": 0, \"easing\": \"linear\"}}], \"label\": \"2020-10-14\", \"method\": \"animate\"}, {\"args\": [[\"2020-10-15\"], {\"frame\": {\"duration\": 0, \"redraw\": true}, \"fromcurrent\": true, \"mode\": \"immediate\", \"transition\": {\"duration\": 0, \"easing\": \"linear\"}}], \"label\": \"2020-10-15\", \"method\": \"animate\"}, {\"args\": [[\"2020-10-16\"], {\"frame\": {\"duration\": 0, \"redraw\": true}, \"fromcurrent\": true, \"mode\": \"immediate\", \"transition\": {\"duration\": 0, \"easing\": \"linear\"}}], \"label\": \"2020-10-16\", \"method\": \"animate\"}, {\"args\": [[\"2020-10-17\"], {\"frame\": {\"duration\": 0, \"redraw\": true}, \"fromcurrent\": true, \"mode\": \"immediate\", \"transition\": {\"duration\": 0, \"easing\": \"linear\"}}], \"label\": \"2020-10-17\", \"method\": \"animate\"}, {\"args\": [[\"2020-10-18\"], {\"frame\": {\"duration\": 0, \"redraw\": true}, \"fromcurrent\": true, \"mode\": \"immediate\", \"transition\": {\"duration\": 0, \"easing\": \"linear\"}}], \"label\": \"2020-10-18\", \"method\": \"animate\"}, {\"args\": [[\"2020-10-19\"], {\"frame\": {\"duration\": 0, \"redraw\": true}, \"fromcurrent\": true, \"mode\": \"immediate\", \"transition\": {\"duration\": 0, \"easing\": \"linear\"}}], \"label\": \"2020-10-19\", \"method\": \"animate\"}, {\"args\": [[\"2020-10-20\"], {\"frame\": {\"duration\": 0, \"redraw\": true}, \"fromcurrent\": true, \"mode\": \"immediate\", \"transition\": {\"duration\": 0, \"easing\": \"linear\"}}], \"label\": \"2020-10-20\", \"method\": \"animate\"}, {\"args\": [[\"2020-10-21\"], {\"frame\": {\"duration\": 0, \"redraw\": true}, \"fromcurrent\": true, \"mode\": \"immediate\", \"transition\": {\"duration\": 0, \"easing\": \"linear\"}}], \"label\": \"2020-10-21\", \"method\": \"animate\"}, {\"args\": [[\"2020-10-22\"], {\"frame\": {\"duration\": 0, \"redraw\": true}, \"fromcurrent\": true, \"mode\": \"immediate\", \"transition\": {\"duration\": 0, \"easing\": \"linear\"}}], \"label\": \"2020-10-22\", \"method\": \"animate\"}, {\"args\": [[\"2020-10-23\"], {\"frame\": {\"duration\": 0, \"redraw\": true}, \"fromcurrent\": true, \"mode\": \"immediate\", \"transition\": {\"duration\": 0, \"easing\": \"linear\"}}], \"label\": \"2020-10-23\", \"method\": \"animate\"}, {\"args\": [[\"2020-10-24\"], {\"frame\": {\"duration\": 0, \"redraw\": true}, \"fromcurrent\": true, \"mode\": \"immediate\", \"transition\": {\"duration\": 0, \"easing\": \"linear\"}}], \"label\": \"2020-10-24\", \"method\": \"animate\"}, {\"args\": [[\"2020-10-25\"], {\"frame\": {\"duration\": 0, \"redraw\": true}, \"fromcurrent\": true, \"mode\": \"immediate\", \"transition\": {\"duration\": 0, \"easing\": \"linear\"}}], \"label\": \"2020-10-25\", \"method\": \"animate\"}, {\"args\": [[\"2020-10-26\"], {\"frame\": {\"duration\": 0, \"redraw\": true}, \"fromcurrent\": true, \"mode\": \"immediate\", \"transition\": {\"duration\": 0, \"easing\": \"linear\"}}], \"label\": \"2020-10-26\", \"method\": \"animate\"}, {\"args\": [[\"2020-10-27\"], {\"frame\": {\"duration\": 0, \"redraw\": true}, \"fromcurrent\": true, \"mode\": \"immediate\", \"transition\": {\"duration\": 0, \"easing\": \"linear\"}}], \"label\": \"2020-10-27\", \"method\": \"animate\"}, {\"args\": [[\"2020-10-28\"], {\"frame\": {\"duration\": 0, \"redraw\": true}, \"fromcurrent\": true, \"mode\": \"immediate\", \"transition\": {\"duration\": 0, \"easing\": \"linear\"}}], \"label\": \"2020-10-28\", \"method\": \"animate\"}, {\"args\": [[\"2020-10-29\"], {\"frame\": {\"duration\": 0, \"redraw\": true}, \"fromcurrent\": true, \"mode\": \"immediate\", \"transition\": {\"duration\": 0, \"easing\": \"linear\"}}], \"label\": \"2020-10-29\", \"method\": \"animate\"}, {\"args\": [[\"2020-10-30\"], {\"frame\": {\"duration\": 0, \"redraw\": true}, \"fromcurrent\": true, \"mode\": \"immediate\", \"transition\": {\"duration\": 0, \"easing\": \"linear\"}}], \"label\": \"2020-10-30\", \"method\": \"animate\"}, {\"args\": [[\"2020-10-31\"], {\"frame\": {\"duration\": 0, \"redraw\": true}, \"fromcurrent\": true, \"mode\": \"immediate\", \"transition\": {\"duration\": 0, \"easing\": \"linear\"}}], \"label\": \"2020-10-31\", \"method\": \"animate\"}, {\"args\": [[\"2020-11-01\"], {\"frame\": {\"duration\": 0, \"redraw\": true}, \"fromcurrent\": true, \"mode\": \"immediate\", \"transition\": {\"duration\": 0, \"easing\": \"linear\"}}], \"label\": \"2020-11-01\", \"method\": \"animate\"}, {\"args\": [[\"2020-11-02\"], {\"frame\": {\"duration\": 0, \"redraw\": true}, \"fromcurrent\": true, \"mode\": \"immediate\", \"transition\": {\"duration\": 0, \"easing\": \"linear\"}}], \"label\": \"2020-11-02\", \"method\": \"animate\"}, {\"args\": [[\"2020-11-03\"], {\"frame\": {\"duration\": 0, \"redraw\": true}, \"fromcurrent\": true, \"mode\": \"immediate\", \"transition\": {\"duration\": 0, \"easing\": \"linear\"}}], \"label\": \"2020-11-03\", \"method\": \"animate\"}, {\"args\": [[\"2020-11-04\"], {\"frame\": {\"duration\": 0, \"redraw\": true}, \"fromcurrent\": true, \"mode\": \"immediate\", \"transition\": {\"duration\": 0, \"easing\": \"linear\"}}], \"label\": \"2020-11-04\", \"method\": \"animate\"}, {\"args\": [[\"2020-11-05\"], {\"frame\": {\"duration\": 0, \"redraw\": true}, \"fromcurrent\": true, \"mode\": \"immediate\", \"transition\": {\"duration\": 0, \"easing\": \"linear\"}}], \"label\": \"2020-11-05\", \"method\": \"animate\"}], \"x\": 0.1, \"xanchor\": \"left\", \"y\": 0, \"yanchor\": \"top\"}], \"template\": {\"data\": {\"bar\": [{\"error_x\": {\"color\": \"#2a3f5f\"}, \"error_y\": {\"color\": \"#2a3f5f\"}, \"marker\": {\"line\": {\"color\": \"#E5ECF6\", \"width\": 0.5}}, \"type\": \"bar\"}], \"barpolar\": [{\"marker\": {\"line\": {\"color\": \"#E5ECF6\", \"width\": 0.5}}, \"type\": \"barpolar\"}], \"carpet\": [{\"aaxis\": {\"endlinecolor\": \"#2a3f5f\", \"gridcolor\": \"white\", \"linecolor\": \"white\", \"minorgridcolor\": \"white\", \"startlinecolor\": \"#2a3f5f\"}, \"baxis\": {\"endlinecolor\": \"#2a3f5f\", \"gridcolor\": \"white\", \"linecolor\": \"white\", \"minorgridcolor\": \"white\", \"startlinecolor\": \"#2a3f5f\"}, \"type\": \"carpet\"}], \"choropleth\": [{\"colorbar\": {\"outlinewidth\": 0, \"ticks\": \"\"}, \"type\": \"choropleth\"}], \"contour\": [{\"colorbar\": {\"outlinewidth\": 0, \"ticks\": \"\"}, \"colorscale\": [[0.0, \"#0d0887\"], [0.1111111111111111, \"#46039f\"], [0.2222222222222222, \"#7201a8\"], [0.3333333333333333, \"#9c179e\"], [0.4444444444444444, \"#bd3786\"], [0.5555555555555556, \"#d8576b\"], [0.6666666666666666, \"#ed7953\"], [0.7777777777777778, \"#fb9f3a\"], [0.8888888888888888, \"#fdca26\"], [1.0, \"#f0f921\"]], \"type\": \"contour\"}], \"contourcarpet\": [{\"colorbar\": {\"outlinewidth\": 0, \"ticks\": \"\"}, \"type\": \"contourcarpet\"}], \"heatmap\": [{\"colorbar\": {\"outlinewidth\": 0, \"ticks\": \"\"}, \"colorscale\": [[0.0, \"#0d0887\"], [0.1111111111111111, \"#46039f\"], [0.2222222222222222, \"#7201a8\"], [0.3333333333333333, \"#9c179e\"], [0.4444444444444444, \"#bd3786\"], [0.5555555555555556, \"#d8576b\"], [0.6666666666666666, \"#ed7953\"], [0.7777777777777778, \"#fb9f3a\"], [0.8888888888888888, \"#fdca26\"], [1.0, \"#f0f921\"]], \"type\": \"heatmap\"}], \"heatmapgl\": [{\"colorbar\": {\"outlinewidth\": 0, \"ticks\": \"\"}, \"colorscale\": [[0.0, \"#0d0887\"], [0.1111111111111111, \"#46039f\"], [0.2222222222222222, \"#7201a8\"], [0.3333333333333333, \"#9c179e\"], [0.4444444444444444, \"#bd3786\"], [0.5555555555555556, \"#d8576b\"], [0.6666666666666666, \"#ed7953\"], [0.7777777777777778, \"#fb9f3a\"], [0.8888888888888888, \"#fdca26\"], [1.0, \"#f0f921\"]], \"type\": \"heatmapgl\"}], \"histogram\": [{\"marker\": {\"colorbar\": {\"outlinewidth\": 0, \"ticks\": \"\"}}, \"type\": \"histogram\"}], \"histogram2d\": [{\"colorbar\": {\"outlinewidth\": 0, \"ticks\": \"\"}, \"colorscale\": [[0.0, \"#0d0887\"], [0.1111111111111111, \"#46039f\"], [0.2222222222222222, \"#7201a8\"], [0.3333333333333333, \"#9c179e\"], [0.4444444444444444, \"#bd3786\"], [0.5555555555555556, \"#d8576b\"], [0.6666666666666666, \"#ed7953\"], [0.7777777777777778, \"#fb9f3a\"], [0.8888888888888888, \"#fdca26\"], [1.0, \"#f0f921\"]], \"type\": \"histogram2d\"}], \"histogram2dcontour\": [{\"colorbar\": {\"outlinewidth\": 0, \"ticks\": \"\"}, \"colorscale\": [[0.0, \"#0d0887\"], [0.1111111111111111, \"#46039f\"], [0.2222222222222222, \"#7201a8\"], [0.3333333333333333, \"#9c179e\"], [0.4444444444444444, \"#bd3786\"], [0.5555555555555556, \"#d8576b\"], [0.6666666666666666, \"#ed7953\"], [0.7777777777777778, \"#fb9f3a\"], [0.8888888888888888, \"#fdca26\"], [1.0, \"#f0f921\"]], \"type\": \"histogram2dcontour\"}], \"mesh3d\": [{\"colorbar\": {\"outlinewidth\": 0, \"ticks\": \"\"}, \"type\": \"mesh3d\"}], \"parcoords\": [{\"line\": {\"colorbar\": {\"outlinewidth\": 0, \"ticks\": \"\"}}, \"type\": \"parcoords\"}], \"pie\": [{\"automargin\": true, \"type\": \"pie\"}], \"scatter\": [{\"marker\": {\"colorbar\": {\"outlinewidth\": 0, \"ticks\": \"\"}}, \"type\": \"scatter\"}], \"scatter3d\": [{\"line\": {\"colorbar\": {\"outlinewidth\": 0, \"ticks\": \"\"}}, \"marker\": {\"colorbar\": {\"outlinewidth\": 0, \"ticks\": \"\"}}, \"type\": \"scatter3d\"}], \"scattercarpet\": [{\"marker\": {\"colorbar\": {\"outlinewidth\": 0, \"ticks\": \"\"}}, \"type\": \"scattercarpet\"}], \"scattergeo\": [{\"marker\": {\"colorbar\": {\"outlinewidth\": 0, \"ticks\": \"\"}}, \"type\": \"scattergeo\"}], \"scattergl\": [{\"marker\": {\"colorbar\": {\"outlinewidth\": 0, \"ticks\": \"\"}}, \"type\": \"scattergl\"}], \"scattermapbox\": [{\"marker\": {\"colorbar\": {\"outlinewidth\": 0, \"ticks\": \"\"}}, \"type\": \"scattermapbox\"}], \"scatterpolar\": [{\"marker\": {\"colorbar\": {\"outlinewidth\": 0, \"ticks\": \"\"}}, \"type\": \"scatterpolar\"}], \"scatterpolargl\": [{\"marker\": {\"colorbar\": {\"outlinewidth\": 0, \"ticks\": \"\"}}, \"type\": \"scatterpolargl\"}], \"scatterternary\": [{\"marker\": {\"colorbar\": {\"outlinewidth\": 0, \"ticks\": \"\"}}, \"type\": \"scatterternary\"}], \"surface\": [{\"colorbar\": {\"outlinewidth\": 0, \"ticks\": \"\"}, \"colorscale\": [[0.0, \"#0d0887\"], [0.1111111111111111, \"#46039f\"], [0.2222222222222222, \"#7201a8\"], [0.3333333333333333, \"#9c179e\"], [0.4444444444444444, \"#bd3786\"], [0.5555555555555556, \"#d8576b\"], [0.6666666666666666, \"#ed7953\"], [0.7777777777777778, \"#fb9f3a\"], [0.8888888888888888, \"#fdca26\"], [1.0, \"#f0f921\"]], \"type\": \"surface\"}], \"table\": [{\"cells\": {\"fill\": {\"color\": \"#EBF0F8\"}, \"line\": {\"color\": \"white\"}}, \"header\": {\"fill\": {\"color\": \"#C8D4E3\"}, \"line\": {\"color\": \"white\"}}, \"type\": \"table\"}]}, \"layout\": {\"annotationdefaults\": {\"arrowcolor\": \"#2a3f5f\", \"arrowhead\": 0, \"arrowwidth\": 1}, \"coloraxis\": {\"colorbar\": {\"outlinewidth\": 0, \"ticks\": \"\"}}, \"colorscale\": {\"diverging\": [[0, \"#8e0152\"], [0.1, \"#c51b7d\"], [0.2, \"#de77ae\"], [0.3, \"#f1b6da\"], [0.4, \"#fde0ef\"], [0.5, \"#f7f7f7\"], [0.6, \"#e6f5d0\"], [0.7, \"#b8e186\"], [0.8, \"#7fbc41\"], [0.9, \"#4d9221\"], [1, \"#276419\"]], \"sequential\": [[0.0, \"#0d0887\"], [0.1111111111111111, \"#46039f\"], [0.2222222222222222, \"#7201a8\"], [0.3333333333333333, \"#9c179e\"], [0.4444444444444444, \"#bd3786\"], [0.5555555555555556, \"#d8576b\"], [0.6666666666666666, \"#ed7953\"], [0.7777777777777778, \"#fb9f3a\"], [0.8888888888888888, \"#fdca26\"], [1.0, \"#f0f921\"]], \"sequentialminus\": [[0.0, \"#0d0887\"], [0.1111111111111111, \"#46039f\"], [0.2222222222222222, \"#7201a8\"], [0.3333333333333333, \"#9c179e\"], [0.4444444444444444, \"#bd3786\"], [0.5555555555555556, \"#d8576b\"], [0.6666666666666666, \"#ed7953\"], [0.7777777777777778, \"#fb9f3a\"], [0.8888888888888888, \"#fdca26\"], [1.0, \"#f0f921\"]]}, \"colorway\": [\"#636efa\", \"#EF553B\", \"#00cc96\", \"#ab63fa\", \"#FFA15A\", \"#19d3f3\", \"#FF6692\", \"#B6E880\", \"#FF97FF\", \"#FECB52\"], \"font\": {\"color\": \"#2a3f5f\"}, \"geo\": {\"bgcolor\": \"white\", \"lakecolor\": \"white\", \"landcolor\": \"#E5ECF6\", \"showlakes\": true, \"showland\": true, \"subunitcolor\": \"white\"}, \"hoverlabel\": {\"align\": \"left\"}, \"hovermode\": \"closest\", \"mapbox\": {\"style\": \"light\"}, \"paper_bgcolor\": \"white\", \"plot_bgcolor\": \"#E5ECF6\", \"polar\": {\"angularaxis\": {\"gridcolor\": \"white\", \"linecolor\": \"white\", \"ticks\": \"\"}, \"bgcolor\": \"#E5ECF6\", \"radialaxis\": {\"gridcolor\": \"white\", \"linecolor\": \"white\", \"ticks\": \"\"}}, \"scene\": {\"xaxis\": {\"backgroundcolor\": \"#E5ECF6\", \"gridcolor\": \"white\", \"gridwidth\": 2, \"linecolor\": \"white\", \"showbackground\": true, \"ticks\": \"\", \"zerolinecolor\": \"white\"}, \"yaxis\": {\"backgroundcolor\": \"#E5ECF6\", \"gridcolor\": \"white\", \"gridwidth\": 2, \"linecolor\": \"white\", \"showbackground\": true, \"ticks\": \"\", \"zerolinecolor\": \"white\"}, \"zaxis\": {\"backgroundcolor\": \"#E5ECF6\", \"gridcolor\": \"white\", \"gridwidth\": 2, \"linecolor\": \"white\", \"showbackground\": true, \"ticks\": \"\", \"zerolinecolor\": \"white\"}}, \"shapedefaults\": {\"line\": {\"color\": \"#2a3f5f\"}}, \"ternary\": {\"aaxis\": {\"gridcolor\": \"white\", \"linecolor\": \"white\", \"ticks\": \"\"}, \"baxis\": {\"gridcolor\": \"white\", \"linecolor\": \"white\", \"ticks\": \"\"}, \"bgcolor\": \"#E5ECF6\", \"caxis\": {\"gridcolor\": \"white\", \"linecolor\": \"white\", \"ticks\": \"\"}}, \"title\": {\"x\": 0.05}, \"xaxis\": {\"automargin\": true, \"gridcolor\": \"white\", \"linecolor\": \"white\", \"ticks\": \"\", \"title\": {\"standoff\": 15}, \"zerolinecolor\": \"white\", \"zerolinewidth\": 2}, \"yaxis\": {\"automargin\": true, \"gridcolor\": \"white\", \"linecolor\": \"white\", \"ticks\": \"\", \"title\": {\"standoff\": 15}, \"zerolinecolor\": \"white\", \"zerolinewidth\": 2}}}, \"title\": {\"text\": \"Daily new COVID cases\"}, \"updatemenus\": [{\"buttons\": [{\"args\": [null, {\"frame\": {\"duration\": 500, \"redraw\": true}, \"fromcurrent\": true, \"mode\": \"immediate\", \"transition\": {\"duration\": 500, \"easing\": \"linear\"}}], \"label\": \"&#9654;\", \"method\": \"animate\"}, {\"args\": [[null], {\"frame\": {\"duration\": 0, \"redraw\": true}, \"fromcurrent\": true, \"mode\": \"immediate\", \"transition\": {\"duration\": 0, \"easing\": \"linear\"}}], \"label\": \"&#9724;\", \"method\": \"animate\"}], \"direction\": \"left\", \"pad\": {\"r\": 10, \"t\": 70}, \"showactive\": false, \"type\": \"buttons\", \"x\": 0.1, \"xanchor\": \"right\", \"y\": 0, \"yanchor\": \"top\"}]},                        {\"responsive\": true}                    ).then(function(){\n",
       "                            Plotly.addFrames('59a0f29d-bc26-436c-a0ac-5545fe180279', [{\"data\": [{\"coloraxis\": \"coloraxis\", \"geo\": \"geo\", \"hovertemplate\": \"<b>%{hovertext}</b><br><br>date=2020-01-22<br>iso_code=%{location}<br>new_cases=%{z}<extra></extra>\", \"hovertext\": [\"Australia\", \"India\", \"Russia\", \"United States\", \"Brazil\"], \"locations\": [\"AUS\", \"IND\", \"RUS\", \"USA\", \"BRA\"], \"name\": \"\", \"z\": [0.0, 0.0, 0.0, 0.0, 0.0], \"type\": \"choropleth\"}], \"name\": \"2020-01-22\"}, {\"data\": [{\"coloraxis\": \"coloraxis\", \"geo\": \"geo\", \"hovertemplate\": \"<b>%{hovertext}</b><br><br>date=2020-01-23<br>iso_code=%{location}<br>new_cases=%{z}<extra></extra>\", \"hovertext\": [\"United States\", \"Australia\", \"India\", \"Brazil\", \"Russia\"], \"locations\": [\"USA\", \"AUS\", \"IND\", \"BRA\", \"RUS\"], \"name\": \"\", \"z\": [0.0, 0.0, 0.0, 0.0, 0.0], \"type\": \"choropleth\"}], \"name\": \"2020-01-23\"}, {\"data\": [{\"coloraxis\": \"coloraxis\", \"geo\": \"geo\", \"hovertemplate\": \"<b>%{hovertext}</b><br><br>date=2020-01-24<br>iso_code=%{location}<br>new_cases=%{z}<extra></extra>\", \"hovertext\": [\"Australia\", \"Brazil\", \"United States\", \"India\", \"Russia\"], \"locations\": [\"AUS\", \"BRA\", \"USA\", \"IND\", \"RUS\"], \"name\": \"\", \"z\": [0.0, 0.0, 0.0, 0.0, 0.0], \"type\": \"choropleth\"}], \"name\": \"2020-01-24\"}, {\"data\": [{\"coloraxis\": \"coloraxis\", \"geo\": \"geo\", \"hovertemplate\": \"<b>%{hovertext}</b><br><br>date=2020-01-25<br>iso_code=%{location}<br>new_cases=%{z}<extra></extra>\", \"hovertext\": [\"Brazil\", \"India\", \"Australia\", \"United States\", \"Russia\"], \"locations\": [\"BRA\", \"IND\", \"AUS\", \"USA\", \"RUS\"], \"name\": \"\", \"z\": [0.0, 0.0, 1.0, 1.0, 0.0], \"type\": \"choropleth\"}], \"name\": \"2020-01-25\"}, {\"data\": [{\"coloraxis\": \"coloraxis\", \"geo\": \"geo\", \"hovertemplate\": \"<b>%{hovertext}</b><br><br>date=2020-01-26<br>iso_code=%{location}<br>new_cases=%{z}<extra></extra>\", \"hovertext\": [\"Australia\", \"United States\", \"India\", \"Brazil\", \"Russia\"], \"locations\": [\"AUS\", \"USA\", \"IND\", \"BRA\", \"RUS\"], \"name\": \"\", \"z\": [3.0, 0.0, 0.0, 0.0, 0.0], \"type\": \"choropleth\"}], \"name\": \"2020-01-26\"}, {\"data\": [{\"coloraxis\": \"coloraxis\", \"geo\": \"geo\", \"hovertemplate\": \"<b>%{hovertext}</b><br><br>date=2020-01-27<br>iso_code=%{location}<br>new_cases=%{z}<extra></extra>\", \"hovertext\": [\"India\", \"Brazil\", \"Australia\", \"Russia\", \"United States\"], \"locations\": [\"IND\", \"BRA\", \"AUS\", \"RUS\", \"USA\"], \"name\": \"\", \"z\": [0.0, 0.0, 0.0, 0.0, 3.0], \"type\": \"choropleth\"}], \"name\": \"2020-01-27\"}, {\"data\": [{\"coloraxis\": \"coloraxis\", \"geo\": \"geo\", \"hovertemplate\": \"<b>%{hovertext}</b><br><br>date=2020-01-28<br>iso_code=%{location}<br>new_cases=%{z}<extra></extra>\", \"hovertext\": [\"United States\", \"Australia\", \"Brazil\", \"India\", \"Russia\"], \"locations\": [\"USA\", \"AUS\", \"BRA\", \"IND\", \"RUS\"], \"name\": \"\", \"z\": [0.0, 0.0, 0.0, 0.0, 0.0], \"type\": \"choropleth\"}], \"name\": \"2020-01-28\"}, {\"data\": [{\"coloraxis\": \"coloraxis\", \"geo\": \"geo\", \"hovertemplate\": \"<b>%{hovertext}</b><br><br>date=2020-01-29<br>iso_code=%{location}<br>new_cases=%{z}<extra></extra>\", \"hovertext\": [\"United States\", \"Australia\", \"Brazil\", \"India\", \"Russia\"], \"locations\": [\"USA\", \"AUS\", \"BRA\", \"IND\", \"RUS\"], \"name\": \"\", \"z\": [0.0, 0.0, 0.0, 0.0, 0.0], \"type\": \"choropleth\"}], \"name\": \"2020-01-29\"}, {\"data\": [{\"coloraxis\": \"coloraxis\", \"geo\": \"geo\", \"hovertemplate\": \"<b>%{hovertext}</b><br><br>date=2020-01-30<br>iso_code=%{location}<br>new_cases=%{z}<extra></extra>\", \"hovertext\": [\"Australia\", \"Brazil\", \"India\", \"Russia\", \"United States\"], \"locations\": [\"AUS\", \"BRA\", \"IND\", \"RUS\", \"USA\"], \"name\": \"\", \"z\": [2.0, 0.0, 1.0, 0.0, 0.0], \"type\": \"choropleth\"}], \"name\": \"2020-01-30\"}, {\"data\": [{\"coloraxis\": \"coloraxis\", \"geo\": \"geo\", \"hovertemplate\": \"<b>%{hovertext}</b><br><br>date=2020-01-31<br>iso_code=%{location}<br>new_cases=%{z}<extra></extra>\", \"hovertext\": [\"United States\", \"Australia\", \"Brazil\", \"Russia\", \"India\"], \"locations\": [\"USA\", \"AUS\", \"BRA\", \"RUS\", \"IND\"], \"name\": \"\", \"z\": [1.0, 1.0, 0.0, 0.0, 0.0], \"type\": \"choropleth\"}], \"name\": \"2020-01-31\"}, {\"data\": [{\"coloraxis\": \"coloraxis\", \"geo\": \"geo\", \"hovertemplate\": \"<b>%{hovertext}</b><br><br>date=2020-02-01<br>iso_code=%{location}<br>new_cases=%{z}<extra></extra>\", \"hovertext\": [\"India\", \"Brazil\", \"Australia\", \"United States\", \"Russia\"], \"locations\": [\"IND\", \"BRA\", \"AUS\", \"USA\", \"RUS\"], \"name\": \"\", \"z\": [0.0, 0.0, 2.0, 1.0, 2.0], \"type\": \"choropleth\"}], \"name\": \"2020-02-01\"}, {\"data\": [{\"coloraxis\": \"coloraxis\", \"geo\": \"geo\", \"hovertemplate\": \"<b>%{hovertext}</b><br><br>date=2020-02-02<br>iso_code=%{location}<br>new_cases=%{z}<extra></extra>\", \"hovertext\": [\"Brazil\", \"Australia\", \"Russia\", \"United States\", \"India\"], \"locations\": [\"BRA\", \"AUS\", \"RUS\", \"USA\", \"IND\"], \"name\": \"\", \"z\": [0.0, 2.0, 0.0, 1.0, 1.0], \"type\": \"choropleth\"}], \"name\": \"2020-02-02\"}, {\"data\": [{\"coloraxis\": \"coloraxis\", \"geo\": \"geo\", \"hovertemplate\": \"<b>%{hovertext}</b><br><br>date=2020-02-03<br>iso_code=%{location}<br>new_cases=%{z}<extra></extra>\", \"hovertext\": [\"India\", \"United States\", \"Australia\", \"Brazil\", \"Russia\"], \"locations\": [\"IND\", \"USA\", \"AUS\", \"BRA\", \"RUS\"], \"name\": \"\", \"z\": [0.0, 3.0, 0.0, 0.0, 0.0], \"type\": \"choropleth\"}], \"name\": \"2020-02-03\"}, {\"data\": [{\"coloraxis\": \"coloraxis\", \"geo\": \"geo\", \"hovertemplate\": \"<b>%{hovertext}</b><br><br>date=2020-02-04<br>iso_code=%{location}<br>new_cases=%{z}<extra></extra>\", \"hovertext\": [\"Australia\", \"United States\", \"Russia\", \"Brazil\", \"India\"], \"locations\": [\"AUS\", \"USA\", \"RUS\", \"BRA\", \"IND\"], \"name\": \"\", \"z\": [0.0, 0.0, 0.0, 0.0, 1.0], \"type\": \"choropleth\"}], \"name\": \"2020-02-04\"}, {\"data\": [{\"coloraxis\": \"coloraxis\", \"geo\": \"geo\", \"hovertemplate\": \"<b>%{hovertext}</b><br><br>date=2020-02-05<br>iso_code=%{location}<br>new_cases=%{z}<extra></extra>\", \"hovertext\": [\"United States\", \"Russia\", \"Australia\", \"Brazil\", \"India\"], \"locations\": [\"USA\", \"RUS\", \"AUS\", \"BRA\", \"IND\"], \"name\": \"\", \"z\": [0.0, 0.0, 1.0, 0.0, 0.0], \"type\": \"choropleth\"}], \"name\": \"2020-02-05\"}, {\"data\": [{\"coloraxis\": \"coloraxis\", \"geo\": \"geo\", \"hovertemplate\": \"<b>%{hovertext}</b><br><br>date=2020-02-06<br>iso_code=%{location}<br>new_cases=%{z}<extra></extra>\", \"hovertext\": [\"Australia\", \"United States\", \"Brazil\", \"Russia\", \"India\"], \"locations\": [\"AUS\", \"USA\", \"BRA\", \"RUS\", \"IND\"], \"name\": \"\", \"z\": [1.0, 1.0, 0.0, 0.0, 0.0], \"type\": \"choropleth\"}], \"name\": \"2020-02-06\"}, {\"data\": [{\"coloraxis\": \"coloraxis\", \"geo\": \"geo\", \"hovertemplate\": \"<b>%{hovertext}</b><br><br>date=2020-02-07<br>iso_code=%{location}<br>new_cases=%{z}<extra></extra>\", \"hovertext\": [\"Brazil\", \"Russia\", \"India\", \"United States\", \"South Africa\", \"Australia\"], \"locations\": [\"BRA\", \"RUS\", \"IND\", \"USA\", \"ZAF\", \"AUS\"], \"name\": \"\", \"z\": [0.0, 0.0, 0.0, 0.0, 0.0, 1.0], \"type\": \"choropleth\"}], \"name\": \"2020-02-07\"}, {\"data\": [{\"coloraxis\": \"coloraxis\", \"geo\": \"geo\", \"hovertemplate\": \"<b>%{hovertext}</b><br><br>date=2020-02-08<br>iso_code=%{location}<br>new_cases=%{z}<extra></extra>\", \"hovertext\": [\"Australia\", \"South Africa\", \"United States\", \"Russia\", \"Brazil\", \"India\"], \"locations\": [\"AUS\", \"ZAF\", \"USA\", \"RUS\", \"BRA\", \"IND\"], \"name\": \"\", \"z\": [0.0, 0.0, 0.0, 0.0, 0.0, 0.0], \"type\": \"choropleth\"}], \"name\": \"2020-02-08\"}, {\"data\": [{\"coloraxis\": \"coloraxis\", \"geo\": \"geo\", \"hovertemplate\": \"<b>%{hovertext}</b><br><br>date=2020-02-09<br>iso_code=%{location}<br>new_cases=%{z}<extra></extra>\", \"hovertext\": [\"South Africa\", \"United States\", \"Russia\", \"India\", \"Australia\", \"Brazil\"], \"locations\": [\"ZAF\", \"USA\", \"RUS\", \"IND\", \"AUS\", \"BRA\"], \"name\": \"\", \"z\": [0.0, 0.0, 0.0, 0.0, 0.0, 0.0], \"type\": \"choropleth\"}], \"name\": \"2020-02-09\"}, {\"data\": [{\"coloraxis\": \"coloraxis\", \"geo\": \"geo\", \"hovertemplate\": \"<b>%{hovertext}</b><br><br>date=2020-02-10<br>iso_code=%{location}<br>new_cases=%{z}<extra></extra>\", \"hovertext\": [\"India\", \"Australia\", \"Brazil\", \"United States\", \"Russia\", \"South Africa\"], \"locations\": [\"IND\", \"AUS\", \"BRA\", \"USA\", \"RUS\", \"ZAF\"], \"name\": \"\", \"z\": [0.0, 0.0, 0.0, 0.0, 0.0, 0.0], \"type\": \"choropleth\"}], \"name\": \"2020-02-10\"}, {\"data\": [{\"coloraxis\": \"coloraxis\", \"geo\": \"geo\", \"hovertemplate\": \"<b>%{hovertext}</b><br><br>date=2020-02-11<br>iso_code=%{location}<br>new_cases=%{z}<extra></extra>\", \"hovertext\": [\"Australia\", \"Brazil\", \"United States\", \"South Africa\", \"Russia\", \"India\"], \"locations\": [\"AUS\", \"BRA\", \"USA\", \"ZAF\", \"RUS\", \"IND\"], \"name\": \"\", \"z\": [0.0, 0.0, 1.0, 0.0, 0.0, 0.0], \"type\": \"choropleth\"}], \"name\": \"2020-02-11\"}, {\"data\": [{\"coloraxis\": \"coloraxis\", \"geo\": \"geo\", \"hovertemplate\": \"<b>%{hovertext}</b><br><br>date=2020-02-12<br>iso_code=%{location}<br>new_cases=%{z}<extra></extra>\", \"hovertext\": [\"Russia\", \"Brazil\", \"Australia\", \"South Africa\", \"United States\", \"India\"], \"locations\": [\"RUS\", \"BRA\", \"AUS\", \"ZAF\", \"USA\", \"IND\"], \"name\": \"\", \"z\": [0.0, 0.0, 0.0, 0.0, 0.0, 0.0], \"type\": \"choropleth\"}], \"name\": \"2020-02-12\"}, {\"data\": [{\"coloraxis\": \"coloraxis\", \"geo\": \"geo\", \"hovertemplate\": \"<b>%{hovertext}</b><br><br>date=2020-02-13<br>iso_code=%{location}<br>new_cases=%{z}<extra></extra>\", \"hovertext\": [\"Russia\", \"Brazil\", \"United States\", \"South Africa\", \"Australia\", \"India\"], \"locations\": [\"RUS\", \"BRA\", \"USA\", \"ZAF\", \"AUS\", \"IND\"], \"name\": \"\", \"z\": [0.0, 0.0, 1.0, 0.0, 0.0, 0.0], \"type\": \"choropleth\"}], \"name\": \"2020-02-13\"}, {\"data\": [{\"coloraxis\": \"coloraxis\", \"geo\": \"geo\", \"hovertemplate\": \"<b>%{hovertext}</b><br><br>date=2020-02-14<br>iso_code=%{location}<br>new_cases=%{z}<extra></extra>\", \"hovertext\": [\"United States\", \"Russia\", \"Brazil\", \"India\", \"Australia\", \"South Africa\"], \"locations\": [\"USA\", \"RUS\", \"BRA\", \"IND\", \"AUS\", \"ZAF\"], \"name\": \"\", \"z\": [1.0, 0.0, 0.0, 0.0, 1.0, 0.0], \"type\": \"choropleth\"}], \"name\": \"2020-02-14\"}, {\"data\": [{\"coloraxis\": \"coloraxis\", \"geo\": \"geo\", \"hovertemplate\": \"<b>%{hovertext}</b><br><br>date=2020-02-15<br>iso_code=%{location}<br>new_cases=%{z}<extra></extra>\", \"hovertext\": [\"India\", \"Russia\", \"South Africa\", \"Australia\", \"United States\", \"Brazil\"], \"locations\": [\"IND\", \"RUS\", \"ZAF\", \"AUS\", \"USA\", \"BRA\"], \"name\": \"\", \"z\": [0.0, 0.0, 0.0, 0.0, 0.0, 0.0], \"type\": \"choropleth\"}], \"name\": \"2020-02-15\"}, {\"data\": [{\"coloraxis\": \"coloraxis\", \"geo\": \"geo\", \"hovertemplate\": \"<b>%{hovertext}</b><br><br>date=2020-02-16<br>iso_code=%{location}<br>new_cases=%{z}<extra></extra>\", \"hovertext\": [\"India\", \"United States\", \"Brazil\", \"Australia\", \"Russia\", \"South Africa\"], \"locations\": [\"IND\", \"USA\", \"BRA\", \"AUS\", \"RUS\", \"ZAF\"], \"name\": \"\", \"z\": [0.0, 0.0, 0.0, 0.0, 0.0, 0.0], \"type\": \"choropleth\"}], \"name\": \"2020-02-16\"}, {\"data\": [{\"coloraxis\": \"coloraxis\", \"geo\": \"geo\", \"hovertemplate\": \"<b>%{hovertext}</b><br><br>date=2020-02-17<br>iso_code=%{location}<br>new_cases=%{z}<extra></extra>\", \"hovertext\": [\"South Africa\", \"Brazil\", \"United States\", \"Russia\", \"India\", \"Australia\"], \"locations\": [\"ZAF\", \"BRA\", \"USA\", \"RUS\", \"IND\", \"AUS\"], \"name\": \"\", \"z\": [0.0, 0.0, 0.0, 0.0, 0.0, 0.0], \"type\": \"choropleth\"}], \"name\": \"2020-02-17\"}, {\"data\": [{\"coloraxis\": \"coloraxis\", \"geo\": \"geo\", \"hovertemplate\": \"<b>%{hovertext}</b><br><br>date=2020-02-18<br>iso_code=%{location}<br>new_cases=%{z}<extra></extra>\", \"hovertext\": [\"India\", \"Russia\", \"South Africa\", \"Australia\", \"United States\", \"Brazil\"], \"locations\": [\"IND\", \"RUS\", \"ZAF\", \"AUS\", \"USA\", \"BRA\"], \"name\": \"\", \"z\": [0.0, 0.0, 0.0, 0.0, 0.0, 0.0], \"type\": \"choropleth\"}], \"name\": \"2020-02-18\"}, {\"data\": [{\"coloraxis\": \"coloraxis\", \"geo\": \"geo\", \"hovertemplate\": \"<b>%{hovertext}</b><br><br>date=2020-02-19<br>iso_code=%{location}<br>new_cases=%{z}<extra></extra>\", \"hovertext\": [\"United States\", \"South Africa\", \"Australia\", \"India\", \"Brazil\", \"Russia\"], \"locations\": [\"USA\", \"ZAF\", \"AUS\", \"IND\", \"BRA\", \"RUS\"], \"name\": \"\", \"z\": [0.0, 0.0, 0.0, 0.0, 0.0, 0.0], \"type\": \"choropleth\"}], \"name\": \"2020-02-19\"}, {\"data\": [{\"coloraxis\": \"coloraxis\", \"geo\": \"geo\", \"hovertemplate\": \"<b>%{hovertext}</b><br><br>date=2020-02-20<br>iso_code=%{location}<br>new_cases=%{z}<extra></extra>\", \"hovertext\": [\"United States\", \"India\", \"Russia\", \"Australia\", \"Brazil\", \"South Africa\"], \"locations\": [\"USA\", \"IND\", \"RUS\", \"AUS\", \"BRA\", \"ZAF\"], \"name\": \"\", \"z\": [0.0, 0.0, 0.0, 0.0, 0.0, 0.0], \"type\": \"choropleth\"}], \"name\": \"2020-02-20\"}, {\"data\": [{\"coloraxis\": \"coloraxis\", \"geo\": \"geo\", \"hovertemplate\": \"<b>%{hovertext}</b><br><br>date=2020-02-21<br>iso_code=%{location}<br>new_cases=%{z}<extra></extra>\", \"hovertext\": [\"Australia\", \"United States\", \"India\", \"Russia\", \"South Africa\", \"Brazil\"], \"locations\": [\"AUS\", \"USA\", \"IND\", \"RUS\", \"ZAF\", \"BRA\"], \"name\": \"\", \"z\": [2.0, 1.0, 0.0, 0.0, 0.0, 0.0], \"type\": \"choropleth\"}], \"name\": \"2020-02-21\"}, {\"data\": [{\"coloraxis\": \"coloraxis\", \"geo\": \"geo\", \"hovertemplate\": \"<b>%{hovertext}</b><br><br>date=2020-02-22<br>iso_code=%{location}<br>new_cases=%{z}<extra></extra>\", \"hovertext\": [\"Brazil\", \"Australia\", \"India\", \"Russia\", \"United States\", \"South Africa\"], \"locations\": [\"BRA\", \"AUS\", \"IND\", \"RUS\", \"USA\", \"ZAF\"], \"name\": \"\", \"z\": [0.0, 4.0, 0.0, 0.0, 19.0, 0.0], \"type\": \"choropleth\"}], \"name\": \"2020-02-22\"}, {\"data\": [{\"coloraxis\": \"coloraxis\", \"geo\": \"geo\", \"hovertemplate\": \"<b>%{hovertext}</b><br><br>date=2020-02-23<br>iso_code=%{location}<br>new_cases=%{z}<extra></extra>\", \"hovertext\": [\"Brazil\", \"Russia\", \"South Africa\", \"Australia\", \"United States\", \"India\"], \"locations\": [\"BRA\", \"RUS\", \"ZAF\", \"AUS\", \"USA\", \"IND\"], \"name\": \"\", \"z\": [0.0, 0.0, 0.0, 1.0, 0.0, 0.0], \"type\": \"choropleth\"}], \"name\": \"2020-02-23\"}, {\"data\": [{\"coloraxis\": \"coloraxis\", \"geo\": \"geo\", \"hovertemplate\": \"<b>%{hovertext}</b><br><br>date=2020-02-24<br>iso_code=%{location}<br>new_cases=%{z}<extra></extra>\", \"hovertext\": [\"Australia\", \"United States\", \"South Africa\", \"Russia\", \"Brazil\", \"India\"], \"locations\": [\"AUS\", \"USA\", \"ZAF\", \"RUS\", \"BRA\", \"IND\"], \"name\": \"\", \"z\": [0.0, 0.0, 0.0, 0.0, 0.0, 0.0], \"type\": \"choropleth\"}], \"name\": \"2020-02-24\"}, {\"data\": [{\"coloraxis\": \"coloraxis\", \"geo\": \"geo\", \"hovertemplate\": \"<b>%{hovertext}</b><br><br>date=2020-02-25<br>iso_code=%{location}<br>new_cases=%{z}<extra></extra>\", \"hovertext\": [\"India\", \"Russia\", \"United States\", \"Australia\", \"Brazil\", \"South Africa\"], \"locations\": [\"IND\", \"RUS\", \"USA\", \"AUS\", \"BRA\", \"ZAF\"], \"name\": \"\", \"z\": [0.0, 0.0, 18.0, 0.0, 0.0, 0.0], \"type\": \"choropleth\"}], \"name\": \"2020-02-25\"}, {\"data\": [{\"coloraxis\": \"coloraxis\", \"geo\": \"geo\", \"hovertemplate\": \"<b>%{hovertext}</b><br><br>date=2020-02-26<br>iso_code=%{location}<br>new_cases=%{z}<extra></extra>\", \"hovertext\": [\"Russia\", \"South Africa\", \"Brazil\", \"India\", \"Australia\", \"United States\"], \"locations\": [\"RUS\", \"ZAF\", \"BRA\", \"IND\", \"AUS\", \"USA\"], \"name\": \"\", \"z\": [0.0, 0.0, 1.0, 0.0, 0.0, 0.0], \"type\": \"choropleth\"}], \"name\": \"2020-02-26\"}, {\"data\": [{\"coloraxis\": \"coloraxis\", \"geo\": \"geo\", \"hovertemplate\": \"<b>%{hovertext}</b><br><br>date=2020-02-27<br>iso_code=%{location}<br>new_cases=%{z}<extra></extra>\", \"hovertext\": [\"Australia\", \"Russia\", \"Brazil\", \"South Africa\", \"United States\", \"India\"], \"locations\": [\"AUS\", \"RUS\", \"BRA\", \"ZAF\", \"USA\", \"IND\"], \"name\": \"\", \"z\": [1.0, 0.0, 0.0, 0.0, 6.0, 0.0], \"type\": \"choropleth\"}], \"name\": \"2020-02-27\"}, {\"data\": [{\"coloraxis\": \"coloraxis\", \"geo\": \"geo\", \"hovertemplate\": \"<b>%{hovertext}</b><br><br>date=2020-02-28<br>iso_code=%{location}<br>new_cases=%{z}<extra></extra>\", \"hovertext\": [\"United States\", \"Russia\", \"South Africa\", \"Brazil\", \"Australia\", \"India\"], \"locations\": [\"USA\", \"RUS\", \"ZAF\", \"BRA\", \"AUS\", \"IND\"], \"name\": \"\", \"z\": [1.0, 0.0, 0.0, 0.0, 0.0, 0.0], \"type\": \"choropleth\"}], \"name\": \"2020-02-28\"}, {\"data\": [{\"coloraxis\": \"coloraxis\", \"geo\": \"geo\", \"hovertemplate\": \"<b>%{hovertext}</b><br><br>date=2020-02-29<br>iso_code=%{location}<br>new_cases=%{z}<extra></extra>\", \"hovertext\": [\"Australia\", \"Russia\", \"South Africa\", \"United States\", \"India\", \"Brazil\"], \"locations\": [\"AUS\", \"RUS\", \"ZAF\", \"USA\", \"IND\", \"BRA\"], \"name\": \"\", \"z\": [2.0, 0.0, 0.0, 6.0, 0.0, 0.0], \"type\": \"choropleth\"}], \"name\": \"2020-02-29\"}, {\"data\": [{\"coloraxis\": \"coloraxis\", \"geo\": \"geo\", \"hovertemplate\": \"<b>%{hovertext}</b><br><br>date=2020-03-01<br>iso_code=%{location}<br>new_cases=%{z}<extra></extra>\", \"hovertext\": [\"Brazil\", \"Australia\", \"Russia\", \"India\", \"United States\", \"South Africa\"], \"locations\": [\"BRA\", \"AUS\", \"RUS\", \"IND\", \"USA\", \"ZAF\"], \"name\": \"\", \"z\": [1.0, 1.0, 0.0, 0.0, 3.0, 0.0], \"type\": \"choropleth\"}], \"name\": \"2020-03-01\"}, {\"data\": [{\"coloraxis\": \"coloraxis\", \"geo\": \"geo\", \"hovertemplate\": \"<b>%{hovertext}</b><br><br>date=2020-03-02<br>iso_code=%{location}<br>new_cases=%{z}<extra></extra>\", \"hovertext\": [\"South Africa\", \"India\", \"Australia\", \"Brazil\", \"United States\", \"Russia\"], \"locations\": [\"ZAF\", \"IND\", \"AUS\", \"BRA\", \"USA\", \"RUS\"], \"name\": \"\", \"z\": [0.0, 0.0, 3.0, 0.0, 20.0, 0.0], \"type\": \"choropleth\"}], \"name\": \"2020-03-02\"}, {\"data\": [{\"coloraxis\": \"coloraxis\", \"geo\": \"geo\", \"hovertemplate\": \"<b>%{hovertext}</b><br><br>date=2020-03-03<br>iso_code=%{location}<br>new_cases=%{z}<extra></extra>\", \"hovertext\": [\"Brazil\", \"United States\", \"South Africa\", \"Russia\", \"India\", \"Australia\"], \"locations\": [\"BRA\", \"USA\", \"ZAF\", \"RUS\", \"IND\", \"AUS\"], \"name\": \"\", \"z\": [0.0, 14.0, 0.0, 1.0, 2.0, 4.0], \"type\": \"choropleth\"}], \"name\": \"2020-03-03\"}, {\"data\": [{\"coloraxis\": \"coloraxis\", \"geo\": \"geo\", \"hovertemplate\": \"<b>%{hovertext}</b><br><br>date=2020-03-04<br>iso_code=%{location}<br>new_cases=%{z}<extra></extra>\", \"hovertext\": [\"Russia\", \"South Africa\", \"United States\", \"India\", \"Australia\", \"Brazil\"], \"locations\": [\"RUS\", \"ZAF\", \"USA\", \"IND\", \"AUS\", \"BRA\"], \"name\": \"\", \"z\": [1.0, 0.0, 22.0, 1.0, 8.0, 0.0], \"type\": \"choropleth\"}], \"name\": \"2020-03-04\"}, {\"data\": [{\"coloraxis\": \"coloraxis\", \"geo\": \"geo\", \"hovertemplate\": \"<b>%{hovertext}</b><br><br>date=2020-03-05<br>iso_code=%{location}<br>new_cases=%{z}<extra></extra>\", \"hovertext\": [\"India\", \"United States\", \"South Africa\", \"Australia\", \"Brazil\", \"Russia\"], \"locations\": [\"IND\", \"USA\", \"ZAF\", \"AUS\", \"BRA\", \"RUS\"], \"name\": \"\", \"z\": [22.0, 34.0, 0.0, 11.0, 1.0, 0.0], \"type\": \"choropleth\"}], \"name\": \"2020-03-05\"}, {\"data\": [{\"coloraxis\": \"coloraxis\", \"geo\": \"geo\", \"hovertemplate\": \"<b>%{hovertext}</b><br><br>date=2020-03-06<br>iso_code=%{location}<br>new_cases=%{z}<extra></extra>\", \"hovertext\": [\"Russia\", \"India\", \"United States\", \"South Africa\", \"Australia\", \"Brazil\"], \"locations\": [\"RUS\", \"IND\", \"USA\", \"ZAF\", \"AUS\", \"BRA\"], \"name\": \"\", \"z\": [0.0, 1.0, 74.0, 1.0, 7.0, 5.0], \"type\": \"choropleth\"}], \"name\": \"2020-03-06\"}, {\"data\": [{\"coloraxis\": \"coloraxis\", \"geo\": \"geo\", \"hovertemplate\": \"<b>%{hovertext}</b><br><br>date=2020-03-07<br>iso_code=%{location}<br>new_cases=%{z}<extra></extra>\", \"hovertext\": [\"India\", \"South Africa\", \"Brazil\", \"United States\", \"Russia\", \"Australia\"], \"locations\": [\"IND\", \"ZAF\", \"BRA\", \"USA\", \"RUS\", \"AUS\"], \"name\": \"\", \"z\": [2.0, 0.0, 5.0, 105.0, 6.0, 4.0], \"type\": \"choropleth\"}], \"name\": \"2020-03-07\"}, {\"data\": [{\"coloraxis\": \"coloraxis\", \"geo\": \"geo\", \"hovertemplate\": \"<b>%{hovertext}</b><br><br>date=2020-03-08<br>iso_code=%{location}<br>new_cases=%{z}<extra></extra>\", \"hovertext\": [\"India\", \"Brazil\", \"Russia\", \"South Africa\", \"United States\", \"Australia\"], \"locations\": [\"IND\", \"BRA\", \"RUS\", \"ZAF\", \"USA\", \"AUS\"], \"name\": \"\", \"z\": [3.0, 0.0, 0.0, 1.0, 95.0, 11.0], \"type\": \"choropleth\"}], \"name\": \"2020-03-08\"}, {\"data\": [{\"coloraxis\": \"coloraxis\", \"geo\": \"geo\", \"hovertemplate\": \"<b>%{hovertext}</b><br><br>date=2020-03-09<br>iso_code=%{location}<br>new_cases=%{z}<extra></extra>\", \"hovertext\": [\"Australia\", \"Brazil\", \"South Africa\", \"Russia\", \"United States\", \"India\"], \"locations\": [\"AUS\", \"BRA\", \"ZAF\", \"RUS\", \"USA\", \"IND\"], \"name\": \"\", \"z\": [6.0, 12.0, 1.0, 0.0, 121.0, 0.0], \"type\": \"choropleth\"}], \"name\": \"2020-03-09\"}, {\"data\": [{\"coloraxis\": \"coloraxis\", \"geo\": \"geo\", \"hovertemplate\": \"<b>%{hovertext}</b><br><br>date=2020-03-10<br>iso_code=%{location}<br>new_cases=%{z}<extra></extra>\", \"hovertext\": [\"Australia\", \"Russia\", \"Brazil\", \"India\", \"South Africa\", \"United States\"], \"locations\": [\"AUS\", \"RUS\", \"BRA\", \"IND\", \"ZAF\", \"USA\"], \"name\": \"\", \"z\": [20.0, 0.0, 0.0, 10.0, 4.0, 200.0], \"type\": \"choropleth\"}], \"name\": \"2020-03-10\"}, {\"data\": [{\"coloraxis\": \"coloraxis\", \"geo\": \"geo\", \"hovertemplate\": \"<b>%{hovertext}</b><br><br>date=2020-03-11<br>iso_code=%{location}<br>new_cases=%{z}<extra></extra>\", \"hovertext\": [\"India\", \"Russia\", \"United States\", \"South Africa\", \"Australia\", \"Brazil\"], \"locations\": [\"IND\", \"RUS\", \"USA\", \"ZAF\", \"AUS\", \"BRA\"], \"name\": \"\", \"z\": [6.0, 0.0, 271.0, 0.0, 12.0, 9.0], \"type\": \"choropleth\"}], \"name\": \"2020-03-11\"}, {\"data\": [{\"coloraxis\": \"coloraxis\", \"geo\": \"geo\", \"hovertemplate\": \"<b>%{hovertext}</b><br><br>date=2020-03-12<br>iso_code=%{location}<br>new_cases=%{z}<extra></extra>\", \"hovertext\": [\"United States\", \"Russia\", \"India\", \"Australia\", \"South Africa\", \"Brazil\"], \"locations\": [\"USA\", \"RUS\", \"IND\", \"AUS\", \"ZAF\", \"BRA\"], \"name\": \"\", \"z\": [287.0, 15.0, 23.0, 14.0, 6.0, 18.0], \"type\": \"choropleth\"}], \"name\": \"2020-03-12\"}, {\"data\": [{\"coloraxis\": \"coloraxis\", \"geo\": \"geo\", \"hovertemplate\": \"<b>%{hovertext}</b><br><br>date=2020-03-13<br>iso_code=%{location}<br>new_cases=%{z}<extra></extra>\", \"hovertext\": [\"United States\", \"Russia\", \"South Africa\", \"India\", \"Australia\", \"Brazil\"], \"locations\": [\"USA\", \"RUS\", \"ZAF\", \"IND\", \"AUS\", \"BRA\"], \"name\": \"\", \"z\": [351.0, 5.0, 4.0, 2.0, 30.0, 25.0], \"type\": \"choropleth\"}], \"name\": \"2020-03-13\"}, {\"data\": [{\"coloraxis\": \"coloraxis\", \"geo\": \"geo\", \"hovertemplate\": \"<b>%{hovertext}</b><br><br>date=2020-03-14<br>iso_code=%{location}<br>new_cases=%{z}<extra></extra>\", \"hovertext\": [\"South Africa\", \"Russia\", \"United States\", \"Brazil\", \"Australia\", \"India\"], \"locations\": [\"ZAF\", \"RUS\", \"USA\", \"BRA\", \"AUS\", \"IND\"], \"name\": \"\", \"z\": [7.0, 15.0, 511.0, 21.0, 41.0, 8.0], \"type\": \"choropleth\"}], \"name\": \"2020-03-14\"}, {\"data\": [{\"coloraxis\": \"coloraxis\", \"geo\": \"geo\", \"hovertemplate\": \"<b>%{hovertext}</b><br><br>date=2020-03-15<br>iso_code=%{location}<br>new_cases=%{z}<extra></extra>\", \"hovertext\": [\"South Africa\", \"India\", \"United States\", \"Australia\", \"Brazil\", \"Russia\"], \"locations\": [\"ZAF\", \"IND\", \"USA\", \"AUS\", \"BRA\", \"RUS\"], \"name\": \"\", \"z\": [0.0, 7.0, 777.0, 52.0, 23.0, 14.0], \"type\": \"choropleth\"}], \"name\": \"2020-03-15\"}, {\"data\": [{\"coloraxis\": \"coloraxis\", \"geo\": \"geo\", \"hovertemplate\": \"<b>%{hovertext}</b><br><br>date=2020-03-16<br>iso_code=%{location}<br>new_cases=%{z}<extra></extra>\", \"hovertext\": [\"India\", \"Australia\", \"Brazil\", \"Russia\", \"South Africa\", \"United States\"], \"locations\": [\"IND\", \"AUS\", \"BRA\", \"RUS\", \"ZAF\", \"USA\"], \"name\": \"\", \"z\": [3.0, 49.0, 79.0, 4.0, 27.0, 823.0], \"type\": \"choropleth\"}], \"name\": \"2020-03-16\"}, {\"data\": [{\"coloraxis\": \"coloraxis\", \"geo\": \"geo\", \"hovertemplate\": \"<b>%{hovertext}</b><br><br>date=2020-03-17<br>iso_code=%{location}<br>new_cases=%{z}<extra></extra>\", \"hovertext\": [\"Brazil\", \"Australia\", \"India\", \"South Africa\", \"United States\", \"Russia\"], \"locations\": [\"BRA\", \"AUS\", \"IND\", \"ZAF\", \"USA\", \"RUS\"], \"name\": \"\", \"z\": [34.0, 77.0, 32.0, 11.0, 887.0, 30.0], \"type\": \"choropleth\"}], \"name\": \"2020-03-17\"}, {\"data\": [{\"coloraxis\": \"coloraxis\", \"geo\": \"geo\", \"hovertemplate\": \"<b>%{hovertext}</b><br><br>date=2020-03-18<br>iso_code=%{location}<br>new_cases=%{z}<extra></extra>\", \"hovertext\": [\"Russia\", \"Australia\", \"South Africa\", \"India\", \"United States\", \"Brazil\"], \"locations\": [\"RUS\", \"AUS\", \"ZAF\", \"IND\", \"USA\", \"BRA\"], \"name\": \"\", \"z\": [21.0, 79.0, 23.0, 12.0, 1766.0, 57.0], \"type\": \"choropleth\"}], \"name\": \"2020-03-18\"}, {\"data\": [{\"coloraxis\": \"coloraxis\", \"geo\": \"geo\", \"hovertemplate\": \"<b>%{hovertext}</b><br><br>date=2020-03-19<br>iso_code=%{location}<br>new_cases=%{z}<extra></extra>\", \"hovertext\": [\"Australia\", \"Brazil\", \"South Africa\", \"United States\", \"India\", \"Russia\"], \"locations\": [\"AUS\", \"BRA\", \"ZAF\", \"USA\", \"IND\", \"RUS\"], \"name\": \"\", \"z\": [111.0, 137.0, 31.0, 2988.0, 28.0, 33.0], \"type\": \"choropleth\"}], \"name\": \"2020-03-19\"}, {\"data\": [{\"coloraxis\": \"coloraxis\", \"geo\": \"geo\", \"hovertemplate\": \"<b>%{hovertext}</b><br><br>date=2020-03-20<br>iso_code=%{location}<br>new_cases=%{z}<extra></extra>\", \"hovertext\": [\"India\", \"South Africa\", \"Australia\", \"Brazil\", \"Russia\", \"United States\"], \"locations\": [\"IND\", \"ZAF\", \"AUS\", \"BRA\", \"RUS\", \"USA\"], \"name\": \"\", \"z\": [26.0, 34.0, 144.0, 193.0, 52.0, 4835.0], \"type\": \"choropleth\"}], \"name\": \"2020-03-20\"}, {\"data\": [{\"coloraxis\": \"coloraxis\", \"geo\": \"geo\", \"hovertemplate\": \"<b>%{hovertext}</b><br><br>date=2020-03-21<br>iso_code=%{location}<br>new_cases=%{z}<extra></extra>\", \"hovertext\": [\"South Africa\", \"Brazil\", \"Australia\", \"India\", \"United States\", \"Russia\"], \"locations\": [\"ZAF\", \"BRA\", \"AUS\", \"IND\", \"USA\", \"RUS\"], \"name\": \"\", \"z\": [55.0, 283.0, 165.0, 40.0, 5374.0, 54.0], \"type\": \"choropleth\"}], \"name\": \"2020-03-21\"}, {\"data\": [{\"coloraxis\": \"coloraxis\", \"geo\": \"geo\", \"hovertemplate\": \"<b>%{hovertext}</b><br><br>date=2020-03-22<br>iso_code=%{location}<br>new_cases=%{z}<extra></extra>\", \"hovertext\": [\"Russia\", \"India\", \"Brazil\", \"Australia\", \"South Africa\", \"United States\"], \"locations\": [\"RUS\", \"IND\", \"BRA\", \"AUS\", \"ZAF\", \"USA\"], \"name\": \"\", \"z\": [53.0, 89.0, 224.0, 224.0, 35.0, 7123.0], \"type\": \"choropleth\"}], \"name\": \"2020-03-22\"}, {\"data\": [{\"coloraxis\": \"coloraxis\", \"geo\": \"geo\", \"hovertemplate\": \"<b>%{hovertext}</b><br><br>date=2020-03-23<br>iso_code=%{location}<br>new_cases=%{z}<extra></extra>\", \"hovertext\": [\"United States\", \"Australia\", \"South Africa\", \"Russia\", \"India\", \"Brazil\"], \"locations\": [\"USA\", \"AUS\", \"ZAF\", \"RUS\", \"IND\", \"BRA\"], \"name\": \"\", \"z\": [8459.0, 611.0, 34.0, 61.0, 119.0, 418.0], \"type\": \"choropleth\"}], \"name\": \"2020-03-23\"}, {\"data\": [{\"coloraxis\": \"coloraxis\", \"geo\": \"geo\", \"hovertemplate\": \"<b>%{hovertext}</b><br><br>date=2020-03-24<br>iso_code=%{location}<br>new_cases=%{z}<extra></extra>\", \"hovertext\": [\"South Africa\", \"Brazil\", \"Australia\", \"United States\", \"India\", \"Russia\"], \"locations\": [\"ZAF\", \"BRA\", \"AUS\", \"USA\", \"IND\", \"RUS\"], \"name\": \"\", \"z\": [128.0, 345.0, 114.0, 11236.0, 53.0, 71.0], \"type\": \"choropleth\"}], \"name\": \"2020-03-24\"}, {\"data\": [{\"coloraxis\": \"coloraxis\", \"geo\": \"geo\", \"hovertemplate\": \"<b>%{hovertext}</b><br><br>date=2020-03-25<br>iso_code=%{location}<br>new_cases=%{z}<extra></extra>\", \"hovertext\": [\"United States\", \"Russia\", \"South Africa\", \"India\", \"Brazil\", \"Australia\"], \"locations\": [\"USA\", \"RUS\", \"ZAF\", \"IND\", \"BRA\", \"AUS\"], \"name\": \"\", \"z\": [8789.0, 57.0, 155.0, 70.0, 310.0, 600.0], \"type\": \"choropleth\"}], \"name\": \"2020-03-25\"}, {\"data\": [{\"coloraxis\": \"coloraxis\", \"geo\": \"geo\", \"hovertemplate\": \"<b>%{hovertext}</b><br><br>date=2020-03-26<br>iso_code=%{location}<br>new_cases=%{z}<extra></extra>\", \"hovertext\": [\"Russia\", \"South Africa\", \"Brazil\", \"United States\", \"Australia\", \"India\"], \"locations\": [\"RUS\", \"ZAF\", \"BRA\", \"USA\", \"AUS\", \"IND\"], \"name\": \"\", \"z\": [163.0, 152.0, 232.0, 13963.0, 376.0, 87.0], \"type\": \"choropleth\"}], \"name\": \"2020-03-26\"}, {\"data\": [{\"coloraxis\": \"coloraxis\", \"geo\": \"geo\", \"hovertemplate\": \"<b>%{hovertext}</b><br><br>date=2020-03-27<br>iso_code=%{location}<br>new_cases=%{z}<extra></extra>\", \"hovertext\": [\"India\", \"South Africa\", \"Brazil\", \"Australia\", \"United States\", \"Russia\"], \"locations\": [\"IND\", \"ZAF\", \"BRA\", \"AUS\", \"USA\", \"RUS\"], \"name\": \"\", \"z\": [75.0, 218.0, 482.0, 367.0, 16797.0, 182.0], \"type\": \"choropleth\"}], \"name\": \"2020-03-27\"}, {\"data\": [{\"coloraxis\": \"coloraxis\", \"geo\": \"geo\", \"hovertemplate\": \"<b>%{hovertext}</b><br><br>date=2020-03-28<br>iso_code=%{location}<br>new_cases=%{z}<extra></extra>\", \"hovertext\": [\"Brazil\", \"United States\", \"Russia\", \"South Africa\", \"India\", \"Australia\"], \"locations\": [\"BRA\", \"USA\", \"RUS\", \"ZAF\", \"IND\", \"AUS\"], \"name\": \"\", \"z\": [502.0, 18695.0, 196.0, 243.0, 149.0, 212.0], \"type\": \"choropleth\"}], \"name\": \"2020-03-28\"}, {\"data\": [{\"coloraxis\": \"coloraxis\", \"geo\": \"geo\", \"hovertemplate\": \"<b>%{hovertext}</b><br><br>date=2020-03-29<br>iso_code=%{location}<br>new_cases=%{z}<extra></extra>\", \"hovertext\": [\"India\", \"United States\", \"Russia\", \"South Africa\", \"Australia\", \"Brazil\"], \"locations\": [\"IND\", \"USA\", \"RUS\", \"ZAF\", \"AUS\", \"BRA\"], \"name\": \"\", \"z\": [106.0, 19979.0, 228.0, 17.0, 431.0, 487.0], \"type\": \"choropleth\"}], \"name\": \"2020-03-29\"}, {\"data\": [{\"coloraxis\": \"coloraxis\", \"geo\": \"geo\", \"hovertemplate\": \"<b>%{hovertext}</b><br><br>date=2020-03-30<br>iso_code=%{location}<br>new_cases=%{z}<extra></extra>\", \"hovertext\": [\"India\", \"Brazil\", \"Australia\", \"South Africa\", \"United States\", \"Russia\"], \"locations\": [\"IND\", \"BRA\", \"AUS\", \"ZAF\", \"USA\", \"RUS\"], \"name\": \"\", \"z\": [92.0, 352.0, 284.0, 93.0, 18360.0, 270.0], \"type\": \"choropleth\"}], \"name\": \"2020-03-30\"}, {\"data\": [{\"coloraxis\": \"coloraxis\", \"geo\": \"geo\", \"hovertemplate\": \"<b>%{hovertext}</b><br><br>date=2020-03-31<br>iso_code=%{location}<br>new_cases=%{z}<extra></extra>\", \"hovertext\": [\"Russia\", \"India\", \"Brazil\", \"United States\", \"South Africa\", \"Australia\"], \"locations\": [\"RUS\", \"IND\", \"BRA\", \"USA\", \"ZAF\", \"AUS\"], \"name\": \"\", \"z\": [302.0, 180.0, 323.0, 21595.0, 46.0, 464.0], \"type\": \"choropleth\"}], \"name\": \"2020-03-31\"}, {\"data\": [{\"coloraxis\": \"coloraxis\", \"geo\": \"geo\", \"hovertemplate\": \"<b>%{hovertext}</b><br><br>date=2020-04-01<br>iso_code=%{location}<br>new_cases=%{z}<extra></extra>\", \"hovertext\": [\"United States\", \"Russia\", \"Australia\", \"India\", \"Brazil\", \"South Africa\"], \"locations\": [\"USA\", \"RUS\", \"AUS\", \"IND\", \"BRA\", \"ZAF\"], \"name\": \"\", \"z\": [24998.0, 501.0, 150.0, 146.0, 1138.0, 27.0], \"type\": \"choropleth\"}], \"name\": \"2020-04-01\"}, {\"data\": [{\"coloraxis\": \"coloraxis\", \"geo\": \"geo\", \"hovertemplate\": \"<b>%{hovertext}</b><br><br>date=2020-04-02<br>iso_code=%{location}<br>new_cases=%{z}<extra></extra>\", \"hovertext\": [\"United States\", \"Russia\", \"Brazil\", \"Australia\", \"South Africa\", \"India\"], \"locations\": [\"USA\", \"RUS\", \"BRA\", \"AUS\", \"ZAF\", \"IND\"], \"name\": \"\", \"z\": [27103.0, 440.0, 1119.0, 269.0, 27.0, 568.0], \"type\": \"choropleth\"}], \"name\": \"2020-04-02\"}, {\"data\": [{\"coloraxis\": \"coloraxis\", \"geo\": \"geo\", \"hovertemplate\": \"<b>%{hovertext}</b><br><br>date=2020-04-03<br>iso_code=%{location}<br>new_cases=%{z}<extra></extra>\", \"hovertext\": [\"Brazil\", \"United States\", \"South Africa\", \"Australia\", \"Russia\", \"India\"], \"locations\": [\"BRA\", \"USA\", \"ZAF\", \"AUS\", \"RUS\", \"IND\"], \"name\": \"\", \"z\": [1074.0, 28819.0, 82.0, 248.0, 771.0, 336.0], \"type\": \"choropleth\"}], \"name\": \"2020-04-03\"}, {\"data\": [{\"coloraxis\": \"coloraxis\", \"geo\": \"geo\", \"hovertemplate\": \"<b>%{hovertext}</b><br><br>date=2020-04-04<br>iso_code=%{location}<br>new_cases=%{z}<extra></extra>\", \"hovertext\": [\"India\", \"Australia\", \"Brazil\", \"Russia\", \"South Africa\", \"United States\"], \"locations\": [\"IND\", \"AUS\", \"BRA\", \"RUS\", \"ZAF\", \"USA\"], \"name\": \"\", \"z\": [601.0, 324.0, 1146.0, 601.0, 43.0, 32425.0], \"type\": \"choropleth\"}], \"name\": \"2020-04-04\"}, {\"data\": [{\"coloraxis\": \"coloraxis\", \"geo\": \"geo\", \"hovertemplate\": \"<b>%{hovertext}</b><br><br>date=2020-04-05<br>iso_code=%{location}<br>new_cases=%{z}<extra></extra>\", \"hovertext\": [\"Russia\", \"United States\", \"Brazil\", \"Australia\", \"South Africa\", \"India\"], \"locations\": [\"RUS\", \"USA\", \"BRA\", \"AUS\", \"ZAF\", \"IND\"], \"name\": \"\", \"z\": [582.0, 34272.0, 1222.0, 139.0, 80.0, 472.0], \"type\": \"choropleth\"}], \"name\": \"2020-04-05\"}, {\"data\": [{\"coloraxis\": \"coloraxis\", \"geo\": \"geo\", \"hovertemplate\": \"<b>%{hovertext}</b><br><br>date=2020-04-06<br>iso_code=%{location}<br>new_cases=%{z}<extra></extra>\", \"hovertext\": [\"Australia\", \"United States\", \"South Africa\", \"Russia\", \"Brazil\", \"India\"], \"locations\": [\"AUS\", \"USA\", \"ZAF\", \"RUS\", \"BRA\", \"IND\"], \"name\": \"\", \"z\": [57.0, 25398.0, 70.0, 658.0, 852.0, 693.0], \"type\": \"choropleth\"}], \"name\": \"2020-04-06\"}, {\"data\": [{\"coloraxis\": \"coloraxis\", \"geo\": \"geo\", \"hovertemplate\": \"<b>%{hovertext}</b><br><br>date=2020-04-07<br>iso_code=%{location}<br>new_cases=%{z}<extra></extra>\", \"hovertext\": [\"Brazil\", \"Australia\", \"Russia\", \"South Africa\", \"United States\", \"India\"], \"locations\": [\"BRA\", \"AUS\", \"RUS\", \"ZAF\", \"USA\", \"IND\"], \"name\": \"\", \"z\": [926.0, 100.0, 954.0, 31.0, 30561.0, 354.0], \"type\": \"choropleth\"}], \"name\": \"2020-04-07\"}, {\"data\": [{\"coloraxis\": \"coloraxis\", \"geo\": \"geo\", \"hovertemplate\": \"<b>%{hovertext}</b><br><br>date=2020-04-08<br>iso_code=%{location}<br>new_cases=%{z}<extra></extra>\", \"hovertext\": [\"India\", \"United States\", \"Australia\", \"South Africa\", \"Russia\", \"Brazil\"], \"locations\": [\"IND\", \"USA\", \"AUS\", \"ZAF\", \"RUS\", \"BRA\"], \"name\": \"\", \"z\": [773.0, 30613.0, 112.0, 63.0, 1154.0, 1661.0], \"type\": \"choropleth\"}], \"name\": \"2020-04-08\"}, {\"data\": [{\"coloraxis\": \"coloraxis\", \"geo\": \"geo\", \"hovertemplate\": \"<b>%{hovertext}</b><br><br>date=2020-04-09<br>iso_code=%{location}<br>new_cases=%{z}<extra></extra>\", \"hovertext\": [\"Australia\", \"India\", \"Brazil\", \"South Africa\", \"Russia\", \"United States\"], \"locations\": [\"AUS\", \"IND\", \"BRA\", \"ZAF\", \"RUS\", \"USA\"], \"name\": \"\", \"z\": [96.0, 540.0, 2210.0, 96.0, 1175.0, 33323.0], \"type\": \"choropleth\"}], \"name\": \"2020-04-09\"}, {\"data\": [{\"coloraxis\": \"coloraxis\", \"geo\": \"geo\", \"hovertemplate\": \"<b>%{hovertext}</b><br><br>date=2020-04-10<br>iso_code=%{location}<br>new_cases=%{z}<extra></extra>\", \"hovertext\": [\"Brazil\", \"United States\", \"India\", \"Russia\", \"South Africa\", \"Australia\"], \"locations\": [\"BRA\", \"USA\", \"IND\", \"RUS\", \"ZAF\", \"AUS\"], \"name\": \"\", \"z\": [1930.0, 33901.0, 678.0, 1459.0, 89.0, 100.0], \"type\": \"choropleth\"}], \"name\": \"2020-04-10\"}, {\"data\": [{\"coloraxis\": \"coloraxis\", \"geo\": \"geo\", \"hovertemplate\": \"<b>%{hovertext}</b><br><br>date=2020-04-11<br>iso_code=%{location}<br>new_cases=%{z}<extra></extra>\", \"hovertext\": [\"Australia\", \"South Africa\", \"India\", \"United States\", \"Russia\", \"Brazil\"], \"locations\": [\"AUS\", \"ZAF\", \"IND\", \"USA\", \"RUS\", \"BRA\"], \"name\": \"\", \"z\": [86.0, 69.0, 1035.0, 35527.0, 1786.0, 1781.0], \"type\": \"choropleth\"}], \"name\": \"2020-04-11\"}, {\"data\": [{\"coloraxis\": \"coloraxis\", \"geo\": \"geo\", \"hovertemplate\": \"<b>%{hovertext}</b><br><br>date=2020-04-12<br>iso_code=%{location}<br>new_cases=%{z}<extra></extra>\", \"hovertext\": [\"United States\", \"Australia\", \"Russia\", \"South Africa\", \"India\", \"Brazil\"], \"locations\": [\"USA\", \"AUS\", \"RUS\", \"ZAF\", \"IND\", \"BRA\"], \"name\": \"\", \"z\": [28391.0, 51.0, 1667.0, 25.0, 909.0, 1089.0], \"type\": \"choropleth\"}], \"name\": \"2020-04-12\"}, {\"data\": [{\"coloraxis\": \"coloraxis\", \"geo\": \"geo\", \"hovertemplate\": \"<b>%{hovertext}</b><br><br>date=2020-04-13<br>iso_code=%{location}<br>new_cases=%{z}<extra></extra>\", \"hovertext\": [\"India\", \"Brazil\", \"United States\", \"Australia\", \"South Africa\", \"Russia\"], \"locations\": [\"IND\", \"BRA\", \"USA\", \"AUS\", \"ZAF\", \"RUS\"], \"name\": \"\", \"z\": [796.0, 1442.0, 27620.0, 33.0, 145.0, 2186.0], \"type\": \"choropleth\"}], \"name\": \"2020-04-13\"}, {\"data\": [{\"coloraxis\": \"coloraxis\", \"geo\": \"geo\", \"hovertemplate\": \"<b>%{hovertext}</b><br><br>date=2020-04-14<br>iso_code=%{location}<br>new_cases=%{z}<extra></extra>\", \"hovertext\": [\"India\", \"United States\", \"South Africa\", \"Brazil\", \"Russia\", \"Australia\"], \"locations\": [\"IND\", \"USA\", \"ZAF\", \"BRA\", \"RUS\", \"AUS\"], \"name\": \"\", \"z\": [1211.0, 25023.0, 99.0, 1261.0, 2558.0, 44.0], \"type\": \"choropleth\"}], \"name\": \"2020-04-14\"}, {\"data\": [{\"coloraxis\": \"coloraxis\", \"geo\": \"geo\", \"hovertemplate\": \"<b>%{hovertext}</b><br><br>date=2020-04-15<br>iso_code=%{location}<br>new_cases=%{z}<extra></extra>\", \"hovertext\": [\"South Africa\", \"United States\", \"Australia\", \"Brazil\", \"Russia\", \"India\"], \"locations\": [\"ZAF\", \"USA\", \"AUS\", \"BRA\", \"RUS\", \"IND\"], \"name\": \"\", \"z\": [143.0, 26922.0, 50.0, 1832.0, 2774.0, 1075.0], \"type\": \"choropleth\"}], \"name\": \"2020-04-15\"}, {\"data\": [{\"coloraxis\": \"coloraxis\", \"geo\": \"geo\", \"hovertemplate\": \"<b>%{hovertext}</b><br><br>date=2020-04-16<br>iso_code=%{location}<br>new_cases=%{z}<extra></extra>\", \"hovertext\": [\"Brazil\", \"Australia\", \"United States\", \"Russia\", \"South Africa\", \"India\"], \"locations\": [\"BRA\", \"AUS\", \"USA\", \"RUS\", \"ZAF\", \"IND\"], \"name\": \"\", \"z\": [3058.0, 42.0, 30148.0, 3388.0, 91.0, 942.0], \"type\": \"choropleth\"}], \"name\": \"2020-04-16\"}, {\"data\": [{\"coloraxis\": \"coloraxis\", \"geo\": \"geo\", \"hovertemplate\": \"<b>%{hovertext}</b><br><br>date=2020-04-17<br>iso_code=%{location}<br>new_cases=%{z}<extra></extra>\", \"hovertext\": [\"Russia\", \"South Africa\", \"Australia\", \"India\", \"Brazil\", \"United States\"], \"locations\": [\"RUS\", \"ZAF\", \"AUS\", \"IND\", \"BRA\", \"USA\"], \"name\": \"\", \"z\": [3448.0, 99.0, 39.0, 1007.0, 2105.0, 31667.0], \"type\": \"choropleth\"}], \"name\": \"2020-04-17\"}, {\"data\": [{\"coloraxis\": \"coloraxis\", \"geo\": \"geo\", \"hovertemplate\": \"<b>%{hovertext}</b><br><br>date=2020-04-18<br>iso_code=%{location}<br>new_cases=%{z}<extra></extra>\", \"hovertext\": [\"Brazil\", \"Australia\", \"United States\", \"Russia\", \"India\", \"South Africa\"], \"locations\": [\"BRA\", \"AUS\", \"USA\", \"RUS\", \"IND\", \"ZAF\"], \"name\": \"\", \"z\": [3257.0, 36.0, 30833.0, 4070.0, 991.0, 178.0], \"type\": \"choropleth\"}], \"name\": \"2020-04-18\"}, {\"data\": [{\"coloraxis\": \"coloraxis\", \"geo\": \"geo\", \"hovertemplate\": \"<b>%{hovertext}</b><br><br>date=2020-04-19<br>iso_code=%{location}<br>new_cases=%{z}<extra></extra>\", \"hovertext\": [\"Australia\", \"India\", \"South Africa\", \"United States\", \"Russia\", \"Brazil\"], \"locations\": [\"AUS\", \"IND\", \"ZAF\", \"USA\", \"RUS\", \"BRA\"], \"name\": \"\", \"z\": [53.0, 1334.0, 251.0, 32922.0, 4785.0, 2917.0], \"type\": \"choropleth\"}], \"name\": \"2020-04-19\"}, {\"data\": [{\"coloraxis\": \"coloraxis\", \"geo\": \"geo\", \"hovertemplate\": \"<b>%{hovertext}</b><br><br>date=2020-04-20<br>iso_code=%{location}<br>new_cases=%{z}<extra></extra>\", \"hovertext\": [\"United States\", \"Brazil\", \"South Africa\", \"India\", \"Australia\", \"Russia\"], \"locations\": [\"USA\", \"BRA\", \"ZAF\", \"IND\", \"AUS\", \"RUS\"], \"name\": \"\", \"z\": [24601.0, 2055.0, 124.0, 1553.0, 26.0, 6060.0], \"type\": \"choropleth\"}], \"name\": \"2020-04-20\"}, {\"data\": [{\"coloraxis\": \"coloraxis\", \"geo\": \"geo\", \"hovertemplate\": \"<b>%{hovertext}</b><br><br>date=2020-04-21<br>iso_code=%{location}<br>new_cases=%{z}<extra></extra>\", \"hovertext\": [\"Australia\", \"South Africa\", \"India\", \"Brazil\", \"Russia\", \"United States\"], \"locations\": [\"AUS\", \"ZAF\", \"IND\", \"BRA\", \"RUS\", \"USA\"], \"name\": \"\", \"z\": [13.0, 142.0, 1335.0, 1927.0, 4268.0, 28065.0], \"type\": \"choropleth\"}], \"name\": \"2020-04-21\"}, {\"data\": [{\"coloraxis\": \"coloraxis\", \"geo\": \"geo\", \"hovertemplate\": \"<b>%{hovertext}</b><br><br>date=2020-04-22<br>iso_code=%{location}<br>new_cases=%{z}<extra></extra>\", \"hovertext\": [\"Brazil\", \"Russia\", \"South Africa\", \"Australia\", \"India\", \"United States\"], \"locations\": [\"BRA\", \"RUS\", \"ZAF\", \"AUS\", \"IND\", \"USA\"], \"name\": \"\", \"z\": [2498.0, 5642.0, 165.0, 22.0, 1384.0, 37289.0], \"type\": \"choropleth\"}], \"name\": \"2020-04-22\"}, {\"data\": [{\"coloraxis\": \"coloraxis\", \"geo\": \"geo\", \"hovertemplate\": \"<b>%{hovertext}</b><br><br>date=2020-04-23<br>iso_code=%{location}<br>new_cases=%{z}<extra></extra>\", \"hovertext\": [\"India\", \"Russia\", \"Brazil\", \"Australia\", \"United States\", \"South Africa\"], \"locations\": [\"IND\", \"RUS\", \"BRA\", \"AUS\", \"USA\", \"ZAF\"], \"name\": \"\", \"z\": [1409.0, 5236.0, 2678.0, 7.0, 17588.0, 170.0], \"type\": \"choropleth\"}], \"name\": \"2020-04-23\"}, {\"data\": [{\"coloraxis\": \"coloraxis\", \"geo\": \"geo\", \"hovertemplate\": \"<b>%{hovertext}</b><br><br>date=2020-04-24<br>iso_code=%{location}<br>new_cases=%{z}<extra></extra>\", \"hovertext\": [\"India\", \"Russia\", \"Brazil\", \"United States\", \"Australia\", \"South Africa\"], \"locations\": [\"IND\", \"RUS\", \"BRA\", \"USA\", \"AUS\", \"ZAF\"], \"name\": \"\", \"z\": [1684.0, 4774.0, 3735.0, 26543.0, 13.0, 318.0], \"type\": \"choropleth\"}], \"name\": \"2020-04-24\"}, {\"data\": [{\"coloraxis\": \"coloraxis\", \"geo\": \"geo\", \"hovertemplate\": \"<b>%{hovertext}</b><br><br>date=2020-04-25<br>iso_code=%{location}<br>new_cases=%{z}<extra></extra>\", \"hovertext\": [\"India\", \"Australia\", \"South Africa\", \"Russia\", \"United States\", \"Brazil\"], \"locations\": [\"IND\", \"AUS\", \"ZAF\", \"RUS\", \"USA\", \"BRA\"], \"name\": \"\", \"z\": [1429.0, 20.0, 267.0, 5849.0, 21352.0, 3503.0], \"type\": \"choropleth\"}], \"name\": \"2020-04-25\"}, {\"data\": [{\"coloraxis\": \"coloraxis\", \"geo\": \"geo\", \"hovertemplate\": \"<b>%{hovertext}</b><br><br>date=2020-04-26<br>iso_code=%{location}<br>new_cases=%{z}<extra></extra>\", \"hovertext\": [\"Australia\", \"United States\", \"Russia\", \"South Africa\", \"India\", \"Brazil\"], \"locations\": [\"AUS\", \"USA\", \"RUS\", \"ZAF\", \"IND\", \"BRA\"], \"name\": \"\", \"z\": [16.0, 48529.0, 5966.0, 141.0, 1990.0, 5514.0], \"type\": \"choropleth\"}], \"name\": \"2020-04-26\"}, {\"data\": [{\"coloraxis\": \"coloraxis\", \"geo\": \"geo\", \"hovertemplate\": \"<b>%{hovertext}</b><br><br>date=2020-04-27<br>iso_code=%{location}<br>new_cases=%{z}<extra></extra>\", \"hovertext\": [\"India\", \"Russia\", \"Brazil\", \"Australia\", \"South Africa\", \"United States\"], \"locations\": [\"IND\", \"RUS\", \"BRA\", \"AUS\", \"ZAF\", \"USA\"], \"name\": \"\", \"z\": [1396.0, 6361.0, 3379.0, 10.0, 185.0, 26857.0], \"type\": \"choropleth\"}], \"name\": \"2020-04-27\"}, {\"data\": [{\"coloraxis\": \"coloraxis\", \"geo\": \"geo\", \"hovertemplate\": \"<b>%{hovertext}</b><br><br>date=2020-04-28<br>iso_code=%{location}<br>new_cases=%{z}<extra></extra>\", \"hovertext\": [\"India\", \"Russia\", \"Brazil\", \"South Africa\", \"Australia\", \"United States\"], \"locations\": [\"IND\", \"RUS\", \"BRA\", \"ZAF\", \"AUS\", \"USA\"], \"name\": \"\", \"z\": [1543.0, 6198.0, 4613.0, 247.0, 12.0, 22541.0], \"type\": \"choropleth\"}], \"name\": \"2020-04-28\"}, {\"data\": [{\"coloraxis\": \"coloraxis\", \"geo\": \"geo\", \"hovertemplate\": \"<b>%{hovertext}</b><br><br>date=2020-04-29<br>iso_code=%{location}<br>new_cases=%{z}<extra></extra>\", \"hovertext\": [\"United States\", \"India\", \"South Africa\", \"Russia\", \"Australia\", \"Brazil\"], \"locations\": [\"USA\", \"IND\", \"ZAF\", \"RUS\", \"AUS\", \"BRA\"], \"name\": \"\", \"z\": [24132.0, 1897.0, 203.0, 6411.0, 13.0, 5385.0], \"type\": \"choropleth\"}], \"name\": \"2020-04-29\"}, {\"data\": [{\"coloraxis\": \"coloraxis\", \"geo\": \"geo\", \"hovertemplate\": \"<b>%{hovertext}</b><br><br>date=2020-04-30<br>iso_code=%{location}<br>new_cases=%{z}<extra></extra>\", \"hovertext\": [\"Australia\", \"India\", \"South Africa\", \"United States\", \"Russia\", \"Brazil\"], \"locations\": [\"AUS\", \"IND\", \"ZAF\", \"USA\", \"RUS\", \"BRA\"], \"name\": \"\", \"z\": [8.0, 1718.0, 354.0, 27326.0, 5841.0, 6276.0], \"type\": \"choropleth\"}], \"name\": \"2020-04-30\"}, {\"data\": [{\"coloraxis\": \"coloraxis\", \"geo\": \"geo\", \"hovertemplate\": \"<b>%{hovertext}</b><br><br>date=2020-05-01<br>iso_code=%{location}<br>new_cases=%{z}<extra></extra>\", \"hovertext\": [\"India\", \"Brazil\", \"United States\", \"Australia\", \"Russia\", \"South Africa\"], \"locations\": [\"IND\", \"BRA\", \"USA\", \"AUS\", \"RUS\", \"ZAF\"], \"name\": \"\", \"z\": [1993.0, 7218.0, 29917.0, 16.0, 7099.0, 297.0], \"type\": \"choropleth\"}], \"name\": \"2020-05-01\"}, {\"data\": [{\"coloraxis\": \"coloraxis\", \"geo\": \"geo\", \"hovertemplate\": \"<b>%{hovertext}</b><br><br>date=2020-05-02<br>iso_code=%{location}<br>new_cases=%{z}<extra></extra>\", \"hovertext\": [\"Brazil\", \"Australia\", \"United States\", \"Russia\", \"South Africa\", \"India\"], \"locations\": [\"BRA\", \"AUS\", \"USA\", \"RUS\", \"ZAF\", \"IND\"], \"name\": \"\", \"z\": [6209.0, 5.0, 33955.0, 7933.0, 304.0, 2293.0], \"type\": \"choropleth\"}], \"name\": \"2020-05-02\"}, {\"data\": [{\"coloraxis\": \"coloraxis\", \"geo\": \"geo\", \"hovertemplate\": \"<b>%{hovertext}</b><br><br>date=2020-05-03<br>iso_code=%{location}<br>new_cases=%{z}<extra></extra>\", \"hovertext\": [\"United States\", \"India\", \"South Africa\", \"Australia\", \"Brazil\", \"Russia\"], \"locations\": [\"USA\", \"IND\", \"ZAF\", \"AUS\", \"BRA\", \"RUS\"], \"name\": \"\", \"z\": [29288.0, 2644.0, 385.0, 16.0, 4970.0, 9623.0], \"type\": \"choropleth\"}], \"name\": \"2020-05-03\"}, {\"data\": [{\"coloraxis\": \"coloraxis\", \"geo\": \"geo\", \"hovertemplate\": \"<b>%{hovertext}</b><br><br>date=2020-05-04<br>iso_code=%{location}<br>new_cases=%{z}<extra></extra>\", \"hovertext\": [\"United States\", \"India\", \"South Africa\", \"Australia\", \"Brazil\", \"Russia\"], \"locations\": [\"USA\", \"IND\", \"ZAF\", \"AUS\", \"BRA\", \"RUS\"], \"name\": \"\", \"z\": [24972.0, 2553.0, 447.0, 18.0, 4588.0, 10633.0], \"type\": \"choropleth\"}], \"name\": \"2020-05-04\"}, {\"data\": [{\"coloraxis\": \"coloraxis\", \"geo\": \"geo\", \"hovertemplate\": \"<b>%{hovertext}</b><br><br>date=2020-05-05<br>iso_code=%{location}<br>new_cases=%{z}<extra></extra>\", \"hovertext\": [\"India\", \"United States\", \"Brazil\", \"Russia\", \"Australia\", \"South Africa\"], \"locations\": [\"IND\", \"USA\", \"BRA\", \"RUS\", \"AUS\", \"ZAF\"], \"name\": \"\", \"z\": [3900.0, 22593.0, 6633.0, 10581.0, 24.0, 437.0], \"type\": \"choropleth\"}], \"name\": \"2020-05-05\"}, {\"data\": [{\"coloraxis\": \"coloraxis\", \"geo\": \"geo\", \"hovertemplate\": \"<b>%{hovertext}</b><br><br>date=2020-05-06<br>iso_code=%{location}<br>new_cases=%{z}<extra></extra>\", \"hovertext\": [\"Australia\", \"South Africa\", \"India\", \"Brazil\", \"United States\", \"Russia\"], \"locations\": [\"AUS\", \"ZAF\", \"IND\", \"BRA\", \"USA\", \"RUS\"], \"name\": \"\", \"z\": [24.0, 352.0, 2958.0, 6935.0, 23841.0, 10102.0], \"type\": \"choropleth\"}], \"name\": \"2020-05-06\"}, {\"data\": [{\"coloraxis\": \"coloraxis\", \"geo\": \"geo\", \"hovertemplate\": \"<b>%{hovertext}</b><br><br>date=2020-05-07<br>iso_code=%{location}<br>new_cases=%{z}<extra></extra>\", \"hovertext\": [\"Australia\", \"Brazil\", \"South Africa\", \"India\", \"United States\", \"Russia\"], \"locations\": [\"AUS\", \"BRA\", \"ZAF\", \"IND\", \"USA\", \"RUS\"], \"name\": \"\", \"z\": [26.0, 10503.0, 236.0, 3561.0, 24128.0, 10559.0], \"type\": \"choropleth\"}], \"name\": \"2020-05-07\"}, {\"data\": [{\"coloraxis\": \"coloraxis\", \"geo\": \"geo\", \"hovertemplate\": \"<b>%{hovertext}</b><br><br>date=2020-05-08<br>iso_code=%{location}<br>new_cases=%{z}<extra></extra>\", \"hovertext\": [\"India\", \"Australia\", \"Russia\", \"South Africa\", \"United States\", \"Brazil\"], \"locations\": [\"IND\", \"AUS\", \"RUS\", \"ZAF\", \"USA\", \"BRA\"], \"name\": \"\", \"z\": [3390.0, 21.0, 11231.0, 424.0, 28369.0, 9888.0], \"type\": \"choropleth\"}], \"name\": \"2020-05-08\"}, {\"data\": [{\"coloraxis\": \"coloraxis\", \"geo\": \"geo\", \"hovertemplate\": \"<b>%{hovertext}</b><br><br>date=2020-05-09<br>iso_code=%{location}<br>new_cases=%{z}<extra></extra>\", \"hovertext\": [\"United States\", \"Australia\", \"South Africa\", \"Russia\", \"Brazil\", \"India\"], \"locations\": [\"USA\", \"AUS\", \"ZAF\", \"RUS\", \"BRA\", \"IND\"], \"name\": \"\", \"z\": [26957.0, 18.0, 663.0, 10699.0, 10222.0, 3320.0], \"type\": \"choropleth\"}], \"name\": \"2020-05-09\"}, {\"data\": [{\"coloraxis\": \"coloraxis\", \"geo\": \"geo\", \"hovertemplate\": \"<b>%{hovertext}</b><br><br>date=2020-05-10<br>iso_code=%{location}<br>new_cases=%{z}<extra></extra>\", \"hovertext\": [\"Brazil\", \"Australia\", \"Russia\", \"India\", \"United States\", \"South Africa\"], \"locations\": [\"BRA\", \"AUS\", \"RUS\", \"IND\", \"USA\", \"ZAF\"], \"name\": \"\", \"z\": [10611.0, 15.0, 10817.0, 3277.0, 25612.0, 525.0], \"type\": \"choropleth\"}], \"name\": \"2020-05-10\"}, {\"data\": [{\"coloraxis\": \"coloraxis\", \"geo\": \"geo\", \"hovertemplate\": \"<b>%{hovertext}</b><br><br>date=2020-05-11<br>iso_code=%{location}<br>new_cases=%{z}<extra></extra>\", \"hovertext\": [\"Australia\", \"Russia\", \"Brazil\", \"South Africa\", \"United States\", \"India\"], \"locations\": [\"AUS\", \"RUS\", \"BRA\", \"ZAF\", \"USA\", \"IND\"], \"name\": \"\", \"z\": [12.0, 11012.0, 6760.0, 595.0, 20258.0, 4213.0], \"type\": \"choropleth\"}], \"name\": \"2020-05-11\"}, {\"data\": [{\"coloraxis\": \"coloraxis\", \"geo\": \"geo\", \"hovertemplate\": \"<b>%{hovertext}</b><br><br>date=2020-05-12<br>iso_code=%{location}<br>new_cases=%{z}<extra></extra>\", \"hovertext\": [\"India\", \"Australia\", \"United States\", \"Brazil\", \"South Africa\", \"Russia\"], \"locations\": [\"IND\", \"AUS\", \"USA\", \"BRA\", \"ZAF\", \"RUS\"], \"name\": \"\", \"z\": [3604.0, 7.0, 18117.0, 5632.0, 637.0, 11656.0], \"type\": \"choropleth\"}], \"name\": \"2020-05-12\"}, {\"data\": [{\"coloraxis\": \"coloraxis\", \"geo\": \"geo\", \"hovertemplate\": \"<b>%{hovertext}</b><br><br>date=2020-05-13<br>iso_code=%{location}<br>new_cases=%{z}<extra></extra>\", \"hovertext\": [\"India\", \"Russia\", \"United States\", \"Australia\", \"Brazil\", \"South Africa\"], \"locations\": [\"IND\", \"RUS\", \"USA\", \"AUS\", \"BRA\", \"ZAF\"], \"name\": \"\", \"z\": [3525.0, 10899.0, 22048.0, 16.0, 9258.0, 698.0], \"type\": \"choropleth\"}], \"name\": \"2020-05-13\"}, {\"data\": [{\"coloraxis\": \"coloraxis\", \"geo\": \"geo\", \"hovertemplate\": \"<b>%{hovertext}</b><br><br>date=2020-05-14<br>iso_code=%{location}<br>new_cases=%{z}<extra></extra>\", \"hovertext\": [\"Australia\", \"India\", \"South Africa\", \"Brazil\", \"Russia\", \"United States\"], \"locations\": [\"AUS\", \"IND\", \"ZAF\", \"BRA\", \"RUS\", \"USA\"], \"name\": \"\", \"z\": [11.0, 3722.0, 724.0, 11385.0, 10028.0, 20782.0], \"type\": \"choropleth\"}], \"name\": \"2020-05-14\"}, {\"data\": [{\"coloraxis\": \"coloraxis\", \"geo\": \"geo\", \"hovertemplate\": \"<b>%{hovertext}</b><br><br>date=2020-05-15<br>iso_code=%{location}<br>new_cases=%{z}<extra></extra>\", \"hovertext\": [\"India\", \"South Africa\", \"Russia\", \"United States\", \"Brazil\", \"Australia\"], \"locations\": [\"IND\", \"ZAF\", \"RUS\", \"USA\", \"BRA\", \"AUS\"], \"name\": \"\", \"z\": [3967.0, 665.0, 9974.0, 27143.0, 13944.0, 14.0], \"type\": \"choropleth\"}], \"name\": \"2020-05-15\"}, {\"data\": [{\"coloraxis\": \"coloraxis\", \"geo\": \"geo\", \"hovertemplate\": \"<b>%{hovertext}</b><br><br>date=2020-05-16<br>iso_code=%{location}<br>new_cases=%{z}<extra></extra>\", \"hovertext\": [\"Australia\", \"Russia\", \"Brazil\", \"South Africa\", \"India\", \"United States\"], \"locations\": [\"AUS\", \"RUS\", \"BRA\", \"ZAF\", \"IND\", \"USA\"], \"name\": \"\", \"z\": [30.0, 10598.0, 15305.0, 785.0, 3970.0, 25508.0], \"type\": \"choropleth\"}], \"name\": \"2020-05-16\"}, {\"data\": [{\"coloraxis\": \"coloraxis\", \"geo\": \"geo\", \"hovertemplate\": \"<b>%{hovertext}</b><br><br>date=2020-05-17<br>iso_code=%{location}<br>new_cases=%{z}<extra></extra>\", \"hovertext\": [\"India\", \"United States\", \"Brazil\", \"Russia\", \"South Africa\", \"Australia\"], \"locations\": [\"IND\", \"USA\", \"BRA\", \"RUS\", \"ZAF\", \"AUS\"], \"name\": \"\", \"z\": [4987.0, 24487.0, 14919.0, 9200.0, 831.0, 17.0], \"type\": \"choropleth\"}], \"name\": \"2020-05-17\"}, {\"data\": [{\"coloraxis\": \"coloraxis\", \"geo\": \"geo\", \"hovertemplate\": \"<b>%{hovertext}</b><br><br>date=2020-05-18<br>iso_code=%{location}<br>new_cases=%{z}<extra></extra>\", \"hovertext\": [\"Australia\", \"United States\", \"India\", \"Brazil\", \"Russia\", \"South Africa\"], \"locations\": [\"AUS\", \"USA\", \"IND\", \"BRA\", \"RUS\", \"ZAF\"], \"name\": \"\", \"z\": [9.0, 18873.0, 5242.0, 7938.0, 9709.0, 1160.0], \"type\": \"choropleth\"}], \"name\": \"2020-05-18\"}, {\"data\": [{\"coloraxis\": \"coloraxis\", \"geo\": \"geo\", \"hovertemplate\": \"<b>%{hovertext}</b><br><br>date=2020-05-19<br>iso_code=%{location}<br>new_cases=%{z}<extra></extra>\", \"hovertext\": [\"United States\", \"Russia\", \"South Africa\", \"India\", \"Australia\", \"Brazil\"], \"locations\": [\"USA\", \"RUS\", \"ZAF\", \"IND\", \"AUS\", \"BRA\"], \"name\": \"\", \"z\": [21841.0, 8926.0, 918.0, 4970.0, 15.0, 13140.0], \"type\": \"choropleth\"}], \"name\": \"2020-05-19\"}, {\"data\": [{\"coloraxis\": \"coloraxis\", \"geo\": \"geo\", \"hovertemplate\": \"<b>%{hovertext}</b><br><br>date=2020-05-20<br>iso_code=%{location}<br>new_cases=%{z}<extra></extra>\", \"hovertext\": [\"South Africa\", \"Brazil\", \"United States\", \"Russia\", \"Australia\", \"India\"], \"locations\": [\"ZAF\", \"BRA\", \"USA\", \"RUS\", \"AUS\", \"IND\"], \"name\": \"\", \"z\": [767.0, 17408.0, 19970.0, 9263.0, 8.0, 5611.0], \"type\": \"choropleth\"}], \"name\": \"2020-05-20\"}, {\"data\": [{\"coloraxis\": \"coloraxis\", \"geo\": \"geo\", \"hovertemplate\": \"<b>%{hovertext}</b><br><br>date=2020-05-21<br>iso_code=%{location}<br>new_cases=%{z}<extra></extra>\", \"hovertext\": [\"United States\", \"India\", \"South Africa\", \"Australia\", \"Russia\", \"Brazil\"], \"locations\": [\"USA\", \"IND\", \"ZAF\", \"AUS\", \"RUS\", \"BRA\"], \"name\": \"\", \"z\": [23285.0, 5609.0, 803.0, 11.0, 8764.0, 19951.0], \"type\": \"choropleth\"}], \"name\": \"2020-05-21\"}, {\"data\": [{\"coloraxis\": \"coloraxis\", \"geo\": \"geo\", \"hovertemplate\": \"<b>%{hovertext}</b><br><br>date=2020-05-22<br>iso_code=%{location}<br>new_cases=%{z}<extra></extra>\", \"hovertext\": [\"India\", \"United States\", \"South Africa\", \"Australia\", \"Russia\", \"Brazil\"], \"locations\": [\"IND\", \"USA\", \"ZAF\", \"AUS\", \"RUS\", \"BRA\"], \"name\": \"\", \"z\": [6088.0, 25434.0, 1134.0, 2.0, 8849.0, 18508.0], \"type\": \"choropleth\"}], \"name\": \"2020-05-22\"}, {\"data\": [{\"coloraxis\": \"coloraxis\", \"geo\": \"geo\", \"hovertemplate\": \"<b>%{hovertext}</b><br><br>date=2020-05-23<br>iso_code=%{location}<br>new_cases=%{z}<extra></extra>\", \"hovertext\": [\"Russia\", \"Brazil\", \"South Africa\", \"Australia\", \"United States\", \"India\"], \"locations\": [\"RUS\", \"BRA\", \"ZAF\", \"AUS\", \"USA\", \"IND\"], \"name\": \"\", \"z\": [8894.0, 20803.0, 988.0, 14.0, 24147.0, 6654.0], \"type\": \"choropleth\"}], \"name\": \"2020-05-23\"}, {\"data\": [{\"coloraxis\": \"coloraxis\", \"geo\": \"geo\", \"hovertemplate\": \"<b>%{hovertext}</b><br><br>date=2020-05-24<br>iso_code=%{location}<br>new_cases=%{z}<extra></extra>\", \"hovertext\": [\"India\", \"Australia\", \"South Africa\", \"Russia\", \"United States\", \"Brazil\"], \"locations\": [\"IND\", \"AUS\", \"ZAF\", \"RUS\", \"USA\", \"BRA\"], \"name\": \"\", \"z\": [6767.0, 11.0, 1218.0, 9434.0, 21236.0, 16508.0], \"type\": \"choropleth\"}], \"name\": \"2020-05-24\"}, {\"data\": [{\"coloraxis\": \"coloraxis\", \"geo\": \"geo\", \"hovertemplate\": \"<b>%{hovertext}</b><br><br>date=2020-05-25<br>iso_code=%{location}<br>new_cases=%{z}<extra></extra>\", \"hovertext\": [\"Australia\", \"Russia\", \"United States\", \"Brazil\", \"India\", \"South Africa\"], \"locations\": [\"AUS\", \"RUS\", \"USA\", \"BRA\", \"IND\", \"ZAF\"], \"name\": \"\", \"z\": [3.0, 8599.0, 20568.0, 15813.0, 6977.0, 1240.0], \"type\": \"choropleth\"}], \"name\": \"2020-05-25\"}, {\"data\": [{\"coloraxis\": \"coloraxis\", \"geo\": \"geo\", \"hovertemplate\": \"<b>%{hovertext}</b><br><br>date=2020-05-26<br>iso_code=%{location}<br>new_cases=%{z}<extra></extra>\", \"hovertext\": [\"South Africa\", \"Australia\", \"United States\", \"India\", \"Brazil\", \"Russia\"], \"locations\": [\"ZAF\", \"AUS\", \"USA\", \"IND\", \"BRA\", \"RUS\"], \"name\": \"\", \"z\": [1032.0, 9.0, 19064.0, 6535.0, 11687.0, 8946.0], \"type\": \"choropleth\"}], \"name\": \"2020-05-26\"}, {\"data\": [{\"coloraxis\": \"coloraxis\", \"geo\": \"geo\", \"hovertemplate\": \"<b>%{hovertext}</b><br><br>date=2020-05-27<br>iso_code=%{location}<br>new_cases=%{z}<extra></extra>\", \"hovertext\": [\"Australia\", \"India\", \"South Africa\", \"United States\", \"Russia\", \"Brazil\"], \"locations\": [\"AUS\", \"IND\", \"ZAF\", \"USA\", \"RUS\", \"BRA\"], \"name\": \"\", \"z\": [15.0, 6387.0, 649.0, 18910.0, 8915.0, 16324.0], \"type\": \"choropleth\"}], \"name\": \"2020-05-27\"}, {\"data\": [{\"coloraxis\": \"coloraxis\", \"geo\": \"geo\", \"hovertemplate\": \"<b>%{hovertext}</b><br><br>date=2020-05-28<br>iso_code=%{location}<br>new_cases=%{z}<extra></extra>\", \"hovertext\": [\"Russia\", \"South Africa\", \"United States\", \"India\", \"Australia\", \"Brazil\"], \"locations\": [\"RUS\", \"ZAF\", \"USA\", \"IND\", \"AUS\", \"BRA\"], \"name\": \"\", \"z\": [8338.0, 1673.0, 18721.0, 6566.0, 6.0, 20599.0], \"type\": \"choropleth\"}], \"name\": \"2020-05-28\"}, {\"data\": [{\"coloraxis\": \"coloraxis\", \"geo\": \"geo\", \"hovertemplate\": \"<b>%{hovertext}</b><br><br>date=2020-05-29<br>iso_code=%{location}<br>new_cases=%{z}<extra></extra>\", \"hovertext\": [\"Brazil\", \"United States\", \"India\", \"Australia\", \"South Africa\", \"Russia\"], \"locations\": [\"BRA\", \"USA\", \"IND\", \"AUS\", \"ZAF\", \"RUS\"], \"name\": \"\", \"z\": [26417.0, 21817.0, 7466.0, 11.0, 1466.0, 8371.0], \"type\": \"choropleth\"}], \"name\": \"2020-05-29\"}, {\"data\": [{\"coloraxis\": \"coloraxis\", \"geo\": \"geo\", \"hovertemplate\": \"<b>%{hovertext}</b><br><br>date=2020-05-30<br>iso_code=%{location}<br>new_cases=%{z}<extra></extra>\", \"hovertext\": [\"India\", \"Australia\", \"Russia\", \"Brazil\", \"United States\", \"South Africa\"], \"locations\": [\"IND\", \"AUS\", \"RUS\", \"BRA\", \"USA\", \"ZAF\"], \"name\": \"\", \"z\": [7964.0, 23.0, 8572.0, 26928.0, 25337.0, 1837.0], \"type\": \"choropleth\"}], \"name\": \"2020-05-30\"}, {\"data\": [{\"coloraxis\": \"coloraxis\", \"geo\": \"geo\", \"hovertemplate\": \"<b>%{hovertext}</b><br><br>date=2020-05-31<br>iso_code=%{location}<br>new_cases=%{z}<extra></extra>\", \"hovertext\": [\"India\", \"Australia\", \"South Africa\", \"Brazil\", \"Russia\", \"United States\"], \"locations\": [\"IND\", \"AUS\", \"ZAF\", \"BRA\", \"RUS\", \"USA\"], \"name\": \"\", \"z\": [8380.0, 12.0, 1727.0, 33274.0, 8952.0, 23297.0], \"type\": \"choropleth\"}], \"name\": \"2020-05-31\"}, {\"data\": [{\"coloraxis\": \"coloraxis\", \"geo\": \"geo\", \"hovertemplate\": \"<b>%{hovertext}</b><br><br>date=2020-06-01<br>iso_code=%{location}<br>new_cases=%{z}<extra></extra>\", \"hovertext\": [\"India\", \"Russia\", \"Brazil\", \"South Africa\", \"Australia\", \"United States\"], \"locations\": [\"IND\", \"RUS\", \"BRA\", \"ZAF\", \"AUS\", \"USA\"], \"name\": \"\", \"z\": [8392.0, 9268.0, 16409.0, 1716.0, 10.0, 19807.0], \"type\": \"choropleth\"}], \"name\": \"2020-06-01\"}, {\"data\": [{\"coloraxis\": \"coloraxis\", \"geo\": \"geo\", \"hovertemplate\": \"<b>%{hovertext}</b><br><br>date=2020-06-02<br>iso_code=%{location}<br>new_cases=%{z}<extra></extra>\", \"hovertext\": [\"India\", \"Brazil\", \"South Africa\", \"Russia\", \"Australia\", \"United States\"], \"locations\": [\"IND\", \"BRA\", \"ZAF\", \"RUS\", \"AUS\", \"USA\"], \"name\": \"\", \"z\": [8171.0, 11598.0, 1674.0, 9035.0, 9.0, 21086.0], \"type\": \"choropleth\"}], \"name\": \"2020-06-02\"}, {\"data\": [{\"coloraxis\": \"coloraxis\", \"geo\": \"geo\", \"hovertemplate\": \"<b>%{hovertext}</b><br><br>date=2020-06-03<br>iso_code=%{location}<br>new_cases=%{z}<extra></extra>\", \"hovertext\": [\"Australia\", \"Brazil\", \"Russia\", \"South Africa\", \"India\", \"United States\"], \"locations\": [\"AUS\", \"BRA\", \"RUS\", \"ZAF\", \"IND\", \"USA\"], \"name\": \"\", \"z\": [17.0, 28936.0, 8863.0, 1455.0, 8909.0, 20544.0], \"type\": \"choropleth\"}], \"name\": \"2020-06-03\"}, {\"data\": [{\"coloraxis\": \"coloraxis\", \"geo\": \"geo\", \"hovertemplate\": \"<b>%{hovertext}</b><br><br>date=2020-06-04<br>iso_code=%{location}<br>new_cases=%{z}<extra></extra>\", \"hovertext\": [\"United States\", \"South Africa\", \"Australia\", \"Brazil\", \"India\", \"Russia\"], \"locations\": [\"USA\", \"ZAF\", \"AUS\", \"BRA\", \"IND\", \"RUS\"], \"name\": \"\", \"z\": [19699.0, 1713.0, 8.0, 28633.0, 9304.0, 8536.0], \"type\": \"choropleth\"}], \"name\": \"2020-06-04\"}, {\"data\": [{\"coloraxis\": \"coloraxis\", \"geo\": \"geo\", \"hovertemplate\": \"<b>%{hovertext}</b><br><br>date=2020-06-05<br>iso_code=%{location}<br>new_cases=%{z}<extra></extra>\", \"hovertext\": [\"Australia\", \"United States\", \"Brazil\", \"South Africa\", \"Russia\", \"India\"], \"locations\": [\"AUS\", \"USA\", \"BRA\", \"ZAF\", \"RUS\", \"IND\"], \"name\": \"\", \"z\": [11.0, 21140.0, 30916.0, 3267.0, 8831.0, 9851.0], \"type\": \"choropleth\"}], \"name\": \"2020-06-05\"}, {\"data\": [{\"coloraxis\": \"coloraxis\", \"geo\": \"geo\", \"hovertemplate\": \"<b>%{hovertext}</b><br><br>date=2020-06-06<br>iso_code=%{location}<br>new_cases=%{z}<extra></extra>\", \"hovertext\": [\"Russia\", \"South Africa\", \"India\", \"Australia\", \"United States\", \"Brazil\"], \"locations\": [\"RUS\", \"ZAF\", \"IND\", \"AUS\", \"USA\", \"BRA\"], \"name\": \"\", \"z\": [8726.0, 2642.0, 9887.0, 11.0, 25178.0, 30830.0], \"type\": \"choropleth\"}], \"name\": \"2020-06-06\"}, {\"data\": [{\"coloraxis\": \"coloraxis\", \"geo\": \"geo\", \"hovertemplate\": \"<b>%{hovertext}</b><br><br>date=2020-06-07<br>iso_code=%{location}<br>new_cases=%{z}<extra></extra>\", \"hovertext\": [\"Brazil\", \"South Africa\", \"United States\", \"Russia\", \"India\", \"Australia\"], \"locations\": [\"BRA\", \"ZAF\", \"USA\", \"RUS\", \"IND\", \"AUS\"], \"name\": \"\", \"z\": [27075.0, 2539.0, 22223.0, 8855.0, 9971.0, 4.0], \"type\": \"choropleth\"}], \"name\": \"2020-06-07\"}, {\"data\": [{\"coloraxis\": \"coloraxis\", \"geo\": \"geo\", \"hovertemplate\": \"<b>%{hovertext}</b><br><br>date=2020-06-08<br>iso_code=%{location}<br>new_cases=%{z}<extra></extra>\", \"hovertext\": [\"India\", \"Russia\", \"Brazil\", \"South Africa\", \"United States\", \"Australia\"], \"locations\": [\"IND\", \"RUS\", \"BRA\", \"ZAF\", \"USA\", \"AUS\"], \"name\": \"\", \"z\": [9983.0, 8984.0, 18921.0, 2312.0, 22302.0, 5.0], \"type\": \"choropleth\"}], \"name\": \"2020-06-08\"}, {\"data\": [{\"coloraxis\": \"coloraxis\", \"geo\": \"geo\", \"hovertemplate\": \"<b>%{hovertext}</b><br><br>date=2020-06-09<br>iso_code=%{location}<br>new_cases=%{z}<extra></extra>\", \"hovertext\": [\"India\", \"Brazil\", \"South Africa\", \"Russia\", \"Australia\", \"United States\"], \"locations\": [\"IND\", \"BRA\", \"ZAF\", \"RUS\", \"AUS\", \"USA\"], \"name\": \"\", \"z\": [9987.0, 15654.0, 2594.0, 8985.0, 5.0, 18822.0], \"type\": \"choropleth\"}], \"name\": \"2020-06-09\"}, {\"data\": [{\"coloraxis\": \"coloraxis\", \"geo\": \"geo\", \"hovertemplate\": \"<b>%{hovertext}</b><br><br>date=2020-06-10<br>iso_code=%{location}<br>new_cases=%{z}<extra></extra>\", \"hovertext\": [\"Russia\", \"Brazil\", \"South Africa\", \"United States\", \"Australia\", \"India\"], \"locations\": [\"RUS\", \"BRA\", \"ZAF\", \"USA\", \"AUS\", \"IND\"], \"name\": \"\", \"z\": [8595.0, 32091.0, 2112.0, 18665.0, 2.0, 9985.0], \"type\": \"choropleth\"}], \"name\": \"2020-06-10\"}, {\"data\": [{\"coloraxis\": \"coloraxis\", \"geo\": \"geo\", \"hovertemplate\": \"<b>%{hovertext}</b><br><br>date=2020-06-11<br>iso_code=%{location}<br>new_cases=%{z}<extra></extra>\", \"hovertext\": [\"South Africa\", \"Brazil\", \"India\", \"United States\", \"Russia\", \"Australia\"], \"locations\": [\"ZAF\", \"BRA\", \"IND\", \"USA\", \"RUS\", \"AUS\"], \"name\": \"\", \"z\": [2430.0, 32913.0, 9996.0, 20614.0, 8404.0, 9.0], \"type\": \"choropleth\"}], \"name\": \"2020-06-11\"}, {\"data\": [{\"coloraxis\": \"coloraxis\", \"geo\": \"geo\", \"hovertemplate\": \"<b>%{hovertext}</b><br><br>date=2020-06-12<br>iso_code=%{location}<br>new_cases=%{z}<extra></extra>\", \"hovertext\": [\"Russia\", \"Australia\", \"United States\", \"South Africa\", \"India\", \"Brazil\"], \"locations\": [\"RUS\", \"AUS\", \"USA\", \"ZAF\", \"IND\", \"BRA\"], \"name\": \"\", \"z\": [8779.0, 9.0, 22883.0, 3147.0, 10956.0, 30412.0], \"type\": \"choropleth\"}], \"name\": \"2020-06-12\"}, {\"data\": [{\"coloraxis\": \"coloraxis\", \"geo\": \"geo\", \"hovertemplate\": \"<b>%{hovertext}</b><br><br>date=2020-06-13<br>iso_code=%{location}<br>new_cases=%{z}<extra></extra>\", \"hovertext\": [\"Brazil\", \"South Africa\", \"Russia\", \"Australia\", \"United States\", \"India\"], \"locations\": [\"BRA\", \"ZAF\", \"RUS\", \"AUS\", \"USA\", \"IND\"], \"name\": \"\", \"z\": [25982.0, 3359.0, 8987.0, 5.0, 25639.0, 11458.0], \"type\": \"choropleth\"}], \"name\": \"2020-06-13\"}, {\"data\": [{\"coloraxis\": \"coloraxis\", \"geo\": \"geo\", \"hovertemplate\": \"<b>%{hovertext}</b><br><br>date=2020-06-14<br>iso_code=%{location}<br>new_cases=%{z}<extra></extra>\", \"hovertext\": [\"United States\", \"South Africa\", \"Australia\", \"Brazil\", \"India\", \"Russia\"], \"locations\": [\"USA\", \"ZAF\", \"AUS\", \"BRA\", \"IND\", \"RUS\"], \"name\": \"\", \"z\": [25540.0, 3809.0, 12.0, 21704.0, 11929.0, 8706.0], \"type\": \"choropleth\"}], \"name\": \"2020-06-14\"}, {\"data\": [{\"coloraxis\": \"coloraxis\", \"geo\": \"geo\", \"hovertemplate\": \"<b>%{hovertext}</b><br><br>date=2020-06-15<br>iso_code=%{location}<br>new_cases=%{z}<extra></extra>\", \"hovertext\": [\"United States\", \"Russia\", \"Brazil\", \"India\", \"Australia\", \"South Africa\"], \"locations\": [\"USA\", \"RUS\", \"BRA\", \"IND\", \"AUS\", \"ZAF\"], \"name\": \"\", \"z\": [19543.0, 8835.0, 17110.0, 11502.0, 18.0, 4302.0], \"type\": \"choropleth\"}], \"name\": \"2020-06-15\"}, {\"data\": [{\"coloraxis\": \"coloraxis\", \"geo\": \"geo\", \"hovertemplate\": \"<b>%{hovertext}</b><br><br>date=2020-06-16<br>iso_code=%{location}<br>new_cases=%{z}<extra></extra>\", \"hovertext\": [\"Australia\", \"United States\", \"South Africa\", \"Russia\", \"Brazil\", \"India\"], \"locations\": [\"AUS\", \"USA\", \"ZAF\", \"RUS\", \"BRA\", \"IND\"], \"name\": \"\", \"z\": [15.0, 19957.0, 3495.0, 8246.0, 20647.0, 10667.0], \"type\": \"choropleth\"}], \"name\": \"2020-06-16\"}, {\"data\": [{\"coloraxis\": \"coloraxis\", \"geo\": \"geo\", \"hovertemplate\": \"<b>%{hovertext}</b><br><br>date=2020-06-17<br>iso_code=%{location}<br>new_cases=%{z}<extra></extra>\", \"hovertext\": [\"India\", \"Russia\", \"Brazil\", \"Australia\", \"United States\", \"South Africa\"], \"locations\": [\"IND\", \"RUS\", \"BRA\", \"AUS\", \"USA\", \"ZAF\"], \"name\": \"\", \"z\": [10974.0, 8248.0, 34918.0, 12.0, 23705.0, 2801.0], \"type\": \"choropleth\"}], \"name\": \"2020-06-17\"}, {\"data\": [{\"coloraxis\": \"coloraxis\", \"geo\": \"geo\", \"hovertemplate\": \"<b>%{hovertext}</b><br><br>date=2020-06-18<br>iso_code=%{location}<br>new_cases=%{z}<extra></extra>\", \"hovertext\": [\"Russia\", \"India\", \"Brazil\", \"Australia\", \"South Africa\", \"United States\"], \"locations\": [\"RUS\", \"IND\", \"BRA\", \"AUS\", \"ZAF\", \"USA\"], \"name\": \"\", \"z\": [7843.0, 12881.0, 32188.0, 23.0, 4078.0, 25559.0], \"type\": \"choropleth\"}], \"name\": \"2020-06-18\"}, {\"data\": [{\"coloraxis\": \"coloraxis\", \"geo\": \"geo\", \"hovertemplate\": \"<b>%{hovertext}</b><br><br>date=2020-06-19<br>iso_code=%{location}<br>new_cases=%{z}<extra></extra>\", \"hovertext\": [\"South Africa\", \"Russia\", \"Australia\", \"India\", \"United States\", \"Brazil\"], \"locations\": [\"ZAF\", \"RUS\", \"AUS\", \"IND\", \"USA\", \"BRA\"], \"name\": \"\", \"z\": [3478.0, 7790.0, 21.0, 13586.0, 27762.0, 22765.0], \"type\": \"choropleth\"}], \"name\": \"2020-06-19\"}, {\"data\": [{\"coloraxis\": \"coloraxis\", \"geo\": \"geo\", \"hovertemplate\": \"<b>%{hovertext}</b><br><br>date=2020-06-20<br>iso_code=%{location}<br>new_cases=%{z}<extra></extra>\", \"hovertext\": [\"Russia\", \"Australia\", \"United States\", \"Brazil\", \"South Africa\", \"India\"], \"locations\": [\"RUS\", \"AUS\", \"USA\", \"BRA\", \"ZAF\", \"IND\"], \"name\": \"\", \"z\": [7972.0, 18.0, 29909.0, 54771.0, 3825.0, 14516.0], \"type\": \"choropleth\"}], \"name\": \"2020-06-20\"}, {\"data\": [{\"coloraxis\": \"coloraxis\", \"geo\": \"geo\", \"hovertemplate\": \"<b>%{hovertext}</b><br><br>date=2020-06-21<br>iso_code=%{location}<br>new_cases=%{z}<extra></extra>\", \"hovertext\": [\"United States\", \"Brazil\", \"India\", \"South Africa\", \"Russia\", \"Australia\"], \"locations\": [\"USA\", \"BRA\", \"IND\", \"ZAF\", \"RUS\", \"AUS\"], \"name\": \"\", \"z\": [34158.0, 34666.0, 15413.0, 4966.0, 7889.0, 27.0], \"type\": \"choropleth\"}], \"name\": \"2020-06-21\"}, {\"data\": [{\"coloraxis\": \"coloraxis\", \"geo\": \"geo\", \"hovertemplate\": \"<b>%{hovertext}</b><br><br>date=2020-06-22<br>iso_code=%{location}<br>new_cases=%{z}<extra></extra>\", \"hovertext\": [\"South Africa\", \"Brazil\", \"United States\", \"India\", \"Russia\", \"Australia\"], \"locations\": [\"ZAF\", \"BRA\", \"USA\", \"IND\", \"RUS\", \"AUS\"], \"name\": \"\", \"z\": [4621.0, 17459.0, 25793.0, 14821.0, 7728.0, 25.0], \"type\": \"choropleth\"}], \"name\": \"2020-06-22\"}, {\"data\": [{\"coloraxis\": \"coloraxis\", \"geo\": \"geo\", \"hovertemplate\": \"<b>%{hovertext}</b><br><br>date=2020-06-23<br>iso_code=%{location}<br>new_cases=%{z}<extra></extra>\", \"hovertext\": [\"Brazil\", \"United States\", \"South Africa\", \"Russia\", \"India\", \"Australia\"], \"locations\": [\"BRA\", \"USA\", \"ZAF\", \"RUS\", \"IND\", \"AUS\"], \"name\": \"\", \"z\": [21432.0, 31390.0, 4288.0, 7600.0, 14933.0, 13.0], \"type\": \"choropleth\"}], \"name\": \"2020-06-23\"}, {\"data\": [{\"coloraxis\": \"coloraxis\", \"geo\": \"geo\", \"hovertemplate\": \"<b>%{hovertext}</b><br><br>date=2020-06-24<br>iso_code=%{location}<br>new_cases=%{z}<extra></extra>\", \"hovertext\": [\"Brazil\", \"India\", \"Australia\", \"United States\", \"South Africa\", \"Russia\"], \"locations\": [\"BRA\", \"IND\", \"AUS\", \"USA\", \"ZAF\", \"RUS\"], \"name\": \"\", \"z\": [39436.0, 15968.0, 18.0, 34720.0, 4518.0, 7425.0], \"type\": \"choropleth\"}], \"name\": \"2020-06-24\"}, {\"data\": [{\"coloraxis\": \"coloraxis\", \"geo\": \"geo\", \"hovertemplate\": \"<b>%{hovertext}</b><br><br>date=2020-06-25<br>iso_code=%{location}<br>new_cases=%{z}<extra></extra>\", \"hovertext\": [\"Australia\", \"South Africa\", \"Brazil\", \"India\", \"Russia\", \"United States\"], \"locations\": [\"AUS\", \"ZAF\", \"BRA\", \"IND\", \"RUS\", \"USA\"], \"name\": \"\", \"z\": [29.0, 5688.0, 42725.0, 16922.0, 7176.0, 34339.0], \"type\": \"choropleth\"}], \"name\": \"2020-06-25\"}, {\"data\": [{\"coloraxis\": \"coloraxis\", \"geo\": \"geo\", \"hovertemplate\": \"<b>%{hovertext}</b><br><br>date=2020-06-26<br>iso_code=%{location}<br>new_cases=%{z}<extra></extra>\", \"hovertext\": [\"Australia\", \"South Africa\", \"Brazil\", \"India\", \"Russia\", \"United States\"], \"locations\": [\"AUS\", \"ZAF\", \"BRA\", \"IND\", \"RUS\", \"USA\"], \"name\": \"\", \"z\": [37.0, 6579.0, 39483.0, 17296.0, 7113.0, 40949.0], \"type\": \"choropleth\"}], \"name\": \"2020-06-26\"}, {\"data\": [{\"coloraxis\": \"coloraxis\", \"geo\": \"geo\", \"hovertemplate\": \"<b>%{hovertext}</b><br><br>date=2020-06-27<br>iso_code=%{location}<br>new_cases=%{z}<extra></extra>\", \"hovertext\": [\"United States\", \"Brazil\", \"South Africa\", \"Australia\", \"India\", \"Russia\"], \"locations\": [\"USA\", \"BRA\", \"ZAF\", \"AUS\", \"IND\", \"RUS\"], \"name\": \"\", \"z\": [45527.0, 46860.0, 6215.0, 37.0, 18552.0, 6800.0], \"type\": \"choropleth\"}], \"name\": \"2020-06-27\"}, {\"data\": [{\"coloraxis\": \"coloraxis\", \"geo\": \"geo\", \"hovertemplate\": \"<b>%{hovertext}</b><br><br>date=2020-06-28<br>iso_code=%{location}<br>new_cases=%{z}<extra></extra>\", \"hovertext\": [\"India\", \"United States\", \"Brazil\", \"South Africa\", \"Russia\", \"Australia\"], \"locations\": [\"IND\", \"USA\", \"BRA\", \"ZAF\", \"RUS\", \"AUS\"], \"name\": \"\", \"z\": [19906.0, 42486.0, 38693.0, 7210.0, 6852.0, 46.0], \"type\": \"choropleth\"}], \"name\": \"2020-06-28\"}, {\"data\": [{\"coloraxis\": \"coloraxis\", \"geo\": \"geo\", \"hovertemplate\": \"<b>%{hovertext}</b><br><br>date=2020-06-29<br>iso_code=%{location}<br>new_cases=%{z}<extra></extra>\", \"hovertext\": [\"Australia\", \"Brazil\", \"India\", \"Russia\", \"United States\", \"South Africa\"], \"locations\": [\"AUS\", \"BRA\", \"IND\", \"RUS\", \"USA\", \"ZAF\"], \"name\": \"\", \"z\": [45.0, 30476.0, 19459.0, 6791.0, 38673.0, 6334.0], \"type\": \"choropleth\"}], \"name\": \"2020-06-29\"}, {\"data\": [{\"coloraxis\": \"coloraxis\", \"geo\": \"geo\", \"hovertemplate\": \"<b>%{hovertext}</b><br><br>date=2020-06-30<br>iso_code=%{location}<br>new_cases=%{z}<extra></extra>\", \"hovertext\": [\"United States\", \"India\", \"Brazil\", \"South Africa\", \"Australia\", \"Russia\"], \"locations\": [\"USA\", \"IND\", \"BRA\", \"ZAF\", \"AUS\", \"RUS\"], \"name\": \"\", \"z\": [41556.0, 18522.0, 24052.0, 6130.0, 81.0, 6719.0], \"type\": \"choropleth\"}], \"name\": \"2020-06-30\"}, {\"data\": [{\"coloraxis\": \"coloraxis\", \"geo\": \"geo\", \"hovertemplate\": \"<b>%{hovertext}</b><br><br>date=2020-07-01<br>iso_code=%{location}<br>new_cases=%{z}<extra></extra>\", \"hovertext\": [\"Russia\", \"Australia\", \"United States\", \"India\", \"South Africa\", \"Brazil\"], \"locations\": [\"RUS\", \"AUS\", \"USA\", \"IND\", \"ZAF\", \"BRA\"], \"name\": \"\", \"z\": [6693.0, 67.0, 43880.0, 18653.0, 6945.0, 33846.0], \"type\": \"choropleth\"}], \"name\": \"2020-07-01\"}, {\"data\": [{\"coloraxis\": \"coloraxis\", \"geo\": \"geo\", \"hovertemplate\": \"<b>%{hovertext}</b><br><br>date=2020-07-02<br>iso_code=%{location}<br>new_cases=%{z}<extra></extra>\", \"hovertext\": [\"Russia\", \"Australia\", \"South Africa\", \"United States\", \"India\", \"Brazil\"], \"locations\": [\"RUS\", \"AUS\", \"ZAF\", \"USA\", \"IND\", \"BRA\"], \"name\": \"\", \"z\": [6556.0, 86.0, 8124.0, 52048.0, 19148.0, 46712.0], \"type\": \"choropleth\"}], \"name\": \"2020-07-02\"}, {\"data\": [{\"coloraxis\": \"coloraxis\", \"geo\": \"geo\", \"hovertemplate\": \"<b>%{hovertext}</b><br><br>date=2020-07-03<br>iso_code=%{location}<br>new_cases=%{z}<extra></extra>\", \"hovertext\": [\"United States\", \"Brazil\", \"South Africa\", \"Australia\", \"Russia\", \"India\"], \"locations\": [\"USA\", \"BRA\", \"ZAF\", \"AUS\", \"RUS\", \"IND\"], \"name\": \"\", \"z\": [53399.0, 48105.0, 8728.0, 81.0, 6760.0, 20903.0], \"type\": \"choropleth\"}], \"name\": \"2020-07-03\"}, {\"data\": [{\"coloraxis\": \"coloraxis\", \"geo\": \"geo\", \"hovertemplate\": \"<b>%{hovertext}</b><br><br>date=2020-07-04<br>iso_code=%{location}<br>new_cases=%{z}<extra></extra>\", \"hovertext\": [\"South Africa\", \"Australia\", \"Russia\", \"Brazil\", \"India\", \"United States\"], \"locations\": [\"ZAF\", \"AUS\", \"RUS\", \"BRA\", \"IND\", \"USA\"], \"name\": \"\", \"z\": [9063.0, 254.0, 6718.0, 42223.0, 22771.0, 54442.0], \"type\": \"choropleth\"}], \"name\": \"2020-07-04\"}, {\"data\": [{\"coloraxis\": \"coloraxis\", \"geo\": \"geo\", \"hovertemplate\": \"<b>%{hovertext}</b><br><br>date=2020-07-05<br>iso_code=%{location}<br>new_cases=%{z}<extra></extra>\", \"hovertext\": [\"Brazil\", \"Australia\", \"India\", \"United States\", \"South Africa\", \"Russia\"], \"locations\": [\"BRA\", \"AUS\", \"IND\", \"USA\", \"ZAF\", \"RUS\"], \"name\": \"\", \"z\": [37923.0, 107.0, 24850.0, 45221.0, 10853.0, 6632.0], \"type\": \"choropleth\"}], \"name\": \"2020-07-05\"}, {\"data\": [{\"coloraxis\": \"coloraxis\", \"geo\": \"geo\", \"hovertemplate\": \"<b>%{hovertext}</b><br><br>date=2020-07-06<br>iso_code=%{location}<br>new_cases=%{z}<extra></extra>\", \"hovertext\": [\"South Africa\", \"United States\", \"Brazil\", \"India\", \"Russia\", \"Australia\"], \"locations\": [\"ZAF\", \"USA\", \"BRA\", \"IND\", \"RUS\", \"AUS\"], \"name\": \"\", \"z\": [8773.0, 49093.0, 26051.0, 24248.0, 6736.0, 87.0], \"type\": \"choropleth\"}], \"name\": \"2020-07-06\"}, {\"data\": [{\"coloraxis\": \"coloraxis\", \"geo\": \"geo\", \"hovertemplate\": \"<b>%{hovertext}</b><br><br>date=2020-07-07<br>iso_code=%{location}<br>new_cases=%{z}<extra></extra>\", \"hovertext\": [\"United States\", \"Australia\", \"South Africa\", \"Brazil\", \"India\", \"Russia\"], \"locations\": [\"USA\", \"AUS\", \"ZAF\", \"BRA\", \"IND\", \"RUS\"], \"name\": \"\", \"z\": [49990.0, 137.0, 8971.0, 20229.0, 22252.0, 6611.0], \"type\": \"choropleth\"}], \"name\": \"2020-07-07\"}, {\"data\": [{\"coloraxis\": \"coloraxis\", \"geo\": \"geo\", \"hovertemplate\": \"<b>%{hovertext}</b><br><br>date=2020-07-08<br>iso_code=%{location}<br>new_cases=%{z}<extra></extra>\", \"hovertext\": [\"South Africa\", \"Russia\", \"United States\", \"India\", \"Australia\", \"Brazil\"], \"locations\": [\"ZAF\", \"RUS\", \"USA\", \"IND\", \"AUS\", \"BRA\"], \"name\": \"\", \"z\": [10134.0, 6368.0, 57473.0, 22752.0, 169.0, 45305.0], \"type\": \"choropleth\"}], \"name\": \"2020-07-08\"}, {\"data\": [{\"coloraxis\": \"coloraxis\", \"geo\": \"geo\", \"hovertemplate\": \"<b>%{hovertext}</b><br><br>date=2020-07-09<br>iso_code=%{location}<br>new_cases=%{z}<extra></extra>\", \"hovertext\": [\"United States\", \"South Africa\", \"Australia\", \"Brazil\", \"Russia\", \"India\"], \"locations\": [\"USA\", \"ZAF\", \"AUS\", \"BRA\", \"RUS\", \"IND\"], \"name\": \"\", \"z\": [58906.0, 8810.0, 131.0, 44571.0, 6562.0, 24879.0], \"type\": \"choropleth\"}], \"name\": \"2020-07-09\"}, {\"data\": [{\"coloraxis\": \"coloraxis\", \"geo\": \"geo\", \"hovertemplate\": \"<b>%{hovertext}</b><br><br>date=2020-07-10<br>iso_code=%{location}<br>new_cases=%{z}<extra></extra>\", \"hovertext\": [\"Australia\", \"South Africa\", \"Russia\", \"Brazil\", \"India\", \"United States\"], \"locations\": [\"AUS\", \"ZAF\", \"RUS\", \"BRA\", \"IND\", \"USA\"], \"name\": \"\", \"z\": [173.0, 13674.0, 6509.0, 42619.0, 26506.0, 63004.0], \"type\": \"choropleth\"}], \"name\": \"2020-07-10\"}, {\"data\": [{\"coloraxis\": \"coloraxis\", \"geo\": \"geo\", \"hovertemplate\": \"<b>%{hovertext}</b><br><br>date=2020-07-11<br>iso_code=%{location}<br>new_cases=%{z}<extra></extra>\", \"hovertext\": [\"Australia\", \"United States\", \"India\", \"Brazil\", \"South Africa\", \"Russia\"], \"locations\": [\"AUS\", \"USA\", \"IND\", \"BRA\", \"ZAF\", \"RUS\"], \"name\": \"\", \"z\": [300.0, 66625.0, 27114.0, 45048.0, 12348.0, 6635.0], \"type\": \"choropleth\"}], \"name\": \"2020-07-11\"}, {\"data\": [{\"coloraxis\": \"coloraxis\", \"geo\": \"geo\", \"hovertemplate\": \"<b>%{hovertext}</b><br><br>date=2020-07-12<br>iso_code=%{location}<br>new_cases=%{z}<extra></extra>\", \"hovertext\": [\"Brazil\", \"India\", \"South Africa\", \"United States\", \"Russia\", \"Australia\"], \"locations\": [\"BRA\", \"IND\", \"ZAF\", \"USA\", \"RUS\", \"AUS\"], \"name\": \"\", \"z\": [39023.0, 28637.0, 13497.0, 63051.0, 6611.0, 194.0], \"type\": \"choropleth\"}], \"name\": \"2020-07-12\"}, {\"data\": [{\"coloraxis\": \"coloraxis\", \"geo\": \"geo\", \"hovertemplate\": \"<b>%{hovertext}</b><br><br>date=2020-07-13<br>iso_code=%{location}<br>new_cases=%{z}<extra></extra>\", \"hovertext\": [\"India\", \"United States\", \"Russia\", \"Australia\", \"Brazil\", \"South Africa\"], \"locations\": [\"IND\", \"USA\", \"RUS\", \"AUS\", \"BRA\", \"ZAF\"], \"name\": \"\", \"z\": [28701.0, 57258.0, 6615.0, 244.0, 24831.0, 12058.0], \"type\": \"choropleth\"}], \"name\": \"2020-07-13\"}, {\"data\": [{\"coloraxis\": \"coloraxis\", \"geo\": \"geo\", \"hovertemplate\": \"<b>%{hovertext}</b><br><br>date=2020-07-14<br>iso_code=%{location}<br>new_cases=%{z}<extra></extra>\", \"hovertext\": [\"Brazil\", \"Russia\", \"Australia\", \"India\", \"South Africa\", \"United States\"], \"locations\": [\"BRA\", \"RUS\", \"AUS\", \"IND\", \"ZAF\", \"USA\"], \"name\": \"\", \"z\": [20286.0, 6537.0, 183.0, 28498.0, 11554.0, 58114.0], \"type\": \"choropleth\"}], \"name\": \"2020-07-14\"}, {\"data\": [{\"coloraxis\": \"coloraxis\", \"geo\": \"geo\", \"hovertemplate\": \"<b>%{hovertext}</b><br><br>date=2020-07-15<br>iso_code=%{location}<br>new_cases=%{z}<extra></extra>\", \"hovertext\": [\"United States\", \"South Africa\", \"Russia\", \"Brazil\", \"Australia\", \"India\"], \"locations\": [\"USA\", \"ZAF\", \"RUS\", \"BRA\", \"AUS\", \"IND\"], \"name\": \"\", \"z\": [68518.0, 10496.0, 6248.0, 41857.0, 271.0, 29429.0], \"type\": \"choropleth\"}], \"name\": \"2020-07-15\"}, {\"data\": [{\"coloraxis\": \"coloraxis\", \"geo\": \"geo\", \"hovertemplate\": \"<b>%{hovertext}</b><br><br>date=2020-07-16<br>iso_code=%{location}<br>new_cases=%{z}<extra></extra>\", \"hovertext\": [\"Russia\", \"Australia\", \"South Africa\", \"United States\", \"India\", \"Brazil\"], \"locations\": [\"RUS\", \"AUS\", \"ZAF\", \"USA\", \"IND\", \"BRA\"], \"name\": \"\", \"z\": [6422.0, 244.0, 12757.0, 67717.0, 32695.0, 39924.0], \"type\": \"choropleth\"}], \"name\": \"2020-07-16\"}, {\"data\": [{\"coloraxis\": \"coloraxis\", \"geo\": \"geo\", \"hovertemplate\": \"<b>%{hovertext}</b><br><br>date=2020-07-17<br>iso_code=%{location}<br>new_cases=%{z}<extra></extra>\", \"hovertext\": [\"United States\", \"Australia\", \"India\", \"Russia\", \"Brazil\", \"South Africa\"], \"locations\": [\"USA\", \"AUS\", \"IND\", \"RUS\", \"BRA\", \"ZAF\"], \"name\": \"\", \"z\": [76930.0, 315.0, 34956.0, 6428.0, 45403.0, 13172.0], \"type\": \"choropleth\"}], \"name\": \"2020-07-17\"}, {\"data\": [{\"coloraxis\": \"coloraxis\", \"geo\": \"geo\", \"hovertemplate\": \"<b>%{hovertext}</b><br><br>date=2020-07-18<br>iso_code=%{location}<br>new_cases=%{z}<extra></extra>\", \"hovertext\": [\"India\", \"Russia\", \"Brazil\", \"United States\", \"South Africa\", \"Australia\"], \"locations\": [\"IND\", \"RUS\", \"BRA\", \"USA\", \"ZAF\", \"AUS\"], \"name\": \"\", \"z\": [34884.0, 6406.0, 34177.0, 71494.0, 13373.0, 425.0], \"type\": \"choropleth\"}], \"name\": \"2020-07-18\"}, {\"data\": [{\"coloraxis\": \"coloraxis\", \"geo\": \"geo\", \"hovertemplate\": \"<b>%{hovertext}</b><br><br>date=2020-07-19<br>iso_code=%{location}<br>new_cases=%{z}<extra></extra>\", \"hovertext\": [\"Russia\", \"India\", \"Australia\", \"United States\", \"Brazil\", \"South Africa\"], \"locations\": [\"RUS\", \"IND\", \"AUS\", \"USA\", \"BRA\", \"ZAF\"], \"name\": \"\", \"z\": [6234.0, 38902.0, 206.0, 63749.0, 28532.0, 13285.0], \"type\": \"choropleth\"}], \"name\": \"2020-07-19\"}, {\"data\": [{\"coloraxis\": \"coloraxis\", \"geo\": \"geo\", \"hovertemplate\": \"<b>%{hovertext}</b><br><br>date=2020-07-20<br>iso_code=%{location}<br>new_cases=%{z}<extra></extra>\", \"hovertext\": [\"Australia\", \"India\", \"Brazil\", \"United States\", \"South Africa\", \"Russia\"], \"locations\": [\"AUS\", \"IND\", \"BRA\", \"USA\", \"ZAF\", \"RUS\"], \"name\": \"\", \"z\": [361.0, 40425.0, 23529.0, 61796.0, 13449.0, 6109.0], \"type\": \"choropleth\"}], \"name\": \"2020-07-20\"}, {\"data\": [{\"coloraxis\": \"coloraxis\", \"geo\": \"geo\", \"hovertemplate\": \"<b>%{hovertext}</b><br><br>date=2020-07-21<br>iso_code=%{location}<br>new_cases=%{z}<extra></extra>\", \"hovertext\": [\"United States\", \"South Africa\", \"Australia\", \"India\", \"Russia\", \"Brazil\"], \"locations\": [\"USA\", \"ZAF\", \"AUS\", \"IND\", \"RUS\", \"BRA\"], \"name\": \"\", \"z\": [56750.0, 9300.0, 267.0, 37148.0, 5940.0, 20257.0], \"type\": \"choropleth\"}], \"name\": \"2020-07-21\"}, {\"data\": [{\"coloraxis\": \"coloraxis\", \"geo\": \"geo\", \"hovertemplate\": \"<b>%{hovertext}</b><br><br>date=2020-07-22<br>iso_code=%{location}<br>new_cases=%{z}<extra></extra>\", \"hovertext\": [\"United States\", \"Brazil\", \"Russia\", \"Australia\", \"India\", \"South Africa\"], \"locations\": [\"USA\", \"BRA\", \"RUS\", \"AUS\", \"IND\", \"ZAF\"], \"name\": \"\", \"z\": [72048.0, 41008.0, 5842.0, 359.0, 37724.0, 8170.0], \"type\": \"choropleth\"}], \"name\": \"2020-07-22\"}, {\"data\": [{\"coloraxis\": \"coloraxis\", \"geo\": \"geo\", \"hovertemplate\": \"<b>%{hovertext}</b><br><br>date=2020-07-23<br>iso_code=%{location}<br>new_cases=%{z}<extra></extra>\", \"hovertext\": [\"South Africa\", \"Australia\", \"United States\", \"Russia\", \"Brazil\", \"India\"], \"locations\": [\"ZAF\", \"AUS\", \"USA\", \"RUS\", \"BRA\", \"IND\"], \"name\": \"\", \"z\": [13150.0, 468.0, 68848.0, 5862.0, 67860.0, 45720.0], \"type\": \"choropleth\"}], \"name\": \"2020-07-23\"}, {\"data\": [{\"coloraxis\": \"coloraxis\", \"geo\": \"geo\", \"hovertemplate\": \"<b>%{hovertext}</b><br><br>date=2020-07-24<br>iso_code=%{location}<br>new_cases=%{z}<extra></extra>\", \"hovertext\": [\"Australia\", \"Brazil\", \"South Africa\", \"Russia\", \"India\", \"United States\"], \"locations\": [\"AUS\", \"BRA\", \"ZAF\", \"RUS\", \"IND\", \"USA\"], \"name\": \"\", \"z\": [410.0, 59961.0, 13104.0, 5848.0, 49310.0, 63196.0], \"type\": \"choropleth\"}], \"name\": \"2020-07-24\"}, {\"data\": [{\"coloraxis\": \"coloraxis\", \"geo\": \"geo\", \"hovertemplate\": \"<b>%{hovertext}</b><br><br>date=2020-07-25<br>iso_code=%{location}<br>new_cases=%{z}<extra></extra>\", \"hovertext\": [\"Brazil\", \"South Africa\", \"India\", \"Australia\", \"United States\", \"Russia\"], \"locations\": [\"BRA\", \"ZAF\", \"IND\", \"AUS\", \"USA\", \"RUS\"], \"name\": \"\", \"z\": [55891.0, 13944.0, 48916.0, 289.0, 78427.0, 5811.0], \"type\": \"choropleth\"}], \"name\": \"2020-07-25\"}, {\"data\": [{\"coloraxis\": \"coloraxis\", \"geo\": \"geo\", \"hovertemplate\": \"<b>%{hovertext}</b><br><br>date=2020-07-26<br>iso_code=%{location}<br>new_cases=%{z}<extra></extra>\", \"hovertext\": [\"United States\", \"South Africa\", \"Australia\", \"India\", \"Russia\", \"Brazil\"], \"locations\": [\"USA\", \"ZAF\", \"AUS\", \"IND\", \"RUS\", \"BRA\"], \"name\": \"\", \"z\": [65498.0, 12204.0, 355.0, 48661.0, 5871.0, 51147.0], \"type\": \"choropleth\"}], \"name\": \"2020-07-26\"}, {\"data\": [{\"coloraxis\": \"coloraxis\", \"geo\": \"geo\", \"hovertemplate\": \"<b>%{hovertext}</b><br><br>date=2020-07-27<br>iso_code=%{location}<br>new_cases=%{z}<extra></extra>\", \"hovertext\": [\"Australia\", \"South Africa\", \"United States\", \"India\", \"Brazil\", \"Russia\"], \"locations\": [\"AUS\", \"ZAF\", \"USA\", \"IND\", \"BRA\", \"RUS\"], \"name\": \"\", \"z\": [453.0, 11233.0, 55993.0, 49931.0, 24578.0, 5765.0], \"type\": \"choropleth\"}], \"name\": \"2020-07-27\"}, {\"data\": [{\"coloraxis\": \"coloraxis\", \"geo\": \"geo\", \"hovertemplate\": \"<b>%{hovertext}</b><br><br>date=2020-07-28<br>iso_code=%{location}<br>new_cases=%{z}<extra></extra>\", \"hovertext\": [\"India\", \"Brazil\", \"South Africa\", \"United States\", \"Australia\", \"Russia\"], \"locations\": [\"IND\", \"BRA\", \"ZAF\", \"USA\", \"AUS\", \"RUS\"], \"name\": \"\", \"z\": [47703.0, 23284.0, 7096.0, 56243.0, 532.0, 5635.0], \"type\": \"choropleth\"}], \"name\": \"2020-07-28\"}, {\"data\": [{\"coloraxis\": \"coloraxis\", \"geo\": \"geo\", \"hovertemplate\": \"<b>%{hovertext}</b><br><br>date=2020-07-29<br>iso_code=%{location}<br>new_cases=%{z}<extra></extra>\", \"hovertext\": [\"United States\", \"Australia\", \"Brazil\", \"India\", \"Russia\", \"South Africa\"], \"locations\": [\"USA\", \"AUS\", \"BRA\", \"IND\", \"RUS\", \"ZAF\"], \"name\": \"\", \"z\": [61734.0, 369.0, 40816.0, 48513.0, 5395.0, 7232.0], \"type\": \"choropleth\"}], \"name\": \"2020-07-29\"}, {\"data\": [{\"coloraxis\": \"coloraxis\", \"geo\": \"geo\", \"hovertemplate\": \"<b>%{hovertext}</b><br><br>date=2020-07-30<br>iso_code=%{location}<br>new_cases=%{z}<extra></extra>\", \"hovertext\": [\"Brazil\", \"United States\", \"Russia\", \"South Africa\", \"India\", \"Australia\"], \"locations\": [\"BRA\", \"USA\", \"RUS\", \"ZAF\", \"IND\", \"AUS\"], \"name\": \"\", \"z\": [69074.0, 74985.0, 5475.0, 11362.0, 52123.0, 278.0], \"type\": \"choropleth\"}], \"name\": \"2020-07-30\"}, {\"data\": [{\"coloraxis\": \"coloraxis\", \"geo\": \"geo\", \"hovertemplate\": \"<b>%{hovertext}</b><br><br>date=2020-07-31<br>iso_code=%{location}<br>new_cases=%{z}<extra></extra>\", \"hovertext\": [\"United States\", \"South Africa\", \"India\", \"Russia\", \"Brazil\", \"Australia\"], \"locations\": [\"USA\", \"ZAF\", \"IND\", \"RUS\", \"BRA\", \"AUS\"], \"name\": \"\", \"z\": [68032.0, 11046.0, 55078.0, 5509.0, 57837.0, 721.0], \"type\": \"choropleth\"}], \"name\": \"2020-07-31\"}, {\"data\": [{\"coloraxis\": \"coloraxis\", \"geo\": \"geo\", \"hovertemplate\": \"<b>%{hovertext}</b><br><br>date=2020-08-01<br>iso_code=%{location}<br>new_cases=%{z}<extra></extra>\", \"hovertext\": [\"Australia\", \"United States\", \"India\", \"Russia\", \"Brazil\", \"South Africa\"], \"locations\": [\"AUS\", \"USA\", \"IND\", \"RUS\", \"BRA\", \"ZAF\"], \"name\": \"\", \"z\": [602.0, 67023.0, 57118.0, 5482.0, 52383.0, 11014.0], \"type\": \"choropleth\"}], \"name\": \"2020-08-01\"}, {\"data\": [{\"coloraxis\": \"coloraxis\", \"geo\": \"geo\", \"hovertemplate\": \"<b>%{hovertext}</b><br><br>date=2020-08-02<br>iso_code=%{location}<br>new_cases=%{z}<extra></extra>\", \"hovertext\": [\"United States\", \"India\", \"South Africa\", \"Brazil\", \"Russia\", \"Australia\"], \"locations\": [\"USA\", \"IND\", \"ZAF\", \"BRA\", \"RUS\", \"AUS\"], \"name\": \"\", \"z\": [58407.0, 54735.0, 10107.0, 45392.0, 5462.0, 377.0], \"type\": \"choropleth\"}], \"name\": \"2020-08-02\"}, {\"data\": [{\"coloraxis\": \"coloraxis\", \"geo\": \"geo\", \"hovertemplate\": \"<b>%{hovertext}</b><br><br>date=2020-08-03<br>iso_code=%{location}<br>new_cases=%{z}<extra></extra>\", \"hovertext\": [\"Brazil\", \"India\", \"United States\", \"Russia\", \"South Africa\", \"Australia\"], \"locations\": [\"BRA\", \"IND\", \"USA\", \"RUS\", \"ZAF\", \"AUS\"], \"name\": \"\", \"z\": [25800.0, 52972.0, 47511.0, 5427.0, 8195.0, 641.0], \"type\": \"choropleth\"}], \"name\": \"2020-08-03\"}, {\"data\": [{\"coloraxis\": \"coloraxis\", \"geo\": \"geo\", \"hovertemplate\": \"<b>%{hovertext}</b><br><br>date=2020-08-04<br>iso_code=%{location}<br>new_cases=%{z}<extra></extra>\", \"hovertext\": [\"Australia\", \"Brazil\", \"Russia\", \"United States\", \"India\", \"South Africa\"], \"locations\": [\"AUS\", \"BRA\", \"RUS\", \"USA\", \"IND\", \"ZAF\"], \"name\": \"\", \"z\": [395.0, 16641.0, 5394.0, 45607.0, 52050.0, 5377.0], \"type\": \"choropleth\"}], \"name\": \"2020-08-04\"}, {\"data\": [{\"coloraxis\": \"coloraxis\", \"geo\": \"geo\", \"hovertemplate\": \"<b>%{hovertext}</b><br><br>date=2020-08-05<br>iso_code=%{location}<br>new_cases=%{z}<extra></extra>\", \"hovertext\": [\"Brazil\", \"Australia\", \"South Africa\", \"Russia\", \"United States\", \"India\"], \"locations\": [\"BRA\", \"AUS\", \"ZAF\", \"RUS\", \"USA\", \"IND\"], \"name\": \"\", \"z\": [51603.0, 411.0, 4456.0, 5159.0, 57525.0, 52509.0], \"type\": \"choropleth\"}], \"name\": \"2020-08-05\"}, {\"data\": [{\"coloraxis\": \"coloraxis\", \"geo\": \"geo\", \"hovertemplate\": \"<b>%{hovertext}</b><br><br>date=2020-08-06<br>iso_code=%{location}<br>new_cases=%{z}<extra></extra>\", \"hovertext\": [\"United States\", \"Australia\", \"Russia\", \"South Africa\", \"India\", \"Brazil\"], \"locations\": [\"USA\", \"AUS\", \"RUS\", \"ZAF\", \"IND\", \"BRA\"], \"name\": \"\", \"z\": [52804.0, 715.0, 5920.0, 8559.0, 56282.0, 57152.0], \"type\": \"choropleth\"}], \"name\": \"2020-08-06\"}, {\"data\": [{\"coloraxis\": \"coloraxis\", \"geo\": \"geo\", \"hovertemplate\": \"<b>%{hovertext}</b><br><br>date=2020-08-07<br>iso_code=%{location}<br>new_cases=%{z}<extra></extra>\", \"hovertext\": [\"Australia\", \"United States\", \"South Africa\", \"Russia\", \"India\", \"Brazil\"], \"locations\": [\"AUS\", \"USA\", \"ZAF\", \"RUS\", \"IND\", \"BRA\"], \"name\": \"\", \"z\": [418.0, 59755.0, 8307.0, 4551.0, 62538.0, 53139.0], \"type\": \"choropleth\"}], \"name\": \"2020-08-07\"}, {\"data\": [{\"coloraxis\": \"coloraxis\", \"geo\": \"geo\", \"hovertemplate\": \"<b>%{hovertext}</b><br><br>date=2020-08-08<br>iso_code=%{location}<br>new_cases=%{z}<extra></extra>\", \"hovertext\": [\"Brazil\", \"Russia\", \"United States\", \"South Africa\", \"India\", \"Australia\"], \"locations\": [\"BRA\", \"RUS\", \"USA\", \"ZAF\", \"IND\", \"AUS\"], \"name\": \"\", \"z\": [50230.0, 5241.0, 58150.0, 7292.0, 61537.0, 410.0], \"type\": \"choropleth\"}], \"name\": \"2020-08-08\"}, {\"data\": [{\"coloraxis\": \"coloraxis\", \"geo\": \"geo\", \"hovertemplate\": \"<b>%{hovertext}</b><br><br>date=2020-08-09<br>iso_code=%{location}<br>new_cases=%{z}<extra></extra>\", \"hovertext\": [\"Australia\", \"Russia\", \"United States\", \"South Africa\", \"India\", \"Brazil\"], \"locations\": [\"AUS\", \"RUS\", \"USA\", \"ZAF\", \"IND\", \"BRA\"], \"name\": \"\", \"z\": [426.0, 5212.0, 56221.0, 7712.0, 64399.0, 49970.0], \"type\": \"choropleth\"}], \"name\": \"2020-08-09\"}, {\"data\": [{\"coloraxis\": \"coloraxis\", \"geo\": \"geo\", \"hovertemplate\": \"<b>%{hovertext}</b><br><br>date=2020-08-10<br>iso_code=%{location}<br>new_cases=%{z}<extra></extra>\", \"hovertext\": [\"South Africa\", \"India\", \"Australia\", \"United States\", \"Russia\", \"Brazil\"], \"locations\": [\"ZAF\", \"IND\", \"AUS\", \"USA\", \"RUS\", \"BRA\"], \"name\": \"\", \"z\": [6670.0, 62064.0, 386.0, 46847.0, 5189.0, 23010.0], \"type\": \"choropleth\"}], \"name\": \"2020-08-10\"}, {\"data\": [{\"coloraxis\": \"coloraxis\", \"geo\": \"geo\", \"hovertemplate\": \"<b>%{hovertext}</b><br><br>date=2020-08-11<br>iso_code=%{location}<br>new_cases=%{z}<extra></extra>\", \"hovertext\": [\"Brazil\", \"United States\", \"India\", \"Russia\", \"South Africa\", \"Australia\"], \"locations\": [\"BRA\", \"USA\", \"IND\", \"RUS\", \"ZAF\", \"AUS\"], \"name\": \"\", \"z\": [22048.0, 49530.0, 53601.0, 5118.0, 3740.0, 313.0], \"type\": \"choropleth\"}], \"name\": \"2020-08-11\"}, {\"data\": [{\"coloraxis\": \"coloraxis\", \"geo\": \"geo\", \"hovertemplate\": \"<b>%{hovertext}</b><br><br>date=2020-08-12<br>iso_code=%{location}<br>new_cases=%{z}<extra></extra>\", \"hovertext\": [\"United States\", \"India\", \"Russia\", \"Australia\", \"Brazil\", \"South Africa\"], \"locations\": [\"USA\", \"IND\", \"RUS\", \"AUS\", \"BRA\", \"ZAF\"], \"name\": \"\", \"z\": [46813.0, 60963.0, 4945.0, 316.0, 52160.0, 2511.0], \"type\": \"choropleth\"}], \"name\": \"2020-08-12\"}, {\"data\": [{\"coloraxis\": \"coloraxis\", \"geo\": \"geo\", \"hovertemplate\": \"<b>%{hovertext}</b><br><br>date=2020-08-13<br>iso_code=%{location}<br>new_cases=%{z}<extra></extra>\", \"hovertext\": [\"Brazil\", \"Australia\", \"South Africa\", \"United States\", \"Russia\", \"India\"], \"locations\": [\"BRA\", \"AUS\", \"ZAF\", \"USA\", \"RUS\", \"IND\"], \"name\": \"\", \"z\": [55155.0, 414.0, 2810.0, 55941.0, 5102.0, 66999.0], \"type\": \"choropleth\"}], \"name\": \"2020-08-13\"}, {\"data\": [{\"coloraxis\": \"coloraxis\", \"geo\": \"geo\", \"hovertemplate\": \"<b>%{hovertext}</b><br><br>date=2020-08-14<br>iso_code=%{location}<br>new_cases=%{z}<extra></extra>\", \"hovertext\": [\"Australia\", \"United States\", \"Brazil\", \"South Africa\", \"Russia\", \"India\"], \"locations\": [\"AUS\", \"USA\", \"BRA\", \"ZAF\", \"RUS\", \"IND\"], \"name\": \"\", \"z\": [231.0, 51094.0, 60091.0, 3946.0, 5057.0, 64553.0], \"type\": \"choropleth\"}], \"name\": \"2020-08-14\"}, {\"data\": [{\"coloraxis\": \"coloraxis\", \"geo\": \"geo\", \"hovertemplate\": \"<b>%{hovertext}</b><br><br>date=2020-08-15<br>iso_code=%{location}<br>new_cases=%{z}<extra></extra>\", \"hovertext\": [\"India\", \"Russia\", \"United States\", \"South Africa\", \"Australia\", \"Brazil\"], \"locations\": [\"IND\", \"RUS\", \"USA\", \"ZAF\", \"AUS\", \"BRA\"], \"name\": \"\", \"z\": [65002.0, 5065.0, 64838.0, 6275.0, 385.0, 50644.0], \"type\": \"choropleth\"}], \"name\": \"2020-08-15\"}, {\"data\": [{\"coloraxis\": \"coloraxis\", \"geo\": \"geo\", \"hovertemplate\": \"<b>%{hovertext}</b><br><br>date=2020-08-16<br>iso_code=%{location}<br>new_cases=%{z}<extra></extra>\", \"hovertext\": [\"India\", \"Brazil\", \"Australia\", \"United States\", \"South Africa\", \"Russia\"], \"locations\": [\"IND\", \"BRA\", \"AUS\", \"USA\", \"ZAF\", \"RUS\"], \"name\": \"\", \"z\": [63490.0, 41576.0, 292.0, 48085.0, 4513.0, 5061.0], \"type\": \"choropleth\"}], \"name\": \"2020-08-16\"}, {\"data\": [{\"coloraxis\": \"coloraxis\", \"geo\": \"geo\", \"hovertemplate\": \"<b>%{hovertext}</b><br><br>date=2020-08-17<br>iso_code=%{location}<br>new_cases=%{z}<extra></extra>\", \"hovertext\": [\"Australia\", \"United States\", \"Brazil\", \"Russia\", \"South Africa\", \"India\"], \"locations\": [\"AUS\", \"USA\", \"BRA\", \"RUS\", \"ZAF\", \"IND\"], \"name\": \"\", \"z\": [253.0, 42104.0, 23101.0, 4969.0, 3692.0, 57981.0], \"type\": \"choropleth\"}], \"name\": \"2020-08-17\"}, {\"data\": [{\"coloraxis\": \"coloraxis\", \"geo\": \"geo\", \"hovertemplate\": \"<b>%{hovertext}</b><br><br>date=2020-08-18<br>iso_code=%{location}<br>new_cases=%{z}<extra></extra>\", \"hovertext\": [\"Brazil\", \"South Africa\", \"Russia\", \"India\", \"Australia\", \"United States\"], \"locations\": [\"BRA\", \"ZAF\", \"RUS\", \"IND\", \"AUS\", \"USA\"], \"name\": \"\", \"z\": [19373.0, 2541.0, 4892.0, 55079.0, 311.0, 35056.0], \"type\": \"choropleth\"}], \"name\": \"2020-08-18\"}, {\"data\": [{\"coloraxis\": \"coloraxis\", \"geo\": \"geo\", \"hovertemplate\": \"<b>%{hovertext}</b><br><br>date=2020-08-19<br>iso_code=%{location}<br>new_cases=%{z}<extra></extra>\", \"hovertext\": [\"Russia\", \"South Africa\", \"Brazil\", \"India\", \"Australia\", \"United States\"], \"locations\": [\"RUS\", \"ZAF\", \"BRA\", \"IND\", \"AUS\", \"USA\"], \"name\": \"\", \"z\": [4748.0, 2258.0, 47784.0, 64531.0, 174.0, 44091.0], \"type\": \"choropleth\"}], \"name\": \"2020-08-19\"}, {\"data\": [{\"coloraxis\": \"coloraxis\", \"geo\": \"geo\", \"hovertemplate\": \"<b>%{hovertext}</b><br><br>date=2020-08-20<br>iso_code=%{location}<br>new_cases=%{z}<extra></extra>\", \"hovertext\": [\"South Africa\", \"India\", \"Australia\", \"Russia\", \"United States\", \"Brazil\"], \"locations\": [\"ZAF\", \"IND\", \"AUS\", \"RUS\", \"USA\", \"BRA\"], \"name\": \"\", \"z\": [3916.0, 69652.0, 220.0, 4828.0, 47426.0, 49298.0], \"type\": \"choropleth\"}], \"name\": \"2020-08-20\"}, {\"data\": [{\"coloraxis\": \"coloraxis\", \"geo\": \"geo\", \"hovertemplate\": \"<b>%{hovertext}</b><br><br>date=2020-08-21<br>iso_code=%{location}<br>new_cases=%{z}<extra></extra>\", \"hovertext\": [\"United States\", \"Australia\", \"Russia\", \"Brazil\", \"India\", \"South Africa\"], \"locations\": [\"USA\", \"AUS\", \"RUS\", \"BRA\", \"IND\", \"ZAF\"], \"name\": \"\", \"z\": [44005.0, 243.0, 4785.0, 45323.0, 68898.0, 3880.0], \"type\": \"choropleth\"}], \"name\": \"2020-08-21\"}, {\"data\": [{\"coloraxis\": \"coloraxis\", \"geo\": \"geo\", \"hovertemplate\": \"<b>%{hovertext}</b><br><br>date=2020-08-22<br>iso_code=%{location}<br>new_cases=%{z}<extra></extra>\", \"hovertext\": [\"South Africa\", \"Brazil\", \"Russia\", \"Australia\", \"United States\", \"India\"], \"locations\": [\"ZAF\", \"BRA\", \"RUS\", \"AUS\", \"USA\", \"IND\"], \"name\": \"\", \"z\": [3398.0, 30355.0, 4870.0, 171.0, 49880.0, 69878.0], \"type\": \"choropleth\"}], \"name\": \"2020-08-22\"}, {\"data\": [{\"coloraxis\": \"coloraxis\", \"geo\": \"geo\", \"hovertemplate\": \"<b>%{hovertext}</b><br><br>date=2020-08-23<br>iso_code=%{location}<br>new_cases=%{z}<extra></extra>\", \"hovertext\": [\"Russia\", \"United States\", \"India\", \"Brazil\", \"South Africa\", \"Australia\"], \"locations\": [\"RUS\", \"USA\", \"IND\", \"BRA\", \"ZAF\", \"AUS\"], \"name\": \"\", \"z\": [4921.0, 44378.0, 69239.0, 50032.0, 3707.0, 195.0], \"type\": \"choropleth\"}], \"name\": \"2020-08-23\"}, {\"data\": [{\"coloraxis\": \"coloraxis\", \"geo\": \"geo\", \"hovertemplate\": \"<b>%{hovertext}</b><br><br>date=2020-08-24<br>iso_code=%{location}<br>new_cases=%{z}<extra></extra>\", \"hovertext\": [\"Brazil\", \"South Africa\", \"Australia\", \"Russia\", \"India\", \"United States\"], \"locations\": [\"BRA\", \"ZAF\", \"AUS\", \"RUS\", \"IND\", \"USA\"], \"name\": \"\", \"z\": [23421.0, 2728.0, 210.0, 4852.0, 61408.0, 34506.0], \"type\": \"choropleth\"}], \"name\": \"2020-08-24\"}, {\"data\": [{\"coloraxis\": \"coloraxis\", \"geo\": \"geo\", \"hovertemplate\": \"<b>%{hovertext}</b><br><br>date=2020-08-25<br>iso_code=%{location}<br>new_cases=%{z}<extra></extra>\", \"hovertext\": [\"India\", \"Brazil\", \"Russia\", \"United States\", \"Australia\", \"South Africa\"], \"locations\": [\"IND\", \"BRA\", \"RUS\", \"USA\", \"AUS\", \"ZAF\"], \"name\": \"\", \"z\": [60975.0, 17078.0, 4744.0, 38298.0, 104.0, 1677.0], \"type\": \"choropleth\"}], \"name\": \"2020-08-25\"}, {\"data\": [{\"coloraxis\": \"coloraxis\", \"geo\": \"geo\", \"hovertemplate\": \"<b>%{hovertext}</b><br><br>date=2020-08-26<br>iso_code=%{location}<br>new_cases=%{z}<extra></extra>\", \"hovertext\": [\"United States\", \"Brazil\", \"India\", \"Russia\", \"South Africa\", \"Australia\"], \"locations\": [\"USA\", \"BRA\", \"IND\", \"RUS\", \"ZAF\", \"AUS\"], \"name\": \"\", \"z\": [38119.0, 47134.0, 67151.0, 4696.0, 1567.0, 137.0], \"type\": \"choropleth\"}], \"name\": \"2020-08-26\"}, {\"data\": [{\"coloraxis\": \"coloraxis\", \"geo\": \"geo\", \"hovertemplate\": \"<b>%{hovertext}</b><br><br>date=2020-08-27<br>iso_code=%{location}<br>new_cases=%{z}<extra></extra>\", \"hovertext\": [\"Australia\", \"Brazil\", \"India\", \"South Africa\", \"Russia\", \"United States\"], \"locations\": [\"AUS\", \"BRA\", \"IND\", \"ZAF\", \"RUS\", \"USA\"], \"name\": \"\", \"z\": [152.0, 47161.0, 75760.0, 2684.0, 4676.0, 42848.0], \"type\": \"choropleth\"}], \"name\": \"2020-08-27\"}, {\"data\": [{\"coloraxis\": \"coloraxis\", \"geo\": \"geo\", \"hovertemplate\": \"<b>%{hovertext}</b><br><br>date=2020-08-28<br>iso_code=%{location}<br>new_cases=%{z}<extra></extra>\", \"hovertext\": [\"India\", \"Russia\", \"United States\", \"Australia\", \"Brazil\", \"South Africa\"], \"locations\": [\"IND\", \"RUS\", \"USA\", \"AUS\", \"BRA\", \"ZAF\"], \"name\": \"\", \"z\": [77266.0, 4711.0, 45909.0, 117.0, 44235.0, 2585.0], \"type\": \"choropleth\"}], \"name\": \"2020-08-28\"}, {\"data\": [{\"coloraxis\": \"coloraxis\", \"geo\": \"geo\", \"hovertemplate\": \"<b>%{hovertext}</b><br><br>date=2020-08-29<br>iso_code=%{location}<br>new_cases=%{z}<extra></extra>\", \"hovertext\": [\"United States\", \"Australia\", \"South Africa\", \"India\", \"Brazil\", \"Russia\"], \"locations\": [\"USA\", \"AUS\", \"ZAF\", \"IND\", \"BRA\", \"RUS\"], \"name\": \"\", \"z\": [49654.0, 126.0, 1837.0, 76472.0, 43412.0, 4829.0], \"type\": \"choropleth\"}], \"name\": \"2020-08-29\"}, {\"data\": [{\"coloraxis\": \"coloraxis\", \"geo\": \"geo\", \"hovertemplate\": \"<b>%{hovertext}</b><br><br>date=2020-08-30<br>iso_code=%{location}<br>new_cases=%{z}<extra></extra>\", \"hovertext\": [\"India\", \"United States\", \"South Africa\", \"Australia\", \"Brazil\", \"Russia\"], \"locations\": [\"IND\", \"USA\", \"ZAF\", \"AUS\", \"BRA\", \"RUS\"], \"name\": \"\", \"z\": [78761.0, 44143.0, 2428.0, 99.0, 41350.0, 4941.0], \"type\": \"choropleth\"}], \"name\": \"2020-08-30\"}, {\"data\": [{\"coloraxis\": \"coloraxis\", \"geo\": \"geo\", \"hovertemplate\": \"<b>%{hovertext}</b><br><br>date=2020-08-31<br>iso_code=%{location}<br>new_cases=%{z}<extra></extra>\", \"hovertext\": [\"South Africa\", \"United States\", \"Brazil\", \"India\", \"Russia\", \"Australia\"], \"locations\": [\"ZAF\", \"USA\", \"BRA\", \"IND\", \"RUS\", \"AUS\"], \"name\": \"\", \"z\": [2505.0, 35581.0, 16158.0, 78512.0, 4980.0, 123.0], \"type\": \"choropleth\"}], \"name\": \"2020-08-31\"}, {\"data\": [{\"coloraxis\": \"coloraxis\", \"geo\": \"geo\", \"hovertemplate\": \"<b>%{hovertext}</b><br><br>date=2020-09-01<br>iso_code=%{location}<br>new_cases=%{z}<extra></extra>\", \"hovertext\": [\"Brazil\", \"Australia\", \"Russia\", \"United States\", \"India\", \"South Africa\"], \"locations\": [\"BRA\", \"AUS\", \"RUS\", \"USA\", \"IND\", \"ZAF\"], \"name\": \"\", \"z\": [45961.0, 76.0, 4993.0, 33850.0, 69921.0, 1985.0], \"type\": \"choropleth\"}], \"name\": \"2020-09-01\"}, {\"data\": [{\"coloraxis\": \"coloraxis\", \"geo\": \"geo\", \"hovertemplate\": \"<b>%{hovertext}</b><br><br>date=2020-09-02<br>iso_code=%{location}<br>new_cases=%{z}<extra></extra>\", \"hovertext\": [\"Russia\", \"Brazil\", \"India\", \"Australia\", \"South Africa\", \"United States\"], \"locations\": [\"RUS\", \"BRA\", \"IND\", \"AUS\", \"ZAF\", \"USA\"], \"name\": \"\", \"z\": [4729.0, 42659.0, 78357.0, 73.0, 1218.0, 44639.0], \"type\": \"choropleth\"}], \"name\": \"2020-09-02\"}, {\"data\": [{\"coloraxis\": \"coloraxis\", \"geo\": \"geo\", \"hovertemplate\": \"<b>%{hovertext}</b><br><br>date=2020-09-03<br>iso_code=%{location}<br>new_cases=%{z}<extra></extra>\", \"hovertext\": [\"South Africa\", \"India\", \"Australia\", \"United States\", \"Brazil\", \"Russia\"], \"locations\": [\"ZAF\", \"IND\", \"AUS\", \"USA\", \"BRA\", \"RUS\"], \"name\": \"\", \"z\": [2336.0, 83883.0, 104.0, 38754.0, 46934.0, 4952.0], \"type\": \"choropleth\"}], \"name\": \"2020-09-03\"}, {\"data\": [{\"coloraxis\": \"coloraxis\", \"geo\": \"geo\", \"hovertemplate\": \"<b>%{hovertext}</b><br><br>date=2020-09-04<br>iso_code=%{location}<br>new_cases=%{z}<extra></extra>\", \"hovertext\": [\"United States\", \"Brazil\", \"Australia\", \"South Africa\", \"Russia\", \"India\"], \"locations\": [\"USA\", \"BRA\", \"AUS\", \"ZAF\", \"RUS\", \"IND\"], \"name\": \"\", \"z\": [36249.0, 43773.0, 126.0, 2420.0, 4995.0, 83341.0], \"type\": \"choropleth\"}], \"name\": \"2020-09-04\"}, {\"data\": [{\"coloraxis\": \"coloraxis\", \"geo\": \"geo\", \"hovertemplate\": \"<b>%{hovertext}</b><br><br>date=2020-09-05<br>iso_code=%{location}<br>new_cases=%{z}<extra></extra>\", \"hovertext\": [\"Russia\", \"South Africa\", \"United States\", \"Australia\", \"India\", \"Brazil\"], \"locations\": [\"RUS\", \"ZAF\", \"USA\", \"AUS\", \"IND\", \"BRA\"], \"name\": \"\", \"z\": [5110.0, 2063.0, 51071.0, 87.0, 86432.0, 51194.0], \"type\": \"choropleth\"}], \"name\": \"2020-09-05\"}, {\"data\": [{\"coloraxis\": \"coloraxis\", \"geo\": \"geo\", \"hovertemplate\": \"<b>%{hovertext}</b><br><br>date=2020-09-06<br>iso_code=%{location}<br>new_cases=%{z}<extra></extra>\", \"hovertext\": [\"Brazil\", \"Russia\", \"United States\", \"Australia\", \"India\", \"South Africa\"], \"locations\": [\"BRA\", \"RUS\", \"USA\", \"AUS\", \"IND\", \"ZAF\"], \"name\": \"\", \"z\": [30168.0, 5205.0, 44140.0, 71.0, 90632.0, 1806.0], \"type\": \"choropleth\"}], \"name\": \"2020-09-06\"}, {\"data\": [{\"coloraxis\": \"coloraxis\", \"geo\": \"geo\", \"hovertemplate\": \"<b>%{hovertext}</b><br><br>date=2020-09-07<br>iso_code=%{location}<br>new_cases=%{z}<extra></extra>\", \"hovertext\": [\"United States\", \"South Africa\", \"Brazil\", \"India\", \"Russia\", \"Australia\"], \"locations\": [\"USA\", \"ZAF\", \"BRA\", \"IND\", \"RUS\", \"AUS\"], \"name\": \"\", \"z\": [30555.0, 1633.0, 14521.0, 90802.0, 5195.0, 72.0], \"type\": \"choropleth\"}], \"name\": \"2020-09-07\"}, {\"data\": [{\"coloraxis\": \"coloraxis\", \"geo\": \"geo\", \"hovertemplate\": \"<b>%{hovertext}</b><br><br>date=2020-09-08<br>iso_code=%{location}<br>new_cases=%{z}<extra></extra>\", \"hovertext\": [\"Australia\", \"Brazil\", \"India\", \"South Africa\", \"United States\", \"Russia\"], \"locations\": [\"AUS\", \"BRA\", \"IND\", \"ZAF\", \"USA\", \"RUS\"], \"name\": \"\", \"z\": [43.0, 10273.0, 75809.0, 845.0, 24250.0, 5185.0], \"type\": \"choropleth\"}], \"name\": \"2020-09-08\"}, {\"data\": [{\"coloraxis\": \"coloraxis\", \"geo\": \"geo\", \"hovertemplate\": \"<b>%{hovertext}</b><br><br>date=2020-09-09<br>iso_code=%{location}<br>new_cases=%{z}<extra></extra>\", \"hovertext\": [\"United States\", \"Australia\", \"Brazil\", \"South Africa\", \"Russia\", \"India\"], \"locations\": [\"USA\", \"AUS\", \"BRA\", \"ZAF\", \"RUS\", \"IND\"], \"name\": \"\", \"z\": [27122.0, 52.0, 14279.0, 1079.0, 5099.0, 89706.0], \"type\": \"choropleth\"}], \"name\": \"2020-09-09\"}, {\"data\": [{\"coloraxis\": \"coloraxis\", \"geo\": \"geo\", \"hovertemplate\": \"<b>%{hovertext}</b><br><br>date=2020-09-10<br>iso_code=%{location}<br>new_cases=%{z}<extra></extra>\", \"hovertext\": [\"United States\", \"Brazil\", \"South Africa\", \"Australia\", \"India\", \"Russia\"], \"locations\": [\"USA\", \"BRA\", \"ZAF\", \"AUS\", \"IND\", \"RUS\"], \"name\": \"\", \"z\": [31927.0, 35816.0, 1990.0, 91.0, 95735.0, 5218.0], \"type\": \"choropleth\"}], \"name\": \"2020-09-10\"}, {\"data\": [{\"coloraxis\": \"coloraxis\", \"geo\": \"geo\", \"hovertemplate\": \"<b>%{hovertext}</b><br><br>date=2020-09-11<br>iso_code=%{location}<br>new_cases=%{z}<extra></extra>\", \"hovertext\": [\"Russia\", \"Australia\", \"Brazil\", \"India\", \"United States\", \"South Africa\"], \"locations\": [\"RUS\", \"AUS\", \"BRA\", \"IND\", \"USA\", \"ZAF\"], \"name\": \"\", \"z\": [5363.0, 48.0, 40557.0, 96551.0, 37507.0, 2007.0], \"type\": \"choropleth\"}], \"name\": \"2020-09-11\"}, {\"data\": [{\"coloraxis\": \"coloraxis\", \"geo\": \"geo\", \"hovertemplate\": \"<b>%{hovertext}</b><br><br>date=2020-09-12<br>iso_code=%{location}<br>new_cases=%{z}<extra></extra>\", \"hovertext\": [\"Russia\", \"Australia\", \"Brazil\", \"South Africa\", \"India\", \"United States\"], \"locations\": [\"RUS\", \"AUS\", \"BRA\", \"ZAF\", \"IND\", \"USA\"], \"name\": \"\", \"z\": [5504.0, 52.0, 43718.0, 1960.0, 97570.0, 48061.0], \"type\": \"choropleth\"}], \"name\": \"2020-09-12\"}, {\"data\": [{\"coloraxis\": \"coloraxis\", \"geo\": \"geo\", \"hovertemplate\": \"<b>%{hovertext}</b><br><br>date=2020-09-13<br>iso_code=%{location}<br>new_cases=%{z}<extra></extra>\", \"hovertext\": [\"South Africa\", \"Brazil\", \"Russia\", \"Australia\", \"India\", \"United States\"], \"locations\": [\"ZAF\", \"BRA\", \"RUS\", \"AUS\", \"IND\", \"USA\"], \"name\": \"\", \"z\": [1816.0, 33523.0, 5488.0, 42.0, 94372.0, 40820.0], \"type\": \"choropleth\"}], \"name\": \"2020-09-13\"}, {\"data\": [{\"coloraxis\": \"coloraxis\", \"geo\": \"geo\", \"hovertemplate\": \"<b>%{hovertext}</b><br><br>date=2020-09-14<br>iso_code=%{location}<br>new_cases=%{z}<extra></extra>\", \"hovertext\": [\"Russia\", \"Australia\", \"South Africa\", \"India\", \"United States\", \"Brazil\"], \"locations\": [\"RUS\", \"AUS\", \"ZAF\", \"IND\", \"USA\", \"BRA\"], \"name\": \"\", \"z\": [5449.0, 44.0, 1579.0, 92071.0, 33871.0, 14768.0], \"type\": \"choropleth\"}], \"name\": \"2020-09-14\"}, {\"data\": [{\"coloraxis\": \"coloraxis\", \"geo\": \"geo\", \"hovertemplate\": \"<b>%{hovertext}</b><br><br>date=2020-09-15<br>iso_code=%{location}<br>new_cases=%{z}<extra></extra>\", \"hovertext\": [\"Brazil\", \"South Africa\", \"Australia\", \"United States\", \"Russia\", \"India\"], \"locations\": [\"BRA\", \"ZAF\", \"AUS\", \"USA\", \"RUS\", \"IND\"], \"name\": \"\", \"z\": [15155.0, 956.0, 41.0, 34841.0, 5509.0, 83809.0], \"type\": \"choropleth\"}], \"name\": \"2020-09-15\"}, {\"data\": [{\"coloraxis\": \"coloraxis\", \"geo\": \"geo\", \"hovertemplate\": \"<b>%{hovertext}</b><br><br>date=2020-09-16<br>iso_code=%{location}<br>new_cases=%{z}<extra></extra>\", \"hovertext\": [\"India\", \"Australia\", \"Russia\", \"South Africa\", \"Brazil\", \"United States\"], \"locations\": [\"IND\", \"AUS\", \"RUS\", \"ZAF\", \"BRA\", \"USA\"], \"name\": \"\", \"z\": [90123.0, 46.0, 5529.0, 772.0, 36653.0, 51473.0], \"type\": \"choropleth\"}], \"name\": \"2020-09-16\"}, {\"data\": [{\"coloraxis\": \"coloraxis\", \"geo\": \"geo\", \"hovertemplate\": \"<b>%{hovertext}</b><br><br>date=2020-09-17<br>iso_code=%{location}<br>new_cases=%{z}<extra></extra>\", \"hovertext\": [\"India\", \"Russia\", \"South Africa\", \"Brazil\", \"United States\", \"Australia\"], \"locations\": [\"IND\", \"RUS\", \"ZAF\", \"BRA\", \"USA\", \"AUS\"], \"name\": \"\", \"z\": [97894.0, 5670.0, 1923.0, 36820.0, 24598.0, 41.0], \"type\": \"choropleth\"}], \"name\": \"2020-09-17\"}, {\"data\": [{\"coloraxis\": \"coloraxis\", \"geo\": \"geo\", \"hovertemplate\": \"<b>%{hovertext}</b><br><br>date=2020-09-18<br>iso_code=%{location}<br>new_cases=%{z}<extra></extra>\", \"hovertext\": [\"India\", \"South Africa\", \"United States\", \"Russia\", \"Brazil\", \"Australia\"], \"locations\": [\"IND\", \"ZAF\", \"USA\", \"RUS\", \"BRA\", \"AUS\"], \"name\": \"\", \"z\": [96424.0, 2128.0, 43567.0, 5762.0, 36303.0, 34.0], \"type\": \"choropleth\"}], \"name\": \"2020-09-18\"}, {\"data\": [{\"coloraxis\": \"coloraxis\", \"geo\": \"geo\", \"hovertemplate\": \"<b>%{hovertext}</b><br><br>date=2020-09-19<br>iso_code=%{location}<br>new_cases=%{z}<extra></extra>\", \"hovertext\": [\"Australia\", \"South Africa\", \"Russia\", \"Brazil\", \"United States\", \"India\"], \"locations\": [\"AUS\", \"ZAF\", \"RUS\", \"BRA\", \"USA\", \"IND\"], \"name\": \"\", \"z\": [48.0, 2055.0, 5905.0, 39797.0, 50209.0, 93337.0], \"type\": \"choropleth\"}], \"name\": \"2020-09-19\"}, {\"data\": [{\"coloraxis\": \"coloraxis\", \"geo\": \"geo\", \"hovertemplate\": \"<b>%{hovertext}</b><br><br>date=2020-09-20<br>iso_code=%{location}<br>new_cases=%{z}<extra></extra>\", \"hovertext\": [\"Australia\", \"Brazil\", \"India\", \"United States\", \"South Africa\", \"Russia\"], \"locations\": [\"AUS\", \"BRA\", \"IND\", \"USA\", \"ZAF\", \"RUS\"], \"name\": \"\", \"z\": [24.0, 33057.0, 92605.0, 40295.0, 2029.0, 6065.0], \"type\": \"choropleth\"}], \"name\": \"2020-09-20\"}, {\"data\": [{\"coloraxis\": \"coloraxis\", \"geo\": \"geo\", \"hovertemplate\": \"<b>%{hovertext}</b><br><br>date=2020-09-21<br>iso_code=%{location}<br>new_cases=%{z}<extra></extra>\", \"hovertext\": [\"Brazil\", \"Russia\", \"India\", \"South Africa\", \"United States\", \"Australia\"], \"locations\": [\"BRA\", \"RUS\", \"IND\", \"ZAF\", \"USA\", \"AUS\"], \"name\": \"\", \"z\": [16389.0, 6148.0, 86961.0, 1555.0, 39852.0, 13.0], \"type\": \"choropleth\"}], \"name\": \"2020-09-21\"}, {\"data\": [{\"coloraxis\": \"coloraxis\", \"geo\": \"geo\", \"hovertemplate\": \"<b>%{hovertext}</b><br><br>date=2020-09-22<br>iso_code=%{location}<br>new_cases=%{z}<extra></extra>\", \"hovertext\": [\"United States\", \"Brazil\", \"Russia\", \"Australia\", \"India\", \"South Africa\"], \"locations\": [\"USA\", \"BRA\", \"RUS\", \"AUS\", \"IND\", \"ZAF\"], \"name\": \"\", \"z\": [53153.0, 13439.0, 6196.0, 14.0, 75083.0, 725.0], \"type\": \"choropleth\"}], \"name\": \"2020-09-22\"}, {\"data\": [{\"coloraxis\": \"coloraxis\", \"geo\": \"geo\", \"hovertemplate\": \"<b>%{hovertext}</b><br><br>date=2020-09-23<br>iso_code=%{location}<br>new_cases=%{z}<extra></extra>\", \"hovertext\": [\"Russia\", \"Australia\", \"South Africa\", \"United States\", \"India\", \"Brazil\"], \"locations\": [\"RUS\", \"AUS\", \"ZAF\", \"USA\", \"IND\", \"BRA\"], \"name\": \"\", \"z\": [6215.0, 30.0, 1346.0, 38307.0, 83347.0, 33536.0], \"type\": \"choropleth\"}], \"name\": \"2020-09-23\"}, {\"data\": [{\"coloraxis\": \"coloraxis\", \"geo\": \"geo\", \"hovertemplate\": \"<b>%{hovertext}</b><br><br>date=2020-09-24<br>iso_code=%{location}<br>new_cases=%{z}<extra></extra>\", \"hovertext\": [\"Brazil\", \"India\", \"United States\", \"Australia\", \"Russia\", \"South Africa\"], \"locations\": [\"BRA\", \"IND\", \"USA\", \"AUS\", \"RUS\", \"ZAF\"], \"name\": \"\", \"z\": [33281.0, 86508.0, 37930.0, 31.0, 6431.0, 1906.0], \"type\": \"choropleth\"}], \"name\": \"2020-09-24\"}, {\"data\": [{\"coloraxis\": \"coloraxis\", \"geo\": \"geo\", \"hovertemplate\": \"<b>%{hovertext}</b><br><br>date=2020-09-25<br>iso_code=%{location}<br>new_cases=%{z}<extra></extra>\", \"hovertext\": [\"India\", \"Russia\", \"Australia\", \"United States\", \"Brazil\", \"South Africa\"], \"locations\": [\"IND\", \"RUS\", \"AUS\", \"USA\", \"BRA\", \"ZAF\"], \"name\": \"\", \"z\": [86052.0, 6595.0, 10.0, 44213.0, 32817.0, 1861.0], \"type\": \"choropleth\"}], \"name\": \"2020-09-25\"}, {\"data\": [{\"coloraxis\": \"coloraxis\", \"geo\": \"geo\", \"hovertemplate\": \"<b>%{hovertext}</b><br><br>date=2020-09-26<br>iso_code=%{location}<br>new_cases=%{z}<extra></extra>\", \"hovertext\": [\"Australia\", \"Russia\", \"Brazil\", \"India\", \"United States\", \"South Africa\"], \"locations\": [\"AUS\", \"RUS\", \"BRA\", \"IND\", \"USA\", \"ZAF\"], \"name\": \"\", \"z\": [17.0, 7212.0, 31911.0, 85362.0, 55013.0, 1480.0], \"type\": \"choropleth\"}], \"name\": \"2020-09-26\"}, {\"data\": [{\"coloraxis\": \"coloraxis\", \"geo\": \"geo\", \"hovertemplate\": \"<b>%{hovertext}</b><br><br>date=2020-09-27<br>iso_code=%{location}<br>new_cases=%{z}<extra></extra>\", \"hovertext\": [\"Russia\", \"India\", \"South Africa\", \"Australia\", \"United States\", \"Brazil\"], \"locations\": [\"RUS\", \"IND\", \"ZAF\", \"AUS\", \"USA\", \"BRA\"], \"name\": \"\", \"z\": [7523.0, 88600.0, 969.0, 16.0, 45368.0, 28378.0], \"type\": \"choropleth\"}], \"name\": \"2020-09-27\"}, {\"data\": [{\"coloraxis\": \"coloraxis\", \"geo\": \"geo\", \"hovertemplate\": \"<b>%{hovertext}</b><br><br>date=2020-09-28<br>iso_code=%{location}<br>new_cases=%{z}<extra></extra>\", \"hovertext\": [\"United States\", \"India\", \"Australia\", \"South Africa\", \"Brazil\", \"Russia\"], \"locations\": [\"USA\", \"IND\", \"AUS\", \"ZAF\", \"BRA\", \"RUS\"], \"name\": \"\", \"z\": [36248.0, 82170.0, 24.0, 1268.0, 14318.0, 7867.0], \"type\": \"choropleth\"}], \"name\": \"2020-09-28\"}, {\"data\": [{\"coloraxis\": \"coloraxis\", \"geo\": \"geo\", \"hovertemplate\": \"<b>%{hovertext}</b><br><br>date=2020-09-29<br>iso_code=%{location}<br>new_cases=%{z}<extra></extra>\", \"hovertext\": [\"Australia\", \"South Africa\", \"Russia\", \"United States\", \"Brazil\", \"India\"], \"locations\": [\"AUS\", \"ZAF\", \"RUS\", \"USA\", \"BRA\", \"IND\"], \"name\": \"\", \"z\": [4.0, 903.0, 8135.0, 32998.0, 13155.0, 70589.0], \"type\": \"choropleth\"}], \"name\": \"2020-09-29\"}, {\"data\": [{\"coloraxis\": \"coloraxis\", \"geo\": \"geo\", \"hovertemplate\": \"<b>%{hovertext}</b><br><br>date=2020-09-30<br>iso_code=%{location}<br>new_cases=%{z}<extra></extra>\", \"hovertext\": [\"Brazil\", \"Russia\", \"Australia\", \"India\", \"South Africa\", \"United States\"], \"locations\": [\"BRA\", \"RUS\", \"AUS\", \"IND\", \"ZAF\", \"USA\"], \"name\": \"\", \"z\": [32058.0, 8232.0, 19.0, 80472.0, 903.0, 43017.0], \"type\": \"choropleth\"}], \"name\": \"2020-09-30\"}, {\"data\": [{\"coloraxis\": \"coloraxis\", \"geo\": \"geo\", \"hovertemplate\": \"<b>%{hovertext}</b><br><br>date=2020-10-01<br>iso_code=%{location}<br>new_cases=%{z}<extra></extra>\", \"hovertext\": [\"Australia\", \"India\", \"South Africa\", \"Russia\", \"Brazil\", \"United States\"], \"locations\": [\"AUS\", \"IND\", \"ZAF\", \"RUS\", \"BRA\", \"USA\"], \"name\": \"\", \"z\": [0.0, 86821.0, 1767.0, 8481.0, 33413.0, 41982.0], \"type\": \"choropleth\"}], \"name\": \"2020-10-01\"}, {\"data\": [{\"coloraxis\": \"coloraxis\", \"geo\": \"geo\", \"hovertemplate\": \"<b>%{hovertext}</b><br><br>date=2020-10-02<br>iso_code=%{location}<br>new_cases=%{z}<extra></extra>\", \"hovertext\": [\"Australia\", \"Brazil\", \"India\", \"United States\", \"South Africa\", \"Russia\"], \"locations\": [\"AUS\", \"BRA\", \"IND\", \"USA\", \"ZAF\", \"RUS\"], \"name\": \"\", \"z\": [33.0, 36157.0, 81484.0, 44771.0, 1745.0, 8945.0], \"type\": \"choropleth\"}], \"name\": \"2020-10-02\"}, {\"data\": [{\"coloraxis\": \"coloraxis\", \"geo\": \"geo\", \"hovertemplate\": \"<b>%{hovertext}</b><br><br>date=2020-10-03<br>iso_code=%{location}<br>new_cases=%{z}<extra></extra>\", \"hovertext\": [\"United States\", \"South Africa\", \"India\", \"Australia\", \"Brazil\", \"Russia\"], \"locations\": [\"USA\", \"ZAF\", \"IND\", \"AUS\", \"BRA\", \"RUS\"], \"name\": \"\", \"z\": [54471.0, 1749.0, 79476.0, 17.0, 33431.0, 9412.0], \"type\": \"choropleth\"}], \"name\": \"2020-10-03\"}, {\"data\": [{\"coloraxis\": \"coloraxis\", \"geo\": \"geo\", \"hovertemplate\": \"<b>%{hovertext}</b><br><br>date=2020-10-04<br>iso_code=%{location}<br>new_cases=%{z}<extra></extra>\", \"hovertext\": [\"Brazil\", \"South Africa\", \"India\", \"Russia\", \"Australia\", \"United States\"], \"locations\": [\"BRA\", \"ZAF\", \"IND\", \"RUS\", \"AUS\", \"USA\"], \"name\": \"\", \"z\": [26310.0, 1883.0, 75829.0, 9859.0, 8.0, 50659.0], \"type\": \"choropleth\"}], \"name\": \"2020-10-04\"}, {\"data\": [{\"coloraxis\": \"coloraxis\", \"geo\": \"geo\", \"hovertemplate\": \"<b>%{hovertext}</b><br><br>date=2020-10-05<br>iso_code=%{location}<br>new_cases=%{z}<extra></extra>\", \"hovertext\": [\"Russia\", \"Australia\", \"Brazil\", \"India\", \"United States\", \"South Africa\"], \"locations\": [\"RUS\", \"AUS\", \"BRA\", \"IND\", \"USA\", \"ZAF\"], \"name\": \"\", \"z\": [10499.0, 15.0, 8456.0, 74442.0, 34901.0, 1573.0], \"type\": \"choropleth\"}], \"name\": \"2020-10-05\"}, {\"data\": [{\"coloraxis\": \"coloraxis\", \"geo\": \"geo\", \"hovertemplate\": \"<b>%{hovertext}</b><br><br>date=2020-10-06<br>iso_code=%{location}<br>new_cases=%{z}<extra></extra>\", \"hovertext\": [\"South Africa\", \"Brazil\", \"Russia\", \"India\", \"United States\", \"Australia\"], \"locations\": [\"ZAF\", \"BRA\", \"RUS\", \"IND\", \"USA\", \"AUS\"], \"name\": \"\", \"z\": [926.0, 11946.0, 10888.0, 61267.0, 40705.0, 13.0], \"type\": \"choropleth\"}], \"name\": \"2020-10-06\"}, {\"data\": [{\"coloraxis\": \"coloraxis\", \"geo\": \"geo\", \"hovertemplate\": \"<b>%{hovertext}</b><br><br>date=2020-10-07<br>iso_code=%{location}<br>new_cases=%{z}<extra></extra>\", \"hovertext\": [\"Russia\", \"Brazil\", \"India\", \"Australia\", \"United States\", \"South Africa\"], \"locations\": [\"RUS\", \"BRA\", \"IND\", \"AUS\", \"USA\", \"ZAF\"], \"name\": \"\", \"z\": [11615.0, 41906.0, 72049.0, 25.0, 43062.0, 1027.0], \"type\": \"choropleth\"}], \"name\": \"2020-10-07\"}, {\"data\": [{\"coloraxis\": \"coloraxis\", \"geo\": \"geo\", \"hovertemplate\": \"<b>%{hovertext}</b><br><br>date=2020-10-08<br>iso_code=%{location}<br>new_cases=%{z}<extra></extra>\", \"hovertext\": [\"South Africa\", \"Brazil\", \"India\", \"Australia\", \"United States\", \"Russia\"], \"locations\": [\"ZAF\", \"BRA\", \"IND\", \"AUS\", \"USA\", \"RUS\"], \"name\": \"\", \"z\": [1913.0, 31553.0, 78524.0, 8.0, 48182.0, 11115.0], \"type\": \"choropleth\"}], \"name\": \"2020-10-08\"}, {\"data\": [{\"coloraxis\": \"coloraxis\", \"geo\": \"geo\", \"hovertemplate\": \"<b>%{hovertext}</b><br><br>date=2020-10-09<br>iso_code=%{location}<br>new_cases=%{z}<extra></extra>\", \"hovertext\": [\"Australia\", \"United States\", \"Brazil\", \"India\", \"Russia\", \"South Africa\"], \"locations\": [\"AUS\", \"USA\", \"BRA\", \"IND\", \"RUS\", \"ZAF\"], \"name\": \"\", \"z\": [24.0, 56800.0, 27750.0, 70496.0, 11493.0, 1736.0], \"type\": \"choropleth\"}], \"name\": \"2020-10-09\"}, {\"data\": [{\"coloraxis\": \"coloraxis\", \"geo\": \"geo\", \"hovertemplate\": \"<b>%{hovertext}</b><br><br>date=2020-10-10<br>iso_code=%{location}<br>new_cases=%{z}<extra></extra>\", \"hovertext\": [\"India\", \"Brazil\", \"Russia\", \"United States\", \"Australia\", \"South Africa\"], \"locations\": [\"IND\", \"BRA\", \"RUS\", \"USA\", \"AUS\", \"ZAF\"], \"name\": \"\", \"z\": [73272.0, 27444.0, 12126.0, 58082.0, 23.0, 1641.0], \"type\": \"choropleth\"}], \"name\": \"2020-10-10\"}, {\"data\": [{\"coloraxis\": \"coloraxis\", \"geo\": \"geo\", \"hovertemplate\": \"<b>%{hovertext}</b><br><br>date=2020-10-11<br>iso_code=%{location}<br>new_cases=%{z}<extra></extra>\", \"hovertext\": [\"India\", \"United States\", \"Russia\", \"South Africa\", \"Brazil\", \"Australia\"], \"locations\": [\"IND\", \"USA\", \"RUS\", \"ZAF\", \"BRA\", \"AUS\"], \"name\": \"\", \"z\": [74383.0, 54271.0, 12846.0, 2364.0, 26749.0, 15.0], \"type\": \"choropleth\"}], \"name\": \"2020-10-11\"}, {\"data\": [{\"coloraxis\": \"coloraxis\", \"geo\": \"geo\", \"hovertemplate\": \"<b>%{hovertext}</b><br><br>date=2020-10-12<br>iso_code=%{location}<br>new_cases=%{z}<extra></extra>\", \"hovertext\": [\"India\", \"Brazil\", \"Russia\", \"United States\", \"Australia\", \"South Africa\"], \"locations\": [\"IND\", \"BRA\", \"RUS\", \"USA\", \"AUS\", \"ZAF\"], \"name\": \"\", \"z\": [66732.0, 12345.0, 13634.0, 43597.0, 20.0, 1575.0], \"type\": \"choropleth\"}], \"name\": \"2020-10-12\"}, {\"data\": [{\"coloraxis\": \"coloraxis\", \"geo\": \"geo\", \"hovertemplate\": \"<b>%{hovertext}</b><br><br>date=2020-10-13<br>iso_code=%{location}<br>new_cases=%{z}<extra></extra>\", \"hovertext\": [\"India\", \"Australia\", \"Brazil\", \"Russia\", \"South Africa\", \"United States\"], \"locations\": [\"IND\", \"AUS\", \"BRA\", \"RUS\", \"ZAF\", \"USA\"], \"name\": \"\", \"z\": [55342.0, 22.0, 8426.0, 13592.0, 0.0, 41653.0], \"type\": \"choropleth\"}], \"name\": \"2020-10-13\"}, {\"data\": [{\"coloraxis\": \"coloraxis\", \"geo\": \"geo\", \"hovertemplate\": \"<b>%{hovertext}</b><br><br>date=2020-10-14<br>iso_code=%{location}<br>new_cases=%{z}<extra></extra>\", \"hovertext\": [\"South Africa\", \"India\", \"Brazil\", \"United States\", \"Australia\", \"Russia\"], \"locations\": [\"ZAF\", \"IND\", \"BRA\", \"USA\", \"AUS\", \"RUS\"], \"name\": \"\", \"z\": [2066.0, 63509.0, 10220.0, 52517.0, 31.0, 13868.0], \"type\": \"choropleth\"}], \"name\": \"2020-10-14\"}, {\"data\": [{\"coloraxis\": \"coloraxis\", \"geo\": \"geo\", \"hovertemplate\": \"<b>%{hovertext}</b><br><br>date=2020-10-15<br>iso_code=%{location}<br>new_cases=%{z}<extra></extra>\", \"hovertext\": [\"Brazil\", \"India\", \"Russia\", \"South Africa\", \"United States\", \"Australia\"], \"locations\": [\"BRA\", \"IND\", \"RUS\", \"ZAF\", \"USA\", \"AUS\"], \"name\": \"\", \"z\": [27235.0, 67708.0, 14231.0, 1877.0, 59386.0, 24.0], \"type\": \"choropleth\"}], \"name\": \"2020-10-15\"}, {\"data\": [{\"coloraxis\": \"coloraxis\", \"geo\": \"geo\", \"hovertemplate\": \"<b>%{hovertext}</b><br><br>date=2020-10-16<br>iso_code=%{location}<br>new_cases=%{z}<extra></extra>\", \"hovertext\": [\"Australia\", \"Russia\", \"South Africa\", \"United States\", \"India\", \"Brazil\"], \"locations\": [\"AUS\", \"RUS\", \"ZAF\", \"USA\", \"IND\", \"BRA\"], \"name\": \"\", \"z\": [21.0, 13754.0, 1770.0, 63785.0, 63371.0, 28523.0], \"type\": \"choropleth\"}], \"name\": \"2020-10-16\"}, {\"data\": [{\"coloraxis\": \"coloraxis\", \"geo\": \"geo\", \"hovertemplate\": \"<b>%{hovertext}</b><br><br>date=2020-10-17<br>iso_code=%{location}<br>new_cases=%{z}<extra></extra>\", \"hovertext\": [\"Russia\", \"Australia\", \"United States\", \"South Africa\", \"India\", \"Brazil\"], \"locations\": [\"RUS\", \"AUS\", \"USA\", \"ZAF\", \"IND\", \"BRA\"], \"name\": \"\", \"z\": [15150.0, 9.0, 70256.0, 2019.0, 62212.0, 30914.0], \"type\": \"choropleth\"}], \"name\": \"2020-10-17\"}, {\"data\": [{\"coloraxis\": \"coloraxis\", \"geo\": \"geo\", \"hovertemplate\": \"<b>%{hovertext}</b><br><br>date=2020-10-18<br>iso_code=%{location}<br>new_cases=%{z}<extra></extra>\", \"hovertext\": [\"South Africa\", \"Australia\", \"India\", \"United States\", \"Brazil\", \"Russia\"], \"locations\": [\"ZAF\", \"AUS\", \"IND\", \"USA\", \"BRA\", \"RUS\"], \"name\": \"\", \"z\": [1928.0, 12.0, 61871.0, 56611.0, 24062.0, 14922.0], \"type\": \"choropleth\"}], \"name\": \"2020-10-18\"}, {\"data\": [{\"coloraxis\": \"coloraxis\", \"geo\": \"geo\", \"hovertemplate\": \"<b>%{hovertext}</b><br><br>date=2020-10-19<br>iso_code=%{location}<br>new_cases=%{z}<extra></extra>\", \"hovertext\": [\"United States\", \"Russia\", \"India\", \"Australia\", \"Brazil\", \"South Africa\"], \"locations\": [\"USA\", \"RUS\", \"IND\", \"AUS\", \"BRA\", \"ZAF\"], \"name\": \"\", \"z\": [47843.0, 15099.0, 55722.0, 7.0, 10982.0, 1662.0], \"type\": \"choropleth\"}], \"name\": \"2020-10-19\"}, {\"data\": [{\"coloraxis\": \"coloraxis\", \"geo\": \"geo\", \"hovertemplate\": \"<b>%{hovertext}</b><br><br>date=2020-10-20<br>iso_code=%{location}<br>new_cases=%{z}<extra></extra>\", \"hovertext\": [\"United States\", \"India\", \"Australia\", \"South Africa\", \"Russia\", \"Brazil\"], \"locations\": [\"USA\", \"IND\", \"AUS\", \"ZAF\", \"RUS\", \"BRA\"], \"name\": \"\", \"z\": [60160.0, 46790.0, 9.0, 1461.0, 15982.0, 15383.0], \"type\": \"choropleth\"}], \"name\": \"2020-10-20\"}, {\"data\": [{\"coloraxis\": \"coloraxis\", \"geo\": \"geo\", \"hovertemplate\": \"<b>%{hovertext}</b><br><br>date=2020-10-21<br>iso_code=%{location}<br>new_cases=%{z}<extra></extra>\", \"hovertext\": [\"United States\", \"Australia\", \"Brazil\", \"Russia\", \"South Africa\", \"India\"], \"locations\": [\"USA\", \"AUS\", \"BRA\", \"RUS\", \"ZAF\", \"IND\"], \"name\": \"\", \"z\": [58549.0, 31.0, 23227.0, 16319.0, 1050.0, 54044.0], \"type\": \"choropleth\"}], \"name\": \"2020-10-21\"}, {\"data\": [{\"coloraxis\": \"coloraxis\", \"geo\": \"geo\", \"hovertemplate\": \"<b>%{hovertext}</b><br><br>date=2020-10-22<br>iso_code=%{location}<br>new_cases=%{z}<extra></extra>\", \"hovertext\": [\"Russia\", \"Brazil\", \"South Africa\", \"United States\", \"India\", \"Australia\"], \"locations\": [\"RUS\", \"BRA\", \"ZAF\", \"USA\", \"IND\", \"AUS\"], \"name\": \"\", \"z\": [15700.0, 24818.0, 2055.0, 62978.0, 55839.0, 14.0], \"type\": \"choropleth\"}], \"name\": \"2020-10-22\"}, {\"data\": [{\"coloraxis\": \"coloraxis\", \"geo\": \"geo\", \"hovertemplate\": \"<b>%{hovertext}</b><br><br>date=2020-10-23<br>iso_code=%{location}<br>new_cases=%{z}<extra></extra>\", \"hovertext\": [\"India\", \"United States\", \"Russia\", \"Brazil\", \"South Africa\", \"Australia\"], \"locations\": [\"IND\", \"USA\", \"RUS\", \"BRA\", \"ZAF\", \"AUS\"], \"name\": \"\", \"z\": [54366.0, 72058.0, 15971.0, 24858.0, 2156.0, 22.0], \"type\": \"choropleth\"}], \"name\": \"2020-10-23\"}, {\"data\": [{\"coloraxis\": \"coloraxis\", \"geo\": \"geo\", \"hovertemplate\": \"<b>%{hovertext}</b><br><br>date=2020-10-24<br>iso_code=%{location}<br>new_cases=%{z}<extra></extra>\", \"hovertext\": [\"South Africa\", \"Australia\", \"Russia\", \"India\", \"Brazil\", \"United States\"], \"locations\": [\"ZAF\", \"AUS\", \"RUS\", \"IND\", \"BRA\", \"USA\"], \"name\": \"\", \"z\": [1897.0, 18.0, 17340.0, 53370.0, 30026.0, 85329.0], \"type\": \"choropleth\"}], \"name\": \"2020-10-24\"}, {\"data\": [{\"coloraxis\": \"coloraxis\", \"geo\": \"geo\", \"hovertemplate\": \"<b>%{hovertext}</b><br><br>date=2020-10-25<br>iso_code=%{location}<br>new_cases=%{z}<extra></extra>\", \"hovertext\": [\"Brazil\", \"India\", \"Australia\", \"Russia\", \"United States\", \"South Africa\"], \"locations\": [\"BRA\", \"IND\", \"AUS\", \"RUS\", \"USA\", \"ZAF\"], \"name\": \"\", \"z\": [26979.0, 50129.0, 15.0, 16521.0, 83056.0, 1834.0], \"type\": \"choropleth\"}], \"name\": \"2020-10-25\"}, {\"data\": [{\"coloraxis\": \"coloraxis\", \"geo\": \"geo\", \"hovertemplate\": \"<b>%{hovertext}</b><br><br>date=2020-10-26<br>iso_code=%{location}<br>new_cases=%{z}<extra></extra>\", \"hovertext\": [\"Russia\", \"United States\", \"Brazil\", \"South Africa\", \"India\", \"Australia\"], \"locations\": [\"RUS\", \"USA\", \"BRA\", \"ZAF\", \"IND\", \"AUS\"], \"name\": \"\", \"z\": [16710.0, 59440.0, 13493.0, 1622.0, 45148.0, 21.0], \"type\": \"choropleth\"}], \"name\": \"2020-10-26\"}, {\"data\": [{\"coloraxis\": \"coloraxis\", \"geo\": \"geo\", \"hovertemplate\": \"<b>%{hovertext}</b><br><br>date=2020-10-27<br>iso_code=%{location}<br>new_cases=%{z}<extra></extra>\", \"hovertext\": [\"Russia\", \"United States\", \"Brazil\", \"South Africa\", \"Australia\", \"India\"], \"locations\": [\"RUS\", \"USA\", \"BRA\", \"ZAF\", \"AUS\", \"IND\"], \"name\": \"\", \"z\": [17347.0, 68359.0, 15726.0, 891.0, 7.0, 36470.0], \"type\": \"choropleth\"}], \"name\": \"2020-10-27\"}, {\"data\": [{\"coloraxis\": \"coloraxis\", \"geo\": \"geo\", \"hovertemplate\": \"<b>%{hovertext}</b><br><br>date=2020-10-28<br>iso_code=%{location}<br>new_cases=%{z}<extra></extra>\", \"hovertext\": [\"South Africa\", \"India\", \"Australia\", \"United States\", \"Russia\", \"Brazil\"], \"locations\": [\"ZAF\", \"IND\", \"AUS\", \"USA\", \"RUS\", \"BRA\"], \"name\": \"\", \"z\": [1092.0, 43893.0, 14.0, 75129.0, 16550.0, 29787.0], \"type\": \"choropleth\"}], \"name\": \"2020-10-28\"}, {\"data\": [{\"coloraxis\": \"coloraxis\", \"geo\": \"geo\", \"hovertemplate\": \"<b>%{hovertext}</b><br><br>date=2020-10-29<br>iso_code=%{location}<br>new_cases=%{z}<extra></extra>\", \"hovertext\": [\"Australia\", \"South Africa\", \"Russia\", \"India\", \"United States\", \"Brazil\"], \"locations\": [\"AUS\", \"ZAF\", \"RUS\", \"IND\", \"USA\", \"BRA\"], \"name\": \"\", \"z\": [13.0, 1863.0, 16202.0, 49881.0, 78371.0, 28629.0], \"type\": \"choropleth\"}], \"name\": \"2020-10-29\"}, {\"data\": [{\"coloraxis\": \"coloraxis\", \"geo\": \"geo\", \"hovertemplate\": \"<b>%{hovertext}</b><br><br>date=2020-10-30<br>iso_code=%{location}<br>new_cases=%{z}<extra></extra>\", \"hovertext\": [\"India\", \"Russia\", \"United States\", \"South Africa\", \"Australia\", \"Brazil\"], \"locations\": [\"IND\", \"RUS\", \"USA\", \"ZAF\", \"AUS\", \"BRA\"], \"name\": \"\", \"z\": [48648.0, 17717.0, 88130.0, 2056.0, 15.0, 26106.0], \"type\": \"choropleth\"}], \"name\": \"2020-10-30\"}, {\"data\": [{\"coloraxis\": \"coloraxis\", \"geo\": \"geo\", \"hovertemplate\": \"<b>%{hovertext}</b><br><br>date=2020-10-31<br>iso_code=%{location}<br>new_cases=%{z}<extra></extra>\", \"hovertext\": [\"India\", \"Brazil\", \"Australia\", \"Russia\", \"United States\", \"South Africa\"], \"locations\": [\"IND\", \"BRA\", \"AUS\", \"RUS\", \"USA\", \"ZAF\"], \"name\": \"\", \"z\": [48268.0, 22282.0, 13.0, 18283.0, 101273.0, 1912.0], \"type\": \"choropleth\"}], \"name\": \"2020-10-31\"}, {\"data\": [{\"coloraxis\": \"coloraxis\", \"geo\": \"geo\", \"hovertemplate\": \"<b>%{hovertext}</b><br><br>date=2020-11-01<br>iso_code=%{location}<br>new_cases=%{z}<extra></extra>\", \"hovertext\": [\"South Africa\", \"Australia\", \"India\", \"Russia\", \"United States\", \"Brazil\"], \"locations\": [\"ZAF\", \"AUS\", \"IND\", \"RUS\", \"USA\", \"BRA\"], \"name\": \"\", \"z\": [1770.0, 8.0, 46963.0, 18140.0, 78934.0, 18947.0], \"type\": \"choropleth\"}], \"name\": \"2020-11-01\"}, {\"data\": [{\"coloraxis\": \"coloraxis\", \"geo\": \"geo\", \"hovertemplate\": \"<b>%{hovertext}</b><br><br>date=2020-11-02<br>iso_code=%{location}<br>new_cases=%{z}<extra></extra>\", \"hovertext\": [\"Australia\", \"India\", \"Russia\", \"South Africa\", \"United States\", \"Brazil\"], \"locations\": [\"AUS\", \"IND\", \"RUS\", \"ZAF\", \"USA\", \"BRA\"], \"name\": \"\", \"z\": [5.0, 45231.0, 18665.0, 1371.0, 81001.0, 10100.0], \"type\": \"choropleth\"}], \"name\": \"2020-11-02\"}, {\"data\": [{\"coloraxis\": \"coloraxis\", \"geo\": \"geo\", \"hovertemplate\": \"<b>%{hovertext}</b><br><br>date=2020-11-03<br>iso_code=%{location}<br>new_cases=%{z}<extra></extra>\", \"hovertext\": [\"Brazil\", \"India\", \"Russia\", \"South Africa\", \"Australia\", \"United States\"], \"locations\": [\"BRA\", \"IND\", \"RUS\", \"ZAF\", \"AUS\", \"USA\"], \"name\": \"\", \"z\": [8501.0, 38310.0, 18257.0, 772.0, 7.0, 83883.0], \"type\": \"choropleth\"}], \"name\": \"2020-11-03\"}, {\"data\": [{\"coloraxis\": \"coloraxis\", \"geo\": \"geo\", \"hovertemplate\": \"<b>%{hovertext}</b><br><br>date=2020-11-04<br>iso_code=%{location}<br>new_cases=%{z}<extra></extra>\", \"hovertext\": [\"United States\", \"South Africa\", \"Brazil\", \"India\", \"Russia\", \"Australia\"], \"locations\": [\"USA\", \"ZAF\", \"BRA\", \"IND\", \"RUS\", \"AUS\"], \"name\": \"\", \"z\": [92734.0, 1241.0, 11843.0, 46253.0, 18648.0, 8.0], \"type\": \"choropleth\"}], \"name\": \"2020-11-04\"}, {\"data\": [{\"coloraxis\": \"coloraxis\", \"geo\": \"geo\", \"hovertemplate\": \"<b>%{hovertext}</b><br><br>date=2020-11-05<br>iso_code=%{location}<br>new_cases=%{z}<extra></extra>\", \"hovertext\": [\"Australia\", \"Brazil\", \"United States\", \"India\", \"Russia\", \"South Africa\"], \"locations\": [\"AUS\", \"BRA\", \"USA\", \"IND\", \"RUS\", \"ZAF\"], \"name\": \"\", \"z\": [12.0, 23976.0, 102507.0, 50210.0, 19768.0, 1712.0], \"type\": \"choropleth\"}], \"name\": \"2020-11-05\"}]);\n",
       "                        }).then(function(){\n",
       "                            \n",
       "var gd = document.getElementById('59a0f29d-bc26-436c-a0ac-5545fe180279');\n",
       "var x = new MutationObserver(function (mutations, observer) {{\n",
       "        var display = window.getComputedStyle(gd).display;\n",
       "        if (!display || display === 'none') {{\n",
       "            console.log([gd, 'removed!']);\n",
       "            Plotly.purge(gd);\n",
       "            observer.disconnect();\n",
       "        }}\n",
       "}});\n",
       "\n",
       "// Listen for the removal of the full notebook cells\n",
       "var notebookContainer = gd.closest('#notebook-container');\n",
       "if (notebookContainer) {{\n",
       "    x.observe(notebookContainer, {childList: true});\n",
       "}}\n",
       "\n",
       "// Listen for the clearing of the current output cell\n",
       "var outputEl = gd.closest('.output');\n",
       "if (outputEl) {{\n",
       "    x.observe(outputEl, {childList: true});\n",
       "}}\n",
       "\n",
       "                        })                };                });            </script>        </div>"
      ]
     },
     "metadata": {},
     "output_type": "display_data"
    }
   ],
   "source": [
    "fig = px.choropleth(covid_map, locations=\"iso_code\",\n",
    "                    color=\"new_cases\",\n",
    "                    hover_name=\"location\",\n",
    "                    title = \"Daily new COVID cases\",\n",
    "                   color_continuous_scale=px.colors.sequential.PuRd,\n",
    "                   animation_frame=\"date\")\n",
    "#fig[\"layout\"].pop(\"updatemenus\")\n",
    "fig.show()"
   ]
  }
 ],
 "metadata": {
  "kernelspec": {
   "display_name": "Python 3",
   "language": "python",
   "name": "python3"
  },
  "language_info": {
   "codemirror_mode": {
    "name": "ipython",
    "version": 3
   },
   "file_extension": ".py",
   "mimetype": "text/x-python",
   "name": "python",
   "nbconvert_exporter": "python",
   "pygments_lexer": "ipython3",
   "version": "3.7.1"
  }
 },
 "nbformat": 4,
 "nbformat_minor": 2
}
