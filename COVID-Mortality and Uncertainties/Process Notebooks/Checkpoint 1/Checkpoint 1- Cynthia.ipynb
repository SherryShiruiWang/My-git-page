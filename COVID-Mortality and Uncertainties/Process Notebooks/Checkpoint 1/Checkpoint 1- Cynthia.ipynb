{
 "cells": [
  {
   "cell_type": "markdown",
   "metadata": {
    "id": "SWMcHMaV_ZXl"
   },
   "source": [
    "<h1><center><b>Covid-19 Exploratory Data Analysis in Australia</b></center></h1>\n",
    "<h3><center>Author: Cynthia Mather</center></h3>"
   ]
  },
  {
   "cell_type": "markdown",
   "metadata": {
    "id": "6B9ODr5Rd9Kn"
   },
   "source": [
    "## **Introduction**\n",
    "\n",
    "The team and I decided to dedicate this EDA on understanding the general trend of COVID-19 across Australia while considering the driving question proposed. With that being said, the course of this report does not answer the question per say but explores the different approaches to answering the openness of the question using basic data exploration techniques.  "
   ]
  },
  {
   "cell_type": "markdown",
   "metadata": {
    "id": "3TmgAWQReCK6"
   },
   "source": [
    "## **Part 1: EDA**\n",
    "\n",
    "In this section, we will clean the data and perform EDA to get an understanding of the data.\n",
    "\n",
    "The code below imports the essential packages required to perform data engineering and explore the data in terms of the driving question. "
   ]
  },
  {
   "cell_type": "code",
   "execution_count": 1,
   "metadata": {
    "executionInfo": {
     "elapsed": 4935,
     "status": "ok",
     "timestamp": 1603240755972,
     "user": {
      "displayName": "Cynthia Mather",
      "photoUrl": "",
      "userId": "01918413556686023219"
     },
     "user_tz": -660
    },
    "id": "7WrSr1lq_Lt-"
   },
   "outputs": [],
   "source": [
    "import numpy as np\n",
    "import pandas as pd\n",
    "import matplotlib.pyplot as plt\n",
    "from datetime import datetime\n",
    "from functools import reduce\n",
    "import pandas.plotting._converter as pandacnv\n",
    "pandacnv.register()\n",
    "pd.options.mode.chained_assignment = None \n"
   ]
  },
  {
   "cell_type": "markdown",
   "metadata": {
    "id": "zvlJe7RAolUh"
   },
   "source": [
    "Now that the required packages are imported, we can begin by reading in the main dataset. This dataset from https://www.covid19data.com.au/data-notes is Australian based and contains multiple state and federal health department sources. The team and I chose to explore Australia as the main country of interest as it is more sensible and meaningful. The code below accesses the state data from the github url ensuring that the newest data is being used as these datasets are updaded daily."
   ]
  },
  {
   "cell_type": "code",
   "execution_count": 2,
   "metadata": {
    "executionInfo": {
     "elapsed": 4916,
     "status": "ok",
     "timestamp": 1603240755974,
     "user": {
      "displayName": "Cynthia Mather",
      "photoUrl": "",
      "userId": "01918413556686023219"
     },
     "user_tz": -660
    },
    "id": "fh6x-O8hAJoq"
   },
   "outputs": [],
   "source": [
    "url='https://github.com/M3IT/COVID-19_Data/blob/master/Data/COVID_AU_state.csv?raw=true'\n",
    "covid_raw = pd.read_csv(url)"
   ]
  },
  {
   "cell_type": "markdown",
   "metadata": {
    "id": "QfAR7ohpp2pw"
   },
   "source": [
    "Before conducting any cleaning on the data, we can create a copy of the data, ensuring the raw data is left untouched and look at the head and dimensions of the data to gain an initial understanding of the data. "
   ]
  },
  {
   "cell_type": "code",
   "execution_count": 3,
   "metadata": {
    "colab": {
     "base_uri": "https://localhost:8080/",
     "height": 201
    },
    "executionInfo": {
     "elapsed": 4903,
     "status": "ok",
     "timestamp": 1603240755977,
     "user": {
      "displayName": "Cynthia Mather",
      "photoUrl": "",
      "userId": "01918413556686023219"
     },
     "user_tz": -660
    },
    "id": "NycfYJ8GB-Y2",
    "outputId": "f52eb069-57c3-4af2-81e4-1c4763aacdc5"
   },
   "outputs": [
    {
     "data": {
      "text/html": [
       "<div>\n",
       "<style scoped>\n",
       "    .dataframe tbody tr th:only-of-type {\n",
       "        vertical-align: middle;\n",
       "    }\n",
       "\n",
       "    .dataframe tbody tr th {\n",
       "        vertical-align: top;\n",
       "    }\n",
       "\n",
       "    .dataframe thead th {\n",
       "        text-align: right;\n",
       "    }\n",
       "</style>\n",
       "<table border=\"1\" class=\"dataframe\">\n",
       "  <thead>\n",
       "    <tr style=\"text-align: right;\">\n",
       "      <th></th>\n",
       "      <th>date</th>\n",
       "      <th>state</th>\n",
       "      <th>state_abbrev</th>\n",
       "      <th>confirmed</th>\n",
       "      <th>confirmed_cum</th>\n",
       "      <th>deaths</th>\n",
       "      <th>deaths_cum</th>\n",
       "      <th>tests</th>\n",
       "      <th>tests_cum</th>\n",
       "      <th>positives</th>\n",
       "      <th>positives_cum</th>\n",
       "      <th>recovered</th>\n",
       "      <th>recovered_cum</th>\n",
       "      <th>hosp</th>\n",
       "      <th>hosp_cum</th>\n",
       "      <th>icu</th>\n",
       "      <th>icu_cum</th>\n",
       "      <th>vent</th>\n",
       "      <th>vent_cum</th>\n",
       "    </tr>\n",
       "  </thead>\n",
       "  <tbody>\n",
       "    <tr>\n",
       "      <th>0</th>\n",
       "      <td>2020-01-25</td>\n",
       "      <td>Australian Capital Territory</td>\n",
       "      <td>ACT</td>\n",
       "      <td>0</td>\n",
       "      <td>0</td>\n",
       "      <td>0</td>\n",
       "      <td>0</td>\n",
       "      <td>0</td>\n",
       "      <td>0</td>\n",
       "      <td>0</td>\n",
       "      <td>0</td>\n",
       "      <td>0</td>\n",
       "      <td>0</td>\n",
       "      <td>0</td>\n",
       "      <td>0</td>\n",
       "      <td>0</td>\n",
       "      <td>0</td>\n",
       "      <td>0</td>\n",
       "      <td>0</td>\n",
       "    </tr>\n",
       "    <tr>\n",
       "      <th>1</th>\n",
       "      <td>2020-01-25</td>\n",
       "      <td>New South Wales</td>\n",
       "      <td>NSW</td>\n",
       "      <td>3</td>\n",
       "      <td>3</td>\n",
       "      <td>0</td>\n",
       "      <td>0</td>\n",
       "      <td>0</td>\n",
       "      <td>0</td>\n",
       "      <td>0</td>\n",
       "      <td>0</td>\n",
       "      <td>0</td>\n",
       "      <td>0</td>\n",
       "      <td>0</td>\n",
       "      <td>0</td>\n",
       "      <td>0</td>\n",
       "      <td>0</td>\n",
       "      <td>0</td>\n",
       "      <td>0</td>\n",
       "    </tr>\n",
       "    <tr>\n",
       "      <th>2</th>\n",
       "      <td>2020-01-25</td>\n",
       "      <td>Northern Territory</td>\n",
       "      <td>NT</td>\n",
       "      <td>0</td>\n",
       "      <td>0</td>\n",
       "      <td>0</td>\n",
       "      <td>0</td>\n",
       "      <td>0</td>\n",
       "      <td>0</td>\n",
       "      <td>0</td>\n",
       "      <td>0</td>\n",
       "      <td>0</td>\n",
       "      <td>0</td>\n",
       "      <td>0</td>\n",
       "      <td>0</td>\n",
       "      <td>0</td>\n",
       "      <td>0</td>\n",
       "      <td>0</td>\n",
       "      <td>0</td>\n",
       "    </tr>\n",
       "    <tr>\n",
       "      <th>3</th>\n",
       "      <td>2020-01-25</td>\n",
       "      <td>Queensland</td>\n",
       "      <td>QLD</td>\n",
       "      <td>0</td>\n",
       "      <td>0</td>\n",
       "      <td>0</td>\n",
       "      <td>0</td>\n",
       "      <td>0</td>\n",
       "      <td>0</td>\n",
       "      <td>0</td>\n",
       "      <td>0</td>\n",
       "      <td>0</td>\n",
       "      <td>0</td>\n",
       "      <td>0</td>\n",
       "      <td>0</td>\n",
       "      <td>0</td>\n",
       "      <td>0</td>\n",
       "      <td>0</td>\n",
       "      <td>0</td>\n",
       "    </tr>\n",
       "    <tr>\n",
       "      <th>4</th>\n",
       "      <td>2020-01-25</td>\n",
       "      <td>South Australia</td>\n",
       "      <td>SA</td>\n",
       "      <td>0</td>\n",
       "      <td>0</td>\n",
       "      <td>0</td>\n",
       "      <td>0</td>\n",
       "      <td>0</td>\n",
       "      <td>0</td>\n",
       "      <td>0</td>\n",
       "      <td>0</td>\n",
       "      <td>0</td>\n",
       "      <td>0</td>\n",
       "      <td>0</td>\n",
       "      <td>0</td>\n",
       "      <td>0</td>\n",
       "      <td>0</td>\n",
       "      <td>0</td>\n",
       "      <td>0</td>\n",
       "    </tr>\n",
       "  </tbody>\n",
       "</table>\n",
       "</div>"
      ],
      "text/plain": [
       "         date                         state state_abbrev  confirmed  \\\n",
       "0  2020-01-25  Australian Capital Territory          ACT          0   \n",
       "1  2020-01-25               New South Wales          NSW          3   \n",
       "2  2020-01-25            Northern Territory           NT          0   \n",
       "3  2020-01-25                    Queensland          QLD          0   \n",
       "4  2020-01-25               South Australia           SA          0   \n",
       "\n",
       "   confirmed_cum  deaths  deaths_cum  tests  tests_cum  positives  \\\n",
       "0              0       0           0      0          0          0   \n",
       "1              3       0           0      0          0          0   \n",
       "2              0       0           0      0          0          0   \n",
       "3              0       0           0      0          0          0   \n",
       "4              0       0           0      0          0          0   \n",
       "\n",
       "   positives_cum  recovered  recovered_cum  hosp  hosp_cum  icu  icu_cum  \\\n",
       "0              0          0              0     0         0    0        0   \n",
       "1              0          0              0     0         0    0        0   \n",
       "2              0          0              0     0         0    0        0   \n",
       "3              0          0              0     0         0    0        0   \n",
       "4              0          0              0     0         0    0        0   \n",
       "\n",
       "   vent  vent_cum  \n",
       "0     0         0  \n",
       "1     0         0  \n",
       "2     0         0  \n",
       "3     0         0  \n",
       "4     0         0  "
      ]
     },
     "execution_count": 3,
     "metadata": {},
     "output_type": "execute_result"
    }
   ],
   "source": [
    "covid=covid_raw\n",
    "covid.head(5)"
   ]
  },
  {
   "cell_type": "code",
   "execution_count": 4,
   "metadata": {
    "colab": {
     "base_uri": "https://localhost:8080/",
     "height": 34
    },
    "executionInfo": {
     "elapsed": 4888,
     "status": "ok",
     "timestamp": 1603240755979,
     "user": {
      "displayName": "Cynthia Mather",
      "photoUrl": "",
      "userId": "01918413556686023219"
     },
     "user_tz": -660
    },
    "id": "66WyNu1TqhO5",
    "outputId": "c90720a1-3717-4f18-edad-782e9f86e0fd"
   },
   "outputs": [
    {
     "data": {
      "text/plain": [
       "(2376, 19)"
      ]
     },
     "execution_count": 4,
     "metadata": {},
     "output_type": "execute_result"
    }
   ],
   "source": [
    "covid.shape"
   ]
  },
  {
   "cell_type": "markdown",
   "metadata": {
    "id": "zTZb1DNsqD1Q"
   },
   "source": [
    "There are 2160 entries and 19 variables to explore the status of COVID-19 patients daily for each state in Australia.\n",
    "\n",
    "To explore this data further, we need to ensure that the data is in the correct format, and the code below checks for this."
   ]
  },
  {
   "cell_type": "code",
   "execution_count": 5,
   "metadata": {
    "colab": {
     "base_uri": "https://localhost:8080/",
     "height": 354
    },
    "executionInfo": {
     "elapsed": 4873,
     "status": "ok",
     "timestamp": 1603240755980,
     "user": {
      "displayName": "Cynthia Mather",
      "photoUrl": "",
      "userId": "01918413556686023219"
     },
     "user_tz": -660
    },
    "id": "QDz-V1oHFBsS",
    "outputId": "6ef0f991-2d4d-4abe-b31b-4f86d45e33a9"
   },
   "outputs": [
    {
     "data": {
      "text/plain": [
       "date             object\n",
       "state            object\n",
       "state_abbrev     object\n",
       "confirmed         int64\n",
       "confirmed_cum     int64\n",
       "deaths            int64\n",
       "deaths_cum        int64\n",
       "tests             int64\n",
       "tests_cum         int64\n",
       "positives         int64\n",
       "positives_cum     int64\n",
       "recovered         int64\n",
       "recovered_cum     int64\n",
       "hosp              int64\n",
       "hosp_cum          int64\n",
       "icu               int64\n",
       "icu_cum           int64\n",
       "vent              int64\n",
       "vent_cum          int64\n",
       "dtype: object"
      ]
     },
     "execution_count": 5,
     "metadata": {},
     "output_type": "execute_result"
    }
   ],
   "source": [
    "covid.dtypes"
   ]
  },
  {
   "cell_type": "markdown",
   "metadata": {
    "id": "w3Cxwk54sbqJ"
   },
   "source": [
    "All variables are of the appropriate data type except the date as this should be of a date format which will allow data exploration to be more meaningful. The code below converts the date stored as strings to dates. "
   ]
  },
  {
   "cell_type": "code",
   "execution_count": 6,
   "metadata": {
    "executionInfo": {
     "elapsed": 4859,
     "status": "ok",
     "timestamp": 1603240755981,
     "user": {
      "displayName": "Cynthia Mather",
      "photoUrl": "",
      "userId": "01918413556686023219"
     },
     "user_tz": -660
    },
    "id": "MUQ6Fj6NJs17"
   },
   "outputs": [],
   "source": [
    "covid[\"date\"] = pd.to_datetime(covid.date)"
   ]
  },
  {
   "cell_type": "markdown",
   "metadata": {
    "id": "SIQbzf2StGqH"
   },
   "source": [
    "We can check for missing values in each of the variables. The code below counts the number of missing values in each column and outputs the total. "
   ]
  },
  {
   "cell_type": "code",
   "execution_count": 7,
   "metadata": {
    "colab": {
     "base_uri": "https://localhost:8080/",
     "height": 354
    },
    "executionInfo": {
     "elapsed": 4848,
     "status": "ok",
     "timestamp": 1603240755982,
     "user": {
      "displayName": "Cynthia Mather",
      "photoUrl": "",
      "userId": "01918413556686023219"
     },
     "user_tz": -660
    },
    "id": "nnQxK4f3s7SC",
    "outputId": "ceef5df6-e53f-424c-9c31-9b6bfe601df1"
   },
   "outputs": [
    {
     "data": {
      "text/plain": [
       "date             0\n",
       "state            0\n",
       "state_abbrev     0\n",
       "confirmed        0\n",
       "confirmed_cum    0\n",
       "deaths           0\n",
       "deaths_cum       0\n",
       "tests            0\n",
       "tests_cum        0\n",
       "positives        0\n",
       "positives_cum    0\n",
       "recovered        0\n",
       "recovered_cum    0\n",
       "hosp             0\n",
       "hosp_cum         0\n",
       "icu              0\n",
       "icu_cum          0\n",
       "vent             0\n",
       "vent_cum         0\n",
       "dtype: int64"
      ]
     },
     "execution_count": 7,
     "metadata": {},
     "output_type": "execute_result"
    }
   ],
   "source": [
    "covid.isna().sum()"
   ]
  },
  {
   "cell_type": "markdown",
   "metadata": {
    "id": "CtseHt6PtUE_"
   },
   "source": [
    "There are no missing data and we can proceed to performing EDA. \n",
    "\n",
    "To look at Australia as a whole, we can accumulate the data for each date and look at the changing in confirmed cases, deaths and recoveries. The code below, groups the data by date and sums all other columns to produce data for all of Australia. "
   ]
  },
  {
   "cell_type": "code",
   "execution_count": 8,
   "metadata": {
    "colab": {
     "base_uri": "https://localhost:8080/",
     "height": 201
    },
    "executionInfo": {
     "elapsed": 4835,
     "status": "ok",
     "timestamp": 1603240755986,
     "user": {
      "displayName": "Cynthia Mather",
      "photoUrl": "",
      "userId": "01918413556686023219"
     },
     "user_tz": -660
    },
    "id": "BOWh2TiOcB73",
    "outputId": "fff436c5-bb84-4e9c-b99f-66c9ca216926"
   },
   "outputs": [
    {
     "data": {
      "text/html": [
       "<div>\n",
       "<style scoped>\n",
       "    .dataframe tbody tr th:only-of-type {\n",
       "        vertical-align: middle;\n",
       "    }\n",
       "\n",
       "    .dataframe tbody tr th {\n",
       "        vertical-align: top;\n",
       "    }\n",
       "\n",
       "    .dataframe thead th {\n",
       "        text-align: right;\n",
       "    }\n",
       "</style>\n",
       "<table border=\"1\" class=\"dataframe\">\n",
       "  <thead>\n",
       "    <tr style=\"text-align: right;\">\n",
       "      <th></th>\n",
       "      <th>date</th>\n",
       "      <th>confirmed</th>\n",
       "      <th>confirmed_cum</th>\n",
       "      <th>deaths</th>\n",
       "      <th>deaths_cum</th>\n",
       "      <th>tests</th>\n",
       "      <th>tests_cum</th>\n",
       "      <th>positives</th>\n",
       "      <th>positives_cum</th>\n",
       "      <th>recovered</th>\n",
       "      <th>recovered_cum</th>\n",
       "      <th>hosp</th>\n",
       "      <th>hosp_cum</th>\n",
       "      <th>icu</th>\n",
       "      <th>icu_cum</th>\n",
       "      <th>vent</th>\n",
       "      <th>vent_cum</th>\n",
       "    </tr>\n",
       "  </thead>\n",
       "  <tbody>\n",
       "    <tr>\n",
       "      <th>0</th>\n",
       "      <td>2020-01-25</td>\n",
       "      <td>4</td>\n",
       "      <td>4</td>\n",
       "      <td>0</td>\n",
       "      <td>0</td>\n",
       "      <td>0</td>\n",
       "      <td>0</td>\n",
       "      <td>0</td>\n",
       "      <td>0</td>\n",
       "      <td>0</td>\n",
       "      <td>0</td>\n",
       "      <td>0</td>\n",
       "      <td>0</td>\n",
       "      <td>0</td>\n",
       "      <td>0</td>\n",
       "      <td>0</td>\n",
       "      <td>0</td>\n",
       "    </tr>\n",
       "    <tr>\n",
       "      <th>1</th>\n",
       "      <td>2020-01-26</td>\n",
       "      <td>0</td>\n",
       "      <td>4</td>\n",
       "      <td>0</td>\n",
       "      <td>0</td>\n",
       "      <td>0</td>\n",
       "      <td>0</td>\n",
       "      <td>0</td>\n",
       "      <td>0</td>\n",
       "      <td>0</td>\n",
       "      <td>0</td>\n",
       "      <td>0</td>\n",
       "      <td>0</td>\n",
       "      <td>0</td>\n",
       "      <td>0</td>\n",
       "      <td>0</td>\n",
       "      <td>0</td>\n",
       "    </tr>\n",
       "    <tr>\n",
       "      <th>2</th>\n",
       "      <td>2020-01-27</td>\n",
       "      <td>1</td>\n",
       "      <td>5</td>\n",
       "      <td>0</td>\n",
       "      <td>0</td>\n",
       "      <td>0</td>\n",
       "      <td>0</td>\n",
       "      <td>0</td>\n",
       "      <td>0</td>\n",
       "      <td>0</td>\n",
       "      <td>0</td>\n",
       "      <td>0</td>\n",
       "      <td>0</td>\n",
       "      <td>0</td>\n",
       "      <td>0</td>\n",
       "      <td>0</td>\n",
       "      <td>0</td>\n",
       "    </tr>\n",
       "    <tr>\n",
       "      <th>3</th>\n",
       "      <td>2020-01-28</td>\n",
       "      <td>0</td>\n",
       "      <td>5</td>\n",
       "      <td>0</td>\n",
       "      <td>0</td>\n",
       "      <td>0</td>\n",
       "      <td>0</td>\n",
       "      <td>0</td>\n",
       "      <td>0</td>\n",
       "      <td>0</td>\n",
       "      <td>0</td>\n",
       "      <td>0</td>\n",
       "      <td>0</td>\n",
       "      <td>0</td>\n",
       "      <td>0</td>\n",
       "      <td>0</td>\n",
       "      <td>0</td>\n",
       "    </tr>\n",
       "    <tr>\n",
       "      <th>4</th>\n",
       "      <td>2020-01-29</td>\n",
       "      <td>4</td>\n",
       "      <td>9</td>\n",
       "      <td>0</td>\n",
       "      <td>0</td>\n",
       "      <td>0</td>\n",
       "      <td>0</td>\n",
       "      <td>0</td>\n",
       "      <td>0</td>\n",
       "      <td>0</td>\n",
       "      <td>0</td>\n",
       "      <td>0</td>\n",
       "      <td>0</td>\n",
       "      <td>0</td>\n",
       "      <td>0</td>\n",
       "      <td>0</td>\n",
       "      <td>0</td>\n",
       "    </tr>\n",
       "  </tbody>\n",
       "</table>\n",
       "</div>"
      ],
      "text/plain": [
       "        date  confirmed  confirmed_cum  deaths  deaths_cum  tests  tests_cum  \\\n",
       "0 2020-01-25          4              4       0           0      0          0   \n",
       "1 2020-01-26          0              4       0           0      0          0   \n",
       "2 2020-01-27          1              5       0           0      0          0   \n",
       "3 2020-01-28          0              5       0           0      0          0   \n",
       "4 2020-01-29          4              9       0           0      0          0   \n",
       "\n",
       "   positives  positives_cum  recovered  recovered_cum  hosp  hosp_cum  icu  \\\n",
       "0          0              0          0              0     0         0    0   \n",
       "1          0              0          0              0     0         0    0   \n",
       "2          0              0          0              0     0         0    0   \n",
       "3          0              0          0              0     0         0    0   \n",
       "4          0              0          0              0     0         0    0   \n",
       "\n",
       "   icu_cum  vent  vent_cum  \n",
       "0        0     0         0  \n",
       "1        0     0         0  \n",
       "2        0     0         0  \n",
       "3        0     0         0  \n",
       "4        0     0         0  "
      ]
     },
     "execution_count": 8,
     "metadata": {},
     "output_type": "execute_result"
    }
   ],
   "source": [
    "covid_aus=covid.groupby(\"date\",as_index=False).sum()\n",
    "covid_aus.head(5)"
   ]
  },
  {
   "cell_type": "markdown",
   "metadata": {
    "id": "h_avu4zYuH47"
   },
   "source": [
    "We can look at a timeline of cases reported each data across the whole of Australia. The code below plots the new COVID-19 cases as a function of date."
   ]
  },
  {
   "cell_type": "code",
   "execution_count": 9,
   "metadata": {
    "colab": {
     "base_uri": "https://localhost:8080/",
     "height": 399
    },
    "executionInfo": {
     "elapsed": 4819,
     "status": "ok",
     "timestamp": 1603240755987,
     "user": {
      "displayName": "Cynthia Mather",
      "photoUrl": "",
      "userId": "01918413556686023219"
     },
     "user_tz": -660
    },
    "id": "_8TYln4OE4db",
    "outputId": "dc45c314-593d-4034-8a8f-5ee32d3fa8fd"
   },
   "outputs": [
    {
     "data": {
      "text/plain": [
       "Text(0, 0.5, 'Number of New Cases')"
      ]
     },
     "execution_count": 9,
     "metadata": {},
     "output_type": "execute_result"
    },
    {
     "data": {
      "image/png": "[encoded data removed]",
      "text/plain": [
       "<Figure size 504x360 with 1 Axes>"
      ]
     },
     "metadata": {
      "needs_background": "light"
     },
     "output_type": "display_data"
    }
   ],
   "source": [
    "plt.figure(figsize=(7,5))\n",
    "plt.plot(covid_aus[\"date\"],covid_aus[\"confirmed\"])\n",
    "plt.title(\"Timeline of New Cases in Australia\")\n",
    "plt.xticks(rotation=70)\n",
    "plt.xlabel(\"Date\")\n",
    "plt.ylabel(\"Number of New Cases\")"
   ]
  },
  {
   "cell_type": "markdown",
   "metadata": {
    "id": "1xDL1gAHuVPX"
   },
   "source": [
    "The peaks in the plot above indicate a high rate of new cases each day, during April and August. \n",
    "\n",
    "We do the same visualisation for new deaths recorded each day below. "
   ]
  },
  {
   "cell_type": "code",
   "execution_count": 10,
   "metadata": {
    "colab": {
     "base_uri": "https://localhost:8080/",
     "height": 399
    },
    "executionInfo": {
     "elapsed": 4803,
     "status": "ok",
     "timestamp": 1603240755988,
     "user": {
      "displayName": "Cynthia Mather",
      "photoUrl": "",
      "userId": "01918413556686023219"
     },
     "user_tz": -660
    },
    "id": "SJwRFgpsyNJP",
    "outputId": "89dd3b18-0865-4ecf-ec89-cb1a47683d95"
   },
   "outputs": [
    {
     "data": {
      "text/plain": [
       "Text(0, 0.5, 'Number of New Deaths')"
      ]
     },
     "execution_count": 10,
     "metadata": {},
     "output_type": "execute_result"
    },
    {
     "data": {
      "image/png": "[encoded data removed]",
      "text/plain": [
       "<Figure size 504x360 with 1 Axes>"
      ]
     },
     "metadata": {
      "needs_background": "light"
     },
     "output_type": "display_data"
    }
   ],
   "source": [
    "plt.figure(figsize=(7,5))\n",
    "plt.plot(covid_aus[\"date\"],covid_aus[\"deaths\"])\n",
    "plt.title(\"Timeline of New Deaths in Australia\")\n",
    "plt.xticks(rotation=70)\n",
    "plt.xlabel(\"Date\")\n",
    "plt.ylabel(\"Number of New Deaths\")\n"
   ]
  },
  {
   "cell_type": "markdown",
   "metadata": {
    "id": "Q7i9-HnUuvTI"
   },
   "source": [
    "The first thing to note is the y scale is very different, with the proportion of new deaths to new confirmed cases being very low. As we identified two 'waves' of COVID-19 earlier, the plot above illustrates the seriousness of the cases. Clearly the second wave is more deadly than the first but this could be a result of higher cases during this period.\n",
    "\n",
    "Finally, we can illustrate the new recovery cases each date in Australia."
   ]
  },
  {
   "cell_type": "code",
   "execution_count": 11,
   "metadata": {
    "colab": {
     "base_uri": "https://localhost:8080/",
     "height": 399
    },
    "executionInfo": {
     "elapsed": 4787,
     "status": "ok",
     "timestamp": 1603240755989,
     "user": {
      "displayName": "Cynthia Mather",
      "photoUrl": "",
      "userId": "01918413556686023219"
     },
     "user_tz": -660
    },
    "id": "6KCXt-PSdVfb",
    "outputId": "363060ec-5f9e-4dcc-ff15-2633aa0482a7"
   },
   "outputs": [
    {
     "data": {
      "text/plain": [
       "Text(0, 0.5, 'Number of Recovery')"
      ]
     },
     "execution_count": 11,
     "metadata": {},
     "output_type": "execute_result"
    },
    {
     "data": {
      "image/png": "[encoded data removed]",
      "text/plain": [
       "<Figure size 504x360 with 1 Axes>"
      ]
     },
     "metadata": {
      "needs_background": "light"
     },
     "output_type": "display_data"
    }
   ],
   "source": [
    "plt.figure(figsize=(7,5))\n",
    "plt.plot(covid_aus[\"date\"],covid_aus[\"recovered\"])\n",
    "plt.title(\"Timeline of Recovery in Australia\")\n",
    "plt.xticks(rotation=70)\n",
    "plt.xlabel(\"Date\")\n",
    "plt.ylabel(\"Number of Recovery\")"
   ]
  },
  {
   "cell_type": "markdown",
   "metadata": {
    "id": "77wtuWf4vaZM"
   },
   "source": [
    "This trend of two peaks is no different to the first two plots explored earlier and is expected. Looking at the y scale, we can definitely  conclude that there are more recovered cases as opposed to deaths with more recoveries in the second wave. This could again be a result of higher cases during the second wave period. "
   ]
  },
  {
   "cell_type": "markdown",
   "metadata": {
    "id": "5gA8r6im40qZ"
   },
   "source": [
    "## **Part 2: Addressing Driving Question**\n",
    "\n",
    "The driving question is: How deadly is COVID-19?  How can we present data about this question so that the uncertainty is made very clear to the user of the visualisation of the results?\n",
    "\n",
    "In this section, we will aim to address the different sources of uncertainty  that influence insights of data and in particular, we will explore the deaths in Australia. These uncertainties both qualitative and quantitative are explored in different stages from data collection to analysis. "
   ]
  },
  {
   "cell_type": "markdown",
   "metadata": {
    "id": "zBEBIo2cWGrt"
   },
   "source": [
    "### Uncertainty  in data collection\n",
    "\n",
    "One of the biggest influences in calculating mortality rates and comparing data from different countries is the method of data collection and the steps leading data from being observations to being recorded on a database as there are many confounding factors. As patient profiles such as age, sex, ethnicity etc. vary between countries and within Australia which significantly increases the uncertainty as calculating a rate like above assumes all deaths were COVID-19 related and provides a generic rate. As this virus impacts the respiratory system, it severely impacts individuals with respiratory conditions such as asthma as well as older people. Recalling the CFR calculated above of 3.5% assumes all individuals respond to the virus identically which is not the case.\n",
    "\n",
    "Another significant influencer of uncertainty is the definitions and testing strategies that vary across the world and over time. We saw that testing in Australia was not constant over time, therefore calculating a single rate succumbs to a high uncertainty. With that in mind, the severity of this pandemic has changed over time and therefore its classification of mild/extreme cases has so too.\n",
    "\n",
    "\n"
   ]
  },
  {
   "cell_type": "markdown",
   "metadata": {
    "id": "z8P-5rqqDq92"
   },
   "source": [
    "### Uncertainty in presenting and calculating vs actual data\n",
    "\n",
    "There are time lags in which data is made available from different databases. As this pandemic is ongoing, data is updated daily and at different times and therefore the same analysis conducted between my team and myself can differ purely when it was performed (the date and time).\n",
    "\n",
    "There are also different methods of calculating mortality rates such as an infection fatality ratio (IFR) which estimates the proportion of deaths among all infected individuals. However, to eliminate bias around real-time data, we can calculate the Case Fatality ratio that calculates the proportion of individuals who contracted the virus and die from it to therefore measure the severity among the detected cases. There are different methods of calculating mortality rate and with the appropriate context and reasoning, these rates can vary.\n",
    "\n",
    "While there are common methods for calculating mortality rates, there are scientific uncertainties that are introduced when results are stated. One example is rounding error in which results may satisfy each other due to rounding to an appropriate, small number of significant figures but in fact when written in longer formats, different by a small fraction. Furthermore, across different analysis and calculations, comparing values of different significant figures similarly results to a higher variance from the true value."
   ]
  },
  {
   "cell_type": "markdown",
   "metadata": {
    "id": "ZeVmsjd-DYaA"
   },
   "source": [
    "### Uncertainity in calculating rate\n",
    "\n",
    "As the driving question asks \"how deadly\" COVID-19 is, we will aim to provide a mortality rate in Australia. However, calculating such a rate succumbs to many challenges that influence how this rate is calculated and its uncertainty.\n",
    "\n",
    "As this pandemic is still ongoing across the world and in specific, in Australia, calculating a fatality rate would use data from prior weeks rather than the present time. One method of calculating mortality is the Case Fatality Ratio (CFR) that takes into consideration calculating a rate during an ongoing epidemic. This ratio is calculated as a percentage by : \n",
    "\n",
    "$CFR=\\frac{Number \\ of \\ deaths \\ of \\ disease}{Number \\ of \\ deathsv\\ from \\ disease \\ + \\ Number \\ of \\ recovered \\ from \\ disease}*100$\n",
    "\n"
   ]
  },
  {
   "cell_type": "code",
   "execution_count": 12,
   "metadata": {
    "colab": {
     "base_uri": "https://localhost:8080/",
     "height": 34
    },
    "executionInfo": {
     "elapsed": 4772,
     "status": "ok",
     "timestamp": 1603240755990,
     "user": {
      "displayName": "Cynthia Mather",
      "photoUrl": "",
      "userId": "01918413556686023219"
     },
     "user_tz": -660
    },
    "id": "gENyMqfa4z4M",
    "outputId": "496c43d4-36d7-41fe-e94b-729555652419"
   },
   "outputs": [
    {
     "data": {
      "text/plain": [
       "3.48"
      ]
     },
     "execution_count": 12,
     "metadata": {},
     "output_type": "execute_result"
    }
   ],
   "source": [
    "CFR=(covid_aus.iloc[-1][\"deaths_cum\"]/(covid_aus.iloc[-1][\"deaths_cum\"]+covid_aus.iloc[-1][\"recovered_cum\"]))*100\n",
    "CFR=CFR.round(2)\n",
    "CFR"
   ]
  },
  {
   "cell_type": "markdown",
   "metadata": {
    "id": "wrMBag3D5w-5"
   },
   "source": [
    "The CFR gives a fatality rate of 3.52% that tells us the proportion of deaths among identified confirmed cases. This value is written to 3 significant figures as it ensures that an appropriate value is resulted without succumbing to too much rounding error. However, there are two main assumptions that drive these calculations to overestimate and underestimate the mortality rate:\n",
    "\n",
    "1.  The likelihood of detecting deaths is consistent throughout the outbreak. From part 1, we saw that there was clearly two waves of the outbreak and the number of tests increased hence this assumption doesn't hold\n",
    "\n",
    "2.   All detected cases have resolved. This formula assumes that all confirmed patients have recovered or died. This assumption is not satisfied as that requires the status of patients to change essentially within a day which is not the case of this pandemic as there are many active cases.\n",
    "\n",
    "\n",
    "\n"
   ]
  },
  {
   "cell_type": "markdown",
   "metadata": {
    "id": "CHCTHN1YD37w"
   },
   "source": [
    "### Uncertainty between different datasets\n",
    "\n",
    "Many public datasets provide similar COVID-19 data such as the confirmed cases, deaths and recoveries. Sources for Australia can come from Australian databases like what was seen in part 1, however there are also worldwide sources such as Johns Hopkins. However, as many sources obtain data from each other, we would expect a small uncertainty between each data source used. Furthermore, as sources obtain and update their data at different times, this influence the analysis being run as on a particular, the cases may not be updated in one source but are in another and therefore it is difficult to compare.\n",
    "\n",
    "\n",
    "We can first look at a world-wide dataset from https://ourworldindata.org/coronavirus that comes from the European Centre for Disease Prevention and Control (ECDC) that aggregates the data from different sources for different countries, for example in Austalia, the source is the Australian Government Department of Health.\n",
    "\n",
    "The code below reads in the data from the website, ensuring the newest, most updated version of the data is used."
   ]
  },
  {
   "cell_type": "code",
   "execution_count": 13,
   "metadata": {
    "executionInfo": {
     "elapsed": 17261,
     "status": "ok",
     "timestamp": 1603240768496,
     "user": {
      "displayName": "Cynthia Mather",
      "photoUrl": "",
      "userId": "01918413556686023219"
     },
     "user_tz": -660
    },
    "id": "SEvBwjfZSnHY"
   },
   "outputs": [],
   "source": [
    "url='https://covid.ourworldindata.org/data/owid-covid-data.csv'\n",
    "covid19data = pd.read_csv(url)"
   ]
  },
  {
   "cell_type": "markdown",
   "metadata": {
    "id": "Ew8tfLVk_8xd"
   },
   "source": [
    "We can filter for cases in Australia and similar change the date format to be more useful for visualisation."
   ]
  },
  {
   "cell_type": "code",
   "execution_count": 14,
   "metadata": {
    "colab": {
     "base_uri": "https://localhost:8080/",
     "height": 118
    },
    "executionInfo": {
     "elapsed": 17256,
     "status": "ok",
     "timestamp": 1603240768501,
     "user": {
      "displayName": "Cynthia Mather",
      "photoUrl": "",
      "userId": "01918413556686023219"
     },
     "user_tz": -660
    },
    "id": "11PjkzoE_62K",
    "outputId": "8ef05a59-1f9b-4a70-d4fd-a23e37ec74e3"
   },
   "outputs": [],
   "source": [
    "covid19data_aus=covid19data[covid19data[\"location\"]==\"Australia\"]\n",
    "covid19data_aus[\"date\"]=pd.to_datetime(covid19data_aus[\"date\"])"
   ]
  },
  {
   "cell_type": "markdown",
   "metadata": {
    "id": "0bf0H11xAHvr"
   },
   "source": [
    "Uncertainity can be measured visually by comparing the new deaths in the two datasets."
   ]
  },
  {
   "cell_type": "markdown",
   "metadata": {
    "id": "iIgMTum6Z0bm"
   },
   "source": [
    "In Australia, the first recorded case of COVID-19 was on the 19th of January 2020 from https://www.health.gov.au/ministers/the-hon-greg-hunt-mp/media/first-confirmed-case-of-novel-coronavirus-in-australia and therefore we can create a vector of dates from then to now"
   ]
  },
  {
   "cell_type": "code",
   "execution_count": 15,
   "metadata": {
    "executionInfo": {
     "elapsed": 17233,
     "status": "ok",
     "timestamp": 1603240768502,
     "user": {
      "displayName": "Cynthia Mather",
      "photoUrl": "",
      "userId": "01918413556686023219"
     },
     "user_tz": -660
    },
    "id": "qHQGth1OGEik"
   },
   "outputs": [],
   "source": [
    "mortality=pd.DataFrame(pd.date_range(start='2020-01-19', end=datetime.today()),columns=[\"date\"])"
   ]
  },
  {
   "cell_type": "markdown",
   "metadata": {
    "id": "TCHlTIVoiAFu"
   },
   "source": [
    "The code below appends the new deaths for the two datasets by joining with the new dataset on the \"date\" variable."
   ]
  },
  {
   "cell_type": "code",
   "execution_count": 16,
   "metadata": {
    "executionInfo": {
     "elapsed": 17222,
     "status": "ok",
     "timestamp": 1603240768503,
     "user": {
      "displayName": "Cynthia Mather",
      "photoUrl": "",
      "userId": "01918413556686023219"
     },
     "user_tz": -660
    },
    "id": "nJsvSpBycFX_"
   },
   "outputs": [],
   "source": [
    "covid_aus_first = covid_aus[['date', 'deaths']].copy()\n",
    "covid_aus_second = covid19data_aus[['date', 'new_deaths']].copy()\n",
    "dfs=[mortality,covid_aus_first,covid_aus_second]\n",
    "combined_deaths = reduce(lambda left,right: pd.merge(left,right,on='date'), dfs)"
   ]
  },
  {
   "cell_type": "markdown",
   "metadata": {
    "id": "BbEDRZwciRYo"
   },
   "source": [
    "We can visualise the comparison for any offset in the data."
   ]
  },
  {
   "cell_type": "code",
   "execution_count": 17,
   "metadata": {
    "colab": {
     "base_uri": "https://localhost:8080/",
     "height": 513
    },
    "executionInfo": {
     "elapsed": 17207,
     "status": "ok",
     "timestamp": 1603240768505,
     "user": {
      "displayName": "Cynthia Mather",
      "photoUrl": "",
      "userId": "01918413556686023219"
     },
     "user_tz": -660
    },
    "id": "NADiGGW2M9Gu",
    "outputId": "c8840689-70e7-4e7f-c5d7-3095108e8edd"
   },
   "outputs": [
    {
     "data": {
      "image/png": "[encoded data removed]",
      "text/plain": [
       "<Figure size 720x576 with 1 Axes>"
      ]
     },
     "metadata": {
      "needs_background": "light"
     },
     "output_type": "display_data"
    }
   ],
   "source": [
    "plt.figure(figsize=(10,8))\n",
    "plt.plot(combined_deaths[\"date\"], combined_deaths[\"deaths\"], '-', label='1st Dataset')\n",
    "plt.plot(combined_deaths[\"date\"], combined_deaths[\"new_deaths\"], '--', label='2nd Dataset')\n",
    "plt.title('Comparing New Deaths In Australia ')\n",
    "plt.ylabel('Number of New Deaths')\n",
    "plt.xlabel('Timeline')\n",
    "plt.legend()\n",
    "plt.show()\n"
   ]
  },
  {
   "cell_type": "markdown",
   "metadata": {
    "id": "rW4hQyTFTSaW"
   },
   "source": [
    "There are offsets between the data visually as the two lines do not overlap in some dates. From August onwards, there seems to be a delay in the 2nd Dataset, and we can therefore conclude this result due to a delay in data. However, during the first wave, cases are not aligned between the two datasets and therefore this implies an uncertainty in the different datasets.  \n",
    "\n",
    "\n",
    "Visually we can compare this uncertainty  but we can also quantify the uncertainty  to help indicate this magnitude. \n",
    "\n",
    "The code below loads in the world-wide data from the Johns Hopkins database and filters for all observations in Australia for the death and recovery cases so we can calculate CFR similarly and check for any variance."
   ]
  },
  {
   "cell_type": "code",
   "execution_count": 18,
   "metadata": {
    "executionInfo": {
     "elapsed": 20549,
     "status": "ok",
     "timestamp": 1603240771865,
     "user": {
      "displayName": "Cynthia Mather",
      "photoUrl": "",
      "userId": "01918413556686023219"
     },
     "user_tz": -660
    },
    "id": "18IktlqXFtk6"
   },
   "outputs": [],
   "source": [
    "url = 'https://github.com/CSSEGISandData/COVID-19/blob/master/csse_covid_19_data/csse_covid_19_time_series/time_series_covid19_deaths_global.csv?raw=true'\n",
    "jh_death = pd.read_csv(url, index_col=0)\n",
    "jh_death_aus=jh_death[jh_death['Country/Region']==\"Australia\"]\n",
    "\n",
    "url = 'https://github.com/CSSEGISandData/COVID-19/blob/master/csse_covid_19_data/csse_covid_19_time_series/time_series_covid19_recovered_global.csv?raw=true'\n",
    "jh_recover = pd.read_csv(url, index_col=0)\n",
    "jh_recover_aus=jh_recover[jh_recover['Country/Region']==\"Australia\"]\n"
   ]
  },
  {
   "cell_type": "markdown",
   "metadata": {
    "id": "gOTxMBDRZb75"
   },
   "source": [
    "The code below computes the total deaths and recovery cases."
   ]
  },
  {
   "cell_type": "code",
   "execution_count": 19,
   "metadata": {
    "executionInfo": {
     "elapsed": 20538,
     "status": "ok",
     "timestamp": 1603240771867,
     "user": {
      "displayName": "Cynthia Mather",
      "photoUrl": "",
      "userId": "01918413556686023219"
     },
     "user_tz": -660
    },
    "id": "2bbYkfuHVOMy"
   },
   "outputs": [],
   "source": [
    "col_list= list(jh_death_aus)\n",
    "col_list.remove('Country/Region')\n",
    "col_list.remove('Lat')\n",
    "col_list.remove('Long')\n",
    "jh_death_aus_total=jh_death_aus[col_list].sum(axis=0)\n",
    "\n",
    "col_list2= list(jh_recover_aus)\n",
    "col_list2.remove('Country/Region')\n",
    "col_list2.remove('Lat')\n",
    "col_list2.remove('Long')\n",
    "jh_recover_aus_total=jh_recover_aus[col_list2].sum(axis=0)"
   ]
  },
  {
   "cell_type": "markdown",
   "metadata": {
    "id": "_Je7giEhZhyd"
   },
   "source": [
    "Finally, the code below calculates th CFR as a percentage using the Johns Hopkins data and formula from above. "
   ]
  },
  {
   "cell_type": "code",
   "execution_count": 20,
   "metadata": {
    "colab": {
     "base_uri": "https://localhost:8080/",
     "height": 34
    },
    "executionInfo": {
     "elapsed": 20527,
     "status": "ok",
     "timestamp": 1603240771868,
     "user": {
      "displayName": "Cynthia Mather",
      "photoUrl": "",
      "userId": "01918413556686023219"
     },
     "user_tz": -660
    },
    "id": "zt5sLjLHXeXC",
    "outputId": "f8f014c5-b9f8-4cb2-ba98-0b5b072a216e"
   },
   "outputs": [
    {
     "data": {
      "text/plain": [
       "3.43"
      ]
     },
     "execution_count": 20,
     "metadata": {},
     "output_type": "execute_result"
    }
   ],
   "source": [
    "CFR_jh=(jh_death_aus_total.iloc[-1]/(jh_death_aus_total.iloc[-1]+jh_recover_aus_total.iloc[-1]))*100\n",
    "CFR_jh_2=CFR_jh.round(2)\n",
    "CFR_jh_2"
   ]
  },
  {
   "cell_type": "markdown",
   "metadata": {
    "id": "NxK8nMPvYQz9"
   },
   "source": [
    "From the Johns Hopkins Data Source, we obtain a CFR as a percentage of 3.48% and therefore there is an error of 0.04% between the two datasets. There are many factors that can influence this such as the time lag in the datasets and when they began. The uncertainty  can be further explored to check for significance as the magnitude for this error is significantly smaller than many of the other uncertainties explored. "
   ]
  },
  {
   "cell_type": "markdown",
   "metadata": {
    "id": "UzMlUxKQO69Q"
   },
   "source": [
    "## Conclusion\n",
    "\n",
    "In any mortality rate in understanding how deadly COVID-19 is, there are a significant number of confounding factors in that influence the rate and its uncertainty. In the media, we hear and see stats daily on how this pandemic is changing over time but never hear and therefore comprehend the uncertainty in these numbers that are provided. We have explored the main uncertainties that influence a single statistic, the mortality rate in Australia and have established that many uncertainties are difficult to quantify. As this analysis focused on only Australia and one author, the next stage of comparing different countries and the work of multiple analysts introduces new uncertainties that again need to be considered but are difficult to quantify or visualise."
   ]
  }
 ],
 "metadata": {
  "colab": {
   "authorship_tag": "ABX9TyM+C72mUaKoubv60uWG+1I9",
   "collapsed_sections": [],
   "name": "Checkpoint 1- Cynthia.ipynb",
   "provenance": []
  },
  "kernelspec": {
   "display_name": "Python 3",
   "language": "python",
   "name": "python3"
  },
  "language_info": {
   "codemirror_mode": {
    "name": "ipython",
    "version": 3
   },
   "file_extension": ".py",
   "mimetype": "text/x-python",
   "name": "python",
   "nbconvert_exporter": "python",
   "pygments_lexer": "ipython3",
   "version": "3.8.3"
  }
 },
 "nbformat": 4,
 "nbformat_minor": 1
}
