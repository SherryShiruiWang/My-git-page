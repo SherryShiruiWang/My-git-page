{
  "nbformat": 4,
  "nbformat_minor": 0,
  "metadata": {
    "colab": {
      "name": "CFR",
      "provenance": [],
      "collapsed_sections": [
        "nHDyG9k-h8RN",
        "_Zw334M-ihk0",
        "7VkudjK4jljI",
        "P4yaKNXdsZCg",
        "rf_yqBt7sZ8U",
        "rHSwcmy0sawD",
        "Xoehpfl9sa7O",
        "446DfaLJsbH4"
      ]
    },
    "kernelspec": {
      "name": "python3",
      "display_name": "Python 3"
    }
  },
  "cells": [
    {
      "cell_type": "markdown",
      "metadata": {
        "id": "ZWVkKmGAQhYy"
      },
      "source": [
        "#**CFR**\n",
        "#**Author：Hendrix Wang**\n",
        "#**Date：Third of Nov**\n",
        "The purpose of this section is to calculate the different CFR of each country and then analyze and compare.\n",
        "The case fatality rate in epidemiology refers to the rate of death among patients suffering from a certain disease in a certain period of time.In itself, the question \"how deadly is COVID-19\" is very tricky, regular figures are not a real reflection on the actual number of reported cases or the deaths, recoveries and testing. We hear about a number in the media and the public that tells us how dangerous this virus is, but this mystery is in this number that needs to be clarified. How was it determined by this number? Is this number a representation of all ages and all sexes? Does that involve occasions when the pandemic was the best / worst of its kind? These are only some fundamental issues that occur and cause individuals to become confused. This is a product of the Case Fatality Rate (CFR) being reported by multiple media outlets since it uses available data and is best understood by the public."
      ]
    },
    {
      "cell_type": "markdown",
      "metadata": {
        "id": "wEdAST_nnMLL"
      },
      "source": [
        "## Data Engineering \n",
        "Author: Sherry Wang \n",
        "\n",
        "This process notebook assumes that the reader has viewed all previous process notebooks as this is the final notebook that combines the analysis of all. \n",
        "\n",
        "The purpose of this section is to load in the neccasary libraries and the cleaned datasets from the `Cleaned Data` folder in GitHub. \n",
        "\n",
        "The code below imports essential packages for future analysis"
      ]
    },
    {
      "cell_type": "code",
      "metadata": {
        "id": "guBcV533nMLM"
      },
      "source": [
        "import pandas as pd\n",
        "%matplotlib inline\n",
        "import matplotlib.pyplot as plt\n",
        "import numpy as np\n",
        "import seaborn as sns\n",
        "import plotly.express as px\n",
        "import plotly.graph_objects as go\n",
        "import datetime\n",
        "\n",
        "#Extra libraries \n",
        "from math import log10, floor\n",
        "import sympy as sp \n",
        "#import io\n",
        "#import plotly.io as pio\n",
        "#pio.renderers.default = \"png\"\n",
        "pd.options.mode.chained_assignment = None "
      ],
      "execution_count": 44,
      "outputs": []
    },
    {
      "cell_type": "markdown",
      "metadata": {
        "id": "C4GfLl5RnMLS"
      },
      "source": [
        "The code below lists the countries of interest: United States, India, Russia, Brazil, South Africa, Australia (one from each continent). The purpose of this is to assist with further analysis by having the names of the countries."
      ]
    },
    {
      "cell_type": "code",
      "metadata": {
        "id": "te5kvGUxnMLT"
      },
      "source": [
        "countries=sorted(['United States','India','Russia','Brazil','South Africa', 'Australia'])"
      ],
      "execution_count": 45,
      "outputs": []
    },
    {
      "cell_type": "markdown",
      "metadata": {
        "id": "DWAid7VDnMLY"
      },
      "source": [
        "The code below reads in two data sets: the first is the merged datasets from the \"Our World in Data\" source and the \"Johns Hopkins\" source."
      ]
    },
    {
      "cell_type": "code",
      "metadata": {
        "id": "xWr2fKh2nMLZ"
      },
      "source": [
        "covid=pd.read_csv(\"https://raw.github.sydney.edu.au/swan9801/R13B-Group4-COVID/master/Process%20Notebooks/Cleaned%20data/covid.csv?token=AAABDAXJLHLBXQ7N47MLBJS7V7FOW\")"
      ],
      "execution_count": 46,
      "outputs": []
    },
    {
      "cell_type": "markdown",
      "metadata": {
        "id": "o2D-k9i8nMLk"
      },
      "source": [
        "Now that the cleaned data is imported, we can move on to the CFR analysis. "
      ]
    },
    {
      "cell_type": "markdown",
      "metadata": {
        "id": "_Zw334M-ihk0"
      },
      "source": [
        "#CFR\n",
        "we will explore the CFR as a percentage using the equation:\n",
        "\n",
        "$CFR=\\frac{number\\ of\\ deaths\\ from\\ COVID-19}{number\\ of\\ confirmed\\ cases\\ from\\ COVID-19}*100$ \n"
      ]
    },
    {
      "cell_type": "markdown",
      "metadata": {
        "id": "xAxONnwDJmgM"
      },
      "source": [
        "To make it easy to calculate the CFR, I wrote the following function"
      ]
    },
    {
      "cell_type": "code",
      "metadata": {
        "id": "JRohKF0FEW0S"
      },
      "source": [
        "def calculate_CFR(country):\n",
        "  #The purpose of the code below is to extract all data entries for country alone. \n",
        "  covid_country=covid[covid[\"location\"]==country]\n",
        "  #The purpose of the code below is calculate the CFR\n",
        "  CFR = covid_country[\"total_deaths\"].max()/covid_country[\"total_cases\"].max()*100\n",
        "  return CFR\n",
        "  print(CFR)"
      ],
      "execution_count": 47,
      "outputs": []
    },
    {
      "cell_type": "markdown",
      "metadata": {
        "id": "fwCIVxz8dmvD"
      },
      "source": [
        "In order to draw the CFR trend chart of each country more conveniently, a function was created"
      ]
    },
    {
      "cell_type": "code",
      "metadata": {
        "id": "0UJih4IkXC8i"
      },
      "source": [
        "dict_colours={\"Australia\":\"gold\",\"Brazil\":\"forestGreen\",\"India\":\"tomato\",\"Russia\":\"crimson\",\"South Africa\":\"mediumPurple\",\"United States\":\"dodgerBlue\"}\n",
        "line_name = {\"Australia\":\"Australia CFR\",\"Brazil\":\"Brazil CFR\",\"India\":\"India CFR\",\"Russia\":\"Russia CFR\",\"South Africa\":\"South Africa CFR\",\"United States\":\"United States CFR\"}\n",
        "def plot(country):\n",
        "  #The purpose of the code below is to create a blank diagram\n",
        "  fig = go.Figure()\n",
        "  #The purpose of the code below is to extract all data entries for country alone. \n",
        "  covid_country=covid[covid['location']==country]\n",
        "  #The purpose of the code below is select the label.\n",
        "  name_=line_name[country]\n",
        "  #The purpose of the code below is choose the colour of the line.\n",
        "  country_colour=dict_colours[country]\n",
        "  #The purpose of the code below is calculate the CFR\n",
        "  covid_country['total_CFR']=(covid_country[\"total_deaths\"]/covid_country[\"total_cases\"])*100\n",
        "  #The following code is to draw the CFR diagram\n",
        "  fig.add_trace(go.Scatter(x=covid_country['date'], y=covid_country['total_CFR'], name=name_,\n",
        "                         line=dict(color=country_colour, width=2)))\n",
        "  fig.update_xaxes(title_text=\"Date\",tickangle = 290)\n",
        "  fig.update_yaxes(title_text=\"Percentage(%)\")\n",
        "  fig.update_layout(\n",
        "      title={\n",
        "          'text': 'The CFR for '+country,\n",
        "          'y':0.95,\n",
        "          'x':0.5,\n",
        "          'xanchor': 'center',\n",
        "          'yanchor': 'top'})\n",
        "  return fig.show()"
      ],
      "execution_count": 48,
      "outputs": []
    },
    {
      "cell_type": "markdown",
      "metadata": {
        "id": "7VkudjK4jljI"
      },
      "source": [
        "## Australia"
      ]
    },
    {
      "cell_type": "markdown",
      "metadata": {
        "id": "dh2kkqU_jqqY"
      },
      "source": [
        "Introduction：We chose Australia from Oceania. The current outbreak in Australia is clearly under control. The daily life of Australians is gradually recovering"
      ]
    },
    {
      "cell_type": "markdown",
      "metadata": {
        "id": "RixrnJTcM1WX"
      },
      "source": [
        "The following code uses a function to calculate the CFR."
      ]
    },
    {
      "cell_type": "code",
      "metadata": {
        "id": "pjBEpwTuKNqj",
        "outputId": "9ca27428-2e28-4c40-f055-5c11be8fea55",
        "colab": {
          "base_uri": "https://localhost:8080/"
        }
      },
      "source": [
        "calculate_CFR('Australia')\n"
      ],
      "execution_count": 49,
      "outputs": [
        {
          "output_type": "execute_result",
          "data": {
            "text/plain": [
              "3.2836145101730505"
            ]
          },
          "metadata": {
            "tags": []
          },
          "execution_count": 49
        }
      ]
    },
    {
      "cell_type": "markdown",
      "metadata": {
        "id": "ZxL2N4bUM2hG"
      },
      "source": [
        "Australia's current CFR is 3.2836%"
      ]
    },
    {
      "cell_type": "markdown",
      "metadata": {
        "id": "H1qLxQ2gjNQ-"
      },
      "source": [
        "The following code is to draw Australia's CFR trend chart"
      ]
    },
    {
      "cell_type": "code",
      "metadata": {
        "id": "tHRrJgrBfYEd",
        "outputId": "abe92255-b15e-4e26-ed61-3e3904b50469",
        "colab": {
          "base_uri": "https://localhost:8080/",
          "height": 542
        }
      },
      "source": [
        "plot('Australia')"
      ],
      "execution_count": 50,
      "outputs": [
        {
          "output_type": "display_data",
          "data": {
            "text/html": [
              "<html>\n",
              "<head><meta charset=\"utf-8\" /></head>\n",
              "<body>\n",
              "    <div>\n",
              "            <script src=\"https://cdnjs.cloudflare.com/ajax/libs/mathjax/2.7.5/MathJax.js?config=TeX-AMS-MML_SVG\"></script><script type=\"text/javascript\">if (window.MathJax) {MathJax.Hub.Config({SVG: {font: \"STIX-Web\"}});}</script>\n",
              "                <script type=\"text/javascript\">window.PlotlyConfig = {MathJaxConfig: 'local'};</script>\n",
              "        <script src=\"https://cdn.plot.ly/plotly-latest.min.js\"></script>    \n",
              "            <div id=\"3073f732-e139-4ce4-9816-e42e25a5c9ec\" class=\"plotly-graph-div\" style=\"height:525px; width:100%;\"></div>\n",
              "            <script type=\"text/javascript\">\n",
              "                \n",
              "                    window.PLOTLYENV=window.PLOTLYENV || {};\n",
              "                    \n",
              "                if (document.getElementById(\"3073f732-e139-4ce4-9816-e42e25a5c9ec\")) {\n",
              "                    Plotly.newPlot(\n",
              "                        '3073f732-e139-4ce4-9816-e42e25a5c9ec',\n",
              "                        [{\"line\": {\"color\": \"gold\", \"width\": 2}, \"name\": \"Australia CFR\", \"type\": \"scatter\", \"x\": [\"2020-01-22\", \"2020-01-23\", \"2020-01-24\", \"2020-01-25\", \"2020-01-26\", \"2020-01-27\", \"2020-01-28\", \"2020-01-29\", \"2020-01-30\", \"2020-01-31\", \"2020-02-01\", \"2020-02-02\", \"2020-02-03\", \"2020-02-04\", \"2020-02-05\", \"2020-02-06\", \"2020-02-07\", \"2020-02-08\", \"2020-02-09\", \"2020-02-10\", \"2020-02-11\", \"2020-02-12\", \"2020-02-13\", \"2020-02-14\", \"2020-02-15\", \"2020-02-16\", \"2020-02-17\", \"2020-02-18\", \"2020-02-19\", \"2020-02-20\", \"2020-02-21\", \"2020-02-22\", \"2020-02-23\", \"2020-02-24\", \"2020-02-25\", \"2020-02-26\", \"2020-02-27\", \"2020-02-28\", \"2020-02-29\", \"2020-03-01\", \"2020-03-02\", \"2020-03-03\", \"2020-03-04\", \"2020-03-05\", \"2020-03-06\", \"2020-03-07\", \"2020-03-08\", \"2020-03-09\", \"2020-03-10\", \"2020-03-11\", \"2020-03-12\", \"2020-03-13\", \"2020-03-14\", \"2020-03-15\", \"2020-03-16\", \"2020-03-17\", \"2020-03-18\", \"2020-03-19\", \"2020-03-20\", \"2020-03-21\", \"2020-03-22\", \"2020-03-23\", \"2020-03-24\", \"2020-03-25\", \"2020-03-26\", \"2020-03-27\", \"2020-03-28\", \"2020-03-29\", \"2020-03-30\", \"2020-03-31\", \"2020-04-01\", \"2020-04-02\", \"2020-04-03\", \"2020-04-04\", \"2020-04-05\", \"2020-04-06\", \"2020-04-07\", \"2020-04-08\", \"2020-04-09\", \"2020-04-10\", \"2020-04-11\", \"2020-04-12\", \"2020-04-13\", \"2020-04-14\", \"2020-04-15\", \"2020-04-16\", \"2020-04-17\", \"2020-04-18\", \"2020-04-19\", \"2020-04-20\", \"2020-04-21\", \"2020-04-22\", \"2020-04-23\", \"2020-04-24\", \"2020-04-25\", \"2020-04-26\", \"2020-04-27\", \"2020-04-28\", \"2020-04-29\", \"2020-04-30\", \"2020-05-01\", \"2020-05-02\", \"2020-05-03\", \"2020-05-04\", \"2020-05-05\", \"2020-05-06\", \"2020-05-07\", \"2020-05-08\", \"2020-05-09\", \"2020-05-10\", \"2020-05-11\", \"2020-05-12\", \"2020-05-13\", \"2020-05-14\", \"2020-05-15\", \"2020-05-16\", \"2020-05-17\", \"2020-05-18\", \"2020-05-19\", \"2020-05-20\", \"2020-05-21\", \"2020-05-22\", \"2020-05-23\", \"2020-05-24\", \"2020-05-25\", \"2020-05-26\", \"2020-05-27\", \"2020-05-28\", \"2020-05-29\", \"2020-05-30\", \"2020-05-31\", \"2020-06-01\", \"2020-06-02\", \"2020-06-03\", \"2020-06-04\", \"2020-06-05\", \"2020-06-06\", \"2020-06-07\", \"2020-06-08\", \"2020-06-09\", \"2020-06-10\", \"2020-06-11\", \"2020-06-12\", \"2020-06-13\", \"2020-06-14\", \"2020-06-15\", \"2020-06-16\", \"2020-06-17\", \"2020-06-18\", \"2020-06-19\", \"2020-06-20\", \"2020-06-21\", \"2020-06-22\", \"2020-06-23\", \"2020-06-24\", \"2020-06-25\", \"2020-06-26\", \"2020-06-27\", \"2020-06-28\", \"2020-06-29\", \"2020-06-30\", \"2020-07-01\", \"2020-07-02\", \"2020-07-03\", \"2020-07-04\", \"2020-07-05\", \"2020-07-06\", \"2020-07-07\", \"2020-07-08\", \"2020-07-09\", \"2020-07-10\", \"2020-07-11\", \"2020-07-12\", \"2020-07-13\", \"2020-07-14\", \"2020-07-15\", \"2020-07-16\", \"2020-07-17\", \"2020-07-18\", \"2020-07-19\", \"2020-07-20\", \"2020-07-21\", \"2020-07-22\", \"2020-07-23\", \"2020-07-24\", \"2020-07-25\", \"2020-07-26\", \"2020-07-27\", \"2020-07-28\", \"2020-07-29\", \"2020-07-30\", \"2020-07-31\", \"2020-08-01\", \"2020-08-02\", \"2020-08-03\", \"2020-08-04\", \"2020-08-05\", \"2020-08-06\", \"2020-08-07\", \"2020-08-08\", \"2020-08-09\", \"2020-08-10\", \"2020-08-11\", \"2020-08-12\", \"2020-08-13\", \"2020-08-14\", \"2020-08-15\", \"2020-08-16\", \"2020-08-17\", \"2020-08-18\", \"2020-08-19\", \"2020-08-20\", \"2020-08-21\", \"2020-08-22\", \"2020-08-23\", \"2020-08-24\", \"2020-08-25\", \"2020-08-26\", \"2020-08-27\", \"2020-08-28\", \"2020-08-29\", \"2020-08-30\", \"2020-08-31\", \"2020-09-01\", \"2020-09-02\", \"2020-09-03\", \"2020-09-04\", \"2020-09-05\", \"2020-09-06\", \"2020-09-07\", \"2020-09-08\", \"2020-09-09\", \"2020-09-10\", \"2020-09-11\", \"2020-09-12\", \"2020-09-13\", \"2020-09-14\", \"2020-09-15\", \"2020-09-16\", \"2020-09-17\", \"2020-09-18\", \"2020-09-19\", \"2020-09-20\", \"2020-09-21\", \"2020-09-22\", \"2020-09-23\", \"2020-09-24\", \"2020-09-25\", \"2020-09-26\", \"2020-09-27\", \"2020-09-28\", \"2020-09-29\", \"2020-09-30\", \"2020-10-01\", \"2020-10-02\", \"2020-10-03\", \"2020-10-04\", \"2020-10-05\", \"2020-10-06\", \"2020-10-07\", \"2020-10-08\", \"2020-10-09\", \"2020-10-10\", \"2020-10-11\", \"2020-10-12\", \"2020-10-13\", \"2020-10-14\", \"2020-10-15\", \"2020-10-16\", \"2020-10-17\", \"2020-10-18\", \"2020-10-19\", \"2020-10-20\", \"2020-10-21\", \"2020-10-22\", \"2020-10-23\", \"2020-10-24\", \"2020-10-25\", \"2020-10-26\", \"2020-10-27\", \"2020-10-28\", \"2020-10-29\", \"2020-10-30\", \"2020-10-31\", \"2020-11-01\", \"2020-11-02\", \"2020-11-03\", \"2020-11-04\", \"2020-11-05\"], \"y\": [null, null, null, 0.0, 0.0, 0.0, 0.0, 0.0, 0.0, 0.0, 0.0, 0.0, 0.0, 0.0, 0.0, 0.0, 0.0, 0.0, 0.0, 0.0, 0.0, 0.0, 0.0, 0.0, 0.0, 0.0, 0.0, 0.0, 0.0, 0.0, 0.0, 0.0, 0.0, 0.0, 0.0, 0.0, 0.0, 0.0, 0.0, 3.8461538461538463, 3.4482758620689653, 3.0303030303030303, 2.4390243902439024, 3.8461538461538463, 3.389830508474576, 3.1746031746031744, 4.054054054054054, 3.75, 3.0, 2.6785714285714284, 2.380952380952381, 1.9230769230769231, 1.5228426395939088, 1.2048192771084338, 1.6778523489932886, 1.3333333333333335, 1.1013215859030838, 1.0619469026548671, 0.846262341325811, 0.8009153318077803, 0.6375227686703097, 0.40959625511995323, 0.38398244651673064, 0.33016921172100705, 0.3929974991068239, 0.410612760581175, 0.3848431024274719, 0.36755053819900235, 0.3909113119960909, 0.41694096993636165, 0.42489908646696406, 0.42202572347266887, 0.4402756508422665, 0.5407354001441961, 0.5978547564621066, 0.6267409470752089, 0.7186858316221766, 0.755540631296172, 0.8261731658955718, 0.8452535760728219, 0.8656620711766592, 0.906344410876133, 0.9648845302119582, 0.9582155199497331, 0.9507481296758105, 0.9755342211210901, 0.9696783130675697, 1.0255625287004437, 1.0476768903735194, 1.0586811857229281, 1.0716981132075472, 1.113284188355649, 1.1121130147279832, 1.1249437528123594, 1.1813967399431733, 1.2084141429210802, 1.2364069715477433, 1.2490706319702602, 1.3060255268625705, 1.3341239252890602, 1.3605442176870748, 1.374316536131225, 1.3710747456877488, 1.3968534039111895, 1.391941391941392, 1.401664476565922, 1.410909090909091, 1.4066125290023201, 1.4029505351460805, 1.3999134074180979, 1.3974931566056763, 1.39608520437536, 1.3928776565192418, 1.4050179211469533, 1.4022034625840607, 1.3962102863655792, 1.3928368391131325, 1.3910574875798438, 1.4022662889518414, 1.400679117147708, 1.4126289023873428, 1.4122299110295156, 1.42353770260747, 1.4354066985645932, 1.434800956533971, 1.4329867940432706, 1.429973363241273, 1.42877153662978, 1.4265734265734267, 1.4219991635299039, 1.4196242171189979, 1.417651146629604, 1.41588006662965, 1.4125467386788533, 1.410983538525384, 1.408839779005525, 1.406702523789822, 1.4059269469331495, 1.4049586776859504, 1.4039917412250515, 1.4036053392046237, 1.4018691588785046, 1.4001372683596431, 1.3991769547325104, 1.3968775677896468, 1.3934426229508197, 1.390593047034765, 1.3883217639853003, 1.3839891451831752, 1.3800568258693005, 1.3767040086381428, 1.371705217859064, 1.3671089666264575, 1.3647310677013647, 1.3614522156967432, 1.369498736870097, 1.3760254035459116, 1.369321922317314, 1.361078392880513, 1.3531095498308614, 1.3389983262520921, 1.327546591779423, 1.3131313131313131, 1.2998375203099612, 1.2598425196850394, 1.2437215977038987, 1.2309149011717364, 1.2345679012345678, 1.2107367218732152, 1.192887688498762, 1.170107075836185, 1.132599636713324, 1.1200669946613628, 1.1023782790650198, 1.0821643286573146, 1.0535557506584723, 1.0576464983325393, 1.0453283996299723, 1.032487761459724, 1.0313783760160824, 1.0337230977800373, 1.019139945314442, 1.013839716768587, 0.9925558312655087, 0.9995490756049903, 1.0224347186465612, 1.039426523297491, 1.0761646879122404, 1.0780046869769, 1.0912179822268688, 1.1295084071364396, 1.15929583512237, 1.1594202898550725, 1.1572734637194768, 1.1605200022317692, 1.206463587727918, 1.2387207005179135, 1.2703147500514298, 1.2838586245091128, 1.3121546961325967, 1.3431249396076916, 1.3991652437867577, 1.4628218909192878, 1.5244323677059826, 1.5908166493424323, 1.6146345826997046, 1.6488589895792112, 1.6453223355762971, 1.700446581930608, 1.783973897199034, 1.8424262819164599, 1.8755470345517444, 1.9103812510315232, 1.9338714303273652, 1.9713844402894074, 2.023214573593423, 2.0749719056028253, 2.095557418273261, 2.1781392580837133, 2.2589052997393573, 2.290946243319711, 2.34861236152973, 2.3802103622906117, 2.532432222481162, 2.544637669932995, 2.5575743548200442, 2.6027870551652654, 2.81986531986532, 2.854199259739764, 2.86540583736063, 2.894916799635286, 2.9195419731553804, 2.951067447572265, 2.9721268811526422, 3.000188217579522, 3.0180027812229864, 3.0392855802784133, 3.0570957590289227, 3.0518363377963946, 3.0770379775196983, 3.102972438742401, 3.116041845054168, 3.1392970057652967, 3.1563685032344413, 3.162158145065398, 3.1697721030361516, 3.1846661476291107, 3.190897972797688, 3.2185185185185183, 3.220313888066331, 3.2248520710059174, 3.2354681260168614, 3.2590621882274693, 3.2590621882274693, 3.277236492471213, 3.2825581824217167, 3.2926514509052027, 3.2945165094339623, 3.2929389664444364, 3.2935894605137266, 3.299977926569053, 3.2970668234948173, 3.2942818318704328, 3.292468066363236, 3.2937206572769955, 3.2910650150260206, 3.2909909580114944, 3.3063896711897884, 3.3038520575981285, 3.302765700924336, 3.301318336193989, 3.300474625775831, 3.303040256943684, 3.299307327743347, 3.297624253024341, 3.2949828879341734, 3.2928249163149466, 3.291028764682352, 3.2885174418604652, 3.287681185744905, 3.286009948803602, 3.2917180808594035, 3.28992709202365, 3.2883764774128057, 3.287422979340341, 3.286827323790542, 3.2859937685674954, 3.2850416515755163, 3.2836145101730505]}],\n",
              "                        {\"template\": {\"data\": {\"bar\": [{\"error_x\": {\"color\": \"#2a3f5f\"}, \"error_y\": {\"color\": \"#2a3f5f\"}, \"marker\": {\"line\": {\"color\": \"#E5ECF6\", \"width\": 0.5}}, \"type\": \"bar\"}], \"barpolar\": [{\"marker\": {\"line\": {\"color\": \"#E5ECF6\", \"width\": 0.5}}, \"type\": \"barpolar\"}], \"carpet\": [{\"aaxis\": {\"endlinecolor\": \"#2a3f5f\", \"gridcolor\": \"white\", \"linecolor\": \"white\", \"minorgridcolor\": \"white\", \"startlinecolor\": \"#2a3f5f\"}, \"baxis\": {\"endlinecolor\": \"#2a3f5f\", \"gridcolor\": \"white\", \"linecolor\": \"white\", \"minorgridcolor\": \"white\", \"startlinecolor\": \"#2a3f5f\"}, \"type\": \"carpet\"}], \"choropleth\": [{\"colorbar\": {\"outlinewidth\": 0, \"ticks\": \"\"}, \"type\": \"choropleth\"}], \"contour\": [{\"colorbar\": {\"outlinewidth\": 0, \"ticks\": \"\"}, \"colorscale\": [[0.0, \"#0d0887\"], [0.1111111111111111, \"#46039f\"], [0.2222222222222222, \"#7201a8\"], [0.3333333333333333, \"#9c179e\"], [0.4444444444444444, \"#bd3786\"], [0.5555555555555556, \"#d8576b\"], [0.6666666666666666, \"#ed7953\"], [0.7777777777777778, \"#fb9f3a\"], [0.8888888888888888, \"#fdca26\"], [1.0, \"#f0f921\"]], \"type\": \"contour\"}], \"contourcarpet\": [{\"colorbar\": {\"outlinewidth\": 0, \"ticks\": \"\"}, \"type\": \"contourcarpet\"}], \"heatmap\": [{\"colorbar\": {\"outlinewidth\": 0, \"ticks\": \"\"}, \"colorscale\": [[0.0, \"#0d0887\"], [0.1111111111111111, \"#46039f\"], [0.2222222222222222, \"#7201a8\"], [0.3333333333333333, \"#9c179e\"], [0.4444444444444444, \"#bd3786\"], [0.5555555555555556, \"#d8576b\"], [0.6666666666666666, \"#ed7953\"], [0.7777777777777778, \"#fb9f3a\"], [0.8888888888888888, \"#fdca26\"], [1.0, \"#f0f921\"]], \"type\": \"heatmap\"}], \"heatmapgl\": [{\"colorbar\": {\"outlinewidth\": 0, \"ticks\": \"\"}, \"colorscale\": [[0.0, \"#0d0887\"], [0.1111111111111111, \"#46039f\"], [0.2222222222222222, \"#7201a8\"], [0.3333333333333333, \"#9c179e\"], [0.4444444444444444, \"#bd3786\"], [0.5555555555555556, \"#d8576b\"], [0.6666666666666666, \"#ed7953\"], [0.7777777777777778, \"#fb9f3a\"], [0.8888888888888888, \"#fdca26\"], [1.0, \"#f0f921\"]], \"type\": \"heatmapgl\"}], \"histogram\": [{\"marker\": {\"colorbar\": {\"outlinewidth\": 0, \"ticks\": \"\"}}, \"type\": \"histogram\"}], \"histogram2d\": [{\"colorbar\": {\"outlinewidth\": 0, \"ticks\": \"\"}, \"colorscale\": [[0.0, \"#0d0887\"], [0.1111111111111111, \"#46039f\"], [0.2222222222222222, \"#7201a8\"], [0.3333333333333333, \"#9c179e\"], [0.4444444444444444, \"#bd3786\"], [0.5555555555555556, \"#d8576b\"], [0.6666666666666666, \"#ed7953\"], [0.7777777777777778, \"#fb9f3a\"], [0.8888888888888888, \"#fdca26\"], [1.0, \"#f0f921\"]], \"type\": \"histogram2d\"}], \"histogram2dcontour\": [{\"colorbar\": {\"outlinewidth\": 0, \"ticks\": \"\"}, \"colorscale\": [[0.0, \"#0d0887\"], [0.1111111111111111, \"#46039f\"], [0.2222222222222222, \"#7201a8\"], [0.3333333333333333, \"#9c179e\"], [0.4444444444444444, \"#bd3786\"], [0.5555555555555556, \"#d8576b\"], [0.6666666666666666, \"#ed7953\"], [0.7777777777777778, \"#fb9f3a\"], [0.8888888888888888, \"#fdca26\"], [1.0, \"#f0f921\"]], \"type\": \"histogram2dcontour\"}], \"mesh3d\": [{\"colorbar\": {\"outlinewidth\": 0, \"ticks\": \"\"}, \"type\": \"mesh3d\"}], \"parcoords\": [{\"line\": {\"colorbar\": {\"outlinewidth\": 0, \"ticks\": \"\"}}, \"type\": \"parcoords\"}], \"pie\": [{\"automargin\": true, \"type\": \"pie\"}], \"scatter\": [{\"marker\": {\"colorbar\": {\"outlinewidth\": 0, \"ticks\": \"\"}}, \"type\": \"scatter\"}], \"scatter3d\": [{\"line\": {\"colorbar\": {\"outlinewidth\": 0, \"ticks\": \"\"}}, \"marker\": {\"colorbar\": {\"outlinewidth\": 0, \"ticks\": \"\"}}, \"type\": \"scatter3d\"}], \"scattercarpet\": [{\"marker\": {\"colorbar\": {\"outlinewidth\": 0, \"ticks\": \"\"}}, \"type\": \"scattercarpet\"}], \"scattergeo\": [{\"marker\": {\"colorbar\": {\"outlinewidth\": 0, \"ticks\": \"\"}}, \"type\": \"scattergeo\"}], \"scattergl\": [{\"marker\": {\"colorbar\": {\"outlinewidth\": 0, \"ticks\": \"\"}}, \"type\": \"scattergl\"}], \"scattermapbox\": [{\"marker\": {\"colorbar\": {\"outlinewidth\": 0, \"ticks\": \"\"}}, \"type\": \"scattermapbox\"}], \"scatterpolar\": [{\"marker\": {\"colorbar\": {\"outlinewidth\": 0, \"ticks\": \"\"}}, \"type\": \"scatterpolar\"}], \"scatterpolargl\": [{\"marker\": {\"colorbar\": {\"outlinewidth\": 0, \"ticks\": \"\"}}, \"type\": \"scatterpolargl\"}], \"scatterternary\": [{\"marker\": {\"colorbar\": {\"outlinewidth\": 0, \"ticks\": \"\"}}, \"type\": \"scatterternary\"}], \"surface\": [{\"colorbar\": {\"outlinewidth\": 0, \"ticks\": \"\"}, \"colorscale\": [[0.0, \"#0d0887\"], [0.1111111111111111, \"#46039f\"], [0.2222222222222222, \"#7201a8\"], [0.3333333333333333, \"#9c179e\"], [0.4444444444444444, \"#bd3786\"], [0.5555555555555556, \"#d8576b\"], [0.6666666666666666, \"#ed7953\"], [0.7777777777777778, \"#fb9f3a\"], [0.8888888888888888, \"#fdca26\"], [1.0, \"#f0f921\"]], \"type\": \"surface\"}], \"table\": [{\"cells\": {\"fill\": {\"color\": \"#EBF0F8\"}, \"line\": {\"color\": \"white\"}}, \"header\": {\"fill\": {\"color\": \"#C8D4E3\"}, \"line\": {\"color\": \"white\"}}, \"type\": \"table\"}]}, \"layout\": {\"annotationdefaults\": {\"arrowcolor\": \"#2a3f5f\", \"arrowhead\": 0, \"arrowwidth\": 1}, \"coloraxis\": {\"colorbar\": {\"outlinewidth\": 0, \"ticks\": \"\"}}, \"colorscale\": {\"diverging\": [[0, \"#8e0152\"], [0.1, \"#c51b7d\"], [0.2, \"#de77ae\"], [0.3, \"#f1b6da\"], [0.4, \"#fde0ef\"], [0.5, \"#f7f7f7\"], [0.6, \"#e6f5d0\"], [0.7, \"#b8e186\"], [0.8, \"#7fbc41\"], [0.9, \"#4d9221\"], [1, \"#276419\"]], \"sequential\": [[0.0, \"#0d0887\"], [0.1111111111111111, \"#46039f\"], [0.2222222222222222, \"#7201a8\"], [0.3333333333333333, \"#9c179e\"], [0.4444444444444444, \"#bd3786\"], [0.5555555555555556, \"#d8576b\"], [0.6666666666666666, \"#ed7953\"], [0.7777777777777778, \"#fb9f3a\"], [0.8888888888888888, \"#fdca26\"], [1.0, \"#f0f921\"]], \"sequentialminus\": [[0.0, \"#0d0887\"], [0.1111111111111111, \"#46039f\"], [0.2222222222222222, \"#7201a8\"], [0.3333333333333333, \"#9c179e\"], [0.4444444444444444, \"#bd3786\"], [0.5555555555555556, \"#d8576b\"], [0.6666666666666666, \"#ed7953\"], [0.7777777777777778, \"#fb9f3a\"], [0.8888888888888888, \"#fdca26\"], [1.0, \"#f0f921\"]]}, \"colorway\": [\"#636efa\", \"#EF553B\", \"#00cc96\", \"#ab63fa\", \"#FFA15A\", \"#19d3f3\", \"#FF6692\", \"#B6E880\", \"#FF97FF\", \"#FECB52\"], \"font\": {\"color\": \"#2a3f5f\"}, \"geo\": {\"bgcolor\": \"white\", \"lakecolor\": \"white\", \"landcolor\": \"#E5ECF6\", \"showlakes\": true, \"showland\": true, \"subunitcolor\": \"white\"}, \"hoverlabel\": {\"align\": \"left\"}, \"hovermode\": \"closest\", \"mapbox\": {\"style\": \"light\"}, \"paper_bgcolor\": \"white\", \"plot_bgcolor\": \"#E5ECF6\", \"polar\": {\"angularaxis\": {\"gridcolor\": \"white\", \"linecolor\": \"white\", \"ticks\": \"\"}, \"bgcolor\": \"#E5ECF6\", \"radialaxis\": {\"gridcolor\": \"white\", \"linecolor\": \"white\", \"ticks\": \"\"}}, \"scene\": {\"xaxis\": {\"backgroundcolor\": \"#E5ECF6\", \"gridcolor\": \"white\", \"gridwidth\": 2, \"linecolor\": \"white\", \"showbackground\": true, \"ticks\": \"\", \"zerolinecolor\": \"white\"}, \"yaxis\": {\"backgroundcolor\": \"#E5ECF6\", \"gridcolor\": \"white\", \"gridwidth\": 2, \"linecolor\": \"white\", \"showbackground\": true, \"ticks\": \"\", \"zerolinecolor\": \"white\"}, \"zaxis\": {\"backgroundcolor\": \"#E5ECF6\", \"gridcolor\": \"white\", \"gridwidth\": 2, \"linecolor\": \"white\", \"showbackground\": true, \"ticks\": \"\", \"zerolinecolor\": \"white\"}}, \"shapedefaults\": {\"line\": {\"color\": \"#2a3f5f\"}}, \"ternary\": {\"aaxis\": {\"gridcolor\": \"white\", \"linecolor\": \"white\", \"ticks\": \"\"}, \"baxis\": {\"gridcolor\": \"white\", \"linecolor\": \"white\", \"ticks\": \"\"}, \"bgcolor\": \"#E5ECF6\", \"caxis\": {\"gridcolor\": \"white\", \"linecolor\": \"white\", \"ticks\": \"\"}}, \"title\": {\"x\": 0.05}, \"xaxis\": {\"automargin\": true, \"gridcolor\": \"white\", \"linecolor\": \"white\", \"ticks\": \"\", \"title\": {\"standoff\": 15}, \"zerolinecolor\": \"white\", \"zerolinewidth\": 2}, \"yaxis\": {\"automargin\": true, \"gridcolor\": \"white\", \"linecolor\": \"white\", \"ticks\": \"\", \"title\": {\"standoff\": 15}, \"zerolinecolor\": \"white\", \"zerolinewidth\": 2}}}, \"title\": {\"text\": \"The CFR for Australia\", \"x\": 0.5, \"xanchor\": \"center\", \"y\": 0.95, \"yanchor\": \"top\"}, \"xaxis\": {\"tickangle\": -70, \"title\": {\"text\": \"Date\"}}, \"yaxis\": {\"title\": {\"text\": \"Percentage(%)\"}}},\n",
              "                        {\"responsive\": true}\n",
              "                    ).then(function(){\n",
              "                            \n",
              "var gd = document.getElementById('3073f732-e139-4ce4-9816-e42e25a5c9ec');\n",
              "var x = new MutationObserver(function (mutations, observer) {{\n",
              "        var display = window.getComputedStyle(gd).display;\n",
              "        if (!display || display === 'none') {{\n",
              "            console.log([gd, 'removed!']);\n",
              "            Plotly.purge(gd);\n",
              "            observer.disconnect();\n",
              "        }}\n",
              "}});\n",
              "\n",
              "// Listen for the removal of the full notebook cells\n",
              "var notebookContainer = gd.closest('#notebook-container');\n",
              "if (notebookContainer) {{\n",
              "    x.observe(notebookContainer, {childList: true});\n",
              "}}\n",
              "\n",
              "// Listen for the clearing of the current output cell\n",
              "var outputEl = gd.closest('.output');\n",
              "if (outputEl) {{\n",
              "    x.observe(outputEl, {childList: true});\n",
              "}}\n",
              "\n",
              "                        })\n",
              "                };\n",
              "                \n",
              "            </script>\n",
              "        </div>\n",
              "</body>\n",
              "</html>"
            ]
          },
          "metadata": {
            "tags": []
          }
        }
      ]
    },
    {
      "cell_type": "markdown",
      "metadata": {
        "id": "l0iM1uz4FYhq"
      },
      "source": [
        "Australia's CFR has been decreasing for two periods, at the beginning of the epidemic and in July. It was stable from May to June, and then returned to stability in October. But the stability in October was after a big increase, which is a very serious problem. This erratic graph proves that Australia may not have found a real way to reduce CFR."
      ]
    },
    {
      "cell_type": "markdown",
      "metadata": {
        "id": "P4yaKNXdsZCg"
      },
      "source": [
        "## India"
      ]
    },
    {
      "cell_type": "markdown",
      "metadata": {
        "id": "3AqELN4NsZCh"
      },
      "source": [
        "introduction：We chose India from Asia. The COVID-19 in India is still very serious. It is necessary to study the trend of the covid through big data and use big data to study why some countries can control the covid well."
      ]
    },
    {
      "cell_type": "markdown",
      "metadata": {
        "id": "TUD81AfkNHw3"
      },
      "source": [
        "The following code uses a function to calculate the CFR."
      ]
    },
    {
      "cell_type": "code",
      "metadata": {
        "id": "PkYTfQagKTND",
        "outputId": "cee59c31-bbaa-45dd-9f2a-75bd1176db73",
        "colab": {
          "base_uri": "https://localhost:8080/"
        }
      },
      "source": [
        "calculate_CFR('India')"
      ],
      "execution_count": 51,
      "outputs": [
        {
          "output_type": "execute_result",
          "data": {
            "text/plain": [
              "1.4862950954832361"
            ]
          },
          "metadata": {
            "tags": []
          },
          "execution_count": 51
        }
      ]
    },
    {
      "cell_type": "markdown",
      "metadata": {
        "id": "SmPayPBJNh-z"
      },
      "source": [
        "India's current CFR is 1.4863%"
      ]
    },
    {
      "cell_type": "markdown",
      "metadata": {
        "id": "7p1eAKgBhM5-"
      },
      "source": [
        "The following code is to draw India's CFR trend chart\n",
        "\n",
        "\n",
        "\n",
        "\n",
        "\n",
        "\n"
      ]
    },
    {
      "cell_type": "code",
      "metadata": {
        "id": "MscVXbAJikh-",
        "outputId": "23a94991-4baf-4e5e-984c-19e451e4cf53",
        "colab": {
          "base_uri": "https://localhost:8080/",
          "height": 542
        }
      },
      "source": [
        "plot('India')"
      ],
      "execution_count": 52,
      "outputs": [
        {
          "output_type": "display_data",
          "data": {
            "text/html": [
              "<html>\n",
              "<head><meta charset=\"utf-8\" /></head>\n",
              "<body>\n",
              "    <div>\n",
              "            <script src=\"https://cdnjs.cloudflare.com/ajax/libs/mathjax/2.7.5/MathJax.js?config=TeX-AMS-MML_SVG\"></script><script type=\"text/javascript\">if (window.MathJax) {MathJax.Hub.Config({SVG: {font: \"STIX-Web\"}});}</script>\n",
              "                <script type=\"text/javascript\">window.PlotlyConfig = {MathJaxConfig: 'local'};</script>\n",
              "        <script src=\"https://cdn.plot.ly/plotly-latest.min.js\"></script>    \n",
              "            <div id=\"14ce50dc-0322-461d-a4f7-5df4f38c92fd\" class=\"plotly-graph-div\" style=\"height:525px; width:100%;\"></div>\n",
              "            <script type=\"text/javascript\">\n",
              "                \n",
              "                    window.PLOTLYENV=window.PLOTLYENV || {};\n",
              "                    \n",
              "                if (document.getElementById(\"14ce50dc-0322-461d-a4f7-5df4f38c92fd\")) {\n",
              "                    Plotly.newPlot(\n",
              "                        '14ce50dc-0322-461d-a4f7-5df4f38c92fd',\n",
              "                        [{\"line\": {\"color\": \"tomato\", \"width\": 2}, \"name\": \"India CFR\", \"type\": \"scatter\", \"x\": [\"2020-01-22\", \"2020-01-23\", \"2020-01-24\", \"2020-01-25\", \"2020-01-26\", \"2020-01-27\", \"2020-01-28\", \"2020-01-29\", \"2020-01-30\", \"2020-01-31\", \"2020-02-01\", \"2020-02-02\", \"2020-02-03\", \"2020-02-04\", \"2020-02-05\", \"2020-02-06\", \"2020-02-07\", \"2020-02-08\", \"2020-02-09\", \"2020-02-10\", \"2020-02-11\", \"2020-02-12\", \"2020-02-13\", \"2020-02-14\", \"2020-02-15\", \"2020-02-16\", \"2020-02-17\", \"2020-02-18\", \"2020-02-19\", \"2020-02-20\", \"2020-02-21\", \"2020-02-22\", \"2020-02-23\", \"2020-02-24\", \"2020-02-25\", \"2020-02-26\", \"2020-02-27\", \"2020-02-28\", \"2020-02-29\", \"2020-03-01\", \"2020-03-02\", \"2020-03-03\", \"2020-03-04\", \"2020-03-05\", \"2020-03-06\", \"2020-03-07\", \"2020-03-08\", \"2020-03-09\", \"2020-03-10\", \"2020-03-11\", \"2020-03-12\", \"2020-03-13\", \"2020-03-14\", \"2020-03-15\", \"2020-03-16\", \"2020-03-17\", \"2020-03-18\", \"2020-03-19\", \"2020-03-20\", \"2020-03-21\", \"2020-03-22\", \"2020-03-23\", \"2020-03-24\", \"2020-03-25\", \"2020-03-26\", \"2020-03-27\", \"2020-03-28\", \"2020-03-29\", \"2020-03-30\", \"2020-03-31\", \"2020-04-01\", \"2020-04-02\", \"2020-04-03\", \"2020-04-04\", \"2020-04-05\", \"2020-04-06\", \"2020-04-07\", \"2020-04-08\", \"2020-04-09\", \"2020-04-10\", \"2020-04-11\", \"2020-04-12\", \"2020-04-13\", \"2020-04-14\", \"2020-04-15\", \"2020-04-16\", \"2020-04-17\", \"2020-04-18\", \"2020-04-19\", \"2020-04-20\", \"2020-04-21\", \"2020-04-22\", \"2020-04-23\", \"2020-04-24\", \"2020-04-25\", \"2020-04-26\", \"2020-04-27\", \"2020-04-28\", \"2020-04-29\", \"2020-04-30\", \"2020-05-01\", \"2020-05-02\", \"2020-05-03\", \"2020-05-04\", \"2020-05-05\", \"2020-05-06\", \"2020-05-07\", \"2020-05-08\", \"2020-05-09\", \"2020-05-10\", \"2020-05-11\", \"2020-05-12\", \"2020-05-13\", \"2020-05-14\", \"2020-05-15\", \"2020-05-16\", \"2020-05-17\", \"2020-05-18\", \"2020-05-19\", \"2020-05-20\", \"2020-05-21\", \"2020-05-22\", \"2020-05-23\", \"2020-05-24\", \"2020-05-25\", \"2020-05-26\", \"2020-05-27\", \"2020-05-28\", \"2020-05-29\", \"2020-05-30\", \"2020-05-31\", \"2020-06-01\", \"2020-06-02\", \"2020-06-03\", \"2020-06-04\", \"2020-06-05\", \"2020-06-06\", \"2020-06-07\", \"2020-06-08\", \"2020-06-09\", \"2020-06-10\", \"2020-06-11\", \"2020-06-12\", \"2020-06-13\", \"2020-06-14\", \"2020-06-15\", \"2020-06-16\", \"2020-06-17\", \"2020-06-18\", \"2020-06-19\", \"2020-06-20\", \"2020-06-21\", \"2020-06-22\", \"2020-06-23\", \"2020-06-24\", \"2020-06-25\", \"2020-06-26\", \"2020-06-27\", \"2020-06-28\", \"2020-06-29\", \"2020-06-30\", \"2020-07-01\", \"2020-07-02\", \"2020-07-03\", \"2020-07-04\", \"2020-07-05\", \"2020-07-06\", \"2020-07-07\", \"2020-07-08\", \"2020-07-09\", \"2020-07-10\", \"2020-07-11\", \"2020-07-12\", \"2020-07-13\", \"2020-07-14\", \"2020-07-15\", \"2020-07-16\", \"2020-07-17\", \"2020-07-18\", \"2020-07-19\", \"2020-07-20\", \"2020-07-21\", \"2020-07-22\", \"2020-07-23\", \"2020-07-24\", \"2020-07-25\", \"2020-07-26\", \"2020-07-27\", \"2020-07-28\", \"2020-07-29\", \"2020-07-30\", \"2020-07-31\", \"2020-08-01\", \"2020-08-02\", \"2020-08-03\", \"2020-08-04\", \"2020-08-05\", \"2020-08-06\", \"2020-08-07\", \"2020-08-08\", \"2020-08-09\", \"2020-08-10\", \"2020-08-11\", \"2020-08-12\", \"2020-08-13\", \"2020-08-14\", \"2020-08-15\", \"2020-08-16\", \"2020-08-17\", \"2020-08-18\", \"2020-08-19\", \"2020-08-20\", \"2020-08-21\", \"2020-08-22\", \"2020-08-23\", \"2020-08-24\", \"2020-08-25\", \"2020-08-26\", \"2020-08-27\", \"2020-08-28\", \"2020-08-29\", \"2020-08-30\", \"2020-08-31\", \"2020-09-01\", \"2020-09-02\", \"2020-09-03\", \"2020-09-04\", \"2020-09-05\", \"2020-09-06\", \"2020-09-07\", \"2020-09-08\", \"2020-09-09\", \"2020-09-10\", \"2020-09-11\", \"2020-09-12\", \"2020-09-13\", \"2020-09-14\", \"2020-09-15\", \"2020-09-16\", \"2020-09-17\", \"2020-09-18\", \"2020-09-19\", \"2020-09-20\", \"2020-09-21\", \"2020-09-22\", \"2020-09-23\", \"2020-09-24\", \"2020-09-25\", \"2020-09-26\", \"2020-09-27\", \"2020-09-28\", \"2020-09-29\", \"2020-09-30\", \"2020-10-01\", \"2020-10-02\", \"2020-10-03\", \"2020-10-04\", \"2020-10-05\", \"2020-10-06\", \"2020-10-07\", \"2020-10-08\", \"2020-10-09\", \"2020-10-10\", \"2020-10-11\", \"2020-10-12\", \"2020-10-13\", \"2020-10-14\", \"2020-10-15\", \"2020-10-16\", \"2020-10-17\", \"2020-10-18\", \"2020-10-19\", \"2020-10-20\", \"2020-10-21\", \"2020-10-22\", \"2020-10-23\", \"2020-10-24\", \"2020-10-25\", \"2020-10-26\", \"2020-10-27\", \"2020-10-28\", \"2020-10-29\", \"2020-10-30\", \"2020-10-31\", \"2020-11-01\", \"2020-11-02\", \"2020-11-03\", \"2020-11-04\", \"2020-11-05\"], \"y\": [null, null, null, null, null, null, null, null, 0.0, 0.0, 0.0, 0.0, 0.0, 0.0, 0.0, 0.0, 0.0, 0.0, 0.0, 0.0, 0.0, 0.0, 0.0, 0.0, 0.0, 0.0, 0.0, 0.0, 0.0, 0.0, 0.0, 0.0, 0.0, 0.0, 0.0, 0.0, 0.0, 0.0, 0.0, 0.0, 0.0, 0.0, 0.0, 0.0, 0.0, 0.0, 0.0, null, 0.0, 0.0, 0.0, 1.3333333333333335, 2.4096385542168677, 2.2222222222222223, 2.1505376344086025, 2.4, 2.18978102189781, 1.8181818181818181, 2.094240837696335, 1.7316017316017316, 1.25, 1.5945330296127564, 1.8292682926829267, 1.601423487544484, 2.0030816640986133, 2.3480662983425415, 2.176403207331042, 2.5536261491317673, 2.707749766573296, 2.5579536370903275, 2.505368647100931, 2.5445292620865136, 2.4337244676227727, 2.3432115782219163, 2.2821576763485476, 2.6801081878534543, 2.578602126215788, 2.868694647670389, 2.8950122078828042, 3.1035558328134747, 3.209346045387404, 3.267113451412159, 3.3653846153846154, 3.271253498021808, 3.296030774610946, 3.344103392568659, 3.26436094718757, 3.3384337181805535, 3.2268329938900204, 3.1450912250217207, 3.1720430107526885, 3.2025620496397114, 3.1832842518580846, 3.1113229622567924, 3.162490818575043, 3.109903381642512, 3.126344471533056, 3.173093256327501, 3.21396655176816, 3.249621785173979, 3.2731215934708784, 3.2622669809299336, 3.2541270635317656, 3.2280817247784075, 3.3769086640966552, 3.4297746553015735, 3.3672004834567155, 3.3474140073124845, 3.3203714256980996, 3.3508635345334374, 3.2850845842268286, 3.240714568375827, 3.251167862575894, 3.26782303244747, 3.2316701232158107, 3.2022341168256925, 3.1585777601812444, 3.1496636130145887, 3.127379151464816, 3.094145199063232, 3.0571649801084027, 3.0249816373567926, 2.9735973333546495, 2.932477932477932, 2.8960351471064856, 2.866281469252992, 2.857669980957652, 2.861690235137337, 2.8383765885198344, 2.8607931492895493, 2.8351350312666423, 2.8309759361797044, 2.8172274616770507, 2.800857356164054, 2.8005845499933155, 2.7993120783172376, 2.8065935087489486, 2.8094944612939323, 2.7804731675571195, 2.8004711213137385, 2.8002444112617186, 2.8271436497440496, 2.856134572403247, 2.8751460389070305, 2.865182193804102, 2.8638124804466583, 2.8855318268331143, 3.3618120966489204, 3.334823107487205, 3.3040585285862947, 3.2775763957797537, 3.229052212025016, 3.2211567853800536, 3.1827629680951355, 3.1732879129647533, 3.1481383625199477, 3.1200996735324766, 3.0818169850654185, 3.0433442562195214, 3.0046432909370107, 2.9802060546185873, 2.971854488439657, 2.949518805373767, 2.9115457905439106, 2.8774592597734125, 2.862299733349179, 2.8237213817350693, 2.8013033842134885, 2.780378143280663, 2.7536960964217196, 2.7215854835336772, 2.694916410448816, 2.6689329565077164, 2.63864440127799, 2.616702251552795, 2.5966132617517337, 2.571536502091083, 2.5504267646379075, 2.5293728025754874, 2.488451380730463, 2.4593866246647043, 2.4311131232843746, 2.40855383661032, 2.4107989843658544, 2.3759554949939634, 2.3456440123543136, 2.3141458598275597, 2.2829726922441904, 2.2536402104701057, 2.2324013869837414, 2.207865679331629, 2.181198020587356, 2.1527864583947527, 2.1342039831543884, 2.1142709826217847, 2.098240868222735, 2.085414205865676, 2.0716851205577296, 2.051479127057029, 2.035706984211038, 2.0148071769290437, 2.003815673878164, 1.9948648440168821, 1.9784618897871686, 1.9624582279252136, 1.9519013160300505, 1.9411034474022562, 1.9299666908910051, 1.923243252634493, 1.9164611346551021, 1.911231743308304, 1.8987460013923527, 1.8875547478287562, 1.8749867678237835, 1.8623027054720291, 1.8524003105897986, 1.8435126445897687, 1.8379804567914289, 1.8268194937276339, 1.8163542435424354, 1.8057305313091445, 1.7923450624136787, 1.7802993169476244, 1.767138080487304, 1.7597186699749543, 1.7484791376771613, 1.7393040497649455, 1.7290058433890216, 1.7168022546490347, 1.703890465067772, 1.700182832440353, 1.6907971574287983, 1.6807949549728685, 1.671724661549785, 1.6624949785235315, 1.6529262848638178, 1.6449644243068142, 1.638379988300763, 1.634663975225676, 1.6255155811953808, 1.6179717363127188, 1.6130138315385, 1.6063343850029044, 1.6014709580543702, 1.5987846108958963, 1.5944002933044752, 1.5900342571972734, 1.5861285504857725, 1.5816408454568922, 1.5770128553339389, 1.5727849695343081, 1.56734644461914, 1.5660249193552662, 1.563195040256098, 1.5603994202126095, 1.5577556899281135, 1.5540724280018867, 1.5502395522821817, 1.5492554915556758, 1.547328296580309, 1.5437584254910466, 1.5419587553182663, 1.5390383990195178, 1.5358233555048153, 1.5328897900692335, 1.5309063139294414, 1.5275598534627715, 1.5227114133013424, 1.521762254445715, 1.5202860879252167, 1.5215187674351671, 1.5179583572673465, 1.5163359840506785, 1.5149964573753838, 1.5131285466383182, 1.5114197187279677, 1.5094152263649372, 1.5071436554546573, 1.5046095687727332, 1.5038453121521629, 1.5019419743034135, 1.4990541905471788, 1.4969987702827015, 1.494890267673362, 1.4920549427535061, 1.4898813546161145, 1.4889043682809437, 1.4868035077742319, 1.4862950954832361]}],\n",
              "                        {\"template\": {\"data\": {\"bar\": [{\"error_x\": {\"color\": \"#2a3f5f\"}, \"error_y\": {\"color\": \"#2a3f5f\"}, \"marker\": {\"line\": {\"color\": \"#E5ECF6\", \"width\": 0.5}}, \"type\": \"bar\"}], \"barpolar\": [{\"marker\": {\"line\": {\"color\": \"#E5ECF6\", \"width\": 0.5}}, \"type\": \"barpolar\"}], \"carpet\": [{\"aaxis\": {\"endlinecolor\": \"#2a3f5f\", \"gridcolor\": \"white\", \"linecolor\": \"white\", \"minorgridcolor\": \"white\", \"startlinecolor\": \"#2a3f5f\"}, \"baxis\": {\"endlinecolor\": \"#2a3f5f\", \"gridcolor\": \"white\", \"linecolor\": \"white\", \"minorgridcolor\": \"white\", \"startlinecolor\": \"#2a3f5f\"}, \"type\": \"carpet\"}], \"choropleth\": [{\"colorbar\": {\"outlinewidth\": 0, \"ticks\": \"\"}, \"type\": \"choropleth\"}], \"contour\": [{\"colorbar\": {\"outlinewidth\": 0, \"ticks\": \"\"}, \"colorscale\": [[0.0, \"#0d0887\"], [0.1111111111111111, \"#46039f\"], [0.2222222222222222, \"#7201a8\"], [0.3333333333333333, \"#9c179e\"], [0.4444444444444444, \"#bd3786\"], [0.5555555555555556, \"#d8576b\"], [0.6666666666666666, \"#ed7953\"], [0.7777777777777778, \"#fb9f3a\"], [0.8888888888888888, \"#fdca26\"], [1.0, \"#f0f921\"]], \"type\": \"contour\"}], \"contourcarpet\": [{\"colorbar\": {\"outlinewidth\": 0, \"ticks\": \"\"}, \"type\": \"contourcarpet\"}], \"heatmap\": [{\"colorbar\": {\"outlinewidth\": 0, \"ticks\": \"\"}, \"colorscale\": [[0.0, \"#0d0887\"], [0.1111111111111111, \"#46039f\"], [0.2222222222222222, \"#7201a8\"], [0.3333333333333333, \"#9c179e\"], [0.4444444444444444, \"#bd3786\"], [0.5555555555555556, \"#d8576b\"], [0.6666666666666666, \"#ed7953\"], [0.7777777777777778, \"#fb9f3a\"], [0.8888888888888888, \"#fdca26\"], [1.0, \"#f0f921\"]], \"type\": \"heatmap\"}], \"heatmapgl\": [{\"colorbar\": {\"outlinewidth\": 0, \"ticks\": \"\"}, \"colorscale\": [[0.0, \"#0d0887\"], [0.1111111111111111, \"#46039f\"], [0.2222222222222222, \"#7201a8\"], [0.3333333333333333, \"#9c179e\"], [0.4444444444444444, \"#bd3786\"], [0.5555555555555556, \"#d8576b\"], [0.6666666666666666, \"#ed7953\"], [0.7777777777777778, \"#fb9f3a\"], [0.8888888888888888, \"#fdca26\"], [1.0, \"#f0f921\"]], \"type\": \"heatmapgl\"}], \"histogram\": [{\"marker\": {\"colorbar\": {\"outlinewidth\": 0, \"ticks\": \"\"}}, \"type\": \"histogram\"}], \"histogram2d\": [{\"colorbar\": {\"outlinewidth\": 0, \"ticks\": \"\"}, \"colorscale\": [[0.0, \"#0d0887\"], [0.1111111111111111, \"#46039f\"], [0.2222222222222222, \"#7201a8\"], [0.3333333333333333, \"#9c179e\"], [0.4444444444444444, \"#bd3786\"], [0.5555555555555556, \"#d8576b\"], [0.6666666666666666, \"#ed7953\"], [0.7777777777777778, \"#fb9f3a\"], [0.8888888888888888, \"#fdca26\"], [1.0, \"#f0f921\"]], \"type\": \"histogram2d\"}], \"histogram2dcontour\": [{\"colorbar\": {\"outlinewidth\": 0, \"ticks\": \"\"}, \"colorscale\": [[0.0, \"#0d0887\"], [0.1111111111111111, \"#46039f\"], [0.2222222222222222, \"#7201a8\"], [0.3333333333333333, \"#9c179e\"], [0.4444444444444444, \"#bd3786\"], [0.5555555555555556, \"#d8576b\"], [0.6666666666666666, \"#ed7953\"], [0.7777777777777778, \"#fb9f3a\"], [0.8888888888888888, \"#fdca26\"], [1.0, \"#f0f921\"]], \"type\": \"histogram2dcontour\"}], \"mesh3d\": [{\"colorbar\": {\"outlinewidth\": 0, \"ticks\": \"\"}, \"type\": \"mesh3d\"}], \"parcoords\": [{\"line\": {\"colorbar\": {\"outlinewidth\": 0, \"ticks\": \"\"}}, \"type\": \"parcoords\"}], \"pie\": [{\"automargin\": true, \"type\": \"pie\"}], \"scatter\": [{\"marker\": {\"colorbar\": {\"outlinewidth\": 0, \"ticks\": \"\"}}, \"type\": \"scatter\"}], \"scatter3d\": [{\"line\": {\"colorbar\": {\"outlinewidth\": 0, \"ticks\": \"\"}}, \"marker\": {\"colorbar\": {\"outlinewidth\": 0, \"ticks\": \"\"}}, \"type\": \"scatter3d\"}], \"scattercarpet\": [{\"marker\": {\"colorbar\": {\"outlinewidth\": 0, \"ticks\": \"\"}}, \"type\": \"scattercarpet\"}], \"scattergeo\": [{\"marker\": {\"colorbar\": {\"outlinewidth\": 0, \"ticks\": \"\"}}, \"type\": \"scattergeo\"}], \"scattergl\": [{\"marker\": {\"colorbar\": {\"outlinewidth\": 0, \"ticks\": \"\"}}, \"type\": \"scattergl\"}], \"scattermapbox\": [{\"marker\": {\"colorbar\": {\"outlinewidth\": 0, \"ticks\": \"\"}}, \"type\": \"scattermapbox\"}], \"scatterpolar\": [{\"marker\": {\"colorbar\": {\"outlinewidth\": 0, \"ticks\": \"\"}}, \"type\": \"scatterpolar\"}], \"scatterpolargl\": [{\"marker\": {\"colorbar\": {\"outlinewidth\": 0, \"ticks\": \"\"}}, \"type\": \"scatterpolargl\"}], \"scatterternary\": [{\"marker\": {\"colorbar\": {\"outlinewidth\": 0, \"ticks\": \"\"}}, \"type\": \"scatterternary\"}], \"surface\": [{\"colorbar\": {\"outlinewidth\": 0, \"ticks\": \"\"}, \"colorscale\": [[0.0, \"#0d0887\"], [0.1111111111111111, \"#46039f\"], [0.2222222222222222, \"#7201a8\"], [0.3333333333333333, \"#9c179e\"], [0.4444444444444444, \"#bd3786\"], [0.5555555555555556, \"#d8576b\"], [0.6666666666666666, \"#ed7953\"], [0.7777777777777778, \"#fb9f3a\"], [0.8888888888888888, \"#fdca26\"], [1.0, \"#f0f921\"]], \"type\": \"surface\"}], \"table\": [{\"cells\": {\"fill\": {\"color\": \"#EBF0F8\"}, \"line\": {\"color\": \"white\"}}, \"header\": {\"fill\": {\"color\": \"#C8D4E3\"}, \"line\": {\"color\": \"white\"}}, \"type\": \"table\"}]}, \"layout\": {\"annotationdefaults\": {\"arrowcolor\": \"#2a3f5f\", \"arrowhead\": 0, \"arrowwidth\": 1}, \"coloraxis\": {\"colorbar\": {\"outlinewidth\": 0, \"ticks\": \"\"}}, \"colorscale\": {\"diverging\": [[0, \"#8e0152\"], [0.1, \"#c51b7d\"], [0.2, \"#de77ae\"], [0.3, \"#f1b6da\"], [0.4, \"#fde0ef\"], [0.5, \"#f7f7f7\"], [0.6, \"#e6f5d0\"], [0.7, \"#b8e186\"], [0.8, \"#7fbc41\"], [0.9, \"#4d9221\"], [1, \"#276419\"]], \"sequential\": [[0.0, \"#0d0887\"], [0.1111111111111111, \"#46039f\"], [0.2222222222222222, \"#7201a8\"], [0.3333333333333333, \"#9c179e\"], [0.4444444444444444, \"#bd3786\"], [0.5555555555555556, \"#d8576b\"], [0.6666666666666666, \"#ed7953\"], [0.7777777777777778, \"#fb9f3a\"], [0.8888888888888888, \"#fdca26\"], [1.0, \"#f0f921\"]], \"sequentialminus\": [[0.0, \"#0d0887\"], [0.1111111111111111, \"#46039f\"], [0.2222222222222222, \"#7201a8\"], [0.3333333333333333, \"#9c179e\"], [0.4444444444444444, \"#bd3786\"], [0.5555555555555556, \"#d8576b\"], [0.6666666666666666, \"#ed7953\"], [0.7777777777777778, \"#fb9f3a\"], [0.8888888888888888, \"#fdca26\"], [1.0, \"#f0f921\"]]}, \"colorway\": [\"#636efa\", \"#EF553B\", \"#00cc96\", \"#ab63fa\", \"#FFA15A\", \"#19d3f3\", \"#FF6692\", \"#B6E880\", \"#FF97FF\", \"#FECB52\"], \"font\": {\"color\": \"#2a3f5f\"}, \"geo\": {\"bgcolor\": \"white\", \"lakecolor\": \"white\", \"landcolor\": \"#E5ECF6\", \"showlakes\": true, \"showland\": true, \"subunitcolor\": \"white\"}, \"hoverlabel\": {\"align\": \"left\"}, \"hovermode\": \"closest\", \"mapbox\": {\"style\": \"light\"}, \"paper_bgcolor\": \"white\", \"plot_bgcolor\": \"#E5ECF6\", \"polar\": {\"angularaxis\": {\"gridcolor\": \"white\", \"linecolor\": \"white\", \"ticks\": \"\"}, \"bgcolor\": \"#E5ECF6\", \"radialaxis\": {\"gridcolor\": \"white\", \"linecolor\": \"white\", \"ticks\": \"\"}}, \"scene\": {\"xaxis\": {\"backgroundcolor\": \"#E5ECF6\", \"gridcolor\": \"white\", \"gridwidth\": 2, \"linecolor\": \"white\", \"showbackground\": true, \"ticks\": \"\", \"zerolinecolor\": \"white\"}, \"yaxis\": {\"backgroundcolor\": \"#E5ECF6\", \"gridcolor\": \"white\", \"gridwidth\": 2, \"linecolor\": \"white\", \"showbackground\": true, \"ticks\": \"\", \"zerolinecolor\": \"white\"}, \"zaxis\": {\"backgroundcolor\": \"#E5ECF6\", \"gridcolor\": \"white\", \"gridwidth\": 2, \"linecolor\": \"white\", \"showbackground\": true, \"ticks\": \"\", \"zerolinecolor\": \"white\"}}, \"shapedefaults\": {\"line\": {\"color\": \"#2a3f5f\"}}, \"ternary\": {\"aaxis\": {\"gridcolor\": \"white\", \"linecolor\": \"white\", \"ticks\": \"\"}, \"baxis\": {\"gridcolor\": \"white\", \"linecolor\": \"white\", \"ticks\": \"\"}, \"bgcolor\": \"#E5ECF6\", \"caxis\": {\"gridcolor\": \"white\", \"linecolor\": \"white\", \"ticks\": \"\"}}, \"title\": {\"x\": 0.05}, \"xaxis\": {\"automargin\": true, \"gridcolor\": \"white\", \"linecolor\": \"white\", \"ticks\": \"\", \"title\": {\"standoff\": 15}, \"zerolinecolor\": \"white\", \"zerolinewidth\": 2}, \"yaxis\": {\"automargin\": true, \"gridcolor\": \"white\", \"linecolor\": \"white\", \"ticks\": \"\", \"title\": {\"standoff\": 15}, \"zerolinecolor\": \"white\", \"zerolinewidth\": 2}}}, \"title\": {\"text\": \"The CFR for India\", \"x\": 0.5, \"xanchor\": \"center\", \"y\": 0.95, \"yanchor\": \"top\"}, \"xaxis\": {\"tickangle\": -70, \"title\": {\"text\": \"Date\"}}, \"yaxis\": {\"title\": {\"text\": \"Percentage(%)\"}}},\n",
              "                        {\"responsive\": true}\n",
              "                    ).then(function(){\n",
              "                            \n",
              "var gd = document.getElementById('14ce50dc-0322-461d-a4f7-5df4f38c92fd');\n",
              "var x = new MutationObserver(function (mutations, observer) {{\n",
              "        var display = window.getComputedStyle(gd).display;\n",
              "        if (!display || display === 'none') {{\n",
              "            console.log([gd, 'removed!']);\n",
              "            Plotly.purge(gd);\n",
              "            observer.disconnect();\n",
              "        }}\n",
              "}});\n",
              "\n",
              "// Listen for the removal of the full notebook cells\n",
              "var notebookContainer = gd.closest('#notebook-container');\n",
              "if (notebookContainer) {{\n",
              "    x.observe(notebookContainer, {childList: true});\n",
              "}}\n",
              "\n",
              "// Listen for the clearing of the current output cell\n",
              "var outputEl = gd.closest('.output');\n",
              "if (outputEl) {{\n",
              "    x.observe(outputEl, {childList: true});\n",
              "}}\n",
              "\n",
              "                        })\n",
              "                };\n",
              "                \n",
              "            </script>\n",
              "        </div>\n",
              "</body>\n",
              "</html>"
            ]
          },
          "metadata": {
            "tags": []
          }
        }
      ]
    },
    {
      "cell_type": "markdown",
      "metadata": {
        "id": "2BZlwfKq9V4T"
      },
      "source": [
        "It is evident above that the CFR isn't constant over time and fluctuates between mid March to mid July. While the case fatality rate currently is about 1.5% in India, it is quite difficult to interpret this as this rate reflects the severity of this virus in a particular context, time and population. As we don't have information on the ages and the gender of each patient, it is difficult to use this number as the death rate of COVID-19 as it varies between patients."
      ]
    },
    {
      "cell_type": "markdown",
      "metadata": {
        "id": "rf_yqBt7sZ8U"
      },
      "source": [
        "## United States"
      ]
    },
    {
      "cell_type": "markdown",
      "metadata": {
        "id": "FnJC9gy2sZ8U"
      },
      "source": [
        "introduction：We chose the United States from North America. The United States should be the most severely affected area, and the number of daily new cases is keep increasing"
      ]
    },
    {
      "cell_type": "markdown",
      "metadata": {
        "id": "Jz71sluvNKb8"
      },
      "source": [
        "The following code uses a function to calculate the CFR."
      ]
    },
    {
      "cell_type": "code",
      "metadata": {
        "id": "UN0O1GxNKXQz",
        "outputId": "8843f02e-c48b-454d-8491-563680230beb",
        "colab": {
          "base_uri": "https://localhost:8080/"
        }
      },
      "source": [
        "calculate_CFR('United States')"
      ],
      "execution_count": 35,
      "outputs": [
        {
          "output_type": "execute_result",
          "data": {
            "text/plain": [
              "2.463810097859207"
            ]
          },
          "metadata": {
            "tags": []
          },
          "execution_count": 35
        }
      ]
    },
    {
      "cell_type": "markdown",
      "metadata": {
        "id": "wkcdKaTcNuem"
      },
      "source": [
        "United States' current CFR is 2.4638%"
      ]
    },
    {
      "cell_type": "markdown",
      "metadata": {
        "id": "xM8VM7mnjhl-"
      },
      "source": [
        "The following code is to draw United States's CFR trend chart"
      ]
    },
    {
      "cell_type": "code",
      "metadata": {
        "id": "G4booyyuKtTZ",
        "outputId": "c8353aa9-1701-48d6-83a3-f5755e9774aa",
        "colab": {
          "base_uri": "https://localhost:8080/",
          "height": 542
        }
      },
      "source": [
        "plot('United States')"
      ],
      "execution_count": 36,
      "outputs": [
        {
          "output_type": "display_data",
          "data": {
            "text/html": [
              "<html>\n",
              "<head><meta charset=\"utf-8\" /></head>\n",
              "<body>\n",
              "    <div>\n",
              "            <script src=\"https://cdnjs.cloudflare.com/ajax/libs/mathjax/2.7.5/MathJax.js?config=TeX-AMS-MML_SVG\"></script><script type=\"text/javascript\">if (window.MathJax) {MathJax.Hub.Config({SVG: {font: \"STIX-Web\"}});}</script>\n",
              "                <script type=\"text/javascript\">window.PlotlyConfig = {MathJaxConfig: 'local'};</script>\n",
              "        <script src=\"https://cdn.plot.ly/plotly-latest.min.js\"></script>    \n",
              "            <div id=\"b7d99cf1-4b89-42d1-8b63-7c4a70c8fd40\" class=\"plotly-graph-div\" style=\"height:525px; width:100%;\"></div>\n",
              "            <script type=\"text/javascript\">\n",
              "                \n",
              "                    window.PLOTLYENV=window.PLOTLYENV || {};\n",
              "                    \n",
              "                if (document.getElementById(\"b7d99cf1-4b89-42d1-8b63-7c4a70c8fd40\")) {\n",
              "                    Plotly.newPlot(\n",
              "                        'b7d99cf1-4b89-42d1-8b63-7c4a70c8fd40',\n",
              "                        [{\"line\": {\"color\": \"dodgerBlue\", \"width\": 2}, \"name\": \"United States CFR\", \"type\": \"scatter\", \"x\": [\"2020-01-22\", \"2020-01-23\", \"2020-01-24\", \"2020-01-25\", \"2020-01-26\", \"2020-01-27\", \"2020-01-28\", \"2020-01-29\", \"2020-01-30\", \"2020-01-31\", \"2020-02-01\", \"2020-02-02\", \"2020-02-03\", \"2020-02-04\", \"2020-02-05\", \"2020-02-06\", \"2020-02-07\", \"2020-02-08\", \"2020-02-09\", \"2020-02-10\", \"2020-02-11\", \"2020-02-12\", \"2020-02-13\", \"2020-02-14\", \"2020-02-15\", \"2020-02-16\", \"2020-02-17\", \"2020-02-18\", \"2020-02-19\", \"2020-02-20\", \"2020-02-21\", \"2020-02-22\", \"2020-02-23\", \"2020-02-24\", \"2020-02-25\", \"2020-02-26\", \"2020-02-27\", \"2020-02-28\", \"2020-02-29\", \"2020-03-01\", \"2020-03-02\", \"2020-03-03\", \"2020-03-04\", \"2020-03-05\", \"2020-03-06\", \"2020-03-07\", \"2020-03-08\", \"2020-03-09\", \"2020-03-10\", \"2020-03-11\", \"2020-03-12\", \"2020-03-13\", \"2020-03-14\", \"2020-03-15\", \"2020-03-16\", \"2020-03-17\", \"2020-03-18\", \"2020-03-19\", \"2020-03-20\", \"2020-03-21\", \"2020-03-22\", \"2020-03-23\", \"2020-03-24\", \"2020-03-25\", \"2020-03-26\", \"2020-03-27\", \"2020-03-28\", \"2020-03-29\", \"2020-03-30\", \"2020-03-31\", \"2020-04-01\", \"2020-04-02\", \"2020-04-03\", \"2020-04-04\", \"2020-04-05\", \"2020-04-06\", \"2020-04-07\", \"2020-04-08\", \"2020-04-09\", \"2020-04-10\", \"2020-04-11\", \"2020-04-12\", \"2020-04-13\", \"2020-04-14\", \"2020-04-15\", \"2020-04-16\", \"2020-04-17\", \"2020-04-18\", \"2020-04-19\", \"2020-04-20\", \"2020-04-21\", \"2020-04-22\", \"2020-04-23\", \"2020-04-24\", \"2020-04-25\", \"2020-04-26\", \"2020-04-27\", \"2020-04-28\", \"2020-04-29\", \"2020-04-30\", \"2020-05-01\", \"2020-05-02\", \"2020-05-03\", \"2020-05-04\", \"2020-05-05\", \"2020-05-06\", \"2020-05-07\", \"2020-05-08\", \"2020-05-09\", \"2020-05-10\", \"2020-05-11\", \"2020-05-12\", \"2020-05-13\", \"2020-05-14\", \"2020-05-15\", \"2020-05-16\", \"2020-05-17\", \"2020-05-18\", \"2020-05-19\", \"2020-05-20\", \"2020-05-21\", \"2020-05-22\", \"2020-05-23\", \"2020-05-24\", \"2020-05-25\", \"2020-05-26\", \"2020-05-27\", \"2020-05-28\", \"2020-05-29\", \"2020-05-30\", \"2020-05-31\", \"2020-06-01\", \"2020-06-02\", \"2020-06-03\", \"2020-06-04\", \"2020-06-05\", \"2020-06-06\", \"2020-06-07\", \"2020-06-08\", \"2020-06-09\", \"2020-06-10\", \"2020-06-11\", \"2020-06-12\", \"2020-06-13\", \"2020-06-14\", \"2020-06-15\", \"2020-06-16\", \"2020-06-17\", \"2020-06-18\", \"2020-06-19\", \"2020-06-20\", \"2020-06-21\", \"2020-06-22\", \"2020-06-23\", \"2020-06-24\", \"2020-06-25\", \"2020-06-26\", \"2020-06-27\", \"2020-06-28\", \"2020-06-29\", \"2020-06-30\", \"2020-07-01\", \"2020-07-02\", \"2020-07-03\", \"2020-07-04\", \"2020-07-05\", \"2020-07-06\", \"2020-07-07\", \"2020-07-08\", \"2020-07-09\", \"2020-07-10\", \"2020-07-11\", \"2020-07-12\", \"2020-07-13\", \"2020-07-14\", \"2020-07-15\", \"2020-07-16\", \"2020-07-17\", \"2020-07-18\", \"2020-07-19\", \"2020-07-20\", \"2020-07-21\", \"2020-07-22\", \"2020-07-23\", \"2020-07-24\", \"2020-07-25\", \"2020-07-26\", \"2020-07-27\", \"2020-07-28\", \"2020-07-29\", \"2020-07-30\", \"2020-07-31\", \"2020-08-01\", \"2020-08-02\", \"2020-08-03\", \"2020-08-04\", \"2020-08-05\", \"2020-08-06\", \"2020-08-07\", \"2020-08-08\", \"2020-08-09\", \"2020-08-10\", \"2020-08-11\", \"2020-08-12\", \"2020-08-13\", \"2020-08-14\", \"2020-08-15\", \"2020-08-16\", \"2020-08-17\", \"2020-08-18\", \"2020-08-19\", \"2020-08-20\", \"2020-08-21\", \"2020-08-22\", \"2020-08-23\", \"2020-08-24\", \"2020-08-25\", \"2020-08-26\", \"2020-08-27\", \"2020-08-28\", \"2020-08-29\", \"2020-08-30\", \"2020-08-31\", \"2020-09-01\", \"2020-09-02\", \"2020-09-03\", \"2020-09-04\", \"2020-09-05\", \"2020-09-06\", \"2020-09-07\", \"2020-09-08\", \"2020-09-09\", \"2020-09-10\", \"2020-09-11\", \"2020-09-12\", \"2020-09-13\", \"2020-09-14\", \"2020-09-15\", \"2020-09-16\", \"2020-09-17\", \"2020-09-18\", \"2020-09-19\", \"2020-09-20\", \"2020-09-21\", \"2020-09-22\", \"2020-09-23\", \"2020-09-24\", \"2020-09-25\", \"2020-09-26\", \"2020-09-27\", \"2020-09-28\", \"2020-09-29\", \"2020-09-30\", \"2020-10-01\", \"2020-10-02\", \"2020-10-03\", \"2020-10-04\", \"2020-10-05\", \"2020-10-06\", \"2020-10-07\", \"2020-10-08\", \"2020-10-09\", \"2020-10-10\", \"2020-10-11\", \"2020-10-12\", \"2020-10-13\", \"2020-10-14\", \"2020-10-15\", \"2020-10-16\", \"2020-10-17\", \"2020-10-18\", \"2020-10-19\", \"2020-10-20\", \"2020-10-21\", \"2020-10-22\", \"2020-10-23\", \"2020-10-24\", \"2020-10-25\", \"2020-10-26\", \"2020-10-27\", \"2020-10-28\", \"2020-10-29\", \"2020-10-30\", \"2020-10-31\", \"2020-11-01\", \"2020-11-02\", \"2020-11-03\", \"2020-11-04\", \"2020-11-05\"], \"y\": [0.0, 0.0, 0.0, 0.0, 0.0, 0.0, 0.0, 0.0, 0.0, 0.0, 0.0, 0.0, 0.0, 0.0, 0.0, 0.0, 0.0, 0.0, 0.0, 0.0, 0.0, 0.0, 0.0, 0.0, 0.0, 0.0, 0.0, 0.0, 0.0, 0.0, 0.0, 0.0, 0.0, 0.0, 0.0, 0.0, 0.0, 0.0, 0.0, 1.4492753623188406, 2.247191011235955, 5.825242718446602, 7.199999999999999, 6.918238993710692, 5.150214592274678, 4.142011834319527, 3.9260969976905313, 3.790613718411552, 3.4482758620689653, 2.731707317073171, 2.2865853658536586, 2.4052916416115453, 2.1619135234590616, 1.9315486275838698, 1.8282988871224166, 1.8236429950654367, 1.6804107670763964, 1.5932023366967605, 1.0526315789473684, 1.3249082755809212, 1.2711705985718025, 1.3378401408850764, 1.2704017914818482, 1.4502724918976662, 1.5174726132323613, 1.5071344675605585, 1.6305905278642798, 1.7575101271407372, 1.7542387694459012, 1.925646944478192, 2.1511670832937804, 2.3707900941763835, 2.4651787896065813, 2.5747845951828467, 2.7226113497119178, 2.857227479378619, 2.9845517061565037, 3.233377381152381, 3.4288134181222403, 3.5812914536095084, 3.7437195948640243, 3.8886614045449486, 3.965055571398082, 4.05925910668493, 4.275031336338997, 4.843949323394782, 4.957911968909524, 5.277114748121522, 5.293258203802004, 5.355100192579313, 5.400049761853984, 5.4619103777872855, 5.552146911630148, 5.748344401338286, 5.728874235843167, 5.664110545411175, 5.681274652917974, 5.69021630814274, 5.762984367701216, 5.8626283645972865, 5.88936892541404, 5.8950099702749, 5.858866494450029, 5.844525366545744, 5.838727327859438, 5.9011602565433074, 5.976788270906062, 6.020022721269845, 6.011235823787764, 6.016917377920966, 5.980452684954644, 5.985832945079664, 6.01380766209915, 6.04948710979575, 6.058725330403155, 6.066799362891845, 6.0463905867221115, 6.023983744485481, 5.989203220473579, 6.013536852792941, 6.021124423511763, 6.004107052172496, 5.995064423510429, 5.983163551430667, 5.9467952907612895, 5.908673634514066, 5.883612536669974, 5.908585808970118, 5.901960214897634, 5.88614075887463, 5.862061564044863, 5.830830341566905, 5.80513085519222, 5.796472471928206, 5.788487296923608, 5.778464857475463, 5.750912353952234, 5.718672479676426, 5.68966768827454, 5.660200338060918, 5.657297269995202, 5.64489038543058, 5.62533267897202, 5.5963779157105025, 5.564451831406307, 5.526656475980495, 5.493168012124733, 5.47136192533111, 5.441572789593628, 5.405348663564351, 5.363083818221032, 5.308766410996492, 5.259957420540555, 5.207018806366989, 5.165183794612918, 5.122238921356317, 5.136254236658396, 5.066744683704799, 5.000910241431082, 4.935433402013969, 4.869232503342917, 4.8363366372713354, 4.7669068818677225, 4.698747645425218, 4.632037622019804, 4.566792813770672, 4.498560738895707, 4.434250712493087, 4.388374479072446, 4.3308944931005, 4.274876780303321, 4.210752070960766, 4.151081201249875, 4.090994637727379, 4.032195717228616, 3.976775672038545, 3.9270526515228372, 3.8688324910569003, 3.8178969574103236, 3.775302683792703, 3.724471677011391, 3.678998227158676, 3.640796728290559, 3.6059780815763456, 3.5755665077382774, 3.5390875055227573, 3.505482372421241, 3.470342605845036, 3.4499283610352096, 3.4295979523882942, 3.4044186310222178, 3.383081787954387, 3.3606478860210913, 3.342687412724837, 3.317512700957914, 3.2969334019580097, 3.286588569858399, 3.280671142859571, 3.2783702995671673, 3.2651287102907522, 3.2497888662643604, 3.2297798315276682, 3.2086446395783286, 3.200357425795149, 3.1945790268047016, 3.1841138423113877, 3.1704021019822775, 3.1612718504280317, 3.147205885918321, 3.135101340945971, 3.1340379861725194, 3.1316807966665228, 3.1262967928613756, 3.11903476111127, 3.111480821191562, 3.100439430289038, 3.087995298305547, 3.0885124626494282, 3.0868744026839456, 3.0816398351337004, 3.0718187378019444, 3.065947931270592, 3.052593367897454, 3.0442315412021164, 3.0398218989501045, 3.0378093963665482, 3.0370261378666172, 3.027624890232171, 3.018604625843718, 3.0103302503130367, 3.0029817459124595, 2.9975538074649406, 3.0003679407269503, 2.998002103098733, 2.994683868277104, 2.986398006323669, 2.9766813666117637, 2.9677397701233597, 2.9659144697336313, 2.9679570965651525, 2.961034439051081, 2.9531425124842614, 2.9454415265008143, 2.9318802835757154, 2.914580953801615, 2.9118187589414224, 2.9117833856633, 2.9062465026094024, 2.8972208438841363, 2.8888661606108834, 2.877788843529613, 2.8688967219563843, 2.8646398632969463, 2.860870590704355, 2.855362887812192, 2.84653419772963, 2.836185673357403, 2.8282338064491777, 2.8181348921707303, 2.8115157115563965, 2.805387802634085, 2.797217782360936, 2.789250321866182, 2.7772829635959413, 2.7667604847070755, 2.7560170508253443, 2.747993626852142, 2.739631889440507, 2.7281094902996723, 2.7154679650952698, 2.7050167564025642, 2.6938676905474765, 2.6797269060367594, 2.672040094259802, 2.6654688505019384, 2.6526282238824783, 2.637199542388572, 2.6222013647400377, 2.6079862994743617, 2.5933066529542566, 2.5823685742477522, 2.570550723276433, 2.5560481073766446, 2.538931786904719, 2.5262643018394737, 2.508818486771781, 2.4921417958519014, 2.478980398400295, 2.463810097859207]}],\n",
              "                        {\"template\": {\"data\": {\"bar\": [{\"error_x\": {\"color\": \"#2a3f5f\"}, \"error_y\": {\"color\": \"#2a3f5f\"}, \"marker\": {\"line\": {\"color\": \"#E5ECF6\", \"width\": 0.5}}, \"type\": \"bar\"}], \"barpolar\": [{\"marker\": {\"line\": {\"color\": \"#E5ECF6\", \"width\": 0.5}}, \"type\": \"barpolar\"}], \"carpet\": [{\"aaxis\": {\"endlinecolor\": \"#2a3f5f\", \"gridcolor\": \"white\", \"linecolor\": \"white\", \"minorgridcolor\": \"white\", \"startlinecolor\": \"#2a3f5f\"}, \"baxis\": {\"endlinecolor\": \"#2a3f5f\", \"gridcolor\": \"white\", \"linecolor\": \"white\", \"minorgridcolor\": \"white\", \"startlinecolor\": \"#2a3f5f\"}, \"type\": \"carpet\"}], \"choropleth\": [{\"colorbar\": {\"outlinewidth\": 0, \"ticks\": \"\"}, \"type\": \"choropleth\"}], \"contour\": [{\"colorbar\": {\"outlinewidth\": 0, \"ticks\": \"\"}, \"colorscale\": [[0.0, \"#0d0887\"], [0.1111111111111111, \"#46039f\"], [0.2222222222222222, \"#7201a8\"], [0.3333333333333333, \"#9c179e\"], [0.4444444444444444, \"#bd3786\"], [0.5555555555555556, \"#d8576b\"], [0.6666666666666666, \"#ed7953\"], [0.7777777777777778, \"#fb9f3a\"], [0.8888888888888888, \"#fdca26\"], [1.0, \"#f0f921\"]], \"type\": \"contour\"}], \"contourcarpet\": [{\"colorbar\": {\"outlinewidth\": 0, \"ticks\": \"\"}, \"type\": \"contourcarpet\"}], \"heatmap\": [{\"colorbar\": {\"outlinewidth\": 0, \"ticks\": \"\"}, \"colorscale\": [[0.0, \"#0d0887\"], [0.1111111111111111, \"#46039f\"], [0.2222222222222222, \"#7201a8\"], [0.3333333333333333, \"#9c179e\"], [0.4444444444444444, \"#bd3786\"], [0.5555555555555556, \"#d8576b\"], [0.6666666666666666, \"#ed7953\"], [0.7777777777777778, \"#fb9f3a\"], [0.8888888888888888, \"#fdca26\"], [1.0, \"#f0f921\"]], \"type\": \"heatmap\"}], \"heatmapgl\": [{\"colorbar\": {\"outlinewidth\": 0, \"ticks\": \"\"}, \"colorscale\": [[0.0, \"#0d0887\"], [0.1111111111111111, \"#46039f\"], [0.2222222222222222, \"#7201a8\"], [0.3333333333333333, \"#9c179e\"], [0.4444444444444444, \"#bd3786\"], [0.5555555555555556, \"#d8576b\"], [0.6666666666666666, \"#ed7953\"], [0.7777777777777778, \"#fb9f3a\"], [0.8888888888888888, \"#fdca26\"], [1.0, \"#f0f921\"]], \"type\": \"heatmapgl\"}], \"histogram\": [{\"marker\": {\"colorbar\": {\"outlinewidth\": 0, \"ticks\": \"\"}}, \"type\": \"histogram\"}], \"histogram2d\": [{\"colorbar\": {\"outlinewidth\": 0, \"ticks\": \"\"}, \"colorscale\": [[0.0, \"#0d0887\"], [0.1111111111111111, \"#46039f\"], [0.2222222222222222, \"#7201a8\"], [0.3333333333333333, \"#9c179e\"], [0.4444444444444444, \"#bd3786\"], [0.5555555555555556, \"#d8576b\"], [0.6666666666666666, \"#ed7953\"], [0.7777777777777778, \"#fb9f3a\"], [0.8888888888888888, \"#fdca26\"], [1.0, \"#f0f921\"]], \"type\": \"histogram2d\"}], \"histogram2dcontour\": [{\"colorbar\": {\"outlinewidth\": 0, \"ticks\": \"\"}, \"colorscale\": [[0.0, \"#0d0887\"], [0.1111111111111111, \"#46039f\"], [0.2222222222222222, \"#7201a8\"], [0.3333333333333333, \"#9c179e\"], [0.4444444444444444, \"#bd3786\"], [0.5555555555555556, \"#d8576b\"], [0.6666666666666666, \"#ed7953\"], [0.7777777777777778, \"#fb9f3a\"], [0.8888888888888888, \"#fdca26\"], [1.0, \"#f0f921\"]], \"type\": \"histogram2dcontour\"}], \"mesh3d\": [{\"colorbar\": {\"outlinewidth\": 0, \"ticks\": \"\"}, \"type\": \"mesh3d\"}], \"parcoords\": [{\"line\": {\"colorbar\": {\"outlinewidth\": 0, \"ticks\": \"\"}}, \"type\": \"parcoords\"}], \"pie\": [{\"automargin\": true, \"type\": \"pie\"}], \"scatter\": [{\"marker\": {\"colorbar\": {\"outlinewidth\": 0, \"ticks\": \"\"}}, \"type\": \"scatter\"}], \"scatter3d\": [{\"line\": {\"colorbar\": {\"outlinewidth\": 0, \"ticks\": \"\"}}, \"marker\": {\"colorbar\": {\"outlinewidth\": 0, \"ticks\": \"\"}}, \"type\": \"scatter3d\"}], \"scattercarpet\": [{\"marker\": {\"colorbar\": {\"outlinewidth\": 0, \"ticks\": \"\"}}, \"type\": \"scattercarpet\"}], \"scattergeo\": [{\"marker\": {\"colorbar\": {\"outlinewidth\": 0, \"ticks\": \"\"}}, \"type\": \"scattergeo\"}], \"scattergl\": [{\"marker\": {\"colorbar\": {\"outlinewidth\": 0, \"ticks\": \"\"}}, \"type\": \"scattergl\"}], \"scattermapbox\": [{\"marker\": {\"colorbar\": {\"outlinewidth\": 0, \"ticks\": \"\"}}, \"type\": \"scattermapbox\"}], \"scatterpolar\": [{\"marker\": {\"colorbar\": {\"outlinewidth\": 0, \"ticks\": \"\"}}, \"type\": \"scatterpolar\"}], \"scatterpolargl\": [{\"marker\": {\"colorbar\": {\"outlinewidth\": 0, \"ticks\": \"\"}}, \"type\": \"scatterpolargl\"}], \"scatterternary\": [{\"marker\": {\"colorbar\": {\"outlinewidth\": 0, \"ticks\": \"\"}}, \"type\": \"scatterternary\"}], \"surface\": [{\"colorbar\": {\"outlinewidth\": 0, \"ticks\": \"\"}, \"colorscale\": [[0.0, \"#0d0887\"], [0.1111111111111111, \"#46039f\"], [0.2222222222222222, \"#7201a8\"], [0.3333333333333333, \"#9c179e\"], [0.4444444444444444, \"#bd3786\"], [0.5555555555555556, \"#d8576b\"], [0.6666666666666666, \"#ed7953\"], [0.7777777777777778, \"#fb9f3a\"], [0.8888888888888888, \"#fdca26\"], [1.0, \"#f0f921\"]], \"type\": \"surface\"}], \"table\": [{\"cells\": {\"fill\": {\"color\": \"#EBF0F8\"}, \"line\": {\"color\": \"white\"}}, \"header\": {\"fill\": {\"color\": \"#C8D4E3\"}, \"line\": {\"color\": \"white\"}}, \"type\": \"table\"}]}, \"layout\": {\"annotationdefaults\": {\"arrowcolor\": \"#2a3f5f\", \"arrowhead\": 0, \"arrowwidth\": 1}, \"coloraxis\": {\"colorbar\": {\"outlinewidth\": 0, \"ticks\": \"\"}}, \"colorscale\": {\"diverging\": [[0, \"#8e0152\"], [0.1, \"#c51b7d\"], [0.2, \"#de77ae\"], [0.3, \"#f1b6da\"], [0.4, \"#fde0ef\"], [0.5, \"#f7f7f7\"], [0.6, \"#e6f5d0\"], [0.7, \"#b8e186\"], [0.8, \"#7fbc41\"], [0.9, \"#4d9221\"], [1, \"#276419\"]], \"sequential\": [[0.0, \"#0d0887\"], [0.1111111111111111, \"#46039f\"], [0.2222222222222222, \"#7201a8\"], [0.3333333333333333, \"#9c179e\"], [0.4444444444444444, \"#bd3786\"], [0.5555555555555556, \"#d8576b\"], [0.6666666666666666, \"#ed7953\"], [0.7777777777777778, \"#fb9f3a\"], [0.8888888888888888, \"#fdca26\"], [1.0, \"#f0f921\"]], \"sequentialminus\": [[0.0, \"#0d0887\"], [0.1111111111111111, \"#46039f\"], [0.2222222222222222, \"#7201a8\"], [0.3333333333333333, \"#9c179e\"], [0.4444444444444444, \"#bd3786\"], [0.5555555555555556, \"#d8576b\"], [0.6666666666666666, \"#ed7953\"], [0.7777777777777778, \"#fb9f3a\"], [0.8888888888888888, \"#fdca26\"], [1.0, \"#f0f921\"]]}, \"colorway\": [\"#636efa\", \"#EF553B\", \"#00cc96\", \"#ab63fa\", \"#FFA15A\", \"#19d3f3\", \"#FF6692\", \"#B6E880\", \"#FF97FF\", \"#FECB52\"], \"font\": {\"color\": \"#2a3f5f\"}, \"geo\": {\"bgcolor\": \"white\", \"lakecolor\": \"white\", \"landcolor\": \"#E5ECF6\", \"showlakes\": true, \"showland\": true, \"subunitcolor\": \"white\"}, \"hoverlabel\": {\"align\": \"left\"}, \"hovermode\": \"closest\", \"mapbox\": {\"style\": \"light\"}, \"paper_bgcolor\": \"white\", \"plot_bgcolor\": \"#E5ECF6\", \"polar\": {\"angularaxis\": {\"gridcolor\": \"white\", \"linecolor\": \"white\", \"ticks\": \"\"}, \"bgcolor\": \"#E5ECF6\", \"radialaxis\": {\"gridcolor\": \"white\", \"linecolor\": \"white\", \"ticks\": \"\"}}, \"scene\": {\"xaxis\": {\"backgroundcolor\": \"#E5ECF6\", \"gridcolor\": \"white\", \"gridwidth\": 2, \"linecolor\": \"white\", \"showbackground\": true, \"ticks\": \"\", \"zerolinecolor\": \"white\"}, \"yaxis\": {\"backgroundcolor\": \"#E5ECF6\", \"gridcolor\": \"white\", \"gridwidth\": 2, \"linecolor\": \"white\", \"showbackground\": true, \"ticks\": \"\", \"zerolinecolor\": \"white\"}, \"zaxis\": {\"backgroundcolor\": \"#E5ECF6\", \"gridcolor\": \"white\", \"gridwidth\": 2, \"linecolor\": \"white\", \"showbackground\": true, \"ticks\": \"\", \"zerolinecolor\": \"white\"}}, \"shapedefaults\": {\"line\": {\"color\": \"#2a3f5f\"}}, \"ternary\": {\"aaxis\": {\"gridcolor\": \"white\", \"linecolor\": \"white\", \"ticks\": \"\"}, \"baxis\": {\"gridcolor\": \"white\", \"linecolor\": \"white\", \"ticks\": \"\"}, \"bgcolor\": \"#E5ECF6\", \"caxis\": {\"gridcolor\": \"white\", \"linecolor\": \"white\", \"ticks\": \"\"}}, \"title\": {\"x\": 0.05}, \"xaxis\": {\"automargin\": true, \"gridcolor\": \"white\", \"linecolor\": \"white\", \"ticks\": \"\", \"title\": {\"standoff\": 15}, \"zerolinecolor\": \"white\", \"zerolinewidth\": 2}, \"yaxis\": {\"automargin\": true, \"gridcolor\": \"white\", \"linecolor\": \"white\", \"ticks\": \"\", \"title\": {\"standoff\": 15}, \"zerolinecolor\": \"white\", \"zerolinewidth\": 2}}}, \"title\": {\"text\": \"The CFR for United States\", \"x\": 0.5, \"xanchor\": \"center\", \"y\": 0.95, \"yanchor\": \"top\"}, \"xaxis\": {\"tickangle\": -70, \"title\": {\"text\": \"Date\"}}, \"yaxis\": {\"title\": {\"text\": \"Percentage(%)\"}}},\n",
              "                        {\"responsive\": true}\n",
              "                    ).then(function(){\n",
              "                            \n",
              "var gd = document.getElementById('b7d99cf1-4b89-42d1-8b63-7c4a70c8fd40');\n",
              "var x = new MutationObserver(function (mutations, observer) {{\n",
              "        var display = window.getComputedStyle(gd).display;\n",
              "        if (!display || display === 'none') {{\n",
              "            console.log([gd, 'removed!']);\n",
              "            Plotly.purge(gd);\n",
              "            observer.disconnect();\n",
              "        }}\n",
              "}});\n",
              "\n",
              "// Listen for the removal of the full notebook cells\n",
              "var notebookContainer = gd.closest('#notebook-container');\n",
              "if (notebookContainer) {{\n",
              "    x.observe(notebookContainer, {childList: true});\n",
              "}}\n",
              "\n",
              "// Listen for the clearing of the current output cell\n",
              "var outputEl = gd.closest('.output');\n",
              "if (outputEl) {{\n",
              "    x.observe(outputEl, {childList: true});\n",
              "}}\n",
              "\n",
              "                        })\n",
              "                };\n",
              "                \n",
              "            </script>\n",
              "        </div>\n",
              "</body>\n",
              "</html>"
            ]
          },
          "metadata": {
            "tags": []
          }
        }
      ]
    },
    {
      "cell_type": "markdown",
      "metadata": {
        "id": "gDMUupid65Ic"
      },
      "source": [
        "In the graph, we can see that the smoothed CFR can see the trends much more clearer and have reduced the outliers shown by the extreme spikes, which may have been corrections of data. We can also visualise that left hand side has a much more severe death rate than the right hand side. Right hand side seems to be stablising."
      ]
    },
    {
      "cell_type": "markdown",
      "metadata": {
        "id": "rHSwcmy0sawD"
      },
      "source": [
        "## Russia"
      ]
    },
    {
      "cell_type": "markdown",
      "metadata": {
        "id": "4PIXgntTsawE"
      },
      "source": [
        "introduction:We chose Russia from Europe. In Russia the covid-19 is currently in another outbreak stage"
      ]
    },
    {
      "cell_type": "markdown",
      "metadata": {
        "id": "iBRAvzUSNLpi"
      },
      "source": [
        "The following code uses a function to calculate the CFR."
      ]
    },
    {
      "cell_type": "code",
      "metadata": {
        "id": "8ixb8pujKaIE",
        "outputId": "229dc12a-aa34-4b7a-a578-b0c6b97eb7a3",
        "colab": {
          "base_uri": "https://localhost:8080/"
        }
      },
      "source": [
        "calculate_CFR('Russia')"
      ],
      "execution_count": 37,
      "outputs": [
        {
          "output_type": "execute_result",
          "data": {
            "text/plain": [
              "1.725290441901581"
            ]
          },
          "metadata": {
            "tags": []
          },
          "execution_count": 37
        }
      ]
    },
    {
      "cell_type": "markdown",
      "metadata": {
        "id": "FEzjU979N0IT"
      },
      "source": [
        "Russia's current CFR is 1.7253%"
      ]
    },
    {
      "cell_type": "markdown",
      "metadata": {
        "id": "1T7wDGl3oXip"
      },
      "source": [
        "The following code is to draw Russia's CFR trend chart"
      ]
    },
    {
      "cell_type": "code",
      "metadata": {
        "id": "e0d8qKAYoUYo",
        "outputId": "119f17a4-11f3-42b4-c72f-3fdc4d3b66be",
        "colab": {
          "base_uri": "https://localhost:8080/",
          "height": 542
        }
      },
      "source": [
        "plot('Russia')"
      ],
      "execution_count": 38,
      "outputs": [
        {
          "output_type": "display_data",
          "data": {
            "text/html": [
              "<html>\n",
              "<head><meta charset=\"utf-8\" /></head>\n",
              "<body>\n",
              "    <div>\n",
              "            <script src=\"https://cdnjs.cloudflare.com/ajax/libs/mathjax/2.7.5/MathJax.js?config=TeX-AMS-MML_SVG\"></script><script type=\"text/javascript\">if (window.MathJax) {MathJax.Hub.Config({SVG: {font: \"STIX-Web\"}});}</script>\n",
              "                <script type=\"text/javascript\">window.PlotlyConfig = {MathJaxConfig: 'local'};</script>\n",
              "        <script src=\"https://cdn.plot.ly/plotly-latest.min.js\"></script>    \n",
              "            <div id=\"35ca2e62-7287-4d29-aa7c-2316175d64a3\" class=\"plotly-graph-div\" style=\"height:525px; width:100%;\"></div>\n",
              "            <script type=\"text/javascript\">\n",
              "                \n",
              "                    window.PLOTLYENV=window.PLOTLYENV || {};\n",
              "                    \n",
              "                if (document.getElementById(\"35ca2e62-7287-4d29-aa7c-2316175d64a3\")) {\n",
              "                    Plotly.newPlot(\n",
              "                        '35ca2e62-7287-4d29-aa7c-2316175d64a3',\n",
              "                        [{\"line\": {\"color\": \"crimson\", \"width\": 2}, \"name\": \"Russia CFR\", \"type\": \"scatter\", \"x\": [\"2020-01-22\", \"2020-01-23\", \"2020-01-24\", \"2020-01-25\", \"2020-01-26\", \"2020-01-27\", \"2020-01-28\", \"2020-01-29\", \"2020-01-30\", \"2020-01-31\", \"2020-02-01\", \"2020-02-02\", \"2020-02-03\", \"2020-02-04\", \"2020-02-05\", \"2020-02-06\", \"2020-02-07\", \"2020-02-08\", \"2020-02-09\", \"2020-02-10\", \"2020-02-11\", \"2020-02-12\", \"2020-02-13\", \"2020-02-14\", \"2020-02-15\", \"2020-02-16\", \"2020-02-17\", \"2020-02-18\", \"2020-02-19\", \"2020-02-20\", \"2020-02-21\", \"2020-02-22\", \"2020-02-23\", \"2020-02-24\", \"2020-02-25\", \"2020-02-26\", \"2020-02-27\", \"2020-02-28\", \"2020-02-29\", \"2020-03-01\", \"2020-03-02\", \"2020-03-03\", \"2020-03-04\", \"2020-03-05\", \"2020-03-06\", \"2020-03-07\", \"2020-03-08\", \"2020-03-09\", \"2020-03-10\", \"2020-03-11\", \"2020-03-12\", \"2020-03-13\", \"2020-03-14\", \"2020-03-15\", \"2020-03-16\", \"2020-03-17\", \"2020-03-18\", \"2020-03-19\", \"2020-03-20\", \"2020-03-21\", \"2020-03-22\", \"2020-03-23\", \"2020-03-24\", \"2020-03-25\", \"2020-03-26\", \"2020-03-27\", \"2020-03-28\", \"2020-03-29\", \"2020-03-30\", \"2020-03-31\", \"2020-04-01\", \"2020-04-02\", \"2020-04-03\", \"2020-04-04\", \"2020-04-05\", \"2020-04-06\", \"2020-04-07\", \"2020-04-08\", \"2020-04-09\", \"2020-04-10\", \"2020-04-11\", \"2020-04-12\", \"2020-04-13\", \"2020-04-14\", \"2020-04-15\", \"2020-04-16\", \"2020-04-17\", \"2020-04-18\", \"2020-04-19\", \"2020-04-20\", \"2020-04-21\", \"2020-04-22\", \"2020-04-23\", \"2020-04-24\", \"2020-04-25\", \"2020-04-26\", \"2020-04-27\", \"2020-04-28\", \"2020-04-29\", \"2020-04-30\", \"2020-05-01\", \"2020-05-02\", \"2020-05-03\", \"2020-05-04\", \"2020-05-05\", \"2020-05-06\", \"2020-05-07\", \"2020-05-08\", \"2020-05-09\", \"2020-05-10\", \"2020-05-11\", \"2020-05-12\", \"2020-05-13\", \"2020-05-14\", \"2020-05-15\", \"2020-05-16\", \"2020-05-17\", \"2020-05-18\", \"2020-05-19\", \"2020-05-20\", \"2020-05-21\", \"2020-05-22\", \"2020-05-23\", \"2020-05-24\", \"2020-05-25\", \"2020-05-26\", \"2020-05-27\", \"2020-05-28\", \"2020-05-29\", \"2020-05-30\", \"2020-05-31\", \"2020-06-01\", \"2020-06-02\", \"2020-06-03\", \"2020-06-04\", \"2020-06-05\", \"2020-06-06\", \"2020-06-07\", \"2020-06-08\", \"2020-06-09\", \"2020-06-10\", \"2020-06-11\", \"2020-06-12\", \"2020-06-13\", \"2020-06-14\", \"2020-06-15\", \"2020-06-16\", \"2020-06-17\", \"2020-06-18\", \"2020-06-19\", \"2020-06-20\", \"2020-06-21\", \"2020-06-22\", \"2020-06-23\", \"2020-06-24\", \"2020-06-25\", \"2020-06-26\", \"2020-06-27\", \"2020-06-28\", \"2020-06-29\", \"2020-06-30\", \"2020-07-01\", \"2020-07-02\", \"2020-07-03\", \"2020-07-04\", \"2020-07-05\", \"2020-07-06\", \"2020-07-07\", \"2020-07-08\", \"2020-07-09\", \"2020-07-10\", \"2020-07-11\", \"2020-07-12\", \"2020-07-13\", \"2020-07-14\", \"2020-07-15\", \"2020-07-16\", \"2020-07-17\", \"2020-07-18\", \"2020-07-19\", \"2020-07-20\", \"2020-07-21\", \"2020-07-22\", \"2020-07-23\", \"2020-07-24\", \"2020-07-25\", \"2020-07-26\", \"2020-07-27\", \"2020-07-28\", \"2020-07-29\", \"2020-07-30\", \"2020-07-31\", \"2020-08-01\", \"2020-08-02\", \"2020-08-03\", \"2020-08-04\", \"2020-08-05\", \"2020-08-06\", \"2020-08-07\", \"2020-08-08\", \"2020-08-09\", \"2020-08-10\", \"2020-08-11\", \"2020-08-12\", \"2020-08-13\", \"2020-08-14\", \"2020-08-15\", \"2020-08-16\", \"2020-08-17\", \"2020-08-18\", \"2020-08-19\", \"2020-08-20\", \"2020-08-21\", \"2020-08-22\", \"2020-08-23\", \"2020-08-24\", \"2020-08-25\", \"2020-08-26\", \"2020-08-27\", \"2020-08-28\", \"2020-08-29\", \"2020-08-30\", \"2020-08-31\", \"2020-09-01\", \"2020-09-02\", \"2020-09-03\", \"2020-09-04\", \"2020-09-05\", \"2020-09-06\", \"2020-09-07\", \"2020-09-08\", \"2020-09-09\", \"2020-09-10\", \"2020-09-11\", \"2020-09-12\", \"2020-09-13\", \"2020-09-14\", \"2020-09-15\", \"2020-09-16\", \"2020-09-17\", \"2020-09-18\", \"2020-09-19\", \"2020-09-20\", \"2020-09-21\", \"2020-09-22\", \"2020-09-23\", \"2020-09-24\", \"2020-09-25\", \"2020-09-26\", \"2020-09-27\", \"2020-09-28\", \"2020-09-29\", \"2020-09-30\", \"2020-10-01\", \"2020-10-02\", \"2020-10-03\", \"2020-10-04\", \"2020-10-05\", \"2020-10-06\", \"2020-10-07\", \"2020-10-08\", \"2020-10-09\", \"2020-10-10\", \"2020-10-11\", \"2020-10-12\", \"2020-10-13\", \"2020-10-14\", \"2020-10-15\", \"2020-10-16\", \"2020-10-17\", \"2020-10-18\", \"2020-10-19\", \"2020-10-20\", \"2020-10-21\", \"2020-10-22\", \"2020-10-23\", \"2020-10-24\", \"2020-10-25\", \"2020-10-26\", \"2020-10-27\", \"2020-10-28\", \"2020-10-29\", \"2020-10-30\", \"2020-10-31\", \"2020-11-01\", \"2020-11-02\", \"2020-11-03\", \"2020-11-04\", \"2020-11-05\"], \"y\": [null, null, null, null, null, null, null, null, null, null, 0.0, 0.0, 0.0, 0.0, 0.0, 0.0, 0.0, 0.0, 0.0, 0.0, 0.0, 0.0, 0.0, 0.0, 0.0, 0.0, 0.0, 0.0, 0.0, 0.0, 0.0, 0.0, 0.0, 0.0, 0.0, 0.0, 0.0, 0.0, 0.0, 0.0, 0.0, 0.0, 0.0, 0.0, 0.0, 0.0, 0.0, 0.0, 0.0, 0.0, 0.0, 0.0, 0.0, 0.0, 0.0, 0.0, 0.0, 0.0, 0.0, 0.0, 0.0, 0.0, 0.0, 0.0, 0.0, 0.2380952380952381, 0.3861003861003861, 0.39556962025316456, 0.5215123859191656, 0.5446623093681917, 0.727428326914848, 0.8642419877565718, 0.8455467869222096, 0.8194745721860689, 0.9088987529063622, 0.8350343291890889, 0.7409743023805769, 0.7736427904495131, 0.7264760147601476, 0.7501727371434213, 0.7887891247797265, 0.7803297997644287, 0.8243500317057704, 0.8075076385857703, 0.8056108425741636, 0.8084932625561453, 0.8304101940010022, 0.8529117720569859, 0.8507052972032725, 0.8424147667607869, 0.859489399630738, 0.8642419877565718, 0.884498008586355, 0.8841380848453952, 0.8962140421439188, 0.9130154984716039, 0.9228032464885297, 0.9122517126234982, 0.9266978772526133, 0.9778770410165092, 1.0075306578527297, 1.0215763211017994, 0.9850548954487562, 0.9503515558294416, 0.9334471459646998, 0.933899723241295, 0.9262998029277582, 0.9172499435538497, 0.9171772446356043, 0.9195876703779017, 0.9132616077219488, 0.9076369813502964, 0.9111146514641991, 0.9130271472854778, 0.9137941287240581, 0.9199408011626713, 0.9325731593902434, 0.9337999375337176, 0.936431377675641, 0.9458526843612578, 0.9627314102460278, 0.9758970127915252, 0.9952580502867227, 1.0086875748030557, 1.0279231655737182, 1.027935047407244, 1.0506648415033313, 1.0704650911837703, 1.0927289467644197, 1.1284160124657205, 1.1485847569816554, 1.156358493308989, 1.1702235355935962, 1.1886978130508965, 1.2064023762541147, 1.2205627646744108, 1.2288977711778122, 1.2481223661347887, 1.2527984296720145, 1.2526801186595, 1.2655254063344274, 1.2879387915090843, 1.3000660780676543, 1.3130031304810303, 1.3129435197806698, 1.3135109383625352, 1.3199679827255637, 1.3353915425202307, 1.3515247577719902, 1.3883665929412519, 1.4008993731801225, 1.3869438012174324, 1.3872545666005336, 1.3854933477409335, 1.3938519772221343, 1.4027461726434014, 1.4014794932849506, 1.4144788770510024, 1.4289902269750783, 1.4300868328927854, 1.42960527547118, 1.4386068358521817, 1.4572015800612772, 1.4645360840334865, 1.476156752005965, 1.4865495948941092, 1.491520746391565, 1.496811860518534, 1.5116027829393717, 1.5221349558784918, 1.533010698415526, 1.5431355191501759, 1.5550685798428139, 1.5587998272737025, 1.5590862192806587, 1.5695718747423801, 1.5769679608879787, 1.5856864466781881, 1.5968061243172116, 1.600001045154598, 1.5996453873132648, 1.5983567549769384, 1.605968381061318, 1.614946970944893, 1.6215577117068618, 1.6290212012501735, 1.6352637842126139, 1.6331378425447856, 1.6322788832934043, 1.6398001250736174, 1.6493564457954861, 1.6539264876291044, 1.6622995043935516, 1.6627969005598247, 1.660418160235994, 1.6591845505591734, 1.665964340399548, 1.6754617262144273, 1.675203637139377, 1.678760966099859, 1.6834646686621022, 1.6822979574913017, 1.687215875355961, 1.6857193468352794, 1.690482230550315, 1.6947248055098385, 1.6978099806862885, 1.701413250476095, 1.6996206329718817, 1.6965868854049333, 1.702103930002692, 1.7058190310469945, 1.7088310657187196, 1.7095470212550263, 1.7134206747158571, 1.7123613403306406, 1.7106728806137954, 1.7147783715194438, 1.7183645511991883, 1.7224695974480717, 1.7252053998092625, 1.7278194664615272, 1.7259972978594926, 1.7256778982416694, 1.7298169687854983, 1.73273631840796, 1.7354541359115638, 1.7386378748996407, 1.7405494408562106, 1.7376804598709903, 1.7338870077326838, 1.7371298594597935, 1.7437923087933127, 1.745367317488078, 1.7459315469343286, 1.7481241050841625, 1.7480059954215754, 1.7443275423094202, 1.7493148478044864, 1.752354520856048, 1.7563193311225387, 1.7590951496811729, 1.7624955456864475, 1.7598348376244677, 1.7564066168286627, 1.7609628879468726, 1.764237806317894, 1.7671300348323407, 1.765418362604397, 1.7685827989691938, 1.765097208881416, 1.757974702756963, 1.7592834420130075, 1.7616464023205243, 1.7626099891076088, 1.7642927636122254, 1.7642976101326524, 1.7578586355072958, 1.7517899255152791, 1.7505397962350022, 1.7511346535652588, 1.7503206064222863, 1.7494368192114997, 1.7472787771071776, 1.7399466242864117, 1.7314506480938192, 1.7317434009612585, 1.7311880179855552, 1.7347246971007184, 1.7324746058790066, 1.7339541335105673, 1.7284651126893222, 1.7215943294642329, 1.7207598305433995, 1.7239961722752508, 1.7249980523554198, 1.7239096988746803, 1.7246573027591445, 1.7207474583470124, 1.7155556600471258, 1.717886461460136, 1.7222131285902085, 1.7260618843226847, 1.7285259278889182, 1.7297894588521465, 1.7250322431650904, 1.7203834594734382, 1.722425831368608, 1.725290441901581]}],\n",
              "                        {\"template\": {\"data\": {\"bar\": [{\"error_x\": {\"color\": \"#2a3f5f\"}, \"error_y\": {\"color\": \"#2a3f5f\"}, \"marker\": {\"line\": {\"color\": \"#E5ECF6\", \"width\": 0.5}}, \"type\": \"bar\"}], \"barpolar\": [{\"marker\": {\"line\": {\"color\": \"#E5ECF6\", \"width\": 0.5}}, \"type\": \"barpolar\"}], \"carpet\": [{\"aaxis\": {\"endlinecolor\": \"#2a3f5f\", \"gridcolor\": \"white\", \"linecolor\": \"white\", \"minorgridcolor\": \"white\", \"startlinecolor\": \"#2a3f5f\"}, \"baxis\": {\"endlinecolor\": \"#2a3f5f\", \"gridcolor\": \"white\", \"linecolor\": \"white\", \"minorgridcolor\": \"white\", \"startlinecolor\": \"#2a3f5f\"}, \"type\": \"carpet\"}], \"choropleth\": [{\"colorbar\": {\"outlinewidth\": 0, \"ticks\": \"\"}, \"type\": \"choropleth\"}], \"contour\": [{\"colorbar\": {\"outlinewidth\": 0, \"ticks\": \"\"}, \"colorscale\": [[0.0, \"#0d0887\"], [0.1111111111111111, \"#46039f\"], [0.2222222222222222, \"#7201a8\"], [0.3333333333333333, \"#9c179e\"], [0.4444444444444444, \"#bd3786\"], [0.5555555555555556, \"#d8576b\"], [0.6666666666666666, \"#ed7953\"], [0.7777777777777778, \"#fb9f3a\"], [0.8888888888888888, \"#fdca26\"], [1.0, \"#f0f921\"]], \"type\": \"contour\"}], \"contourcarpet\": [{\"colorbar\": {\"outlinewidth\": 0, \"ticks\": \"\"}, \"type\": \"contourcarpet\"}], \"heatmap\": [{\"colorbar\": {\"outlinewidth\": 0, \"ticks\": \"\"}, \"colorscale\": [[0.0, \"#0d0887\"], [0.1111111111111111, \"#46039f\"], [0.2222222222222222, \"#7201a8\"], [0.3333333333333333, \"#9c179e\"], [0.4444444444444444, \"#bd3786\"], [0.5555555555555556, \"#d8576b\"], [0.6666666666666666, \"#ed7953\"], [0.7777777777777778, \"#fb9f3a\"], [0.8888888888888888, \"#fdca26\"], [1.0, \"#f0f921\"]], \"type\": \"heatmap\"}], \"heatmapgl\": [{\"colorbar\": {\"outlinewidth\": 0, \"ticks\": \"\"}, \"colorscale\": [[0.0, \"#0d0887\"], [0.1111111111111111, \"#46039f\"], [0.2222222222222222, \"#7201a8\"], [0.3333333333333333, \"#9c179e\"], [0.4444444444444444, \"#bd3786\"], [0.5555555555555556, \"#d8576b\"], [0.6666666666666666, \"#ed7953\"], [0.7777777777777778, \"#fb9f3a\"], [0.8888888888888888, \"#fdca26\"], [1.0, \"#f0f921\"]], \"type\": \"heatmapgl\"}], \"histogram\": [{\"marker\": {\"colorbar\": {\"outlinewidth\": 0, \"ticks\": \"\"}}, \"type\": \"histogram\"}], \"histogram2d\": [{\"colorbar\": {\"outlinewidth\": 0, \"ticks\": \"\"}, \"colorscale\": [[0.0, \"#0d0887\"], [0.1111111111111111, \"#46039f\"], [0.2222222222222222, \"#7201a8\"], [0.3333333333333333, \"#9c179e\"], [0.4444444444444444, \"#bd3786\"], [0.5555555555555556, \"#d8576b\"], [0.6666666666666666, \"#ed7953\"], [0.7777777777777778, \"#fb9f3a\"], [0.8888888888888888, \"#fdca26\"], [1.0, \"#f0f921\"]], \"type\": \"histogram2d\"}], \"histogram2dcontour\": [{\"colorbar\": {\"outlinewidth\": 0, \"ticks\": \"\"}, \"colorscale\": [[0.0, \"#0d0887\"], [0.1111111111111111, \"#46039f\"], [0.2222222222222222, \"#7201a8\"], [0.3333333333333333, \"#9c179e\"], [0.4444444444444444, \"#bd3786\"], [0.5555555555555556, \"#d8576b\"], [0.6666666666666666, \"#ed7953\"], [0.7777777777777778, \"#fb9f3a\"], [0.8888888888888888, \"#fdca26\"], [1.0, \"#f0f921\"]], \"type\": \"histogram2dcontour\"}], \"mesh3d\": [{\"colorbar\": {\"outlinewidth\": 0, \"ticks\": \"\"}, \"type\": \"mesh3d\"}], \"parcoords\": [{\"line\": {\"colorbar\": {\"outlinewidth\": 0, \"ticks\": \"\"}}, \"type\": \"parcoords\"}], \"pie\": [{\"automargin\": true, \"type\": \"pie\"}], \"scatter\": [{\"marker\": {\"colorbar\": {\"outlinewidth\": 0, \"ticks\": \"\"}}, \"type\": \"scatter\"}], \"scatter3d\": [{\"line\": {\"colorbar\": {\"outlinewidth\": 0, \"ticks\": \"\"}}, \"marker\": {\"colorbar\": {\"outlinewidth\": 0, \"ticks\": \"\"}}, \"type\": \"scatter3d\"}], \"scattercarpet\": [{\"marker\": {\"colorbar\": {\"outlinewidth\": 0, \"ticks\": \"\"}}, \"type\": \"scattercarpet\"}], \"scattergeo\": [{\"marker\": {\"colorbar\": {\"outlinewidth\": 0, \"ticks\": \"\"}}, \"type\": \"scattergeo\"}], \"scattergl\": [{\"marker\": {\"colorbar\": {\"outlinewidth\": 0, \"ticks\": \"\"}}, \"type\": \"scattergl\"}], \"scattermapbox\": [{\"marker\": {\"colorbar\": {\"outlinewidth\": 0, \"ticks\": \"\"}}, \"type\": \"scattermapbox\"}], \"scatterpolar\": [{\"marker\": {\"colorbar\": {\"outlinewidth\": 0, \"ticks\": \"\"}}, \"type\": \"scatterpolar\"}], \"scatterpolargl\": [{\"marker\": {\"colorbar\": {\"outlinewidth\": 0, \"ticks\": \"\"}}, \"type\": \"scatterpolargl\"}], \"scatterternary\": [{\"marker\": {\"colorbar\": {\"outlinewidth\": 0, \"ticks\": \"\"}}, \"type\": \"scatterternary\"}], \"surface\": [{\"colorbar\": {\"outlinewidth\": 0, \"ticks\": \"\"}, \"colorscale\": [[0.0, \"#0d0887\"], [0.1111111111111111, \"#46039f\"], [0.2222222222222222, \"#7201a8\"], [0.3333333333333333, \"#9c179e\"], [0.4444444444444444, \"#bd3786\"], [0.5555555555555556, \"#d8576b\"], [0.6666666666666666, \"#ed7953\"], [0.7777777777777778, \"#fb9f3a\"], [0.8888888888888888, \"#fdca26\"], [1.0, \"#f0f921\"]], \"type\": \"surface\"}], \"table\": [{\"cells\": {\"fill\": {\"color\": \"#EBF0F8\"}, \"line\": {\"color\": \"white\"}}, \"header\": {\"fill\": {\"color\": \"#C8D4E3\"}, \"line\": {\"color\": \"white\"}}, \"type\": \"table\"}]}, \"layout\": {\"annotationdefaults\": {\"arrowcolor\": \"#2a3f5f\", \"arrowhead\": 0, \"arrowwidth\": 1}, \"coloraxis\": {\"colorbar\": {\"outlinewidth\": 0, \"ticks\": \"\"}}, \"colorscale\": {\"diverging\": [[0, \"#8e0152\"], [0.1, \"#c51b7d\"], [0.2, \"#de77ae\"], [0.3, \"#f1b6da\"], [0.4, \"#fde0ef\"], [0.5, \"#f7f7f7\"], [0.6, \"#e6f5d0\"], [0.7, \"#b8e186\"], [0.8, \"#7fbc41\"], [0.9, \"#4d9221\"], [1, \"#276419\"]], \"sequential\": [[0.0, \"#0d0887\"], [0.1111111111111111, \"#46039f\"], [0.2222222222222222, \"#7201a8\"], [0.3333333333333333, \"#9c179e\"], [0.4444444444444444, \"#bd3786\"], [0.5555555555555556, \"#d8576b\"], [0.6666666666666666, \"#ed7953\"], [0.7777777777777778, \"#fb9f3a\"], [0.8888888888888888, \"#fdca26\"], [1.0, \"#f0f921\"]], \"sequentialminus\": [[0.0, \"#0d0887\"], [0.1111111111111111, \"#46039f\"], [0.2222222222222222, \"#7201a8\"], [0.3333333333333333, \"#9c179e\"], [0.4444444444444444, \"#bd3786\"], [0.5555555555555556, \"#d8576b\"], [0.6666666666666666, \"#ed7953\"], [0.7777777777777778, \"#fb9f3a\"], [0.8888888888888888, \"#fdca26\"], [1.0, \"#f0f921\"]]}, \"colorway\": [\"#636efa\", \"#EF553B\", \"#00cc96\", \"#ab63fa\", \"#FFA15A\", \"#19d3f3\", \"#FF6692\", \"#B6E880\", \"#FF97FF\", \"#FECB52\"], \"font\": {\"color\": \"#2a3f5f\"}, \"geo\": {\"bgcolor\": \"white\", \"lakecolor\": \"white\", \"landcolor\": \"#E5ECF6\", \"showlakes\": true, \"showland\": true, \"subunitcolor\": \"white\"}, \"hoverlabel\": {\"align\": \"left\"}, \"hovermode\": \"closest\", \"mapbox\": {\"style\": \"light\"}, \"paper_bgcolor\": \"white\", \"plot_bgcolor\": \"#E5ECF6\", \"polar\": {\"angularaxis\": {\"gridcolor\": \"white\", \"linecolor\": \"white\", \"ticks\": \"\"}, \"bgcolor\": \"#E5ECF6\", \"radialaxis\": {\"gridcolor\": \"white\", \"linecolor\": \"white\", \"ticks\": \"\"}}, \"scene\": {\"xaxis\": {\"backgroundcolor\": \"#E5ECF6\", \"gridcolor\": \"white\", \"gridwidth\": 2, \"linecolor\": \"white\", \"showbackground\": true, \"ticks\": \"\", \"zerolinecolor\": \"white\"}, \"yaxis\": {\"backgroundcolor\": \"#E5ECF6\", \"gridcolor\": \"white\", \"gridwidth\": 2, \"linecolor\": \"white\", \"showbackground\": true, \"ticks\": \"\", \"zerolinecolor\": \"white\"}, \"zaxis\": {\"backgroundcolor\": \"#E5ECF6\", \"gridcolor\": \"white\", \"gridwidth\": 2, \"linecolor\": \"white\", \"showbackground\": true, \"ticks\": \"\", \"zerolinecolor\": \"white\"}}, \"shapedefaults\": {\"line\": {\"color\": \"#2a3f5f\"}}, \"ternary\": {\"aaxis\": {\"gridcolor\": \"white\", \"linecolor\": \"white\", \"ticks\": \"\"}, \"baxis\": {\"gridcolor\": \"white\", \"linecolor\": \"white\", \"ticks\": \"\"}, \"bgcolor\": \"#E5ECF6\", \"caxis\": {\"gridcolor\": \"white\", \"linecolor\": \"white\", \"ticks\": \"\"}}, \"title\": {\"x\": 0.05}, \"xaxis\": {\"automargin\": true, \"gridcolor\": \"white\", \"linecolor\": \"white\", \"ticks\": \"\", \"title\": {\"standoff\": 15}, \"zerolinecolor\": \"white\", \"zerolinewidth\": 2}, \"yaxis\": {\"automargin\": true, \"gridcolor\": \"white\", \"linecolor\": \"white\", \"ticks\": \"\", \"title\": {\"standoff\": 15}, \"zerolinecolor\": \"white\", \"zerolinewidth\": 2}}}, \"title\": {\"text\": \"The CFR for Russia\", \"x\": 0.5, \"xanchor\": \"center\", \"y\": 0.95, \"yanchor\": \"top\"}, \"xaxis\": {\"tickangle\": -70, \"title\": {\"text\": \"Date\"}}, \"yaxis\": {\"title\": {\"text\": \"Percentage(%)\"}}},\n",
              "                        {\"responsive\": true}\n",
              "                    ).then(function(){\n",
              "                            \n",
              "var gd = document.getElementById('35ca2e62-7287-4d29-aa7c-2316175d64a3');\n",
              "var x = new MutationObserver(function (mutations, observer) {{\n",
              "        var display = window.getComputedStyle(gd).display;\n",
              "        if (!display || display === 'none') {{\n",
              "            console.log([gd, 'removed!']);\n",
              "            Plotly.purge(gd);\n",
              "            observer.disconnect();\n",
              "        }}\n",
              "}});\n",
              "\n",
              "// Listen for the removal of the full notebook cells\n",
              "var notebookContainer = gd.closest('#notebook-container');\n",
              "if (notebookContainer) {{\n",
              "    x.observe(notebookContainer, {childList: true});\n",
              "}}\n",
              "\n",
              "// Listen for the clearing of the current output cell\n",
              "var outputEl = gd.closest('.output');\n",
              "if (outputEl) {{\n",
              "    x.observe(outputEl, {childList: true});\n",
              "}}\n",
              "\n",
              "                        })\n",
              "                };\n",
              "                \n",
              "            </script>\n",
              "        </div>\n",
              "</body>\n",
              "</html>"
            ]
          },
          "metadata": {
            "tags": []
          }
        }
      ]
    },
    {
      "cell_type": "markdown",
      "metadata": {
        "id": "aOTmPRO_-7Ro"
      },
      "source": [
        "In the figure, we can see that the smooth CFR can see the trend more clearly. We can also imagine that the death rate on the right side is much higher than that on the left side. The mortality rate seems to have been rising and then stabilized."
      ]
    },
    {
      "cell_type": "markdown",
      "metadata": {
        "id": "Xoehpfl9sa7O"
      },
      "source": [
        "## South Africa"
      ]
    },
    {
      "cell_type": "markdown",
      "metadata": {
        "id": "PJr8-zhXsa7P"
      },
      "source": [
        "introduction:We chose South Africa from Africa. The Covid-19 in South Africa is under control"
      ]
    },
    {
      "cell_type": "markdown",
      "metadata": {
        "id": "ZpuUMiN9NMiZ"
      },
      "source": [
        "The following code uses a function to calculate the CFR."
      ]
    },
    {
      "cell_type": "code",
      "metadata": {
        "id": "M1rM8obiKct6",
        "outputId": "c2fecf33-d256-4e91-d6c0-6a66ed5d3430",
        "colab": {
          "base_uri": "https://localhost:8080/"
        }
      },
      "source": [
        "calculate_CFR('South Africa')"
      ],
      "execution_count": 39,
      "outputs": [
        {
          "output_type": "execute_result",
          "data": {
            "text/plain": [
              "2.6808642279494297"
            ]
          },
          "metadata": {
            "tags": []
          },
          "execution_count": 39
        }
      ]
    },
    {
      "cell_type": "markdown",
      "metadata": {
        "id": "1V99IRheOBL2"
      },
      "source": [
        "South Africa's current CFR is 2.6809%"
      ]
    },
    {
      "cell_type": "markdown",
      "metadata": {
        "id": "ExJQJTQ1oc7F"
      },
      "source": [
        "The following code is to draw South Africa's CFR trend chart"
      ]
    },
    {
      "cell_type": "code",
      "metadata": {
        "id": "ilA-7lroogN6",
        "outputId": "c954337a-563c-41aa-9818-c09a4b218bc4",
        "colab": {
          "base_uri": "https://localhost:8080/",
          "height": 542
        }
      },
      "source": [
        "plot('South Africa')"
      ],
      "execution_count": 40,
      "outputs": [
        {
          "output_type": "display_data",
          "data": {
            "text/html": [
              "<html>\n",
              "<head><meta charset=\"utf-8\" /></head>\n",
              "<body>\n",
              "    <div>\n",
              "            <script src=\"https://cdnjs.cloudflare.com/ajax/libs/mathjax/2.7.5/MathJax.js?config=TeX-AMS-MML_SVG\"></script><script type=\"text/javascript\">if (window.MathJax) {MathJax.Hub.Config({SVG: {font: \"STIX-Web\"}});}</script>\n",
              "                <script type=\"text/javascript\">window.PlotlyConfig = {MathJaxConfig: 'local'};</script>\n",
              "        <script src=\"https://cdn.plot.ly/plotly-latest.min.js\"></script>    \n",
              "            <div id=\"9942ad19-5eae-4172-bffb-84e6c881087f\" class=\"plotly-graph-div\" style=\"height:525px; width:100%;\"></div>\n",
              "            <script type=\"text/javascript\">\n",
              "                \n",
              "                    window.PLOTLYENV=window.PLOTLYENV || {};\n",
              "                    \n",
              "                if (document.getElementById(\"9942ad19-5eae-4172-bffb-84e6c881087f\")) {\n",
              "                    Plotly.newPlot(\n",
              "                        '9942ad19-5eae-4172-bffb-84e6c881087f',\n",
              "                        [{\"line\": {\"color\": \"mediumPurple\", \"width\": 2}, \"name\": \"South Africa CFR\", \"type\": \"scatter\", \"x\": [\"2020-02-07\", \"2020-02-08\", \"2020-02-09\", \"2020-02-10\", \"2020-02-11\", \"2020-02-12\", \"2020-02-13\", \"2020-02-14\", \"2020-02-15\", \"2020-02-16\", \"2020-02-17\", \"2020-02-18\", \"2020-02-19\", \"2020-02-20\", \"2020-02-21\", \"2020-02-22\", \"2020-02-23\", \"2020-02-24\", \"2020-02-25\", \"2020-02-26\", \"2020-02-27\", \"2020-02-28\", \"2020-02-29\", \"2020-03-01\", \"2020-03-02\", \"2020-03-03\", \"2020-03-04\", \"2020-03-05\", \"2020-03-06\", \"2020-03-07\", \"2020-03-08\", \"2020-03-09\", \"2020-03-10\", \"2020-03-11\", \"2020-03-12\", \"2020-03-13\", \"2020-03-14\", \"2020-03-15\", \"2020-03-16\", \"2020-03-17\", \"2020-03-18\", \"2020-03-19\", \"2020-03-20\", \"2020-03-21\", \"2020-03-22\", \"2020-03-23\", \"2020-03-24\", \"2020-03-25\", \"2020-03-26\", \"2020-03-27\", \"2020-03-28\", \"2020-03-29\", \"2020-03-30\", \"2020-03-31\", \"2020-04-01\", \"2020-04-02\", \"2020-04-03\", \"2020-04-04\", \"2020-04-05\", \"2020-04-06\", \"2020-04-07\", \"2020-04-08\", \"2020-04-09\", \"2020-04-10\", \"2020-04-11\", \"2020-04-12\", \"2020-04-13\", \"2020-04-14\", \"2020-04-15\", \"2020-04-16\", \"2020-04-17\", \"2020-04-18\", \"2020-04-19\", \"2020-04-20\", \"2020-04-21\", \"2020-04-22\", \"2020-04-23\", \"2020-04-24\", \"2020-04-25\", \"2020-04-26\", \"2020-04-27\", \"2020-04-28\", \"2020-04-29\", \"2020-04-30\", \"2020-05-01\", \"2020-05-02\", \"2020-05-03\", \"2020-05-04\", \"2020-05-05\", \"2020-05-06\", \"2020-05-07\", \"2020-05-08\", \"2020-05-09\", \"2020-05-10\", \"2020-05-11\", \"2020-05-12\", \"2020-05-13\", \"2020-05-14\", \"2020-05-15\", \"2020-05-16\", \"2020-05-17\", \"2020-05-18\", \"2020-05-19\", \"2020-05-20\", \"2020-05-21\", \"2020-05-22\", \"2020-05-23\", \"2020-05-24\", \"2020-05-25\", \"2020-05-26\", \"2020-05-27\", \"2020-05-28\", \"2020-05-29\", \"2020-05-30\", \"2020-05-31\", \"2020-06-01\", \"2020-06-02\", \"2020-06-03\", \"2020-06-04\", \"2020-06-05\", \"2020-06-06\", \"2020-06-07\", \"2020-06-08\", \"2020-06-09\", \"2020-06-10\", \"2020-06-11\", \"2020-06-12\", \"2020-06-13\", \"2020-06-14\", \"2020-06-15\", \"2020-06-16\", \"2020-06-17\", \"2020-06-18\", \"2020-06-19\", \"2020-06-20\", \"2020-06-21\", \"2020-06-22\", \"2020-06-23\", \"2020-06-24\", \"2020-06-25\", \"2020-06-26\", \"2020-06-27\", \"2020-06-28\", \"2020-06-29\", \"2020-06-30\", \"2020-07-01\", \"2020-07-02\", \"2020-07-03\", \"2020-07-04\", \"2020-07-05\", \"2020-07-06\", \"2020-07-07\", \"2020-07-08\", \"2020-07-09\", \"2020-07-10\", \"2020-07-11\", \"2020-07-12\", \"2020-07-13\", \"2020-07-14\", \"2020-07-15\", \"2020-07-16\", \"2020-07-17\", \"2020-07-18\", \"2020-07-19\", \"2020-07-20\", \"2020-07-21\", \"2020-07-22\", \"2020-07-23\", \"2020-07-24\", \"2020-07-25\", \"2020-07-26\", \"2020-07-27\", \"2020-07-28\", \"2020-07-29\", \"2020-07-30\", \"2020-07-31\", \"2020-08-01\", \"2020-08-02\", \"2020-08-03\", \"2020-08-04\", \"2020-08-05\", \"2020-08-06\", \"2020-08-07\", \"2020-08-08\", \"2020-08-09\", \"2020-08-10\", \"2020-08-11\", \"2020-08-12\", \"2020-08-13\", \"2020-08-14\", \"2020-08-15\", \"2020-08-16\", \"2020-08-17\", \"2020-08-18\", \"2020-08-19\", \"2020-08-20\", \"2020-08-21\", \"2020-08-22\", \"2020-08-23\", \"2020-08-24\", \"2020-08-25\", \"2020-08-26\", \"2020-08-27\", \"2020-08-28\", \"2020-08-29\", \"2020-08-30\", \"2020-08-31\", \"2020-09-01\", \"2020-09-02\", \"2020-09-03\", \"2020-09-04\", \"2020-09-05\", \"2020-09-06\", \"2020-09-07\", \"2020-09-08\", \"2020-09-09\", \"2020-09-10\", \"2020-09-11\", \"2020-09-12\", \"2020-09-13\", \"2020-09-14\", \"2020-09-15\", \"2020-09-16\", \"2020-09-17\", \"2020-09-18\", \"2020-09-19\", \"2020-09-20\", \"2020-09-21\", \"2020-09-22\", \"2020-09-23\", \"2020-09-24\", \"2020-09-25\", \"2020-09-26\", \"2020-09-27\", \"2020-09-28\", \"2020-09-29\", \"2020-09-30\", \"2020-10-01\", \"2020-10-02\", \"2020-10-03\", \"2020-10-04\", \"2020-10-05\", \"2020-10-06\", \"2020-10-07\", \"2020-10-08\", \"2020-10-09\", \"2020-10-10\", \"2020-10-11\", \"2020-10-12\", \"2020-10-13\", \"2020-10-14\", \"2020-10-15\", \"2020-10-16\", \"2020-10-17\", \"2020-10-18\", \"2020-10-19\", \"2020-10-20\", \"2020-10-21\", \"2020-10-22\", \"2020-10-23\", \"2020-10-24\", \"2020-10-25\", \"2020-10-26\", \"2020-10-27\", \"2020-10-28\", \"2020-10-29\", \"2020-10-30\", \"2020-10-31\", \"2020-11-01\", \"2020-11-02\", \"2020-11-03\", \"2020-11-04\", \"2020-11-05\"], \"y\": [null, null, null, null, null, null, null, null, null, null, null, null, null, null, null, null, null, null, null, null, null, null, null, null, null, null, null, null, 0.0, null, 0.0, 0.0, 0.0, null, 0.0, 0.0, 0.0, 0.0, 0.0, 0.0, 0.0, 0.0, 0.0, 0.0, 0.0, 0.0, 0.0, 0.0, 0.0, 0.2157497303128371, 0.17094017094017094, 0.16849199663016007, 0.15625, 0.22624434389140274, 0.36954915003695493, 0.36231884057971014, 0.3419972640218878, 0.46511627906976744, 0.5678233438485805, 0.6646525679758308, 0.7117437722419928, 0.7432818753573471, 0.975609756097561, 0.9307135470527405, 1.1982026959560659, 1.232741617357002, 1.150483202945237, 1.1883802816901408, 1.1180124223602486, 1.3567438148443736, 1.8426103646833014, 1.7966223499820337, 1.7139090309822018, 1.7099430018999366, 1.7575757575757573, 1.673881673881674, 1.7881705639614855, 1.8972931950417402, 1.872037914691943, 1.9720247649621647, 1.913770347558293, 1.8777383684539954, 1.8614891913530824, 1.9252336448598129, 1.8239773330972198, 1.949252226516552, 1.941287878787879, 1.9312988353236031, 1.9113573407202216, 1.954569466455362, 1.9595286885245902, 1.9557823129251701, 2.001124227093873, 1.9745222929936306, 1.9370943584623066, 1.9339091250469393, 1.8149779735682818, 1.8138148086798078, 1.86827851479708, 1.826382727003845, 1.8181818181818181, 1.7015791169835643, 1.7404004138014968, 1.813953488372093, 1.8830194967505414, 1.9282019125254741, 1.9726708074534163, 1.9069484139999062, 1.8996590355577203, 2.0368409908956173, 2.159577975601714, 2.12823379727802, 2.1056088749407, 2.0896032831737346, 2.0764039138437695, 2.0897714408102073, 2.0519835841313268, 2.108231877582933, 2.1105929380413055, 2.07883898803687, 2.0905281576645023, 2.070780675613947, 2.0668944806875844, 2.1226832288370447, 2.1928251967315204, 2.1832879233503544, 2.2008605381778445, 2.1864453307927074, 2.1647194839965924, 2.113138581912676, 2.1323759400541253, 2.128802368538266, 2.0817788389792566, 2.070568601740374, 2.087442284671949, 2.0252263139154736, 1.9835152412077859, 1.9598385667880698, 1.9810004900667244, 1.9723424809474401, 1.936219640971489, 1.8781603660004815, 1.830804248861912, 1.7779836969898795, 1.7530361004824488, 1.7571705387906804, 1.7253174169820438, 1.6922426975919458, 1.6666290282513947, 1.6097714082041952, 1.6259212198221094, 1.6089752626129563, 1.6223853976048734, 1.603275988694278, 1.560802050860329, 1.5397687155696147, 1.5031190382460708, 1.4766038473512355, 1.4496379379838495, 1.4569616349080767, 1.4316072387308751, 1.4400671147149628, 1.4230110724716671, 1.4101727376104014, 1.3814474868799542, 1.384532208506857, 1.405979077941739, 1.503995462693823, 1.4931920441512356, 1.5030948160646072, 1.5327038231229848, 1.5196449297649703, 1.5616678710093719, 1.5784287923508082, 1.5913041817105087, 1.6201788169708131, 1.6231297510254812, 1.619940789604403, 1.6356295883554746, 1.6520850826719704, 1.7041421934404721, 1.7547468563459068, 1.784519792487328, 1.8165785479104488, 1.8456654880438474, 1.859042828717282, 1.8844992352705296, 1.899104236110007, 1.935249130368295, 1.9673046878409397, 1.9953724488033981, 2.000675058639294, 2.0156807327890762, 2.031239934495818, 2.071117836202005, 2.084186155756132, 2.103210321032103, 2.1286575683944986, 2.139380111853322, 2.141616634386895, 2.1520974732193965, 2.17090227514082, 2.192947550840424, 2.2041579463225753, 2.216173243050169, 2.2457597851421007, 2.2442789126094302, 2.2564712674290837, 2.270242049855235, 2.2818132081605467, 2.3005773954803597, 2.311212166064641, 2.3205167660044843, 2.331809489802151, 2.346714380898458, 2.3555643689270362, 2.3610317683922477, 2.368730583857563, 2.3790296380867515, 2.37992391401605, 2.377218591151336, 2.3817170675636845, 2.4006900775262805, 2.4034194207919883, 2.405837955251292, 2.411245280379303, 2.4164109778429967, 2.412694283670417, 2.415943535326678, 2.430037299368896, 2.43630372165463, 2.4410500577918564, 2.4399839049614904, 2.4460117879366328, 2.444667738078555, 2.469371074145152, 2.478098999066271, 2.4815411832920833, 2.4946604268108694, 2.4945672459145545, 2.4919230972935758, 2.49174726144118, 2.4942283590950067, 2.503212624516643, 2.5173865767600034, 2.5343176719450393, 2.548465430800602, 2.5579826775665224, 2.567616550007148, 2.567616550007148, 2.5956860469636607, 2.6063519688001677, 2.6223746175793203, 2.6235248920670147, 2.6217329814521793, 2.624493281405186, 2.6220340473077783, 2.6413555636100035, 2.6456923678530235, 2.652020013652069, 2.651695928760324, 2.6523074682952372, 2.649650494225192, 2.6519374015533814, 2.6541719660486645, 2.65536032368413, 2.6551394488548983, 2.6572444803104127, 2.657102054994679, 2.6706639718335827, 2.6752520289446737, 2.6808500128972774, 2.6808642279494297]}],\n",
              "                        {\"template\": {\"data\": {\"bar\": [{\"error_x\": {\"color\": \"#2a3f5f\"}, \"error_y\": {\"color\": \"#2a3f5f\"}, \"marker\": {\"line\": {\"color\": \"#E5ECF6\", \"width\": 0.5}}, \"type\": \"bar\"}], \"barpolar\": [{\"marker\": {\"line\": {\"color\": \"#E5ECF6\", \"width\": 0.5}}, \"type\": \"barpolar\"}], \"carpet\": [{\"aaxis\": {\"endlinecolor\": \"#2a3f5f\", \"gridcolor\": \"white\", \"linecolor\": \"white\", \"minorgridcolor\": \"white\", \"startlinecolor\": \"#2a3f5f\"}, \"baxis\": {\"endlinecolor\": \"#2a3f5f\", \"gridcolor\": \"white\", \"linecolor\": \"white\", \"minorgridcolor\": \"white\", \"startlinecolor\": \"#2a3f5f\"}, \"type\": \"carpet\"}], \"choropleth\": [{\"colorbar\": {\"outlinewidth\": 0, \"ticks\": \"\"}, \"type\": \"choropleth\"}], \"contour\": [{\"colorbar\": {\"outlinewidth\": 0, \"ticks\": \"\"}, \"colorscale\": [[0.0, \"#0d0887\"], [0.1111111111111111, \"#46039f\"], [0.2222222222222222, \"#7201a8\"], [0.3333333333333333, \"#9c179e\"], [0.4444444444444444, \"#bd3786\"], [0.5555555555555556, \"#d8576b\"], [0.6666666666666666, \"#ed7953\"], [0.7777777777777778, \"#fb9f3a\"], [0.8888888888888888, \"#fdca26\"], [1.0, \"#f0f921\"]], \"type\": \"contour\"}], \"contourcarpet\": [{\"colorbar\": {\"outlinewidth\": 0, \"ticks\": \"\"}, \"type\": \"contourcarpet\"}], \"heatmap\": [{\"colorbar\": {\"outlinewidth\": 0, \"ticks\": \"\"}, \"colorscale\": [[0.0, \"#0d0887\"], [0.1111111111111111, \"#46039f\"], [0.2222222222222222, \"#7201a8\"], [0.3333333333333333, \"#9c179e\"], [0.4444444444444444, \"#bd3786\"], [0.5555555555555556, \"#d8576b\"], [0.6666666666666666, \"#ed7953\"], [0.7777777777777778, \"#fb9f3a\"], [0.8888888888888888, \"#fdca26\"], [1.0, \"#f0f921\"]], \"type\": \"heatmap\"}], \"heatmapgl\": [{\"colorbar\": {\"outlinewidth\": 0, \"ticks\": \"\"}, \"colorscale\": [[0.0, \"#0d0887\"], [0.1111111111111111, \"#46039f\"], [0.2222222222222222, \"#7201a8\"], [0.3333333333333333, \"#9c179e\"], [0.4444444444444444, \"#bd3786\"], [0.5555555555555556, \"#d8576b\"], [0.6666666666666666, \"#ed7953\"], [0.7777777777777778, \"#fb9f3a\"], [0.8888888888888888, \"#fdca26\"], [1.0, \"#f0f921\"]], \"type\": \"heatmapgl\"}], \"histogram\": [{\"marker\": {\"colorbar\": {\"outlinewidth\": 0, \"ticks\": \"\"}}, \"type\": \"histogram\"}], \"histogram2d\": [{\"colorbar\": {\"outlinewidth\": 0, \"ticks\": \"\"}, \"colorscale\": [[0.0, \"#0d0887\"], [0.1111111111111111, \"#46039f\"], [0.2222222222222222, \"#7201a8\"], [0.3333333333333333, \"#9c179e\"], [0.4444444444444444, \"#bd3786\"], [0.5555555555555556, \"#d8576b\"], [0.6666666666666666, \"#ed7953\"], [0.7777777777777778, \"#fb9f3a\"], [0.8888888888888888, \"#fdca26\"], [1.0, \"#f0f921\"]], \"type\": \"histogram2d\"}], \"histogram2dcontour\": [{\"colorbar\": {\"outlinewidth\": 0, \"ticks\": \"\"}, \"colorscale\": [[0.0, \"#0d0887\"], [0.1111111111111111, \"#46039f\"], [0.2222222222222222, \"#7201a8\"], [0.3333333333333333, \"#9c179e\"], [0.4444444444444444, \"#bd3786\"], [0.5555555555555556, \"#d8576b\"], [0.6666666666666666, \"#ed7953\"], [0.7777777777777778, \"#fb9f3a\"], [0.8888888888888888, \"#fdca26\"], [1.0, \"#f0f921\"]], \"type\": \"histogram2dcontour\"}], \"mesh3d\": [{\"colorbar\": {\"outlinewidth\": 0, \"ticks\": \"\"}, \"type\": \"mesh3d\"}], \"parcoords\": [{\"line\": {\"colorbar\": {\"outlinewidth\": 0, \"ticks\": \"\"}}, \"type\": \"parcoords\"}], \"pie\": [{\"automargin\": true, \"type\": \"pie\"}], \"scatter\": [{\"marker\": {\"colorbar\": {\"outlinewidth\": 0, \"ticks\": \"\"}}, \"type\": \"scatter\"}], \"scatter3d\": [{\"line\": {\"colorbar\": {\"outlinewidth\": 0, \"ticks\": \"\"}}, \"marker\": {\"colorbar\": {\"outlinewidth\": 0, \"ticks\": \"\"}}, \"type\": \"scatter3d\"}], \"scattercarpet\": [{\"marker\": {\"colorbar\": {\"outlinewidth\": 0, \"ticks\": \"\"}}, \"type\": \"scattercarpet\"}], \"scattergeo\": [{\"marker\": {\"colorbar\": {\"outlinewidth\": 0, \"ticks\": \"\"}}, \"type\": \"scattergeo\"}], \"scattergl\": [{\"marker\": {\"colorbar\": {\"outlinewidth\": 0, \"ticks\": \"\"}}, \"type\": \"scattergl\"}], \"scattermapbox\": [{\"marker\": {\"colorbar\": {\"outlinewidth\": 0, \"ticks\": \"\"}}, \"type\": \"scattermapbox\"}], \"scatterpolar\": [{\"marker\": {\"colorbar\": {\"outlinewidth\": 0, \"ticks\": \"\"}}, \"type\": \"scatterpolar\"}], \"scatterpolargl\": [{\"marker\": {\"colorbar\": {\"outlinewidth\": 0, \"ticks\": \"\"}}, \"type\": \"scatterpolargl\"}], \"scatterternary\": [{\"marker\": {\"colorbar\": {\"outlinewidth\": 0, \"ticks\": \"\"}}, \"type\": \"scatterternary\"}], \"surface\": [{\"colorbar\": {\"outlinewidth\": 0, \"ticks\": \"\"}, \"colorscale\": [[0.0, \"#0d0887\"], [0.1111111111111111, \"#46039f\"], [0.2222222222222222, \"#7201a8\"], [0.3333333333333333, \"#9c179e\"], [0.4444444444444444, \"#bd3786\"], [0.5555555555555556, \"#d8576b\"], [0.6666666666666666, \"#ed7953\"], [0.7777777777777778, \"#fb9f3a\"], [0.8888888888888888, \"#fdca26\"], [1.0, \"#f0f921\"]], \"type\": \"surface\"}], \"table\": [{\"cells\": {\"fill\": {\"color\": \"#EBF0F8\"}, \"line\": {\"color\": \"white\"}}, \"header\": {\"fill\": {\"color\": \"#C8D4E3\"}, \"line\": {\"color\": \"white\"}}, \"type\": \"table\"}]}, \"layout\": {\"annotationdefaults\": {\"arrowcolor\": \"#2a3f5f\", \"arrowhead\": 0, \"arrowwidth\": 1}, \"coloraxis\": {\"colorbar\": {\"outlinewidth\": 0, \"ticks\": \"\"}}, \"colorscale\": {\"diverging\": [[0, \"#8e0152\"], [0.1, \"#c51b7d\"], [0.2, \"#de77ae\"], [0.3, \"#f1b6da\"], [0.4, \"#fde0ef\"], [0.5, \"#f7f7f7\"], [0.6, \"#e6f5d0\"], [0.7, \"#b8e186\"], [0.8, \"#7fbc41\"], [0.9, \"#4d9221\"], [1, \"#276419\"]], \"sequential\": [[0.0, \"#0d0887\"], [0.1111111111111111, \"#46039f\"], [0.2222222222222222, \"#7201a8\"], [0.3333333333333333, \"#9c179e\"], [0.4444444444444444, \"#bd3786\"], [0.5555555555555556, \"#d8576b\"], [0.6666666666666666, \"#ed7953\"], [0.7777777777777778, \"#fb9f3a\"], [0.8888888888888888, \"#fdca26\"], [1.0, \"#f0f921\"]], \"sequentialminus\": [[0.0, \"#0d0887\"], [0.1111111111111111, \"#46039f\"], [0.2222222222222222, \"#7201a8\"], [0.3333333333333333, \"#9c179e\"], [0.4444444444444444, \"#bd3786\"], [0.5555555555555556, \"#d8576b\"], [0.6666666666666666, \"#ed7953\"], [0.7777777777777778, \"#fb9f3a\"], [0.8888888888888888, \"#fdca26\"], [1.0, \"#f0f921\"]]}, \"colorway\": [\"#636efa\", \"#EF553B\", \"#00cc96\", \"#ab63fa\", \"#FFA15A\", \"#19d3f3\", \"#FF6692\", \"#B6E880\", \"#FF97FF\", \"#FECB52\"], \"font\": {\"color\": \"#2a3f5f\"}, \"geo\": {\"bgcolor\": \"white\", \"lakecolor\": \"white\", \"landcolor\": \"#E5ECF6\", \"showlakes\": true, \"showland\": true, \"subunitcolor\": \"white\"}, \"hoverlabel\": {\"align\": \"left\"}, \"hovermode\": \"closest\", \"mapbox\": {\"style\": \"light\"}, \"paper_bgcolor\": \"white\", \"plot_bgcolor\": \"#E5ECF6\", \"polar\": {\"angularaxis\": {\"gridcolor\": \"white\", \"linecolor\": \"white\", \"ticks\": \"\"}, \"bgcolor\": \"#E5ECF6\", \"radialaxis\": {\"gridcolor\": \"white\", \"linecolor\": \"white\", \"ticks\": \"\"}}, \"scene\": {\"xaxis\": {\"backgroundcolor\": \"#E5ECF6\", \"gridcolor\": \"white\", \"gridwidth\": 2, \"linecolor\": \"white\", \"showbackground\": true, \"ticks\": \"\", \"zerolinecolor\": \"white\"}, \"yaxis\": {\"backgroundcolor\": \"#E5ECF6\", \"gridcolor\": \"white\", \"gridwidth\": 2, \"linecolor\": \"white\", \"showbackground\": true, \"ticks\": \"\", \"zerolinecolor\": \"white\"}, \"zaxis\": {\"backgroundcolor\": \"#E5ECF6\", \"gridcolor\": \"white\", \"gridwidth\": 2, \"linecolor\": \"white\", \"showbackground\": true, \"ticks\": \"\", \"zerolinecolor\": \"white\"}}, \"shapedefaults\": {\"line\": {\"color\": \"#2a3f5f\"}}, \"ternary\": {\"aaxis\": {\"gridcolor\": \"white\", \"linecolor\": \"white\", \"ticks\": \"\"}, \"baxis\": {\"gridcolor\": \"white\", \"linecolor\": \"white\", \"ticks\": \"\"}, \"bgcolor\": \"#E5ECF6\", \"caxis\": {\"gridcolor\": \"white\", \"linecolor\": \"white\", \"ticks\": \"\"}}, \"title\": {\"x\": 0.05}, \"xaxis\": {\"automargin\": true, \"gridcolor\": \"white\", \"linecolor\": \"white\", \"ticks\": \"\", \"title\": {\"standoff\": 15}, \"zerolinecolor\": \"white\", \"zerolinewidth\": 2}, \"yaxis\": {\"automargin\": true, \"gridcolor\": \"white\", \"linecolor\": \"white\", \"ticks\": \"\", \"title\": {\"standoff\": 15}, \"zerolinecolor\": \"white\", \"zerolinewidth\": 2}}}, \"title\": {\"text\": \"The CFR for South Africa\", \"x\": 0.5, \"xanchor\": \"center\", \"y\": 0.95, \"yanchor\": \"top\"}, \"xaxis\": {\"tickangle\": -70, \"title\": {\"text\": \"Date\"}}, \"yaxis\": {\"title\": {\"text\": \"Percentage(%)\"}}},\n",
              "                        {\"responsive\": true}\n",
              "                    ).then(function(){\n",
              "                            \n",
              "var gd = document.getElementById('9942ad19-5eae-4172-bffb-84e6c881087f');\n",
              "var x = new MutationObserver(function (mutations, observer) {{\n",
              "        var display = window.getComputedStyle(gd).display;\n",
              "        if (!display || display === 'none') {{\n",
              "            console.log([gd, 'removed!']);\n",
              "            Plotly.purge(gd);\n",
              "            observer.disconnect();\n",
              "        }}\n",
              "}});\n",
              "\n",
              "// Listen for the removal of the full notebook cells\n",
              "var notebookContainer = gd.closest('#notebook-container');\n",
              "if (notebookContainer) {{\n",
              "    x.observe(notebookContainer, {childList: true});\n",
              "}}\n",
              "\n",
              "// Listen for the clearing of the current output cell\n",
              "var outputEl = gd.closest('.output');\n",
              "if (outputEl) {{\n",
              "    x.observe(outputEl, {childList: true});\n",
              "}}\n",
              "\n",
              "                        })\n",
              "                };\n",
              "                \n",
              "            </script>\n",
              "        </div>\n",
              "</body>\n",
              "</html>"
            ]
          },
          "metadata": {
            "tags": []
          }
        }
      ]
    },
    {
      "cell_type": "markdown",
      "metadata": {
        "id": "i_izvHstDOCU"
      },
      "source": [
        "South Africa’s CFR chart is similar to that of Russia. Deaths have been rising steadily, but there is a difference. After rising, Russia’s CFR has a clear trend of stabilizing, while South Africa’s CFR is clearly still rising."
      ]
    },
    {
      "cell_type": "markdown",
      "metadata": {
        "id": "446DfaLJsbH4"
      },
      "source": [
        "## Brazil"
      ]
    },
    {
      "cell_type": "markdown",
      "metadata": {
        "id": "FyTGQS2osbH5"
      },
      "source": [
        "introduction：We chose Brazil from South America. The Covid-19 in South Africa is currently not clear whether it is under control"
      ]
    },
    {
      "cell_type": "markdown",
      "metadata": {
        "id": "RIIg5xSdNNX3"
      },
      "source": [
        "The following code uses a function to calculate the CFR."
      ]
    },
    {
      "cell_type": "code",
      "metadata": {
        "id": "fCCIGRdGKfJ7",
        "outputId": "398c37ea-076f-4c8e-d30f-31357080c0c1",
        "colab": {
          "base_uri": "https://localhost:8080/"
        }
      },
      "source": [
        "calculate_CFR('Brazil')"
      ],
      "execution_count": 41,
      "outputs": [
        {
          "output_type": "execute_result",
          "data": {
            "text/plain": [
              "2.882026466786821"
            ]
          },
          "metadata": {
            "tags": []
          },
          "execution_count": 41
        }
      ]
    },
    {
      "cell_type": "markdown",
      "metadata": {
        "id": "TJ38qGM_OI2G"
      },
      "source": [
        "Brazil's current CFR is 2.8820%"
      ]
    },
    {
      "cell_type": "markdown",
      "metadata": {
        "id": "uUtAHmOuonQD"
      },
      "source": [
        "The following code is to draw Brazil's CFR trend chart\n",
        "\n"
      ]
    },
    {
      "cell_type": "code",
      "metadata": {
        "id": "zej2ttLQorml",
        "outputId": "84770da3-0abf-420f-842f-1c9936798a27",
        "colab": {
          "base_uri": "https://localhost:8080/",
          "height": 542
        }
      },
      "source": [
        "plot('Brazil')"
      ],
      "execution_count": 42,
      "outputs": [
        {
          "output_type": "display_data",
          "data": {
            "text/html": [
              "<html>\n",
              "<head><meta charset=\"utf-8\" /></head>\n",
              "<body>\n",
              "    <div>\n",
              "            <script src=\"https://cdnjs.cloudflare.com/ajax/libs/mathjax/2.7.5/MathJax.js?config=TeX-AMS-MML_SVG\"></script><script type=\"text/javascript\">if (window.MathJax) {MathJax.Hub.Config({SVG: {font: \"STIX-Web\"}});}</script>\n",
              "                <script type=\"text/javascript\">window.PlotlyConfig = {MathJaxConfig: 'local'};</script>\n",
              "        <script src=\"https://cdn.plot.ly/plotly-latest.min.js\"></script>    \n",
              "            <div id=\"0859925b-0940-4516-9202-78afc3f092bc\" class=\"plotly-graph-div\" style=\"height:525px; width:100%;\"></div>\n",
              "            <script type=\"text/javascript\">\n",
              "                \n",
              "                    window.PLOTLYENV=window.PLOTLYENV || {};\n",
              "                    \n",
              "                if (document.getElementById(\"0859925b-0940-4516-9202-78afc3f092bc\")) {\n",
              "                    Plotly.newPlot(\n",
              "                        '0859925b-0940-4516-9202-78afc3f092bc',\n",
              "                        [{\"line\": {\"color\": \"forestGreen\", \"width\": 2}, \"name\": \"Brazil CFR\", \"type\": \"scatter\", \"x\": [\"2020-01-22\", \"2020-01-23\", \"2020-01-24\", \"2020-01-25\", \"2020-01-26\", \"2020-01-27\", \"2020-01-28\", \"2020-01-29\", \"2020-01-30\", \"2020-01-31\", \"2020-02-01\", \"2020-02-02\", \"2020-02-03\", \"2020-02-04\", \"2020-02-05\", \"2020-02-06\", \"2020-02-07\", \"2020-02-08\", \"2020-02-09\", \"2020-02-10\", \"2020-02-11\", \"2020-02-12\", \"2020-02-13\", \"2020-02-14\", \"2020-02-15\", \"2020-02-16\", \"2020-02-17\", \"2020-02-18\", \"2020-02-19\", \"2020-02-20\", \"2020-02-21\", \"2020-02-22\", \"2020-02-23\", \"2020-02-24\", \"2020-02-25\", \"2020-02-26\", \"2020-02-27\", \"2020-02-28\", \"2020-02-29\", \"2020-03-01\", \"2020-03-02\", \"2020-03-03\", \"2020-03-04\", \"2020-03-05\", \"2020-03-06\", \"2020-03-07\", \"2020-03-08\", \"2020-03-09\", \"2020-03-10\", \"2020-03-11\", \"2020-03-12\", \"2020-03-13\", \"2020-03-14\", \"2020-03-15\", \"2020-03-16\", \"2020-03-17\", \"2020-03-18\", \"2020-03-19\", \"2020-03-20\", \"2020-03-21\", \"2020-03-22\", \"2020-03-23\", \"2020-03-24\", \"2020-03-25\", \"2020-03-26\", \"2020-03-27\", \"2020-03-28\", \"2020-03-29\", \"2020-03-30\", \"2020-03-31\", \"2020-04-01\", \"2020-04-02\", \"2020-04-03\", \"2020-04-04\", \"2020-04-05\", \"2020-04-06\", \"2020-04-07\", \"2020-04-08\", \"2020-04-09\", \"2020-04-10\", \"2020-04-11\", \"2020-04-12\", \"2020-04-13\", \"2020-04-14\", \"2020-04-15\", \"2020-04-16\", \"2020-04-17\", \"2020-04-18\", \"2020-04-19\", \"2020-04-20\", \"2020-04-21\", \"2020-04-22\", \"2020-04-23\", \"2020-04-24\", \"2020-04-25\", \"2020-04-26\", \"2020-04-27\", \"2020-04-28\", \"2020-04-29\", \"2020-04-30\", \"2020-05-01\", \"2020-05-02\", \"2020-05-03\", \"2020-05-04\", \"2020-05-05\", \"2020-05-06\", \"2020-05-07\", \"2020-05-08\", \"2020-05-09\", \"2020-05-10\", \"2020-05-11\", \"2020-05-12\", \"2020-05-13\", \"2020-05-14\", \"2020-05-15\", \"2020-05-16\", \"2020-05-17\", \"2020-05-18\", \"2020-05-19\", \"2020-05-20\", \"2020-05-21\", \"2020-05-22\", \"2020-05-23\", \"2020-05-24\", \"2020-05-25\", \"2020-05-26\", \"2020-05-27\", \"2020-05-28\", \"2020-05-29\", \"2020-05-30\", \"2020-05-31\", \"2020-06-01\", \"2020-06-02\", \"2020-06-03\", \"2020-06-04\", \"2020-06-05\", \"2020-06-06\", \"2020-06-07\", \"2020-06-08\", \"2020-06-09\", \"2020-06-10\", \"2020-06-11\", \"2020-06-12\", \"2020-06-13\", \"2020-06-14\", \"2020-06-15\", \"2020-06-16\", \"2020-06-17\", \"2020-06-18\", \"2020-06-19\", \"2020-06-20\", \"2020-06-21\", \"2020-06-22\", \"2020-06-23\", \"2020-06-24\", \"2020-06-25\", \"2020-06-26\", \"2020-06-27\", \"2020-06-28\", \"2020-06-29\", \"2020-06-30\", \"2020-07-01\", \"2020-07-02\", \"2020-07-03\", \"2020-07-04\", \"2020-07-05\", \"2020-07-06\", \"2020-07-07\", \"2020-07-08\", \"2020-07-09\", \"2020-07-10\", \"2020-07-11\", \"2020-07-12\", \"2020-07-13\", \"2020-07-14\", \"2020-07-15\", \"2020-07-16\", \"2020-07-17\", \"2020-07-18\", \"2020-07-19\", \"2020-07-20\", \"2020-07-21\", \"2020-07-22\", \"2020-07-23\", \"2020-07-24\", \"2020-07-25\", \"2020-07-26\", \"2020-07-27\", \"2020-07-28\", \"2020-07-29\", \"2020-07-30\", \"2020-07-31\", \"2020-08-01\", \"2020-08-02\", \"2020-08-03\", \"2020-08-04\", \"2020-08-05\", \"2020-08-06\", \"2020-08-07\", \"2020-08-08\", \"2020-08-09\", \"2020-08-10\", \"2020-08-11\", \"2020-08-12\", \"2020-08-13\", \"2020-08-14\", \"2020-08-15\", \"2020-08-16\", \"2020-08-17\", \"2020-08-18\", \"2020-08-19\", \"2020-08-20\", \"2020-08-21\", \"2020-08-22\", \"2020-08-23\", \"2020-08-24\", \"2020-08-25\", \"2020-08-26\", \"2020-08-27\", \"2020-08-28\", \"2020-08-29\", \"2020-08-30\", \"2020-08-31\", \"2020-09-01\", \"2020-09-02\", \"2020-09-03\", \"2020-09-04\", \"2020-09-05\", \"2020-09-06\", \"2020-09-07\", \"2020-09-08\", \"2020-09-09\", \"2020-09-10\", \"2020-09-11\", \"2020-09-12\", \"2020-09-13\", \"2020-09-14\", \"2020-09-15\", \"2020-09-16\", \"2020-09-17\", \"2020-09-18\", \"2020-09-19\", \"2020-09-20\", \"2020-09-21\", \"2020-09-22\", \"2020-09-23\", \"2020-09-24\", \"2020-09-25\", \"2020-09-26\", \"2020-09-27\", \"2020-09-28\", \"2020-09-29\", \"2020-09-30\", \"2020-10-01\", \"2020-10-02\", \"2020-10-03\", \"2020-10-04\", \"2020-10-05\", \"2020-10-06\", \"2020-10-07\", \"2020-10-08\", \"2020-10-09\", \"2020-10-10\", \"2020-10-11\", \"2020-10-12\", \"2020-10-13\", \"2020-10-14\", \"2020-10-15\", \"2020-10-16\", \"2020-10-17\", \"2020-10-18\", \"2020-10-19\", \"2020-10-20\", \"2020-10-21\", \"2020-10-22\", \"2020-10-23\", \"2020-10-24\", \"2020-10-25\", \"2020-10-26\", \"2020-10-27\", \"2020-10-28\", \"2020-10-29\", \"2020-10-30\", \"2020-10-31\", \"2020-11-01\", \"2020-11-02\", \"2020-11-03\", \"2020-11-04\", \"2020-11-05\"], \"y\": [null, null, null, null, null, null, null, null, null, null, null, null, null, null, null, null, null, null, null, null, null, null, null, null, null, null, null, null, null, null, null, null, null, null, null, 0.0, 0.0, 0.0, 0.0, 0.0, 0.0, 0.0, 0.0, 0.0, 0.0, 0.0, 0.0, 0.0, 0.0, 0.0, 0.0, 0.0, 0.0, 0.0, 0.0, 0.0, 0.3436426116838488, 0.9345794392523363, 0.966183574879227, 1.2168141592920354, 1.5957446808510638, 1.6170763260025873, 1.7979904812268643, 2.0899591094956835, 2.342786683107275, 2.6415094339622645, 2.692420251682763, 2.920081967213115, 3.195488721804511, 3.4723738807599913, 3.5158299807591393, 3.5254534815681686, 3.7800252844500637, 3.964222614840989, 4.203152364273205, 4.366576819407008, 4.586927670869277, 4.862579281183932, 5.0229170590820615, 5.269642157137257, 5.377329666972197, 5.422878371206639, 5.51671252650097, 5.66794707639778, 6.064444620378434, 6.129943502824859, 6.323746918652424, 6.356510896027552, 6.412743517582448, 6.369327883272106, 6.345334023311403, 6.362728939854685, 6.350940839652949, 6.6940111533177085, 6.925181620907633, 6.863901280144935, 6.7945320579110655, 6.831476218402731, 6.979105806415714, 6.993168035618331, 6.911454673225579, 6.910218476017863, 6.990544641100261, 6.945336984784521, 6.792540359992577, 6.904938325415159, 6.816911306681147, 6.7694995040930825, 6.810112297698997, 6.814844266027101, 6.836550931474686, 6.843065151398138, 6.982414451345523, 6.9581000560923725, 6.895888979784938, 6.78984341705503, 6.705355534395347, 6.685747469719596, 6.605302493902919, 6.616033693139147, 6.467886919153985, 6.46495983385308, 6.361026322947202, 6.336536191918203, 6.240449766113912, 6.261169704826379, 6.265496316669308, 6.215807353194713, 6.104901902619124, 5.993129334474145, 5.784848728031458, 5.6937082523225255, 5.686612327546743, 5.617564815631735, 5.573134982603216, 5.532481640246401, 5.423979732471096, 5.34007493642591, 5.269906528005459, 5.249274821461892, 5.1934880588719725, 5.137128179633772, 5.096857608354467, 5.046753779515209, 5.022845009018076, 4.994329340820448, 4.948827553753303, 4.900513329339929, 4.86823526210072, 4.881499823134065, 4.739411741356727, 4.681246071719283, 4.664997907907373, 4.6337451535061955, 4.594181372643131, 4.5287393648659675, 4.476050268948974, 4.389187544216588, 4.344327748204073, 4.286895069944195, 4.262111760385033, 4.250517638214575, 4.185116441519017, 4.134259896396318, 4.10465725975436, 4.075132339550185, 4.046461287978267, 4.034229376991334, 3.9998465769581366, 3.967171776132994, 3.940359236555398, 3.9092039379685, 3.884501453922874, 3.866613109695439, 3.863887272297075, 3.8474193802859005, 3.832011015137679, 3.811244782324984, 3.8044243151635513, 3.7964971130582303, 3.78804883174664, 3.7816605511255776, 3.77315069913977, 3.715846454837096, 3.6757560191914664, 3.6374172877817634, 3.6102957052227325, 3.596557549922678, 3.5874097957930293, 3.565533219152292, 3.5315298372230157, 3.496530020665859, 3.4732590042760805, 3.455216023475217, 3.442396449909774, 3.441965619975581, 3.419760942581893, 3.401662007231015, 3.382068338431406, 3.361145973490789, 3.335433532996151, 3.328993464500159, 3.3279803236008854, 3.313127285239723, 3.2925143414165574, 3.2702962842602323, 3.25209432395467, 3.2327071631330537, 3.2289113486420113, 3.23065154171516, 3.225024461796456, 3.214092711675922, 3.2068761199037685, 3.2091565623823373, 3.189236598646368, 3.18222144815703, 3.1828160119861075, 3.17657108524671, 3.1654576778590946, 3.154391553550269, 3.1408722081011815, 3.1320126890427917, 3.1283860880182877, 3.1057459665038665, 3.1029648455009715, 3.0961525714350033, 3.083254858549924, 3.0668495555155943, 3.0609507640067912, 3.061011654079822, 3.0609041818373814, 3.062512358625137, 3.0619913961517327, 3.0558841613176146, 3.0450958907692467, 3.0403038959961646, 3.0395189420049396, 3.0376863087115504, 3.0376771088362338, 3.034701995866563, 3.0285815864214682, 3.0208558806170958, 3.015122873345936, 3.0122370824989235, 3.011626855939841, 3.0078377839203903, 3.004982826600013, 3.0016518875617204, 2.996771801852306, 2.997165530837172, 2.9951763504876796, 2.9935534228054412, 2.991529918648203, 2.9921834321187046, 2.9848824821150495, 2.978943035408295, 2.9751776757024335, 2.977485148889516, 2.9768216859963044, 2.9681991313991696, 2.9641485761776267, 2.9622881352561548, 2.9596976831765263, 2.9551195570330915, 2.9536512592193653, 2.9527131673579694, 2.9528546073355355, 2.9517806640636017, 2.949286433630609, 2.946253100782647, 2.9415074989060863, 2.939730416950634, 2.9362791095404503, 2.935880745262473, 2.932811602386364, 2.9284529540933537, 2.9226943232811373, 2.9160684566041, 2.913056568179324, 2.90945005170195, 2.903610734605464, 2.897735481239953, 2.8933039893884223, 2.890826293745235, 2.8882841170928923, 2.886449964431934, 2.8852548861169356, 2.8834816222422766, 2.882026466786821]}],\n",
              "                        {\"template\": {\"data\": {\"bar\": [{\"error_x\": {\"color\": \"#2a3f5f\"}, \"error_y\": {\"color\": \"#2a3f5f\"}, \"marker\": {\"line\": {\"color\": \"#E5ECF6\", \"width\": 0.5}}, \"type\": \"bar\"}], \"barpolar\": [{\"marker\": {\"line\": {\"color\": \"#E5ECF6\", \"width\": 0.5}}, \"type\": \"barpolar\"}], \"carpet\": [{\"aaxis\": {\"endlinecolor\": \"#2a3f5f\", \"gridcolor\": \"white\", \"linecolor\": \"white\", \"minorgridcolor\": \"white\", \"startlinecolor\": \"#2a3f5f\"}, \"baxis\": {\"endlinecolor\": \"#2a3f5f\", \"gridcolor\": \"white\", \"linecolor\": \"white\", \"minorgridcolor\": \"white\", \"startlinecolor\": \"#2a3f5f\"}, \"type\": \"carpet\"}], \"choropleth\": [{\"colorbar\": {\"outlinewidth\": 0, \"ticks\": \"\"}, \"type\": \"choropleth\"}], \"contour\": [{\"colorbar\": {\"outlinewidth\": 0, \"ticks\": \"\"}, \"colorscale\": [[0.0, \"#0d0887\"], [0.1111111111111111, \"#46039f\"], [0.2222222222222222, \"#7201a8\"], [0.3333333333333333, \"#9c179e\"], [0.4444444444444444, \"#bd3786\"], [0.5555555555555556, \"#d8576b\"], [0.6666666666666666, \"#ed7953\"], [0.7777777777777778, \"#fb9f3a\"], [0.8888888888888888, \"#fdca26\"], [1.0, \"#f0f921\"]], \"type\": \"contour\"}], \"contourcarpet\": [{\"colorbar\": {\"outlinewidth\": 0, \"ticks\": \"\"}, \"type\": \"contourcarpet\"}], \"heatmap\": [{\"colorbar\": {\"outlinewidth\": 0, \"ticks\": \"\"}, \"colorscale\": [[0.0, \"#0d0887\"], [0.1111111111111111, \"#46039f\"], [0.2222222222222222, \"#7201a8\"], [0.3333333333333333, \"#9c179e\"], [0.4444444444444444, \"#bd3786\"], [0.5555555555555556, \"#d8576b\"], [0.6666666666666666, \"#ed7953\"], [0.7777777777777778, \"#fb9f3a\"], [0.8888888888888888, \"#fdca26\"], [1.0, \"#f0f921\"]], \"type\": \"heatmap\"}], \"heatmapgl\": [{\"colorbar\": {\"outlinewidth\": 0, \"ticks\": \"\"}, \"colorscale\": [[0.0, \"#0d0887\"], [0.1111111111111111, \"#46039f\"], [0.2222222222222222, \"#7201a8\"], [0.3333333333333333, \"#9c179e\"], [0.4444444444444444, \"#bd3786\"], [0.5555555555555556, \"#d8576b\"], [0.6666666666666666, \"#ed7953\"], [0.7777777777777778, \"#fb9f3a\"], [0.8888888888888888, \"#fdca26\"], [1.0, \"#f0f921\"]], \"type\": \"heatmapgl\"}], \"histogram\": [{\"marker\": {\"colorbar\": {\"outlinewidth\": 0, \"ticks\": \"\"}}, \"type\": \"histogram\"}], \"histogram2d\": [{\"colorbar\": {\"outlinewidth\": 0, \"ticks\": \"\"}, \"colorscale\": [[0.0, \"#0d0887\"], [0.1111111111111111, \"#46039f\"], [0.2222222222222222, \"#7201a8\"], [0.3333333333333333, \"#9c179e\"], [0.4444444444444444, \"#bd3786\"], [0.5555555555555556, \"#d8576b\"], [0.6666666666666666, \"#ed7953\"], [0.7777777777777778, \"#fb9f3a\"], [0.8888888888888888, \"#fdca26\"], [1.0, \"#f0f921\"]], \"type\": \"histogram2d\"}], \"histogram2dcontour\": [{\"colorbar\": {\"outlinewidth\": 0, \"ticks\": \"\"}, \"colorscale\": [[0.0, \"#0d0887\"], [0.1111111111111111, \"#46039f\"], [0.2222222222222222, \"#7201a8\"], [0.3333333333333333, \"#9c179e\"], [0.4444444444444444, \"#bd3786\"], [0.5555555555555556, \"#d8576b\"], [0.6666666666666666, \"#ed7953\"], [0.7777777777777778, \"#fb9f3a\"], [0.8888888888888888, \"#fdca26\"], [1.0, \"#f0f921\"]], \"type\": \"histogram2dcontour\"}], \"mesh3d\": [{\"colorbar\": {\"outlinewidth\": 0, \"ticks\": \"\"}, \"type\": \"mesh3d\"}], \"parcoords\": [{\"line\": {\"colorbar\": {\"outlinewidth\": 0, \"ticks\": \"\"}}, \"type\": \"parcoords\"}], \"pie\": [{\"automargin\": true, \"type\": \"pie\"}], \"scatter\": [{\"marker\": {\"colorbar\": {\"outlinewidth\": 0, \"ticks\": \"\"}}, \"type\": \"scatter\"}], \"scatter3d\": [{\"line\": {\"colorbar\": {\"outlinewidth\": 0, \"ticks\": \"\"}}, \"marker\": {\"colorbar\": {\"outlinewidth\": 0, \"ticks\": \"\"}}, \"type\": \"scatter3d\"}], \"scattercarpet\": [{\"marker\": {\"colorbar\": {\"outlinewidth\": 0, \"ticks\": \"\"}}, \"type\": \"scattercarpet\"}], \"scattergeo\": [{\"marker\": {\"colorbar\": {\"outlinewidth\": 0, \"ticks\": \"\"}}, \"type\": \"scattergeo\"}], \"scattergl\": [{\"marker\": {\"colorbar\": {\"outlinewidth\": 0, \"ticks\": \"\"}}, \"type\": \"scattergl\"}], \"scattermapbox\": [{\"marker\": {\"colorbar\": {\"outlinewidth\": 0, \"ticks\": \"\"}}, \"type\": \"scattermapbox\"}], \"scatterpolar\": [{\"marker\": {\"colorbar\": {\"outlinewidth\": 0, \"ticks\": \"\"}}, \"type\": \"scatterpolar\"}], \"scatterpolargl\": [{\"marker\": {\"colorbar\": {\"outlinewidth\": 0, \"ticks\": \"\"}}, \"type\": \"scatterpolargl\"}], \"scatterternary\": [{\"marker\": {\"colorbar\": {\"outlinewidth\": 0, \"ticks\": \"\"}}, \"type\": \"scatterternary\"}], \"surface\": [{\"colorbar\": {\"outlinewidth\": 0, \"ticks\": \"\"}, \"colorscale\": [[0.0, \"#0d0887\"], [0.1111111111111111, \"#46039f\"], [0.2222222222222222, \"#7201a8\"], [0.3333333333333333, \"#9c179e\"], [0.4444444444444444, \"#bd3786\"], [0.5555555555555556, \"#d8576b\"], [0.6666666666666666, \"#ed7953\"], [0.7777777777777778, \"#fb9f3a\"], [0.8888888888888888, \"#fdca26\"], [1.0, \"#f0f921\"]], \"type\": \"surface\"}], \"table\": [{\"cells\": {\"fill\": {\"color\": \"#EBF0F8\"}, \"line\": {\"color\": \"white\"}}, \"header\": {\"fill\": {\"color\": \"#C8D4E3\"}, \"line\": {\"color\": \"white\"}}, \"type\": \"table\"}]}, \"layout\": {\"annotationdefaults\": {\"arrowcolor\": \"#2a3f5f\", \"arrowhead\": 0, \"arrowwidth\": 1}, \"coloraxis\": {\"colorbar\": {\"outlinewidth\": 0, \"ticks\": \"\"}}, \"colorscale\": {\"diverging\": [[0, \"#8e0152\"], [0.1, \"#c51b7d\"], [0.2, \"#de77ae\"], [0.3, \"#f1b6da\"], [0.4, \"#fde0ef\"], [0.5, \"#f7f7f7\"], [0.6, \"#e6f5d0\"], [0.7, \"#b8e186\"], [0.8, \"#7fbc41\"], [0.9, \"#4d9221\"], [1, \"#276419\"]], \"sequential\": [[0.0, \"#0d0887\"], [0.1111111111111111, \"#46039f\"], [0.2222222222222222, \"#7201a8\"], [0.3333333333333333, \"#9c179e\"], [0.4444444444444444, \"#bd3786\"], [0.5555555555555556, \"#d8576b\"], [0.6666666666666666, \"#ed7953\"], [0.7777777777777778, \"#fb9f3a\"], [0.8888888888888888, \"#fdca26\"], [1.0, \"#f0f921\"]], \"sequentialminus\": [[0.0, \"#0d0887\"], [0.1111111111111111, \"#46039f\"], [0.2222222222222222, \"#7201a8\"], [0.3333333333333333, \"#9c179e\"], [0.4444444444444444, \"#bd3786\"], [0.5555555555555556, \"#d8576b\"], [0.6666666666666666, \"#ed7953\"], [0.7777777777777778, \"#fb9f3a\"], [0.8888888888888888, \"#fdca26\"], [1.0, \"#f0f921\"]]}, \"colorway\": [\"#636efa\", \"#EF553B\", \"#00cc96\", \"#ab63fa\", \"#FFA15A\", \"#19d3f3\", \"#FF6692\", \"#B6E880\", \"#FF97FF\", \"#FECB52\"], \"font\": {\"color\": \"#2a3f5f\"}, \"geo\": {\"bgcolor\": \"white\", \"lakecolor\": \"white\", \"landcolor\": \"#E5ECF6\", \"showlakes\": true, \"showland\": true, \"subunitcolor\": \"white\"}, \"hoverlabel\": {\"align\": \"left\"}, \"hovermode\": \"closest\", \"mapbox\": {\"style\": \"light\"}, \"paper_bgcolor\": \"white\", \"plot_bgcolor\": \"#E5ECF6\", \"polar\": {\"angularaxis\": {\"gridcolor\": \"white\", \"linecolor\": \"white\", \"ticks\": \"\"}, \"bgcolor\": \"#E5ECF6\", \"radialaxis\": {\"gridcolor\": \"white\", \"linecolor\": \"white\", \"ticks\": \"\"}}, \"scene\": {\"xaxis\": {\"backgroundcolor\": \"#E5ECF6\", \"gridcolor\": \"white\", \"gridwidth\": 2, \"linecolor\": \"white\", \"showbackground\": true, \"ticks\": \"\", \"zerolinecolor\": \"white\"}, \"yaxis\": {\"backgroundcolor\": \"#E5ECF6\", \"gridcolor\": \"white\", \"gridwidth\": 2, \"linecolor\": \"white\", \"showbackground\": true, \"ticks\": \"\", \"zerolinecolor\": \"white\"}, \"zaxis\": {\"backgroundcolor\": \"#E5ECF6\", \"gridcolor\": \"white\", \"gridwidth\": 2, \"linecolor\": \"white\", \"showbackground\": true, \"ticks\": \"\", \"zerolinecolor\": \"white\"}}, \"shapedefaults\": {\"line\": {\"color\": \"#2a3f5f\"}}, \"ternary\": {\"aaxis\": {\"gridcolor\": \"white\", \"linecolor\": \"white\", \"ticks\": \"\"}, \"baxis\": {\"gridcolor\": \"white\", \"linecolor\": \"white\", \"ticks\": \"\"}, \"bgcolor\": \"#E5ECF6\", \"caxis\": {\"gridcolor\": \"white\", \"linecolor\": \"white\", \"ticks\": \"\"}}, \"title\": {\"x\": 0.05}, \"xaxis\": {\"automargin\": true, \"gridcolor\": \"white\", \"linecolor\": \"white\", \"ticks\": \"\", \"title\": {\"standoff\": 15}, \"zerolinecolor\": \"white\", \"zerolinewidth\": 2}, \"yaxis\": {\"automargin\": true, \"gridcolor\": \"white\", \"linecolor\": \"white\", \"ticks\": \"\", \"title\": {\"standoff\": 15}, \"zerolinecolor\": \"white\", \"zerolinewidth\": 2}}}, \"title\": {\"text\": \"The CFR for Brazil\", \"x\": 0.5, \"xanchor\": \"center\", \"y\": 0.95, \"yanchor\": \"top\"}, \"xaxis\": {\"tickangle\": -70, \"title\": {\"text\": \"Date\"}}, \"yaxis\": {\"title\": {\"text\": \"Percentage(%)\"}}},\n",
              "                        {\"responsive\": true}\n",
              "                    ).then(function(){\n",
              "                            \n",
              "var gd = document.getElementById('0859925b-0940-4516-9202-78afc3f092bc');\n",
              "var x = new MutationObserver(function (mutations, observer) {{\n",
              "        var display = window.getComputedStyle(gd).display;\n",
              "        if (!display || display === 'none') {{\n",
              "            console.log([gd, 'removed!']);\n",
              "            Plotly.purge(gd);\n",
              "            observer.disconnect();\n",
              "        }}\n",
              "}});\n",
              "\n",
              "// Listen for the removal of the full notebook cells\n",
              "var notebookContainer = gd.closest('#notebook-container');\n",
              "if (notebookContainer) {{\n",
              "    x.observe(notebookContainer, {childList: true});\n",
              "}}\n",
              "\n",
              "// Listen for the clearing of the current output cell\n",
              "var outputEl = gd.closest('.output');\n",
              "if (outputEl) {{\n",
              "    x.observe(outputEl, {childList: true});\n",
              "}}\n",
              "\n",
              "                        })\n",
              "                };\n",
              "                \n",
              "            </script>\n",
              "        </div>\n",
              "</body>\n",
              "</html>"
            ]
          },
          "metadata": {
            "tags": []
          }
        }
      ]
    },
    {
      "cell_type": "markdown",
      "metadata": {
        "id": "JB6ALd78IJoN"
      },
      "source": [
        "Brazil's CFR chart is similar to that of the United States and India, and both fell to a stable state after a period of sharp rise. It is possible that these three countries have finally become very similar in their handling of the virus for various reasons."
      ]
    },
    {
      "cell_type": "markdown",
      "metadata": {
        "id": "xwei4jNjES_H"
      },
      "source": [
        "# Mean and Uncertainty of CFR"
      ]
    },
    {
      "cell_type": "markdown",
      "metadata": {
        "id": "9626yPigQRWy"
      },
      "source": [
        "Counting a country's CFR individually will only show one country's situation, and in order to be able to come up with a more reliable CFR value for COVID-19, I tried to figure out the MEAN and UNCERTAINTY by putting all the countries' CFRs together"
      ]
    },
    {
      "cell_type": "code",
      "metadata": {
        "id": "_JZMU8Ga38vs"
      },
      "source": [
        "def CFR(country1,country2,country3,country4,country5,country6):\n",
        "  #The purpose of the code below is to extract all data entries for country alone.\n",
        "  covid_country1=covid[covid[\"location\"]==country1]\n",
        "  covid_country2=covid[covid[\"location\"]==country2]\n",
        "  covid_country3=covid[covid[\"location\"]==country3]\n",
        "  covid_country4=covid[covid[\"location\"]==country4]\n",
        "  covid_country5=covid[covid[\"location\"]==country5]\n",
        "  covid_country6=covid[covid[\"location\"]==country6]\n",
        "  #The purpose of the code below is calculate the individual CFR\n",
        "  CFR1 = covid_country1[\"total_deaths\"].max()/covid_country1[\"total_cases\"].max()*100\n",
        "  CFR2 = covid_country2[\"total_deaths\"].max()/covid_country2[\"total_cases\"].max()*100\n",
        "  CFR3 = covid_country3[\"total_deaths\"].max()/covid_country3[\"total_cases\"].max()*100\n",
        "  CFR4 = covid_country4[\"total_deaths\"].max()/covid_country4[\"total_cases\"].max()*100\n",
        "  CFR5 = covid_country5[\"total_deaths\"].max()/covid_country5[\"total_cases\"].max()*100\n",
        "  CFR6 = covid_country6[\"total_deaths\"].max()/covid_country6[\"total_cases\"].max()*100\n",
        "\n",
        "  All_CFR = ['CFR1','CFR2','CFR3','CFR4','CFR5','CFR6']\n",
        "  All_CFR1 = [CFR1,CFR2,CFR3,CFR4,CFR5,CFR6]\n",
        "  #The following code is designed to calculate the mean\n",
        "  average = sum(All_CFR1)/6\n",
        "  #The following code is designed to calculate the uncertainty\n",
        "  uncertainity = abs(max(All_CFR1)-min(All_CFR1))/2\n",
        "  \n",
        "  def round_to_1(x):\n",
        "    return round(x, -int(floor(log10(abs(x)))))\n",
        "  u=round_to_1(uncertainity)\n",
        "  return (\"{}±{}\".format(average,u))"
      ],
      "execution_count": 43,
      "outputs": []
    },
    {
      "cell_type": "markdown",
      "metadata": {
        "id": "rueZmb-2QT7B"
      },
      "source": [
        "The following code uses the function edited above to calculate the mean and uncertainty."
      ]
    },
    {
      "cell_type": "code",
      "metadata": {
        "id": "ep-Kre477J_d",
        "outputId": "dc8d1018-10a9-4faa-9a92-23c3805448a4",
        "colab": {
          "base_uri": "https://localhost:8080/",
          "height": 35
        }
      },
      "source": [
        "CFR('Australia','India','United States','Russia','South Africa','Brazil')"
      ],
      "execution_count": null,
      "outputs": [
        {
          "output_type": "execute_result",
          "data": {
            "application/vnd.google.colaboratory.intrinsic+json": {
              "type": "string"
            },
            "text/plain": [
              "'2.4203168066922207±0.9'"
            ]
          },
          "metadata": {
            "tags": []
          },
          "execution_count": 15
        }
      ]
    },
    {
      "cell_type": "markdown",
      "metadata": {
        "id": "ELuiDCBPQUgW"
      },
      "source": [
        "From the above calculations, we can conclude that the value of CFR is 2.4203 and its uncertainty is ±0.9"
      ]
    },
    {
      "cell_type": "markdown",
      "metadata": {
        "id": "fKgRDw_NijtU"
      },
      "source": [
        "# Put all the CFRs for all the countries in one chart."
      ]
    },
    {
      "cell_type": "markdown",
      "metadata": {
        "id": "1dw3rHmJQVFs"
      },
      "source": [
        "The averages and uncertainties calculated above may be reliable, but there isn't much evidence to prove that they are. So below I'll put the CFRs for all countries in a single graph for comparison"
      ]
    },
    {
      "cell_type": "markdown",
      "metadata": {
        "id": "QT-Ih32RqCh_"
      },
      "source": [
        "I'm going to use code to edit a function that puts all the CFRs in a single diagram."
      ]
    },
    {
      "cell_type": "code",
      "metadata": {
        "id": "lcyXqIToe5YD"
      },
      "source": [
        "dict_colours={\"Australia\":\"gold\",\"Brazil\":\"forestGreen\",\"India\":\"tomato\",\"Russia\":\"crimson\",\"South Africa\":\"mediumPurple\",\"United States\":\"dodgerBlue\"}\n",
        "line_name = {\"Australia\":\"Australia CFR\",\"Brazil\":\"Brazil CFR\",\"India\":\"India CFR\",\"Russia\":\"Russia CFR\",\"South Africa\":\"South Africa CFR\",\"United States\":\"United States CFR\"}\n",
        "def plot_CFR(country1,country2,country3,country4,country5,country6):\n",
        "  fig6 = go.Figure()\n",
        "  covid_country1=covid[covid['location']==country1]\n",
        "  covid_country2=covid[covid['location']==country2]\n",
        "  covid_country3=covid[covid['location']==country3]\n",
        "  covid_country4=covid[covid['location']==country4]\n",
        "  covid_country5=covid[covid['location']==country5]\n",
        "  covid_country6=covid[covid['location']==country6]\n",
        "  name1=line_name[country1]\n",
        "  name2=line_name[country2]\n",
        "  name3=line_name[country3]\n",
        "  name4=line_name[country4]\n",
        "  name5=line_name[country5]\n",
        "  name6=line_name[country6]\n",
        "  country_colour1=dict_colours[country1]\n",
        "  country_colour2=dict_colours[country2]\n",
        "  country_colour3=dict_colours[country3]\n",
        "  country_colour4=dict_colours[country4]\n",
        "  country_colour5=dict_colours[country5]\n",
        "  country_colour6=dict_colours[country6]\n",
        "  covid_country1['total_CFR']=(covid_country1[\"total_deaths\"]/covid_country1[\"total_cases\"])*100\n",
        "  covid_country2['total_CFR']=(covid_country2[\"total_deaths\"]/covid_country2[\"total_cases\"])*100\n",
        "  covid_country3['total_CFR']=(covid_country3[\"total_deaths\"]/covid_country3[\"total_cases\"])*100\n",
        "  covid_country4['total_CFR']=(covid_country4[\"total_deaths\"]/covid_country4[\"total_cases\"])*100\n",
        "  covid_country5['total_CFR']=(covid_country5[\"total_deaths\"]/covid_country5[\"total_cases\"])*100\n",
        "  covid_country6['total_CFR']=(covid_country6[\"total_deaths\"]/covid_country6[\"total_cases\"])*100\n",
        "  fig6.add_trace(go.Scatter(x=covid_country1['date'], y=covid_country1['total_CFR'], name=name1,\n",
        "                         line=dict(color=country_colour1, width=2)))\n",
        "  fig6.add_trace(go.Scatter(x=covid_country2['date'], y=covid_country2['total_CFR'], name=name2,\n",
        "                         line=dict(color=country_colour2, width=2)))\n",
        "  fig6.add_trace(go.Scatter(x=covid_country3['date'], y=covid_country3['total_CFR'], name=name3,\n",
        "                         line=dict(color=country_colour3, width=2)))\n",
        "  fig6.add_trace(go.Scatter(x=covid_country4['date'], y=covid_country4['total_CFR'], name=name4,\n",
        "                         line=dict(color=country_colour4, width=2)))\n",
        "  fig6.add_trace(go.Scatter(x=covid_country5['date'], y=covid_country5['total_CFR'], name=name5,\n",
        "                         line=dict(color=country_colour5, width=2)))\n",
        "  fig6.add_trace(go.Scatter(x=covid_country6['date'], y=covid_country6['total_CFR'], name=name6,\n",
        "                         line=dict(color=country_colour6, width=2)))\n",
        "  fig6.update_xaxes(title_text=\"Date\",tickangle = 290)\n",
        "  fig6.update_yaxes(title_text=\"Percentage(%)\")\n",
        "  fig6.update_layout(\n",
        "      title={\n",
        "          'text': \"New daily CFR for each country\",\n",
        "          'y':0.95,\n",
        "          'x':0.5,\n",
        "          'xanchor': 'center',\n",
        "          'yanchor': 'top'})\n",
        "  return fig6.show()"
      ],
      "execution_count": null,
      "outputs": []
    },
    {
      "cell_type": "markdown",
      "metadata": {
        "id": "v1FICnPAQV73"
      },
      "source": [
        "The following code is to draw the CFR diagram"
      ]
    },
    {
      "cell_type": "code",
      "metadata": {
        "id": "6RM-d90elKnB",
        "outputId": "86554353-498a-47d4-aa08-a252c59eee18",
        "colab": {
          "base_uri": "https://localhost:8080/",
          "height": 542
        }
      },
      "source": [
        "plot_CFR('Australia','India','United States','Russia','South Africa','Brazil')"
      ],
      "execution_count": null,
      "outputs": [
        {
          "output_type": "display_data",
          "data": {
            "text/html": [
              "<html>\n",
              "<head><meta charset=\"utf-8\" /></head>\n",
              "<body>\n",
              "    <div>\n",
              "            <script src=\"https://cdnjs.cloudflare.com/ajax/libs/mathjax/2.7.5/MathJax.js?config=TeX-AMS-MML_SVG\"></script><script type=\"text/javascript\">if (window.MathJax) {MathJax.Hub.Config({SVG: {font: \"STIX-Web\"}});}</script>\n",
              "                <script type=\"text/javascript\">window.PlotlyConfig = {MathJaxConfig: 'local'};</script>\n",
              "        <script src=\"https://cdn.plot.ly/plotly-latest.min.js\"></script>    \n",
              "            <div id=\"566c590c-d00e-4e33-b0d1-e94b607a67a6\" class=\"plotly-graph-div\" style=\"height:525px; width:100%;\"></div>\n",
              "            <script type=\"text/javascript\">\n",
              "                \n",
              "                    window.PLOTLYENV=window.PLOTLYENV || {};\n",
              "                    \n",
              "                if (document.getElementById(\"566c590c-d00e-4e33-b0d1-e94b607a67a6\")) {\n",
              "                    Plotly.newPlot(\n",
              "                        '566c590c-d00e-4e33-b0d1-e94b607a67a6',\n",
              "                        [{\"line\": {\"color\": \"gold\", \"width\": 2}, \"name\": \"Australia CFR\", \"type\": \"scatter\", \"x\": [\"2020-01-22\", \"2020-01-23\", \"2020-01-24\", \"2020-01-25\", \"2020-01-26\", \"2020-01-27\", \"2020-01-28\", \"2020-01-29\", \"2020-01-30\", \"2020-01-31\", \"2020-02-01\", \"2020-02-02\", \"2020-02-03\", \"2020-02-04\", \"2020-02-05\", \"2020-02-06\", \"2020-02-07\", \"2020-02-08\", \"2020-02-09\", \"2020-02-10\", \"2020-02-11\", \"2020-02-12\", \"2020-02-13\", \"2020-02-14\", \"2020-02-15\", \"2020-02-16\", \"2020-02-17\", \"2020-02-18\", \"2020-02-19\", \"2020-02-20\", \"2020-02-21\", \"2020-02-22\", \"2020-02-23\", \"2020-02-24\", \"2020-02-25\", \"2020-02-26\", \"2020-02-27\", \"2020-02-28\", \"2020-02-29\", \"2020-03-01\", \"2020-03-02\", \"2020-03-03\", \"2020-03-04\", \"2020-03-05\", \"2020-03-06\", \"2020-03-07\", \"2020-03-08\", \"2020-03-09\", \"2020-03-10\", \"2020-03-11\", \"2020-03-12\", \"2020-03-13\", \"2020-03-14\", \"2020-03-15\", \"2020-03-16\", \"2020-03-17\", \"2020-03-18\", \"2020-03-19\", \"2020-03-20\", \"2020-03-21\", \"2020-03-22\", \"2020-03-23\", \"2020-03-24\", \"2020-03-25\", \"2020-03-26\", \"2020-03-27\", \"2020-03-28\", \"2020-03-29\", \"2020-03-30\", \"2020-03-31\", \"2020-04-01\", \"2020-04-02\", \"2020-04-03\", \"2020-04-04\", \"2020-04-05\", \"2020-04-06\", \"2020-04-07\", \"2020-04-08\", \"2020-04-09\", \"2020-04-10\", \"2020-04-11\", \"2020-04-12\", \"2020-04-13\", \"2020-04-14\", \"2020-04-15\", \"2020-04-16\", \"2020-04-17\", \"2020-04-18\", \"2020-04-19\", \"2020-04-20\", \"2020-04-21\", \"2020-04-22\", \"2020-04-23\", \"2020-04-24\", \"2020-04-25\", \"2020-04-26\", \"2020-04-27\", \"2020-04-28\", \"2020-04-29\", \"2020-04-30\", \"2020-05-01\", \"2020-05-02\", \"2020-05-03\", \"2020-05-04\", \"2020-05-05\", \"2020-05-06\", \"2020-05-07\", \"2020-05-08\", \"2020-05-09\", \"2020-05-10\", \"2020-05-11\", \"2020-05-12\", \"2020-05-13\", \"2020-05-14\", \"2020-05-15\", \"2020-05-16\", \"2020-05-17\", \"2020-05-18\", \"2020-05-19\", \"2020-05-20\", \"2020-05-21\", \"2020-05-22\", \"2020-05-23\", \"2020-05-24\", \"2020-05-25\", \"2020-05-26\", \"2020-05-27\", \"2020-05-28\", \"2020-05-29\", \"2020-05-30\", \"2020-05-31\", \"2020-06-01\", \"2020-06-02\", \"2020-06-03\", \"2020-06-04\", \"2020-06-05\", \"2020-06-06\", \"2020-06-07\", \"2020-06-08\", \"2020-06-09\", \"2020-06-10\", \"2020-06-11\", \"2020-06-12\", \"2020-06-13\", \"2020-06-14\", \"2020-06-15\", \"2020-06-16\", \"2020-06-17\", \"2020-06-18\", \"2020-06-19\", \"2020-06-20\", \"2020-06-21\", \"2020-06-22\", \"2020-06-23\", \"2020-06-24\", \"2020-06-25\", \"2020-06-26\", \"2020-06-27\", \"2020-06-28\", \"2020-06-29\", \"2020-06-30\", \"2020-07-01\", \"2020-07-02\", \"2020-07-03\", \"2020-07-04\", \"2020-07-05\", \"2020-07-06\", \"2020-07-07\", \"2020-07-08\", \"2020-07-09\", \"2020-07-10\", \"2020-07-11\", \"2020-07-12\", \"2020-07-13\", \"2020-07-14\", \"2020-07-15\", \"2020-07-16\", \"2020-07-17\", \"2020-07-18\", \"2020-07-19\", \"2020-07-20\", \"2020-07-21\", \"2020-07-22\", \"2020-07-23\", \"2020-07-24\", \"2020-07-25\", \"2020-07-26\", \"2020-07-27\", \"2020-07-28\", \"2020-07-29\", \"2020-07-30\", \"2020-07-31\", \"2020-08-01\", \"2020-08-02\", \"2020-08-03\", \"2020-08-04\", \"2020-08-05\", \"2020-08-06\", \"2020-08-07\", \"2020-08-08\", \"2020-08-09\", \"2020-08-10\", \"2020-08-11\", \"2020-08-12\", \"2020-08-13\", \"2020-08-14\", \"2020-08-15\", \"2020-08-16\", \"2020-08-17\", \"2020-08-18\", \"2020-08-19\", \"2020-08-20\", \"2020-08-21\", \"2020-08-22\", \"2020-08-23\", \"2020-08-24\", \"2020-08-25\", \"2020-08-26\", \"2020-08-27\", \"2020-08-28\", \"2020-08-29\", \"2020-08-30\", \"2020-08-31\", \"2020-09-01\", \"2020-09-02\", \"2020-09-03\", \"2020-09-04\", \"2020-09-05\", \"2020-09-06\", \"2020-09-07\", \"2020-09-08\", \"2020-09-09\", \"2020-09-10\", \"2020-09-11\", \"2020-09-12\", \"2020-09-13\", \"2020-09-14\", \"2020-09-15\", \"2020-09-16\", \"2020-09-17\", \"2020-09-18\", \"2020-09-19\", \"2020-09-20\", \"2020-09-21\", \"2020-09-22\", \"2020-09-23\", \"2020-09-24\", \"2020-09-25\", \"2020-09-26\", \"2020-09-27\", \"2020-09-28\", \"2020-09-29\", \"2020-09-30\", \"2020-10-01\", \"2020-10-02\", \"2020-10-03\", \"2020-10-04\", \"2020-10-05\", \"2020-10-06\", \"2020-10-07\", \"2020-10-08\", \"2020-10-09\", \"2020-10-10\", \"2020-10-11\", \"2020-10-12\", \"2020-10-13\", \"2020-10-14\", \"2020-10-15\", \"2020-10-16\", \"2020-10-17\", \"2020-10-18\", \"2020-10-19\", \"2020-10-20\", \"2020-10-21\", \"2020-10-22\", \"2020-10-23\", \"2020-10-24\", \"2020-10-25\", \"2020-10-26\", \"2020-10-27\", \"2020-10-28\", \"2020-10-29\", \"2020-10-30\", \"2020-10-31\", \"2020-11-01\", \"2020-11-02\", \"2020-11-03\", \"2020-11-04\", \"2020-11-05\"], \"y\": [null, null, null, 0.0, 0.0, 0.0, 0.0, 0.0, 0.0, 0.0, 0.0, 0.0, 0.0, 0.0, 0.0, 0.0, 0.0, 0.0, 0.0, 0.0, 0.0, 0.0, 0.0, 0.0, 0.0, 0.0, 0.0, 0.0, 0.0, 0.0, 0.0, 0.0, 0.0, 0.0, 0.0, 0.0, 0.0, 0.0, 0.0, 3.8461538461538463, 3.4482758620689653, 3.0303030303030303, 2.4390243902439024, 3.8461538461538463, 3.389830508474576, 3.1746031746031744, 4.054054054054054, 3.75, 3.0, 2.6785714285714284, 2.380952380952381, 1.9230769230769231, 1.5228426395939088, 1.2048192771084338, 1.6778523489932886, 1.3333333333333335, 1.1013215859030838, 1.0619469026548671, 0.846262341325811, 0.8009153318077803, 0.6375227686703097, 0.40959625511995323, 0.38398244651673064, 0.33016921172100705, 0.3929974991068239, 0.410612760581175, 0.3848431024274719, 0.36755053819900235, 0.3909113119960909, 0.41694096993636165, 0.42489908646696406, 0.42202572347266887, 0.4402756508422665, 0.5407354001441961, 0.5978547564621066, 0.6267409470752089, 0.7186858316221766, 0.755540631296172, 0.8261731658955718, 0.8452535760728219, 0.8656620711766592, 0.906344410876133, 0.9648845302119582, 0.9582155199497331, 0.9507481296758105, 0.9755342211210901, 0.9696783130675697, 1.0255625287004437, 1.0476768903735194, 1.0586811857229281, 1.0716981132075472, 1.113284188355649, 1.1121130147279832, 1.1249437528123594, 1.1813967399431733, 1.2084141429210802, 1.2364069715477433, 1.2490706319702602, 1.3060255268625705, 1.3341239252890602, 1.3605442176870748, 1.374316536131225, 1.3710747456877488, 1.3968534039111895, 1.391941391941392, 1.401664476565922, 1.410909090909091, 1.4066125290023201, 1.4029505351460805, 1.3999134074180979, 1.3974931566056763, 1.39608520437536, 1.3928776565192418, 1.4050179211469533, 1.4022034625840607, 1.3962102863655792, 1.3928368391131325, 1.3910574875798438, 1.4022662889518414, 1.400679117147708, 1.4126289023873428, 1.4122299110295156, 1.42353770260747, 1.4354066985645932, 1.434800956533971, 1.4329867940432706, 1.429973363241273, 1.42877153662978, 1.4265734265734267, 1.4219991635299039, 1.4196242171189979, 1.417651146629604, 1.41588006662965, 1.4125467386788533, 1.410983538525384, 1.408839779005525, 1.406702523789822, 1.4059269469331495, 1.4049586776859504, 1.4039917412250515, 1.4036053392046237, 1.4018691588785046, 1.4001372683596431, 1.3991769547325104, 1.3968775677896468, 1.3934426229508197, 1.390593047034765, 1.3883217639853003, 1.3839891451831752, 1.3800568258693005, 1.3767040086381428, 1.371705217859064, 1.3671089666264575, 1.3647310677013647, 1.3614522156967432, 1.369498736870097, 1.3760254035459116, 1.369321922317314, 1.361078392880513, 1.3531095498308614, 1.3389983262520921, 1.327546591779423, 1.3131313131313131, 1.2998375203099612, 1.2598425196850394, 1.2437215977038987, 1.2309149011717364, 1.2345679012345678, 1.2107367218732152, 1.192887688498762, 1.170107075836185, 1.132599636713324, 1.1200669946613628, 1.1023782790650198, 1.0821643286573146, 1.0535557506584723, 1.0576464983325393, 1.0453283996299723, 1.032487761459724, 1.0313783760160824, 1.0337230977800373, 1.019139945314442, 1.013839716768587, 0.9925558312655087, 0.9995490756049903, 1.0224347186465612, 1.039426523297491, 1.0761646879122404, 1.0780046869769, 1.0912179822268688, 1.1295084071364396, 1.15929583512237, 1.1594202898550725, 1.1572734637194768, 1.1605200022317692, 1.206463587727918, 1.2387207005179135, 1.2703147500514298, 1.2838586245091128, 1.3121546961325967, 1.3431249396076916, 1.3991652437867577, 1.4628218909192878, 1.5244323677059826, 1.5908166493424323, 1.6146345826997046, 1.6488589895792112, 1.6453223355762971, 1.700446581930608, 1.783973897199034, 1.8424262819164599, 1.8755470345517444, 1.9103812510315232, 1.9338714303273652, 1.9713844402894074, 2.023214573593423, 2.0749719056028253, 2.095557418273261, 2.1781392580837133, 2.2589052997393573, 2.290946243319711, 2.34861236152973, 2.3802103622906117, 2.532432222481162, 2.544637669932995, 2.5575743548200442, 2.6027870551652654, 2.81986531986532, 2.854199259739764, 2.86540583736063, 2.894916799635286, 2.9195419731553804, 2.951067447572265, 2.9721268811526422, 3.000188217579522, 3.0180027812229864, 3.0392855802784133, 3.0570957590289227, 3.0518363377963946, 3.0770379775196983, 3.102972438742401, 3.116041845054168, 3.1392970057652967, 3.1563685032344413, 3.162158145065398, 3.1697721030361516, 3.1846661476291107, 3.190897972797688, 3.2185185185185183, 3.220313888066331, 3.2248520710059174, 3.2354681260168614, 3.2590621882274693, 3.2590621882274693, 3.277236492471213, 3.2825581824217167, 3.2926514509052027, 3.2945165094339623, 3.2929389664444364, 3.2935894605137266, 3.299977926569053, 3.2970668234948173, 3.2942818318704328, 3.292468066363236, 3.2937206572769955, 3.2910650150260206, 3.2909909580114944, 3.3063896711897884, 3.3038520575981285, 3.302765700924336, 3.301318336193989, 3.300474625775831, 3.303040256943684, 3.299307327743347, 3.297624253024341, 3.2949828879341734, 3.2928249163149466, 3.291028764682352, 3.2885174418604652, 3.287681185744905, 3.286009948803602, 3.2917180808594035, 3.28992709202365, 3.2883764774128057, 3.287422979340341, 3.286827323790542, 3.2859937685674954, 3.2850416515755163, 3.2836145101730505]}, {\"line\": {\"color\": \"tomato\", \"width\": 2}, \"name\": \"India CFR\", \"type\": \"scatter\", \"x\": [\"2020-01-22\", \"2020-01-23\", \"2020-01-24\", \"2020-01-25\", \"2020-01-26\", \"2020-01-27\", \"2020-01-28\", \"2020-01-29\", \"2020-01-30\", \"2020-01-31\", \"2020-02-01\", \"2020-02-02\", \"2020-02-03\", \"2020-02-04\", \"2020-02-05\", \"2020-02-06\", \"2020-02-07\", \"2020-02-08\", \"2020-02-09\", \"2020-02-10\", \"2020-02-11\", \"2020-02-12\", \"2020-02-13\", \"2020-02-14\", \"2020-02-15\", \"2020-02-16\", \"2020-02-17\", \"2020-02-18\", \"2020-02-19\", \"2020-02-20\", \"2020-02-21\", \"2020-02-22\", \"2020-02-23\", \"2020-02-24\", \"2020-02-25\", \"2020-02-26\", \"2020-02-27\", \"2020-02-28\", \"2020-02-29\", \"2020-03-01\", \"2020-03-02\", \"2020-03-03\", \"2020-03-04\", \"2020-03-05\", \"2020-03-06\", \"2020-03-07\", \"2020-03-08\", \"2020-03-09\", \"2020-03-10\", \"2020-03-11\", \"2020-03-12\", \"2020-03-13\", \"2020-03-14\", \"2020-03-15\", \"2020-03-16\", \"2020-03-17\", \"2020-03-18\", \"2020-03-19\", \"2020-03-20\", \"2020-03-21\", \"2020-03-22\", \"2020-03-23\", \"2020-03-24\", \"2020-03-25\", \"2020-03-26\", \"2020-03-27\", \"2020-03-28\", \"2020-03-29\", \"2020-03-30\", \"2020-03-31\", \"2020-04-01\", \"2020-04-02\", \"2020-04-03\", \"2020-04-04\", \"2020-04-05\", \"2020-04-06\", \"2020-04-07\", \"2020-04-08\", \"2020-04-09\", \"2020-04-10\", \"2020-04-11\", \"2020-04-12\", \"2020-04-13\", \"2020-04-14\", \"2020-04-15\", \"2020-04-16\", \"2020-04-17\", \"2020-04-18\", \"2020-04-19\", \"2020-04-20\", \"2020-04-21\", \"2020-04-22\", \"2020-04-23\", \"2020-04-24\", \"2020-04-25\", \"2020-04-26\", \"2020-04-27\", \"2020-04-28\", \"2020-04-29\", \"2020-04-30\", \"2020-05-01\", \"2020-05-02\", \"2020-05-03\", \"2020-05-04\", \"2020-05-05\", \"2020-05-06\", \"2020-05-07\", \"2020-05-08\", \"2020-05-09\", \"2020-05-10\", \"2020-05-11\", \"2020-05-12\", \"2020-05-13\", \"2020-05-14\", \"2020-05-15\", \"2020-05-16\", \"2020-05-17\", \"2020-05-18\", \"2020-05-19\", \"2020-05-20\", \"2020-05-21\", \"2020-05-22\", \"2020-05-23\", \"2020-05-24\", \"2020-05-25\", \"2020-05-26\", \"2020-05-27\", \"2020-05-28\", \"2020-05-29\", \"2020-05-30\", \"2020-05-31\", \"2020-06-01\", \"2020-06-02\", \"2020-06-03\", \"2020-06-04\", \"2020-06-05\", \"2020-06-06\", \"2020-06-07\", \"2020-06-08\", \"2020-06-09\", \"2020-06-10\", \"2020-06-11\", \"2020-06-12\", \"2020-06-13\", \"2020-06-14\", \"2020-06-15\", \"2020-06-16\", \"2020-06-17\", \"2020-06-18\", \"2020-06-19\", \"2020-06-20\", \"2020-06-21\", \"2020-06-22\", \"2020-06-23\", \"2020-06-24\", \"2020-06-25\", \"2020-06-26\", \"2020-06-27\", \"2020-06-28\", \"2020-06-29\", \"2020-06-30\", \"2020-07-01\", \"2020-07-02\", \"2020-07-03\", \"2020-07-04\", \"2020-07-05\", \"2020-07-06\", \"2020-07-07\", \"2020-07-08\", \"2020-07-09\", \"2020-07-10\", \"2020-07-11\", \"2020-07-12\", \"2020-07-13\", \"2020-07-14\", \"2020-07-15\", \"2020-07-16\", \"2020-07-17\", \"2020-07-18\", \"2020-07-19\", \"2020-07-20\", \"2020-07-21\", \"2020-07-22\", \"2020-07-23\", \"2020-07-24\", \"2020-07-25\", \"2020-07-26\", \"2020-07-27\", \"2020-07-28\", \"2020-07-29\", \"2020-07-30\", \"2020-07-31\", \"2020-08-01\", \"2020-08-02\", \"2020-08-03\", \"2020-08-04\", \"2020-08-05\", \"2020-08-06\", \"2020-08-07\", \"2020-08-08\", \"2020-08-09\", \"2020-08-10\", \"2020-08-11\", \"2020-08-12\", \"2020-08-13\", \"2020-08-14\", \"2020-08-15\", \"2020-08-16\", \"2020-08-17\", \"2020-08-18\", \"2020-08-19\", \"2020-08-20\", \"2020-08-21\", \"2020-08-22\", \"2020-08-23\", \"2020-08-24\", \"2020-08-25\", \"2020-08-26\", \"2020-08-27\", \"2020-08-28\", \"2020-08-29\", \"2020-08-30\", \"2020-08-31\", \"2020-09-01\", \"2020-09-02\", \"2020-09-03\", \"2020-09-04\", \"2020-09-05\", \"2020-09-06\", \"2020-09-07\", \"2020-09-08\", \"2020-09-09\", \"2020-09-10\", \"2020-09-11\", \"2020-09-12\", \"2020-09-13\", \"2020-09-14\", \"2020-09-15\", \"2020-09-16\", \"2020-09-17\", \"2020-09-18\", \"2020-09-19\", \"2020-09-20\", \"2020-09-21\", \"2020-09-22\", \"2020-09-23\", \"2020-09-24\", \"2020-09-25\", \"2020-09-26\", \"2020-09-27\", \"2020-09-28\", \"2020-09-29\", \"2020-09-30\", \"2020-10-01\", \"2020-10-02\", \"2020-10-03\", \"2020-10-04\", \"2020-10-05\", \"2020-10-06\", \"2020-10-07\", \"2020-10-08\", \"2020-10-09\", \"2020-10-10\", \"2020-10-11\", \"2020-10-12\", \"2020-10-13\", \"2020-10-14\", \"2020-10-15\", \"2020-10-16\", \"2020-10-17\", \"2020-10-18\", \"2020-10-19\", \"2020-10-20\", \"2020-10-21\", \"2020-10-22\", \"2020-10-23\", \"2020-10-24\", \"2020-10-25\", \"2020-10-26\", \"2020-10-27\", \"2020-10-28\", \"2020-10-29\", \"2020-10-30\", \"2020-10-31\", \"2020-11-01\", \"2020-11-02\", \"2020-11-03\", \"2020-11-04\", \"2020-11-05\"], \"y\": [null, null, null, null, null, null, null, null, 0.0, 0.0, 0.0, 0.0, 0.0, 0.0, 0.0, 0.0, 0.0, 0.0, 0.0, 0.0, 0.0, 0.0, 0.0, 0.0, 0.0, 0.0, 0.0, 0.0, 0.0, 0.0, 0.0, 0.0, 0.0, 0.0, 0.0, 0.0, 0.0, 0.0, 0.0, 0.0, 0.0, 0.0, 0.0, 0.0, 0.0, 0.0, 0.0, null, 0.0, 0.0, 0.0, 1.3333333333333335, 2.4096385542168677, 2.2222222222222223, 2.1505376344086025, 2.4, 2.18978102189781, 1.8181818181818181, 2.094240837696335, 1.7316017316017316, 1.25, 1.5945330296127564, 1.8292682926829267, 1.601423487544484, 2.0030816640986133, 2.3480662983425415, 2.176403207331042, 2.5536261491317673, 2.707749766573296, 2.5579536370903275, 2.505368647100931, 2.5445292620865136, 2.4337244676227727, 2.3432115782219163, 2.2821576763485476, 2.6801081878534543, 2.578602126215788, 2.868694647670389, 2.8950122078828042, 3.1035558328134747, 3.209346045387404, 3.267113451412159, 3.3653846153846154, 3.271253498021808, 3.296030774610946, 3.344103392568659, 3.26436094718757, 3.3384337181805535, 3.2268329938900204, 3.1450912250217207, 3.1720430107526885, 3.2025620496397114, 3.1832842518580846, 3.1113229622567924, 3.162490818575043, 3.109903381642512, 3.126344471533056, 3.173093256327501, 3.21396655176816, 3.249621785173979, 3.2731215934708784, 3.2622669809299336, 3.2541270635317656, 3.2280817247784075, 3.3769086640966552, 3.4297746553015735, 3.3672004834567155, 3.3474140073124845, 3.3203714256980996, 3.3508635345334374, 3.2850845842268286, 3.240714568375827, 3.251167862575894, 3.26782303244747, 3.2316701232158107, 3.2022341168256925, 3.1585777601812444, 3.1496636130145887, 3.127379151464816, 3.094145199063232, 3.0571649801084027, 3.0249816373567926, 2.9735973333546495, 2.932477932477932, 2.8960351471064856, 2.866281469252992, 2.857669980957652, 2.861690235137337, 2.8383765885198344, 2.8607931492895493, 2.8351350312666423, 2.8309759361797044, 2.8172274616770507, 2.800857356164054, 2.8005845499933155, 2.7993120783172376, 2.8065935087489486, 2.8094944612939323, 2.7804731675571195, 2.8004711213137385, 2.8002444112617186, 2.8271436497440496, 2.856134572403247, 2.8751460389070305, 2.865182193804102, 2.8638124804466583, 2.8855318268331143, 3.3618120966489204, 3.334823107487205, 3.3040585285862947, 3.2775763957797537, 3.229052212025016, 3.2211567853800536, 3.1827629680951355, 3.1732879129647533, 3.1481383625199477, 3.1200996735324766, 3.0818169850654185, 3.0433442562195214, 3.0046432909370107, 2.9802060546185873, 2.971854488439657, 2.949518805373767, 2.9115457905439106, 2.8774592597734125, 2.862299733349179, 2.8237213817350693, 2.8013033842134885, 2.780378143280663, 2.7536960964217196, 2.7215854835336772, 2.694916410448816, 2.6689329565077164, 2.63864440127799, 2.616702251552795, 2.5966132617517337, 2.571536502091083, 2.5504267646379075, 2.5293728025754874, 2.488451380730463, 2.4593866246647043, 2.4311131232843746, 2.40855383661032, 2.4107989843658544, 2.3759554949939634, 2.3456440123543136, 2.3141458598275597, 2.2829726922441904, 2.2536402104701057, 2.2324013869837414, 2.207865679331629, 2.181198020587356, 2.1527864583947527, 2.1342039831543884, 2.1142709826217847, 2.098240868222735, 2.085414205865676, 2.0716851205577296, 2.051479127057029, 2.035706984211038, 2.0148071769290437, 2.003815673878164, 1.9948648440168821, 1.9784618897871686, 1.9624582279252136, 1.9519013160300505, 1.9411034474022562, 1.9299666908910051, 1.923243252634493, 1.9164611346551021, 1.911231743308304, 1.8987460013923527, 1.8875547478287562, 1.8749867678237835, 1.8623027054720291, 1.8524003105897986, 1.8435126445897687, 1.8379804567914289, 1.8268194937276339, 1.8163542435424354, 1.8057305313091445, 1.7923450624136787, 1.7802993169476244, 1.767138080487304, 1.7597186699749543, 1.7484791376771613, 1.7393040497649455, 1.7290058433890216, 1.7168022546490347, 1.703890465067772, 1.700182832440353, 1.6907971574287983, 1.6807949549728685, 1.671724661549785, 1.6624949785235315, 1.6529262848638178, 1.6449644243068142, 1.638379988300763, 1.634663975225676, 1.6255155811953808, 1.6179717363127188, 1.6130138315385, 1.6063343850029044, 1.6014709580543702, 1.5987846108958963, 1.5944002933044752, 1.5900342571972734, 1.5861285504857725, 1.5816408454568922, 1.5770128553339389, 1.5727849695343081, 1.56734644461914, 1.5660249193552662, 1.563195040256098, 1.5603994202126095, 1.5577556899281135, 1.5540724280018867, 1.5502395522821817, 1.5492554915556758, 1.547328296580309, 1.5437584254910466, 1.5419587553182663, 1.5390383990195178, 1.5358233555048153, 1.5328897900692335, 1.5309063139294414, 1.5275598534627715, 1.5227114133013424, 1.521762254445715, 1.5202860879252167, 1.5215187674351671, 1.5179583572673465, 1.5163359840506785, 1.5149964573753838, 1.5131285466383182, 1.5114197187279677, 1.5094152263649372, 1.5071436554546573, 1.5046095687727332, 1.5038453121521629, 1.5019419743034135, 1.4990541905471788, 1.4969987702827015, 1.494890267673362, 1.4920549427535061, 1.4898813546161145, 1.4889043682809437, 1.4868035077742319, 1.4862950954832361]}, {\"line\": {\"color\": \"dodgerBlue\", \"width\": 2}, \"name\": \"United States CFR\", \"type\": \"scatter\", \"x\": [\"2020-01-22\", \"2020-01-23\", \"2020-01-24\", \"2020-01-25\", \"2020-01-26\", \"2020-01-27\", \"2020-01-28\", \"2020-01-29\", \"2020-01-30\", \"2020-01-31\", \"2020-02-01\", \"2020-02-02\", \"2020-02-03\", \"2020-02-04\", \"2020-02-05\", \"2020-02-06\", \"2020-02-07\", \"2020-02-08\", \"2020-02-09\", \"2020-02-10\", \"2020-02-11\", \"2020-02-12\", \"2020-02-13\", \"2020-02-14\", \"2020-02-15\", \"2020-02-16\", \"2020-02-17\", \"2020-02-18\", \"2020-02-19\", \"2020-02-20\", \"2020-02-21\", \"2020-02-22\", \"2020-02-23\", \"2020-02-24\", \"2020-02-25\", \"2020-02-26\", \"2020-02-27\", \"2020-02-28\", \"2020-02-29\", \"2020-03-01\", \"2020-03-02\", \"2020-03-03\", \"2020-03-04\", \"2020-03-05\", \"2020-03-06\", \"2020-03-07\", \"2020-03-08\", \"2020-03-09\", \"2020-03-10\", \"2020-03-11\", \"2020-03-12\", \"2020-03-13\", \"2020-03-14\", \"2020-03-15\", \"2020-03-16\", \"2020-03-17\", \"2020-03-18\", \"2020-03-19\", \"2020-03-20\", \"2020-03-21\", \"2020-03-22\", \"2020-03-23\", \"2020-03-24\", \"2020-03-25\", \"2020-03-26\", \"2020-03-27\", \"2020-03-28\", \"2020-03-29\", \"2020-03-30\", \"2020-03-31\", \"2020-04-01\", \"2020-04-02\", \"2020-04-03\", \"2020-04-04\", \"2020-04-05\", \"2020-04-06\", \"2020-04-07\", \"2020-04-08\", \"2020-04-09\", \"2020-04-10\", \"2020-04-11\", \"2020-04-12\", \"2020-04-13\", \"2020-04-14\", \"2020-04-15\", \"2020-04-16\", \"2020-04-17\", \"2020-04-18\", \"2020-04-19\", \"2020-04-20\", \"2020-04-21\", \"2020-04-22\", \"2020-04-23\", \"2020-04-24\", \"2020-04-25\", \"2020-04-26\", \"2020-04-27\", \"2020-04-28\", \"2020-04-29\", \"2020-04-30\", \"2020-05-01\", \"2020-05-02\", \"2020-05-03\", \"2020-05-04\", \"2020-05-05\", \"2020-05-06\", \"2020-05-07\", \"2020-05-08\", \"2020-05-09\", \"2020-05-10\", \"2020-05-11\", \"2020-05-12\", \"2020-05-13\", \"2020-05-14\", \"2020-05-15\", \"2020-05-16\", \"2020-05-17\", \"2020-05-18\", \"2020-05-19\", \"2020-05-20\", \"2020-05-21\", \"2020-05-22\", \"2020-05-23\", \"2020-05-24\", \"2020-05-25\", \"2020-05-26\", \"2020-05-27\", \"2020-05-28\", \"2020-05-29\", \"2020-05-30\", \"2020-05-31\", \"2020-06-01\", \"2020-06-02\", \"2020-06-03\", \"2020-06-04\", \"2020-06-05\", \"2020-06-06\", \"2020-06-07\", \"2020-06-08\", \"2020-06-09\", \"2020-06-10\", \"2020-06-11\", \"2020-06-12\", \"2020-06-13\", \"2020-06-14\", \"2020-06-15\", \"2020-06-16\", \"2020-06-17\", \"2020-06-18\", \"2020-06-19\", \"2020-06-20\", \"2020-06-21\", \"2020-06-22\", \"2020-06-23\", \"2020-06-24\", \"2020-06-25\", \"2020-06-26\", \"2020-06-27\", \"2020-06-28\", \"2020-06-29\", \"2020-06-30\", \"2020-07-01\", \"2020-07-02\", \"2020-07-03\", \"2020-07-04\", \"2020-07-05\", \"2020-07-06\", \"2020-07-07\", \"2020-07-08\", \"2020-07-09\", \"2020-07-10\", \"2020-07-11\", \"2020-07-12\", \"2020-07-13\", \"2020-07-14\", \"2020-07-15\", \"2020-07-16\", \"2020-07-17\", \"2020-07-18\", \"2020-07-19\", \"2020-07-20\", \"2020-07-21\", \"2020-07-22\", \"2020-07-23\", \"2020-07-24\", \"2020-07-25\", \"2020-07-26\", \"2020-07-27\", \"2020-07-28\", \"2020-07-29\", \"2020-07-30\", \"2020-07-31\", \"2020-08-01\", \"2020-08-02\", \"2020-08-03\", \"2020-08-04\", \"2020-08-05\", \"2020-08-06\", \"2020-08-07\", \"2020-08-08\", \"2020-08-09\", \"2020-08-10\", \"2020-08-11\", \"2020-08-12\", \"2020-08-13\", \"2020-08-14\", \"2020-08-15\", \"2020-08-16\", \"2020-08-17\", \"2020-08-18\", \"2020-08-19\", \"2020-08-20\", \"2020-08-21\", \"2020-08-22\", \"2020-08-23\", \"2020-08-24\", \"2020-08-25\", \"2020-08-26\", \"2020-08-27\", \"2020-08-28\", \"2020-08-29\", \"2020-08-30\", \"2020-08-31\", \"2020-09-01\", \"2020-09-02\", \"2020-09-03\", \"2020-09-04\", \"2020-09-05\", \"2020-09-06\", \"2020-09-07\", \"2020-09-08\", \"2020-09-09\", \"2020-09-10\", \"2020-09-11\", \"2020-09-12\", \"2020-09-13\", \"2020-09-14\", \"2020-09-15\", \"2020-09-16\", \"2020-09-17\", \"2020-09-18\", \"2020-09-19\", \"2020-09-20\", \"2020-09-21\", \"2020-09-22\", \"2020-09-23\", \"2020-09-24\", \"2020-09-25\", \"2020-09-26\", \"2020-09-27\", \"2020-09-28\", \"2020-09-29\", \"2020-09-30\", \"2020-10-01\", \"2020-10-02\", \"2020-10-03\", \"2020-10-04\", \"2020-10-05\", \"2020-10-06\", \"2020-10-07\", \"2020-10-08\", \"2020-10-09\", \"2020-10-10\", \"2020-10-11\", \"2020-10-12\", \"2020-10-13\", \"2020-10-14\", \"2020-10-15\", \"2020-10-16\", \"2020-10-17\", \"2020-10-18\", \"2020-10-19\", \"2020-10-20\", \"2020-10-21\", \"2020-10-22\", \"2020-10-23\", \"2020-10-24\", \"2020-10-25\", \"2020-10-26\", \"2020-10-27\", \"2020-10-28\", \"2020-10-29\", \"2020-10-30\", \"2020-10-31\", \"2020-11-01\", \"2020-11-02\", \"2020-11-03\", \"2020-11-04\", \"2020-11-05\"], \"y\": [0.0, 0.0, 0.0, 0.0, 0.0, 0.0, 0.0, 0.0, 0.0, 0.0, 0.0, 0.0, 0.0, 0.0, 0.0, 0.0, 0.0, 0.0, 0.0, 0.0, 0.0, 0.0, 0.0, 0.0, 0.0, 0.0, 0.0, 0.0, 0.0, 0.0, 0.0, 0.0, 0.0, 0.0, 0.0, 0.0, 0.0, 0.0, 0.0, 1.4492753623188406, 2.247191011235955, 5.825242718446602, 7.199999999999999, 6.918238993710692, 5.150214592274678, 4.142011834319527, 3.9260969976905313, 3.790613718411552, 3.4482758620689653, 2.731707317073171, 2.2865853658536586, 2.4052916416115453, 2.1619135234590616, 1.9315486275838698, 1.8282988871224166, 1.8236429950654367, 1.6804107670763964, 1.5932023366967605, 1.0526315789473684, 1.3249082755809212, 1.2711705985718025, 1.3378401408850764, 1.2704017914818482, 1.4502724918976662, 1.5174726132323613, 1.5071344675605585, 1.6305905278642798, 1.7575101271407372, 1.7542387694459012, 1.925646944478192, 2.1511670832937804, 2.3707900941763835, 2.4651787896065813, 2.5747845951828467, 2.7226113497119178, 2.857227479378619, 2.9845517061565037, 3.233377381152381, 3.4288134181222403, 3.5812914536095084, 3.7437195948640243, 3.8886614045449486, 3.965055571398082, 4.05925910668493, 4.275031336338997, 4.843949323394782, 4.957911968909524, 5.277114748121522, 5.293258203802004, 5.355100192579313, 5.400049761853984, 5.4619103777872855, 5.552146911630148, 5.748344401338286, 5.728874235843167, 5.664110545411175, 5.681274652917974, 5.69021630814274, 5.762984367701216, 5.8626283645972865, 5.88936892541404, 5.8950099702749, 5.858866494450029, 5.844525366545744, 5.838727327859438, 5.9011602565433074, 5.976788270906062, 6.020022721269845, 6.011235823787764, 6.016917377920966, 5.980452684954644, 5.985832945079664, 6.01380766209915, 6.04948710979575, 6.058725330403155, 6.066799362891845, 6.0463905867221115, 6.023983744485481, 5.989203220473579, 6.013536852792941, 6.021124423511763, 6.004107052172496, 5.995064423510429, 5.983163551430667, 5.9467952907612895, 5.908673634514066, 5.883612536669974, 5.908585808970118, 5.901960214897634, 5.88614075887463, 5.862061564044863, 5.830830341566905, 5.80513085519222, 5.796472471928206, 5.788487296923608, 5.778464857475463, 5.750912353952234, 5.718672479676426, 5.68966768827454, 5.660200338060918, 5.657297269995202, 5.64489038543058, 5.62533267897202, 5.5963779157105025, 5.564451831406307, 5.526656475980495, 5.493168012124733, 5.47136192533111, 5.441572789593628, 5.405348663564351, 5.363083818221032, 5.308766410996492, 5.259957420540555, 5.207018806366989, 5.165183794612918, 5.122238921356317, 5.136254236658396, 5.066744683704799, 5.000910241431082, 4.935433402013969, 4.869232503342917, 4.8363366372713354, 4.7669068818677225, 4.698747645425218, 4.632037622019804, 4.566792813770672, 4.498560738895707, 4.434250712493087, 4.388374479072446, 4.3308944931005, 4.274876780303321, 4.210752070960766, 4.151081201249875, 4.090994637727379, 4.032195717228616, 3.976775672038545, 3.9270526515228372, 3.8688324910569003, 3.8178969574103236, 3.775302683792703, 3.724471677011391, 3.678998227158676, 3.640796728290559, 3.6059780815763456, 3.5755665077382774, 3.5390875055227573, 3.505482372421241, 3.470342605845036, 3.4499283610352096, 3.4295979523882942, 3.4044186310222178, 3.383081787954387, 3.3606478860210913, 3.342687412724837, 3.317512700957914, 3.2969334019580097, 3.286588569858399, 3.280671142859571, 3.2783702995671673, 3.2651287102907522, 3.2497888662643604, 3.2297798315276682, 3.2086446395783286, 3.200357425795149, 3.1945790268047016, 3.1841138423113877, 3.1704021019822775, 3.1612718504280317, 3.147205885918321, 3.135101340945971, 3.1340379861725194, 3.1316807966665228, 3.1262967928613756, 3.11903476111127, 3.111480821191562, 3.100439430289038, 3.087995298305547, 3.0885124626494282, 3.0868744026839456, 3.0816398351337004, 3.0718187378019444, 3.065947931270592, 3.052593367897454, 3.0442315412021164, 3.0398218989501045, 3.0378093963665482, 3.0370261378666172, 3.027624890232171, 3.018604625843718, 3.0103302503130367, 3.0029817459124595, 2.9975538074649406, 3.0003679407269503, 2.998002103098733, 2.994683868277104, 2.986398006323669, 2.9766813666117637, 2.9677397701233597, 2.9659144697336313, 2.9679570965651525, 2.961034439051081, 2.9531425124842614, 2.9454415265008143, 2.9318802835757154, 2.914580953801615, 2.9118187589414224, 2.9117833856633, 2.9062465026094024, 2.8972208438841363, 2.8888661606108834, 2.877788843529613, 2.8688967219563843, 2.8646398632969463, 2.860870590704355, 2.855362887812192, 2.84653419772963, 2.836185673357403, 2.8282338064491777, 2.8181348921707303, 2.8115157115563965, 2.805387802634085, 2.797217782360936, 2.789250321866182, 2.7772829635959413, 2.7667604847070755, 2.7560170508253443, 2.747993626852142, 2.739631889440507, 2.7281094902996723, 2.7154679650952698, 2.7050167564025642, 2.6938676905474765, 2.6797269060367594, 2.672040094259802, 2.6654688505019384, 2.6526282238824783, 2.637199542388572, 2.6222013647400377, 2.6079862994743617, 2.5933066529542566, 2.5823685742477522, 2.570550723276433, 2.5560481073766446, 2.538931786904719, 2.5262643018394737, 2.508818486771781, 2.4921417958519014, 2.478980398400295, 2.463810097859207]}, {\"line\": {\"color\": \"crimson\", \"width\": 2}, \"name\": \"Russia CFR\", \"type\": \"scatter\", \"x\": [\"2020-01-22\", \"2020-01-23\", \"2020-01-24\", \"2020-01-25\", \"2020-01-26\", \"2020-01-27\", \"2020-01-28\", \"2020-01-29\", \"2020-01-30\", \"2020-01-31\", \"2020-02-01\", \"2020-02-02\", \"2020-02-03\", \"2020-02-04\", \"2020-02-05\", \"2020-02-06\", \"2020-02-07\", \"2020-02-08\", \"2020-02-09\", \"2020-02-10\", \"2020-02-11\", \"2020-02-12\", \"2020-02-13\", \"2020-02-14\", \"2020-02-15\", \"2020-02-16\", \"2020-02-17\", \"2020-02-18\", \"2020-02-19\", \"2020-02-20\", \"2020-02-21\", \"2020-02-22\", \"2020-02-23\", \"2020-02-24\", \"2020-02-25\", \"2020-02-26\", \"2020-02-27\", \"2020-02-28\", \"2020-02-29\", \"2020-03-01\", \"2020-03-02\", \"2020-03-03\", \"2020-03-04\", \"2020-03-05\", \"2020-03-06\", \"2020-03-07\", \"2020-03-08\", \"2020-03-09\", \"2020-03-10\", \"2020-03-11\", \"2020-03-12\", \"2020-03-13\", \"2020-03-14\", \"2020-03-15\", \"2020-03-16\", \"2020-03-17\", \"2020-03-18\", \"2020-03-19\", \"2020-03-20\", \"2020-03-21\", \"2020-03-22\", \"2020-03-23\", \"2020-03-24\", \"2020-03-25\", \"2020-03-26\", \"2020-03-27\", \"2020-03-28\", \"2020-03-29\", \"2020-03-30\", \"2020-03-31\", \"2020-04-01\", \"2020-04-02\", \"2020-04-03\", \"2020-04-04\", \"2020-04-05\", \"2020-04-06\", \"2020-04-07\", \"2020-04-08\", \"2020-04-09\", \"2020-04-10\", \"2020-04-11\", \"2020-04-12\", \"2020-04-13\", \"2020-04-14\", \"2020-04-15\", \"2020-04-16\", \"2020-04-17\", \"2020-04-18\", \"2020-04-19\", \"2020-04-20\", \"2020-04-21\", \"2020-04-22\", \"2020-04-23\", \"2020-04-24\", \"2020-04-25\", \"2020-04-26\", \"2020-04-27\", \"2020-04-28\", \"2020-04-29\", \"2020-04-30\", \"2020-05-01\", \"2020-05-02\", \"2020-05-03\", \"2020-05-04\", \"2020-05-05\", \"2020-05-06\", \"2020-05-07\", \"2020-05-08\", \"2020-05-09\", \"2020-05-10\", \"2020-05-11\", \"2020-05-12\", \"2020-05-13\", \"2020-05-14\", \"2020-05-15\", \"2020-05-16\", \"2020-05-17\", \"2020-05-18\", \"2020-05-19\", \"2020-05-20\", \"2020-05-21\", \"2020-05-22\", \"2020-05-23\", \"2020-05-24\", \"2020-05-25\", \"2020-05-26\", \"2020-05-27\", \"2020-05-28\", \"2020-05-29\", \"2020-05-30\", \"2020-05-31\", \"2020-06-01\", \"2020-06-02\", \"2020-06-03\", \"2020-06-04\", \"2020-06-05\", \"2020-06-06\", \"2020-06-07\", \"2020-06-08\", \"2020-06-09\", \"2020-06-10\", \"2020-06-11\", \"2020-06-12\", \"2020-06-13\", \"2020-06-14\", \"2020-06-15\", \"2020-06-16\", \"2020-06-17\", \"2020-06-18\", \"2020-06-19\", \"2020-06-20\", \"2020-06-21\", \"2020-06-22\", \"2020-06-23\", \"2020-06-24\", \"2020-06-25\", \"2020-06-26\", \"2020-06-27\", \"2020-06-28\", \"2020-06-29\", \"2020-06-30\", \"2020-07-01\", \"2020-07-02\", \"2020-07-03\", \"2020-07-04\", \"2020-07-05\", \"2020-07-06\", \"2020-07-07\", \"2020-07-08\", \"2020-07-09\", \"2020-07-10\", \"2020-07-11\", \"2020-07-12\", \"2020-07-13\", \"2020-07-14\", \"2020-07-15\", \"2020-07-16\", \"2020-07-17\", \"2020-07-18\", \"2020-07-19\", \"2020-07-20\", \"2020-07-21\", \"2020-07-22\", \"2020-07-23\", \"2020-07-24\", \"2020-07-25\", \"2020-07-26\", \"2020-07-27\", \"2020-07-28\", \"2020-07-29\", \"2020-07-30\", \"2020-07-31\", \"2020-08-01\", \"2020-08-02\", \"2020-08-03\", \"2020-08-04\", \"2020-08-05\", \"2020-08-06\", \"2020-08-07\", \"2020-08-08\", \"2020-08-09\", \"2020-08-10\", \"2020-08-11\", \"2020-08-12\", \"2020-08-13\", \"2020-08-14\", \"2020-08-15\", \"2020-08-16\", \"2020-08-17\", \"2020-08-18\", \"2020-08-19\", \"2020-08-20\", \"2020-08-21\", \"2020-08-22\", \"2020-08-23\", \"2020-08-24\", \"2020-08-25\", \"2020-08-26\", \"2020-08-27\", \"2020-08-28\", \"2020-08-29\", \"2020-08-30\", \"2020-08-31\", \"2020-09-01\", \"2020-09-02\", \"2020-09-03\", \"2020-09-04\", \"2020-09-05\", \"2020-09-06\", \"2020-09-07\", \"2020-09-08\", \"2020-09-09\", \"2020-09-10\", \"2020-09-11\", \"2020-09-12\", \"2020-09-13\", \"2020-09-14\", \"2020-09-15\", \"2020-09-16\", \"2020-09-17\", \"2020-09-18\", \"2020-09-19\", \"2020-09-20\", \"2020-09-21\", \"2020-09-22\", \"2020-09-23\", \"2020-09-24\", \"2020-09-25\", \"2020-09-26\", \"2020-09-27\", \"2020-09-28\", \"2020-09-29\", \"2020-09-30\", \"2020-10-01\", \"2020-10-02\", \"2020-10-03\", \"2020-10-04\", \"2020-10-05\", \"2020-10-06\", \"2020-10-07\", \"2020-10-08\", \"2020-10-09\", \"2020-10-10\", \"2020-10-11\", \"2020-10-12\", \"2020-10-13\", \"2020-10-14\", \"2020-10-15\", \"2020-10-16\", \"2020-10-17\", \"2020-10-18\", \"2020-10-19\", \"2020-10-20\", \"2020-10-21\", \"2020-10-22\", \"2020-10-23\", \"2020-10-24\", \"2020-10-25\", \"2020-10-26\", \"2020-10-27\", \"2020-10-28\", \"2020-10-29\", \"2020-10-30\", \"2020-10-31\", \"2020-11-01\", \"2020-11-02\", \"2020-11-03\", \"2020-11-04\", \"2020-11-05\"], \"y\": [null, null, null, null, null, null, null, null, null, null, 0.0, 0.0, 0.0, 0.0, 0.0, 0.0, 0.0, 0.0, 0.0, 0.0, 0.0, 0.0, 0.0, 0.0, 0.0, 0.0, 0.0, 0.0, 0.0, 0.0, 0.0, 0.0, 0.0, 0.0, 0.0, 0.0, 0.0, 0.0, 0.0, 0.0, 0.0, 0.0, 0.0, 0.0, 0.0, 0.0, 0.0, 0.0, 0.0, 0.0, 0.0, 0.0, 0.0, 0.0, 0.0, 0.0, 0.0, 0.0, 0.0, 0.0, 0.0, 0.0, 0.0, 0.0, 0.0, 0.2380952380952381, 0.3861003861003861, 0.39556962025316456, 0.5215123859191656, 0.5446623093681917, 0.727428326914848, 0.8642419877565718, 0.8455467869222096, 0.8194745721860689, 0.9088987529063622, 0.8350343291890889, 0.7409743023805769, 0.7736427904495131, 0.7264760147601476, 0.7501727371434213, 0.7887891247797265, 0.7803297997644287, 0.8243500317057704, 0.8075076385857703, 0.8056108425741636, 0.8084932625561453, 0.8304101940010022, 0.8529117720569859, 0.8507052972032725, 0.8424147667607869, 0.859489399630738, 0.8642419877565718, 0.884498008586355, 0.8841380848453952, 0.8962140421439188, 0.9130154984716039, 0.9228032464885297, 0.9122517126234982, 0.9266978772526133, 0.9778770410165092, 1.0075306578527297, 1.0215763211017994, 0.9850548954487562, 0.9503515558294416, 0.9334471459646998, 0.933899723241295, 0.9262998029277582, 0.9172499435538497, 0.9171772446356043, 0.9195876703779017, 0.9132616077219488, 0.9076369813502964, 0.9111146514641991, 0.9130271472854778, 0.9137941287240581, 0.9199408011626713, 0.9325731593902434, 0.9337999375337176, 0.936431377675641, 0.9458526843612578, 0.9627314102460278, 0.9758970127915252, 0.9952580502867227, 1.0086875748030557, 1.0279231655737182, 1.027935047407244, 1.0506648415033313, 1.0704650911837703, 1.0927289467644197, 1.1284160124657205, 1.1485847569816554, 1.156358493308989, 1.1702235355935962, 1.1886978130508965, 1.2064023762541147, 1.2205627646744108, 1.2288977711778122, 1.2481223661347887, 1.2527984296720145, 1.2526801186595, 1.2655254063344274, 1.2879387915090843, 1.3000660780676543, 1.3130031304810303, 1.3129435197806698, 1.3135109383625352, 1.3199679827255637, 1.3353915425202307, 1.3515247577719902, 1.3883665929412519, 1.4008993731801225, 1.3869438012174324, 1.3872545666005336, 1.3854933477409335, 1.3938519772221343, 1.4027461726434014, 1.4014794932849506, 1.4144788770510024, 1.4289902269750783, 1.4300868328927854, 1.42960527547118, 1.4386068358521817, 1.4572015800612772, 1.4645360840334865, 1.476156752005965, 1.4865495948941092, 1.491520746391565, 1.496811860518534, 1.5116027829393717, 1.5221349558784918, 1.533010698415526, 1.5431355191501759, 1.5550685798428139, 1.5587998272737025, 1.5590862192806587, 1.5695718747423801, 1.5769679608879787, 1.5856864466781881, 1.5968061243172116, 1.600001045154598, 1.5996453873132648, 1.5983567549769384, 1.605968381061318, 1.614946970944893, 1.6215577117068618, 1.6290212012501735, 1.6352637842126139, 1.6331378425447856, 1.6322788832934043, 1.6398001250736174, 1.6493564457954861, 1.6539264876291044, 1.6622995043935516, 1.6627969005598247, 1.660418160235994, 1.6591845505591734, 1.665964340399548, 1.6754617262144273, 1.675203637139377, 1.678760966099859, 1.6834646686621022, 1.6822979574913017, 1.687215875355961, 1.6857193468352794, 1.690482230550315, 1.6947248055098385, 1.6978099806862885, 1.701413250476095, 1.6996206329718817, 1.6965868854049333, 1.702103930002692, 1.7058190310469945, 1.7088310657187196, 1.7095470212550263, 1.7134206747158571, 1.7123613403306406, 1.7106728806137954, 1.7147783715194438, 1.7183645511991883, 1.7224695974480717, 1.7252053998092625, 1.7278194664615272, 1.7259972978594926, 1.7256778982416694, 1.7298169687854983, 1.73273631840796, 1.7354541359115638, 1.7386378748996407, 1.7405494408562106, 1.7376804598709903, 1.7338870077326838, 1.7371298594597935, 1.7437923087933127, 1.745367317488078, 1.7459315469343286, 1.7481241050841625, 1.7480059954215754, 1.7443275423094202, 1.7493148478044864, 1.752354520856048, 1.7563193311225387, 1.7590951496811729, 1.7624955456864475, 1.7598348376244677, 1.7564066168286627, 1.7609628879468726, 1.764237806317894, 1.7671300348323407, 1.765418362604397, 1.7685827989691938, 1.765097208881416, 1.757974702756963, 1.7592834420130075, 1.7616464023205243, 1.7626099891076088, 1.7642927636122254, 1.7642976101326524, 1.7578586355072958, 1.7517899255152791, 1.7505397962350022, 1.7511346535652588, 1.7503206064222863, 1.7494368192114997, 1.7472787771071776, 1.7399466242864117, 1.7314506480938192, 1.7317434009612585, 1.7311880179855552, 1.7347246971007184, 1.7324746058790066, 1.7339541335105673, 1.7284651126893222, 1.7215943294642329, 1.7207598305433995, 1.7239961722752508, 1.7249980523554198, 1.7239096988746803, 1.7246573027591445, 1.7207474583470124, 1.7155556600471258, 1.717886461460136, 1.7222131285902085, 1.7260618843226847, 1.7285259278889182, 1.7297894588521465, 1.7250322431650904, 1.7203834594734382, 1.722425831368608, 1.725290441901581]}, {\"line\": {\"color\": \"mediumPurple\", \"width\": 2}, \"name\": \"South Africa CFR\", \"type\": \"scatter\", \"x\": [\"2020-02-07\", \"2020-02-08\", \"2020-02-09\", \"2020-02-10\", \"2020-02-11\", \"2020-02-12\", \"2020-02-13\", \"2020-02-14\", \"2020-02-15\", \"2020-02-16\", \"2020-02-17\", \"2020-02-18\", \"2020-02-19\", \"2020-02-20\", \"2020-02-21\", \"2020-02-22\", \"2020-02-23\", \"2020-02-24\", \"2020-02-25\", \"2020-02-26\", \"2020-02-27\", \"2020-02-28\", \"2020-02-29\", \"2020-03-01\", \"2020-03-02\", \"2020-03-03\", \"2020-03-04\", \"2020-03-05\", \"2020-03-06\", \"2020-03-07\", \"2020-03-08\", \"2020-03-09\", \"2020-03-10\", \"2020-03-11\", \"2020-03-12\", \"2020-03-13\", \"2020-03-14\", \"2020-03-15\", \"2020-03-16\", \"2020-03-17\", \"2020-03-18\", \"2020-03-19\", \"2020-03-20\", \"2020-03-21\", \"2020-03-22\", \"2020-03-23\", \"2020-03-24\", \"2020-03-25\", \"2020-03-26\", \"2020-03-27\", \"2020-03-28\", \"2020-03-29\", \"2020-03-30\", \"2020-03-31\", \"2020-04-01\", \"2020-04-02\", \"2020-04-03\", \"2020-04-04\", \"2020-04-05\", \"2020-04-06\", \"2020-04-07\", \"2020-04-08\", \"2020-04-09\", \"2020-04-10\", \"2020-04-11\", \"2020-04-12\", \"2020-04-13\", \"2020-04-14\", \"2020-04-15\", \"2020-04-16\", \"2020-04-17\", \"2020-04-18\", \"2020-04-19\", \"2020-04-20\", \"2020-04-21\", \"2020-04-22\", \"2020-04-23\", \"2020-04-24\", \"2020-04-25\", \"2020-04-26\", \"2020-04-27\", \"2020-04-28\", \"2020-04-29\", \"2020-04-30\", \"2020-05-01\", \"2020-05-02\", \"2020-05-03\", \"2020-05-04\", \"2020-05-05\", \"2020-05-06\", \"2020-05-07\", \"2020-05-08\", \"2020-05-09\", \"2020-05-10\", \"2020-05-11\", \"2020-05-12\", \"2020-05-13\", \"2020-05-14\", \"2020-05-15\", \"2020-05-16\", \"2020-05-17\", \"2020-05-18\", \"2020-05-19\", \"2020-05-20\", \"2020-05-21\", \"2020-05-22\", \"2020-05-23\", \"2020-05-24\", \"2020-05-25\", \"2020-05-26\", \"2020-05-27\", \"2020-05-28\", \"2020-05-29\", \"2020-05-30\", \"2020-05-31\", \"2020-06-01\", \"2020-06-02\", \"2020-06-03\", \"2020-06-04\", \"2020-06-05\", \"2020-06-06\", \"2020-06-07\", \"2020-06-08\", \"2020-06-09\", \"2020-06-10\", \"2020-06-11\", \"2020-06-12\", \"2020-06-13\", \"2020-06-14\", \"2020-06-15\", \"2020-06-16\", \"2020-06-17\", \"2020-06-18\", \"2020-06-19\", \"2020-06-20\", \"2020-06-21\", \"2020-06-22\", \"2020-06-23\", \"2020-06-24\", \"2020-06-25\", \"2020-06-26\", \"2020-06-27\", \"2020-06-28\", \"2020-06-29\", \"2020-06-30\", \"2020-07-01\", \"2020-07-02\", \"2020-07-03\", \"2020-07-04\", \"2020-07-05\", \"2020-07-06\", \"2020-07-07\", \"2020-07-08\", \"2020-07-09\", \"2020-07-10\", \"2020-07-11\", \"2020-07-12\", \"2020-07-13\", \"2020-07-14\", \"2020-07-15\", \"2020-07-16\", \"2020-07-17\", \"2020-07-18\", \"2020-07-19\", \"2020-07-20\", \"2020-07-21\", \"2020-07-22\", \"2020-07-23\", \"2020-07-24\", \"2020-07-25\", \"2020-07-26\", \"2020-07-27\", \"2020-07-28\", \"2020-07-29\", \"2020-07-30\", \"2020-07-31\", \"2020-08-01\", \"2020-08-02\", \"2020-08-03\", \"2020-08-04\", \"2020-08-05\", \"2020-08-06\", \"2020-08-07\", \"2020-08-08\", \"2020-08-09\", \"2020-08-10\", \"2020-08-11\", \"2020-08-12\", \"2020-08-13\", \"2020-08-14\", \"2020-08-15\", \"2020-08-16\", \"2020-08-17\", \"2020-08-18\", \"2020-08-19\", \"2020-08-20\", \"2020-08-21\", \"2020-08-22\", \"2020-08-23\", \"2020-08-24\", \"2020-08-25\", \"2020-08-26\", \"2020-08-27\", \"2020-08-28\", \"2020-08-29\", \"2020-08-30\", \"2020-08-31\", \"2020-09-01\", \"2020-09-02\", \"2020-09-03\", \"2020-09-04\", \"2020-09-05\", \"2020-09-06\", \"2020-09-07\", \"2020-09-08\", \"2020-09-09\", \"2020-09-10\", \"2020-09-11\", \"2020-09-12\", \"2020-09-13\", \"2020-09-14\", \"2020-09-15\", \"2020-09-16\", \"2020-09-17\", \"2020-09-18\", \"2020-09-19\", \"2020-09-20\", \"2020-09-21\", \"2020-09-22\", \"2020-09-23\", \"2020-09-24\", \"2020-09-25\", \"2020-09-26\", \"2020-09-27\", \"2020-09-28\", \"2020-09-29\", \"2020-09-30\", \"2020-10-01\", \"2020-10-02\", \"2020-10-03\", \"2020-10-04\", \"2020-10-05\", \"2020-10-06\", \"2020-10-07\", \"2020-10-08\", \"2020-10-09\", \"2020-10-10\", \"2020-10-11\", \"2020-10-12\", \"2020-10-13\", \"2020-10-14\", \"2020-10-15\", \"2020-10-16\", \"2020-10-17\", \"2020-10-18\", \"2020-10-19\", \"2020-10-20\", \"2020-10-21\", \"2020-10-22\", \"2020-10-23\", \"2020-10-24\", \"2020-10-25\", \"2020-10-26\", \"2020-10-27\", \"2020-10-28\", \"2020-10-29\", \"2020-10-30\", \"2020-10-31\", \"2020-11-01\", \"2020-11-02\", \"2020-11-03\", \"2020-11-04\", \"2020-11-05\"], \"y\": [null, null, null, null, null, null, null, null, null, null, null, null, null, null, null, null, null, null, null, null, null, null, null, null, null, null, null, null, 0.0, null, 0.0, 0.0, 0.0, null, 0.0, 0.0, 0.0, 0.0, 0.0, 0.0, 0.0, 0.0, 0.0, 0.0, 0.0, 0.0, 0.0, 0.0, 0.0, 0.2157497303128371, 0.17094017094017094, 0.16849199663016007, 0.15625, 0.22624434389140274, 0.36954915003695493, 0.36231884057971014, 0.3419972640218878, 0.46511627906976744, 0.5678233438485805, 0.6646525679758308, 0.7117437722419928, 0.7432818753573471, 0.975609756097561, 0.9307135470527405, 1.1982026959560659, 1.232741617357002, 1.150483202945237, 1.1883802816901408, 1.1180124223602486, 1.3567438148443736, 1.8426103646833014, 1.7966223499820337, 1.7139090309822018, 1.7099430018999366, 1.7575757575757573, 1.673881673881674, 1.7881705639614855, 1.8972931950417402, 1.872037914691943, 1.9720247649621647, 1.913770347558293, 1.8777383684539954, 1.8614891913530824, 1.9252336448598129, 1.8239773330972198, 1.949252226516552, 1.941287878787879, 1.9312988353236031, 1.9113573407202216, 1.954569466455362, 1.9595286885245902, 1.9557823129251701, 2.001124227093873, 1.9745222929936306, 1.9370943584623066, 1.9339091250469393, 1.8149779735682818, 1.8138148086798078, 1.86827851479708, 1.826382727003845, 1.8181818181818181, 1.7015791169835643, 1.7404004138014968, 1.813953488372093, 1.8830194967505414, 1.9282019125254741, 1.9726708074534163, 1.9069484139999062, 1.8996590355577203, 2.0368409908956173, 2.159577975601714, 2.12823379727802, 2.1056088749407, 2.0896032831737346, 2.0764039138437695, 2.0897714408102073, 2.0519835841313268, 2.108231877582933, 2.1105929380413055, 2.07883898803687, 2.0905281576645023, 2.070780675613947, 2.0668944806875844, 2.1226832288370447, 2.1928251967315204, 2.1832879233503544, 2.2008605381778445, 2.1864453307927074, 2.1647194839965924, 2.113138581912676, 2.1323759400541253, 2.128802368538266, 2.0817788389792566, 2.070568601740374, 2.087442284671949, 2.0252263139154736, 1.9835152412077859, 1.9598385667880698, 1.9810004900667244, 1.9723424809474401, 1.936219640971489, 1.8781603660004815, 1.830804248861912, 1.7779836969898795, 1.7530361004824488, 1.7571705387906804, 1.7253174169820438, 1.6922426975919458, 1.6666290282513947, 1.6097714082041952, 1.6259212198221094, 1.6089752626129563, 1.6223853976048734, 1.603275988694278, 1.560802050860329, 1.5397687155696147, 1.5031190382460708, 1.4766038473512355, 1.4496379379838495, 1.4569616349080767, 1.4316072387308751, 1.4400671147149628, 1.4230110724716671, 1.4101727376104014, 1.3814474868799542, 1.384532208506857, 1.405979077941739, 1.503995462693823, 1.4931920441512356, 1.5030948160646072, 1.5327038231229848, 1.5196449297649703, 1.5616678710093719, 1.5784287923508082, 1.5913041817105087, 1.6201788169708131, 1.6231297510254812, 1.619940789604403, 1.6356295883554746, 1.6520850826719704, 1.7041421934404721, 1.7547468563459068, 1.784519792487328, 1.8165785479104488, 1.8456654880438474, 1.859042828717282, 1.8844992352705296, 1.899104236110007, 1.935249130368295, 1.9673046878409397, 1.9953724488033981, 2.000675058639294, 2.0156807327890762, 2.031239934495818, 2.071117836202005, 2.084186155756132, 2.103210321032103, 2.1286575683944986, 2.139380111853322, 2.141616634386895, 2.1520974732193965, 2.17090227514082, 2.192947550840424, 2.2041579463225753, 2.216173243050169, 2.2457597851421007, 2.2442789126094302, 2.2564712674290837, 2.270242049855235, 2.2818132081605467, 2.3005773954803597, 2.311212166064641, 2.3205167660044843, 2.331809489802151, 2.346714380898458, 2.3555643689270362, 2.3610317683922477, 2.368730583857563, 2.3790296380867515, 2.37992391401605, 2.377218591151336, 2.3817170675636845, 2.4006900775262805, 2.4034194207919883, 2.405837955251292, 2.411245280379303, 2.4164109778429967, 2.412694283670417, 2.415943535326678, 2.430037299368896, 2.43630372165463, 2.4410500577918564, 2.4399839049614904, 2.4460117879366328, 2.444667738078555, 2.469371074145152, 2.478098999066271, 2.4815411832920833, 2.4946604268108694, 2.4945672459145545, 2.4919230972935758, 2.49174726144118, 2.4942283590950067, 2.503212624516643, 2.5173865767600034, 2.5343176719450393, 2.548465430800602, 2.5579826775665224, 2.567616550007148, 2.567616550007148, 2.5956860469636607, 2.6063519688001677, 2.6223746175793203, 2.6235248920670147, 2.6217329814521793, 2.624493281405186, 2.6220340473077783, 2.6413555636100035, 2.6456923678530235, 2.652020013652069, 2.651695928760324, 2.6523074682952372, 2.649650494225192, 2.6519374015533814, 2.6541719660486645, 2.65536032368413, 2.6551394488548983, 2.6572444803104127, 2.657102054994679, 2.6706639718335827, 2.6752520289446737, 2.6808500128972774, 2.6808642279494297]}, {\"line\": {\"color\": \"forestGreen\", \"width\": 2}, \"name\": \"Brazil CFR\", \"type\": \"scatter\", \"x\": [\"2020-01-22\", \"2020-01-23\", \"2020-01-24\", \"2020-01-25\", \"2020-01-26\", \"2020-01-27\", \"2020-01-28\", \"2020-01-29\", \"2020-01-30\", \"2020-01-31\", \"2020-02-01\", \"2020-02-02\", \"2020-02-03\", \"2020-02-04\", \"2020-02-05\", \"2020-02-06\", \"2020-02-07\", \"2020-02-08\", \"2020-02-09\", \"2020-02-10\", \"2020-02-11\", \"2020-02-12\", \"2020-02-13\", \"2020-02-14\", \"2020-02-15\", \"2020-02-16\", \"2020-02-17\", \"2020-02-18\", \"2020-02-19\", \"2020-02-20\", \"2020-02-21\", \"2020-02-22\", \"2020-02-23\", \"2020-02-24\", \"2020-02-25\", \"2020-02-26\", \"2020-02-27\", \"2020-02-28\", \"2020-02-29\", \"2020-03-01\", \"2020-03-02\", \"2020-03-03\", \"2020-03-04\", \"2020-03-05\", \"2020-03-06\", \"2020-03-07\", \"2020-03-08\", \"2020-03-09\", \"2020-03-10\", \"2020-03-11\", \"2020-03-12\", \"2020-03-13\", \"2020-03-14\", \"2020-03-15\", \"2020-03-16\", \"2020-03-17\", \"2020-03-18\", \"2020-03-19\", \"2020-03-20\", \"2020-03-21\", \"2020-03-22\", \"2020-03-23\", \"2020-03-24\", \"2020-03-25\", \"2020-03-26\", \"2020-03-27\", \"2020-03-28\", \"2020-03-29\", \"2020-03-30\", \"2020-03-31\", \"2020-04-01\", \"2020-04-02\", \"2020-04-03\", \"2020-04-04\", \"2020-04-05\", \"2020-04-06\", \"2020-04-07\", \"2020-04-08\", \"2020-04-09\", \"2020-04-10\", \"2020-04-11\", \"2020-04-12\", \"2020-04-13\", \"2020-04-14\", \"2020-04-15\", \"2020-04-16\", \"2020-04-17\", \"2020-04-18\", \"2020-04-19\", \"2020-04-20\", \"2020-04-21\", \"2020-04-22\", \"2020-04-23\", \"2020-04-24\", \"2020-04-25\", \"2020-04-26\", \"2020-04-27\", \"2020-04-28\", \"2020-04-29\", \"2020-04-30\", \"2020-05-01\", \"2020-05-02\", \"2020-05-03\", \"2020-05-04\", \"2020-05-05\", \"2020-05-06\", \"2020-05-07\", \"2020-05-08\", \"2020-05-09\", \"2020-05-10\", \"2020-05-11\", \"2020-05-12\", \"2020-05-13\", \"2020-05-14\", \"2020-05-15\", \"2020-05-16\", \"2020-05-17\", \"2020-05-18\", \"2020-05-19\", \"2020-05-20\", \"2020-05-21\", \"2020-05-22\", \"2020-05-23\", \"2020-05-24\", \"2020-05-25\", \"2020-05-26\", \"2020-05-27\", \"2020-05-28\", \"2020-05-29\", \"2020-05-30\", \"2020-05-31\", \"2020-06-01\", \"2020-06-02\", \"2020-06-03\", \"2020-06-04\", \"2020-06-05\", \"2020-06-06\", \"2020-06-07\", \"2020-06-08\", \"2020-06-09\", \"2020-06-10\", \"2020-06-11\", \"2020-06-12\", \"2020-06-13\", \"2020-06-14\", \"2020-06-15\", \"2020-06-16\", \"2020-06-17\", \"2020-06-18\", \"2020-06-19\", \"2020-06-20\", \"2020-06-21\", \"2020-06-22\", \"2020-06-23\", \"2020-06-24\", \"2020-06-25\", \"2020-06-26\", \"2020-06-27\", \"2020-06-28\", \"2020-06-29\", \"2020-06-30\", \"2020-07-01\", \"2020-07-02\", \"2020-07-03\", \"2020-07-04\", \"2020-07-05\", \"2020-07-06\", \"2020-07-07\", \"2020-07-08\", \"2020-07-09\", \"2020-07-10\", \"2020-07-11\", \"2020-07-12\", \"2020-07-13\", \"2020-07-14\", \"2020-07-15\", \"2020-07-16\", \"2020-07-17\", \"2020-07-18\", \"2020-07-19\", \"2020-07-20\", \"2020-07-21\", \"2020-07-22\", \"2020-07-23\", \"2020-07-24\", \"2020-07-25\", \"2020-07-26\", \"2020-07-27\", \"2020-07-28\", \"2020-07-29\", \"2020-07-30\", \"2020-07-31\", \"2020-08-01\", \"2020-08-02\", \"2020-08-03\", \"2020-08-04\", \"2020-08-05\", \"2020-08-06\", \"2020-08-07\", \"2020-08-08\", \"2020-08-09\", \"2020-08-10\", \"2020-08-11\", \"2020-08-12\", \"2020-08-13\", \"2020-08-14\", \"2020-08-15\", \"2020-08-16\", \"2020-08-17\", \"2020-08-18\", \"2020-08-19\", \"2020-08-20\", \"2020-08-21\", \"2020-08-22\", \"2020-08-23\", \"2020-08-24\", \"2020-08-25\", \"2020-08-26\", \"2020-08-27\", \"2020-08-28\", \"2020-08-29\", \"2020-08-30\", \"2020-08-31\", \"2020-09-01\", \"2020-09-02\", \"2020-09-03\", \"2020-09-04\", \"2020-09-05\", \"2020-09-06\", \"2020-09-07\", \"2020-09-08\", \"2020-09-09\", \"2020-09-10\", \"2020-09-11\", \"2020-09-12\", \"2020-09-13\", \"2020-09-14\", \"2020-09-15\", \"2020-09-16\", \"2020-09-17\", \"2020-09-18\", \"2020-09-19\", \"2020-09-20\", \"2020-09-21\", \"2020-09-22\", \"2020-09-23\", \"2020-09-24\", \"2020-09-25\", \"2020-09-26\", \"2020-09-27\", \"2020-09-28\", \"2020-09-29\", \"2020-09-30\", \"2020-10-01\", \"2020-10-02\", \"2020-10-03\", \"2020-10-04\", \"2020-10-05\", \"2020-10-06\", \"2020-10-07\", \"2020-10-08\", \"2020-10-09\", \"2020-10-10\", \"2020-10-11\", \"2020-10-12\", \"2020-10-13\", \"2020-10-14\", \"2020-10-15\", \"2020-10-16\", \"2020-10-17\", \"2020-10-18\", \"2020-10-19\", \"2020-10-20\", \"2020-10-21\", \"2020-10-22\", \"2020-10-23\", \"2020-10-24\", \"2020-10-25\", \"2020-10-26\", \"2020-10-27\", \"2020-10-28\", \"2020-10-29\", \"2020-10-30\", \"2020-10-31\", \"2020-11-01\", \"2020-11-02\", \"2020-11-03\", \"2020-11-04\", \"2020-11-05\"], \"y\": [null, null, null, null, null, null, null, null, null, null, null, null, null, null, null, null, null, null, null, null, null, null, null, null, null, null, null, null, null, null, null, null, null, null, null, 0.0, 0.0, 0.0, 0.0, 0.0, 0.0, 0.0, 0.0, 0.0, 0.0, 0.0, 0.0, 0.0, 0.0, 0.0, 0.0, 0.0, 0.0, 0.0, 0.0, 0.0, 0.3436426116838488, 0.9345794392523363, 0.966183574879227, 1.2168141592920354, 1.5957446808510638, 1.6170763260025873, 1.7979904812268643, 2.0899591094956835, 2.342786683107275, 2.6415094339622645, 2.692420251682763, 2.920081967213115, 3.195488721804511, 3.4723738807599913, 3.5158299807591393, 3.5254534815681686, 3.7800252844500637, 3.964222614840989, 4.203152364273205, 4.366576819407008, 4.586927670869277, 4.862579281183932, 5.0229170590820615, 5.269642157137257, 5.377329666972197, 5.422878371206639, 5.51671252650097, 5.66794707639778, 6.064444620378434, 6.129943502824859, 6.323746918652424, 6.356510896027552, 6.412743517582448, 6.369327883272106, 6.345334023311403, 6.362728939854685, 6.350940839652949, 6.6940111533177085, 6.925181620907633, 6.863901280144935, 6.7945320579110655, 6.831476218402731, 6.979105806415714, 6.993168035618331, 6.911454673225579, 6.910218476017863, 6.990544641100261, 6.945336984784521, 6.792540359992577, 6.904938325415159, 6.816911306681147, 6.7694995040930825, 6.810112297698997, 6.814844266027101, 6.836550931474686, 6.843065151398138, 6.982414451345523, 6.9581000560923725, 6.895888979784938, 6.78984341705503, 6.705355534395347, 6.685747469719596, 6.605302493902919, 6.616033693139147, 6.467886919153985, 6.46495983385308, 6.361026322947202, 6.336536191918203, 6.240449766113912, 6.261169704826379, 6.265496316669308, 6.215807353194713, 6.104901902619124, 5.993129334474145, 5.784848728031458, 5.6937082523225255, 5.686612327546743, 5.617564815631735, 5.573134982603216, 5.532481640246401, 5.423979732471096, 5.34007493642591, 5.269906528005459, 5.249274821461892, 5.1934880588719725, 5.137128179633772, 5.096857608354467, 5.046753779515209, 5.022845009018076, 4.994329340820448, 4.948827553753303, 4.900513329339929, 4.86823526210072, 4.881499823134065, 4.739411741356727, 4.681246071719283, 4.664997907907373, 4.6337451535061955, 4.594181372643131, 4.5287393648659675, 4.476050268948974, 4.389187544216588, 4.344327748204073, 4.286895069944195, 4.262111760385033, 4.250517638214575, 4.185116441519017, 4.134259896396318, 4.10465725975436, 4.075132339550185, 4.046461287978267, 4.034229376991334, 3.9998465769581366, 3.967171776132994, 3.940359236555398, 3.9092039379685, 3.884501453922874, 3.866613109695439, 3.863887272297075, 3.8474193802859005, 3.832011015137679, 3.811244782324984, 3.8044243151635513, 3.7964971130582303, 3.78804883174664, 3.7816605511255776, 3.77315069913977, 3.715846454837096, 3.6757560191914664, 3.6374172877817634, 3.6102957052227325, 3.596557549922678, 3.5874097957930293, 3.565533219152292, 3.5315298372230157, 3.496530020665859, 3.4732590042760805, 3.455216023475217, 3.442396449909774, 3.441965619975581, 3.419760942581893, 3.401662007231015, 3.382068338431406, 3.361145973490789, 3.335433532996151, 3.328993464500159, 3.3279803236008854, 3.313127285239723, 3.2925143414165574, 3.2702962842602323, 3.25209432395467, 3.2327071631330537, 3.2289113486420113, 3.23065154171516, 3.225024461796456, 3.214092711675922, 3.2068761199037685, 3.2091565623823373, 3.189236598646368, 3.18222144815703, 3.1828160119861075, 3.17657108524671, 3.1654576778590946, 3.154391553550269, 3.1408722081011815, 3.1320126890427917, 3.1283860880182877, 3.1057459665038665, 3.1029648455009715, 3.0961525714350033, 3.083254858549924, 3.0668495555155943, 3.0609507640067912, 3.061011654079822, 3.0609041818373814, 3.062512358625137, 3.0619913961517327, 3.0558841613176146, 3.0450958907692467, 3.0403038959961646, 3.0395189420049396, 3.0376863087115504, 3.0376771088362338, 3.034701995866563, 3.0285815864214682, 3.0208558806170958, 3.015122873345936, 3.0122370824989235, 3.011626855939841, 3.0078377839203903, 3.004982826600013, 3.0016518875617204, 2.996771801852306, 2.997165530837172, 2.9951763504876796, 2.9935534228054412, 2.991529918648203, 2.9921834321187046, 2.9848824821150495, 2.978943035408295, 2.9751776757024335, 2.977485148889516, 2.9768216859963044, 2.9681991313991696, 2.9641485761776267, 2.9622881352561548, 2.9596976831765263, 2.9551195570330915, 2.9536512592193653, 2.9527131673579694, 2.9528546073355355, 2.9517806640636017, 2.949286433630609, 2.946253100782647, 2.9415074989060863, 2.939730416950634, 2.9362791095404503, 2.935880745262473, 2.932811602386364, 2.9284529540933537, 2.9226943232811373, 2.9160684566041, 2.913056568179324, 2.90945005170195, 2.903610734605464, 2.897735481239953, 2.8933039893884223, 2.890826293745235, 2.8882841170928923, 2.886449964431934, 2.8852548861169356, 2.8834816222422766, 2.882026466786821]}],\n",
              "                        {\"template\": {\"data\": {\"bar\": [{\"error_x\": {\"color\": \"#2a3f5f\"}, \"error_y\": {\"color\": \"#2a3f5f\"}, \"marker\": {\"line\": {\"color\": \"#E5ECF6\", \"width\": 0.5}}, \"type\": \"bar\"}], \"barpolar\": [{\"marker\": {\"line\": {\"color\": \"#E5ECF6\", \"width\": 0.5}}, \"type\": \"barpolar\"}], \"carpet\": [{\"aaxis\": {\"endlinecolor\": \"#2a3f5f\", \"gridcolor\": \"white\", \"linecolor\": \"white\", \"minorgridcolor\": \"white\", \"startlinecolor\": \"#2a3f5f\"}, \"baxis\": {\"endlinecolor\": \"#2a3f5f\", \"gridcolor\": \"white\", \"linecolor\": \"white\", \"minorgridcolor\": \"white\", \"startlinecolor\": \"#2a3f5f\"}, \"type\": \"carpet\"}], \"choropleth\": [{\"colorbar\": {\"outlinewidth\": 0, \"ticks\": \"\"}, \"type\": \"choropleth\"}], \"contour\": [{\"colorbar\": {\"outlinewidth\": 0, \"ticks\": \"\"}, \"colorscale\": [[0.0, \"#0d0887\"], [0.1111111111111111, \"#46039f\"], [0.2222222222222222, \"#7201a8\"], [0.3333333333333333, \"#9c179e\"], [0.4444444444444444, \"#bd3786\"], [0.5555555555555556, \"#d8576b\"], [0.6666666666666666, \"#ed7953\"], [0.7777777777777778, \"#fb9f3a\"], [0.8888888888888888, \"#fdca26\"], [1.0, \"#f0f921\"]], \"type\": \"contour\"}], \"contourcarpet\": [{\"colorbar\": {\"outlinewidth\": 0, \"ticks\": \"\"}, \"type\": \"contourcarpet\"}], \"heatmap\": [{\"colorbar\": {\"outlinewidth\": 0, \"ticks\": \"\"}, \"colorscale\": [[0.0, \"#0d0887\"], [0.1111111111111111, \"#46039f\"], [0.2222222222222222, \"#7201a8\"], [0.3333333333333333, \"#9c179e\"], [0.4444444444444444, \"#bd3786\"], [0.5555555555555556, \"#d8576b\"], [0.6666666666666666, \"#ed7953\"], [0.7777777777777778, \"#fb9f3a\"], [0.8888888888888888, \"#fdca26\"], [1.0, \"#f0f921\"]], \"type\": \"heatmap\"}], \"heatmapgl\": [{\"colorbar\": {\"outlinewidth\": 0, \"ticks\": \"\"}, \"colorscale\": [[0.0, \"#0d0887\"], [0.1111111111111111, \"#46039f\"], [0.2222222222222222, \"#7201a8\"], [0.3333333333333333, \"#9c179e\"], [0.4444444444444444, \"#bd3786\"], [0.5555555555555556, \"#d8576b\"], [0.6666666666666666, \"#ed7953\"], [0.7777777777777778, \"#fb9f3a\"], [0.8888888888888888, \"#fdca26\"], [1.0, \"#f0f921\"]], \"type\": \"heatmapgl\"}], \"histogram\": [{\"marker\": {\"colorbar\": {\"outlinewidth\": 0, \"ticks\": \"\"}}, \"type\": \"histogram\"}], \"histogram2d\": [{\"colorbar\": {\"outlinewidth\": 0, \"ticks\": \"\"}, \"colorscale\": [[0.0, \"#0d0887\"], [0.1111111111111111, \"#46039f\"], [0.2222222222222222, \"#7201a8\"], [0.3333333333333333, \"#9c179e\"], [0.4444444444444444, \"#bd3786\"], [0.5555555555555556, \"#d8576b\"], [0.6666666666666666, \"#ed7953\"], [0.7777777777777778, \"#fb9f3a\"], [0.8888888888888888, \"#fdca26\"], [1.0, \"#f0f921\"]], \"type\": \"histogram2d\"}], \"histogram2dcontour\": [{\"colorbar\": {\"outlinewidth\": 0, \"ticks\": \"\"}, \"colorscale\": [[0.0, \"#0d0887\"], [0.1111111111111111, \"#46039f\"], [0.2222222222222222, \"#7201a8\"], [0.3333333333333333, \"#9c179e\"], [0.4444444444444444, \"#bd3786\"], [0.5555555555555556, \"#d8576b\"], [0.6666666666666666, \"#ed7953\"], [0.7777777777777778, \"#fb9f3a\"], [0.8888888888888888, \"#fdca26\"], [1.0, \"#f0f921\"]], \"type\": \"histogram2dcontour\"}], \"mesh3d\": [{\"colorbar\": {\"outlinewidth\": 0, \"ticks\": \"\"}, \"type\": \"mesh3d\"}], \"parcoords\": [{\"line\": {\"colorbar\": {\"outlinewidth\": 0, \"ticks\": \"\"}}, \"type\": \"parcoords\"}], \"pie\": [{\"automargin\": true, \"type\": \"pie\"}], \"scatter\": [{\"marker\": {\"colorbar\": {\"outlinewidth\": 0, \"ticks\": \"\"}}, \"type\": \"scatter\"}], \"scatter3d\": [{\"line\": {\"colorbar\": {\"outlinewidth\": 0, \"ticks\": \"\"}}, \"marker\": {\"colorbar\": {\"outlinewidth\": 0, \"ticks\": \"\"}}, \"type\": \"scatter3d\"}], \"scattercarpet\": [{\"marker\": {\"colorbar\": {\"outlinewidth\": 0, \"ticks\": \"\"}}, \"type\": \"scattercarpet\"}], \"scattergeo\": [{\"marker\": {\"colorbar\": {\"outlinewidth\": 0, \"ticks\": \"\"}}, \"type\": \"scattergeo\"}], \"scattergl\": [{\"marker\": {\"colorbar\": {\"outlinewidth\": 0, \"ticks\": \"\"}}, \"type\": \"scattergl\"}], \"scattermapbox\": [{\"marker\": {\"colorbar\": {\"outlinewidth\": 0, \"ticks\": \"\"}}, \"type\": \"scattermapbox\"}], \"scatterpolar\": [{\"marker\": {\"colorbar\": {\"outlinewidth\": 0, \"ticks\": \"\"}}, \"type\": \"scatterpolar\"}], \"scatterpolargl\": [{\"marker\": {\"colorbar\": {\"outlinewidth\": 0, \"ticks\": \"\"}}, \"type\": \"scatterpolargl\"}], \"scatterternary\": [{\"marker\": {\"colorbar\": {\"outlinewidth\": 0, \"ticks\": \"\"}}, \"type\": \"scatterternary\"}], \"surface\": [{\"colorbar\": {\"outlinewidth\": 0, \"ticks\": \"\"}, \"colorscale\": [[0.0, \"#0d0887\"], [0.1111111111111111, \"#46039f\"], [0.2222222222222222, \"#7201a8\"], [0.3333333333333333, \"#9c179e\"], [0.4444444444444444, \"#bd3786\"], [0.5555555555555556, \"#d8576b\"], [0.6666666666666666, \"#ed7953\"], [0.7777777777777778, \"#fb9f3a\"], [0.8888888888888888, \"#fdca26\"], [1.0, \"#f0f921\"]], \"type\": \"surface\"}], \"table\": [{\"cells\": {\"fill\": {\"color\": \"#EBF0F8\"}, \"line\": {\"color\": \"white\"}}, \"header\": {\"fill\": {\"color\": \"#C8D4E3\"}, \"line\": {\"color\": \"white\"}}, \"type\": \"table\"}]}, \"layout\": {\"annotationdefaults\": {\"arrowcolor\": \"#2a3f5f\", \"arrowhead\": 0, \"arrowwidth\": 1}, \"coloraxis\": {\"colorbar\": {\"outlinewidth\": 0, \"ticks\": \"\"}}, \"colorscale\": {\"diverging\": [[0, \"#8e0152\"], [0.1, \"#c51b7d\"], [0.2, \"#de77ae\"], [0.3, \"#f1b6da\"], [0.4, \"#fde0ef\"], [0.5, \"#f7f7f7\"], [0.6, \"#e6f5d0\"], [0.7, \"#b8e186\"], [0.8, \"#7fbc41\"], [0.9, \"#4d9221\"], [1, \"#276419\"]], \"sequential\": [[0.0, \"#0d0887\"], [0.1111111111111111, \"#46039f\"], [0.2222222222222222, \"#7201a8\"], [0.3333333333333333, \"#9c179e\"], [0.4444444444444444, \"#bd3786\"], [0.5555555555555556, \"#d8576b\"], [0.6666666666666666, \"#ed7953\"], [0.7777777777777778, \"#fb9f3a\"], [0.8888888888888888, \"#fdca26\"], [1.0, \"#f0f921\"]], \"sequentialminus\": [[0.0, \"#0d0887\"], [0.1111111111111111, \"#46039f\"], [0.2222222222222222, \"#7201a8\"], [0.3333333333333333, \"#9c179e\"], [0.4444444444444444, \"#bd3786\"], [0.5555555555555556, \"#d8576b\"], [0.6666666666666666, \"#ed7953\"], [0.7777777777777778, \"#fb9f3a\"], [0.8888888888888888, \"#fdca26\"], [1.0, \"#f0f921\"]]}, \"colorway\": [\"#636efa\", \"#EF553B\", \"#00cc96\", \"#ab63fa\", \"#FFA15A\", \"#19d3f3\", \"#FF6692\", \"#B6E880\", \"#FF97FF\", \"#FECB52\"], \"font\": {\"color\": \"#2a3f5f\"}, \"geo\": {\"bgcolor\": \"white\", \"lakecolor\": \"white\", \"landcolor\": \"#E5ECF6\", \"showlakes\": true, \"showland\": true, \"subunitcolor\": \"white\"}, \"hoverlabel\": {\"align\": \"left\"}, \"hovermode\": \"closest\", \"mapbox\": {\"style\": \"light\"}, \"paper_bgcolor\": \"white\", \"plot_bgcolor\": \"#E5ECF6\", \"polar\": {\"angularaxis\": {\"gridcolor\": \"white\", \"linecolor\": \"white\", \"ticks\": \"\"}, \"bgcolor\": \"#E5ECF6\", \"radialaxis\": {\"gridcolor\": \"white\", \"linecolor\": \"white\", \"ticks\": \"\"}}, \"scene\": {\"xaxis\": {\"backgroundcolor\": \"#E5ECF6\", \"gridcolor\": \"white\", \"gridwidth\": 2, \"linecolor\": \"white\", \"showbackground\": true, \"ticks\": \"\", \"zerolinecolor\": \"white\"}, \"yaxis\": {\"backgroundcolor\": \"#E5ECF6\", \"gridcolor\": \"white\", \"gridwidth\": 2, \"linecolor\": \"white\", \"showbackground\": true, \"ticks\": \"\", \"zerolinecolor\": \"white\"}, \"zaxis\": {\"backgroundcolor\": \"#E5ECF6\", \"gridcolor\": \"white\", \"gridwidth\": 2, \"linecolor\": \"white\", \"showbackground\": true, \"ticks\": \"\", \"zerolinecolor\": \"white\"}}, \"shapedefaults\": {\"line\": {\"color\": \"#2a3f5f\"}}, \"ternary\": {\"aaxis\": {\"gridcolor\": \"white\", \"linecolor\": \"white\", \"ticks\": \"\"}, \"baxis\": {\"gridcolor\": \"white\", \"linecolor\": \"white\", \"ticks\": \"\"}, \"bgcolor\": \"#E5ECF6\", \"caxis\": {\"gridcolor\": \"white\", \"linecolor\": \"white\", \"ticks\": \"\"}}, \"title\": {\"x\": 0.05}, \"xaxis\": {\"automargin\": true, \"gridcolor\": \"white\", \"linecolor\": \"white\", \"ticks\": \"\", \"title\": {\"standoff\": 15}, \"zerolinecolor\": \"white\", \"zerolinewidth\": 2}, \"yaxis\": {\"automargin\": true, \"gridcolor\": \"white\", \"linecolor\": \"white\", \"ticks\": \"\", \"title\": {\"standoff\": 15}, \"zerolinecolor\": \"white\", \"zerolinewidth\": 2}}}, \"title\": {\"text\": \"New daily CFR for each country\", \"x\": 0.5, \"xanchor\": \"center\", \"y\": 0.95, \"yanchor\": \"top\"}, \"xaxis\": {\"tickangle\": -70, \"title\": {\"text\": \"Date\"}}, \"yaxis\": {\"title\": {\"text\": \"Percentage(%)\"}}},\n",
              "                        {\"responsive\": true}\n",
              "                    ).then(function(){\n",
              "                            \n",
              "var gd = document.getElementById('566c590c-d00e-4e33-b0d1-e94b607a67a6');\n",
              "var x = new MutationObserver(function (mutations, observer) {{\n",
              "        var display = window.getComputedStyle(gd).display;\n",
              "        if (!display || display === 'none') {{\n",
              "            console.log([gd, 'removed!']);\n",
              "            Plotly.purge(gd);\n",
              "            observer.disconnect();\n",
              "        }}\n",
              "}});\n",
              "\n",
              "// Listen for the removal of the full notebook cells\n",
              "var notebookContainer = gd.closest('#notebook-container');\n",
              "if (notebookContainer) {{\n",
              "    x.observe(notebookContainer, {childList: true});\n",
              "}}\n",
              "\n",
              "// Listen for the clearing of the current output cell\n",
              "var outputEl = gd.closest('.output');\n",
              "if (outputEl) {{\n",
              "    x.observe(outputEl, {childList: true});\n",
              "}}\n",
              "\n",
              "                        })\n",
              "                };\n",
              "                \n",
              "            </script>\n",
              "        </div>\n",
              "</body>\n",
              "</html>"
            ]
          },
          "metadata": {
            "tags": []
          }
        }
      ]
    },
    {
      "cell_type": "markdown",
      "metadata": {
        "id": "Y-AKeBqKQWqa"
      },
      "source": [
        "We can see from the above graph that whatever CFR changes on the left hand side of the graph, it becomes stable by the right hand side of the graph. And to the right hand side, the CFR lines for all countries are in a range. The interval here is the mean and uncertainty calculated above (2.4203168066922207 ± 0.9). This means that the values calculated above are correct, and that for countries other than these six, their CFR should also be in this interval."
      ]
    }
  ]
}